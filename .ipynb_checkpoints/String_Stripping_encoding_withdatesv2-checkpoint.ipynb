{
 "cells": [
  {
   "cell_type": "code",
   "execution_count": 1,
   "id": "9328a753",
   "metadata": {},
   "outputs": [],
   "source": [
    "import numpy as np\n",
    "import pandas as pd\n",
    "import matplotlib.pyplot as plt\n",
    "import Peak_fits as pf\n"
   ]
  },
  {
   "cell_type": "markdown",
   "id": "01bd29c4",
   "metadata": {},
   "source": [
    "## Add folder here\n",
    "- if you are on a mac, you might have to change the file path slightly, I think you use slashes the other way maybe? "
   ]
  },
  {
   "cell_type": "code",
   "execution_count": 8,
   "id": "3799aaf7",
   "metadata": {},
   "outputs": [],
   "source": [
    "path=r'C:\\Users\\penny\\OneDrive - Oregon State University\\Postdoc\\MeltInclusion_SampleStuff\\Raman\\Day16\\METADATA'\n",
    "All_files=pf.get_all_txt_files(path)\n",
    "#All_files"
   ]
  },
  {
   "cell_type": "markdown",
   "id": "30ee6963",
   "metadata": {},
   "source": [
    "## These are the functions doing the work. Just run this cell!"
   ]
  },
  {
   "cell_type": "code",
   "execution_count": 9,
   "id": "d5d8cbeb",
   "metadata": {},
   "outputs": [
    {
     "name": "stdout",
     "output_type": "stream",
     "text": [
      "working on file01 MS14_5_MI1_zscan.txt\n",
      "working on file02 PIC_MS14_5_MI1_H2O_100X.txt\n",
      "working on file03 MS14_5_MI1_H2OQuant_100X.txt\n",
      "working on file04 MS14_5_MI1_OlQuant_100X.txt\n",
      "working on file05 MS14_5_MI2_H2OQuant_100X.txt\n",
      "working on file06 PIC_MS14_5_MI2_H2OQuant_100X.txt\n",
      "working on file07 MS14_5_MI2_OlQuant_100X.txt\n",
      "working on file08 MW8_MI1_H2O_Quant_50X.txt\n",
      "working on file09 PIC_MW8_MI1_H2O_Quant_50X.txt\n",
      "working on file10 PP13_MI1_H2OQuant.txt\n",
      "working on file11 PP13_MI1_OlQuant.txt\n",
      "working on file12 NS9_MI3_plagSpectra_line.txt\n",
      "working on file13 NS9_MI4_zscan.txt\n",
      "working on file14 NS9_MI4_H2O_Quant.txt\n",
      "working on file15 NS9_MI4_Ol_Quant.txt\n",
      "working on file16 PIC_NS9_MI4_H2O_Quant.txt\n",
      "working on file17 MS14_8_MI1_H2Ozscan.txt\n",
      "working on file18 PIC_MS14_8_MI1_H2O.txt\n",
      "working on file19 MS14_8_MI1_H2OQuant.txt\n",
      "working on file20 MS14_8_MI1_OlQuant.txt\n",
      "working on file21 MS14_8_MI2_H2Ozscan.txt\n",
      "working on file22 MS14_8_MI2_H2OQuant.txt\n",
      "working on file23 PIC_MS14_8_MI2_H2OQuant.txt\n",
      "working on file24 MS14_11_MI1_zscan.txt\n",
      "working on file25 MS14_11_MI1_H2OQuant.txt\n",
      "working on file26 PIC_MS14_11_MI1_H2OQuant.txt\n",
      "working on file27 MS14_11_MI1_Ol.txt\n",
      "working on file28 MS14_11_MI2_zscan.txt\n",
      "working on file29 MS14_11_MI2_H2OQuant.txt\n",
      "working on file30 MS14_11_MI2_Ol.txt\n",
      "working on file31 PIC_MS14_11_MI2_H2OQuant_50X.txt\n",
      "working on file32 MS14_7_MI1_zscan.txt\n",
      "working on file33 MS14_7_MI1_H2OQuant.txt\n",
      "working on file34 PIC_MS14_7_MI1_H2OQuant.txt\n",
      "working on file35 PIC_MS14_7_MI1_Ol.txt\n",
      "working on file36 MS14_12_MI1_zscan.txt\n",
      "working on file37 MS14_12_MI1_H2OQuant.txt\n",
      "working on file38 PIC_MS14_12_MI1_H2OQuant.txt\n",
      "working on file39 PIC_MS14_12_MI1_Ol.txt\n",
      "working on file40 NS30_MI5_H2Ozscan.txt\n",
      "working on file41 NS30_MI5_H2OQuant.txt\n",
      "working on file42 NS30_MI5_Ol.txt\n",
      "working on file43 NS30_MI6_H2Ozscan.txt\n",
      "working on file44 NS30_MI6_H2OQuant.txt\n",
      "working on file45 NS30_MI6_Ol.txt\n",
      "working on file46 PIC_NS30_MI6_H2OQuant.txt\n",
      "working on file47 MW9_MI1_zscan.txt\n",
      "working on file48 MW9_MI1_QuantH2O.txt\n",
      "working on file49 MW9_MI1_QuantH2O_PIC.txt\n",
      "working on file50 MW9_MI1_Ol.txt\n",
      "Done\n"
     ]
    }
   ],
   "source": [
    "df_stitch=pf.stitch_in_loop(Allfiles=All_files, path=path, prefix=False)\n",
    "df_stitch.to_excel(path+'/'+ 'times.xlsx')"
   ]
  },
  {
   "cell_type": "code",
   "execution_count": null,
   "id": "cd068d5d-07b9-436f-8ef7-1ab813eec7ae",
   "metadata": {},
   "outputs": [],
   "source": []
  }
 ],
 "metadata": {
  "kernelspec": {
   "display_name": "Python 3 (ipykernel)",
   "language": "python",
   "name": "python3"
  },
  "language_info": {
   "codemirror_mode": {
    "name": "ipython",
    "version": 3
   },
   "file_extension": ".py",
   "mimetype": "text/x-python",
   "name": "python",
   "nbconvert_exporter": "python",
   "pygments_lexer": "ipython3",
   "version": "3.8.12"
  }
 },
 "nbformat": 4,
 "nbformat_minor": 5
}
