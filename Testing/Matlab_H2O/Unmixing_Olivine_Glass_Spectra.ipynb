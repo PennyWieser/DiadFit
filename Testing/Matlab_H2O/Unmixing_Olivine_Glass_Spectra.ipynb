{
 "cells": [
  {
   "cell_type": "code",
   "execution_count": 1,
   "id": "0b003eb4-6185-4442-85cd-4e4fd331e8e0",
   "metadata": {},
   "outputs": [],
   "source": [
    "import numpy as np\n",
    "import pandas as pd\n",
    "import matplotlib.pyplot as plt\n",
    "import DiadFit as pf\n",
    "from scipy.interpolate import interp1d"
   ]
  },
  {
   "cell_type": "code",
   "execution_count": 2,
   "id": "4624bb47-20c5-4385-874d-66275ed3e4cf",
   "metadata": {},
   "outputs": [],
   "source": [
    "path=r'G:\\My Drive\\Berkeley_NEW\\DiadFit_outer\\Testing\\Matlab_H2O'"
   ]
  },
  {
   "cell_type": "code",
   "execution_count": null,
   "id": "79e8a60d-d0d0-4699-a614-d619a6dfadfe",
   "metadata": {},
   "outputs": [],
   "source": []
  },
  {
   "cell_type": "code",
   "execution_count": 3,
   "id": "a607d6c8-670d-432e-8608-8826c85e1cb5",
   "metadata": {},
   "outputs": [
    {
     "name": "stdout",
     "output_type": "stream",
     "text": [
      "03 BL1_MI1_H2O_quant.txt\n",
      "04 BL1_MI1_Ol_quant.txt\n"
     ]
    }
   ],
   "source": [
    "MI=pf.get_data(path=path, filename='03 BL1_MI1_H2O_quant.txt',\n",
    "                  filetype='Witec_ASCII')\n",
    "Ol=pf.get_data(path=path, filename='04 BL1_MI1_Ol_quant.txt',\n",
    "                  filetype='Witec_ASCII')\n",
    "\n",
    "# Trim to region of interest\n",
    "x_min=800\n",
    "x_max=900\n",
    "Filt_Ol=Ol[~(\n",
    "    (Ol[:, 0]<x_min) | \n",
    "    (Ol[:, 0]>x_max)\n",
    ")]\n",
    "Filt_MI=MI[~(\n",
    "    (MI[:, 0]<x_min) | \n",
    "    (MI[:, 0]>x_max)\n",
    ")]\n",
    "\n",
    "# Fit spline to data\n",
    "\n",
    "x_MI=Filt_MI[:, 0]\n",
    "x_Ol=Filt_Ol[:, 0]\n",
    "\n",
    "y_MI=Filt_MI[:, 1]\n",
    "y_Ol=Filt_Ol[:, 1]\n",
    "\n",
    "\n",
    "# Fit a  cubic spline\n",
    "f2_MI = interp1d(x_MI, y_MI, kind='cubic')\n",
    "f2_Ol = interp1d(x_Ol, y_Ol, kind='cubic')\n",
    "\n",
    "x_new=np.linspace(min(x_Ol),max(x_Ol), 100000)\n",
    "\n",
    "y_cub_MI=f2_MI(x_new)\n",
    "y_cub_Ol=f2_Ol(x_new)"
   ]
  },
  {
   "cell_type": "code",
   "execution_count": 4,
   "id": "e87a71cd-4d40-46fc-a497-5663f0725c07",
   "metadata": {},
   "outputs": [
    {
     "data": {
      "text/plain": [
       "(500.0, 1500.0)"
      ]
     },
     "execution_count": 4,
     "metadata": {},
     "output_type": "execute_result"
    },
    {
     "data": {
      "image/png": "[encoded data removed]",
      "text/plain": [
       "<Figure size 432x288 with 1 Axes>"
      ]
     },
     "metadata": {
      "needs_background": "light"
     },
     "output_type": "display_data"
    }
   ],
   "source": [
    "plt.plot(MI[:, 0], MI[:, 1], '-r')\n",
    "plt.plot(Ol[:, 0], Ol[:, 1], '-b')\n",
    "plt.xlim([500, 1500])"
   ]
  },
  {
   "cell_type": "code",
   "execution_count": 5,
   "id": "a97eec23-18c6-4270-bcd2-7eab4e67d943",
   "metadata": {},
   "outputs": [
    {
     "data": {
      "text/plain": [
       "(700.0, 1100.0)"
      ]
     },
     "execution_count": 5,
     "metadata": {},
     "output_type": "execute_result"
    },
    {
     "data": {
      "image/png": "[encoded data removed]",
      "text/plain": [
       "<Figure size 432x288 with 1 Axes>"
      ]
     },
     "metadata": {
      "needs_background": "light"
     },
     "output_type": "display_data"
    }
   ],
   "source": [
    "plt.plot(Filt_MI[:, 0], Filt_MI[:, 1], '+k')\n",
    "plt.plot(Filt_Ol[:, 0], Filt_Ol[:, 1], '+g')\n",
    "plt.plot(x_new, y_cub_MI, '-k')\n",
    "plt.plot(x_new, y_cub_Ol, '-g')\n",
    "plt.xlim([700, 1100])"
   ]
  },
  {
   "cell_type": "markdown",
   "id": "7ce236ad-71d7-44f6-ba23-7deac413b709",
   "metadata": {},
   "source": [
    "# Options for algorithm\n",
    "- Do an intergral after background subtraction, minimise area under peaks. Problem - Where do you put the background?\n",
    "- Use Find peaks to find peaks in olivine, find those same peaks in the mixed spectra for different X. Differentiate around these points, if positive, still have a peak, if negative, have a trough. "
   ]
  },
  {
   "cell_type": "code",
   "execution_count": 6,
   "id": "eb04708e-dc1d-4089-984e-885d38d6f52f",
   "metadata": {},
   "outputs": [
    {
     "data": {
      "text/plain": [
       "array([826.39506985, 857.54945747])"
      ]
     },
     "execution_count": 6,
     "metadata": {},
     "output_type": "execute_result"
    }
   ],
   "source": [
    "from scipy.signal import find_peaks\n",
    "height=1\n",
    "peaks_Ol = find_peaks(y_cub_Ol, height)\n",
    "peak_height_Ol=peaks_Ol[1]['peak_heights']\n",
    "peak_pos_Ol = x_new[peaks_Ol[0]]\n",
    "peak_pos_Ol"
   ]
  },
  {
   "cell_type": "code",
   "execution_count": 7,
   "id": "0a756e04-2c7f-4a02-800a-968bb3aa1323",
   "metadata": {},
   "outputs": [
    {
     "data": {
      "text/plain": [
       "array([838.4866177])"
      ]
     },
     "execution_count": 7,
     "metadata": {},
     "output_type": "execute_result"
    }
   ],
   "source": [
    "trim_y_cub_Ol=y_cub_Ol[(x_new>(peak_pos_Ol[0]+3)) & (x_new<(peak_pos_Ol[1]-3))]\n",
    "trim_x=x_new[(x_new>(peak_pos_Ol[0]+3)) & (x_new<(peak_pos_Ol[1]-3))]\n",
    "\n",
    "max_trough_y=np.max(-trim_y_cub_Ol)\n",
    "max_trough_x=trim_x[trim_y_cub_Ol==-max_trough_y]\n",
    "max_trough_x"
   ]
  },
  {
   "cell_type": "code",
   "execution_count": 8,
   "id": "6227ff07-73ef-4cf1-9e47-3c35d48e9f65",
   "metadata": {},
   "outputs": [],
   "source": [
    "spectra_x=x_new\n",
    "peak_pos=peak_pos_Ol\n",
    "spectra_y=y_cub_MI\n",
    "\n",
    "peak1_x=peak_pos[0]\n",
    "peak2_x=peak_pos[1]\n",
    "\n",
    "peak1_y=spectra_y[spectra_x==peak1_x]\n",
    "peak2_y=spectra_y[spectra_x==peak2_x]"
   ]
  },
  {
   "cell_type": "code",
   "execution_count": 9,
   "id": "26f20eb6-bfaa-401d-b05b-825c9415760a",
   "metadata": {},
   "outputs": [
    {
     "data": {
      "text/plain": [
       "array([2256.11849079])"
      ]
     },
     "execution_count": 9,
     "metadata": {},
     "output_type": "execute_result"
    }
   ],
   "source": [
    "peak1_y"
   ]
  },
  {
   "cell_type": "code",
   "execution_count": 10,
   "id": "ba1985a8-2555-49ef-88d9-32a78a7ffc42",
   "metadata": {
    "scrolled": true,
    "tags": []
   },
   "outputs": [],
   "source": [
    "## Lets write a function that fits a line through the peaks, \n",
    "# and sees if the trough is above or below\n",
    "#Filt_MI\n",
    "def trough_or_peak_higher(spectra_x, spectra_y, peak_pos_x, \n",
    "                          trough_pos_x, av_width=1, plot=False,\n",
    "                         print=False):\n",
    "    \n",
    "    peak1_xex=peak_pos[0]\n",
    "    peak2_xex=peak_pos[1]\n",
    "    \n",
    "    # Takes average av_width to either side of peak\n",
    "    peak1_y=spectra_y[(spectra_x>peak1_xex-av_width)\n",
    "                     &(spectra_x<peak1_xex+av_width)]\n",
    "    peak2_y=spectra_y[(spectra_x>peak2_xex-av_width)\n",
    "                     &(spectra_x<peak2_xex+av_width)]\n",
    "    \n",
    "    peak1_x=spectra_x[(spectra_x>peak1_xex-av_width)\n",
    "                     &(spectra_x<peak1_xex+av_width)]\n",
    "    peak2_x=spectra_x[(spectra_x>peak2_xex-av_width)\n",
    "                     &(spectra_x<peak2_xex+av_width)]\n",
    "    \n",
    "    \n",
    "    trough_y=spectra_y[(spectra_x>trough_pos_x-av_width)\n",
    "                     &(spectra_x<trough_pos_x+av_width)]\n",
    "    \n",
    "    trough_x=spectra_x[(spectra_x>trough_pos_x-av_width)\n",
    "                     &(spectra_x<trough_pos_x+av_width)]\n",
    "    \n",
    "    \n",
    "\n",
    "    x=np.concatenate((peak1_x, peak2_x), axis=0)\n",
    "    \n",
    "    y=np.concatenate((peak1_y, peak2_y), axis=0)\n",
    "    \n",
    "    Px = np.linspace(peak1_x, peak2_x, 101)\n",
    "\n",
    "    import scipy\n",
    "    from scipy import stats\n",
    "    slope, intercept, r_value, p_value, std_err = stats.linregress(x, y)\n",
    "    Py=slope*Px+intercept\n",
    "    Pred_trough=slope*np.nanmean(trough_x)+intercept\n",
    "    \n",
    "    if print is True:\n",
    "        if np.nanmean(trough_y)>np.nanmean(Pred_trough):\n",
    "            print('Trough higher than peaks, subtracted too much')\n",
    "\n",
    "        if np.nanmean(trough_y)<np.nanmean(Pred_trough):\n",
    "            print('Trough lower than peaks, not subtracted enough')\n",
    "    Dist=np.nanmean(trough_y)-np.nanmean(Pred_trough)\n",
    "    #Py=lr.predict(Px)\n",
    "    if plot is True:\n",
    "        plt.plot(peak1_x, peak1_y, '+m')\n",
    "        plt.plot(peak2_x, peak2_y, '+m')\n",
    "        plt.plot(trough_x, trough_y, '+g')\n",
    "\n",
    "        plt.plot(Px, Py, '-r')\n",
    "        plt.plot(trough_pos_x, Pred_trough, '*k', ms=10)\n",
    "        plt.plot(spectra_x, spectra_y, '-k')\n",
    "    return Dist\n",
    "    "
   ]
  },
  {
   "cell_type": "code",
   "execution_count": 11,
   "id": "dc0c7581-fe14-4668-b7c2-33647b3b5e11",
   "metadata": {},
   "outputs": [
    {
     "data": {
      "text/plain": [
       "-417.09794227861676"
      ]
     },
     "execution_count": 11,
     "metadata": {},
     "output_type": "execute_result"
    }
   ],
   "source": [
    "spectra_x=x_new\n",
    "peak_pos=peak_pos_Ol\n",
    "spectra_y=y_cub_MI\n",
    "\n",
    "Dist=trough_or_peak_higher(spectra_x=x_new,\n",
    "                      spectra_y=y_cub_MI,\n",
    "                      peak_pos_x=peak_pos_Ol,\n",
    "                      trough_pos_x=max_trough_x, av_width=2)\n",
    "Dist"
   ]
  },
  {
   "cell_type": "code",
   "execution_count": 12,
   "id": "770079c6-1edc-4ffb-a6c5-5ba3fc3b947c",
   "metadata": {},
   "outputs": [
    {
     "data": {
      "text/plain": [
       "0.7484848484848484"
      ]
     },
     "execution_count": 12,
     "metadata": {},
     "output_type": "execute_result"
    },
    {
     "data": {
      "image/png": "[encoded data removed]",
      "text/plain": [
       "<Figure size 432x288 with 1 Axes>"
      ]
     },
     "metadata": {
      "needs_background": "light"
     },
     "output_type": "display_data"
    }
   ],
   "source": [
    "# Now lets mix up spectra\n",
    "N_steps=20\n",
    "MI_Mix=np.empty((N_steps,len(y_cub_MI)), 'float')\n",
    "Dist=np.empty(N_steps, 'float')\n",
    "X=np.empty(N_steps, 'float')\n",
    "for i in range(0, N_steps):\n",
    "\n",
    "    X[i]=i/N_steps\n",
    "\n",
    "    MI_Mix[i, :]=(y_cub_MI- y_cub_Ol*X[i])/(1-X[i])\n",
    "    Dist[i]=trough_or_peak_higher(spectra_x=x_new,\n",
    "                      spectra_y=MI_Mix[i, :],\n",
    "                      peak_pos_x=peak_pos_Ol,\n",
    "                      trough_pos_x=max_trough_x, av_width=2)\n",
    "    #print(MI_Mix)\n",
    "plt.plot(X, Dist, 'or')\n",
    "plt.plot([0, max(X)], [0, 0], '-k')\n",
    "plt.xlabel('Mixing Proportion of Olivine')\n",
    "plt.ylabel('Vert. Dist. between peaks reg & troughs')\n",
    "\n",
    "mix_spline = interp1d(X, Dist, kind='cubic')\n",
    "\n",
    "x_new_mix=np.linspace(min(X), max(X), 100)\n",
    "\n",
    "y_cub_mix=mix_spline(x_new_mix)\n",
    "\n",
    "plt.plot(x_new_mix, y_cub_mix, '-r')\n",
    "\n",
    "# Closest point to zero\n",
    "val=np.argmax(y_cub_mix>0)\n",
    "ideal_mix=x_new_mix[val]\n",
    "ideal_mix"
   ]
  },
  {
   "cell_type": "markdown",
   "id": "fc6ead3a-0708-4d88-9546-cc182753c749",
   "metadata": {},
   "source": [
    "# Best fit mix for olivine-glass"
   ]
  },
  {
   "cell_type": "code",
   "execution_count": 13,
   "id": "4f7a9493-a5e9-4ca0-8c48-16407ea58e9a",
   "metadata": {},
   "outputs": [],
   "source": [
    "MI_Mix_Best_syn=(y_cub_MI- y_cub_Ol*ideal_mix)/(1-ideal_mix)\n",
    "MI_Mix_Best=(MI- Ol*ideal_mix)/(1-ideal_mix)"
   ]
  },
  {
   "cell_type": "code",
   "execution_count": null,
   "id": "1d1fc7ae-653d-4017-8a79-dd2022953c10",
   "metadata": {},
   "outputs": [],
   "source": []
  },
  {
   "cell_type": "code",
   "execution_count": 14,
   "id": "edee6e8c-7611-4b05-904c-ce4a790698c3",
   "metadata": {},
   "outputs": [
    {
     "data": {
      "text/plain": [
       "(0.0, 1400.0)"
      ]
     },
     "execution_count": 14,
     "metadata": {},
     "output_type": "execute_result"
    },
    {
     "data": {
      "image/png": "[encoded data removed]",
      "text/plain": [
       "<Figure size 432x288 with 1 Axes>"
      ]
     },
     "metadata": {
      "needs_background": "light"
     },
     "output_type": "display_data"
    }
   ],
   "source": [
    "plt.plot(MI[:, 0],MI_Mix_Best[:, 1]/MI_Mix_Best[30, 1], '-')\n",
    "plt.plot(MI[:, 0],MI[:, 1]/MI[30, 1], '-')\n",
    "plt.plot(Ol[:, 0],Ol[:, 1]/Ol[30, 1], '-')\n",
    "plt.xlim([0, 1400])"
   ]
  },
  {
   "cell_type": "code",
   "execution_count": 15,
   "id": "180c1bcb-b381-4f1d-8779-d95414bb43a9",
   "metadata": {},
   "outputs": [
    {
     "data": {
      "text/plain": [
       "(600.0, 1400.0)"
      ]
     },
     "execution_count": 15,
     "metadata": {},
     "output_type": "execute_result"
    },
    {
     "data": {
      "image/png": "[encoded data removed]",
      "text/plain": [
       "<Figure size 432x288 with 1 Axes>"
      ]
     },
     "metadata": {
      "needs_background": "light"
     },
     "output_type": "display_data"
    }
   ],
   "source": [
    "plt.plot(MI[:, 0],MI_Mix_Best[:, 1], '-')\n",
    "plt.xlim([600, 1400])"
   ]
  },
  {
   "cell_type": "markdown",
   "id": "3a8bcdfa-f3e0-4bec-b260-70c783ac9d98",
   "metadata": {},
   "source": [
    "## Water region background subtraction"
   ]
  },
  {
   "cell_type": "code",
   "execution_count": null,
   "id": "30547b77-d7f8-4cb6-ab8d-1ddd7ec3850c",
   "metadata": {},
   "outputs": [],
   "source": []
  },
  {
   "cell_type": "markdown",
   "id": "850f3e53-eb4c-4037-9c92-7ca7d357d545",
   "metadata": {},
   "source": [
    "## Silicate region background subtraction"
   ]
  },
  {
   "cell_type": "code",
   "execution_count": 51,
   "id": "a2f2b57b-4ec6-4eb1-b452-1897e68edb68",
   "metadata": {},
   "outputs": [
    {
     "data": {
      "text/html": [
       "<div>\n",
       "<style scoped>\n",
       "    .dataframe tbody tr th:only-of-type {\n",
       "        vertical-align: middle;\n",
       "    }\n",
       "\n",
       "    .dataframe tbody tr th {\n",
       "        vertical-align: top;\n",
       "    }\n",
       "\n",
       "    .dataframe thead th {\n",
       "        text-align: right;\n",
       "    }\n",
       "</style>\n",
       "<table border=\"1\" class=\"dataframe\">\n",
       "  <thead>\n",
       "    <tr style=\"text-align: right;\">\n",
       "      <th></th>\n",
       "      <th>Sil_LHS_Back1</th>\n",
       "      <th>Sil_LHS_Back2</th>\n",
       "      <th>Sil_RHS_Back1</th>\n",
       "      <th>Sil_RHS_Back2</th>\n",
       "      <th>Sil_N_Poly</th>\n",
       "      <th>Sil_Trapezoid_Area</th>\n",
       "      <th>Sil_Simpson_Area</th>\n",
       "    </tr>\n",
       "  </thead>\n",
       "  <tbody>\n",
       "    <tr>\n",
       "      <th>0</th>\n",
       "      <td>200</td>\n",
       "      <td>300</td>\n",
       "      <td>1240</td>\n",
       "      <td>1500</td>\n",
       "      <td>2</td>\n",
       "      <td>1.359518e+06</td>\n",
       "      <td>1.361283e+06</td>\n",
       "    </tr>\n",
       "  </tbody>\n",
       "</table>\n",
       "</div>"
      ],
      "text/plain": [
       "   Sil_LHS_Back1  Sil_LHS_Back2  Sil_RHS_Back1  Sil_RHS_Back2  Sil_N_Poly  \\\n",
       "0            200            300           1240           1500           2   \n",
       "\n",
       "   Sil_Trapezoid_Area  Sil_Simpson_Area  \n",
       "0        1.359518e+06      1.361283e+06  "
      ]
     },
     "execution_count": 51,
     "metadata": {},
     "output_type": "execute_result"
    },
    {
     "data": {
      "image/png": "[encoded data removed]",
      "text/plain": [
       "<Figure size 864x288 with 2 Axes>"
      ]
     },
     "metadata": {
      "needs_background": "light"
     },
     "output_type": "display_data"
    }
   ],
   "source": [
    "lower_range_sil=[200, 300] # MAtlab code uses 0-200, \n",
    "upper_range_sil=[1240, 1500] #1240-1500\n",
    "sigma_sil=5\n",
    "exclude_range1_sil=None\n",
    "exclude_range2_sil=None\n",
    "N_poly_sil=2\n",
    "plot_figure=True\n",
    "fit_sil='poly'\n",
    "\n",
    "Sil=MI_Mix_Best\n",
    "\n",
    "# These bits of code trim out the excluded regions if relevant\n",
    "if exclude_range1_sil is not None and exclude_range2_sil is None:\n",
    "    Sil_old=Sil.copy()\n",
    "    Sil=Sil[(Sil[:, 0]<exclude_range1_sil[0])|(Sil[:, 0]>exclude_range1_sil[1])]\n",
    "    Discard=Sil_old[(Sil_old[:, 0]>=exclude_range1_sil[0])\n",
    "                    & (Sil_old[:, 0]<=exclude_range1_sil[1])]\n",
    "\n",
    "\n",
    "if exclude_range2 is not None and exclude_range1 is None:\n",
    "    Sil_old=Sil.copy()\n",
    "    Sil=Sil[(Sil[:, 0]<exclude_range2_sil[0])|(Sil[:, 0]>exclude_range2_sil[1])]\n",
    "\n",
    "    Discard=Sil_old[(Sil_old[:, 0]>=exclude_range2_sil[0]) \n",
    "                    & (Sil_old[:, 0]<=exclude_range2_sil[1])]\n",
    "\n",
    "if exclude_range1 is not None and exclude_range2 is not None:\n",
    "    Sil_old=Sil.copy()\n",
    "    Sil=Sil[\n",
    "    ((Sil[:, 0]<exclude_range1_sil[0])|(Sil[:, 0]>exclude_range1_sil[1]))\n",
    "    &\n",
    "    ((Sil[:, 0]<exclude_range2_sil[0])|(Sil[:, 0]>exclude_range2_sil[1]))\n",
    "    ]\n",
    "\n",
    "    Discard=Sil_old[\n",
    "    ((Sil_old[:, 0]>=exclude_range1_sil[0]) & (Sil_old[:, 0]<=exclude_range1_sil[1]))\n",
    "    |\n",
    "    ((Sil_old[:, 0]>=exclude_range2_sil[0]) & (Sil_old[:, 0]<=exclude_range2_sil[1]))\n",
    "    ]\n",
    "\n",
    "\n",
    "# Now we calculate the edge of the baseline\n",
    "lower_0baseline_sil=lower_range_sil[0]\n",
    "upper_0baseline_sil=lower_range_sil[1]\n",
    "lower_1baseline_sil=upper_range_sil[0]\n",
    "upper_1baseline_sil=upper_range_sil[1]\n",
    "\n",
    "# Bit that is actually peak, not baseline\n",
    "span=[upper_0baseline_sil, lower_1baseline_sil]\n",
    "\n",
    "# lower_2baseline=1320\n",
    "# upper_2baseline=1330\n",
    "\n",
    "# Trim for entire range\n",
    "Sil_short=Sil[ (Sil[:,0]>lower_0baseline_sil) \n",
    "              & (Sil[:,0]<upper_1baseline_sil) ]\n",
    "\n",
    "# Get actual baseline\n",
    "Baseline_with_outl_sil=Sil_short[\n",
    "((Sil_short[:, 0]<upper_0baseline_sil) &(Sil_short[:, 0]>lower_0baseline_sil))\n",
    "     |\n",
    "((Sil_short[:, 0]<upper_1baseline_sil) &(Sil_short[:, 0]>lower_1baseline_sil))]\n",
    "\n",
    "# Calculates the median for the baseline and the standard deviation\n",
    "Median_Baseline_sil=np.mean(Baseline_with_outl_sil[:, 1])\n",
    "Std_Baseline_sil=np.std(Baseline_with_outl_sil[:, 1])\n",
    "\n",
    "# Removes any points in the baseline outside of 2 sigma (helps remove cosmic rays etc).\n",
    "Baseline_sil=Baseline_with_outl_sil[\n",
    "(Baseline_with_outl_sil[:, 1]<Median_Baseline_sil+sigma_sil*Std_Baseline_sil)\n",
    "                            &\n",
    "(Baseline_with_outl_sil[:, 1]>Median_Baseline_sil-sigma_sil*Std_Baseline_sil)\n",
    "                           ]\n",
    "\n",
    "\n",
    "#Baseline=Baseline_with_outl\n",
    "\n",
    "\n",
    "if fit_sil == 'poly':\n",
    "    # Fits a polynomial to the baseline of degree\n",
    "    Pf_baseline_sil = np.poly1d(np.polyfit(Baseline_sil[:, 0], Baseline_sil[:, 1], N_poly_sil))\n",
    "    Py_base_sil =Pf_baseline_sil(Sil_short[:, 0])\n",
    "    \n",
    "\n",
    "\n",
    "    Baseline_ysub_sil=Pf_baseline_sil(Sil_short[:, 0])\n",
    "\n",
    "    \n",
    "if  fit_sil == 'spline':\n",
    "    from scipy.interpolate import CubicSpline\n",
    "    mix_spline_sil = CubicSpline(Baseline_sil[:, 0], Baseline_sil[:, 1],  \n",
    "                            extrapolate=True)\n",
    "    \n",
    "    Baseline_ysub_sil=mix_spline_sil(Sil_short[:, 0]) \n",
    "    \n",
    "    \n",
    "    N_poly_sil='Spline'\n",
    "    \n",
    "Baseline_x_sil=Sil_short[:, 0]\n",
    "y_corr_sil= Sil_short[:, 1]- Baseline_ysub_sil\n",
    "\n",
    "x_sil=Baseline_sil[:, 0]\n",
    "\n",
    " # Plotting what its doing\n",
    "if plot_figure is True:\n",
    "\n",
    "    fig, (ax1, ax2) = plt.subplots(1, 2, figsize=(12,4))\n",
    "    ax1.set_title('Background fit')\n",
    "    ax1.plot(Sil_short[:, 0], Sil_short[:, 1], '-r')\n",
    "\n",
    "    ax1.plot(Baseline_sil[:, 0], Baseline_sil[:, 1], '.b')\n",
    "    ax1.plot(Sil_short[:, 0], Baseline_ysub_sil, '-k')\n",
    "    xdat_sil=(Sil_short[:, 0])\n",
    "    ydat_sil=y_corr_sil\n",
    "\n",
    "    ax1.set_ylabel('Intensity')\n",
    "    ax2.set_ylabel('Intensity')\n",
    "    ax2.set_xlabel('Wavenumber')\n",
    "\n",
    "\n",
    "\n",
    "    ax2.set_title('Background corrected')\n",
    "    ax2.plot(xdat_sil, y_corr_sil, '-r')\n",
    "    height_p=np.max(Sil_short[:, 1])-np.min(Sil_short[:, 1])\n",
    "    ax2.set_ylim([np.min(y_corr), 1.2*height_p ])\n",
    "    ax1.set_xlabel('Wavenumber')\n",
    "\n",
    "\n",
    "from numpy import trapz\n",
    "from scipy.integrate import simps\n",
    "xspace_sil=xdat_sil[1]-xdat_sil[0]\n",
    "area_trap = trapz(y_corr_sil, dx=xspace_sil)\n",
    "area_simps = simps(y_corr_sil, dx=xspace_sil)\n",
    "\n",
    "\n",
    "\n",
    "df_sil=pd.DataFrame(data={'Sil_LHS_Back1':lower_range_sil[0],\n",
    "                      'Sil_LHS_Back2':lower_range_sil[1],\n",
    "                      'Sil_RHS_Back1':upper_range_sil[0],\n",
    "                      'Sil_RHS_Back2':upper_range_sil[1],\n",
    "                      'Sil_N_Poly': N_poly_sil,\n",
    "                      'Sil_Trapezoid_Area':area_trap,\n",
    "                      'Sil_Simpson_Area': area_simps}, index=[0])\n",
    "df_sil"
   ]
  },
  {
   "cell_type": "markdown",
   "id": "60152882-81c8-4fa3-9ecd-da5c4430a830",
   "metadata": {},
   "source": [
    "## Same for H2O curve"
   ]
  },
  {
   "cell_type": "code",
   "execution_count": 52,
   "id": "2e49fa47-bb0e-43a4-90b5-7a33b4f01355",
   "metadata": {},
   "outputs": [
    {
     "data": {
      "text/html": [
       "<div>\n",
       "<style scoped>\n",
       "    .dataframe tbody tr th:only-of-type {\n",
       "        vertical-align: middle;\n",
       "    }\n",
       "\n",
       "    .dataframe tbody tr th {\n",
       "        vertical-align: top;\n",
       "    }\n",
       "\n",
       "    .dataframe thead th {\n",
       "        text-align: right;\n",
       "    }\n",
       "</style>\n",
       "<table border=\"1\" class=\"dataframe\">\n",
       "  <thead>\n",
       "    <tr style=\"text-align: right;\">\n",
       "      <th></th>\n",
       "      <th>Water_LHS_Back1</th>\n",
       "      <th>Water_LHS_Back2</th>\n",
       "      <th>Water_RHS_Back1</th>\n",
       "      <th>Water_RHS_Back2</th>\n",
       "      <th>Water_N_Poly</th>\n",
       "      <th>Water_Trapezoid_Area</th>\n",
       "      <th>Water_Simpson_Area</th>\n",
       "    </tr>\n",
       "  </thead>\n",
       "  <tbody>\n",
       "    <tr>\n",
       "      <th>0</th>\n",
       "      <td>2750</td>\n",
       "      <td>3100</td>\n",
       "      <td>3750</td>\n",
       "      <td>4100</td>\n",
       "      <td>3</td>\n",
       "      <td>333132.929609</td>\n",
       "      <td>333151.253365</td>\n",
       "    </tr>\n",
       "  </tbody>\n",
       "</table>\n",
       "</div>"
      ],
      "text/plain": [
       "   Water_LHS_Back1  Water_LHS_Back2  Water_RHS_Back1  Water_RHS_Back2  \\\n",
       "0             2750             3100             3750             4100   \n",
       "\n",
       "   Water_N_Poly  Water_Trapezoid_Area  Water_Simpson_Area  \n",
       "0             3         333132.929609       333151.253365  "
      ]
     },
     "execution_count": 52,
     "metadata": {},
     "output_type": "execute_result"
    },
    {
     "data": {
      "image/png": "[encoded data removed]",
      "text/plain": [
       "<Figure size 864x288 with 2 Axes>"
      ]
     },
     "metadata": {
      "needs_background": "light"
     },
     "output_type": "display_data"
    }
   ],
   "source": [
    "\n",
    "\n",
    "lower_range_water=[2750, 3100] # MAtlab code uses 0-200, \n",
    "upper_range_water=[3750, 4100] #1240-1500\n",
    "sigma_water=5\n",
    "exclude_range1_water=None\n",
    "exclude_range2_water=None\n",
    "N_poly_water=3\n",
    "plot_figure=True\n",
    "fit_water='poly'\n",
    "\n",
    "Water=MI_Mix_Best\n",
    "\n",
    "# These bits of code trim out the excluded regions if relevant\n",
    "if exclude_range1_water is not None and exclude_range2_water is None:\n",
    "    Water_old=Water.copy()\n",
    "    Water=Water[(Water[:, 0]<exclude_range1_water[0])|(Water[:, 0]>exclude_range1_water[1])]\n",
    "    Discard=Water_old[(Water_old[:, 0]>=exclude_range1_water[0])\n",
    "                    & (Water_old[:, 0]<=exclude_range1_water[1])]\n",
    "\n",
    "\n",
    "if exclude_range2 is not None and exclude_range1 is None:\n",
    "    Water_old=Water.copy()\n",
    "    Water=Water[(Water[:, 0]<exclude_range2_water[0])|(Water[:, 0]>exclude_range2_water[1])]\n",
    "\n",
    "    Discard=Water_old[(Water_old[:, 0]>=exclude_range2_water[0]) \n",
    "                    & (Water_old[:, 0]<=exclude_range2_water[1])]\n",
    "\n",
    "if exclude_range1 is not None and exclude_range2 is not None:\n",
    "    Water_old=Water.copy()\n",
    "    Water=Water[\n",
    "    ((Water[:, 0]<exclude_range1_water[0])|(Water[:, 0]>exclude_range1_water[1]))\n",
    "    &\n",
    "    ((Water[:, 0]<exclude_range2_water[0])|(Water[:, 0]>exclude_range2_water[1]))\n",
    "    ]\n",
    "\n",
    "    Discard=Water_old[\n",
    "    ((Water_old[:, 0]>=exclude_range1_water[0]) & (Water_old[:, 0]<=exclude_range1_water[1]))\n",
    "    |\n",
    "    ((Water_old[:, 0]>=exclude_range2_water[0]) & (Water_old[:, 0]<=exclude_range2_water[1]))\n",
    "    ]\n",
    "\n",
    "\n",
    "# Now we calculate the edge of the baseline\n",
    "lower_0baseline_water=lower_range_water[0]\n",
    "upper_0baseline_water=lower_range_water[1]\n",
    "lower_1baseline_water=upper_range_water[0]\n",
    "upper_1baseline_water=upper_range_water[1]\n",
    "\n",
    "# Bit that is actually peak, not baseline\n",
    "span=[upper_0baseline_water, lower_1baseline_water]\n",
    "\n",
    "# lower_2baseline=1320\n",
    "# upper_2baseline=1330\n",
    "\n",
    "# Trim for entire range\n",
    "Water_short=Water[ (Water[:,0]>lower_0baseline_water) \n",
    "              & (Water[:,0]<upper_1baseline_water) ]\n",
    "\n",
    "# Get actual baseline\n",
    "Baseline_with_outl_water=Water_short[\n",
    "((Water_short[:, 0]<upper_0baseline_water) &(Water_short[:, 0]>lower_0baseline_water))\n",
    "     |\n",
    "((Water_short[:, 0]<upper_1baseline_water) &(Water_short[:, 0]>lower_1baseline_water))]\n",
    "\n",
    "# Calculates the median for the baseline and the standard deviation\n",
    "Median_Baseline_water=np.mean(Baseline_with_outl_water[:, 1])\n",
    "Std_Baseline_water=np.std(Baseline_with_outl_water[:, 1])\n",
    "\n",
    "# Removes any points in the baseline outside of 2 sigma (helps remove cosmic rays etc).\n",
    "Baseline_water=Baseline_with_outl_water[\n",
    "(Baseline_with_outl_water[:, 1]<Median_Baseline_water+sigma_water*Std_Baseline_water)\n",
    "                            &\n",
    "(Baseline_with_outl_water[:, 1]>Median_Baseline_water-sigma_water*Std_Baseline_water)\n",
    "                           ]\n",
    "\n",
    "\n",
    "#Baseline=Baseline_with_outl\n",
    "\n",
    "\n",
    "if fit_water == 'poly':\n",
    "    # Fits a polynomial to the baseline of degree\n",
    "    Pf_baseline_water = np.poly1d(np.polyfit(Baseline_water[:, 0], Baseline_water[:, 1], N_poly_water))\n",
    "    Py_base_water =Pf_baseline_water(Water_short[:, 0])\n",
    "    \n",
    "\n",
    "\n",
    "    Baseline_ysub_water=Pf_baseline_water(Water_short[:, 0])\n",
    "\n",
    "    \n",
    "if  fit_water == 'spline':\n",
    "    from scipy.interpolate import CubicSpline\n",
    "    mix_spline_water = CubicSpline(Baseline_water[:, 0], Baseline_water[:, 1],  \n",
    "                            extrapolate=True)\n",
    "    \n",
    "    Baseline_ysub_water=mix_spline_water(Water_short[:, 0]) \n",
    "    \n",
    "    \n",
    "    N_poly_water='Spline'\n",
    "    \n",
    "Baseline_x_water=Water_short[:, 0]\n",
    "y_corr_water= Water_short[:, 1]- Baseline_ysub_water\n",
    "\n",
    "x_water=Baseline_water[:, 0]\n",
    "\n",
    " # Plotting what its doing\n",
    "if plot_figure is True:\n",
    "\n",
    "    fig, (ax1, ax2) = plt.subplots(1, 2, figsize=(12,4))\n",
    "    ax1.set_title('Background fit')\n",
    "    ax1.plot(Water_short[:, 0], Water_short[:, 1], '-r')\n",
    "\n",
    "    ax1.plot(Baseline_water[:, 0], Baseline_water[:, 1], '.b')\n",
    "    ax1.plot(Water_short[:, 0], Baseline_ysub_water, '-k')\n",
    "    xdat_water=(Water_short[:, 0])\n",
    "    ydat_water=y_corr_water\n",
    "\n",
    "    ax1.set_ylabel('Intensity')\n",
    "    ax2.set_ylabel('Intensity')\n",
    "    ax2.set_xlabel('Wavenumber')\n",
    "\n",
    "\n",
    "\n",
    "    ax2.set_title('Background corrected')\n",
    "    ax2.plot(xdat_water, y_corr_water, '-r')\n",
    "    height_p=np.max(Water_short[:, 1])-np.min(Water_short[:, 1])\n",
    "    ax2.set_ylim([np.min(y_corr), 1.2*height_p ])\n",
    "    ax1.set_xlabel('Wavenumber')\n",
    "\n",
    "\n",
    "from numpy import trapz\n",
    "from scipy.integrate import simps\n",
    "xspace_water=xdat_water[1]-xdat_water[0]\n",
    "area_trap = trapz(y_corr_water, dx=xspace_water)\n",
    "area_simps = simps(y_corr_water, dx=xspace_water)\n",
    "\n",
    "\n",
    "\n",
    "df_water=pd.DataFrame(data={'Water_LHS_Back1':lower_range_water[0],\n",
    "                      'Water_LHS_Back2':lower_range_water[1],\n",
    "                      'Water_RHS_Back1':upper_range_water[0],\n",
    "                      'Water_RHS_Back2':upper_range_water[1],\n",
    "                      'Water_N_Poly': N_poly_water,\n",
    "                      'Water_Trapezoid_Area':area_trap,\n",
    "                      'Water_Simpson_Area': area_simps}, index=[0])\n",
    "df_water"
   ]
  },
  {
   "cell_type": "code",
   "execution_count": 58,
   "id": "a2141298-0e2e-4262-ab5c-74d505901bbf",
   "metadata": {},
   "outputs": [
    {
     "data": {
      "text/html": [
       "<div>\n",
       "<style scoped>\n",
       "    .dataframe tbody tr th:only-of-type {\n",
       "        vertical-align: middle;\n",
       "    }\n",
       "\n",
       "    .dataframe tbody tr th {\n",
       "        vertical-align: top;\n",
       "    }\n",
       "\n",
       "    .dataframe thead th {\n",
       "        text-align: right;\n",
       "    }\n",
       "</style>\n",
       "<table border=\"1\" class=\"dataframe\">\n",
       "  <thead>\n",
       "    <tr style=\"text-align: right;\">\n",
       "      <th></th>\n",
       "      <th>Trap_H2O_Sil</th>\n",
       "      <th>Simp_H2O_Sil</th>\n",
       "      <th>Sil_LHS_Back1</th>\n",
       "      <th>Sil_LHS_Back2</th>\n",
       "      <th>Sil_RHS_Back1</th>\n",
       "      <th>Sil_RHS_Back2</th>\n",
       "      <th>Sil_N_Poly</th>\n",
       "      <th>Sil_Trapezoid_Area</th>\n",
       "      <th>Sil_Simpson_Area</th>\n",
       "      <th>Water_LHS_Back1</th>\n",
       "      <th>Water_LHS_Back2</th>\n",
       "      <th>Water_RHS_Back1</th>\n",
       "      <th>Water_RHS_Back2</th>\n",
       "      <th>Water_N_Poly</th>\n",
       "      <th>Water_Trapezoid_Area</th>\n",
       "      <th>Water_Simpson_Area</th>\n",
       "    </tr>\n",
       "  </thead>\n",
       "  <tbody>\n",
       "    <tr>\n",
       "      <th>0</th>\n",
       "      <td>0.245038</td>\n",
       "      <td>0.244733</td>\n",
       "      <td>200</td>\n",
       "      <td>300</td>\n",
       "      <td>1240</td>\n",
       "      <td>1500</td>\n",
       "      <td>2</td>\n",
       "      <td>1.359518e+06</td>\n",
       "      <td>1.361283e+06</td>\n",
       "      <td>2750</td>\n",
       "      <td>3100</td>\n",
       "      <td>3750</td>\n",
       "      <td>4100</td>\n",
       "      <td>3</td>\n",
       "      <td>333132.929609</td>\n",
       "      <td>333151.253365</td>\n",
       "    </tr>\n",
       "  </tbody>\n",
       "</table>\n",
       "</div>"
      ],
      "text/plain": [
       "   Trap_H2O_Sil  Simp_H2O_Sil  Sil_LHS_Back1  Sil_LHS_Back2  Sil_RHS_Back1  \\\n",
       "0      0.245038      0.244733            200            300           1240   \n",
       "\n",
       "   Sil_RHS_Back2  Sil_N_Poly  Sil_Trapezoid_Area  Sil_Simpson_Area  \\\n",
       "0           1500           2        1.359518e+06      1.361283e+06   \n",
       "\n",
       "   Water_LHS_Back1  Water_LHS_Back2  Water_RHS_Back1  Water_RHS_Back2  \\\n",
       "0             2750             3100             3750             4100   \n",
       "\n",
       "   Water_N_Poly  Water_Trapezoid_Area  Water_Simpson_Area  \n",
       "0             3         333132.929609       333151.253365  "
      ]
     },
     "execution_count": 58,
     "metadata": {},
     "output_type": "execute_result"
    }
   ],
   "source": [
    "Combo_Area=pd.concat([df_sil, df_water], axis=1)\n",
    "\n",
    "Combo_Area.insert(0, 'Trap_H2O_Sil', \n",
    "                  Combo_Area['Water_Trapezoid_Area']/Combo_Area['Sil_Trapezoid_Area'])\n",
    "Combo_Area.insert(1, 'Simp_H2O_Sil',\n",
    "                  Combo_Area['Water_Simpson_Area']/Combo_Area['Sil_Simpson_Area'])\n",
    "Combo_Area"
   ]
  },
  {
   "cell_type": "markdown",
   "id": "26d1803c-720e-436d-a3bc-7d06681f0530",
   "metadata": {},
   "source": [
    "# Two peak fit"
   ]
  },
  {
   "cell_type": "code",
   "execution_count": 24,
   "id": "e144c982-254f-4150-9ae4-fd55e3fc9871",
   "metadata": {},
   "outputs": [],
   "source": [
    "peak1_gauss=400\n",
    "amplitude_1=1000\n",
    "peak_pos_gauss_sub=1000\n",
    "\n",
    "# Fitting 1st Gaussian\n",
    "prefix_1='gauss1'\n",
    "model = GaussianModel(prefix=prefix_1)\n",
    "params = model.make_params()\n",
    "\n",
    "params[prefix_1 + 'amplitude'].set(amplitude_1, min=0)\n",
    "params[prefix_1 + 'center'].set(peak1_gauss, min=peak1_gauss-200,\n",
    "                            max=peak1_gauss+200)\n",
    "\n",
    "params[prefix_1 + 'fwhm'].set(10, min=2,\n",
    "                            max=3)\n",
    "\n",
    "# Fitting second gaussian\n",
    "amplitude_2=3000\n",
    "\n",
    "\n",
    "peak, pars = add_peak_gauss(prefix='g2_', center=peak_pos_gauss_sub,\n",
    "min_cent=peak_pos_gauss_sub-200, max_cent=peak_pos_gauss_sub+200,\n",
    "amplitude=amplitude_2)\n",
    "model = peak+model\n",
    "params.update(pars)\n",
    "            \n",
    "model_F=model\n",
    "init = model_F.eval(params, x=xdat)\n",
    "result = model_F.fit(ydat, params, x=xdat)\n",
    "comps = result.eval_components()\n",
    "\n",
    "\n",
    "y_best_fit=result.eval(x=xdat)\n",
    "\n",
    "\n",
    "\n",
    "\n"
   ]
  },
  {
   "cell_type": "markdown",
   "id": "015eacf5-563a-442c-9a03-e4bd7ffde545",
   "metadata": {},
   "source": [
    "# Three peak fit"
   ]
  },
  {
   "cell_type": "code",
   "execution_count": 21,
   "id": "3d0548a0-772c-4da9-9ce3-f42cd501d384",
   "metadata": {},
   "outputs": [
    {
     "name": "stdout",
     "output_type": "stream",
     "text": [
      "0\n",
      "1\n"
     ]
    }
   ],
   "source": [
    "# peak1_gauss=400\n",
    "# amplitude_1=1000\n",
    "# peak_pos_gauss_sub=1000\n",
    "\n",
    "# # Fitting 1st Gaussian\n",
    "# prefix_1='gauss0'\n",
    "# model = GaussianModel(prefix=prefix_1)\n",
    "# params = model.make_params()\n",
    "\n",
    "# params[prefix_1 + 'amplitude'].set(amplitude_1, min=0)\n",
    "# params[prefix_1 + 'center'].set(peak1_gauss, min=peak1_gauss-200,\n",
    "#                             max=peak1_gauss+200)\n",
    "\n",
    "# params[prefix_1 + 'fwhm'].set(10, min=2,\n",
    "#                             max=3)\n",
    "\n",
    "# # Fitting second gaussian\n",
    "# amplitudes=[3000.1, 500.1]\n",
    "\n",
    "\n",
    "# rough_peak_positions=(1000, 700)\n",
    "# for i, cen in enumerate(rough_peak_positions):\n",
    "#     print(i)\n",
    "\n",
    "#     peak, pars = add_peak_gauss(prefix='gauss' +str((i+1)), \n",
    "#                 center=cen, amplitude=amplitudes[i])\n",
    "#     model = peak+model\n",
    "#     params.update(pars)\n",
    "\n",
    "\n",
    "\n",
    "            \n",
    "# model_F=model\n",
    "# init = model_F.eval(params, x=xdat)\n",
    "# result = model_F.fit(ydat, params, x=xdat)\n",
    "# comps = result.eval_components()\n",
    "\n",
    "\n",
    "# y_best_fit=result.eval(x=xdat)\n",
    "\n",
    "\n",
    "\n",
    "\n"
   ]
  },
  {
   "cell_type": "code",
   "execution_count": 25,
   "id": "3bf8132b-12c4-4469-8a90-f13a57d12336",
   "metadata": {},
   "outputs": [
    {
     "data": {
      "text/html": [
       "<table><tr><th> name </th><th> value </th><th> initial value </th><th> min </th><th> max </th><th> vary </th><th> expression </th></tr><tr><td> gauss1amplitude </td><td>  1000.00000 </td><td> None </td><td>  0.00000000 </td><td>         inf </td><td> True </td><td>  </td></tr><tr><td> gauss1center </td><td>  400.000000 </td><td> None </td><td>  200.000000 </td><td>  600.000000 </td><td> True </td><td>  </td></tr><tr><td> gauss1sigma </td><td>  1.00000000 </td><td> None </td><td>  0.00000000 </td><td>         inf </td><td> True </td><td>  </td></tr><tr><td> gauss1fwhm </td><td>  3.00000000 </td><td> None </td><td>  2.00000000 </td><td>  3.00000000 </td><td> False </td><td>  </td></tr><tr><td> gauss1height </td><td>  398.942300 </td><td> None </td><td>        -inf </td><td>         inf </td><td> False </td><td> 0.3989423*gauss1amplitude/max(1e-15, gauss1sigma) </td></tr><tr><td> g2_amplitude </td><td>  3000.00000 </td><td> None </td><td>  0.00000000 </td><td>         inf </td><td> True </td><td>  </td></tr><tr><td> g2_center </td><td>  1000.00000 </td><td> None </td><td>  800.000000 </td><td>  1200.00000 </td><td> True </td><td>  </td></tr><tr><td> g2_sigma </td><td>  1.00000000 </td><td> None </td><td>  0.00000000 </td><td>         inf </td><td> True </td><td>  </td></tr><tr><td> g2_fwhm </td><td>  2.35482000 </td><td> None </td><td>  0.00000000 </td><td>         inf </td><td> False </td><td> 2.3548200*g2_sigma </td></tr><tr><td> g2_height </td><td>  1196.82690 </td><td> None </td><td>        -inf </td><td>         inf </td><td> False </td><td> 0.3989423*g2_amplitude/max(1e-15, g2_sigma) </td></tr></table>"
      ],
      "text/plain": [
       "Parameters([('gauss1amplitude', <Parameter 'gauss1amplitude', value=1000, bounds=[0:inf]>), ('gauss1center', <Parameter 'gauss1center', value=400, bounds=[200:600]>), ('gauss1sigma', <Parameter 'gauss1sigma', value=1.0, bounds=[0:inf]>), ('gauss1fwhm', <Parameter 'gauss1fwhm', value=3 (fixed), bounds=[2:3]>), ('gauss1height', <Parameter 'gauss1height', value=398.94230000000005, bounds=[-inf:inf], expr='0.3989423*gauss1amplitude/max(1e-15, gauss1sigma)'>), ('g2_amplitude', <Parameter 'g2_amplitude', value=3000, bounds=[0:inf]>), ('g2_center', <Parameter 'g2_center', value=1000, bounds=[800:1200]>), ('g2_sigma', <Parameter 'g2_sigma', value=1.0, bounds=[0:inf]>), ('g2_fwhm', <Parameter 'g2_fwhm', value=2.35482, bounds=[0:inf], expr='2.3548200*g2_sigma'>), ('g2_height', <Parameter 'g2_height', value=1196.8269, bounds=[-inf:inf], expr='0.3989423*g2_amplitude/max(1e-15, g2_sigma)'>)])"
      ]
     },
     "execution_count": 25,
     "metadata": {},
     "output_type": "execute_result"
    }
   ],
   "source": [
    "params"
   ]
  },
  {
   "cell_type": "code",
   "execution_count": 26,
   "id": "6faa6f28-bad4-4069-a14d-ee2a54c17dba",
   "metadata": {},
   "outputs": [
    {
     "data": {
      "text/plain": [
       "3000.1"
      ]
     },
     "execution_count": 26,
     "metadata": {},
     "output_type": "execute_result"
    }
   ],
   "source": [
    "amplitudes[0]"
   ]
  },
  {
   "cell_type": "code",
   "execution_count": 27,
   "id": "2fbd7e10-4061-4627-aefd-f4ca98140a2f",
   "metadata": {},
   "outputs": [
    {
     "data": {
      "text/plain": [
       "[<matplotlib.lines.Line2D at 0x24066ad52e0>]"
      ]
     },
     "execution_count": 27,
     "metadata": {},
     "output_type": "execute_result"
    },
    {
     "data": {
      "image/png": "[encoded data removed]",
      "text/plain": [
       "<Figure size 432x288 with 1 Axes>"
      ]
     },
     "metadata": {
      "needs_background": "light"
     },
     "output_type": "display_data"
    }
   ],
   "source": [
    "plt.plot(xdat, y_corr, '-r')\n",
    "plt.plot(xdat, y_best_fit, '-g')"
   ]
  },
  {
   "cell_type": "code",
   "execution_count": 28,
   "id": "63152348-3626-42d5-9eed-b25e7154a988",
   "metadata": {},
   "outputs": [
    {
     "data": {
      "text/plain": [
       "[<matplotlib.lines.Line2D at 0x24066b39130>]"
      ]
     },
     "execution_count": 28,
     "metadata": {},
     "output_type": "execute_result"
    },
    {
     "data": {
      "image/png": "[encoded data removed]",
      "text/plain": [
       "<Figure size 432x288 with 1 Axes>"
      ]
     },
     "metadata": {
      "needs_background": "light"
     },
     "output_type": "display_data"
    }
   ],
   "source": [
    "plt.plot(xdat, y_corr-y_best_fit, '-r')"
   ]
  },
  {
   "cell_type": "code",
   "execution_count": null,
   "id": "92c69370-7a13-456d-880f-81f1fa318121",
   "metadata": {},
   "outputs": [],
   "source": [
    "residual_2_gauss=y_corr-y_best_fit\n",
    "\n",
    "peaks = find_peaks(y"
   ]
  },
  {
   "cell_type": "code",
   "execution_count": 40,
   "id": "dd505479-9e36-4eb9-8754-b0aaf87e6152",
   "metadata": {},
   "outputs": [
    {
     "data": {
      "text/plain": [
       "array([ 1.01415573e+02, -6.60026337e+01, -9.94322090e+01, -5.05862016e+01,\n",
       "       -5.34662209e+01,  2.46348159e+01,  6.59480321e+00, -7.81310080e+01,\n",
       "       -9.58297094e+01, -1.21158355e+02, -1.11219444e+02, -4.23499877e+01,\n",
       "       -9.27948957e+01, -2.65579339e+01,  8.72203454e+01,  8.64083058e+01,\n",
       "        1.57705653e+02,  1.10910435e+02,  1.08507995e+02,  1.37630211e+02,\n",
       "        7.11365419e+01,  1.15955581e+02,  2.16227593e+02,  3.16332782e+02,\n",
       "        3.05345709e+02,  3.80388735e+02,  3.01977930e+02,  4.58281110e+02,\n",
       "        4.81012178e+02,  5.69602257e+02,  6.45929264e+02,  7.68153419e+02,\n",
       "        8.38488443e+02,  8.90162001e+02,  1.04233688e+03,  1.17520207e+03,\n",
       "        1.23177598e+03,  1.32221789e+03,  1.37447915e+03,  1.49232959e+03,\n",
       "        1.59483677e+03,  1.75390058e+03,  1.78770200e+03,  1.92306397e+03,\n",
       "        1.98554373e+03,  2.13576014e+03,  2.15563734e+03,  2.26229476e+03,\n",
       "        2.35231942e+03,  2.42323705e+03,  2.54953109e+03,  2.56267502e+03,\n",
       "        2.58348921e+03,  2.69434709e+03,  2.69683506e+03,  2.79563125e+03,\n",
       "        2.85277151e+03,  2.93008324e+03,  2.94800124e+03,  2.96065448e+03,\n",
       "        3.10873759e+03,  3.12990556e+03,  3.13235635e+03,  3.13510271e+03,\n",
       "        3.10203903e+03,  3.03613589e+03,  2.83814449e+03,  2.74052996e+03,\n",
       "        2.47370730e+03,  2.34557053e+03,  2.21758556e+03,  2.01865496e+03,\n",
       "        1.92857227e+03,  1.76340563e+03,  1.63584421e+03,  1.59028459e+03,\n",
       "        1.41073831e+03,  1.44469327e+03,  1.38582698e+03,  1.32119690e+03,\n",
       "        1.23039310e+03,  1.11441570e+03,  9.81039791e+02,  8.96984667e+02,\n",
       "        6.92303499e+02,  6.83970175e+02,  5.23911723e+02,  4.44345719e+02,\n",
       "        3.64194349e+02,  3.18544662e+02,  2.60168467e+02,  2.08145718e+02,\n",
       "        1.91508601e+02,  2.28238473e+02,  1.82455817e+02,  1.74246934e+02,\n",
       "        2.32320055e+02,  2.53347162e+02,  2.35758801e+02,  2.73137479e+02,\n",
       "        2.52584239e+02,  3.26931305e+02,  3.42735031e+02,  3.00195977e+02,\n",
       "        3.63007403e+02,  4.02938168e+02,  4.20119259e+02,  3.93762893e+02,\n",
       "        4.41331361e+02,  4.96770864e+02,  5.16820499e+02,  5.65267802e+02,\n",
       "        5.57190006e+02,  6.26931386e+02,  6.54612687e+02,  6.69977730e+02,\n",
       "        7.10087815e+02,  6.95928183e+02,  7.34038961e+02,  6.87175103e+02,\n",
       "        7.39812424e+02,  7.42183437e+02,  7.40353160e+02,  7.83159508e+02,\n",
       "        7.61641842e+02,  8.54865850e+02,  8.42260111e+02,  8.88061022e+02,\n",
       "        8.60573200e+02,  8.84514104e+02,  8.76373400e+02,  8.96299393e+02,\n",
       "        8.69448028e+02,  8.89055193e+02,  9.45676946e+02,  9.86504634e+02,\n",
       "        9.68260632e+02,  9.17534033e+02,  1.08621652e+03,  1.08436221e+03,\n",
       "        1.16414624e+03,  1.20381828e+03,  1.29308127e+03,  1.45999165e+03,\n",
       "        1.53495324e+03,  1.59357862e+03,  1.58330748e+03,  1.65968945e+03,\n",
       "        1.74172609e+03,  1.77297430e+03,  1.83893926e+03,  1.86734937e+03,\n",
       "        2.02103186e+03,  2.04195012e+03,  2.13743098e+03,  2.18853098e+03,\n",
       "        2.19433979e+03,  2.28620236e+03,  2.31897696e+03,  2.37859115e+03,\n",
       "        2.41355500e+03,  2.49089385e+03,  2.51952620e+03,  2.56385846e+03,\n",
       "        2.59263573e+03,  2.67695724e+03,  2.72408190e+03,  2.74399658e+03,\n",
       "        2.77994292e+03,  2.84417595e+03,  2.84256420e+03,  2.82577351e+03,\n",
       "        2.80005678e+03,  2.68268159e+03,  2.61602121e+03,  2.62206777e+03,\n",
       "        2.54233960e+03,  2.45346497e+03,  2.32826019e+03,  2.30282496e+03,\n",
       "        2.24423931e+03,  2.15933046e+03,  2.07452097e+03,  1.98234483e+03,\n",
       "        1.88973788e+03,  1.78997956e+03,  1.71003183e+03,  1.66150440e+03,\n",
       "        1.55712459e+03,  1.45047245e+03,  1.39663949e+03,  1.36371721e+03,\n",
       "        1.30562408e+03,  1.22897967e+03,  1.17781059e+03,  1.14564799e+03,\n",
       "        1.05625684e+03,  9.84279545e+02,  9.78988822e+02,  9.54573409e+02,\n",
       "        9.17631353e+02,  8.97731314e+02,  8.34201077e+02,  8.08482630e+02,\n",
       "        7.20745490e+02,  7.05806276e+02,  6.54187035e+02,  5.80159399e+02,\n",
       "        5.49270561e+02,  5.12650410e+02,  4.18479725e+02,  3.62542001e+02,\n",
       "        3.03928551e+02,  3.20576773e+02,  2.80109150e+02,  2.26738344e+02,\n",
       "        1.87827149e+02,  1.52998517e+02,  1.06084344e+02,  9.93245752e+01,\n",
       "        5.02843983e+01,  6.09850521e+01,  3.34604973e+01,  7.02464442e+00,\n",
       "       -5.33224844e+00, -1.59785631e+01, -1.68597284e+01, -1.33225556e+01,\n",
       "       -1.50619821e+01, -1.45487121e+01, -2.28655401e+01, -3.54150686e+01,\n",
       "       -4.15953916e+01, -5.66717130e+01, -2.06291018e+01,  1.32412033e+01,\n",
       "       -1.71436049e+01, -3.53775346e+01, -4.19333518e+00, -8.52804827e+00,\n",
       "       -2.51809135e+01, -2.44529017e+00, -2.53621077e+01, -2.08493315e+01,\n",
       "       -1.79851908e+01, -1.85594821e+01,  1.44041394e+01, -1.51330247e+01,\n",
       "       -2.11789757e+01, -2.17130819e+01, -1.08812157e+01, -1.80134800e+01,\n",
       "       -2.05381152e+01, -6.02463007e+00, -5.34049666e+01, -1.36641022e+01,\n",
       "       -4.52753557e+01, -2.40428006e+01, -9.06452335e+00, -1.77939328e+01,\n",
       "       -1.95227425e+01,  1.32823124e+01, -8.33604646e+00,  1.90497473e+01,\n",
       "        3.76007687e+00, -7.59410375e-01,  9.17623731e+00,  2.06432404e+01,\n",
       "        2.04040726e+01,  1.72367991e+01,  6.10217345e+01,  6.47840051e+01,\n",
       "        1.18328355e+01,  2.63208990e+01,  5.45665766e+01,  9.98603144e+00,\n",
       "        4.00073274e+01,  2.32509094e+01,  2.04957697e+00,  9.33518335e+00,\n",
       "       -1.76358132e+01, -1.40557496e+01, -1.98568682e+01, -1.29126150e+01,\n",
       "        1.29700277e+01])"
      ]
     },
     "execution_count": 40,
     "metadata": {},
     "output_type": "execute_result"
    }
   ],
   "source": [
    "y_corr"
   ]
  },
  {
   "cell_type": "code",
   "execution_count": 260,
   "id": "5732900c-60b0-4d25-a4b3-12a2e1245f34",
   "metadata": {},
   "outputs": [],
   "source": [
    "# x=np.array([500, 600])\n",
    "# y=np.array([800, 900])\n",
    "# from sklearn.linear_model import LinearRegression\n",
    "# lr=LinearRegression()\n",
    "# Px = np.linspace(500, 600, 101)\n",
    "# lr.fit(x.reshape(1, -1),y.reshape(1, -1))\n",
    "# #Py=lr.predict(Px)"
   ]
  },
  {
   "cell_type": "code",
   "execution_count": 261,
   "id": "85242adb-6d77-42cf-8708-441eefbd9e93",
   "metadata": {},
   "outputs": [
    {
     "ename": "AttributeError",
     "evalue": "module 'numpy' has no attribute 'concencate'",
     "output_type": "error",
     "traceback": [
      "\u001b[1;31m---------------------------------------------------------------------------\u001b[0m",
      "\u001b[1;31mAttributeError\u001b[0m                            Traceback (most recent call last)",
      "Input \u001b[1;32mIn [261]\u001b[0m, in \u001b[0;36m<cell line: 5>\u001b[1;34m()\u001b[0m\n\u001b[0;32m      2\u001b[0m peak_pos\u001b[38;5;241m=\u001b[39mpeak_pos_Ol\n\u001b[0;32m      3\u001b[0m spectra_y\u001b[38;5;241m=\u001b[39my_cub_MI\n\u001b[1;32m----> 5\u001b[0m px, py\u001b[38;5;241m=\u001b[39m\u001b[43mtrough_or_peak_higher\u001b[49m\u001b[43m(\u001b[49m\u001b[43mspectra_x\u001b[49m\u001b[38;5;241;43m=\u001b[39;49m\u001b[43mx_new\u001b[49m\u001b[43m,\u001b[49m\n\u001b[0;32m      6\u001b[0m \u001b[43m                      \u001b[49m\u001b[43mspectra_y\u001b[49m\u001b[38;5;241;43m=\u001b[39;49m\u001b[43my_cub_MI\u001b[49m\u001b[43m,\u001b[49m\n\u001b[0;32m      7\u001b[0m \u001b[43m                      \u001b[49m\u001b[43mpeak_pos_x\u001b[49m\u001b[38;5;241;43m=\u001b[39;49m\u001b[43mpeak_pos_Ol\u001b[49m\u001b[43m,\u001b[49m\n\u001b[0;32m      8\u001b[0m \u001b[43m                      \u001b[49m\u001b[43mtrough_pos_x\u001b[49m\u001b[38;5;241;43m=\u001b[39;49m\u001b[43mmax_trough_x\u001b[49m\u001b[43m)\u001b[49m\n",
      "Input \u001b[1;32mIn [259]\u001b[0m, in \u001b[0;36mtrough_or_peak_higher\u001b[1;34m(spectra_x, spectra_y, peak_pos_x, trough_pos_x, av_width)\u001b[0m\n\u001b[0;32m     22\u001b[0m trough_y\u001b[38;5;241m=\u001b[39mspectra_y[(spectra_x\u001b[38;5;241m>\u001b[39mtrough_pos_x\u001b[38;5;241m-\u001b[39mav_width)\n\u001b[0;32m     23\u001b[0m                  \u001b[38;5;241m&\u001b[39m(spectra_x\u001b[38;5;241m<\u001b[39mtrough_pos_x\u001b[38;5;241m+\u001b[39mav_width)]\n\u001b[0;32m     25\u001b[0m trough_x\u001b[38;5;241m=\u001b[39mspectra_x[(spectra_x\u001b[38;5;241m>\u001b[39mtrough_pos_x\u001b[38;5;241m-\u001b[39mav_width)\n\u001b[0;32m     26\u001b[0m                  \u001b[38;5;241m&\u001b[39m(spectra_x\u001b[38;5;241m<\u001b[39mtrough_pos_x\u001b[38;5;241m+\u001b[39mav_width)]\n\u001b[1;32m---> 30\u001b[0m x\u001b[38;5;241m=\u001b[39m\u001b[43mnp\u001b[49m\u001b[38;5;241;43m.\u001b[39;49m\u001b[43mconcencate\u001b[49m(peak1_x, peak2_x)\n\u001b[0;32m     32\u001b[0m y\u001b[38;5;241m=\u001b[39mnp\u001b[38;5;241m.\u001b[39mconcencate(peak1_y, peak2_y)\n\u001b[0;32m     34\u001b[0m Px \u001b[38;5;241m=\u001b[39m np\u001b[38;5;241m.\u001b[39mlinspace(peak1_x, peak2_x, \u001b[38;5;241m101\u001b[39m)\n",
      "File \u001b[1;32m~\\anaconda3\\lib\\site-packages\\numpy\\__init__.py:313\u001b[0m, in \u001b[0;36m__getattr__\u001b[1;34m(attr)\u001b[0m\n\u001b[0;32m    310\u001b[0m     \u001b[38;5;28;01mfrom\u001b[39;00m \u001b[38;5;21;01m.\u001b[39;00m\u001b[38;5;21;01mtesting\u001b[39;00m \u001b[38;5;28;01mimport\u001b[39;00m Tester\n\u001b[0;32m    311\u001b[0m     \u001b[38;5;28;01mreturn\u001b[39;00m Tester\n\u001b[1;32m--> 313\u001b[0m \u001b[38;5;28;01mraise\u001b[39;00m \u001b[38;5;167;01mAttributeError\u001b[39;00m(\u001b[38;5;124m\"\u001b[39m\u001b[38;5;124mmodule \u001b[39m\u001b[38;5;132;01m{!r}\u001b[39;00m\u001b[38;5;124m has no attribute \u001b[39m\u001b[38;5;124m\"\u001b[39m\n\u001b[0;32m    314\u001b[0m                      \u001b[38;5;124m\"\u001b[39m\u001b[38;5;132;01m{!r}\u001b[39;00m\u001b[38;5;124m\"\u001b[39m\u001b[38;5;241m.\u001b[39mformat(\u001b[38;5;18m__name__\u001b[39m, attr))\n",
      "\u001b[1;31mAttributeError\u001b[0m: module 'numpy' has no attribute 'concencate'"
     ]
    }
   ],
   "source": []
  },
  {
   "cell_type": "code",
   "execution_count": null,
   "id": "47cfef8d-e69b-4bc2-a64a-62a0b7ee340b",
   "metadata": {},
   "outputs": [],
   "source": [
    "# Now lets mix up spectra\n",
    "\n",
    "for i in range(0, 100):\n",
    "    MI_Mix=(y_cub_MI- y_cub_Ol*i/100)/(1-i/100)\n",
    "    "
   ]
  },
  {
   "cell_type": "code",
   "execution_count": 167,
   "id": "0f2833b3-2ebe-4205-8895-2751a559941c",
   "metadata": {},
   "outputs": [
    {
     "data": {
      "text/plain": [
       "array([827.1206175, 827.1206175, 827.1206175, 827.1206175, 827.1206175,\n",
       "       827.1206175, 827.1206175, 827.1206175, 827.1206175, 827.1206175,\n",
       "       827.1206175, 827.1206175, 827.1206175, 827.1206175, 827.1206175,\n",
       "       827.1206175, 827.1206175, 827.1206175, 827.1206175, 827.1206175,\n",
       "       827.1206175, 827.1206175, 827.1206175, 827.1206175, 827.1206175,\n",
       "       827.1206175, 827.1206175, 827.1206175, 827.1206175, 827.1206175,\n",
       "       827.1206175, 827.1206175, 827.1206175, 827.1206175, 827.1206175,\n",
       "       827.1206175, 827.1206175, 827.1206175, 827.1206175, 827.1206175,\n",
       "       827.1206175, 827.1206175, 827.1206175, 827.1206175, 827.1206175,\n",
       "       827.1206175, 827.1206175, 827.1206175, 827.1206175, 827.1206175,\n",
       "       827.1206175, 827.1206175, 827.1206175, 827.1206175, 827.1206175,\n",
       "       827.1206175, 827.1206175, 827.1206175, 827.1206175, 827.1206175,\n",
       "       827.1206175, 827.1206175, 827.1206175, 827.1206175, 827.1206175,\n",
       "       827.1206175, 827.1206175, 827.1206175, 827.1206175, 827.1206175,\n",
       "       827.1206175, 827.1206175, 827.1206175, 827.1206175, 827.1206175,\n",
       "       827.1206175, 827.1206175, 827.1206175, 827.1206175, 827.1206175,\n",
       "       827.1206175, 827.1206175, 827.1206175, 827.1206175, 827.1206175,\n",
       "       827.1206175, 827.1206175, 827.1206175, 827.1206175, 827.1206175,\n",
       "       827.1206175, 827.1206175, 827.1206175, 827.1206175, 827.1206175,\n",
       "       827.1206175, 827.1206175, 827.1206175, 827.1206175, 827.1206175,\n",
       "       827.1206175])"
      ]
     },
     "execution_count": 167,
     "metadata": {},
     "output_type": "execute_result"
    }
   ],
   "source": [
    "px"
   ]
  },
  {
   "cell_type": "code",
   "execution_count": null,
   "id": "d186d737-cddc-4dc2-bb87-a81d2f75e824",
   "metadata": {},
   "outputs": [],
   "source": [
    "# When first derivate is zero, at a turning points. \n",
    "# Second derivative - tells you if its a minimum or a maximum. Rate of change. \n",
    "# "
   ]
  },
  {
   "cell_type": "code",
   "execution_count": 128,
   "id": "87faae64-fef5-4e2d-ae71-9c134142d470",
   "metadata": {},
   "outputs": [
    {
     "data": {
      "text/plain": [
       "-1124.9228743798164"
      ]
     },
     "execution_count": 128,
     "metadata": {},
     "output_type": "execute_result"
    }
   ],
   "source": [
    "max_trough_y"
   ]
  },
  {
   "cell_type": "code",
   "execution_count": 123,
   "id": "3b2a4d08-4ad2-4a68-8ea4-a924bf86bb4a",
   "metadata": {},
   "outputs": [
    {
     "data": {
      "text/plain": [
       "[<matplotlib.lines.Line2D at 0x276afdc2670>]"
      ]
     },
     "execution_count": 123,
     "metadata": {},
     "output_type": "execute_result"
    },
    {
     "data": {
      "image/png": "[encoded data removed]",
      "text/plain": [
       "<Figure size 432x288 with 1 Axes>"
      ]
     },
     "metadata": {
      "needs_background": "light"
     },
     "output_type": "display_data"
    }
   ],
   "source": [
    "plt.plot(trim_x, -trim_y_cub_Ol, '-r')"
   ]
  },
  {
   "cell_type": "code",
   "execution_count": 104,
   "id": "28071b90-8c5d-4eb0-b229-f13f855b2416",
   "metadata": {},
   "outputs": [
    {
     "name": "stdout",
     "output_type": "stream",
     "text": [
      "Enter the items in the list\n",
      "The given list is :  [804.5999756  804.60724961 804.61452229 ... 821.80942346 821.80470517\n",
      " 821.7999878 ]\n",
      "The peaks present in the given list is :  [1417.0194804319042, 2148.1708913258735]\n",
      "The trough present in the given list is :  [804.5999756, 821.7999878, 1124.9228743798164]\n"
     ]
    }
   ],
   "source": [
    "print(\"Enter the items in the list\")\n",
    "l=y_cub_Ol\n",
    "print(\"The given list is : \",end=\" \")\n",
    "print(l)\n",
    "p,n,c=0,0,0\n",
    "d=[]\n",
    "f=[]\n",
    "if l[0] > l[1]:\n",
    "    d.append(l[0])\n",
    "if l[0]<l[1]:\n",
    "    f.append(l[0])\n",
    "if l[-1]>l[-2]:\n",
    "    d.append(l[-1])\n",
    "if l[-1]<l[-2]:\n",
    "    f.append(l[-1])\n",
    "for i in range(1,len(l)):\n",
    "    p=i-1\n",
    "    n=i+1\n",
    "    c=i\n",
    "    if p>=0 and n<len(l) and c<len(l):\n",
    "        if l[p]<l[c] and l[n]<l[c]:\n",
    "            d.append(l[c])\n",
    "        if l[p]>l[c] and l[n]>l[c]:\n",
    "            f.append(l[c])\n",
    "print(\"The peaks present in the given list is : \",d)\n",
    "print(\"The trough present in the given list is : \",f)"
   ]
  },
  {
   "cell_type": "code",
   "execution_count": 105,
   "id": "18298c65-45b9-4307-8a90-de9c30bd0872",
   "metadata": {},
   "outputs": [
    {
     "data": {
      "text/plain": [
       "array([], dtype=float64)"
      ]
     },
     "execution_count": 105,
     "metadata": {},
     "output_type": "execute_result"
    }
   ],
   "source": [
    "Peak_1_x=Filt_Ol[:, 0][Filt_Ol[:, 1]==d[0]]\n",
    "Peak_1_x\n",
    "\n",
    "trough_1_x=Filt_Ol[:, 0][Filt_Ol[:, 1]==f[0]]\n",
    "trough_1_x\n",
    "\n",
    "trough_2_x=Filt_Ol[:, 0][Filt_Ol[:, 1]==f[1]]\n",
    "trough_2_x\n",
    "\n",
    "trough_3_x=Filt_Ol[:, 0][Filt_Ol[:, 1]==f[2]]\n",
    "trough_3_x"
   ]
  },
  {
   "cell_type": "markdown",
   "id": "dcdc6a7c-d65d-4164-92e1-d536e3cbc828",
   "metadata": {},
   "source": [
    "## Make Mass balance\n",
    "Mixed_Spectra = MI * (1-X Ol) + (Ol * XOl)\n",
    "\n",
    "Mixed_Spectra - (Ol * XOl) / (1-X Ol) = MI"
   ]
  },
  {
   "cell_type": "code",
   "execution_count": 67,
   "id": "1c81143a-bef0-4cfb-ba8c-927acde18fd5",
   "metadata": {},
   "outputs": [],
   "source": [
    "X_Ol=0.75\n",
    "\n",
    "MI_Ol_Sub_025=(MI- Ol*0.25)/(1-0.25)\n",
    "MI_Ol_Sub_05=(MI- Ol*0.5)/(1-0.5)\n",
    "MI_Ol_Sub_065=(MI- Ol*0.65)/(1-0.65)\n",
    "MI_Ol_Sub_070=(MI- Ol*0.7)/(1-0.7)\n",
    "MI_Ol_Sub_075=(MI- Ol*0.75)/(1-0.75)\n",
    "MI_Ol_Sub_085=(MI- Ol*0.85)/(1-0.85)\n",
    "MI_Ol_Sub_095=(MI- Ol*0.95)/(1-0.95)"
   ]
  },
  {
   "cell_type": "code",
   "execution_count": 68,
   "id": "c30c99b5-3c28-4ea0-8352-985df1ee9440",
   "metadata": {},
   "outputs": [
    {
     "data": {
      "text/plain": [
       "(4000.0, 6000.0)"
      ]
     },
     "execution_count": 68,
     "metadata": {},
     "output_type": "execute_result"
    },
    {
     "data": {
      "image/png": "[encoded data removed]",
      "text/plain": [
       "<Figure size 432x288 with 1 Axes>"
      ]
     },
     "metadata": {
      "needs_background": "light"
     },
     "output_type": "display_data"
    }
   ],
   "source": [
    "miny=4000\n",
    "maxy=6000\n",
    "plt.plot(MI_Ol_Sub_075[:, 0], MI_Ol_Sub_075[:, 1], '-r')\n",
    "plt.plot([peak_pos_Ol[0], peak_pos_Ol[0]], [miny, maxy])\n",
    "plt.plot([peak_pos_Ol[1], peak_pos_Ol[1]], [miny, maxy])\n",
    "\n",
    "plt.xlim([700, 1000])\n",
    "plt.ylim([miny, maxy])"
   ]
  },
  {
   "cell_type": "code",
   "execution_count": 77,
   "id": "30ae36cd-9a8d-4ac1-adb5-54b82249f651",
   "metadata": {},
   "outputs": [
    {
     "data": {
      "text/plain": [
       "(6000.0, 12000.0)"
      ]
     },
     "execution_count": 77,
     "metadata": {},
     "output_type": "execute_result"
    },
    {
     "data": {
      "image/png": "[encoded data removed]",
      "text/plain": [
       "<Figure size 432x288 with 1 Axes>"
      ]
     },
     "metadata": {
      "needs_background": "light"
     },
     "output_type": "display_data"
    }
   ],
   "source": [
    "miny=6000\n",
    "maxy=12000\n",
    "plt.plot(MI_Ol_Sub_085[:, 0], MI_Ol_Sub_085[:, 1], '.r')\n",
    "plt.plot([peak_pos_Ol[0], peak_pos_Ol[0]], [miny, maxy])\n",
    "plt.plot([peak_pos_Ol[1], peak_pos_Ol[1]], [miny, maxy])\n",
    "\n",
    "plt.xlim([700, 1000])\n",
    "plt.ylim([miny, maxy])"
   ]
  },
  {
   "cell_type": "code",
   "execution_count": 69,
   "id": "808b7e6d-f190-4eeb-a97b-a9b1dd72a3fc",
   "metadata": {},
   "outputs": [
    {
     "data": {
      "text/plain": [
       "(3000.0, 6000.0)"
      ]
     },
     "execution_count": 69,
     "metadata": {},
     "output_type": "execute_result"
    },
    {
     "data": {
      "image/png": "[encoded data removed]",
      "text/plain": [
       "<Figure size 432x288 with 1 Axes>"
      ]
     },
     "metadata": {
      "needs_background": "light"
     },
     "output_type": "display_data"
    }
   ],
   "source": [
    "miny=3000\n",
    "maxy=6000\n",
    "plt.plot(MI_Ol_Sub_065[:, 0], MI_Ol_Sub_065[:, 1], '-r')\n",
    "plt.plot([peak_pos_Ol[0], peak_pos_Ol[0]], [miny, maxy])\n",
    "plt.plot([peak_pos_Ol[1], peak_pos_Ol[1]], [miny, maxy])\n",
    "\n",
    "plt.xlim([700, 1000])\n",
    "plt.ylim([miny, maxy])"
   ]
  },
  {
   "cell_type": "code",
   "execution_count": 70,
   "id": "07007ce3-dac4-4444-a2ee-d59c7d0d4259",
   "metadata": {},
   "outputs": [
    {
     "data": {
      "text/plain": [
       "(3000.0, 6000.0)"
      ]
     },
     "execution_count": 70,
     "metadata": {},
     "output_type": "execute_result"
    },
    {
     "data": {
      "image/png": "[encoded data removed]",
      "text/plain": [
       "<Figure size 432x288 with 1 Axes>"
      ]
     },
     "metadata": {
      "needs_background": "light"
     },
     "output_type": "display_data"
    }
   ],
   "source": [
    "miny=3000\n",
    "maxy=6000\n",
    "plt.plot(MI_Ol_Sub_070[:, 0], MI_Ol_Sub_070[:, 1], '-r')\n",
    "plt.plot([peak_pos_Ol[0], peak_pos_Ol[0]], [miny, maxy])\n",
    "plt.plot([peak_pos_Ol[1], peak_pos_Ol[1]], [miny, maxy])\n",
    "\n",
    "plt.xlim([700, 1000])\n",
    "plt.ylim([miny, maxy])"
   ]
  },
  {
   "cell_type": "code",
   "execution_count": 55,
   "id": "3ec6fd5a-b835-41da-8296-73b8a13b8b16",
   "metadata": {},
   "outputs": [
    {
     "data": {
      "text/plain": [
       "(0.0, 20000.0)"
      ]
     },
     "execution_count": 55,
     "metadata": {},
     "output_type": "execute_result"
    },
    {
     "data": {
      "image/png": "[encoded data removed]",
      "text/plain": [
       "<Figure size 432x288 with 1 Axes>"
      ]
     },
     "metadata": {
      "needs_background": "light"
     },
     "output_type": "display_data"
    }
   ],
   "source": [
    "plt.plot(MI_Ol_Sub_025[:, 0], MI_Ol_Sub_025[:, 1], '-c')\n",
    "plt.plot(MI_Ol_Sub_05[:, 0], MI_Ol_Sub_05[:, 1], '-b')\n",
    "plt.plot(MI_Ol_Sub_075[:, 0], MI_Ol_Sub_075[:, 1], '-r')\n",
    "# plt.plot(MI_Ol_Sub_085[:, 0], MI_Ol_Sub_085[:, 1], '-m')\n",
    "plt.plot(MI_Ol_Sub_095[:, 0], MI_Ol_Sub_095[:, 1], '-k')\n",
    "plt.xlim([700, 1000])\n",
    "plt.ylim([0, 20000])"
   ]
  },
  {
   "cell_type": "code",
   "execution_count": 24,
   "id": "00c4e50c-4485-4273-9eae-52c5bcf87b38",
   "metadata": {},
   "outputs": [],
   "source": []
  },
  {
   "cell_type": "code",
   "execution_count": 30,
   "id": "9774dc8c-dac1-4f54-b402-95c91d2ac059",
   "metadata": {},
   "outputs": [],
   "source": []
  },
  {
   "cell_type": "code",
   "execution_count": 41,
   "id": "2d06f087-53bd-4ca5-89fe-916f6e7b5037",
   "metadata": {},
   "outputs": [
    {
     "data": {
      "text/plain": [
       "[<matplotlib.lines.Line2D at 0x276ab5d56d0>]"
      ]
     },
     "execution_count": 41,
     "metadata": {},
     "output_type": "execute_result"
    },
    {
     "data": {
      "image/png": "[encoded data removed]",
      "text/plain": [
       "<Figure size 432x288 with 1 Axes>"
      ]
     },
     "metadata": {
      "needs_background": "light"
     },
     "output_type": "display_data"
    }
   ],
   "source": [
    "plt.plot(Filt_Ol[:, 0], -Filt_Ol[:, 1], '-r')"
   ]
  },
  {
   "cell_type": "code",
   "execution_count": 45,
   "id": "fdd2fb4d-f2ff-4e76-b220-17148cefd48e",
   "metadata": {},
   "outputs": [
    {
     "data": {
      "text/plain": [
       "(array([7], dtype=int64), {})"
      ]
     },
     "execution_count": 45,
     "metadata": {},
     "output_type": "execute_result"
    }
   ],
   "source": [
    "troughs_Ol = find_peaks(-Filt_Ol[:, 1])\n",
    "# troughs_height_Ol=troughs_Ol[1]['peak_heights']\n",
    "# troughs_pos_Ol = Filt_Ol[:, 0][troughs_Ol[0]]\n",
    "troughs_Ol"
   ]
  },
  {
   "cell_type": "code",
   "execution_count": 33,
   "id": "ef6cad80-186f-431c-982f-63dd2231bf17",
   "metadata": {},
   "outputs": [
    {
     "data": {
      "text/plain": [
       "[<matplotlib.lines.Line2D at 0x276ab3ed6d0>]"
      ]
     },
     "execution_count": 33,
     "metadata": {},
     "output_type": "execute_result"
    },
    {
     "data": {
      "image/png": "[encoded data removed]",
      "text/plain": [
       "<Figure size 432x288 with 1 Axes>"
      ]
     },
     "metadata": {
      "needs_background": "light"
     },
     "output_type": "display_data"
    }
   ],
   "source": [
    "plt.plot(Filt_Ol[:, 0], Filt_Ol[:, 1], '-r')\n",
    "plt.plot(peak_pos_Ol, peak_height_Ol, '*k', ms=10)\n",
    "plt.plot(troughs_pos_Ol, troughs_height_Ol, '*g', ms=10)"
   ]
  },
  {
   "cell_type": "code",
   "execution_count": 9,
   "id": "7f6843ac-8053-46d4-9477-2ec5c41edd6c",
   "metadata": {},
   "outputs": [
    {
     "data": {
      "text/plain": [
       "(500.0, 1500.0)"
      ]
     },
     "execution_count": 9,
     "metadata": {},
     "output_type": "execute_result"
    },
    {
     "data": {
      "image/png": "[encoded data removed]",
      "text/plain": [
       "<Figure size 432x288 with 1 Axes>"
      ]
     },
     "metadata": {
      "needs_background": "light"
     },
     "output_type": "display_data"
    }
   ],
   "source": [
    "plt.plot(MI[:, 0], MI[:, 1], '-k')\n",
    "plt.plot(Ol[:, 0], Ol[:, 1], '-g')\n",
    "plt.plot(MI_Ol_Sub[:, 0], MI_Ol_Sub[:, 1], '-m')\n",
    "\n",
    "plt.xlim([500, 1500])"
   ]
  },
  {
   "cell_type": "markdown",
   "id": "8e84f361-25ad-4877-b0ca-1a3936a62968",
   "metadata": {},
   "source": [
    "## First step, find Olivine peak in MI spectra"
   ]
  },
  {
   "cell_type": "code",
   "execution_count": 22,
   "id": "38f80799-9f64-406c-83d8-d62e19f757ea",
   "metadata": {},
   "outputs": [
    {
     "ename": "NameError",
     "evalue": "name 'MI' is not defined",
     "output_type": "error",
     "traceback": [
      "\u001b[1;31m---------------------------------------------------------------------------\u001b[0m",
      "\u001b[1;31mNameError\u001b[0m                                 Traceback (most recent call last)",
      "Input \u001b[1;32mIn [22]\u001b[0m, in \u001b[0;36m<cell line: 1>\u001b[1;34m()\u001b[0m\n\u001b[1;32m----> 1\u001b[0m Filt_MI\u001b[38;5;241m=\u001b[39m\u001b[43mMI\u001b[49m[(MI[:, \u001b[38;5;241m0\u001b[39m]\u001b[38;5;241m>\u001b[39m\u001b[38;5;241m790\u001b[39m) \u001b[38;5;241m&\u001b[39m (MI[:, \u001b[38;5;241m0\u001b[39m]\u001b[38;5;241m<\u001b[39m\u001b[38;5;241m850\u001b[39m)]\n",
      "\u001b[1;31mNameError\u001b[0m: name 'MI' is not defined"
     ]
    }
   ],
   "source": []
  },
  {
   "cell_type": "code",
   "execution_count": null,
   "id": "d6d73f72-ee76-4ef4-92b5-14246bb850c6",
   "metadata": {},
   "outputs": [],
   "source": [
    "plt.plot(Filt_MI[:, 0], Filt_MI[:, 1], '-k')"
   ]
  }
 ],
 "metadata": {
  "kernelspec": {
   "display_name": "Python 3 (ipykernel)",
   "language": "python",
   "name": "python3"
  },
  "language_info": {
   "codemirror_mode": {
    "name": "ipython",
    "version": 3
   },
   "file_extension": ".py",
   "mimetype": "text/x-python",
   "name": "python",
   "nbconvert_exporter": "python",
   "pygments_lexer": "ipython3",
   "version": "3.9.12"
  }
 },
 "nbformat": 4,
 "nbformat_minor": 5
}
