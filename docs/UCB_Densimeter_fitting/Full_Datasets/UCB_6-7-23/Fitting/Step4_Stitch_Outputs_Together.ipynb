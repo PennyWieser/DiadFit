{
 "cells": [
  {
   "attachments": {},
   "cell_type": "markdown",
   "id": "0a5d30ae-095e-4406-aff7-a817c2603e2c",
   "metadata": {},
   "source": [
    "# 4. Stitch outputs together\n",
    "- Once you have fitted the weak, medium and dense diads, stitch them all together, and apply the Ne correction model"
   ]
  },
  {
   "cell_type": "code",
   "execution_count": 1,
   "id": "56f8c066-4754-4d3e-9217-ae9e8f792016",
   "metadata": {},
   "outputs": [
    {
     "data": {
      "text/plain": [
       "'0.0.59'"
      ]
     },
     "execution_count": 1,
     "metadata": {},
     "output_type": "execute_result"
    }
   ],
   "source": [
    "import numpy as np\n",
    "import pandas as pd\n",
    "import matplotlib.pyplot as plt\n",
    "import joblib\n",
    "import os\n",
    "from pickle import load\n",
    "import pickle\n",
    "import DiadFit as pf\n",
    "pf.__version__"
   ]
  },
  {
   "cell_type": "code",
   "execution_count": 2,
   "id": "cab54670-2019-40be-b7d8-588189ac9ced",
   "metadata": {},
   "outputs": [],
   "source": [
    "MasterFolder = r\"C:\\Users\\charl\\Documents\\Instruments and calibrations\"\n",
    "DayFolder = os.path.join(MasterFolder, \"UCB_6-7-23\")\n",
    "\n",
    "meta_path=DayFolder +  '\\Metadata'\n",
    "spectra_path=DayFolder + '\\Spectra'\n",
    "\n",
    "if not os.path.exists(MasterFolder + '\\OUTPUT'):\n",
    "    os.mkdir(MasterFolder +'\\OUTPUT')\n",
    "\n",
    "output_path=MasterFolder +'\\OUTPUT'\n"
   ]
  },
  {
   "attachments": {},
   "cell_type": "markdown",
   "id": "8230f033-6c2c-4494-a554-885ab21b2e21",
   "metadata": {},
   "source": [
    "## Load in specra, and combine"
   ]
  },
  {
   "cell_type": "code",
   "execution_count": 3,
   "id": "0b0bb450-0872-44f7-b99e-2585f994efde",
   "metadata": {},
   "outputs": [],
   "source": [
    "from os import path\n",
    "if path.exists('Discarded_df.xlsx'):\n",
    "    discard=pd.read_excel('Discarded_df.xlsx')\n",
    "else:\n",
    "    discard=None\n",
    "if path.exists('Weak_Diads.xlsx'):\n",
    "    grp1=pd.read_excel('Weak_Diads.xlsx')\n",
    "else:\n",
    "    grp1=None\n",
    "if path.exists('Medium_Diads.xlsx'):\n",
    "    grp2=pd.read_excel('Medium_Diads.xlsx')\n",
    "else:\n",
    "    grp2=None\n",
    "if path.exists('Strong_Diads.xlsx'):\n",
    "    grp3=pd.read_excel('Strong_Diads.xlsx')\n",
    "else:\n",
    "    grp3=None\n",
    "df2=pd.concat([grp1, grp2, grp3], axis=0)\n",
    "if discard is not None:\n",
    "    discard_cols=discard[discard.columns.intersection(df2.columns)]\n",
    "    df2=pd.concat([df2, discard_cols])"
   ]
  },
  {
   "cell_type": "code",
   "execution_count": 4,
   "id": "3a7ed038-f31a-41d8-9f30-c278103c56a6",
   "metadata": {},
   "outputs": [
    {
     "data": {
      "text/html": [
       "<div>\n",
       "<style scoped>\n",
       "    .dataframe tbody tr th:only-of-type {\n",
       "        vertical-align: middle;\n",
       "    }\n",
       "\n",
       "    .dataframe tbody tr th {\n",
       "        vertical-align: top;\n",
       "    }\n",
       "\n",
       "    .dataframe thead th {\n",
       "        text-align: right;\n",
       "    }\n",
       "</style>\n",
       "<table border=\"1\" class=\"dataframe\">\n",
       "  <thead>\n",
       "    <tr style=\"text-align: right;\">\n",
       "      <th></th>\n",
       "      <th>Unnamed: 0</th>\n",
       "      <th>filename</th>\n",
       "      <th>Splitting</th>\n",
       "      <th>Split_err_abs</th>\n",
       "      <th>Split_err_quadrature</th>\n",
       "      <th>Diad1_Combofit_Cent</th>\n",
       "      <th>Diad1_cent_err</th>\n",
       "      <th>Diad1_Combofit_Height</th>\n",
       "      <th>Diad1_Voigt_Cent</th>\n",
       "      <th>Diad1_Voigt_Area</th>\n",
       "      <th>...</th>\n",
       "      <th>HB2_Sigma</th>\n",
       "      <th>C13_Cent</th>\n",
       "      <th>C13_Area</th>\n",
       "      <th>C13_Sigma</th>\n",
       "      <th>Diad2_Gauss_Cent</th>\n",
       "      <th>Diad2_Gauss_Area</th>\n",
       "      <th>Diad2_Gauss_Sigma</th>\n",
       "      <th>Diad1_Gauss_Cent</th>\n",
       "      <th>Diad1_Gauss_Area</th>\n",
       "      <th>Diad1_Gauss_Sigma</th>\n",
       "    </tr>\n",
       "  </thead>\n",
       "  <tbody>\n",
       "    <tr>\n",
       "      <th>0</th>\n",
       "      <td>0</td>\n",
       "      <td>FDCA-P28-1</td>\n",
       "      <td>104.522847</td>\n",
       "      <td>0.004000</td>\n",
       "      <td>0.004000</td>\n",
       "      <td>1283.107201</td>\n",
       "      <td>0.000000</td>\n",
       "      <td>801.982439</td>\n",
       "      <td>1283.107201</td>\n",
       "      <td>2292.943622</td>\n",
       "      <td>...</td>\n",
       "      <td>NaN</td>\n",
       "      <td>NaN</td>\n",
       "      <td>NaN</td>\n",
       "      <td>NaN</td>\n",
       "      <td>NaN</td>\n",
       "      <td>NaN</td>\n",
       "      <td>NaN</td>\n",
       "      <td>NaN</td>\n",
       "      <td>NaN</td>\n",
       "      <td>NaN</td>\n",
       "    </tr>\n",
       "    <tr>\n",
       "      <th>1</th>\n",
       "      <td>0</td>\n",
       "      <td>FDCA-P29-1</td>\n",
       "      <td>104.431439</td>\n",
       "      <td>0.004738</td>\n",
       "      <td>0.004738</td>\n",
       "      <td>1283.262920</td>\n",
       "      <td>0.000000</td>\n",
       "      <td>697.295940</td>\n",
       "      <td>1283.262920</td>\n",
       "      <td>2031.641449</td>\n",
       "      <td>...</td>\n",
       "      <td>NaN</td>\n",
       "      <td>NaN</td>\n",
       "      <td>NaN</td>\n",
       "      <td>NaN</td>\n",
       "      <td>NaN</td>\n",
       "      <td>NaN</td>\n",
       "      <td>NaN</td>\n",
       "      <td>NaN</td>\n",
       "      <td>NaN</td>\n",
       "      <td>NaN</td>\n",
       "    </tr>\n",
       "    <tr>\n",
       "      <th>2</th>\n",
       "      <td>0</td>\n",
       "      <td>FDCA-P30-1</td>\n",
       "      <td>104.325317</td>\n",
       "      <td>0.015497</td>\n",
       "      <td>0.011279</td>\n",
       "      <td>1283.553382</td>\n",
       "      <td>0.009637</td>\n",
       "      <td>485.948410</td>\n",
       "      <td>1283.553382</td>\n",
       "      <td>1460.872215</td>\n",
       "      <td>...</td>\n",
       "      <td>NaN</td>\n",
       "      <td>NaN</td>\n",
       "      <td>NaN</td>\n",
       "      <td>NaN</td>\n",
       "      <td>NaN</td>\n",
       "      <td>NaN</td>\n",
       "      <td>NaN</td>\n",
       "      <td>NaN</td>\n",
       "      <td>NaN</td>\n",
       "      <td>NaN</td>\n",
       "    </tr>\n",
       "    <tr>\n",
       "      <th>3</th>\n",
       "      <td>0</td>\n",
       "      <td>FDCA-P30-2</td>\n",
       "      <td>104.290017</td>\n",
       "      <td>0.011170</td>\n",
       "      <td>0.008092</td>\n",
       "      <td>1283.590141</td>\n",
       "      <td>0.006829</td>\n",
       "      <td>489.935089</td>\n",
       "      <td>1283.590141</td>\n",
       "      <td>1452.568423</td>\n",
       "      <td>...</td>\n",
       "      <td>NaN</td>\n",
       "      <td>NaN</td>\n",
       "      <td>NaN</td>\n",
       "      <td>NaN</td>\n",
       "      <td>NaN</td>\n",
       "      <td>NaN</td>\n",
       "      <td>NaN</td>\n",
       "      <td>NaN</td>\n",
       "      <td>NaN</td>\n",
       "      <td>NaN</td>\n",
       "    </tr>\n",
       "    <tr>\n",
       "      <th>4</th>\n",
       "      <td>0</td>\n",
       "      <td>FDCA-P30-3</td>\n",
       "      <td>104.303668</td>\n",
       "      <td>0.011112</td>\n",
       "      <td>0.007885</td>\n",
       "      <td>1283.577940</td>\n",
       "      <td>0.006022</td>\n",
       "      <td>492.050372</td>\n",
       "      <td>1283.577940</td>\n",
       "      <td>1469.331278</td>\n",
       "      <td>...</td>\n",
       "      <td>NaN</td>\n",
       "      <td>NaN</td>\n",
       "      <td>NaN</td>\n",
       "      <td>NaN</td>\n",
       "      <td>NaN</td>\n",
       "      <td>NaN</td>\n",
       "      <td>NaN</td>\n",
       "      <td>NaN</td>\n",
       "      <td>NaN</td>\n",
       "      <td>NaN</td>\n",
       "    </tr>\n",
       "  </tbody>\n",
       "</table>\n",
       "<p>5 rows × 41 columns</p>\n",
       "</div>"
      ],
      "text/plain": [
       "  Unnamed: 0    filename   Splitting  Split_err_abs  Split_err_quadrature  \\\n",
       "0          0  FDCA-P28-1  104.522847       0.004000              0.004000   \n",
       "1          0  FDCA-P29-1  104.431439       0.004738              0.004738   \n",
       "2          0  FDCA-P30-1  104.325317       0.015497              0.011279   \n",
       "3          0  FDCA-P30-2  104.290017       0.011170              0.008092   \n",
       "4          0  FDCA-P30-3  104.303668       0.011112              0.007885   \n",
       "\n",
       "   Diad1_Combofit_Cent  Diad1_cent_err  Diad1_Combofit_Height  \\\n",
       "0          1283.107201        0.000000             801.982439   \n",
       "1          1283.262920        0.000000             697.295940   \n",
       "2          1283.553382        0.009637             485.948410   \n",
       "3          1283.590141        0.006829             489.935089   \n",
       "4          1283.577940        0.006022             492.050372   \n",
       "\n",
       "   Diad1_Voigt_Cent  Diad1_Voigt_Area  ...  HB2_Sigma  C13_Cent  C13_Area  \\\n",
       "0       1283.107201       2292.943622  ...        NaN       NaN       NaN   \n",
       "1       1283.262920       2031.641449  ...        NaN       NaN       NaN   \n",
       "2       1283.553382       1460.872215  ...        NaN       NaN       NaN   \n",
       "3       1283.590141       1452.568423  ...        NaN       NaN       NaN   \n",
       "4       1283.577940       1469.331278  ...        NaN       NaN       NaN   \n",
       "\n",
       "   C13_Sigma Diad2_Gauss_Cent  Diad2_Gauss_Area  Diad2_Gauss_Sigma  \\\n",
       "0        NaN              NaN               NaN                NaN   \n",
       "1        NaN              NaN               NaN                NaN   \n",
       "2        NaN              NaN               NaN                NaN   \n",
       "3        NaN              NaN               NaN                NaN   \n",
       "4        NaN              NaN               NaN                NaN   \n",
       "\n",
       "   Diad1_Gauss_Cent  Diad1_Gauss_Area  Diad1_Gauss_Sigma  \n",
       "0               NaN               NaN                NaN  \n",
       "1               NaN               NaN                NaN  \n",
       "2               NaN               NaN                NaN  \n",
       "3               NaN               NaN                NaN  \n",
       "4               NaN               NaN                NaN  \n",
       "\n",
       "[5 rows x 41 columns]"
      ]
     },
     "execution_count": 4,
     "metadata": {},
     "output_type": "execute_result"
    }
   ],
   "source": [
    "df2.head()"
   ]
  },
  {
   "attachments": {},
   "cell_type": "markdown",
   "id": "6449c9b4-d538-4d37-ad78-49c87aa677af",
   "metadata": {},
   "source": [
    "## First, get the metadata for this day"
   ]
  },
  {
   "cell_type": "code",
   "execution_count": 5,
   "id": "027e3ea1-f4ef-4c53-a57d-977e1f639ec9",
   "metadata": {},
   "outputs": [
    {
     "data": {
      "text/plain": [
       "['FDCA-P1-1.txt',\n",
       " 'FDCA-P1-2.txt',\n",
       " 'FDCA-P1-3.txt',\n",
       " 'FDCA-P10-1.txt',\n",
       " 'FDCA-P11-1.txt',\n",
       " 'FDCA-P12-1.txt',\n",
       " 'FDCA-P13-1.txt',\n",
       " 'FDCA-P14-1.txt',\n",
       " 'FDCA-P14-2.txt',\n",
       " 'FDCA-P14-3.txt',\n",
       " 'FDCA-P15-1.txt',\n",
       " 'FDCA-P16-1.txt',\n",
       " 'FDCA-P17-1.txt',\n",
       " 'FDCA-P18-1.txt',\n",
       " 'FDCA-P19-1.txt',\n",
       " 'FDCA-P19-2.txt',\n",
       " 'FDCA-P19-3.txt',\n",
       " 'FDCA-P2-1.txt',\n",
       " 'FDCA-P2-2.txt',\n",
       " 'FDCA-P2-3.txt',\n",
       " 'FDCA-P20-1.txt',\n",
       " 'FDCA-P21-1.txt',\n",
       " 'FDCA-P22-1.txt',\n",
       " 'FDCA-P23-1.txt',\n",
       " 'FDCA-P23-2.txt',\n",
       " 'FDCA-P23-3.txt',\n",
       " 'FDCA-P24-1.txt',\n",
       " 'FDCA-P25-1.txt',\n",
       " 'FDCA-P26-1.txt',\n",
       " 'FDCA-P27-1.txt',\n",
       " 'FDCA-P27-2.txt',\n",
       " 'FDCA-P27-3.txt',\n",
       " 'FDCA-P28-1.txt',\n",
       " 'FDCA-P29-1.txt',\n",
       " 'FDCA-P3-1.txt',\n",
       " 'FDCA-P3-2.txt',\n",
       " 'FDCA-P3-3.txt',\n",
       " 'FDCA-P30-1.txt',\n",
       " 'FDCA-P30-2.txt',\n",
       " 'FDCA-P30-3.txt',\n",
       " 'FDCA-P4-1.txt',\n",
       " 'FDCA-P4-2.txt',\n",
       " 'FDCA-P4-3.txt',\n",
       " 'FDCA-P5-1.txt',\n",
       " 'FDCA-P5-2.txt',\n",
       " 'FDCA-P5-3.txt',\n",
       " 'FDCA-P6-1.txt',\n",
       " 'FDCA-P6-2.txt',\n",
       " 'FDCA-P6-3.txt',\n",
       " 'FDCA-P7-1.txt',\n",
       " 'FDCA-P7-2.txt',\n",
       " 'FDCA-P7-3.txt',\n",
       " 'FDCA-P8-1.txt',\n",
       " 'FDCA-P8-2.txt',\n",
       " 'FDCA-P8-3.txt',\n",
       " 'FDCA-P9-1.txt',\n",
       " 'FDCA-P9-2.txt',\n",
       " 'FDCA-P9-3.txt']"
      ]
     },
     "execution_count": 5,
     "metadata": {},
     "output_type": "execute_result"
    }
   ],
   "source": [
    "# Put the common string you can in all your Ne lines here\n",
    "ID_str='_'\n",
    "file_ext_meta='txt' # Will only take files of this type \n",
    "diad_meta=pf.get_files(path=meta_path,\n",
    "file_ext='txt', exclude_str=['N', 'Si', 'series','IMG','Cap','window','nodiad'],\n",
    " sort=True)\n",
    "diad_meta"
   ]
  },
  {
   "attachments": {},
   "cell_type": "markdown",
   "id": "378575ca-336b-4f04-bc6e-cf397dfdc56e",
   "metadata": {},
   "source": [
    "## Now get all the important information out of the metadata files"
   ]
  },
  {
   "cell_type": "code",
   "execution_count": 6,
   "id": "57ebb7b9-5c4f-4b49-9686-36f0d2ec9e8d",
   "metadata": {},
   "outputs": [
    {
     "name": "stderr",
     "output_type": "stream",
     "text": [
      "100%|██████████| 58/58 [00:00<00:00, 594.78it/s]"
     ]
    },
    {
     "name": "stdout",
     "output_type": "stream",
     "text": [
      "Done\n"
     ]
    },
    {
     "name": "stderr",
     "output_type": "stream",
     "text": [
      "\n"
     ]
    },
    {
     "data": {
      "text/plain": [
       "'FDCA-P1-1.txt'"
      ]
     },
     "execution_count": 6,
     "metadata": {},
     "output_type": "execute_result"
    }
   ],
   "source": [
    "meta=pf.stitch_metadata_in_loop_witec(path=meta_path, \n",
    "Allfiles=diad_meta, prefix=False,\n",
    "trupower=True)\n",
    "meta['filename'].iloc[0]"
   ]
  },
  {
   "attachments": {},
   "cell_type": "markdown",
   "id": "b7a6fbc0-2b4a-4f4b-8cfd-cc227047d833",
   "metadata": {},
   "source": [
    "## Then get a simple file name you can stitch with the spectra"
   ]
  },
  {
   "cell_type": "code",
   "execution_count": 7,
   "id": "ea140384-9cb9-41bf-b57e-eb16120afe12",
   "metadata": {},
   "outputs": [
    {
     "name": "stdout",
     "output_type": "stream",
     "text": [
      "good job, no duplicate file names\n"
     ]
    },
    {
     "data": {
      "text/plain": [
       "'FDCA-P1-1'"
      ]
     },
     "execution_count": 7,
     "metadata": {},
     "output_type": "execute_result"
    }
   ],
   "source": [
    "file_m=pf.extracting_filenames_generic(names=meta['filename'],\n",
    "    prefix=False, str_prefix=\" \",\n",
    "   file_type='.txt')\n",
    "# Checks they are all unique\n",
    "file_m[0]"
   ]
  },
  {
   "attachments": {},
   "cell_type": "markdown",
   "id": "80671930-57b4-476b-aec2-0aaf23f072b5",
   "metadata": {},
   "source": [
    "## Now get filename from spectra into same form as metadata"
   ]
  },
  {
   "cell_type": "code",
   "execution_count": 8,
   "id": "5f50eae0-1a22-4d35-ba87-0d853343d859",
   "metadata": {},
   "outputs": [
    {
     "name": "stdout",
     "output_type": "stream",
     "text": [
      "good job, no duplicate file names\n"
     ]
    }
   ],
   "source": [
    "# Remove these to get the pure file name\n",
    "file_s=pf.extracting_filenames_generic(\n",
    "    prefix=False, str_prefix=\" \",\n",
    "    names=df2['filename'].reset_index(drop=True),\n",
    "   file_type='.txt')\n",
    "\n",
    "# Remove the cosmic rays, as doesnt have it in the metatdata\n",
    "file_s = np.char.replace(file_s.astype(str), \"_CRR_DiadFit\", \"\")"
   ]
  },
  {
   "cell_type": "code",
   "execution_count": 9,
   "id": "c53ee945-9b20-473d-9cef-4cfe427ad368",
   "metadata": {},
   "outputs": [
    {
     "data": {
      "text/plain": [
       "array(['FDCA-P28-1', 'FDCA-P29-1', 'FDCA-P30-1', 'FDCA-P30-2',\n",
       "       'FDCA-P30-3', 'FDCA-P1-1', 'FDCA-P1-2', 'FDCA-P1-3', 'FDCA-P10-1',\n",
       "       'FDCA-P11-1', 'FDCA-P12-1', 'FDCA-P13-1', 'FDCA-P14-1',\n",
       "       'FDCA-P14-2', 'FDCA-P14-3', 'FDCA-P15-1', 'FDCA-P16-1',\n",
       "       'FDCA-P17-1', 'FDCA-P18-1', 'FDCA-P19-1', 'FDCA-P19-2',\n",
       "       'FDCA-P19-3', 'FDCA-P2-1', 'FDCA-P2-2', 'FDCA-P2-3', 'FDCA-P20-1',\n",
       "       'FDCA-P21-1', 'FDCA-P22-1', 'FDCA-P23-1', 'FDCA-P23-2',\n",
       "       'FDCA-P23-3', 'FDCA-P24-1', 'FDCA-P25-1', 'FDCA-P26-1',\n",
       "       'FDCA-P27-1', 'FDCA-P27-2', 'FDCA-P27-3', 'FDCA-P3-1', 'FDCA-P3-2',\n",
       "       'FDCA-P3-3', 'FDCA-P4-1', 'FDCA-P4-2', 'FDCA-P4-3', 'FDCA-P5-1',\n",
       "       'FDCA-P5-2', 'FDCA-P5-3', 'FDCA-P6-1', 'FDCA-P6-2', 'FDCA-P6-3',\n",
       "       'FDCA-P7-1', 'FDCA-P7-2', 'FDCA-P7-3', 'FDCA-P8-1', 'FDCA-P8-2',\n",
       "       'FDCA-P8-3', 'FDCA-P9-1', 'FDCA-P9-2', 'FDCA-P9-3'], dtype='<U10')"
      ]
     },
     "execution_count": 9,
     "metadata": {},
     "output_type": "execute_result"
    }
   ],
   "source": [
    "file_s"
   ]
  },
  {
   "cell_type": "code",
   "execution_count": 10,
   "id": "51df3d2d-72d3-44fa-a076-b087cfdb5eef",
   "metadata": {},
   "outputs": [],
   "source": [
    "# Combining them together\n",
    "meta['name_for_matching']=file_m\n",
    "df2['name_for_matching']=file_s\n",
    "df2['Name_for_Secondary_Phases']=file_s\n",
    "df_combo=df2.merge(meta, on='name_for_matching')"
   ]
  },
  {
   "cell_type": "code",
   "execution_count": 11,
   "id": "524e4721-cc10-49c6-a262-e7795d5de57d",
   "metadata": {},
   "outputs": [
    {
     "name": "stdout",
     "output_type": "stream",
     "text": [
      "1\n"
     ]
    },
    {
     "data": {
      "text/html": [
       "<div>\n",
       "<style scoped>\n",
       "    .dataframe tbody tr th:only-of-type {\n",
       "        vertical-align: middle;\n",
       "    }\n",
       "\n",
       "    .dataframe tbody tr th {\n",
       "        vertical-align: top;\n",
       "    }\n",
       "\n",
       "    .dataframe thead th {\n",
       "        text-align: right;\n",
       "    }\n",
       "</style>\n",
       "<table border=\"1\" class=\"dataframe\">\n",
       "  <thead>\n",
       "    <tr style=\"text-align: right;\">\n",
       "      <th></th>\n",
       "      <th>time</th>\n",
       "      <th>preferred_values</th>\n",
       "      <th>lower_values</th>\n",
       "      <th>upper_values</th>\n",
       "    </tr>\n",
       "  </thead>\n",
       "  <tbody>\n",
       "    <tr>\n",
       "      <th>0</th>\n",
       "      <td>60627.0</td>\n",
       "      <td>0.997538</td>\n",
       "      <td>0.997533</td>\n",
       "      <td>0.997544</td>\n",
       "    </tr>\n",
       "    <tr>\n",
       "      <th>1</th>\n",
       "      <td>61089.0</td>\n",
       "      <td>0.997538</td>\n",
       "      <td>0.997532</td>\n",
       "      <td>0.997544</td>\n",
       "    </tr>\n",
       "    <tr>\n",
       "      <th>2</th>\n",
       "      <td>61885.0</td>\n",
       "      <td>0.997537</td>\n",
       "      <td>0.997531</td>\n",
       "      <td>0.997543</td>\n",
       "    </tr>\n",
       "    <tr>\n",
       "      <th>3</th>\n",
       "      <td>61961.0</td>\n",
       "      <td>0.997537</td>\n",
       "      <td>0.997531</td>\n",
       "      <td>0.997543</td>\n",
       "    </tr>\n",
       "    <tr>\n",
       "      <th>4</th>\n",
       "      <td>62046.0</td>\n",
       "      <td>0.997537</td>\n",
       "      <td>0.997531</td>\n",
       "      <td>0.997543</td>\n",
       "    </tr>\n",
       "  </tbody>\n",
       "</table>\n",
       "</div>"
      ],
      "text/plain": [
       "      time  preferred_values  lower_values  upper_values\n",
       "0  60627.0          0.997538      0.997533      0.997544\n",
       "1  61089.0          0.997538      0.997532      0.997544\n",
       "2  61885.0          0.997537      0.997531      0.997543\n",
       "3  61961.0          0.997537      0.997531      0.997543\n",
       "4  62046.0          0.997537      0.997531      0.997543"
      ]
     },
     "execution_count": 11,
     "metadata": {},
     "output_type": "execute_result"
    }
   ],
   "source": [
    "Ne_corr=pf.calculate_Ne_corr_std_err_values(pickle_str='polyfit_data.pkl', \n",
    "    new_x=df_combo['sec since midnight'], CI=0.67)\n",
    "Ne_corr.head()\n"
   ]
  },
  {
   "cell_type": "code",
   "execution_count": 12,
   "id": "9e07a032-4a70-42f9-a291-7ce1f3ed3839",
   "metadata": {},
   "outputs": [],
   "source": [
    "\n",
    "split_err=pf.propagate_errors_for_splitting(Ne_corr, df_combo)\n",
    "df_combo_out=df_combo.copy()\n",
    "df_combo_out.insert(1, 'Corrected_Splitting', df_combo['Splitting']*Ne_corr['preferred_values'])\n",
    "df_combo_out.insert(2, 'Corr_Split+1σ', df_combo_out['Corrected_Splitting']+split_err)\n",
    "df_combo_out.insert(3, 'Corr_Split-1σ',df_combo_out['Corrected_Splitting']-split_err)\n",
    "df_combo_out.insert(4, 'Corr_Split_1σ_val', split_err)\n",
    "\n",
    "nm=os.path.basename(DayFolder)\n",
    "df_combo_out.to_excel(output_path+'/'+nm+'_FI_fitting.xlsx')"
   ]
  },
  {
   "attachments": {},
   "cell_type": "markdown",
   "id": "54b229a4-026d-4e4e-ab0a-ed0362566919",
   "metadata": {},
   "source": [
    "## If you have secondary phases, now is the time to merge those in"
   ]
  },
  {
   "cell_type": "code",
   "execution_count": 13,
   "id": "bc38474f-45cd-4fa5-beef-49db69e82989",
   "metadata": {},
   "outputs": [
    {
     "ename": "AttributeError",
     "evalue": "'NoneType' object has no attribute 'head'",
     "output_type": "error",
     "traceback": [
      "\u001b[1;31m---------------------------------------------------------------------------\u001b[0m",
      "\u001b[1;31mAttributeError\u001b[0m                            Traceback (most recent call last)",
      "\u001b[1;32m~\\AppData\\Local\\Temp\\ipykernel_23348\\3009775449.py\u001b[0m in \u001b[0;36m<module>\u001b[1;34m\u001b[0m\n\u001b[0;32m     15\u001b[0m \u001b[1;32melse\u001b[0m\u001b[1;33m:\u001b[0m\u001b[1;33m\u001b[0m\u001b[1;33m\u001b[0m\u001b[0m\n\u001b[0;32m     16\u001b[0m     \u001b[0mSec_Phases\u001b[0m\u001b[1;33m=\u001b[0m\u001b[1;32mNone\u001b[0m\u001b[1;33m\u001b[0m\u001b[1;33m\u001b[0m\u001b[0m\n\u001b[1;32m---> 17\u001b[1;33m \u001b[0mSec_Phases\u001b[0m\u001b[1;33m.\u001b[0m\u001b[0mhead\u001b[0m\u001b[1;33m(\u001b[0m\u001b[1;33m)\u001b[0m\u001b[1;33m\u001b[0m\u001b[1;33m\u001b[0m\u001b[0m\n\u001b[0m",
      "\u001b[1;31mAttributeError\u001b[0m: 'NoneType' object has no attribute 'head'"
     ]
    }
   ],
   "source": [
    "if path.exists('Carb_Peak_fits.xlsx'):\n",
    "    Carb=pd.read_excel('Carb_Peak_fits.xlsx')\n",
    "else:\n",
    "    Carb=None\n",
    "if path.exists('SO2_Peak_fits.xlsx'):\n",
    "    SO2=pd.read_excel('SO2_Peak_fits.xlsx')\n",
    "else:\n",
    "    SO2=None\n",
    "if SO2 is not None and Carb is not None:\n",
    "    Sec_Phases=pd.merge(SO2, Carb, on='filename', how='outer')\n",
    "elif SO2 is not None and Carb is None:\n",
    "    Sec_Phases=SO2\n",
    "elif SO2 is None and Carb is not None:\n",
    "    Sec_Phases=Carb\n",
    "else:\n",
    "    Sec_Phases=None\n",
    "Sec_Phases.head()"
   ]
  },
  {
   "cell_type": "code",
   "execution_count": null,
   "id": "e8c12b56-b12d-4331-b45c-a204526e502a",
   "metadata": {},
   "outputs": [
    {
     "name": "stdout",
     "output_type": "stream",
     "text": [
      "good job, no duplicate file names\n"
     ]
    }
   ],
   "source": [
    "# Remove these to get the pure file name\n",
    "if Sec_Phases is not None:\n",
    "    file_sec_phase=pf.extracting_filenames_generic(\n",
    "        prefix=False, str_prefix=\" \",\n",
    "        names=Sec_Phases['filename'].reset_index(drop=True),\n",
    "       file_type='.txt')\n",
    "\n",
    "    file_sec_phase"
   ]
  },
  {
   "cell_type": "code",
   "execution_count": 14,
   "id": "ff6b1419-fa62-443b-95f1-78299d7d5656",
   "metadata": {},
   "outputs": [
    {
     "ename": "NameError",
     "evalue": "name 'file_sec_phase' is not defined",
     "output_type": "error",
     "traceback": [
      "\u001b[1;31m---------------------------------------------------------------------------\u001b[0m",
      "\u001b[1;31mNameError\u001b[0m                                 Traceback (most recent call last)",
      "\u001b[1;32m~\\AppData\\Local\\Temp\\ipykernel_23348\\2854451003.py\u001b[0m in \u001b[0;36m<module>\u001b[1;34m\u001b[0m\n\u001b[1;32m----> 1\u001b[1;33m \u001b[0mfile_sec_phase\u001b[0m\u001b[1;33m\u001b[0m\u001b[1;33m\u001b[0m\u001b[0m\n\u001b[0m",
      "\u001b[1;31mNameError\u001b[0m: name 'file_sec_phase' is not defined"
     ]
    }
   ],
   "source": [
    "file_sec_phase"
   ]
  },
  {
   "cell_type": "code",
   "execution_count": 15,
   "id": "56bacae4-1061-42b5-822a-4a58312a8c22",
   "metadata": {},
   "outputs": [
    {
     "data": {
      "text/plain": [
       "0     FDCA-P28-1\n",
       "1     FDCA-P29-1\n",
       "2     FDCA-P30-1\n",
       "3     FDCA-P30-2\n",
       "4     FDCA-P30-3\n",
       "5      FDCA-P1-1\n",
       "6      FDCA-P1-2\n",
       "7      FDCA-P1-3\n",
       "8     FDCA-P10-1\n",
       "9     FDCA-P11-1\n",
       "10    FDCA-P12-1\n",
       "11    FDCA-P13-1\n",
       "12    FDCA-P14-1\n",
       "13    FDCA-P14-2\n",
       "14    FDCA-P14-3\n",
       "15    FDCA-P15-1\n",
       "16    FDCA-P16-1\n",
       "17    FDCA-P17-1\n",
       "18    FDCA-P18-1\n",
       "19    FDCA-P19-1\n",
       "20    FDCA-P19-2\n",
       "21    FDCA-P19-3\n",
       "22     FDCA-P2-1\n",
       "23     FDCA-P2-2\n",
       "24     FDCA-P2-3\n",
       "25    FDCA-P20-1\n",
       "26    FDCA-P21-1\n",
       "27    FDCA-P22-1\n",
       "28    FDCA-P23-1\n",
       "29    FDCA-P23-2\n",
       "30    FDCA-P23-3\n",
       "31    FDCA-P24-1\n",
       "32    FDCA-P25-1\n",
       "33    FDCA-P26-1\n",
       "34    FDCA-P27-1\n",
       "35    FDCA-P27-2\n",
       "36    FDCA-P27-3\n",
       "37     FDCA-P3-1\n",
       "38     FDCA-P3-2\n",
       "39     FDCA-P3-3\n",
       "40     FDCA-P4-1\n",
       "41     FDCA-P4-2\n",
       "42     FDCA-P4-3\n",
       "43     FDCA-P5-1\n",
       "44     FDCA-P5-2\n",
       "45     FDCA-P5-3\n",
       "46     FDCA-P6-1\n",
       "47     FDCA-P6-2\n",
       "48     FDCA-P6-3\n",
       "49     FDCA-P7-1\n",
       "50     FDCA-P7-2\n",
       "51     FDCA-P7-3\n",
       "52     FDCA-P8-1\n",
       "53     FDCA-P8-2\n",
       "54     FDCA-P8-3\n",
       "55     FDCA-P9-1\n",
       "56     FDCA-P9-2\n",
       "57     FDCA-P9-3\n",
       "Name: name_for_matching, dtype: object"
      ]
     },
     "execution_count": 15,
     "metadata": {},
     "output_type": "execute_result"
    }
   ],
   "source": [
    "df_combo['name_for_matching']"
   ]
  },
  {
   "cell_type": "code",
   "execution_count": 16,
   "id": "f09b738b-d075-4f6a-b033-c19e7afd5e26",
   "metadata": {},
   "outputs": [],
   "source": [
    "df_combo['name_for_matching']=df_combo['Name_for_Secondary_Phases']\n",
    "\n",
    "if Sec_Phases is not None:\n",
    "    Sec_Phases['name_for_matching']=file_sec_phase\n",
    "    df_combo_sec_phase=df_combo_out.merge(Sec_Phases, \n",
    "    on='name_for_matching', how='outer')\n",
    "    \n",
    "else:\n",
    "    df_combo_sec_phase=df_combo_out"
   ]
  },
  {
   "attachments": {},
   "cell_type": "markdown",
   "id": "299ea007-e39d-4ff7-8970-ccfbf9d5040c",
   "metadata": {},
   "source": [
    "### Add some more useful columns"
   ]
  },
  {
   "cell_type": "code",
   "execution_count": 17,
   "id": "97111939-e39c-43ce-8ea3-6bb9cd5d150d",
   "metadata": {},
   "outputs": [
    {
     "data": {
      "text/html": [
       "<div>\n",
       "<style scoped>\n",
       "    .dataframe tbody tr th:only-of-type {\n",
       "        vertical-align: middle;\n",
       "    }\n",
       "\n",
       "    .dataframe tbody tr th {\n",
       "        vertical-align: top;\n",
       "    }\n",
       "\n",
       "    .dataframe thead th {\n",
       "        text-align: right;\n",
       "    }\n",
       "</style>\n",
       "<table border=\"1\" class=\"dataframe\">\n",
       "  <thead>\n",
       "    <tr style=\"text-align: right;\">\n",
       "      <th></th>\n",
       "      <th>Unnamed: 0</th>\n",
       "      <th>Corrected_Splitting</th>\n",
       "      <th>Corr_Split+1σ</th>\n",
       "      <th>Corr_Split-1σ</th>\n",
       "      <th>Corr_Split_1σ_val</th>\n",
       "      <th>filename_x</th>\n",
       "      <th>Splitting</th>\n",
       "      <th>Split_err_abs</th>\n",
       "      <th>Split_err_quadrature</th>\n",
       "      <th>Diad1_Combofit_Cent</th>\n",
       "      <th>...</th>\n",
       "      <th>Month</th>\n",
       "      <th>Day</th>\n",
       "      <th>power (mW)</th>\n",
       "      <th>Int_time (s)</th>\n",
       "      <th>accumulations</th>\n",
       "      <th>Mag (X)</th>\n",
       "      <th>duration</th>\n",
       "      <th>24hr_time</th>\n",
       "      <th>sec since midnight</th>\n",
       "      <th>Spectral Center</th>\n",
       "    </tr>\n",
       "  </thead>\n",
       "  <tbody>\n",
       "    <tr>\n",
       "      <th>0</th>\n",
       "      <td>0</td>\n",
       "      <td>104.265563</td>\n",
       "      <td>104.269599</td>\n",
       "      <td>104.261526</td>\n",
       "      <td>0.004036</td>\n",
       "      <td>FDCA-P28-1</td>\n",
       "      <td>104.522847</td>\n",
       "      <td>0.004000</td>\n",
       "      <td>0.004000</td>\n",
       "      <td>1283.107201</td>\n",
       "      <td>...</td>\n",
       "      <td>June</td>\n",
       "      <td>7.0</td>\n",
       "      <td>34.006</td>\n",
       "      <td>10.0</td>\n",
       "      <td>5.0</td>\n",
       "      <td>5.0</td>\n",
       "      <td>['0h', '0m', '52s']</td>\n",
       "      <td>4:50:27 PM\\n</td>\n",
       "      <td>60627.0</td>\n",
       "      <td>1325.004</td>\n",
       "    </tr>\n",
       "    <tr>\n",
       "      <th>1</th>\n",
       "      <td>0</td>\n",
       "      <td>104.174307</td>\n",
       "      <td>104.179073</td>\n",
       "      <td>104.169542</td>\n",
       "      <td>0.004766</td>\n",
       "      <td>FDCA-P29-1</td>\n",
       "      <td>104.431439</td>\n",
       "      <td>0.004738</td>\n",
       "      <td>0.004738</td>\n",
       "      <td>1283.262920</td>\n",
       "      <td>...</td>\n",
       "      <td>June</td>\n",
       "      <td>7.0</td>\n",
       "      <td>34.046</td>\n",
       "      <td>10.0</td>\n",
       "      <td>5.0</td>\n",
       "      <td>5.0</td>\n",
       "      <td>['0h', '0m', '51s']</td>\n",
       "      <td>4:58:09 PM\\n</td>\n",
       "      <td>61089.0</td>\n",
       "      <td>1325.004</td>\n",
       "    </tr>\n",
       "    <tr>\n",
       "      <th>2</th>\n",
       "      <td>0</td>\n",
       "      <td>104.068349</td>\n",
       "      <td>104.079617</td>\n",
       "      <td>104.057081</td>\n",
       "      <td>0.011268</td>\n",
       "      <td>FDCA-P30-1</td>\n",
       "      <td>104.325317</td>\n",
       "      <td>0.015497</td>\n",
       "      <td>0.011279</td>\n",
       "      <td>1283.553382</td>\n",
       "      <td>...</td>\n",
       "      <td>June</td>\n",
       "      <td>7.0</td>\n",
       "      <td>34.031</td>\n",
       "      <td>10.0</td>\n",
       "      <td>5.0</td>\n",
       "      <td>5.0</td>\n",
       "      <td>['0h', '0m', '51s']</td>\n",
       "      <td>5:11:25 PM\\n</td>\n",
       "      <td>61885.0</td>\n",
       "      <td>1325.004</td>\n",
       "    </tr>\n",
       "    <tr>\n",
       "      <th>3</th>\n",
       "      <td>0</td>\n",
       "      <td>104.033129</td>\n",
       "      <td>104.041224</td>\n",
       "      <td>104.025033</td>\n",
       "      <td>0.008095</td>\n",
       "      <td>FDCA-P30-2</td>\n",
       "      <td>104.290017</td>\n",
       "      <td>0.011170</td>\n",
       "      <td>0.008092</td>\n",
       "      <td>1283.590141</td>\n",
       "      <td>...</td>\n",
       "      <td>June</td>\n",
       "      <td>7.0</td>\n",
       "      <td>34.019</td>\n",
       "      <td>10.0</td>\n",
       "      <td>5.0</td>\n",
       "      <td>5.0</td>\n",
       "      <td>['0h', '0m', '51s']</td>\n",
       "      <td>5:12:41 PM\\n</td>\n",
       "      <td>61961.0</td>\n",
       "      <td>1325.004</td>\n",
       "    </tr>\n",
       "    <tr>\n",
       "      <th>4</th>\n",
       "      <td>0</td>\n",
       "      <td>104.046738</td>\n",
       "      <td>104.054628</td>\n",
       "      <td>104.038849</td>\n",
       "      <td>0.007889</td>\n",
       "      <td>FDCA-P30-3</td>\n",
       "      <td>104.303668</td>\n",
       "      <td>0.011112</td>\n",
       "      <td>0.007885</td>\n",
       "      <td>1283.577940</td>\n",
       "      <td>...</td>\n",
       "      <td>June</td>\n",
       "      <td>7.0</td>\n",
       "      <td>34.028</td>\n",
       "      <td>10.0</td>\n",
       "      <td>5.0</td>\n",
       "      <td>5.0</td>\n",
       "      <td>['0h', '0m', '51s']</td>\n",
       "      <td>5:14:06 PM\\n</td>\n",
       "      <td>62046.0</td>\n",
       "      <td>1325.004</td>\n",
       "    </tr>\n",
       "  </tbody>\n",
       "</table>\n",
       "<p>5 rows × 59 columns</p>\n",
       "</div>"
      ],
      "text/plain": [
       "  Unnamed: 0  Corrected_Splitting  Corr_Split+1σ  Corr_Split-1σ  \\\n",
       "0          0           104.265563     104.269599     104.261526   \n",
       "1          0           104.174307     104.179073     104.169542   \n",
       "2          0           104.068349     104.079617     104.057081   \n",
       "3          0           104.033129     104.041224     104.025033   \n",
       "4          0           104.046738     104.054628     104.038849   \n",
       "\n",
       "   Corr_Split_1σ_val  filename_x   Splitting  Split_err_abs  \\\n",
       "0           0.004036  FDCA-P28-1  104.522847       0.004000   \n",
       "1           0.004766  FDCA-P29-1  104.431439       0.004738   \n",
       "2           0.011268  FDCA-P30-1  104.325317       0.015497   \n",
       "3           0.008095  FDCA-P30-2  104.290017       0.011170   \n",
       "4           0.007889  FDCA-P30-3  104.303668       0.011112   \n",
       "\n",
       "   Split_err_quadrature  Diad1_Combofit_Cent  ...  Month  Day  power (mW)  \\\n",
       "0              0.004000          1283.107201  ...   June  7.0      34.006   \n",
       "1              0.004738          1283.262920  ...   June  7.0      34.046   \n",
       "2              0.011279          1283.553382  ...   June  7.0      34.031   \n",
       "3              0.008092          1283.590141  ...   June  7.0      34.019   \n",
       "4              0.007885          1283.577940  ...   June  7.0      34.028   \n",
       "\n",
       "   Int_time (s)  accumulations  Mag (X)             duration     24hr_time  \\\n",
       "0          10.0            5.0      5.0  ['0h', '0m', '52s']  4:50:27 PM\\n   \n",
       "1          10.0            5.0      5.0  ['0h', '0m', '51s']  4:58:09 PM\\n   \n",
       "2          10.0            5.0      5.0  ['0h', '0m', '51s']  5:11:25 PM\\n   \n",
       "3          10.0            5.0      5.0  ['0h', '0m', '51s']  5:12:41 PM\\n   \n",
       "4          10.0            5.0      5.0  ['0h', '0m', '51s']  5:14:06 PM\\n   \n",
       "\n",
       "  sec since midnight  Spectral Center  \n",
       "0            60627.0         1325.004  \n",
       "1            61089.0         1325.004  \n",
       "2            61885.0         1325.004  \n",
       "3            61961.0         1325.004  \n",
       "4            62046.0         1325.004  \n",
       "\n",
       "[5 rows x 59 columns]"
      ]
     },
     "execution_count": 17,
     "metadata": {},
     "output_type": "execute_result"
    }
   ],
   "source": [
    "if 'Peak_Area_Carb' in df_combo_sec_phase.columns:\n",
    "    df_combo_sec_phase['Carb_Diad_Ratio']=(df_combo_sec_phase['Peak_Area_Carb']/(df_combo_sec_phase['Diad1_Voigt_Area']\n",
    "                      +df_combo_sec_phase['Diad2_Voigt_Area']))\n",
    "if 'Peak_Area_SO2' in df_combo_sec_phase.columns:\n",
    "    df_combo_sec_phase['SO2_Diad_Ratio']=(df_combo_sec_phase['Peak_Area_SO2']/(df_combo_sec_phase['Diad1_Voigt_Area']\n",
    "                      +df_combo_sec_phase['Diad2_Voigt_Area']))\n",
    "    \n",
    "df_combo_sec_phase.head()"
   ]
  },
  {
   "cell_type": "code",
   "execution_count": 18,
   "id": "9e5cffde-1b26-4aaf-b1c0-eb081c766242",
   "metadata": {},
   "outputs": [],
   "source": [
    "df_combo_sec_phase.to_excel(output_path+'/'+nm+'_FI_fitting_w_sec_phases.xlsx')\n"
   ]
  },
  {
   "cell_type": "code",
   "execution_count": 19,
   "id": "ba856608",
   "metadata": {},
   "outputs": [],
   "source": [
    "from winotify import Notification, audio\n",
    "\n",
    "toast= Notification(app_id=\"VSCode\",title=\"Notebook completed\",\n",
    "                    msg=\"Step4_Stitch_Outputs_Together is done!\",\n",
    "                    duration=\"short\")\n",
    "toast.set_audio(audio.Mail,loop=False)\n",
    "toast.show()"
   ]
  },
  {
   "cell_type": "code",
   "execution_count": null,
   "id": "bd0688b0",
   "metadata": {},
   "outputs": [],
   "source": []
  }
 ],
 "metadata": {
  "kernelspec": {
   "display_name": "Python 3 (ipykernel)",
   "language": "python",
   "name": "python3"
  },
  "language_info": {
   "codemirror_mode": {
    "name": "ipython",
    "version": 3
   },
   "file_extension": ".py",
   "mimetype": "text/x-python",
   "name": "python",
   "nbconvert_exporter": "python",
   "pygments_lexer": "ipython3",
   "version": "3.9.16"
  }
 },
 "nbformat": 4,
 "nbformat_minor": 5
}
