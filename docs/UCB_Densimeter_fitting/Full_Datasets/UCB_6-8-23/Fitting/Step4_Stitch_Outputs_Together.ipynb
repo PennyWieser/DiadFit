{
 "cells": [
  {
   "attachments": {},
   "cell_type": "markdown",
   "id": "0a5d30ae-095e-4406-aff7-a817c2603e2c",
   "metadata": {},
   "source": [
    "# 4. Stitch outputs together\n",
    "- Once you have fitted the weak, medium and dense diads, stitch them all together, and apply the Ne correction model"
   ]
  },
  {
   "cell_type": "code",
   "execution_count": 1,
   "id": "56f8c066-4754-4d3e-9217-ae9e8f792016",
   "metadata": {},
   "outputs": [
    {
     "data": {
      "text/plain": [
       "'0.0.59'"
      ]
     },
     "execution_count": 1,
     "metadata": {},
     "output_type": "execute_result"
    }
   ],
   "source": [
    "import numpy as np\n",
    "import pandas as pd\n",
    "import matplotlib.pyplot as plt\n",
    "import joblib\n",
    "import os\n",
    "from pickle import load\n",
    "import pickle\n",
    "import DiadFit as pf\n",
    "pf.__version__"
   ]
  },
  {
   "cell_type": "code",
   "execution_count": 2,
   "id": "cab54670-2019-40be-b7d8-588189ac9ced",
   "metadata": {},
   "outputs": [],
   "source": [
    "MasterFolder = r\"C:\\Users\\charl\\Documents\\Instruments and calibrations\"\n",
    "DayFolder = os.path.join(MasterFolder, \"UCB_6-8-23\")\n",
    "\n",
    "meta_path=DayFolder +  '\\Metadata'\n",
    "spectra_path=DayFolder + '\\Spectra'\n",
    "\n",
    "if not os.path.exists(MasterFolder + '\\OUTPUT'):\n",
    "    os.mkdir(MasterFolder +'\\OUTPUT')\n",
    "\n",
    "output_path=MasterFolder +'\\OUTPUT'\n"
   ]
  },
  {
   "attachments": {},
   "cell_type": "markdown",
   "id": "8230f033-6c2c-4494-a554-885ab21b2e21",
   "metadata": {},
   "source": [
    "## Load in specra, and combine"
   ]
  },
  {
   "cell_type": "code",
   "execution_count": 3,
   "id": "0b0bb450-0872-44f7-b99e-2585f994efde",
   "metadata": {},
   "outputs": [],
   "source": [
    "from os import path\n",
    "if path.exists('Discarded_df.xlsx'):\n",
    "    discard=pd.read_excel('Discarded_df.xlsx')\n",
    "else:\n",
    "    discard=None\n",
    "if path.exists('Weak_Diads.xlsx'):\n",
    "    grp1=pd.read_excel('Weak_Diads.xlsx')\n",
    "else:\n",
    "    grp1=None\n",
    "if path.exists('Medium_Diads.xlsx'):\n",
    "    grp2=pd.read_excel('Medium_Diads.xlsx')\n",
    "else:\n",
    "    grp2=None\n",
    "if path.exists('Strong_Diads.xlsx'):\n",
    "    grp3=pd.read_excel('Strong_Diads.xlsx')\n",
    "else:\n",
    "    grp3=None\n",
    "df2=pd.concat([grp1, grp2, grp3], axis=0)\n",
    "if discard is not None:\n",
    "    discard_cols=discard[discard.columns.intersection(df2.columns)]\n",
    "    df2=pd.concat([df2, discard_cols])"
   ]
  },
  {
   "cell_type": "code",
   "execution_count": 4,
   "id": "3a7ed038-f31a-41d8-9f30-c278103c56a6",
   "metadata": {},
   "outputs": [
    {
     "data": {
      "text/html": [
       "<div>\n",
       "<style scoped>\n",
       "    .dataframe tbody tr th:only-of-type {\n",
       "        vertical-align: middle;\n",
       "    }\n",
       "\n",
       "    .dataframe tbody tr th {\n",
       "        vertical-align: top;\n",
       "    }\n",
       "\n",
       "    .dataframe thead th {\n",
       "        text-align: right;\n",
       "    }\n",
       "</style>\n",
       "<table border=\"1\" class=\"dataframe\">\n",
       "  <thead>\n",
       "    <tr style=\"text-align: right;\">\n",
       "      <th></th>\n",
       "      <th>Unnamed: 0</th>\n",
       "      <th>filename</th>\n",
       "      <th>Splitting</th>\n",
       "      <th>Split_err_abs</th>\n",
       "      <th>Split_err_quadrature</th>\n",
       "      <th>Diad1_Combofit_Cent</th>\n",
       "      <th>Diad1_cent_err</th>\n",
       "      <th>Diad1_Combofit_Height</th>\n",
       "      <th>Diad1_Voigt_Cent</th>\n",
       "      <th>Diad1_Voigt_Area</th>\n",
       "      <th>...</th>\n",
       "      <th>HB2_Sigma</th>\n",
       "      <th>C13_Cent</th>\n",
       "      <th>C13_Area</th>\n",
       "      <th>C13_Sigma</th>\n",
       "      <th>Diad2_Gauss_Cent</th>\n",
       "      <th>Diad2_Gauss_Area</th>\n",
       "      <th>Diad2_Gauss_Sigma</th>\n",
       "      <th>Diad1_Gauss_Cent</th>\n",
       "      <th>Diad1_Gauss_Area</th>\n",
       "      <th>Diad1_Gauss_Sigma</th>\n",
       "    </tr>\n",
       "  </thead>\n",
       "  <tbody>\n",
       "    <tr>\n",
       "      <th>0</th>\n",
       "      <td>0</td>\n",
       "      <td>06 FDCA-P60-1_CRR_DiadFit</td>\n",
       "      <td>103.548947</td>\n",
       "      <td>0.006325</td>\n",
       "      <td>0.005347</td>\n",
       "      <td>1285.110681</td>\n",
       "      <td>0.005234</td>\n",
       "      <td>1668.092070</td>\n",
       "      <td>1285.110681</td>\n",
       "      <td>3446.752873</td>\n",
       "      <td>...</td>\n",
       "      <td>0.955606</td>\n",
       "      <td>1370.313519</td>\n",
       "      <td>84.245801</td>\n",
       "      <td>0.307644</td>\n",
       "      <td>NaN</td>\n",
       "      <td>NaN</td>\n",
       "      <td>NaN</td>\n",
       "      <td>NaN</td>\n",
       "      <td>NaN</td>\n",
       "      <td>NaN</td>\n",
       "    </tr>\n",
       "    <tr>\n",
       "      <th>1</th>\n",
       "      <td>0</td>\n",
       "      <td>07 FDCA-P60-2</td>\n",
       "      <td>103.552475</td>\n",
       "      <td>0.006376</td>\n",
       "      <td>0.005343</td>\n",
       "      <td>1285.106366</td>\n",
       "      <td>0.005216</td>\n",
       "      <td>1675.071443</td>\n",
       "      <td>1285.106366</td>\n",
       "      <td>3470.278110</td>\n",
       "      <td>...</td>\n",
       "      <td>0.941495</td>\n",
       "      <td>1370.644359</td>\n",
       "      <td>83.821480</td>\n",
       "      <td>0.308460</td>\n",
       "      <td>NaN</td>\n",
       "      <td>NaN</td>\n",
       "      <td>NaN</td>\n",
       "      <td>NaN</td>\n",
       "      <td>NaN</td>\n",
       "      <td>NaN</td>\n",
       "    </tr>\n",
       "    <tr>\n",
       "      <th>2</th>\n",
       "      <td>0</td>\n",
       "      <td>08 FDCA-P60-3</td>\n",
       "      <td>103.553497</td>\n",
       "      <td>0.006165</td>\n",
       "      <td>0.005187</td>\n",
       "      <td>1285.105751</td>\n",
       "      <td>0.005070</td>\n",
       "      <td>1700.089086</td>\n",
       "      <td>1285.105751</td>\n",
       "      <td>3529.536828</td>\n",
       "      <td>...</td>\n",
       "      <td>0.915880</td>\n",
       "      <td>1370.651406</td>\n",
       "      <td>77.641382</td>\n",
       "      <td>0.309075</td>\n",
       "      <td>NaN</td>\n",
       "      <td>NaN</td>\n",
       "      <td>NaN</td>\n",
       "      <td>NaN</td>\n",
       "      <td>NaN</td>\n",
       "      <td>NaN</td>\n",
       "    </tr>\n",
       "    <tr>\n",
       "      <th>3</th>\n",
       "      <td>0</td>\n",
       "      <td>10 FDCA-P59-1</td>\n",
       "      <td>103.611642</td>\n",
       "      <td>0.004099</td>\n",
       "      <td>0.003045</td>\n",
       "      <td>1284.961979</td>\n",
       "      <td>0.002709</td>\n",
       "      <td>1676.812960</td>\n",
       "      <td>1284.962029</td>\n",
       "      <td>3739.647130</td>\n",
       "      <td>...</td>\n",
       "      <td>1.052990</td>\n",
       "      <td>1370.624326</td>\n",
       "      <td>83.270674</td>\n",
       "      <td>0.319117</td>\n",
       "      <td>NaN</td>\n",
       "      <td>NaN</td>\n",
       "      <td>NaN</td>\n",
       "      <td>NaN</td>\n",
       "      <td>NaN</td>\n",
       "      <td>NaN</td>\n",
       "    </tr>\n",
       "    <tr>\n",
       "      <th>4</th>\n",
       "      <td>0</td>\n",
       "      <td>11 FDCA-P58-1</td>\n",
       "      <td>103.631029</td>\n",
       "      <td>0.003250</td>\n",
       "      <td>0.002579</td>\n",
       "      <td>1284.916416</td>\n",
       "      <td>0.002452</td>\n",
       "      <td>1825.197392</td>\n",
       "      <td>1284.916466</td>\n",
       "      <td>4118.820976</td>\n",
       "      <td>...</td>\n",
       "      <td>1.018740</td>\n",
       "      <td>1370.309895</td>\n",
       "      <td>99.186909</td>\n",
       "      <td>0.325307</td>\n",
       "      <td>NaN</td>\n",
       "      <td>NaN</td>\n",
       "      <td>NaN</td>\n",
       "      <td>NaN</td>\n",
       "      <td>NaN</td>\n",
       "      <td>NaN</td>\n",
       "    </tr>\n",
       "  </tbody>\n",
       "</table>\n",
       "<p>5 rows × 41 columns</p>\n",
       "</div>"
      ],
      "text/plain": [
       "  Unnamed: 0                   filename   Splitting  Split_err_abs  \\\n",
       "0          0  06 FDCA-P60-1_CRR_DiadFit  103.548947       0.006325   \n",
       "1          0              07 FDCA-P60-2  103.552475       0.006376   \n",
       "2          0              08 FDCA-P60-3  103.553497       0.006165   \n",
       "3          0              10 FDCA-P59-1  103.611642       0.004099   \n",
       "4          0              11 FDCA-P58-1  103.631029       0.003250   \n",
       "\n",
       "   Split_err_quadrature  Diad1_Combofit_Cent  Diad1_cent_err  \\\n",
       "0              0.005347          1285.110681        0.005234   \n",
       "1              0.005343          1285.106366        0.005216   \n",
       "2              0.005187          1285.105751        0.005070   \n",
       "3              0.003045          1284.961979        0.002709   \n",
       "4              0.002579          1284.916416        0.002452   \n",
       "\n",
       "   Diad1_Combofit_Height  Diad1_Voigt_Cent  Diad1_Voigt_Area  ...  HB2_Sigma  \\\n",
       "0            1668.092070       1285.110681       3446.752873  ...   0.955606   \n",
       "1            1675.071443       1285.106366       3470.278110  ...   0.941495   \n",
       "2            1700.089086       1285.105751       3529.536828  ...   0.915880   \n",
       "3            1676.812960       1284.962029       3739.647130  ...   1.052990   \n",
       "4            1825.197392       1284.916466       4118.820976  ...   1.018740   \n",
       "\n",
       "      C13_Cent   C13_Area  C13_Sigma Diad2_Gauss_Cent  Diad2_Gauss_Area  \\\n",
       "0  1370.313519  84.245801   0.307644              NaN               NaN   \n",
       "1  1370.644359  83.821480   0.308460              NaN               NaN   \n",
       "2  1370.651406  77.641382   0.309075              NaN               NaN   \n",
       "3  1370.624326  83.270674   0.319117              NaN               NaN   \n",
       "4  1370.309895  99.186909   0.325307              NaN               NaN   \n",
       "\n",
       "   Diad2_Gauss_Sigma  Diad1_Gauss_Cent  Diad1_Gauss_Area  Diad1_Gauss_Sigma  \n",
       "0                NaN               NaN               NaN                NaN  \n",
       "1                NaN               NaN               NaN                NaN  \n",
       "2                NaN               NaN               NaN                NaN  \n",
       "3                NaN               NaN               NaN                NaN  \n",
       "4                NaN               NaN               NaN                NaN  \n",
       "\n",
       "[5 rows x 41 columns]"
      ]
     },
     "execution_count": 4,
     "metadata": {},
     "output_type": "execute_result"
    }
   ],
   "source": [
    "df2.head()"
   ]
  },
  {
   "attachments": {},
   "cell_type": "markdown",
   "id": "6449c9b4-d538-4d37-ad78-49c87aa677af",
   "metadata": {},
   "source": [
    "## First, get the metadata for this day"
   ]
  },
  {
   "cell_type": "code",
   "execution_count": 5,
   "id": "027e3ea1-f4ef-4c53-a57d-977e1f639ec9",
   "metadata": {},
   "outputs": [
    {
     "data": {
      "text/plain": [
       "['06 FDCA-P60-1.txt',\n",
       " '07 FDCA-P60-2.txt',\n",
       " '08 FDCA-P60-3.txt',\n",
       " '10 FDCA-P59-1.txt',\n",
       " '11 FDCA-P58-1.txt',\n",
       " '12 FDCA-P57-1.txt',\n",
       " '14 FDCA-P56-1.txt',\n",
       " '15 FDCA-P56-2.txt',\n",
       " '16 FDCA-P56-3.txt',\n",
       " '18 FDCA-P55-1.txt',\n",
       " '20 FDCA-P54-1.txt',\n",
       " '22 FDCA-P53-1.txt',\n",
       " '24 FDCA-P52-1.txt',\n",
       " '25 FDCA-P51-1.txt',\n",
       " '27 FDCA-P50-1.txt',\n",
       " '28 FDCA-P49-1.txt',\n",
       " '30 FDCA-P48-1.txt',\n",
       " '31 FDCA-P47-1.txt',\n",
       " '33 FDCA-P46-1.txt',\n",
       " '34 FDCA-P45-1.txt',\n",
       " '36 FDCA-P44-1.txt',\n",
       " '38 FDCA-P43-1.txt',\n",
       " '39 FDCA-P42-1.txt',\n",
       " '40 FDCA-P41-1.txt',\n",
       " '42 FDCA-P40-1.txt',\n",
       " '44 FDCA-P39-1.txt',\n",
       " '46 FDCA-P37-1.txt',\n",
       " '47 FDCA-P36-1.txt',\n",
       " '48 FDCA-P35-1.txt',\n",
       " '49 FDCA-P34-1.txt',\n",
       " '51 FDCA-P33-1.txt',\n",
       " '52 FDCA-P32-1.txt',\n",
       " '53 FDCA-P31-1.txt',\n",
       " '55 FDCA-P30-1.txt',\n",
       " '56 FDCA-P29-1.txt',\n",
       " '58 FDCA-P28-1.txt']"
      ]
     },
     "execution_count": 5,
     "metadata": {},
     "output_type": "execute_result"
    }
   ],
   "source": [
    "# Put the common string you can in all your Ne lines here\n",
    "ID_str='_'\n",
    "file_ext_meta='txt' # Will only take files of this type \n",
    "diad_meta=pf.get_files(path=meta_path,\n",
    "file_ext='txt', exclude_str=['N', 'Si', 'series','IMG','Cap','window','nodiad'],\n",
    " sort=True)\n",
    "diad_meta"
   ]
  },
  {
   "attachments": {},
   "cell_type": "markdown",
   "id": "378575ca-336b-4f04-bc6e-cf397dfdc56e",
   "metadata": {},
   "source": [
    "## Now get all the important information out of the metadata files"
   ]
  },
  {
   "cell_type": "code",
   "execution_count": 6,
   "id": "57ebb7b9-5c4f-4b49-9686-36f0d2ec9e8d",
   "metadata": {},
   "outputs": [
    {
     "name": "stderr",
     "output_type": "stream",
     "text": [
      "100%|██████████| 36/36 [00:00<00:00, 969.35it/s]"
     ]
    },
    {
     "name": "stdout",
     "output_type": "stream",
     "text": [
      "Done\n"
     ]
    },
    {
     "name": "stderr",
     "output_type": "stream",
     "text": [
      "\n"
     ]
    },
    {
     "data": {
      "text/plain": [
       "'06 FDCA-P60-1.txt'"
      ]
     },
     "execution_count": 6,
     "metadata": {},
     "output_type": "execute_result"
    }
   ],
   "source": [
    "meta=pf.stitch_metadata_in_loop_witec(path=meta_path, \n",
    "Allfiles=diad_meta, prefix=False,\n",
    "trupower=True)\n",
    "meta['filename'].iloc[0]"
   ]
  },
  {
   "attachments": {},
   "cell_type": "markdown",
   "id": "b7a6fbc0-2b4a-4f4b-8cfd-cc227047d833",
   "metadata": {},
   "source": [
    "## Then get a simple file name you can stitch with the spectra"
   ]
  },
  {
   "cell_type": "code",
   "execution_count": 7,
   "id": "ea140384-9cb9-41bf-b57e-eb16120afe12",
   "metadata": {},
   "outputs": [
    {
     "name": "stdout",
     "output_type": "stream",
     "text": [
      "good job, no duplicate file names\n"
     ]
    },
    {
     "data": {
      "text/plain": [
       "'06 FDCA-P60-1'"
      ]
     },
     "execution_count": 7,
     "metadata": {},
     "output_type": "execute_result"
    }
   ],
   "source": [
    "file_m=pf.extracting_filenames_generic(names=meta['filename'],\n",
    "    prefix=False, str_prefix=\" \",\n",
    "   file_type='.txt')\n",
    "# Checks they are all unique\n",
    "file_m[0]"
   ]
  },
  {
   "attachments": {},
   "cell_type": "markdown",
   "id": "80671930-57b4-476b-aec2-0aaf23f072b5",
   "metadata": {},
   "source": [
    "## Now get filename from spectra into same form as metadata"
   ]
  },
  {
   "cell_type": "code",
   "execution_count": 8,
   "id": "5f50eae0-1a22-4d35-ba87-0d853343d859",
   "metadata": {},
   "outputs": [
    {
     "name": "stdout",
     "output_type": "stream",
     "text": [
      "good job, no duplicate file names\n"
     ]
    }
   ],
   "source": [
    "# Remove these to get the pure file name\n",
    "file_s=pf.extracting_filenames_generic(\n",
    "    prefix=False, str_prefix=\" \",\n",
    "    names=df2['filename'].reset_index(drop=True),\n",
    "   file_type='.txt')\n",
    "\n",
    "# Remove the cosmic rays, as doesnt have it in the metatdata\n",
    "file_s = np.char.replace(file_s.astype(str), \"_CRR_DiadFit\", \"\")"
   ]
  },
  {
   "cell_type": "code",
   "execution_count": 9,
   "id": "c53ee945-9b20-473d-9cef-4cfe427ad368",
   "metadata": {},
   "outputs": [
    {
     "data": {
      "text/plain": [
       "array(['06 FDCA-P60-1', '07 FDCA-P60-2', '08 FDCA-P60-3', '10 FDCA-P59-1',\n",
       "       '11 FDCA-P58-1', '12 FDCA-P57-1', '14 FDCA-P56-1', '15 FDCA-P56-2',\n",
       "       '16 FDCA-P56-3', '18 FDCA-P55-1', '20 FDCA-P54-1', '22 FDCA-P53-1',\n",
       "       '24 FDCA-P52-1', '25 FDCA-P51-1', '27 FDCA-P50-1', '28 FDCA-P49-1',\n",
       "       '30 FDCA-P48-1', '31 FDCA-P47-1', '33 FDCA-P46-1', '34 FDCA-P45-1',\n",
       "       '36 FDCA-P44-1', '38 FDCA-P43-1', '39 FDCA-P42-1', '40 FDCA-P41-1',\n",
       "       '42 FDCA-P40-1', '44 FDCA-P39-1', '46 FDCA-P37-1', '47 FDCA-P36-1',\n",
       "       '48 FDCA-P35-1', '49 FDCA-P34-1', '51 FDCA-P33-1', '52 FDCA-P32-1',\n",
       "       '53 FDCA-P31-1', '55 FDCA-P30-1', '56 FDCA-P29-1', '58 FDCA-P28-1'],\n",
       "      dtype='<U13')"
      ]
     },
     "execution_count": 9,
     "metadata": {},
     "output_type": "execute_result"
    }
   ],
   "source": [
    "file_s"
   ]
  },
  {
   "cell_type": "code",
   "execution_count": 10,
   "id": "51df3d2d-72d3-44fa-a076-b087cfdb5eef",
   "metadata": {},
   "outputs": [],
   "source": [
    "# Combining them together\n",
    "meta['name_for_matching']=file_m\n",
    "df2['name_for_matching']=file_s\n",
    "df2['Name_for_Secondary_Phases']=file_s\n",
    "df_combo=df2.merge(meta, on='name_for_matching')"
   ]
  },
  {
   "cell_type": "code",
   "execution_count": 11,
   "id": "524e4721-cc10-49c6-a262-e7795d5de57d",
   "metadata": {},
   "outputs": [
    {
     "name": "stdout",
     "output_type": "stream",
     "text": [
      "1\n"
     ]
    },
    {
     "data": {
      "text/html": [
       "<div>\n",
       "<style scoped>\n",
       "    .dataframe tbody tr th:only-of-type {\n",
       "        vertical-align: middle;\n",
       "    }\n",
       "\n",
       "    .dataframe tbody tr th {\n",
       "        vertical-align: top;\n",
       "    }\n",
       "\n",
       "    .dataframe thead th {\n",
       "        text-align: right;\n",
       "    }\n",
       "</style>\n",
       "<table border=\"1\" class=\"dataframe\">\n",
       "  <thead>\n",
       "    <tr style=\"text-align: right;\">\n",
       "      <th></th>\n",
       "      <th>time</th>\n",
       "      <th>preferred_values</th>\n",
       "      <th>lower_values</th>\n",
       "      <th>upper_values</th>\n",
       "    </tr>\n",
       "  </thead>\n",
       "  <tbody>\n",
       "    <tr>\n",
       "      <th>0</th>\n",
       "      <td>44849.0</td>\n",
       "      <td>0.997582</td>\n",
       "      <td>0.997574</td>\n",
       "      <td>0.997589</td>\n",
       "    </tr>\n",
       "    <tr>\n",
       "      <th>1</th>\n",
       "      <td>44913.0</td>\n",
       "      <td>0.997582</td>\n",
       "      <td>0.997574</td>\n",
       "      <td>0.997589</td>\n",
       "    </tr>\n",
       "    <tr>\n",
       "      <th>2</th>\n",
       "      <td>44965.0</td>\n",
       "      <td>0.997581</td>\n",
       "      <td>0.997574</td>\n",
       "      <td>0.997589</td>\n",
       "    </tr>\n",
       "    <tr>\n",
       "      <th>3</th>\n",
       "      <td>45751.0</td>\n",
       "      <td>0.997577</td>\n",
       "      <td>0.997570</td>\n",
       "      <td>0.997585</td>\n",
       "    </tr>\n",
       "    <tr>\n",
       "      <th>4</th>\n",
       "      <td>46110.0</td>\n",
       "      <td>0.997576</td>\n",
       "      <td>0.997568</td>\n",
       "      <td>0.997583</td>\n",
       "    </tr>\n",
       "  </tbody>\n",
       "</table>\n",
       "</div>"
      ],
      "text/plain": [
       "      time  preferred_values  lower_values  upper_values\n",
       "0  44849.0          0.997582      0.997574      0.997589\n",
       "1  44913.0          0.997582      0.997574      0.997589\n",
       "2  44965.0          0.997581      0.997574      0.997589\n",
       "3  45751.0          0.997577      0.997570      0.997585\n",
       "4  46110.0          0.997576      0.997568      0.997583"
      ]
     },
     "execution_count": 11,
     "metadata": {},
     "output_type": "execute_result"
    }
   ],
   "source": [
    "Ne_corr=pf.calculate_Ne_corr_std_err_values(pickle_str='polyfit_data.pkl', \n",
    "    new_x=df_combo['sec since midnight'], CI=0.67)\n",
    "Ne_corr.head()\n"
   ]
  },
  {
   "cell_type": "code",
   "execution_count": 12,
   "id": "9e07a032-4a70-42f9-a291-7ce1f3ed3839",
   "metadata": {},
   "outputs": [],
   "source": [
    "\n",
    "split_err=pf.propagate_errors_for_splitting(Ne_corr, df_combo)\n",
    "df_combo_out=df_combo.copy()\n",
    "df_combo_out.insert(1, 'Corrected_Splitting', df_combo['Splitting']*Ne_corr['preferred_values'])\n",
    "df_combo_out.insert(2, 'Corr_Split+1σ', df_combo_out['Corrected_Splitting']+split_err)\n",
    "df_combo_out.insert(3, 'Corr_Split-1σ',df_combo_out['Corrected_Splitting']-split_err)\n",
    "df_combo_out.insert(4, 'Corr_Split_1σ_val', split_err)\n",
    "\n",
    "nm=os.path.basename(DayFolder)\n",
    "df_combo_out.to_excel(output_path+'/'+nm+'_FI_fitting.xlsx')"
   ]
  },
  {
   "attachments": {},
   "cell_type": "markdown",
   "id": "54b229a4-026d-4e4e-ab0a-ed0362566919",
   "metadata": {},
   "source": [
    "## If you have secondary phases, now is the time to merge those in"
   ]
  },
  {
   "cell_type": "code",
   "execution_count": 13,
   "id": "bc38474f-45cd-4fa5-beef-49db69e82989",
   "metadata": {},
   "outputs": [
    {
     "ename": "AttributeError",
     "evalue": "'NoneType' object has no attribute 'head'",
     "output_type": "error",
     "traceback": [
      "\u001b[1;31m---------------------------------------------------------------------------\u001b[0m",
      "\u001b[1;31mAttributeError\u001b[0m                            Traceback (most recent call last)",
      "\u001b[1;32m~\\AppData\\Local\\Temp\\ipykernel_27232\\3009775449.py\u001b[0m in \u001b[0;36m<module>\u001b[1;34m\u001b[0m\n\u001b[0;32m     15\u001b[0m \u001b[1;32melse\u001b[0m\u001b[1;33m:\u001b[0m\u001b[1;33m\u001b[0m\u001b[1;33m\u001b[0m\u001b[0m\n\u001b[0;32m     16\u001b[0m     \u001b[0mSec_Phases\u001b[0m\u001b[1;33m=\u001b[0m\u001b[1;32mNone\u001b[0m\u001b[1;33m\u001b[0m\u001b[1;33m\u001b[0m\u001b[0m\n\u001b[1;32m---> 17\u001b[1;33m \u001b[0mSec_Phases\u001b[0m\u001b[1;33m.\u001b[0m\u001b[0mhead\u001b[0m\u001b[1;33m(\u001b[0m\u001b[1;33m)\u001b[0m\u001b[1;33m\u001b[0m\u001b[1;33m\u001b[0m\u001b[0m\n\u001b[0m",
      "\u001b[1;31mAttributeError\u001b[0m: 'NoneType' object has no attribute 'head'"
     ]
    }
   ],
   "source": [
    "if path.exists('Carb_Peak_fits.xlsx'):\n",
    "    Carb=pd.read_excel('Carb_Peak_fits.xlsx')\n",
    "else:\n",
    "    Carb=None\n",
    "if path.exists('SO2_Peak_fits.xlsx'):\n",
    "    SO2=pd.read_excel('SO2_Peak_fits.xlsx')\n",
    "else:\n",
    "    SO2=None\n",
    "if SO2 is not None and Carb is not None:\n",
    "    Sec_Phases=pd.merge(SO2, Carb, on='filename', how='outer')\n",
    "elif SO2 is not None and Carb is None:\n",
    "    Sec_Phases=SO2\n",
    "elif SO2 is None and Carb is not None:\n",
    "    Sec_Phases=Carb\n",
    "else:\n",
    "    Sec_Phases=None\n",
    "Sec_Phases.head()"
   ]
  },
  {
   "cell_type": "code",
   "execution_count": 14,
   "id": "e8c12b56-b12d-4331-b45c-a204526e502a",
   "metadata": {},
   "outputs": [],
   "source": [
    "# Remove these to get the pure file name\n",
    "if Sec_Phases is not None:\n",
    "    file_sec_phase=pf.extracting_filenames_generic(\n",
    "        prefix=False, str_prefix=\" \",\n",
    "        names=Sec_Phases['filename'].reset_index(drop=True),\n",
    "       file_type='.txt')\n",
    "\n",
    "    file_sec_phase"
   ]
  },
  {
   "cell_type": "code",
   "execution_count": 15,
   "id": "ff6b1419-fa62-443b-95f1-78299d7d5656",
   "metadata": {},
   "outputs": [
    {
     "ename": "NameError",
     "evalue": "name 'file_sec_phase' is not defined",
     "output_type": "error",
     "traceback": [
      "\u001b[1;31m---------------------------------------------------------------------------\u001b[0m",
      "\u001b[1;31mNameError\u001b[0m                                 Traceback (most recent call last)",
      "\u001b[1;32m~\\AppData\\Local\\Temp\\ipykernel_27232\\2854451003.py\u001b[0m in \u001b[0;36m<module>\u001b[1;34m\u001b[0m\n\u001b[1;32m----> 1\u001b[1;33m \u001b[0mfile_sec_phase\u001b[0m\u001b[1;33m\u001b[0m\u001b[1;33m\u001b[0m\u001b[0m\n\u001b[0m",
      "\u001b[1;31mNameError\u001b[0m: name 'file_sec_phase' is not defined"
     ]
    }
   ],
   "source": [
    "file_sec_phase"
   ]
  },
  {
   "cell_type": "code",
   "execution_count": 16,
   "id": "56bacae4-1061-42b5-822a-4a58312a8c22",
   "metadata": {},
   "outputs": [
    {
     "data": {
      "text/plain": [
       "0     06 FDCA-P60-1\n",
       "1     07 FDCA-P60-2\n",
       "2     08 FDCA-P60-3\n",
       "3     10 FDCA-P59-1\n",
       "4     11 FDCA-P58-1\n",
       "5     12 FDCA-P57-1\n",
       "6     14 FDCA-P56-1\n",
       "7     15 FDCA-P56-2\n",
       "8     16 FDCA-P56-3\n",
       "9     18 FDCA-P55-1\n",
       "10    20 FDCA-P54-1\n",
       "11    22 FDCA-P53-1\n",
       "12    24 FDCA-P52-1\n",
       "13    25 FDCA-P51-1\n",
       "14    27 FDCA-P50-1\n",
       "15    28 FDCA-P49-1\n",
       "16    30 FDCA-P48-1\n",
       "17    31 FDCA-P47-1\n",
       "18    33 FDCA-P46-1\n",
       "19    34 FDCA-P45-1\n",
       "20    36 FDCA-P44-1\n",
       "21    38 FDCA-P43-1\n",
       "22    39 FDCA-P42-1\n",
       "23    40 FDCA-P41-1\n",
       "24    42 FDCA-P40-1\n",
       "25    44 FDCA-P39-1\n",
       "26    46 FDCA-P37-1\n",
       "27    47 FDCA-P36-1\n",
       "28    48 FDCA-P35-1\n",
       "29    49 FDCA-P34-1\n",
       "30    51 FDCA-P33-1\n",
       "31    52 FDCA-P32-1\n",
       "32    53 FDCA-P31-1\n",
       "33    55 FDCA-P30-1\n",
       "34    56 FDCA-P29-1\n",
       "35    58 FDCA-P28-1\n",
       "Name: name_for_matching, dtype: object"
      ]
     },
     "execution_count": 16,
     "metadata": {},
     "output_type": "execute_result"
    }
   ],
   "source": [
    "df_combo['name_for_matching']"
   ]
  },
  {
   "cell_type": "code",
   "execution_count": 17,
   "id": "f09b738b-d075-4f6a-b033-c19e7afd5e26",
   "metadata": {},
   "outputs": [],
   "source": [
    "df_combo['name_for_matching']=df_combo['Name_for_Secondary_Phases']\n",
    "\n",
    "if Sec_Phases is not None:\n",
    "    Sec_Phases['name_for_matching']=file_sec_phase\n",
    "    df_combo_sec_phase=df_combo_out.merge(Sec_Phases, \n",
    "    on='name_for_matching', how='outer')\n",
    "    \n",
    "else:\n",
    "    df_combo_sec_phase=df_combo_out"
   ]
  },
  {
   "attachments": {},
   "cell_type": "markdown",
   "id": "299ea007-e39d-4ff7-8970-ccfbf9d5040c",
   "metadata": {},
   "source": [
    "### Add some more useful columns"
   ]
  },
  {
   "cell_type": "code",
   "execution_count": 18,
   "id": "97111939-e39c-43ce-8ea3-6bb9cd5d150d",
   "metadata": {},
   "outputs": [
    {
     "data": {
      "text/html": [
       "<div>\n",
       "<style scoped>\n",
       "    .dataframe tbody tr th:only-of-type {\n",
       "        vertical-align: middle;\n",
       "    }\n",
       "\n",
       "    .dataframe tbody tr th {\n",
       "        vertical-align: top;\n",
       "    }\n",
       "\n",
       "    .dataframe thead th {\n",
       "        text-align: right;\n",
       "    }\n",
       "</style>\n",
       "<table border=\"1\" class=\"dataframe\">\n",
       "  <thead>\n",
       "    <tr style=\"text-align: right;\">\n",
       "      <th></th>\n",
       "      <th>Unnamed: 0</th>\n",
       "      <th>Corrected_Splitting</th>\n",
       "      <th>Corr_Split+1σ</th>\n",
       "      <th>Corr_Split-1σ</th>\n",
       "      <th>Corr_Split_1σ_val</th>\n",
       "      <th>filename_x</th>\n",
       "      <th>Splitting</th>\n",
       "      <th>Split_err_abs</th>\n",
       "      <th>Split_err_quadrature</th>\n",
       "      <th>Diad1_Combofit_Cent</th>\n",
       "      <th>...</th>\n",
       "      <th>Month</th>\n",
       "      <th>Day</th>\n",
       "      <th>power (mW)</th>\n",
       "      <th>Int_time (s)</th>\n",
       "      <th>accumulations</th>\n",
       "      <th>Mag (X)</th>\n",
       "      <th>duration</th>\n",
       "      <th>24hr_time</th>\n",
       "      <th>sec since midnight</th>\n",
       "      <th>Spectral Center</th>\n",
       "    </tr>\n",
       "  </thead>\n",
       "  <tbody>\n",
       "    <tr>\n",
       "      <th>0</th>\n",
       "      <td>0</td>\n",
       "      <td>103.298551</td>\n",
       "      <td>103.303940</td>\n",
       "      <td>103.293162</td>\n",
       "      <td>0.005389</td>\n",
       "      <td>06 FDCA-P60-1_CRR_DiadFit</td>\n",
       "      <td>103.548947</td>\n",
       "      <td>0.006325</td>\n",
       "      <td>0.005347</td>\n",
       "      <td>1285.110681</td>\n",
       "      <td>...</td>\n",
       "      <td>June</td>\n",
       "      <td>8.0</td>\n",
       "      <td>34.482</td>\n",
       "      <td>10.0</td>\n",
       "      <td>5.0</td>\n",
       "      <td>5.0</td>\n",
       "      <td>['0h', '0m', '52s']</td>\n",
       "      <td>12:27:29 PM\\n</td>\n",
       "      <td>44849.0</td>\n",
       "      <td>1325.004</td>\n",
       "    </tr>\n",
       "    <tr>\n",
       "      <th>1</th>\n",
       "      <td>0</td>\n",
       "      <td>103.302037</td>\n",
       "      <td>103.307423</td>\n",
       "      <td>103.296651</td>\n",
       "      <td>0.005386</td>\n",
       "      <td>07 FDCA-P60-2</td>\n",
       "      <td>103.552475</td>\n",
       "      <td>0.006376</td>\n",
       "      <td>0.005343</td>\n",
       "      <td>1285.106366</td>\n",
       "      <td>...</td>\n",
       "      <td>June</td>\n",
       "      <td>8.0</td>\n",
       "      <td>34.474</td>\n",
       "      <td>10.0</td>\n",
       "      <td>5.0</td>\n",
       "      <td>5.0</td>\n",
       "      <td>['0h', '0m', '51s']</td>\n",
       "      <td>12:28:33 PM\\n</td>\n",
       "      <td>44913.0</td>\n",
       "      <td>1325.004</td>\n",
       "    </tr>\n",
       "    <tr>\n",
       "      <th>2</th>\n",
       "      <td>0</td>\n",
       "      <td>103.303029</td>\n",
       "      <td>103.308260</td>\n",
       "      <td>103.297797</td>\n",
       "      <td>0.005231</td>\n",
       "      <td>08 FDCA-P60-3</td>\n",
       "      <td>103.553497</td>\n",
       "      <td>0.006165</td>\n",
       "      <td>0.005187</td>\n",
       "      <td>1285.105751</td>\n",
       "      <td>...</td>\n",
       "      <td>June</td>\n",
       "      <td>8.0</td>\n",
       "      <td>34.470</td>\n",
       "      <td>10.0</td>\n",
       "      <td>5.0</td>\n",
       "      <td>5.0</td>\n",
       "      <td>['0h', '0m', '51s']</td>\n",
       "      <td>12:29:25 PM\\n</td>\n",
       "      <td>44965.0</td>\n",
       "      <td>1325.004</td>\n",
       "    </tr>\n",
       "    <tr>\n",
       "      <th>3</th>\n",
       "      <td>0</td>\n",
       "      <td>103.360624</td>\n",
       "      <td>103.363757</td>\n",
       "      <td>103.357491</td>\n",
       "      <td>0.003133</td>\n",
       "      <td>10 FDCA-P59-1</td>\n",
       "      <td>103.611642</td>\n",
       "      <td>0.004099</td>\n",
       "      <td>0.003045</td>\n",
       "      <td>1284.961979</td>\n",
       "      <td>...</td>\n",
       "      <td>June</td>\n",
       "      <td>8.0</td>\n",
       "      <td>34.560</td>\n",
       "      <td>10.0</td>\n",
       "      <td>5.0</td>\n",
       "      <td>5.0</td>\n",
       "      <td>['0h', '0m', '51s']</td>\n",
       "      <td>12:42:31 PM\\n</td>\n",
       "      <td>45751.0</td>\n",
       "      <td>1325.004</td>\n",
       "    </tr>\n",
       "    <tr>\n",
       "      <th>4</th>\n",
       "      <td>0</td>\n",
       "      <td>103.379783</td>\n",
       "      <td>103.382467</td>\n",
       "      <td>103.377099</td>\n",
       "      <td>0.002684</td>\n",
       "      <td>11 FDCA-P58-1</td>\n",
       "      <td>103.631029</td>\n",
       "      <td>0.003250</td>\n",
       "      <td>0.002579</td>\n",
       "      <td>1284.916416</td>\n",
       "      <td>...</td>\n",
       "      <td>June</td>\n",
       "      <td>8.0</td>\n",
       "      <td>34.491</td>\n",
       "      <td>10.0</td>\n",
       "      <td>5.0</td>\n",
       "      <td>5.0</td>\n",
       "      <td>['0h', '0m', '51s']</td>\n",
       "      <td>12:48:30 PM\\n</td>\n",
       "      <td>46110.0</td>\n",
       "      <td>1325.004</td>\n",
       "    </tr>\n",
       "  </tbody>\n",
       "</table>\n",
       "<p>5 rows × 59 columns</p>\n",
       "</div>"
      ],
      "text/plain": [
       "  Unnamed: 0  Corrected_Splitting  Corr_Split+1σ  Corr_Split-1σ  \\\n",
       "0          0           103.298551     103.303940     103.293162   \n",
       "1          0           103.302037     103.307423     103.296651   \n",
       "2          0           103.303029     103.308260     103.297797   \n",
       "3          0           103.360624     103.363757     103.357491   \n",
       "4          0           103.379783     103.382467     103.377099   \n",
       "\n",
       "   Corr_Split_1σ_val                 filename_x   Splitting  Split_err_abs  \\\n",
       "0           0.005389  06 FDCA-P60-1_CRR_DiadFit  103.548947       0.006325   \n",
       "1           0.005386              07 FDCA-P60-2  103.552475       0.006376   \n",
       "2           0.005231              08 FDCA-P60-3  103.553497       0.006165   \n",
       "3           0.003133              10 FDCA-P59-1  103.611642       0.004099   \n",
       "4           0.002684              11 FDCA-P58-1  103.631029       0.003250   \n",
       "\n",
       "   Split_err_quadrature  Diad1_Combofit_Cent  ...  Month  Day  power (mW)  \\\n",
       "0              0.005347          1285.110681  ...   June  8.0      34.482   \n",
       "1              0.005343          1285.106366  ...   June  8.0      34.474   \n",
       "2              0.005187          1285.105751  ...   June  8.0      34.470   \n",
       "3              0.003045          1284.961979  ...   June  8.0      34.560   \n",
       "4              0.002579          1284.916416  ...   June  8.0      34.491   \n",
       "\n",
       "   Int_time (s)  accumulations  Mag (X)             duration      24hr_time  \\\n",
       "0          10.0            5.0      5.0  ['0h', '0m', '52s']  12:27:29 PM\\n   \n",
       "1          10.0            5.0      5.0  ['0h', '0m', '51s']  12:28:33 PM\\n   \n",
       "2          10.0            5.0      5.0  ['0h', '0m', '51s']  12:29:25 PM\\n   \n",
       "3          10.0            5.0      5.0  ['0h', '0m', '51s']  12:42:31 PM\\n   \n",
       "4          10.0            5.0      5.0  ['0h', '0m', '51s']  12:48:30 PM\\n   \n",
       "\n",
       "  sec since midnight  Spectral Center  \n",
       "0            44849.0         1325.004  \n",
       "1            44913.0         1325.004  \n",
       "2            44965.0         1325.004  \n",
       "3            45751.0         1325.004  \n",
       "4            46110.0         1325.004  \n",
       "\n",
       "[5 rows x 59 columns]"
      ]
     },
     "execution_count": 18,
     "metadata": {},
     "output_type": "execute_result"
    }
   ],
   "source": [
    "if 'Peak_Area_Carb' in df_combo_sec_phase.columns:\n",
    "    df_combo_sec_phase['Carb_Diad_Ratio']=(df_combo_sec_phase['Peak_Area_Carb']/(df_combo_sec_phase['Diad1_Voigt_Area']\n",
    "                      +df_combo_sec_phase['Diad2_Voigt_Area']))\n",
    "if 'Peak_Area_SO2' in df_combo_sec_phase.columns:\n",
    "    df_combo_sec_phase['SO2_Diad_Ratio']=(df_combo_sec_phase['Peak_Area_SO2']/(df_combo_sec_phase['Diad1_Voigt_Area']\n",
    "                      +df_combo_sec_phase['Diad2_Voigt_Area']))\n",
    "    \n",
    "df_combo_sec_phase.head()"
   ]
  },
  {
   "cell_type": "code",
   "execution_count": 19,
   "id": "9e5cffde-1b26-4aaf-b1c0-eb081c766242",
   "metadata": {},
   "outputs": [],
   "source": [
    "df_combo_sec_phase.to_excel(output_path+'/'+nm+'_FI_fitting_w_sec_phases.xlsx')\n"
   ]
  },
  {
   "cell_type": "code",
   "execution_count": 19,
   "id": "ba856608",
   "metadata": {},
   "outputs": [],
   "source": [
    "from winotify import Notification, audio\n",
    "\n",
    "toast= Notification(app_id=\"VSCode\",title=\"Notebook completed\",\n",
    "                    msg=\"Step4_Stitch_Outputs_Together is done!\",\n",
    "                    duration=\"short\")\n",
    "toast.set_audio(audio.Mail,loop=False)\n",
    "toast.show()"
   ]
  },
  {
   "cell_type": "code",
   "execution_count": null,
   "id": "bd0688b0",
   "metadata": {},
   "outputs": [],
   "source": []
  }
 ],
 "metadata": {
  "kernelspec": {
   "display_name": "Python 3 (ipykernel)",
   "language": "python",
   "name": "python3"
  },
  "language_info": {
   "codemirror_mode": {
    "name": "ipython",
    "version": 3
   },
   "file_extension": ".py",
   "mimetype": "text/x-python",
   "name": "python",
   "nbconvert_exporter": "python",
   "pygments_lexer": "ipython3",
   "version": "3.9.16"
  }
 },
 "nbformat": 4,
 "nbformat_minor": 5
}
