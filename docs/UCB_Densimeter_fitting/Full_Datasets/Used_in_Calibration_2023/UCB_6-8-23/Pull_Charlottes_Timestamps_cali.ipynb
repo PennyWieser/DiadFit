{
 "cells": [
  {
   "cell_type": "code",
   "execution_count": 1,
   "metadata": {},
   "outputs": [
    {
     "data": {
      "text/plain": [
       "'0.0.77'"
      ]
     },
     "execution_count": 1,
     "metadata": {},
     "output_type": "execute_result"
    }
   ],
   "source": [
    "import numpy as np\n",
    "import pandas as pd\n",
    "import matplotlib.pyplot as plt\n",
    "import DiadFit as pf\n",
    "# This needs to be 0.0.68 or higher!\n",
    "pf.__version__"
   ]
  },
  {
   "cell_type": "code",
   "execution_count": 2,
   "metadata": {},
   "outputs": [],
   "source": [
    "df_8thJune=pd.read_excel(r'C:\\Users\\penny\\Box\\Berkeley_new\\DiadFit_outer\\docs\\UCB_Densimeter_fitting\\Input_files\\merged_df_wrho-6-8-23.xlsx')\n"
   ]
  },
  {
   "cell_type": "code",
   "execution_count": 3,
   "metadata": {},
   "outputs": [
    {
     "data": {
      "text/plain": [
       "0     61059\n",
       "1     59816\n",
       "2     59699\n",
       "3     58740\n",
       "4     58460\n",
       "5     58066\n",
       "6     57670\n",
       "7     57337\n",
       "8     57091\n",
       "9     56941\n",
       "10    56175\n",
       "11    55768\n",
       "12    55241\n",
       "13    54930\n",
       "14    54540\n",
       "15    54162\n",
       "16    53749\n",
       "17    53377\n",
       "18    53018\n",
       "19    52461\n",
       "20    52141\n",
       "21    51484\n",
       "22    51223\n",
       "23    50684\n",
       "24    50233\n",
       "25    49275\n",
       "26    47819\n",
       "27    46369\n",
       "28    46110\n",
       "29    45751\n",
       "30    44849\n",
       "31    44913\n",
       "32    44965\n",
       "Name: sec since midnight, dtype: int64"
      ]
     },
     "execution_count": 3,
     "metadata": {},
     "output_type": "execute_result"
    }
   ],
   "source": [
    "df_8thJune['sec since midnight']"
   ]
  },
  {
   "cell_type": "code",
   "execution_count": 7,
   "metadata": {},
   "outputs": [],
   "source": [
    "\n",
    "Ne_corr_1447_1117_8thJune=pf.calculate_Ne_corr_std_err_values(pickle_str='Neon_corr_model_1117_1147.pkl',\n",
    "        new_x=df_8thJune['sec since midnight'], CI=0.67)\n",
    "Ne_corr_1447_1117_8thJune\n",
    "Ne_corr_1447_1117_8thJune['preferred_values'].to_clipboard(excel=True, index=False, header=False)"
   ]
  },
  {
   "cell_type": "code",
   "execution_count": 8,
   "metadata": {},
   "outputs": [],
   "source": [
    "\n",
    "Ne_corr_1447_1220_8thJune=pf.calculate_Ne_corr_std_err_values(pickle_str='Neon_corr_model_1220_1147.pkl',\n",
    "        new_x=df_8thJune['sec since midnight'], CI=0.67)\n",
    "Ne_corr_1447_1220_8thJune\n",
    "Ne_corr_1447_1220_8thJune['preferred_values'].to_clipboard(excel=True, index=False, header=False)"
   ]
  },
  {
   "cell_type": "code",
   "execution_count": 6,
   "metadata": {},
   "outputs": [],
   "source": [
    "df_8thJune['sec since midnight']\n",
    "\n",
    "Ne_corr_1447_1220_8thJune=pf.calculate_Ne_corr_std_err_values(pickle_str='Neon_corr_model_1220_1147.pkl',\n",
    "        new_x=df_8thJune['sec since midnight'], CI=0.67)\n",
    "Ne_corr_1447_1220_8thJune\n",
    "Ne_corr_1447_1220_8thJune['preferred_values'].to_clipboard(excel=True, index=False, header=False)"
   ]
  }
 ],
 "metadata": {
  "kernelspec": {
   "display_name": "base",
   "language": "python",
   "name": "python3"
  },
  "language_info": {
   "codemirror_mode": {
    "name": "ipython",
    "version": 3
   },
   "file_extension": ".py",
   "mimetype": "text/x-python",
   "name": "python",
   "nbconvert_exporter": "python",
   "pygments_lexer": "ipython3",
   "version": "3.11.4"
  }
 },
 "nbformat": 4,
 "nbformat_minor": 2
}
