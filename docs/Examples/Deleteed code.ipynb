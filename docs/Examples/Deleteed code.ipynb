{
 "cells": [
  {
   "cell_type": "code",
   "execution_count": 1,
   "id": "e1f3f969-10a3-4e9a-95ce-90a242bb2b7b",
   "metadata": {},
   "outputs": [],
   "source": [
    "def calculate_split(diad1_peaks, diad2_peaks):\n",
    "    \"\"\" Calculates splitting for inputs of diad1_peaks and diad2_peaks\n",
    "    \"\"\"\n",
    "    if len(diad2_peaks)==1:\n",
    "        diad2=diad2_peaks\n",
    "    if len(diad2_peaks)==2:\n",
    "        diad2=np.min(diad2_peaks)\n",
    "    if len(diad2_peaks)==3:\n",
    "        diad2=np.nanmedian(diad2_peaks)\n",
    "    split=diad2-np.max(diad1_peaks)\n",
    "    return split"
   ]
  },
  {
   "cell_type": "code",
   "execution_count": null,
   "id": "2a71e984-92c9-4983-b194-a3313f888524",
   "metadata": {},
   "outputs": [],
   "source": []
  }
 ],
 "metadata": {
  "kernelspec": {
   "display_name": "Python 3 (ipykernel)",
   "language": "python",
   "name": "python3"
  },
  "language_info": {
   "codemirror_mode": {
    "name": "ipython",
    "version": 3
   },
   "file_extension": ".py",
   "mimetype": "text/x-python",
   "name": "python",
   "nbconvert_exporter": "python",
   "pygments_lexer": "ipython3",
   "version": "3.9.13"
  }
 },
 "nbformat": 4,
 "nbformat_minor": 5
}
