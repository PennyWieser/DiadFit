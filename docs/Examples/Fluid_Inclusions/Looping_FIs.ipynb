{
 "cells": [
  {
   "cell_type": "markdown",
   "id": "281cb281-eda1-450f-ae7a-3cfc914d4ede",
   "metadata": {},
   "source": [
    "## Converting fluid inclusion densities to depths\n",
    "- Note, you will have to have CoolProp installed for this to work, if you have python installed through anaconda, conda install -c conda-forge coolprop in the command line normally works well"
   ]
  },
  {
   "cell_type": "code",
   "execution_count": 1,
   "id": "77244551-bef5-4b30-a8c7-ccbdb616708b",
   "metadata": {},
   "outputs": [],
   "source": [
    "import CoolProp.CoolProp as cp\n",
    "import numpy as np\n",
    "import pandas as pd\n",
    "import matplotlib.pyplot as plt\n",
    "import DiadFit as pf"
   ]
  },
  {
   "cell_type": "code",
   "execution_count": 2,
   "id": "b3d9508a-5cda-49a2-96c0-739bb45bdf4c",
   "metadata": {},
   "outputs": [],
   "source": [
    "FIs=pd.read_excel('Fluid_Inclusion_Data.xlsx', sheet_name='Sheet1')"
   ]
  },
  {
   "cell_type": "code",
   "execution_count": 8,
   "id": "c20fc3f0-2b29-4b34-af7b-5bc0bebba7a1",
   "metadata": {},
   "outputs": [
    {
     "data": {
      "text/plain": [
       "210.0"
      ]
     },
     "execution_count": 8,
     "metadata": {},
     "output_type": "execute_result"
    }
   ],
   "source": [
    "0.21*1000"
   ]
  },
  {
   "cell_type": "code",
   "execution_count": null,
   "id": "4b7ab04c-ad48-481b-b53d-a6c0ce63412d",
   "metadata": {},
   "outputs": [],
   "source": []
  },
  {
   "cell_type": "markdown",
   "id": "71fba3a1-02ed-44bb-a7c4-48ef69fd210a",
   "metadata": {},
   "source": [
    "## First, just calculate densities"
   ]
  },
  {
   "cell_type": "code",
   "execution_count": 3,
   "id": "546a1639-fe1b-4c90-9d85-c46a52707562",
   "metadata": {},
   "outputs": [
    {
     "data": {
      "text/html": [
       "<div>\n",
       "<style scoped>\n",
       "    .dataframe tbody tr th:only-of-type {\n",
       "        vertical-align: middle;\n",
       "    }\n",
       "\n",
       "    .dataframe tbody tr th {\n",
       "        vertical-align: top;\n",
       "    }\n",
       "\n",
       "    .dataframe thead th {\n",
       "        text-align: right;\n",
       "    }\n",
       "</style>\n",
       "<table border=\"1\" class=\"dataframe\">\n",
       "  <thead>\n",
       "    <tr style=\"text-align: right;\">\n",
       "      <th></th>\n",
       "      <th>Pressure (kbar)</th>\n",
       "      <th>Pressure (MPa)</th>\n",
       "      <th>Depth (km)</th>\n",
       "      <th>input_Crust_dens_gcm3</th>\n",
       "      <th>input_T_K</th>\n",
       "      <th>input_CO2_dens_gcm3</th>\n",
       "    </tr>\n",
       "  </thead>\n",
       "  <tbody>\n",
       "    <tr>\n",
       "      <th>0</th>\n",
       "      <td>0.543676</td>\n",
       "      <td>54.367617</td>\n",
       "      <td>2.052615</td>\n",
       "      <td>2.7</td>\n",
       "      <td>1200</td>\n",
       "      <td>0.21</td>\n",
       "    </tr>\n",
       "    <tr>\n",
       "      <th>1</th>\n",
       "      <td>0.250673</td>\n",
       "      <td>25.067256</td>\n",
       "      <td>0.946398</td>\n",
       "      <td>2.7</td>\n",
       "      <td>1250</td>\n",
       "      <td>0.10</td>\n",
       "    </tr>\n",
       "    <tr>\n",
       "      <th>2</th>\n",
       "      <td>0.117496</td>\n",
       "      <td>11.749641</td>\n",
       "      <td>0.443600</td>\n",
       "      <td>2.7</td>\n",
       "      <td>1210</td>\n",
       "      <td>0.05</td>\n",
       "    </tr>\n",
       "    <tr>\n",
       "      <th>3</th>\n",
       "      <td>1.607466</td>\n",
       "      <td>160.746622</td>\n",
       "      <td>6.068887</td>\n",
       "      <td>2.7</td>\n",
       "      <td>1300</td>\n",
       "      <td>0.45</td>\n",
       "    </tr>\n",
       "    <tr>\n",
       "      <th>4</th>\n",
       "      <td>2.822458</td>\n",
       "      <td>282.245803</td>\n",
       "      <td>10.656013</td>\n",
       "      <td>2.7</td>\n",
       "      <td>1410</td>\n",
       "      <td>0.60</td>\n",
       "    </tr>\n",
       "  </tbody>\n",
       "</table>\n",
       "</div>"
      ],
      "text/plain": [
       "   Pressure (kbar)  Pressure (MPa)  Depth (km)  input_Crust_dens_gcm3  \\\n",
       "0         0.543676       54.367617    2.052615                    2.7   \n",
       "1         0.250673       25.067256    0.946398                    2.7   \n",
       "2         0.117496       11.749641    0.443600                    2.7   \n",
       "3         1.607466      160.746622    6.068887                    2.7   \n",
       "4         2.822458      282.245803   10.656013                    2.7   \n",
       "\n",
       "   input_T_K  input_CO2_dens_gcm3  \n",
       "0       1200                 0.21  \n",
       "1       1250                 0.10  \n",
       "2       1210                 0.05  \n",
       "3       1300                 0.45  \n",
       "4       1410                 0.60  "
      ]
     },
     "execution_count": 3,
     "metadata": {},
     "output_type": "execute_result"
    }
   ],
   "source": [
    "Densities=pf.convert_density_depth_Coolprop(T_K=FIs['T_K'], \n",
    "                                   Crust_dens_gcm3=2.7,\n",
    "                CO2_dens_gcm3=FIs['Density_g_cm3'], output='df')\n",
    "Densities.head()"
   ]
  },
  {
   "cell_type": "markdown",
   "id": "1ce9527f-2bc1-47bc-a6b7-c7ab9d8fb19f",
   "metadata": {},
   "source": [
    "## Monte Carlo Simulations for each FI"
   ]
  },
  {
   "cell_type": "code",
   "execution_count": 5,
   "id": "4bb3196c-9992-48f7-966e-539f073a2e8f",
   "metadata": {},
   "outputs": [
    {
     "data": {
      "image/png": "[encoded data removed]",
      "text/plain": [
       "<Figure size 936x360 with 3 Axes>"
      ]
     },
     "metadata": {
      "needs_background": "light"
     },
     "output_type": "display_data"
    }
   ],
   "source": [
    "df_synthetic=pf.calculate_temperature_density_MC(df=FIs, sample_i=3,\n",
    "crust_dens_gcm3=2.7, N_dup=10000,\n",
    "error_T_K=30, error_type_T_K='Abs', error_dist_T_K='normal',\n",
    "error_CO2_dens=0.005, error_type_CO2_dens='Abs', error_dist_CO2_dens='normal',\n",
    "error_crust_dens=0.1, error_type_crust_dens='Abs', error_dist_crust_dens='uniform' )\n",
    "\n",
    "\n",
    "df_synthetic.head()\n",
    "\n",
    "plt.savefig('Distributions.png', dpi=300)"
   ]
  },
  {
   "cell_type": "code",
   "execution_count": 6,
   "id": "e0043e0b-756d-46cf-96e9-5c5e82f82c02",
   "metadata": {},
   "outputs": [
    {
     "data": {
      "image/png": "[encoded data removed]",
      "text/plain": [
       "<Figure size 720x360 with 2 Axes>"
      ]
     },
     "metadata": {
      "needs_background": "light"
     },
     "output_type": "display_data"
    }
   ],
   "source": [
    "MC_T=pf.convert_density_depth_Coolprop(T_K=df_synthetic['T_K_with_noise'], \n",
    "                                    CO2_dens_gcm3=df_synthetic['CO2_dens_with_noise'], \n",
    "                                   Crust_dens_gcm3=df_synthetic['crust_dens_with_noise'],\n",
    "                                     output='df')\n",
    "\n",
    "fig, (ax1, ax2) = plt.subplots(1, 2, figsize=(10,5), sharey=True)\n",
    "ax1.hist(MC_T['Pressure (kbar)'], color='cyan', ec='k')\n",
    "ax2.hist(MC_T['Depth (km)'], color='cornflowerblue', ec='k')\n",
    "ax1.set_xlabel('Pressure (kbar)')\n",
    "ax2.set_xlabel('Depth (km)')\n",
    "ax1.set_ylabel('Number of simulations')\n",
    "plt.savefig('Distribution_Press.png', dpi=300)"
   ]
  },
  {
   "cell_type": "code",
   "execution_count": 17,
   "id": "9148221a-5a9e-4b1b-9093-253247349015",
   "metadata": {},
   "outputs": [
    {
     "data": {
      "image/png": "[encoded data removed]",
      "text/plain": [
       "<Figure size 936x360 with 3 Axes>"
      ]
     },
     "metadata": {
      "needs_background": "light"
     },
     "output_type": "display_data"
    }
   ],
   "source": [
    "df_synthetic=pf.calculate_temperature_density_MC(df=FIs, sample_i=4,\n",
    "crust_dens_gcm3=2.7, N_dup=10000,\n",
    "error_T_K=30, error_type_T_K='Abs', error_dist_T_K='normal',\n",
    "error_CO2_dens=0, error_type_CO2_dens='Abs', error_dist_CO2_dens='normal',\n",
    "error_crust_dens=0, error_type_crust_dens='Abs', error_dist_crust_dens='uniform' )\n",
    "\n",
    "\n",
    "df_synthetic.head()\n",
    "\n",
    "plt.savefig('Distributions.png', dpi=300)"
   ]
  },
  {
   "cell_type": "code",
   "execution_count": 18,
   "id": "65ba6b7d-d370-4aea-b7ad-a2c160cb8253",
   "metadata": {},
   "outputs": [],
   "source": [
    "MC_T=pf.convert_density_depth_Coolprop(T_K=df_synthetic['T_K_with_noise'], \n",
    "                                    CO2_dens_gcm3=df_synthetic['CO2_dens_with_noise'], \n",
    "                                   Crust_dens_gcm3=df_synthetic['crust_dens_with_noise'],\n",
    "                                     output='df')"
   ]
  },
  {
   "cell_type": "code",
   "execution_count": 19,
   "id": "e9d72db8-b1af-4e39-b31d-26fb42f02276",
   "metadata": {},
   "outputs": [
    {
     "data": {
      "text/plain": [
       "Text(0, 0.5, 'Temperature (K)')"
      ]
     },
     "execution_count": 19,
     "metadata": {},
     "output_type": "execute_result"
    },
    {
     "data": {
      "image/png": "[encoded data removed]",
      "text/plain": [
       "<Figure size 432x288 with 1 Axes>"
      ]
     },
     "metadata": {
      "needs_background": "light"
     },
     "output_type": "display_data"
    }
   ],
   "source": [
    "plt.plot(MC_T['Pressure (kbar)'], MC_T['input_T_K'], '-k')\n",
    "plt.xlabel('Pressure (kbar)')\n",
    "plt.ylabel('Temperature (K)')"
   ]
  },
  {
   "cell_type": "code",
   "execution_count": 12,
   "id": "42c13ffd-f70e-48b6-92e1-e818b1683222",
   "metadata": {},
   "outputs": [
    {
     "data": {
      "text/html": [
       "<div>\n",
       "<style scoped>\n",
       "    .dataframe tbody tr th:only-of-type {\n",
       "        vertical-align: middle;\n",
       "    }\n",
       "\n",
       "    .dataframe tbody tr th {\n",
       "        vertical-align: top;\n",
       "    }\n",
       "\n",
       "    .dataframe thead th {\n",
       "        text-align: right;\n",
       "    }\n",
       "</style>\n",
       "<table border=\"1\" class=\"dataframe\">\n",
       "  <thead>\n",
       "    <tr style=\"text-align: right;\">\n",
       "      <th></th>\n",
       "      <th>Pressure (kbar)</th>\n",
       "      <th>Pressure (MPa)</th>\n",
       "      <th>Depth (km)</th>\n",
       "      <th>input_Crust_dens_gcm3</th>\n",
       "      <th>input_T_K</th>\n",
       "      <th>input_CO2_dens_gcm3</th>\n",
       "    </tr>\n",
       "  </thead>\n",
       "  <tbody>\n",
       "    <tr>\n",
       "      <th>0</th>\n",
       "      <td>1.547467</td>\n",
       "      <td>154.746694</td>\n",
       "      <td>5.842364</td>\n",
       "      <td>2.7</td>\n",
       "      <td>1258.490130</td>\n",
       "      <td>0.45</td>\n",
       "    </tr>\n",
       "    <tr>\n",
       "      <th>1</th>\n",
       "      <td>1.604336</td>\n",
       "      <td>160.433590</td>\n",
       "      <td>6.057069</td>\n",
       "      <td>2.7</td>\n",
       "      <td>1297.830666</td>\n",
       "      <td>0.45</td>\n",
       "    </tr>\n",
       "    <tr>\n",
       "      <th>2</th>\n",
       "      <td>1.552626</td>\n",
       "      <td>155.262587</td>\n",
       "      <td>5.861841</td>\n",
       "      <td>2.7</td>\n",
       "      <td>1262.053405</td>\n",
       "      <td>0.45</td>\n",
       "    </tr>\n",
       "    <tr>\n",
       "      <th>3</th>\n",
       "      <td>1.570392</td>\n",
       "      <td>157.039205</td>\n",
       "      <td>5.928916</td>\n",
       "      <td>2.7</td>\n",
       "      <td>1274.333033</td>\n",
       "      <td>0.45</td>\n",
       "    </tr>\n",
       "    <tr>\n",
       "      <th>4</th>\n",
       "      <td>1.573312</td>\n",
       "      <td>157.331188</td>\n",
       "      <td>5.939940</td>\n",
       "      <td>2.7</td>\n",
       "      <td>1276.352418</td>\n",
       "      <td>0.45</td>\n",
       "    </tr>\n",
       "    <tr>\n",
       "      <th>...</th>\n",
       "      <td>...</td>\n",
       "      <td>...</td>\n",
       "      <td>...</td>\n",
       "      <td>...</td>\n",
       "      <td>...</td>\n",
       "      <td>...</td>\n",
       "    </tr>\n",
       "    <tr>\n",
       "      <th>9995</th>\n",
       "      <td>1.620782</td>\n",
       "      <td>162.078239</td>\n",
       "      <td>6.119162</td>\n",
       "      <td>2.7</td>\n",
       "      <td>1309.232663</td>\n",
       "      <td>0.45</td>\n",
       "    </tr>\n",
       "    <tr>\n",
       "      <th>9996</th>\n",
       "      <td>1.699957</td>\n",
       "      <td>169.995682</td>\n",
       "      <td>6.418080</td>\n",
       "      <td>2.7</td>\n",
       "      <td>1364.273252</td>\n",
       "      <td>0.45</td>\n",
       "    </tr>\n",
       "    <tr>\n",
       "      <th>9997</th>\n",
       "      <td>1.631579</td>\n",
       "      <td>163.157866</td>\n",
       "      <td>6.159922</td>\n",
       "      <td>2.7</td>\n",
       "      <td>1316.723420</td>\n",
       "      <td>0.45</td>\n",
       "    </tr>\n",
       "    <tr>\n",
       "      <th>9998</th>\n",
       "      <td>1.608099</td>\n",
       "      <td>160.809946</td>\n",
       "      <td>6.071278</td>\n",
       "      <td>2.7</td>\n",
       "      <td>1300.438890</td>\n",
       "      <td>0.45</td>\n",
       "    </tr>\n",
       "    <tr>\n",
       "      <th>9999</th>\n",
       "      <td>1.607739</td>\n",
       "      <td>160.773928</td>\n",
       "      <td>6.069918</td>\n",
       "      <td>2.7</td>\n",
       "      <td>1300.189257</td>\n",
       "      <td>0.45</td>\n",
       "    </tr>\n",
       "  </tbody>\n",
       "</table>\n",
       "<p>10000 rows × 6 columns</p>\n",
       "</div>"
      ],
      "text/plain": [
       "      Pressure (kbar)  Pressure (MPa)  Depth (km)  input_Crust_dens_gcm3  \\\n",
       "0            1.547467      154.746694    5.842364                    2.7   \n",
       "1            1.604336      160.433590    6.057069                    2.7   \n",
       "2            1.552626      155.262587    5.861841                    2.7   \n",
       "3            1.570392      157.039205    5.928916                    2.7   \n",
       "4            1.573312      157.331188    5.939940                    2.7   \n",
       "...               ...             ...         ...                    ...   \n",
       "9995         1.620782      162.078239    6.119162                    2.7   \n",
       "9996         1.699957      169.995682    6.418080                    2.7   \n",
       "9997         1.631579      163.157866    6.159922                    2.7   \n",
       "9998         1.608099      160.809946    6.071278                    2.7   \n",
       "9999         1.607739      160.773928    6.069918                    2.7   \n",
       "\n",
       "        input_T_K  input_CO2_dens_gcm3  \n",
       "0     1258.490130                 0.45  \n",
       "1     1297.830666                 0.45  \n",
       "2     1262.053405                 0.45  \n",
       "3     1274.333033                 0.45  \n",
       "4     1276.352418                 0.45  \n",
       "...           ...                  ...  \n",
       "9995  1309.232663                 0.45  \n",
       "9996  1364.273252                 0.45  \n",
       "9997  1316.723420                 0.45  \n",
       "9998  1300.438890                 0.45  \n",
       "9999  1300.189257                 0.45  \n",
       "\n",
       "[10000 rows x 6 columns]"
      ]
     },
     "execution_count": 12,
     "metadata": {},
     "output_type": "execute_result"
    }
   ],
   "source": [
    "MC_T"
   ]
  },
  {
   "cell_type": "code",
   "execution_count": null,
   "id": "bbd7754a-8343-4cc7-9f96-f21c9b52504a",
   "metadata": {},
   "outputs": [],
   "source": []
  }
 ],
 "metadata": {
  "kernelspec": {
   "display_name": "Python 3 (ipykernel)",
   "language": "python",
   "name": "python3"
  },
  "language_info": {
   "codemirror_mode": {
    "name": "ipython",
    "version": 3
   },
   "file_extension": ".py",
   "mimetype": "text/x-python",
   "name": "python",
   "nbconvert_exporter": "python",
   "pygments_lexer": "ipython3",
   "version": "3.9.12"
  }
 },
 "nbformat": 4,
 "nbformat_minor": 5
}
