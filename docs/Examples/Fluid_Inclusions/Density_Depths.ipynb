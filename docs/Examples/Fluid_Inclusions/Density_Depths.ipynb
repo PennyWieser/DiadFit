{
 "cells": [
  {
   "cell_type": "markdown",
   "id": "281cb281-eda1-450f-ae7a-3cfc914d4ede",
   "metadata": {},
   "source": [
    "## Converting fluid inclusion densities to depths\n",
    "- Note, you will have to have CoolProp installed for this to work, if you have python installed through anaconda, conda install -c conda-forge coolprop in the command line normally works well"
   ]
  },
  {
   "cell_type": "code",
   "execution_count": 1,
   "id": "77244551-bef5-4b30-a8c7-ccbdb616708b",
   "metadata": {},
   "outputs": [],
   "source": [
    "import numpy as np\n",
    "import pandas as pd\n",
    "import matplotlib.pyplot as plt\n",
    "import DiadFit as pf"
   ]
  },
  {
   "cell_type": "markdown",
   "id": "650ee88e-4086-4bca-bc47-903a31bea430",
   "metadata": {},
   "source": [
    "## Fitting Rasmussen data"
   ]
  },
  {
   "cell_type": "code",
   "execution_count": 18,
   "id": "26c92e61-162c-45eb-85db-3f6862683cae",
   "metadata": {},
   "outputs": [],
   "source": [
    "ras_sum=pd.read_excel('Rasmussen_Velocities.xlsx', 'Summary')"
   ]
  },
  {
   "cell_type": "code",
   "execution_count": 37,
   "id": "84e98471-5a8f-449e-9906-8b4dd416c110",
   "metadata": {},
   "outputs": [
    {
     "name": "stdout",
     "output_type": "stream",
     "text": [
      "3.784444149179223\n",
      "0.2857169093579655\n"
     ]
    },
    {
     "data": {
      "image/png": "[encoded data removed]",
      "text/plain": [
       "<Figure size 432x288 with 1 Axes>"
      ]
     },
     "metadata": {
      "needs_background": "light"
     },
     "output_type": "display_data"
    }
   ],
   "source": [
    "# Overal Profile\n",
    "plt.plot(ras_sum['Pressure(MPa)']/100, ras_sum['Depth(km)'],\n",
    "          '.r')\n",
    "\n",
    "a, b = np.polyfit(ras_sum['Pressure(MPa)']/100, ras_sum['Depth(km)'],  1)\n",
    "print(a)\n",
    "print(b)\n",
    "x=ras_sum['Depth(km)']\n",
    "#plt.plot(x, a*x + b, '-b')\n",
    "# Pf_Rasm_overall = np.poly1d(np.polyfit(ras['Depth(km)'], ras['Pressure(MPa)'], 2))\n",
    "# Px_Rasm_overall = np.linspace(0, 10000, 101)\n",
    "# Py_Rasm_overall = Pf_Rasm_overal(Px_Rasm_overall)"
   ]
  },
  {
   "cell_type": "code",
   "execution_count": 26,
   "id": "57369b45-202e-45bd-922c-05c497fd5602",
   "metadata": {},
   "outputs": [
    {
     "data": {
      "text/plain": [
       "[<matplotlib.lines.Line2D at 0x236ee34f490>]"
      ]
     },
     "execution_count": 26,
     "metadata": {},
     "output_type": "execute_result"
    },
    {
     "data": {
      "image/png": "[encoded data removed]",
      "text/plain": [
       "<Figure size 432x288 with 1 Axes>"
      ]
     },
     "metadata": {
      "needs_background": "light"
     },
     "output_type": "display_data"
    }
   ],
   "source": [
    "plt.plot(x, ras_sum['Pressure(MPa)']/100-(a*x + b), '-c')\n"
   ]
  },
  {
   "cell_type": "code",
   "execution_count": 6,
   "id": "1802d0ce-9435-47bb-8848-02386b073ee9",
   "metadata": {},
   "outputs": [
    {
     "data": {
      "text/plain": [
       "Text(0, 0.5, 'Pressures (MPa)')"
      ]
     },
     "execution_count": 6,
     "metadata": {},
     "output_type": "execute_result"
    },
    {
     "data": {
      "image/png": "[encoded data removed]",
      "text/plain": [
       "<Figure size 432x288 with 1 Axes>"
      ]
     },
     "metadata": {
      "needs_background": "light"
     },
     "output_type": "display_data"
    }
   ],
   "source": [
    "plt.plot(ras['Topoflayer(km)a'].loc[ras['Profile#']==1],\n",
    "         0.01*ras['ρ(kg/m3)b'].loc[ras['Profile#']==1],\n",
    "         '-r')\n",
    "plt.xlabel('Depth')\n",
    "plt.ylabel('Pressures (MPa)')"
   ]
  },
  {
   "cell_type": "code",
   "execution_count": 39,
   "id": "55014f3a-efc1-4cff-b2d9-8ff20e67eb92",
   "metadata": {},
   "outputs": [],
   "source": [
    "def rasmussen(P_kbar):\n",
    "    \"\"\" Linear fit to the supporting information of Rasmussen et al. 2022, \n",
    "    overall best fit density vs. depth\"\"\"\n",
    "    P=P_kbar\n",
    "    D=3.784444149179223*P+0.2857169093579655\n",
    "    return D\n",
    "    \n",
    "def hill_zucca(P_kbar):\n",
    "    \"\"\" Parameterization of Hill and Zucca (1987),\n",
    "    as given in Putirka (2017) Down the Crater Elements supplement\n",
    "    \"\"\"\n",
    "    P=P_kbar\n",
    "    \n",
    "    D=-2.77*10**(-5) * (P**4) - 2.0*10**(-3)*(P**3) - 4.88*10**(-2)*P**2 + 3.6*P - 6.34*(10**(-2))\n",
    "    \n",
    "    return D\n",
    "\n",
    "def ryan_lerner(P_kbar):\n",
    "    \"\"\" Parameterization of Ryan 1987, actual equation from Lerner et al. 2021\n",
    "    After 16.88 km (455 MPa), assume density is 2.746, as density turns around again. This profile is tweaked for Hawaii\n",
    "    \"\"\"\n",
    "    P=P_kbar*100\n",
    "    if P<455.09090909:\n",
    "        D=(4.578*10**(-8) *P**3) - (4.151*10**(-5) *P**2) + (4.652*10**(-2) *P)\n",
    "    else:\n",
    "        D=P/(9.8*2.749643038642074)    \n",
    "    \n",
    "    return D\n",
    "\n",
    "def mavko_debari(P_kbar):\n",
    "    \"\"\" Parameterization of Mavko and Thompson (1983) and DeBari and Greene (2011) \n",
    "    as given in Putirka (2017) Down the Crater Elements supplement\n",
    "    \"\"\" \n",
    "    P=P_kbar\n",
    "    D=2.4*(10**4)*(P**3) - 2.11*(10**2)*P**2 + 3.66*P+ 0.46\n",
    "    print('not working yet, obvious typo, have asked keith')\n",
    "    \n",
    "    return D\n",
    "\n",
    "\n",
    "def prezzi(P_kbar):\n",
    "    \"\"\" Parameterization of Prezzi et al. (2009), \n",
    "    as given in Putirka (2017) Down the Crater Elements supplement.\n",
    "    Tweaked for Andes.\n",
    "    \"\"\"     \n",
    "    P=P_kbar\n",
    "    D=4.88 + 3.30*P - 0.0137*(P - 18.01)**2\n",
    "    \n",
    "    return D\n",
    "    \n",
    "    \n",
    "Profile_funcs={ryan_lerner, mavko_debari, hill_zucca, prezzi, rasmussen}\n",
    "Profile_funcs_by_name= {p.__name__: p for p in Profile_funcs}\n",
    "\n",
    "def convert_pressure_to_depth(P_kbar=None, model=\"ryan_lerner\"):\n",
    "    \"\"\" Converts pressure in kbar to depth in km using a variety of crustal density profiles\n",
    "    \n",
    "\n",
    "    Parameters\n",
    "    -----------\n",
    "\n",
    "    P_kbar: int, float, pd.Series, np.ndarray\n",
    "        Pressure in kbar\n",
    "        \n",
    "    model: str, choose from\n",
    "        ryan_lerner: Parameterization of Ryan 1987, actual equation from Lerner et al. 2021\n",
    "    After 16.88 km (455 MPa), assume density is 2.746, as density turns around again. This profile is tweaked for Hawaii\n",
    "    \n",
    "        mavko_debari: Parameterization of Mavko and Thompson (1983) and DeBari and Greene (2011) \n",
    "    as given in Putirka (2017) Down the Crater Elements supplement\n",
    "    \n",
    "        hill_zucca: Parameterization of Hill and Zucca (1987),\n",
    "    as given in Putirka (2017) Down the Crater Elements supplement\n",
    "    \n",
    "        prezzi: Parameterization of Prezzi et al. (2009), \n",
    "    as given in Putirka (2017) Down the Crater Elements supplement. Tweaked for Andes. \n",
    "    \n",
    "        rasmussen: Linear fit to the supporting information of Rasmussen et al. 2022, \n",
    "    overall best fit density vs. depth\n",
    "    \n",
    "    \n",
    "    \n",
    "    \"\"\"\n",
    "    \n",
    "    try:\n",
    "        func = Profile_funcs_by_name[model]\n",
    "    except KeyError:\n",
    "        raise ValueError(f'{model} is not a valid model') from None\n",
    "    #sig=inspect.signature(func)    \n",
    "    if isinstance(P_kbar, float) or isinstance(P_kbar, int):\n",
    "        D=func(P_kbar)\n",
    "        \n",
    "    if isinstance(P_kbar, pd.Series):\n",
    "        D=np.empty(len(P_kbar), float)\n",
    "        for i in range(0, len(P_kbar)):\n",
    "            D[i]=func(P_kbar.iloc[i])\n",
    "            \n",
    "    if isinstance(P_kbar, np.ndarray):\n",
    "        D=np.empty(len(P_kbar), float)\n",
    "        for i in range(0, len(P_kbar)):\n",
    "            D[i]=func(P_kbar[i])        \n",
    "            \n",
    "        \n",
    "    return D\n",
    "    "
   ]
  },
  {
   "cell_type": "code",
   "execution_count": null,
   "id": "4489859b-c4df-44a2-813e-10521aa0a373",
   "metadata": {},
   "outputs": [],
   "source": []
  },
  {
   "cell_type": "code",
   "execution_count": 50,
   "id": "c3564def-7910-4803-80d9-908c15ab9d4e",
   "metadata": {},
   "outputs": [
    {
     "name": "stdout",
     "output_type": "stream",
     "text": [
      "not working yet, obvious typo, have asked keith\n",
      "not working yet, obvious typo, have asked keith\n",
      "not working yet, obvious typo, have asked keith\n",
      "not working yet, obvious typo, have asked keith\n",
      "not working yet, obvious typo, have asked keith\n",
      "not working yet, obvious typo, have asked keith\n",
      "not working yet, obvious typo, have asked keith\n",
      "not working yet, obvious typo, have asked keith\n",
      "not working yet, obvious typo, have asked keith\n",
      "not working yet, obvious typo, have asked keith\n"
     ]
    }
   ],
   "source": [
    "P_array=np.linspace(0.001, 10, 10)\n",
    "ryan_lerner=convert_pressure_to_depth(P_kbar=P_array,\n",
    "                                      model=\"ryan_lerner\")\n",
    "\n",
    "mavko_debari=convert_pressure_to_depth(P_kbar=P_array,\n",
    "                                      model=\"mavko_debari\")\n",
    "\n",
    "prezzi=convert_pressure_to_depth(P_kbar=P_array,\n",
    "                                      model=\"prezzi\")\n",
    "\n",
    "rasmussen=convert_pressure_to_depth(P_kbar=P_array,\n",
    "                                      model=\"rasmussen\")\n",
    "\n",
    "\n",
    "hill_zucca=convert_pressure_to_depth(P_kbar=P_array,\n",
    "                                      model=\"hill_zucca\")\n",
    "\n"
   ]
  },
  {
   "cell_type": "code",
   "execution_count": 51,
   "id": "532389d5-3316-4020-a5a1-0cabddcefae6",
   "metadata": {},
   "outputs": [
    {
     "data": {
      "text/plain": [
       "array([ 0.44006009,  4.63766907,  8.80145764, 12.93142583, 17.02757362,\n",
       "       21.08990101, 25.11840801, 29.11309461, 33.07396082, 37.00100663])"
      ]
     },
     "execution_count": 51,
     "metadata": {},
     "output_type": "execute_result"
    }
   ],
   "source": [
    "prezzi"
   ]
  },
  {
   "cell_type": "code",
   "execution_count": 52,
   "id": "ca284ded-e2be-4d35-9bd1-a5adbe457a97",
   "metadata": {},
   "outputs": [
    {
     "data": {
      "text/plain": [
       "array([4.63473000e-01, 3.27445054e+04, 2.62617017e+05, 8.87089609e+05,\n",
       "       2.10363389e+06, 4.10972148e+06, 7.10282398e+06, 1.12804130e+07,\n",
       "       1.68399602e+07, 2.39789371e+07])"
      ]
     },
     "execution_count": 52,
     "metadata": {},
     "output_type": "execute_result"
    }
   ],
   "source": [
    "mavko_debari"
   ]
  },
  {
   "cell_type": "code",
   "execution_count": 53,
   "id": "fc2a89d6-1b78-4478-8dfc-cc8273ffa232",
   "metadata": {},
   "outputs": [
    {
     "data": {
      "text/plain": [
       "Text(0, 0.5, 'Density g/cm3')"
      ]
     },
     "execution_count": 53,
     "metadata": {},
     "output_type": "execute_result"
    },
    {
     "data": {
      "image/png": "[encoded data removed]",
      "text/plain": [
       "<Figure size 720x360 with 2 Axes>"
      ]
     },
     "metadata": {
      "needs_background": "light"
     },
     "output_type": "display_data"
    }
   ],
   "source": [
    "fig, (ax1, ax2) = plt.subplots(1, 2, figsize=(10,5))\n",
    "\n",
    "ax1.plot(P_array, ryan_lerner, '-r', label='ryan_lerner')\n",
    "#plt.plot(P_array, mavko_debari, '-b')\n",
    "ax1.plot(P_array, hill_zucca, '-g', label='hill_zucca')\n",
    "ax1.plot(P_array, prezzi, ':k', label='Prezzi 2009')\n",
    "ax1.plot(P_array, rasmussen, '-c', label='rasmussen')\n",
    "ax1.legend()\n",
    "ax1.set_xlabel('P (kbar)')\n",
    "ax1.set_ylabel('Depth (km)')\n",
    "\n",
    "## and showing density vs. pressure\n",
    "\n",
    "ax2.plot(P_array, 100*P_array/(9.8*ryan_lerner), '-r', label='ryan_lerner')\n",
    "#plt.plot(P_array, mavko_debari, '-b')\n",
    "ax2.plot(P_array, 100*P_array/(9.8*hill_zucca), '-g', label='hill_zucca')\n",
    "ax2.plot(P_array, 100*P_array/(9.8*prezzi), ':k', label='Prezzi 2009')\n",
    "ax2.plot(P_array, 100*P_array/(9.8*rasmussen), '-c', label='rasmussen')\n",
    "ax2.set_xlabel('P (kbar)')\n",
    "ax2.set_ylabel('Density g/cm3')"
   ]
  },
  {
   "cell_type": "code",
   "execution_count": 79,
   "id": "43530a85-29ba-49b8-8bbf-df9cfa4aaac1",
   "metadata": {},
   "outputs": [],
   "source": [
    "## Crustal density profiles\n",
    "def ryan_lerner_density_profile(P_kbar):\n",
    "\n",
    "    \"\"\" Parameterization of Ryan 1987, actual equation from Lerner et al. 2021\n",
    "    After 16.88 km ( assume density is 2.746, as density turns around again\n",
    "    \n",
    "    This profile is tweaked for Hawaii\n",
    "    \"\"\"\n",
    "    \n",
    "    if isinstance(P_kbar, float) or isinstance(P_kbar, int):\n",
    "        P=P_kbar*100\n",
    "        if P<455.09090909:\n",
    "            D=(4.578*10**(-8) *P**3) - (4.151*10**(-5) *P**2) + (4.652*10**(-2) *P)\n",
    "        else:\n",
    "            D=P/(9.8*2.749643038642074)\n",
    "    if isinstance(P_kbar, pd.Series):\n",
    "        D=np.empty(len(P_kbar), float)\n",
    "        for i in range(0, len(P_kbar)):\n",
    "            P=P_kbar.iloc[i]*100\n",
    "            if P<455.09090909:\n",
    "                D[i]=(4.578*10**(-8) *P**3) - (4.151*10**(-5) *P**2) + (4.652*10**(-2) *P)\n",
    "            else:\n",
    "                D[i]=P/(9.8*2.749643038642074)\n",
    "            \n",
    "            \n",
    "    if isinstance(P_kbar, np.ndarray):\n",
    "        D=np.empty(len(P_kbar), float)\n",
    "        for i in range(0, len(P_kbar)):\n",
    "            \n",
    "            P=P_kbar[i]*100\n",
    "            if P<455.09090909:\n",
    "                D[i]=(4.578*10**(-8) *P**3) - (4.151*10**(-5) *P**2) + (4.652*10**(-2) *P)\n",
    "            else:\n",
    "                D[i]=P/(9.8*2.749643038642074)            \n",
    "\n",
    "        \n",
    "    return D"
   ]
  },
  {
   "cell_type": "code",
   "execution_count": 80,
   "id": "a2dfcd77-bf31-4307-be7d-f0b8fbb3091f",
   "metadata": {},
   "outputs": [
    {
     "data": {
      "text/plain": [
       "pandas.core.series.Series"
      ]
     },
     "execution_count": 80,
     "metadata": {},
     "output_type": "execute_result"
    }
   ],
   "source": [
    "type(FIs['Corrected_Splitting'])"
   ]
  },
  {
   "cell_type": "code",
   "execution_count": 77,
   "id": "fc549edc-0916-43a5-9a3c-77716e2e3cec",
   "metadata": {},
   "outputs": [],
   "source": []
  },
  {
   "cell_type": "code",
   "execution_count": 82,
   "id": "b58d3a10-c364-4d94-aef4-8275cb63e2f7",
   "metadata": {},
   "outputs": [
    {
     "data": {
      "text/plain": [
       "[<matplotlib.lines.Line2D at 0x269daec76d0>]"
      ]
     },
     "execution_count": 82,
     "metadata": {},
     "output_type": "execute_result"
    },
    {
     "data": {
      "image/png": "[encoded data removed]",
      "text/plain": [
       "<Figure size 432x288 with 1 Axes>"
      ]
     },
     "metadata": {
      "needs_background": "light"
     },
     "output_type": "display_data"
    }
   ],
   "source": [
    "P=np.linspace(0.001, 10, 100)\n",
    "D=ryan_lerner_density_Profile(P_kbar=P)\n",
    "plt.plot(D, P/(9.8*D), '-r')\n",
    "plt.xlabel('Depth (km)')\n",
    "plt.ylabel('Density')"
   ]
  },
  {
   "cell_type": "code",
   "execution_count": 14,
   "id": "8b53f2d5-9f47-4e58-8af3-07f5740a0ee3",
   "metadata": {},
   "outputs": [],
   "source": [
    "# Pressure = rho * g * h"
   ]
  },
  {
   "cell_type": "code",
   "execution_count": 21,
   "id": "d10c68bc-4722-419d-b3fc-dc10b53b97c6",
   "metadata": {},
   "outputs": [
    {
     "data": {
      "text/plain": [
       "array([455.09090909])"
      ]
     },
     "execution_count": 21,
     "metadata": {},
     "output_type": "execute_result"
    }
   ],
   "source": [
    "P[P/(9.8*D)==max(P/(9.8*D))]"
   ]
  },
  {
   "cell_type": "code",
   "execution_count": 20,
   "id": "30473e04-f518-48b5-b483-0692d2482ddb",
   "metadata": {},
   "outputs": [
    {
     "data": {
      "text/plain": [
       "2.749643038642074"
      ]
     },
     "execution_count": 20,
     "metadata": {},
     "output_type": "execute_result"
    }
   ],
   "source": [
    "max(P/(9.8*D))"
   ]
  },
  {
   "cell_type": "code",
   "execution_count": null,
   "id": "d9b701d2-9087-4221-a064-ff73b1178b11",
   "metadata": {},
   "outputs": [],
   "source": []
  },
  {
   "cell_type": "code",
   "execution_count": 22,
   "id": "0aea6755-c2de-4c1d-a0ea-7e60c542ff0b",
   "metadata": {},
   "outputs": [
    {
     "data": {
      "text/plain": [
       "[<matplotlib.lines.Line2D at 0x269dae66100>]"
      ]
     },
     "execution_count": 22,
     "metadata": {},
     "output_type": "execute_result"
    },
    {
     "data": {
      "image/png": "[encoded data removed]",
      "text/plain": [
       "<Figure size 432x288 with 1 Axes>"
      ]
     },
     "metadata": {
      "needs_background": "light"
     },
     "output_type": "display_data"
    }
   ],
   "source": [
    "plt.plot( P, D, '-r')"
   ]
  },
  {
   "cell_type": "code",
   "execution_count": 15,
   "id": "a285b985-1f6b-4f30-909e-5a69a28326ba",
   "metadata": {},
   "outputs": [
    {
     "data": {
      "text/plain": [
       "[<matplotlib.lines.Line2D at 0x269dae12eb0>]"
      ]
     },
     "execution_count": 15,
     "metadata": {},
     "output_type": "execute_result"
    },
    {
     "data": {
      "image/png": "[encoded data removed]",
      "text/plain": [
       "<Figure size 432x288 with 1 Axes>"
      ]
     },
     "metadata": {
      "needs_background": "light"
     },
     "output_type": "display_data"
    }
   ],
   "source": [
    "plt.plot( P/(9.8*D), D, '-r')"
   ]
  },
  {
   "cell_type": "markdown",
   "id": "71fba3a1-02ed-44bb-a7c4-48ef69fd210a",
   "metadata": {},
   "source": [
    "## First, just calculate densities"
   ]
  },
  {
   "cell_type": "code",
   "execution_count": 3,
   "id": "546a1639-fe1b-4c90-9d85-c46a52707562",
   "metadata": {},
   "outputs": [
    {
     "data": {
      "text/html": [
       "<div>\n",
       "<style scoped>\n",
       "    .dataframe tbody tr th:only-of-type {\n",
       "        vertical-align: middle;\n",
       "    }\n",
       "\n",
       "    .dataframe tbody tr th {\n",
       "        vertical-align: top;\n",
       "    }\n",
       "\n",
       "    .dataframe thead th {\n",
       "        text-align: right;\n",
       "    }\n",
       "</style>\n",
       "<table border=\"1\" class=\"dataframe\">\n",
       "  <thead>\n",
       "    <tr style=\"text-align: right;\">\n",
       "      <th></th>\n",
       "      <th>Pressure (kbar)</th>\n",
       "      <th>Pressure (MPa)</th>\n",
       "      <th>Depth (km)</th>\n",
       "      <th>input_Crust_dens_gcm3</th>\n",
       "      <th>input_T_K</th>\n",
       "      <th>input_CO2_dens_gcm3</th>\n",
       "    </tr>\n",
       "  </thead>\n",
       "  <tbody>\n",
       "    <tr>\n",
       "      <th>0</th>\n",
       "      <td>0.543676</td>\n",
       "      <td>54.367617</td>\n",
       "      <td>2.052615</td>\n",
       "      <td>2.7</td>\n",
       "      <td>1200</td>\n",
       "      <td>0.21</td>\n",
       "    </tr>\n",
       "    <tr>\n",
       "      <th>1</th>\n",
       "      <td>0.250673</td>\n",
       "      <td>25.067256</td>\n",
       "      <td>0.946398</td>\n",
       "      <td>2.7</td>\n",
       "      <td>1250</td>\n",
       "      <td>0.10</td>\n",
       "    </tr>\n",
       "    <tr>\n",
       "      <th>2</th>\n",
       "      <td>0.117496</td>\n",
       "      <td>11.749641</td>\n",
       "      <td>0.443600</td>\n",
       "      <td>2.7</td>\n",
       "      <td>1210</td>\n",
       "      <td>0.05</td>\n",
       "    </tr>\n",
       "    <tr>\n",
       "      <th>3</th>\n",
       "      <td>1.607466</td>\n",
       "      <td>160.746622</td>\n",
       "      <td>6.068887</td>\n",
       "      <td>2.7</td>\n",
       "      <td>1300</td>\n",
       "      <td>0.45</td>\n",
       "    </tr>\n",
       "    <tr>\n",
       "      <th>4</th>\n",
       "      <td>2.822458</td>\n",
       "      <td>282.245803</td>\n",
       "      <td>10.656013</td>\n",
       "      <td>2.7</td>\n",
       "      <td>1410</td>\n",
       "      <td>0.60</td>\n",
       "    </tr>\n",
       "  </tbody>\n",
       "</table>\n",
       "</div>"
      ],
      "text/plain": [
       "   Pressure (kbar)  Pressure (MPa)  Depth (km)  input_Crust_dens_gcm3  \\\n",
       "0         0.543676       54.367617    2.052615                    2.7   \n",
       "1         0.250673       25.067256    0.946398                    2.7   \n",
       "2         0.117496       11.749641    0.443600                    2.7   \n",
       "3         1.607466      160.746622    6.068887                    2.7   \n",
       "4         2.822458      282.245803   10.656013                    2.7   \n",
       "\n",
       "   input_T_K  input_CO2_dens_gcm3  \n",
       "0       1200                 0.21  \n",
       "1       1250                 0.10  \n",
       "2       1210                 0.05  \n",
       "3       1300                 0.45  \n",
       "4       1410                 0.60  "
      ]
     },
     "execution_count": 3,
     "metadata": {},
     "output_type": "execute_result"
    }
   ],
   "source": [
    "Densities=pf.convert_density_depth_Coolprop(T_K=FIs['T_K'], \n",
    "                                   Crust_dens_gcm3=2.7,\n",
    "                CO2_dens_gcm3=FIs['Density_g_cm3'], output='df')\n",
    "Densities.head()"
   ]
  },
  {
   "cell_type": "markdown",
   "id": "1ce9527f-2bc1-47bc-a6b7-c7ab9d8fb19f",
   "metadata": {},
   "source": [
    "## Monte Carlo Simulations for each FI"
   ]
  },
  {
   "cell_type": "code",
   "execution_count": 5,
   "id": "4bb3196c-9992-48f7-966e-539f073a2e8f",
   "metadata": {},
   "outputs": [
    {
     "data": {
      "image/png": "[encoded data removed]",
      "text/plain": [
       "<Figure size 936x360 with 3 Axes>"
      ]
     },
     "metadata": {
      "needs_background": "light"
     },
     "output_type": "display_data"
    }
   ],
   "source": [
    "df_synthetic=pf.calculate_temperature_density_MC(df=FIs, sample_i=3,\n",
    "crust_dens_gcm3=2.7, N_dup=10000,\n",
    "error_T_K=30, error_type_T_K='Abs', error_dist_T_K='normal',\n",
    "error_CO2_dens=0.005, error_type_CO2_dens='Abs', error_dist_CO2_dens='normal',\n",
    "error_crust_dens=0.1, error_type_crust_dens='Abs', error_dist_crust_dens='uniform' )\n",
    "\n",
    "\n",
    "df_synthetic.head()\n",
    "\n",
    "plt.savefig('Distributions.png', dpi=300)"
   ]
  },
  {
   "cell_type": "code",
   "execution_count": 6,
   "id": "e0043e0b-756d-46cf-96e9-5c5e82f82c02",
   "metadata": {},
   "outputs": [
    {
     "data": {
      "image/png": "[encoded data removed]",
      "text/plain": [
       "<Figure size 720x360 with 2 Axes>"
      ]
     },
     "metadata": {
      "needs_background": "light"
     },
     "output_type": "display_data"
    }
   ],
   "source": [
    "MC_T=pf.convert_density_depth_Coolprop(T_K=df_synthetic['T_K_with_noise'], \n",
    "                                    CO2_dens_gcm3=df_synthetic['CO2_dens_with_noise'], \n",
    "                                   Crust_dens_gcm3=df_synthetic['crust_dens_with_noise'],\n",
    "                                     output='df')\n",
    "\n",
    "fig, (ax1, ax2) = plt.subplots(1, 2, figsize=(10,5), sharey=True)\n",
    "ax1.hist(MC_T['Pressure (kbar)'], color='cyan', ec='k')\n",
    "ax2.hist(MC_T['Depth (km)'], color='cornflowerblue', ec='k')\n",
    "ax1.set_xlabel('Pressure (kbar)')\n",
    "ax2.set_xlabel('Depth (km)')\n",
    "ax1.set_ylabel('Number of simulations')\n",
    "plt.savefig('Distribution_Press.png', dpi=300)"
   ]
  },
  {
   "cell_type": "code",
   "execution_count": 17,
   "id": "9148221a-5a9e-4b1b-9093-253247349015",
   "metadata": {},
   "outputs": [
    {
     "data": {
      "image/png": "[encoded data removed]",
      "text/plain": [
       "<Figure size 936x360 with 3 Axes>"
      ]
     },
     "metadata": {
      "needs_background": "light"
     },
     "output_type": "display_data"
    }
   ],
   "source": [
    "df_synthetic=pf.calculate_temperature_density_MC(df=FIs, sample_i=4,\n",
    "crust_dens_gcm3=2.7, N_dup=10000,\n",
    "error_T_K=30, error_type_T_K='Abs', error_dist_T_K='normal',\n",
    "error_CO2_dens=0, error_type_CO2_dens='Abs', error_dist_CO2_dens='normal',\n",
    "error_crust_dens=0, error_type_crust_dens='Abs', error_dist_crust_dens='uniform' )\n",
    "\n",
    "\n",
    "df_synthetic.head()\n",
    "\n",
    "plt.savefig('Distributions.png', dpi=300)"
   ]
  },
  {
   "cell_type": "code",
   "execution_count": 18,
   "id": "65ba6b7d-d370-4aea-b7ad-a2c160cb8253",
   "metadata": {},
   "outputs": [],
   "source": [
    "MC_T=pf.convert_density_depth_Coolprop(T_K=df_synthetic['T_K_with_noise'], \n",
    "                                    CO2_dens_gcm3=df_synthetic['CO2_dens_with_noise'], \n",
    "                                   Crust_dens_gcm3=df_synthetic['crust_dens_with_noise'],\n",
    "                                     output='df')"
   ]
  },
  {
   "cell_type": "code",
   "execution_count": 19,
   "id": "e9d72db8-b1af-4e39-b31d-26fb42f02276",
   "metadata": {},
   "outputs": [
    {
     "data": {
      "text/plain": [
       "Text(0, 0.5, 'Temperature (K)')"
      ]
     },
     "execution_count": 19,
     "metadata": {},
     "output_type": "execute_result"
    },
    {
     "data": {
      "image/png": "[encoded data removed]",
      "text/plain": [
       "<Figure size 432x288 with 1 Axes>"
      ]
     },
     "metadata": {
      "needs_background": "light"
     },
     "output_type": "display_data"
    }
   ],
   "source": [
    "plt.plot(MC_T['Pressure (kbar)'], MC_T['input_T_K'], '-k')\n",
    "plt.xlabel('Pressure (kbar)')\n",
    "plt.ylabel('Temperature (K)')"
   ]
  },
  {
   "cell_type": "code",
   "execution_count": 12,
   "id": "42c13ffd-f70e-48b6-92e1-e818b1683222",
   "metadata": {},
   "outputs": [
    {
     "data": {
      "text/html": [
       "<div>\n",
       "<style scoped>\n",
       "    .dataframe tbody tr th:only-of-type {\n",
       "        vertical-align: middle;\n",
       "    }\n",
       "\n",
       "    .dataframe tbody tr th {\n",
       "        vertical-align: top;\n",
       "    }\n",
       "\n",
       "    .dataframe thead th {\n",
       "        text-align: right;\n",
       "    }\n",
       "</style>\n",
       "<table border=\"1\" class=\"dataframe\">\n",
       "  <thead>\n",
       "    <tr style=\"text-align: right;\">\n",
       "      <th></th>\n",
       "      <th>Pressure (kbar)</th>\n",
       "      <th>Pressure (MPa)</th>\n",
       "      <th>Depth (km)</th>\n",
       "      <th>input_Crust_dens_gcm3</th>\n",
       "      <th>input_T_K</th>\n",
       "      <th>input_CO2_dens_gcm3</th>\n",
       "    </tr>\n",
       "  </thead>\n",
       "  <tbody>\n",
       "    <tr>\n",
       "      <th>0</th>\n",
       "      <td>1.547467</td>\n",
       "      <td>154.746694</td>\n",
       "      <td>5.842364</td>\n",
       "      <td>2.7</td>\n",
       "      <td>1258.490130</td>\n",
       "      <td>0.45</td>\n",
       "    </tr>\n",
       "    <tr>\n",
       "      <th>1</th>\n",
       "      <td>1.604336</td>\n",
       "      <td>160.433590</td>\n",
       "      <td>6.057069</td>\n",
       "      <td>2.7</td>\n",
       "      <td>1297.830666</td>\n",
       "      <td>0.45</td>\n",
       "    </tr>\n",
       "    <tr>\n",
       "      <th>2</th>\n",
       "      <td>1.552626</td>\n",
       "      <td>155.262587</td>\n",
       "      <td>5.861841</td>\n",
       "      <td>2.7</td>\n",
       "      <td>1262.053405</td>\n",
       "      <td>0.45</td>\n",
       "    </tr>\n",
       "    <tr>\n",
       "      <th>3</th>\n",
       "      <td>1.570392</td>\n",
       "      <td>157.039205</td>\n",
       "      <td>5.928916</td>\n",
       "      <td>2.7</td>\n",
       "      <td>1274.333033</td>\n",
       "      <td>0.45</td>\n",
       "    </tr>\n",
       "    <tr>\n",
       "      <th>4</th>\n",
       "      <td>1.573312</td>\n",
       "      <td>157.331188</td>\n",
       "      <td>5.939940</td>\n",
       "      <td>2.7</td>\n",
       "      <td>1276.352418</td>\n",
       "      <td>0.45</td>\n",
       "    </tr>\n",
       "    <tr>\n",
       "      <th>...</th>\n",
       "      <td>...</td>\n",
       "      <td>...</td>\n",
       "      <td>...</td>\n",
       "      <td>...</td>\n",
       "      <td>...</td>\n",
       "      <td>...</td>\n",
       "    </tr>\n",
       "    <tr>\n",
       "      <th>9995</th>\n",
       "      <td>1.620782</td>\n",
       "      <td>162.078239</td>\n",
       "      <td>6.119162</td>\n",
       "      <td>2.7</td>\n",
       "      <td>1309.232663</td>\n",
       "      <td>0.45</td>\n",
       "    </tr>\n",
       "    <tr>\n",
       "      <th>9996</th>\n",
       "      <td>1.699957</td>\n",
       "      <td>169.995682</td>\n",
       "      <td>6.418080</td>\n",
       "      <td>2.7</td>\n",
       "      <td>1364.273252</td>\n",
       "      <td>0.45</td>\n",
       "    </tr>\n",
       "    <tr>\n",
       "      <th>9997</th>\n",
       "      <td>1.631579</td>\n",
       "      <td>163.157866</td>\n",
       "      <td>6.159922</td>\n",
       "      <td>2.7</td>\n",
       "      <td>1316.723420</td>\n",
       "      <td>0.45</td>\n",
       "    </tr>\n",
       "    <tr>\n",
       "      <th>9998</th>\n",
       "      <td>1.608099</td>\n",
       "      <td>160.809946</td>\n",
       "      <td>6.071278</td>\n",
       "      <td>2.7</td>\n",
       "      <td>1300.438890</td>\n",
       "      <td>0.45</td>\n",
       "    </tr>\n",
       "    <tr>\n",
       "      <th>9999</th>\n",
       "      <td>1.607739</td>\n",
       "      <td>160.773928</td>\n",
       "      <td>6.069918</td>\n",
       "      <td>2.7</td>\n",
       "      <td>1300.189257</td>\n",
       "      <td>0.45</td>\n",
       "    </tr>\n",
       "  </tbody>\n",
       "</table>\n",
       "<p>10000 rows × 6 columns</p>\n",
       "</div>"
      ],
      "text/plain": [
       "      Pressure (kbar)  Pressure (MPa)  Depth (km)  input_Crust_dens_gcm3  \\\n",
       "0            1.547467      154.746694    5.842364                    2.7   \n",
       "1            1.604336      160.433590    6.057069                    2.7   \n",
       "2            1.552626      155.262587    5.861841                    2.7   \n",
       "3            1.570392      157.039205    5.928916                    2.7   \n",
       "4            1.573312      157.331188    5.939940                    2.7   \n",
       "...               ...             ...         ...                    ...   \n",
       "9995         1.620782      162.078239    6.119162                    2.7   \n",
       "9996         1.699957      169.995682    6.418080                    2.7   \n",
       "9997         1.631579      163.157866    6.159922                    2.7   \n",
       "9998         1.608099      160.809946    6.071278                    2.7   \n",
       "9999         1.607739      160.773928    6.069918                    2.7   \n",
       "\n",
       "        input_T_K  input_CO2_dens_gcm3  \n",
       "0     1258.490130                 0.45  \n",
       "1     1297.830666                 0.45  \n",
       "2     1262.053405                 0.45  \n",
       "3     1274.333033                 0.45  \n",
       "4     1276.352418                 0.45  \n",
       "...           ...                  ...  \n",
       "9995  1309.232663                 0.45  \n",
       "9996  1364.273252                 0.45  \n",
       "9997  1316.723420                 0.45  \n",
       "9998  1300.438890                 0.45  \n",
       "9999  1300.189257                 0.45  \n",
       "\n",
       "[10000 rows x 6 columns]"
      ]
     },
     "execution_count": 12,
     "metadata": {},
     "output_type": "execute_result"
    }
   ],
   "source": [
    "MC_T"
   ]
  },
  {
   "cell_type": "code",
   "execution_count": null,
   "id": "bbd7754a-8343-4cc7-9f96-f21c9b52504a",
   "metadata": {},
   "outputs": [],
   "source": []
  }
 ],
 "metadata": {
  "kernelspec": {
   "display_name": "Python 3 (ipykernel)",
   "language": "python",
   "name": "python3"
  },
  "language_info": {
   "codemirror_mode": {
    "name": "ipython",
    "version": 3
   },
   "file_extension": ".py",
   "mimetype": "text/x-python",
   "name": "python",
   "nbconvert_exporter": "python",
   "pygments_lexer": "ipython3",
   "version": "3.9.12"
  }
 },
 "nbformat": 4,
 "nbformat_minor": 5
}
