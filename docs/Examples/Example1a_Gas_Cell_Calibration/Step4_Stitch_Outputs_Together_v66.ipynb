{
 "cells": [
  {
   "attachments": {},
   "cell_type": "markdown",
   "id": "0a5d30ae-095e-4406-aff7-a817c2603e2c",
   "metadata": {},
   "source": [
    "# 4. Stitch outputs together\n",
    "- Once you have fitted the weak, medium and dense diads, stitch them all together, and apply the Ne correction model"
   ]
  },
  {
   "cell_type": "code",
   "execution_count": 1,
   "id": "56f8c066-4754-4d3e-9217-ae9e8f792016",
   "metadata": {},
   "outputs": [
    {
     "data": {
      "text/plain": [
       "'0.0.69dev'"
      ]
     },
     "execution_count": 1,
     "metadata": {},
     "output_type": "execute_result"
    }
   ],
   "source": [
    "import numpy as np\n",
    "import pandas as pd\n",
    "import matplotlib.pyplot as plt\n",
    "import joblib\n",
    "import DiadFit as pf\n",
    "pf.__version__"
   ]
  },
  {
   "cell_type": "code",
   "execution_count": 2,
   "id": "cab54670-2019-40be-b7d8-588189ac9ced",
   "metadata": {},
   "outputs": [],
   "source": [
    "# Load in settings, paths, file extensions etc. that you saved in step 1\n",
    "meta_path, spectra_path, filetype, prefix, prefix_str, file_ext, TruPower=pf.get_settings()"
   ]
  },
  {
   "attachments": {},
   "cell_type": "markdown",
   "id": "8230f033-6c2c-4494-a554-885ab21b2e21",
   "metadata": {},
   "source": [
    "## Load in specra, and combine"
   ]
  },
  {
   "cell_type": "code",
   "execution_count": 3,
   "id": "0b0bb450-0872-44f7-b99e-2585f994efde",
   "metadata": {},
   "outputs": [],
   "source": [
    "# This loads in the spectra you saved as weak, medium and strong etc\n",
    "import os\n",
    "df2=pf.merge_fit_files(path=os.getcwd())"
   ]
  },
  {
   "attachments": {},
   "cell_type": "markdown",
   "id": "6449c9b4-d538-4d37-ad78-49c87aa677af",
   "metadata": {},
   "source": [
    "## First, get the metadata for this day"
   ]
  },
  {
   "cell_type": "code",
   "execution_count": 4,
   "id": "027e3ea1-f4ef-4c53-a57d-977e1f639ec9",
   "metadata": {},
   "outputs": [
    {
     "data": {
      "text/plain": [
       "'NE22.txt'"
      ]
     },
     "execution_count": 4,
     "metadata": {},
     "output_type": "execute_result"
    }
   ],
   "source": [
    "# Put the common string you can in all your Ne lines here\n",
    "diad_meta=pf.get_files(path=meta_path,\n",
    "file_ext=file_ext, exclude_str=['Ne', 'FG', 'Cap','window'],\n",
    " sort=True)\n",
    "diad_meta[0]"
   ]
  },
  {
   "attachments": {},
   "cell_type": "markdown",
   "id": "378575ca-336b-4f04-bc6e-cf397dfdc56e",
   "metadata": {},
   "source": [
    "## Now get all the important information out of the metadata files"
   ]
  },
  {
   "cell_type": "code",
   "execution_count": 5,
   "id": "57ebb7b9-5c4f-4b49-9686-36f0d2ec9e8d",
   "metadata": {},
   "outputs": [
    {
     "name": "stderr",
     "output_type": "stream",
     "text": [
      "100%|██████████| 114/114 [00:04<00:00, 27.69it/s]"
     ]
    },
    {
     "name": "stdout",
     "output_type": "stream",
     "text": [
      "Done\n",
      "Oof, try not to work after midnight!\n"
     ]
    },
    {
     "name": "stderr",
     "output_type": "stream",
     "text": [
      "\n"
     ]
    },
    {
     "data": {
      "text/html": [
       "<div>\n",
       "<style scoped>\n",
       "    .dataframe tbody tr th:only-of-type {\n",
       "        vertical-align: middle;\n",
       "    }\n",
       "\n",
       "    .dataframe tbody tr th {\n",
       "        vertical-align: top;\n",
       "    }\n",
       "\n",
       "    .dataframe thead th {\n",
       "        text-align: right;\n",
       "    }\n",
       "</style>\n",
       "<table border=\"1\" class=\"dataframe\">\n",
       "  <thead>\n",
       "    <tr style=\"text-align: right;\">\n",
       "      <th></th>\n",
       "      <th>filename</th>\n",
       "      <th>date</th>\n",
       "      <th>Month</th>\n",
       "      <th>Day</th>\n",
       "      <th>power (mW)</th>\n",
       "      <th>Int_time (s)</th>\n",
       "      <th>accumulations</th>\n",
       "      <th>Mag (X)</th>\n",
       "      <th>duration</th>\n",
       "      <th>24hr_time</th>\n",
       "      <th>sec since midnight</th>\n",
       "      <th>Spectral Center</th>\n",
       "    </tr>\n",
       "  </thead>\n",
       "  <tbody>\n",
       "    <tr>\n",
       "      <th>99</th>\n",
       "      <td>POC49.txt</td>\n",
       "      <td>November 29, 2020\\n</td>\n",
       "      <td>November</td>\n",
       "      <td>29.0</td>\n",
       "      <td>NaN</td>\n",
       "      <td>45.0</td>\n",
       "      <td>5.0</td>\n",
       "      <td>5.0</td>\n",
       "      <td>['0h', '3m', '46s']</td>\n",
       "      <td>12:02:59 AM\\n</td>\n",
       "      <td>86579.0</td>\n",
       "      <td>1341.0</td>\n",
       "    </tr>\n",
       "    <tr>\n",
       "      <th>46</th>\n",
       "      <td>NE68.txt</td>\n",
       "      <td>November 29, 2020\\n</td>\n",
       "      <td>November</td>\n",
       "      <td>29.0</td>\n",
       "      <td>NaN</td>\n",
       "      <td>45.0</td>\n",
       "      <td>3.0</td>\n",
       "      <td>5.0</td>\n",
       "      <td>['0h', '2m', '16s']</td>\n",
       "      <td>12:07:01 AM\\n</td>\n",
       "      <td>86821.0</td>\n",
       "      <td>1341.0</td>\n",
       "    </tr>\n",
       "    <tr>\n",
       "      <th>101</th>\n",
       "      <td>POC50.txt</td>\n",
       "      <td>November 29, 2020\\n</td>\n",
       "      <td>November</td>\n",
       "      <td>29.0</td>\n",
       "      <td>NaN</td>\n",
       "      <td>45.0</td>\n",
       "      <td>5.0</td>\n",
       "      <td>5.0</td>\n",
       "      <td>['0h', '3m', '46s']</td>\n",
       "      <td>12:09:42 AM\\n</td>\n",
       "      <td>86982.0</td>\n",
       "      <td>1341.0</td>\n",
       "    </tr>\n",
       "    <tr>\n",
       "      <th>47</th>\n",
       "      <td>NE69.txt</td>\n",
       "      <td>November 29, 2020\\n</td>\n",
       "      <td>November</td>\n",
       "      <td>29.0</td>\n",
       "      <td>NaN</td>\n",
       "      <td>45.0</td>\n",
       "      <td>3.0</td>\n",
       "      <td>5.0</td>\n",
       "      <td>['0h', '2m', '16s']</td>\n",
       "      <td>12:14:20 AM\\n</td>\n",
       "      <td>87260.0</td>\n",
       "      <td>1341.0</td>\n",
       "    </tr>\n",
       "    <tr>\n",
       "      <th>102</th>\n",
       "      <td>POC51.txt</td>\n",
       "      <td>November 29, 2020\\n</td>\n",
       "      <td>November</td>\n",
       "      <td>29.0</td>\n",
       "      <td>NaN</td>\n",
       "      <td>60.0</td>\n",
       "      <td>3.0</td>\n",
       "      <td>5.0</td>\n",
       "      <td>['0h', '3m', '2s']</td>\n",
       "      <td>12:17:28 AM\\n</td>\n",
       "      <td>87448.0</td>\n",
       "      <td>1341.0</td>\n",
       "    </tr>\n",
       "  </tbody>\n",
       "</table>\n",
       "</div>"
      ],
      "text/plain": [
       "      filename                 date     Month   Day  power (mW)  Int_time (s)  \\\n",
       "99   POC49.txt  November 29, 2020\\n  November  29.0         NaN          45.0   \n",
       "46    NE68.txt  November 29, 2020\\n  November  29.0         NaN          45.0   \n",
       "101  POC50.txt  November 29, 2020\\n  November  29.0         NaN          45.0   \n",
       "47    NE69.txt  November 29, 2020\\n  November  29.0         NaN          45.0   \n",
       "102  POC51.txt  November 29, 2020\\n  November  29.0         NaN          60.0   \n",
       "\n",
       "     accumulations  Mag (X)             duration      24hr_time  \\\n",
       "99             5.0      5.0  ['0h', '3m', '46s']  12:02:59 AM\\n   \n",
       "46             3.0      5.0  ['0h', '2m', '16s']  12:07:01 AM\\n   \n",
       "101            5.0      5.0  ['0h', '3m', '46s']  12:09:42 AM\\n   \n",
       "47             3.0      5.0  ['0h', '2m', '16s']  12:14:20 AM\\n   \n",
       "102            3.0      5.0   ['0h', '3m', '2s']  12:17:28 AM\\n   \n",
       "\n",
       "     sec since midnight  Spectral Center  \n",
       "99              86579.0           1341.0  \n",
       "46              86821.0           1341.0  \n",
       "101             86982.0           1341.0  \n",
       "47              87260.0           1341.0  \n",
       "102             87448.0           1341.0  "
      ]
     },
     "execution_count": 5,
     "metadata": {},
     "output_type": "execute_result"
    }
   ],
   "source": [
    "meta=pf.stitch_metadata_in_loop_witec(path=meta_path, \n",
    "Allfiles=diad_meta, prefix=prefix, str_prefix=prefix_str,\n",
    "trupower=TruPower)\n",
    "meta.head()"
   ]
  },
  {
   "attachments": {},
   "cell_type": "markdown",
   "id": "b7a6fbc0-2b4a-4f4b-8cfd-cc227047d833",
   "metadata": {},
   "source": [
    "## Then get a simple file name you can stitch with the spectra"
   ]
  },
  {
   "cell_type": "code",
   "execution_count": 6,
   "id": "ea140384-9cb9-41bf-b57e-eb16120afe12",
   "metadata": {},
   "outputs": [
    {
     "name": "stdout",
     "output_type": "stream",
     "text": [
      "good job, no duplicate file names\n"
     ]
    },
    {
     "data": {
      "text/plain": [
       "'POC49'"
      ]
     },
     "execution_count": 6,
     "metadata": {},
     "output_type": "execute_result"
    }
   ],
   "source": [
    "file_m=pf.extracting_filenames_generic(names=meta['filename'],\n",
    "   file_ext=file_ext)\n",
    "# Checks they are all unique\n",
    "file_m[0]"
   ]
  },
  {
   "attachments": {},
   "cell_type": "markdown",
   "id": "80671930-57b4-476b-aec2-0aaf23f072b5",
   "metadata": {},
   "source": [
    "## Now get filename from spectra into same form as metadata"
   ]
  },
  {
   "cell_type": "code",
   "execution_count": 7,
   "id": "5f50eae0-1a22-4d35-ba87-0d853343d859",
   "metadata": {},
   "outputs": [
    {
     "name": "stdout",
     "output_type": "stream",
     "text": [
      "good job, no duplicate file names\n",
      "Cap19-05X2\n"
     ]
    }
   ],
   "source": [
    "# Remove these to get the pure file name\n",
    "file_s=pf.extracting_filenames_generic(\n",
    "    names=df2['filename'].reset_index(drop=True),\n",
    "   file_ext=file_ext)\n",
    "\n",
    "# Remove the cosmic rays, as doesnt have it in the metatdata\n",
    "file_s = np.char.replace(file_s.astype(str), \"_CRR_DiadFit\", \"\")\n",
    "print(file_s[0])"
   ]
  },
  {
   "cell_type": "code",
   "execution_count": 8,
   "id": "51df3d2d-72d3-44fa-a076-b087cfdb5eef",
   "metadata": {},
   "outputs": [
    {
     "data": {
      "text/html": [
       "<div>\n",
       "<style scoped>\n",
       "    .dataframe tbody tr th:only-of-type {\n",
       "        vertical-align: middle;\n",
       "    }\n",
       "\n",
       "    .dataframe tbody tr th {\n",
       "        vertical-align: top;\n",
       "    }\n",
       "\n",
       "    .dataframe thead th {\n",
       "        text-align: right;\n",
       "    }\n",
       "</style>\n",
       "<table border=\"1\" class=\"dataframe\">\n",
       "  <thead>\n",
       "    <tr style=\"text-align: right;\">\n",
       "      <th></th>\n",
       "      <th>filename</th>\n",
       "      <th>Splitting</th>\n",
       "      <th>Split_σ</th>\n",
       "      <th>Diad1_Combofit_Cent</th>\n",
       "      <th>Diad1_cent_err</th>\n",
       "      <th>Diad1_Combofit_Height</th>\n",
       "      <th>Diad1_Voigt_Cent</th>\n",
       "      <th>Diad1_Voigt_Area</th>\n",
       "      <th>Diad1_Voigt_Sigma</th>\n",
       "      <th>Diad1_Residual</th>\n",
       "      <th>...</th>\n",
       "      <th>Month</th>\n",
       "      <th>Day</th>\n",
       "      <th>power (mW)</th>\n",
       "      <th>Int_time (s)</th>\n",
       "      <th>accumulations</th>\n",
       "      <th>Mag (X)</th>\n",
       "      <th>duration</th>\n",
       "      <th>24hr_time</th>\n",
       "      <th>sec since midnight</th>\n",
       "      <th>Spectral Center</th>\n",
       "    </tr>\n",
       "  </thead>\n",
       "  <tbody>\n",
       "    <tr>\n",
       "      <th>0</th>\n",
       "      <td>POC51</td>\n",
       "      <td>102.740399</td>\n",
       "      <td>0.010583</td>\n",
       "      <td>1286.697193</td>\n",
       "      <td>0.009200</td>\n",
       "      <td>180.746528</td>\n",
       "      <td>1286.697193</td>\n",
       "      <td>239.558562</td>\n",
       "      <td>0.614598</td>\n",
       "      <td>2.696706</td>\n",
       "      <td>...</td>\n",
       "      <td>November</td>\n",
       "      <td>29.0</td>\n",
       "      <td>NaN</td>\n",
       "      <td>60.0</td>\n",
       "      <td>3.0</td>\n",
       "      <td>5.0</td>\n",
       "      <td>['0h', '3m', '2s']</td>\n",
       "      <td>12:17:28 AM\\n</td>\n",
       "      <td>87448.0</td>\n",
       "      <td>1341.0</td>\n",
       "    </tr>\n",
       "    <tr>\n",
       "      <th>1</th>\n",
       "      <td>POC52</td>\n",
       "      <td>102.734414</td>\n",
       "      <td>0.009433</td>\n",
       "      <td>1286.689692</td>\n",
       "      <td>0.008329</td>\n",
       "      <td>245.538347</td>\n",
       "      <td>1286.689692</td>\n",
       "      <td>313.494012</td>\n",
       "      <td>0.595481</td>\n",
       "      <td>3.724453</td>\n",
       "      <td>...</td>\n",
       "      <td>November</td>\n",
       "      <td>29.0</td>\n",
       "      <td>NaN</td>\n",
       "      <td>90.0</td>\n",
       "      <td>3.0</td>\n",
       "      <td>5.0</td>\n",
       "      <td>['0h', '4m', '31s']</td>\n",
       "      <td>12:31:31 AM\\n</td>\n",
       "      <td>88291.0</td>\n",
       "      <td>1341.0</td>\n",
       "    </tr>\n",
       "    <tr>\n",
       "      <th>2</th>\n",
       "      <td>POC53</td>\n",
       "      <td>102.760801</td>\n",
       "      <td>0.005166</td>\n",
       "      <td>1286.675346</td>\n",
       "      <td>0.000000</td>\n",
       "      <td>219.839977</td>\n",
       "      <td>1286.675396</td>\n",
       "      <td>284.097302</td>\n",
       "      <td>0.604900</td>\n",
       "      <td>2.925835</td>\n",
       "      <td>...</td>\n",
       "      <td>November</td>\n",
       "      <td>29.0</td>\n",
       "      <td>NaN</td>\n",
       "      <td>90.0</td>\n",
       "      <td>3.0</td>\n",
       "      <td>5.0</td>\n",
       "      <td>['0h', '4m', '32s']</td>\n",
       "      <td>12:39:13 AM\\n</td>\n",
       "      <td>88753.0</td>\n",
       "      <td>1341.0</td>\n",
       "    </tr>\n",
       "    <tr>\n",
       "      <th>3</th>\n",
       "      <td>POC54</td>\n",
       "      <td>102.759256</td>\n",
       "      <td>0.012187</td>\n",
       "      <td>1286.683864</td>\n",
       "      <td>0.010470</td>\n",
       "      <td>183.869659</td>\n",
       "      <td>1286.683914</td>\n",
       "      <td>241.653282</td>\n",
       "      <td>0.617334</td>\n",
       "      <td>2.796401</td>\n",
       "      <td>...</td>\n",
       "      <td>November</td>\n",
       "      <td>29.0</td>\n",
       "      <td>NaN</td>\n",
       "      <td>90.0</td>\n",
       "      <td>3.0</td>\n",
       "      <td>5.0</td>\n",
       "      <td>['0h', '4m', '32s']</td>\n",
       "      <td>12:46:57 AM\\n</td>\n",
       "      <td>89217.0</td>\n",
       "      <td>1341.0</td>\n",
       "    </tr>\n",
       "    <tr>\n",
       "      <th>4</th>\n",
       "      <td>POC55</td>\n",
       "      <td>102.727685</td>\n",
       "      <td>0.014226</td>\n",
       "      <td>1286.707696</td>\n",
       "      <td>0.012578</td>\n",
       "      <td>156.794385</td>\n",
       "      <td>1286.707696</td>\n",
       "      <td>208.195957</td>\n",
       "      <td>0.623706</td>\n",
       "      <td>2.929959</td>\n",
       "      <td>...</td>\n",
       "      <td>November</td>\n",
       "      <td>29.0</td>\n",
       "      <td>NaN</td>\n",
       "      <td>90.0</td>\n",
       "      <td>3.0</td>\n",
       "      <td>5.0</td>\n",
       "      <td>['0h', '4m', '32s']</td>\n",
       "      <td>12:54:26 AM\\n</td>\n",
       "      <td>89666.0</td>\n",
       "      <td>1341.0</td>\n",
       "    </tr>\n",
       "  </tbody>\n",
       "</table>\n",
       "<p>5 rows × 50 columns</p>\n",
       "</div>"
      ],
      "text/plain": [
       "  filename   Splitting   Split_σ  Diad1_Combofit_Cent  Diad1_cent_err  \\\n",
       "0    POC51  102.740399  0.010583          1286.697193        0.009200   \n",
       "1    POC52  102.734414  0.009433          1286.689692        0.008329   \n",
       "2    POC53  102.760801  0.005166          1286.675346        0.000000   \n",
       "3    POC54  102.759256  0.012187          1286.683864        0.010470   \n",
       "4    POC55  102.727685  0.014226          1286.707696        0.012578   \n",
       "\n",
       "   Diad1_Combofit_Height  Diad1_Voigt_Cent  Diad1_Voigt_Area  \\\n",
       "0             180.746528       1286.697193        239.558562   \n",
       "1             245.538347       1286.689692        313.494012   \n",
       "2             219.839977       1286.675396        284.097302   \n",
       "3             183.869659       1286.683914        241.653282   \n",
       "4             156.794385       1286.707696        208.195957   \n",
       "\n",
       "   Diad1_Voigt_Sigma  Diad1_Residual  ...     Month   Day power (mW)  \\\n",
       "0           0.614598        2.696706  ...  November  29.0        NaN   \n",
       "1           0.595481        3.724453  ...  November  29.0        NaN   \n",
       "2           0.604900        2.925835  ...  November  29.0        NaN   \n",
       "3           0.617334        2.796401  ...  November  29.0        NaN   \n",
       "4           0.623706        2.929959  ...  November  29.0        NaN   \n",
       "\n",
       "   Int_time (s)  accumulations  Mag (X)             duration      24hr_time  \\\n",
       "0          60.0            3.0      5.0   ['0h', '3m', '2s']  12:17:28 AM\\n   \n",
       "1          90.0            3.0      5.0  ['0h', '4m', '31s']  12:31:31 AM\\n   \n",
       "2          90.0            3.0      5.0  ['0h', '4m', '32s']  12:39:13 AM\\n   \n",
       "3          90.0            3.0      5.0  ['0h', '4m', '32s']  12:46:57 AM\\n   \n",
       "4          90.0            3.0      5.0  ['0h', '4m', '32s']  12:54:26 AM\\n   \n",
       "\n",
       "   sec since midnight  Spectral Center  \n",
       "0             87448.0           1341.0  \n",
       "1             88291.0           1341.0  \n",
       "2             88753.0           1341.0  \n",
       "3             89217.0           1341.0  \n",
       "4             89666.0           1341.0  \n",
       "\n",
       "[5 rows x 50 columns]"
      ]
     },
     "execution_count": 8,
     "metadata": {},
     "output_type": "execute_result"
    }
   ],
   "source": [
    "# Combining them together, if the form above matches, e.g. checking one doesnt have a suffix and the other one does\n",
    "\n",
    "meta['filename']=file_m\n",
    "df2['filename']=file_s\n",
    "df_combo=pd.merge(df2, meta, on='filename').reset_index(drop=True)\n",
    "df_combo.head()"
   ]
  },
  {
   "attachments": {},
   "cell_type": "markdown",
   "id": "54b229a4-026d-4e4e-ab0a-ed0362566919",
   "metadata": {},
   "source": [
    "## If you have secondary phases, now is the time to merge those in"
   ]
  },
  {
   "cell_type": "code",
   "execution_count": 9,
   "id": "bc38474f-45cd-4fa5-beef-49db69e82989",
   "metadata": {},
   "outputs": [],
   "source": [
    "df_combo_sec_phase=pf.merge_in_carb_SO2(\n",
    "df_combo=df_combo, file1_name='Carb_Peak_fits.xlsx', file2_name='SO2_Peak_fits.xlsx', \n",
    "prefix=prefix, str_prefix=prefix_str, file_ext=file_ext)\n",
    "#df_combo_sec_phase.to_excel('FI_fitting_w_sec_phases.xlsx', index=False)"
   ]
  },
  {
   "cell_type": "markdown",
   "id": "cb9bb968",
   "metadata": {},
   "source": [
    "## Now we calculate the density using the UC Berkeley Densimeter. \n",
    "- If you have your own densimeter, I am happy to add a function for it if you email me (penny_wieser@berkeley.edu)\n",
    "- This particular function propagates the uncertainty on 1) The neon line correction model 2) the peak fits of the diads themselves 3) The densimeter. "
   ]
  },
  {
   "cell_type": "code",
   "execution_count": 10,
   "id": "fe4ba00c",
   "metadata": {},
   "outputs": [
    {
     "data": {
      "text/html": [
       "<div>\n",
       "<style scoped>\n",
       "    .dataframe tbody tr th:only-of-type {\n",
       "        vertical-align: middle;\n",
       "    }\n",
       "\n",
       "    .dataframe tbody tr th {\n",
       "        vertical-align: top;\n",
       "    }\n",
       "\n",
       "    .dataframe thead th {\n",
       "        text-align: right;\n",
       "    }\n",
       "</style>\n",
       "<table border=\"1\" class=\"dataframe\">\n",
       "  <thead>\n",
       "    <tr style=\"text-align: right;\">\n",
       "      <th></th>\n",
       "      <th>filename</th>\n",
       "      <th>Density g/cm3</th>\n",
       "      <th>σ Density g/cm3</th>\n",
       "      <th>σ Density g/cm3 (from Ne+peakfit)</th>\n",
       "      <th>σ Density g/cm3 (from densimeter)</th>\n",
       "      <th>Corrected_Splitting</th>\n",
       "      <th>Corrected_Splitting_σ</th>\n",
       "      <th>Corrected_Splitting_σ_Ne</th>\n",
       "      <th>Corrected_Splitting_σ_peak_fit</th>\n",
       "      <th>power (mW)</th>\n",
       "      <th>...</th>\n",
       "      <th>Int_time (s)</th>\n",
       "      <th>accumulations</th>\n",
       "      <th>Mag (X)</th>\n",
       "      <th>duration</th>\n",
       "      <th>24hr_time</th>\n",
       "      <th>sec since midnight</th>\n",
       "      <th>time</th>\n",
       "      <th>preferred_values</th>\n",
       "      <th>lower_values</th>\n",
       "      <th>upper_values</th>\n",
       "    </tr>\n",
       "  </thead>\n",
       "  <tbody>\n",
       "    <tr>\n",
       "      <th>0</th>\n",
       "      <td>POC51</td>\n",
       "      <td>0.020974</td>\n",
       "      <td>0.005805</td>\n",
       "      <td>0.004287</td>\n",
       "      <td>0.003914</td>\n",
       "      <td>102.803187</td>\n",
       "      <td>0.010820</td>\n",
       "      <td>0.002219</td>\n",
       "      <td>0.010583</td>\n",
       "      <td>NaN</td>\n",
       "      <td>...</td>\n",
       "      <td>60.0</td>\n",
       "      <td>3.0</td>\n",
       "      <td>5.0</td>\n",
       "      <td>['0h', '3m', '2s']</td>\n",
       "      <td>12:17:28 AM\\n</td>\n",
       "      <td>87448.0</td>\n",
       "      <td>87448.0</td>\n",
       "      <td>1.000611</td>\n",
       "      <td>1.00059</td>\n",
       "      <td>1.000633</td>\n",
       "    </tr>\n",
       "    <tr>\n",
       "      <th>1</th>\n",
       "      <td>POC52</td>\n",
       "      <td>0.018607</td>\n",
       "      <td>0.005490</td>\n",
       "      <td>0.003842</td>\n",
       "      <td>0.003922</td>\n",
       "      <td>102.797215</td>\n",
       "      <td>0.009697</td>\n",
       "      <td>0.002222</td>\n",
       "      <td>0.009433</td>\n",
       "      <td>NaN</td>\n",
       "      <td>...</td>\n",
       "      <td>90.0</td>\n",
       "      <td>3.0</td>\n",
       "      <td>5.0</td>\n",
       "      <td>['0h', '4m', '31s']</td>\n",
       "      <td>12:31:31 AM\\n</td>\n",
       "      <td>88291.0</td>\n",
       "      <td>88291.0</td>\n",
       "      <td>1.000611</td>\n",
       "      <td>1.00059</td>\n",
       "      <td>1.000633</td>\n",
       "    </tr>\n",
       "    <tr>\n",
       "      <th>2</th>\n",
       "      <td>POC53</td>\n",
       "      <td>0.029072</td>\n",
       "      <td>0.004482</td>\n",
       "      <td>0.002230</td>\n",
       "      <td>0.003888</td>\n",
       "      <td>102.823626</td>\n",
       "      <td>0.005627</td>\n",
       "      <td>0.002223</td>\n",
       "      <td>0.005166</td>\n",
       "      <td>NaN</td>\n",
       "      <td>...</td>\n",
       "      <td>90.0</td>\n",
       "      <td>3.0</td>\n",
       "      <td>5.0</td>\n",
       "      <td>['0h', '4m', '32s']</td>\n",
       "      <td>12:39:13 AM\\n</td>\n",
       "      <td>88753.0</td>\n",
       "      <td>88753.0</td>\n",
       "      <td>1.000611</td>\n",
       "      <td>1.00059</td>\n",
       "      <td>1.000633</td>\n",
       "    </tr>\n",
       "    <tr>\n",
       "      <th>3</th>\n",
       "      <td>POC54</td>\n",
       "      <td>0.028463</td>\n",
       "      <td>0.006266</td>\n",
       "      <td>0.004912</td>\n",
       "      <td>0.003890</td>\n",
       "      <td>102.822089</td>\n",
       "      <td>0.012396</td>\n",
       "      <td>0.002225</td>\n",
       "      <td>0.012187</td>\n",
       "      <td>NaN</td>\n",
       "      <td>...</td>\n",
       "      <td>90.0</td>\n",
       "      <td>3.0</td>\n",
       "      <td>5.0</td>\n",
       "      <td>['0h', '4m', '32s']</td>\n",
       "      <td>12:46:57 AM\\n</td>\n",
       "      <td>89217.0</td>\n",
       "      <td>89217.0</td>\n",
       "      <td>1.000611</td>\n",
       "      <td>1.00059</td>\n",
       "      <td>1.000633</td>\n",
       "    </tr>\n",
       "    <tr>\n",
       "      <th>4</th>\n",
       "      <td>POC55</td>\n",
       "      <td>0.015950</td>\n",
       "      <td>0.006931</td>\n",
       "      <td>0.005709</td>\n",
       "      <td>0.003931</td>\n",
       "      <td>102.790508</td>\n",
       "      <td>0.014408</td>\n",
       "      <td>0.002225</td>\n",
       "      <td>0.014226</td>\n",
       "      <td>NaN</td>\n",
       "      <td>...</td>\n",
       "      <td>90.0</td>\n",
       "      <td>3.0</td>\n",
       "      <td>5.0</td>\n",
       "      <td>['0h', '4m', '32s']</td>\n",
       "      <td>12:54:26 AM\\n</td>\n",
       "      <td>89666.0</td>\n",
       "      <td>89666.0</td>\n",
       "      <td>1.000612</td>\n",
       "      <td>1.00059</td>\n",
       "      <td>1.000633</td>\n",
       "    </tr>\n",
       "  </tbody>\n",
       "</table>\n",
       "<p>5 rows × 75 columns</p>\n",
       "</div>"
      ],
      "text/plain": [
       "  filename  Density g/cm3  σ Density g/cm3  σ Density g/cm3 (from Ne+peakfit)  \\\n",
       "0    POC51       0.020974         0.005805                           0.004287   \n",
       "1    POC52       0.018607         0.005490                           0.003842   \n",
       "2    POC53       0.029072         0.004482                           0.002230   \n",
       "3    POC54       0.028463         0.006266                           0.004912   \n",
       "4    POC55       0.015950         0.006931                           0.005709   \n",
       "\n",
       "   σ Density g/cm3 (from densimeter)  Corrected_Splitting  \\\n",
       "0                           0.003914           102.803187   \n",
       "1                           0.003922           102.797215   \n",
       "2                           0.003888           102.823626   \n",
       "3                           0.003890           102.822089   \n",
       "4                           0.003931           102.790508   \n",
       "\n",
       "   Corrected_Splitting_σ  Corrected_Splitting_σ_Ne  \\\n",
       "0               0.010820                  0.002219   \n",
       "1               0.009697                  0.002222   \n",
       "2               0.005627                  0.002223   \n",
       "3               0.012396                  0.002225   \n",
       "4               0.014408                  0.002225   \n",
       "\n",
       "   Corrected_Splitting_σ_peak_fit  power (mW)  ...  Int_time (s)  \\\n",
       "0                        0.010583         NaN  ...          60.0   \n",
       "1                        0.009433         NaN  ...          90.0   \n",
       "2                        0.005166         NaN  ...          90.0   \n",
       "3                        0.012187         NaN  ...          90.0   \n",
       "4                        0.014226         NaN  ...          90.0   \n",
       "\n",
       "   accumulations  Mag (X)             duration      24hr_time  \\\n",
       "0            3.0      5.0   ['0h', '3m', '2s']  12:17:28 AM\\n   \n",
       "1            3.0      5.0  ['0h', '4m', '31s']  12:31:31 AM\\n   \n",
       "2            3.0      5.0  ['0h', '4m', '32s']  12:39:13 AM\\n   \n",
       "3            3.0      5.0  ['0h', '4m', '32s']  12:46:57 AM\\n   \n",
       "4            3.0      5.0  ['0h', '4m', '32s']  12:54:26 AM\\n   \n",
       "\n",
       "   sec since midnight     time  preferred_values  lower_values  upper_values  \n",
       "0             87448.0  87448.0          1.000611       1.00059      1.000633  \n",
       "1             88291.0  88291.0          1.000611       1.00059      1.000633  \n",
       "2             88753.0  88753.0          1.000611       1.00059      1.000633  \n",
       "3             89217.0  89217.0          1.000611       1.00059      1.000633  \n",
       "4             89666.0  89666.0          1.000612       1.00059      1.000633  \n",
       "\n",
       "[5 rows x 75 columns]"
      ]
     },
     "execution_count": 10,
     "metadata": {},
     "output_type": "execute_result"
    }
   ],
   "source": [
    "df=pf.calculate_density_ucb(df_combo=df_combo_sec_phase,\n",
    "  Ne_pickle_str='Neon_corr_model.pkl',  temp='SupCrit', CI_split=0.67, CI_neon=0.67)\n",
    "df.head()"
   ]
  },
  {
   "cell_type": "code",
   "execution_count": 11,
   "id": "a290a591",
   "metadata": {},
   "outputs": [
    {
     "name": "stdout",
     "output_type": "stream",
     "text": [
      "Raman_session_November 29, 2020_fitted_2023-07-17.xlsx\n"
     ]
    }
   ],
   "source": [
    "# This cell saves the merged together dataframe with the folder name and the date you fitted it\n",
    "from datetime import date\n",
    "today = date.today()\n",
    "today_str = today.strftime(\"%Y-%m-%d\")\n",
    "sorted_df = df.sort_values('sec since midnight')\n",
    "date=meta['date'].iloc[0].replace('\\n', '')\n",
    "name='Raman_session_'+date+'_fitted_'+today_str+'.xlsx'\n",
    "print(name)\n",
    "sorted_df.to_excel(name)"
   ]
  },
  {
   "cell_type": "markdown",
   "id": "b34ba05e",
   "metadata": {},
   "source": [
    "## This helps visualize the errors on each spectra "
   ]
  },
  {
   "cell_type": "code",
   "execution_count": 12,
   "id": "8f67ccb8",
   "metadata": {},
   "outputs": [
    {
     "data": {
      "image/png": "[encoded data removed]",
      "text/plain": [
       "<Figure size 1000x800 with 4 Axes>"
      ]
     },
     "metadata": {},
     "output_type": "display_data"
    }
   ],
   "source": [
    "df=sorted_df\n",
    "fig, ((ax1, ax2), (ax3, ax4)) = plt.subplots(2, 2, figsize=(10,8))\n",
    "df=df.loc[df['Density g/cm3']>0]\n",
    "ax1.errorbar(df['Corrected_Splitting'], df['Density g/cm3'],\n",
    "xerr=df['Corrected_Splitting_σ'], yerr=df['σ Density g/cm3'],\n",
    "fmt='o', ecolor='grey', elinewidth=0.8, mfc='red', ms=6, mec='k', capsize=2)\n",
    "ax1.set_xlabel('Corrected Splitting (cm$^{-1}$)')\n",
    "ax1.set_ylabel('Density g/cm3')\n",
    "\n",
    "ax2.plot(df['Corrected_Splitting'], \n",
    "100*df['Corrected_Splitting_σ_Ne']/(df['Corrected_Splitting_σ_Ne']+df['Corrected_Splitting_σ_peak_fit']),\n",
    " 'ok', mfc='orange')\n",
    "ax2.set_ylabel('% of splitting error from Neon Correction')\n",
    "ax2.set_xlabel('Corrected Splitting (cm$^{-1}$)')\n",
    "ax3.plot(df['Density g/cm3'], 100*df['σ Density g/cm3 (from Ne+peakfit)']/df['Density g/cm3'], \n",
    "'ok', mfc='cyan', ms=5, label='Error: Ne + pk fit')\n",
    "\n",
    "\n",
    "ax3.plot(df['Density g/cm3'], 100*df['σ Density g/cm3 (from densimeter)']/df['Density g/cm3'], \n",
    "'ok', mfc='blue', ms=5, label='Error: Densimeter')\n",
    "\n",
    "ax3.plot(df['Density g/cm3'], 100*df['σ Density g/cm3']/df['Density g/cm3'], \n",
    "'ok', mfc='yellow', ms=5, label='Overall Error')\n",
    "ax3.set_ylabel('% error')\n",
    "ax3.set_xlabel('Density g/cm3')\n",
    "ax3.legend()\n",
    "\n",
    "ax4.plot(df['Density g/cm3'], df['σ Density g/cm3 (from densimeter)'], \n",
    "'ok', mfc='blue', ms=5, label='Error: Densimeter')\n",
    "ax4.plot(df['Density g/cm3'], df['σ Density g/cm3 (from Ne+peakfit)'], \n",
    "'ok', mfc='cyan', ms=5, label='Error: Ne + pk fit')\n",
    "ax4.plot(df['Density g/cm3'], df['σ Density g/cm3'], \n",
    "'ok', mfc='yellow', ms=5, label='Overall Error')\n",
    "ax4.set_ylabel('error (g/cm3)')\n",
    "ax4.set_xlabel('Density g/cm3')\n",
    "ax4.legend()\n",
    "\n",
    "fig.tight_layout()"
   ]
  },
  {
   "attachments": {},
   "cell_type": "markdown",
   "id": "3f9497d4",
   "metadata": {},
   "source": [
    "## IF FIs\n",
    "- This calculates an estimated pressure of entrapment based on a temperature you have estimated"
   ]
  },
  {
   "cell_type": "code",
   "execution_count": 13,
   "id": "6954ac35",
   "metadata": {},
   "outputs": [
    {
     "data": {
      "text/plain": [
       "Text(0.5, 0, 'Depth (km)')"
      ]
     },
     "execution_count": 13,
     "metadata": {},
     "output_type": "execute_result"
    },
    {
     "data": {
      "image/png": "[encoded data removed]",
      "text/plain": [
       "<Figure size 1000x500 with 2 Axes>"
      ]
     },
     "metadata": {},
     "output_type": "display_data"
    }
   ],
   "source": [
    "# Calculate pressure with a temperature estimate\n",
    "Temp_C=1150\n",
    "Pressure_SW96=pf.calculate_P_for_rho_T(T_K=Temp_C+273.15,\n",
    "                CO2_dens_gcm3=df['Density g/cm3'],\n",
    "                 EOS='SW96')\n",
    "# Calculate depth from a crustal density assumption\n",
    "Depth=pf.convert_pressure_to_depth(P_kbar=Pressure_SW96['P_kbar'], \n",
    "                crust_dens_kgm3=2700)\n",
    "\n",
    "fig, (ax1, ax2) = plt.subplots(1, 2, figsize=(10,5))\n",
    "ax1.hist(Pressure_SW96['P_kbar'], ec='k', fc='cyan')\n",
    "ax2.hist(Depth, ec='k', fc='white')\n",
    "ax1.set_xlabel('P kbar')\n",
    "ax2.set_xlabel('Depth (km)')"
   ]
  },
  {
   "cell_type": "code",
   "execution_count": null,
   "id": "4dec79c9",
   "metadata": {},
   "outputs": [],
   "source": []
  }
 ],
 "metadata": {
  "kernelspec": {
   "display_name": "Python 3 (ipykernel)",
   "language": "python",
   "name": "python3"
  },
  "language_info": {
   "codemirror_mode": {
    "name": "ipython",
    "version": 3
   },
   "file_extension": ".py",
   "mimetype": "text/x-python",
   "name": "python",
   "nbconvert_exporter": "python",
   "pygments_lexer": "ipython3",
   "version": "3.9.16"
  }
 },
 "nbformat": 4,
 "nbformat_minor": 5
}
