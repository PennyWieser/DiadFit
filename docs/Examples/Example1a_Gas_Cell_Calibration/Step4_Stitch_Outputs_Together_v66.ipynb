{
 "cells": [
  {
   "attachments": {},
   "cell_type": "markdown",
   "id": "0a5d30ae-095e-4406-aff7-a817c2603e2c",
   "metadata": {},
   "source": [
    "# 4. Stitch outputs together\n",
    "- Once you have fitted the weak, medium and dense diads, stitch them all together, and apply the Ne correction model"
   ]
  },
  {
   "cell_type": "code",
   "execution_count": 1,
   "id": "56f8c066-4754-4d3e-9217-ae9e8f792016",
   "metadata": {},
   "outputs": [
    {
     "data": {
      "text/plain": [
       "'0.0.68dev'"
      ]
     },
     "execution_count": 1,
     "metadata": {},
     "output_type": "execute_result"
    }
   ],
   "source": [
    "import numpy as np\n",
    "import pandas as pd\n",
    "import matplotlib.pyplot as plt\n",
    "import joblib\n",
    "import DiadFit as pf\n",
    "pf.__version__"
   ]
  },
  {
   "cell_type": "code",
   "execution_count": 2,
   "id": "cab54670-2019-40be-b7d8-588189ac9ced",
   "metadata": {},
   "outputs": [],
   "source": [
    "# Load in settings, paths, file extensions etc. that you saved in step 1\n",
    "meta_path, spectra_path, filetype, prefix, prefix_str, file_ext, TruPower=pf.get_settings()"
   ]
  },
  {
   "attachments": {},
   "cell_type": "markdown",
   "id": "8230f033-6c2c-4494-a554-885ab21b2e21",
   "metadata": {},
   "source": [
    "## Load in specra, and combine"
   ]
  },
  {
   "cell_type": "code",
   "execution_count": 3,
   "id": "0b0bb450-0872-44f7-b99e-2585f994efde",
   "metadata": {},
   "outputs": [],
   "source": [
    "# This loads in the spectra you saved as weak, medium and strong etc\n",
    "import os\n",
    "df2=pf.merge_fit_files(path=os.getcwd())"
   ]
  },
  {
   "attachments": {},
   "cell_type": "markdown",
   "id": "6449c9b4-d538-4d37-ad78-49c87aa677af",
   "metadata": {},
   "source": [
    "## First, get the metadata for this day"
   ]
  },
  {
   "cell_type": "code",
   "execution_count": 5,
   "id": "027e3ea1-f4ef-4c53-a57d-977e1f639ec9",
   "metadata": {},
   "outputs": [
    {
     "data": {
      "text/plain": [
       "'K21-59-FI#1-IMG (1).txt'"
      ]
     },
     "execution_count": 5,
     "metadata": {},
     "output_type": "execute_result"
    }
   ],
   "source": [
    "# Put the common string you can in all your Ne lines here\n",
    "diad_meta=pf.get_files(path=meta_path,\n",
    "file_ext=file_ext, exclude_str=['Ne', 'FG', 'Cap','window'],\n",
    " sort=True)\n",
    "diad_meta[0]"
   ]
  },
  {
   "attachments": {},
   "cell_type": "markdown",
   "id": "378575ca-336b-4f04-bc6e-cf397dfdc56e",
   "metadata": {},
   "source": [
    "## Now get all the important information out of the metadata files"
   ]
  },
  {
   "cell_type": "code",
   "execution_count": 6,
   "id": "57ebb7b9-5c4f-4b49-9686-36f0d2ec9e8d",
   "metadata": {},
   "outputs": [
    {
     "name": "stderr",
     "output_type": "stream",
     "text": [
      "100%|██████████| 42/42 [00:01<00:00, 33.56it/s]"
     ]
    },
    {
     "name": "stdout",
     "output_type": "stream",
     "text": [
      "Done\n"
     ]
    },
    {
     "name": "stderr",
     "output_type": "stream",
     "text": [
      "\n"
     ]
    },
    {
     "data": {
      "text/html": [
       "<div>\n",
       "<style scoped>\n",
       "    .dataframe tbody tr th:only-of-type {\n",
       "        vertical-align: middle;\n",
       "    }\n",
       "\n",
       "    .dataframe tbody tr th {\n",
       "        vertical-align: top;\n",
       "    }\n",
       "\n",
       "    .dataframe thead th {\n",
       "        text-align: right;\n",
       "    }\n",
       "</style>\n",
       "<table border=\"1\" class=\"dataframe\">\n",
       "  <thead>\n",
       "    <tr style=\"text-align: right;\">\n",
       "      <th></th>\n",
       "      <th>filename</th>\n",
       "      <th>date</th>\n",
       "      <th>Month</th>\n",
       "      <th>Day</th>\n",
       "      <th>power (mW)</th>\n",
       "      <th>Int_time (s)</th>\n",
       "      <th>accumulations</th>\n",
       "      <th>Mag (X)</th>\n",
       "      <th>duration</th>\n",
       "      <th>24hr_time</th>\n",
       "      <th>sec since midnight</th>\n",
       "      <th>Spectral Center</th>\n",
       "    </tr>\n",
       "  </thead>\n",
       "  <tbody>\n",
       "    <tr>\n",
       "      <th>0</th>\n",
       "      <td>K21-59-FI#1.txt</td>\n",
       "      <td>October 28, 2022\\n</td>\n",
       "      <td>October</td>\n",
       "      <td>28.0</td>\n",
       "      <td>12.078</td>\n",
       "      <td>45.0</td>\n",
       "      <td>5.0</td>\n",
       "      <td>50.0</td>\n",
       "      <td>['0h', '3m', '47s']</td>\n",
       "      <td>12:09:55 PM\\n</td>\n",
       "      <td>43795.0</td>\n",
       "      <td>1325.004</td>\n",
       "    </tr>\n",
       "    <tr>\n",
       "      <th>1</th>\n",
       "      <td>K21-59-FI#2.txt</td>\n",
       "      <td>October 28, 2022\\n</td>\n",
       "      <td>October</td>\n",
       "      <td>28.0</td>\n",
       "      <td>12.068</td>\n",
       "      <td>45.0</td>\n",
       "      <td>5.0</td>\n",
       "      <td>50.0</td>\n",
       "      <td>['0h', '3m', '47s']</td>\n",
       "      <td>12:19:53 PM\\n</td>\n",
       "      <td>44393.0</td>\n",
       "      <td>1325.004</td>\n",
       "    </tr>\n",
       "    <tr>\n",
       "      <th>2</th>\n",
       "      <td>K21-59-FI#3.txt</td>\n",
       "      <td>October 28, 2022\\n</td>\n",
       "      <td>October</td>\n",
       "      <td>28.0</td>\n",
       "      <td>12.064</td>\n",
       "      <td>45.0</td>\n",
       "      <td>5.0</td>\n",
       "      <td>50.0</td>\n",
       "      <td>['0h', '3m', '47s']</td>\n",
       "      <td>12:32:26 PM\\n</td>\n",
       "      <td>45146.0</td>\n",
       "      <td>1325.004</td>\n",
       "    </tr>\n",
       "    <tr>\n",
       "      <th>3</th>\n",
       "      <td>K21-61-FI#1-rep1.txt</td>\n",
       "      <td>October 28, 2022\\n</td>\n",
       "      <td>October</td>\n",
       "      <td>28.0</td>\n",
       "      <td>12.046</td>\n",
       "      <td>45.0</td>\n",
       "      <td>5.0</td>\n",
       "      <td>50.0</td>\n",
       "      <td>['0h', '3m', '47s']</td>\n",
       "      <td>12:45:44 PM\\n</td>\n",
       "      <td>45944.0</td>\n",
       "      <td>1325.004</td>\n",
       "    </tr>\n",
       "    <tr>\n",
       "      <th>4</th>\n",
       "      <td>K21-61-FI#1-rep2.txt</td>\n",
       "      <td>October 28, 2022\\n</td>\n",
       "      <td>October</td>\n",
       "      <td>28.0</td>\n",
       "      <td>12.030</td>\n",
       "      <td>45.0</td>\n",
       "      <td>5.0</td>\n",
       "      <td>50.0</td>\n",
       "      <td>['0h', '3m', '46s']</td>\n",
       "      <td>12:50:47 PM\\n</td>\n",
       "      <td>46247.0</td>\n",
       "      <td>1325.004</td>\n",
       "    </tr>\n",
       "  </tbody>\n",
       "</table>\n",
       "</div>"
      ],
      "text/plain": [
       "               filename                date    Month   Day  power (mW)  \\\n",
       "0       K21-59-FI#1.txt  October 28, 2022\\n  October  28.0      12.078   \n",
       "1       K21-59-FI#2.txt  October 28, 2022\\n  October  28.0      12.068   \n",
       "2       K21-59-FI#3.txt  October 28, 2022\\n  October  28.0      12.064   \n",
       "3  K21-61-FI#1-rep1.txt  October 28, 2022\\n  October  28.0      12.046   \n",
       "4  K21-61-FI#1-rep2.txt  October 28, 2022\\n  October  28.0      12.030   \n",
       "\n",
       "   Int_time (s)  accumulations  Mag (X)             duration      24hr_time  \\\n",
       "0          45.0            5.0     50.0  ['0h', '3m', '47s']  12:09:55 PM\\n   \n",
       "1          45.0            5.0     50.0  ['0h', '3m', '47s']  12:19:53 PM\\n   \n",
       "2          45.0            5.0     50.0  ['0h', '3m', '47s']  12:32:26 PM\\n   \n",
       "3          45.0            5.0     50.0  ['0h', '3m', '47s']  12:45:44 PM\\n   \n",
       "4          45.0            5.0     50.0  ['0h', '3m', '46s']  12:50:47 PM\\n   \n",
       "\n",
       "   sec since midnight  Spectral Center  \n",
       "0             43795.0         1325.004  \n",
       "1             44393.0         1325.004  \n",
       "2             45146.0         1325.004  \n",
       "3             45944.0         1325.004  \n",
       "4             46247.0         1325.004  "
      ]
     },
     "execution_count": 6,
     "metadata": {},
     "output_type": "execute_result"
    }
   ],
   "source": [
    "meta=pf.stitch_metadata_in_loop_witec(path=meta_path, \n",
    "Allfiles=diad_meta, prefix=prefix, str_prefix=prefix_str,\n",
    "trupower=TruPower)\n",
    "meta.head()"
   ]
  },
  {
   "attachments": {},
   "cell_type": "markdown",
   "id": "b7a6fbc0-2b4a-4f4b-8cfd-cc227047d833",
   "metadata": {},
   "source": [
    "## Then get a simple file name you can stitch with the spectra"
   ]
  },
  {
   "cell_type": "code",
   "execution_count": 7,
   "id": "ea140384-9cb9-41bf-b57e-eb16120afe12",
   "metadata": {},
   "outputs": [
    {
     "name": "stdout",
     "output_type": "stream",
     "text": [
      "good job, no duplicate file names\n"
     ]
    },
    {
     "data": {
      "text/plain": [
       "'K21-59-FI#1'"
      ]
     },
     "execution_count": 7,
     "metadata": {},
     "output_type": "execute_result"
    }
   ],
   "source": [
    "file_m=pf.extracting_filenames_generic(names=meta['filename'],\n",
    "   file_ext=file_ext)\n",
    "# Checks they are all unique\n",
    "file_m[0]"
   ]
  },
  {
   "attachments": {},
   "cell_type": "markdown",
   "id": "80671930-57b4-476b-aec2-0aaf23f072b5",
   "metadata": {},
   "source": [
    "## Now get filename from spectra into same form as metadata"
   ]
  },
  {
   "cell_type": "code",
   "execution_count": 9,
   "id": "5f50eae0-1a22-4d35-ba87-0d853343d859",
   "metadata": {},
   "outputs": [
    {
     "name": "stdout",
     "output_type": "stream",
     "text": [
      "good job, no duplicate file names\n",
      "K21-59-FI#1\n"
     ]
    }
   ],
   "source": [
    "# Remove these to get the pure file name\n",
    "file_s=pf.extracting_filenames_generic(\n",
    "    names=df2['filename'].reset_index(drop=True),\n",
    "   file_ext=file_ext)\n",
    "\n",
    "# Remove the cosmic rays, as doesnt have it in the metatdata\n",
    "file_s = np.char.replace(file_s.astype(str), \"_CRR_DiadFit\", \"\")\n",
    "print(file_s[0])"
   ]
  },
  {
   "cell_type": "code",
   "execution_count": 10,
   "id": "51df3d2d-72d3-44fa-a076-b087cfdb5eef",
   "metadata": {},
   "outputs": [
    {
     "data": {
      "text/html": [
       "<div>\n",
       "<style scoped>\n",
       "    .dataframe tbody tr th:only-of-type {\n",
       "        vertical-align: middle;\n",
       "    }\n",
       "\n",
       "    .dataframe tbody tr th {\n",
       "        vertical-align: top;\n",
       "    }\n",
       "\n",
       "    .dataframe thead th {\n",
       "        text-align: right;\n",
       "    }\n",
       "</style>\n",
       "<table border=\"1\" class=\"dataframe\">\n",
       "  <thead>\n",
       "    <tr style=\"text-align: right;\">\n",
       "      <th></th>\n",
       "      <th>filename</th>\n",
       "      <th>Splitting</th>\n",
       "      <th>Split_σ</th>\n",
       "      <th>Diad1_Combofit_Cent</th>\n",
       "      <th>Diad1_cent_err</th>\n",
       "      <th>Diad1_Combofit_Height</th>\n",
       "      <th>Diad1_Voigt_Cent</th>\n",
       "      <th>Diad1_Voigt_Area</th>\n",
       "      <th>Diad1_Voigt_Sigma</th>\n",
       "      <th>Diad1_Residual</th>\n",
       "      <th>...</th>\n",
       "      <th>Month</th>\n",
       "      <th>Day</th>\n",
       "      <th>power (mW)</th>\n",
       "      <th>Int_time (s)</th>\n",
       "      <th>accumulations</th>\n",
       "      <th>Mag (X)</th>\n",
       "      <th>duration</th>\n",
       "      <th>24hr_time</th>\n",
       "      <th>sec since midnight</th>\n",
       "      <th>Spectral Center</th>\n",
       "    </tr>\n",
       "  </thead>\n",
       "  <tbody>\n",
       "    <tr>\n",
       "      <th>0</th>\n",
       "      <td>K21-59-FI#1</td>\n",
       "      <td>103.057930</td>\n",
       "      <td>0.004029</td>\n",
       "      <td>1286.035372</td>\n",
       "      <td>0.003584</td>\n",
       "      <td>591.792416</td>\n",
       "      <td>1286.035422</td>\n",
       "      <td>605.447355</td>\n",
       "      <td>0.434264</td>\n",
       "      <td>2.947177</td>\n",
       "      <td>...</td>\n",
       "      <td>October</td>\n",
       "      <td>28.0</td>\n",
       "      <td>12.078</td>\n",
       "      <td>45.0</td>\n",
       "      <td>5.0</td>\n",
       "      <td>50.0</td>\n",
       "      <td>['0h', '3m', '47s']</td>\n",
       "      <td>12:09:55 PM\\n</td>\n",
       "      <td>43795.0</td>\n",
       "      <td>1325.004</td>\n",
       "    </tr>\n",
       "    <tr>\n",
       "      <th>1</th>\n",
       "      <td>K21-59-FI#2</td>\n",
       "      <td>103.011312</td>\n",
       "      <td>0.011666</td>\n",
       "      <td>1286.157504</td>\n",
       "      <td>0.009924</td>\n",
       "      <td>227.655287</td>\n",
       "      <td>1286.157504</td>\n",
       "      <td>198.586229</td>\n",
       "      <td>0.409722</td>\n",
       "      <td>3.210508</td>\n",
       "      <td>...</td>\n",
       "      <td>October</td>\n",
       "      <td>28.0</td>\n",
       "      <td>12.068</td>\n",
       "      <td>45.0</td>\n",
       "      <td>5.0</td>\n",
       "      <td>50.0</td>\n",
       "      <td>['0h', '3m', '47s']</td>\n",
       "      <td>12:19:53 PM\\n</td>\n",
       "      <td>44393.0</td>\n",
       "      <td>1325.004</td>\n",
       "    </tr>\n",
       "    <tr>\n",
       "      <th>2</th>\n",
       "      <td>K21-59-FI#3</td>\n",
       "      <td>103.046227</td>\n",
       "      <td>0.003908</td>\n",
       "      <td>1286.074215</td>\n",
       "      <td>0.003398</td>\n",
       "      <td>570.233150</td>\n",
       "      <td>1286.074265</td>\n",
       "      <td>580.899299</td>\n",
       "      <td>0.422487</td>\n",
       "      <td>2.881305</td>\n",
       "      <td>...</td>\n",
       "      <td>October</td>\n",
       "      <td>28.0</td>\n",
       "      <td>12.064</td>\n",
       "      <td>45.0</td>\n",
       "      <td>5.0</td>\n",
       "      <td>50.0</td>\n",
       "      <td>['0h', '3m', '47s']</td>\n",
       "      <td>12:32:26 PM\\n</td>\n",
       "      <td>45146.0</td>\n",
       "      <td>1325.004</td>\n",
       "    </tr>\n",
       "    <tr>\n",
       "      <th>3</th>\n",
       "      <td>K21-61-FI#1-rep1</td>\n",
       "      <td>103.312259</td>\n",
       "      <td>0.032060</td>\n",
       "      <td>1285.431180</td>\n",
       "      <td>0.029402</td>\n",
       "      <td>66.226628</td>\n",
       "      <td>1285.431180</td>\n",
       "      <td>80.426951</td>\n",
       "      <td>0.570436</td>\n",
       "      <td>3.334594</td>\n",
       "      <td>...</td>\n",
       "      <td>October</td>\n",
       "      <td>28.0</td>\n",
       "      <td>12.046</td>\n",
       "      <td>45.0</td>\n",
       "      <td>5.0</td>\n",
       "      <td>50.0</td>\n",
       "      <td>['0h', '3m', '47s']</td>\n",
       "      <td>12:45:44 PM\\n</td>\n",
       "      <td>45944.0</td>\n",
       "      <td>1325.004</td>\n",
       "    </tr>\n",
       "    <tr>\n",
       "      <th>4</th>\n",
       "      <td>K21-63-FI#1</td>\n",
       "      <td>103.341199</td>\n",
       "      <td>0.010487</td>\n",
       "      <td>1285.310966</td>\n",
       "      <td>0.009343</td>\n",
       "      <td>125.760313</td>\n",
       "      <td>1285.311016</td>\n",
       "      <td>212.868302</td>\n",
       "      <td>0.630393</td>\n",
       "      <td>1.596078</td>\n",
       "      <td>...</td>\n",
       "      <td>October</td>\n",
       "      <td>28.0</td>\n",
       "      <td>12.043</td>\n",
       "      <td>45.0</td>\n",
       "      <td>5.0</td>\n",
       "      <td>50.0</td>\n",
       "      <td>['0h', '3m', '46s']</td>\n",
       "      <td>2:18:52 PM\\n</td>\n",
       "      <td>51532.0</td>\n",
       "      <td>1325.004</td>\n",
       "    </tr>\n",
       "  </tbody>\n",
       "</table>\n",
       "<p>5 rows × 50 columns</p>\n",
       "</div>"
      ],
      "text/plain": [
       "           filename   Splitting   Split_σ  Diad1_Combofit_Cent  \\\n",
       "0       K21-59-FI#1  103.057930  0.004029          1286.035372   \n",
       "1       K21-59-FI#2  103.011312  0.011666          1286.157504   \n",
       "2       K21-59-FI#3  103.046227  0.003908          1286.074215   \n",
       "3  K21-61-FI#1-rep1  103.312259  0.032060          1285.431180   \n",
       "4       K21-63-FI#1  103.341199  0.010487          1285.310966   \n",
       "\n",
       "   Diad1_cent_err  Diad1_Combofit_Height  Diad1_Voigt_Cent  Diad1_Voigt_Area  \\\n",
       "0        0.003584             591.792416       1286.035422        605.447355   \n",
       "1        0.009924             227.655287       1286.157504        198.586229   \n",
       "2        0.003398             570.233150       1286.074265        580.899299   \n",
       "3        0.029402              66.226628       1285.431180         80.426951   \n",
       "4        0.009343             125.760313       1285.311016        212.868302   \n",
       "\n",
       "   Diad1_Voigt_Sigma  Diad1_Residual  ...    Month   Day power (mW)  \\\n",
       "0           0.434264        2.947177  ...  October  28.0     12.078   \n",
       "1           0.409722        3.210508  ...  October  28.0     12.068   \n",
       "2           0.422487        2.881305  ...  October  28.0     12.064   \n",
       "3           0.570436        3.334594  ...  October  28.0     12.046   \n",
       "4           0.630393        1.596078  ...  October  28.0     12.043   \n",
       "\n",
       "   Int_time (s)  accumulations  Mag (X)             duration      24hr_time  \\\n",
       "0          45.0            5.0     50.0  ['0h', '3m', '47s']  12:09:55 PM\\n   \n",
       "1          45.0            5.0     50.0  ['0h', '3m', '47s']  12:19:53 PM\\n   \n",
       "2          45.0            5.0     50.0  ['0h', '3m', '47s']  12:32:26 PM\\n   \n",
       "3          45.0            5.0     50.0  ['0h', '3m', '47s']  12:45:44 PM\\n   \n",
       "4          45.0            5.0     50.0  ['0h', '3m', '46s']   2:18:52 PM\\n   \n",
       "\n",
       "   sec since midnight  Spectral Center  \n",
       "0             43795.0         1325.004  \n",
       "1             44393.0         1325.004  \n",
       "2             45146.0         1325.004  \n",
       "3             45944.0         1325.004  \n",
       "4             51532.0         1325.004  \n",
       "\n",
       "[5 rows x 50 columns]"
      ]
     },
     "execution_count": 10,
     "metadata": {},
     "output_type": "execute_result"
    }
   ],
   "source": [
    "# Combining them together, if the form above matches, e.g. checking one doesnt have a suffix and the other one does\n",
    "\n",
    "meta['filename']=file_m\n",
    "df2['filename']=file_s\n",
    "df_combo=pd.merge(df2, meta, on='filename').reset_index(drop=True)\n",
    "df_combo.head()"
   ]
  },
  {
   "attachments": {},
   "cell_type": "markdown",
   "id": "54b229a4-026d-4e4e-ab0a-ed0362566919",
   "metadata": {},
   "source": [
    "## If you have secondary phases, now is the time to merge those in"
   ]
  },
  {
   "cell_type": "code",
   "execution_count": 11,
   "id": "bc38474f-45cd-4fa5-beef-49db69e82989",
   "metadata": {},
   "outputs": [
    {
     "name": "stdout",
     "output_type": "stream",
     "text": [
      "Made a df!\n",
      "good job, no duplicate file names\n"
     ]
    }
   ],
   "source": [
    "df_combo_sec_phase=pf.merge_in_carb_SO2(\n",
    "df_combo=df_combo, file1_name='Carb_Peak_fits.xlsx', file2_name='SO2_Peak_fits.xlsx', \n",
    "prefix=prefix, str_prefix=prefix_str, file_ext=file_ext)\n",
    "#df_combo_sec_phase.to_excel('FI_fitting_w_sec_phases.xlsx', index=False)"
   ]
  },
  {
   "cell_type": "markdown",
   "id": "cb9bb968",
   "metadata": {},
   "source": [
    "## Now we calculate the density using the UC Berkeley Densimeter. \n",
    "- If you have your own densimeter, I am happy to add a function for it if you email me (penny_wieser@berkeley.edu)\n",
    "- This particular function propagates the uncertainty on 1) The neon line correction model 2) the peak fits of the diads themselves 3) The densimeter. "
   ]
  },
  {
   "cell_type": "code",
   "execution_count": 15,
   "id": "fe4ba00c",
   "metadata": {},
   "outputs": [
    {
     "data": {
      "text/html": [
       "<div>\n",
       "<style scoped>\n",
       "    .dataframe tbody tr th:only-of-type {\n",
       "        vertical-align: middle;\n",
       "    }\n",
       "\n",
       "    .dataframe tbody tr th {\n",
       "        vertical-align: top;\n",
       "    }\n",
       "\n",
       "    .dataframe thead th {\n",
       "        text-align: right;\n",
       "    }\n",
       "</style>\n",
       "<table border=\"1\" class=\"dataframe\">\n",
       "  <thead>\n",
       "    <tr style=\"text-align: right;\">\n",
       "      <th></th>\n",
       "      <th>filename</th>\n",
       "      <th>Density g/cm3</th>\n",
       "      <th>σ Density g/cm3</th>\n",
       "      <th>σ Density g/cm3 (from Ne+peakfit)</th>\n",
       "      <th>σ Density g/cm3 (from densimeter)</th>\n",
       "      <th>Corrected_Splitting</th>\n",
       "      <th>Corrected_Splitting_σ</th>\n",
       "      <th>Corrected_Splitting_σ_Ne</th>\n",
       "      <th>Corrected_Splitting_σ_peak_fit</th>\n",
       "      <th>power (mW)</th>\n",
       "      <th>...</th>\n",
       "      <th>Peak_Cent_Carb</th>\n",
       "      <th>Peak_Area_Carb</th>\n",
       "      <th>Peak_Height_Carb</th>\n",
       "      <th>Model_name_y</th>\n",
       "      <th>Carb_Diad_Ratio</th>\n",
       "      <th>SO2_Diad_Ratio</th>\n",
       "      <th>time</th>\n",
       "      <th>preferred_values</th>\n",
       "      <th>lower_values</th>\n",
       "      <th>upper_values</th>\n",
       "    </tr>\n",
       "  </thead>\n",
       "  <tbody>\n",
       "    <tr>\n",
       "      <th>0</th>\n",
       "      <td>K21-59-FI#1</td>\n",
       "      <td>0.033938</td>\n",
       "      <td>0.004197</td>\n",
       "      <td>0.001613</td>\n",
       "      <td>0.003875</td>\n",
       "      <td>102.835906</td>\n",
       "      <td>0.004070</td>\n",
       "      <td>0.000634</td>\n",
       "      <td>0.004029</td>\n",
       "      <td>12.078</td>\n",
       "      <td>...</td>\n",
       "      <td>NaN</td>\n",
       "      <td>NaN</td>\n",
       "      <td>NaN</td>\n",
       "      <td>NaN</td>\n",
       "      <td>NaN</td>\n",
       "      <td>0.032879</td>\n",
       "      <td>43795.0</td>\n",
       "      <td>0.997846</td>\n",
       "      <td>0.997839</td>\n",
       "      <td>0.997852</td>\n",
       "    </tr>\n",
       "    <tr>\n",
       "      <th>1</th>\n",
       "      <td>K21-59-FI#2</td>\n",
       "      <td>0.015192</td>\n",
       "      <td>0.006067</td>\n",
       "      <td>0.004619</td>\n",
       "      <td>0.003934</td>\n",
       "      <td>102.788597</td>\n",
       "      <td>0.011658</td>\n",
       "      <td>0.000627</td>\n",
       "      <td>0.011666</td>\n",
       "      <td>12.068</td>\n",
       "      <td>...</td>\n",
       "      <td>NaN</td>\n",
       "      <td>NaN</td>\n",
       "      <td>NaN</td>\n",
       "      <td>NaN</td>\n",
       "      <td>NaN</td>\n",
       "      <td>NaN</td>\n",
       "      <td>44393.0</td>\n",
       "      <td>0.997838</td>\n",
       "      <td>0.997832</td>\n",
       "      <td>0.997844</td>\n",
       "    </tr>\n",
       "    <tr>\n",
       "      <th>2</th>\n",
       "      <td>K21-59-FI#3</td>\n",
       "      <td>0.028621</td>\n",
       "      <td>0.004193</td>\n",
       "      <td>0.001565</td>\n",
       "      <td>0.003890</td>\n",
       "      <td>102.822487</td>\n",
       "      <td>0.003949</td>\n",
       "      <td>0.000620</td>\n",
       "      <td>0.003908</td>\n",
       "      <td>12.064</td>\n",
       "      <td>...</td>\n",
       "      <td>NaN</td>\n",
       "      <td>NaN</td>\n",
       "      <td>NaN</td>\n",
       "      <td>NaN</td>\n",
       "      <td>NaN</td>\n",
       "      <td>NaN</td>\n",
       "      <td>45146.0</td>\n",
       "      <td>0.997829</td>\n",
       "      <td>0.997823</td>\n",
       "      <td>0.997835</td>\n",
       "    </tr>\n",
       "    <tr>\n",
       "      <th>3</th>\n",
       "      <td>K21-61-FI#1-rep1</td>\n",
       "      <td>0.133429</td>\n",
       "      <td>0.013251</td>\n",
       "      <td>0.012678</td>\n",
       "      <td>0.003855</td>\n",
       "      <td>103.086993</td>\n",
       "      <td>0.031996</td>\n",
       "      <td>0.000614</td>\n",
       "      <td>0.032060</td>\n",
       "      <td>12.046</td>\n",
       "      <td>...</td>\n",
       "      <td>NaN</td>\n",
       "      <td>NaN</td>\n",
       "      <td>NaN</td>\n",
       "      <td>NaN</td>\n",
       "      <td>NaN</td>\n",
       "      <td>NaN</td>\n",
       "      <td>45944.0</td>\n",
       "      <td>0.997820</td>\n",
       "      <td>0.997814</td>\n",
       "      <td>0.997826</td>\n",
       "    </tr>\n",
       "    <tr>\n",
       "      <th>4</th>\n",
       "      <td>K21-63-FI#1</td>\n",
       "      <td>0.142909</td>\n",
       "      <td>0.005682</td>\n",
       "      <td>0.004153</td>\n",
       "      <td>0.003879</td>\n",
       "      <td>103.110918</td>\n",
       "      <td>0.010480</td>\n",
       "      <td>0.000592</td>\n",
       "      <td>0.010487</td>\n",
       "      <td>12.043</td>\n",
       "      <td>...</td>\n",
       "      <td>NaN</td>\n",
       "      <td>NaN</td>\n",
       "      <td>NaN</td>\n",
       "      <td>NaN</td>\n",
       "      <td>NaN</td>\n",
       "      <td>0.138489</td>\n",
       "      <td>51532.0</td>\n",
       "      <td>0.997772</td>\n",
       "      <td>0.997766</td>\n",
       "      <td>0.997777</td>\n",
       "    </tr>\n",
       "  </tbody>\n",
       "</table>\n",
       "<p>5 rows × 85 columns</p>\n",
       "</div>"
      ],
      "text/plain": [
       "           filename  Density g/cm3  σ Density g/cm3  \\\n",
       "0       K21-59-FI#1       0.033938         0.004197   \n",
       "1       K21-59-FI#2       0.015192         0.006067   \n",
       "2       K21-59-FI#3       0.028621         0.004193   \n",
       "3  K21-61-FI#1-rep1       0.133429         0.013251   \n",
       "4       K21-63-FI#1       0.142909         0.005682   \n",
       "\n",
       "   σ Density g/cm3 (from Ne+peakfit)  σ Density g/cm3 (from densimeter)  \\\n",
       "0                           0.001613                           0.003875   \n",
       "1                           0.004619                           0.003934   \n",
       "2                           0.001565                           0.003890   \n",
       "3                           0.012678                           0.003855   \n",
       "4                           0.004153                           0.003879   \n",
       "\n",
       "   Corrected_Splitting  Corrected_Splitting_σ  Corrected_Splitting_σ_Ne  \\\n",
       "0           102.835906               0.004070                  0.000634   \n",
       "1           102.788597               0.011658                  0.000627   \n",
       "2           102.822487               0.003949                  0.000620   \n",
       "3           103.086993               0.031996                  0.000614   \n",
       "4           103.110918               0.010480                  0.000592   \n",
       "\n",
       "   Corrected_Splitting_σ_peak_fit  power (mW)  ...  Peak_Cent_Carb  \\\n",
       "0                        0.004029      12.078  ...             NaN   \n",
       "1                        0.011666      12.068  ...             NaN   \n",
       "2                        0.003908      12.064  ...             NaN   \n",
       "3                        0.032060      12.046  ...             NaN   \n",
       "4                        0.010487      12.043  ...             NaN   \n",
       "\n",
       "   Peak_Area_Carb  Peak_Height_Carb Model_name_y Carb_Diad_Ratio  \\\n",
       "0             NaN               NaN          NaN             NaN   \n",
       "1             NaN               NaN          NaN             NaN   \n",
       "2             NaN               NaN          NaN             NaN   \n",
       "3             NaN               NaN          NaN             NaN   \n",
       "4             NaN               NaN          NaN             NaN   \n",
       "\n",
       "   SO2_Diad_Ratio     time  preferred_values  lower_values  upper_values  \n",
       "0        0.032879  43795.0          0.997846      0.997839      0.997852  \n",
       "1             NaN  44393.0          0.997838      0.997832      0.997844  \n",
       "2             NaN  45146.0          0.997829      0.997823      0.997835  \n",
       "3             NaN  45944.0          0.997820      0.997814      0.997826  \n",
       "4        0.138489  51532.0          0.997772      0.997766      0.997777  \n",
       "\n",
       "[5 rows x 85 columns]"
      ]
     },
     "execution_count": 15,
     "metadata": {},
     "output_type": "execute_result"
    }
   ],
   "source": [
    "df=pf.calculate_density_ucb(df_combo=df_combo_sec_phase,\n",
    "  Ne_pickle_str='Neon_corr_model.pkl',  temp='SupCrit', CI_split=0.67, CI_neon=0.67)\n",
    "df.head()"
   ]
  },
  {
   "cell_type": "code",
   "execution_count": 16,
   "id": "a290a591",
   "metadata": {},
   "outputs": [
    {
     "name": "stdout",
     "output_type": "stream",
     "text": [
      "Raman_session_October 28, 2022_fitted_2023-07-17.xlsx\n"
     ]
    }
   ],
   "source": [
    "# This cell saves the merged together dataframe with the folder name and the date you fitted it\n",
    "from datetime import date\n",
    "today = date.today()\n",
    "today_str = today.strftime(\"%Y-%m-%d\")\n",
    "sorted_df = df.sort_values('sec since midnight')\n",
    "date=meta['date'].iloc[0].replace('\\n', '')\n",
    "name='Raman_session_'+date+'_fitted_'+today_str+'.xlsx'\n",
    "print(name)\n",
    "sorted_df.to_excel(name)"
   ]
  },
  {
   "cell_type": "markdown",
   "id": "b34ba05e",
   "metadata": {},
   "source": [
    "## This helps visualize the errors on each spectra "
   ]
  },
  {
   "cell_type": "code",
   "execution_count": 17,
   "id": "8f67ccb8",
   "metadata": {},
   "outputs": [
    {
     "data": {
      "image/png": "[encoded data removed]",
      "text/plain": [
       "<Figure size 1000x800 with 4 Axes>"
      ]
     },
     "metadata": {},
     "output_type": "display_data"
    }
   ],
   "source": [
    "df=sorted_df\n",
    "fig, ((ax1, ax2), (ax3, ax4)) = plt.subplots(2, 2, figsize=(10,8))\n",
    "df=df.loc[df['Density g/cm3']>0]\n",
    "ax1.errorbar(df['Corrected_Splitting'], df['Density g/cm3'],\n",
    "xerr=df['Corrected_Splitting_σ'], yerr=df['σ Density g/cm3'],\n",
    "fmt='o', ecolor='grey', elinewidth=0.8, mfc='red', ms=6, mec='k', capsize=2)\n",
    "ax1.set_xlabel('Corrected Splitting (cm$^{-1}$)')\n",
    "ax1.set_ylabel('Density g/cm3')\n",
    "\n",
    "ax2.plot(df['Corrected_Splitting'], \n",
    "100*df['Corrected_Splitting_σ_Ne']/(df['Corrected_Splitting_σ_Ne']+df['Corrected_Splitting_σ_peak_fit']),\n",
    " 'ok', mfc='orange')\n",
    "ax2.set_ylabel('% of splitting error from Neon Correction')\n",
    "ax2.set_xlabel('Corrected Splitting (cm$^{-1}$)')\n",
    "ax3.plot(df['Density g/cm3'], 100*df['σ Density g/cm3 (from Ne+peakfit)']/df['Density g/cm3'], \n",
    "'ok', mfc='cyan', ms=5, label='Error: Ne + pk fit')\n",
    "\n",
    "\n",
    "ax3.plot(df['Density g/cm3'], 100*df['σ Density g/cm3 (from densimeter)']/df['Density g/cm3'], \n",
    "'ok', mfc='blue', ms=5, label='Error: Densimeter')\n",
    "\n",
    "ax3.plot(df['Density g/cm3'], 100*df['σ Density g/cm3']/df['Density g/cm3'], \n",
    "'ok', mfc='yellow', ms=5, label='Overall Error')\n",
    "ax3.set_ylabel('% error')\n",
    "ax3.set_xlabel('Density g/cm3')\n",
    "ax3.legend()\n",
    "\n",
    "ax4.plot(df['Density g/cm3'], df['σ Density g/cm3 (from densimeter)'], \n",
    "'ok', mfc='blue', ms=5, label='Error: Densimeter')\n",
    "ax4.plot(df['Density g/cm3'], df['σ Density g/cm3 (from Ne+peakfit)'], \n",
    "'ok', mfc='cyan', ms=5, label='Error: Ne + pk fit')\n",
    "ax4.plot(df['Density g/cm3'], df['σ Density g/cm3'], \n",
    "'ok', mfc='yellow', ms=5, label='Overall Error')\n",
    "ax4.set_ylabel('error (g/cm3)')\n",
    "ax4.set_xlabel('Density g/cm3')\n",
    "ax4.legend()\n",
    "\n",
    "fig.tight_layout()"
   ]
  },
  {
   "attachments": {},
   "cell_type": "markdown",
   "id": "3f9497d4",
   "metadata": {},
   "source": [
    "## IF FIs\n",
    "- This calculates an estimated pressure of entrapment based on a temperature you have estimated"
   ]
  },
  {
   "cell_type": "code",
   "execution_count": 20,
   "id": "6954ac35",
   "metadata": {},
   "outputs": [
    {
     "data": {
      "text/plain": [
       "Text(0.5, 0, 'Depth (km)')"
      ]
     },
     "execution_count": 20,
     "metadata": {},
     "output_type": "execute_result"
    },
    {
     "data": {
      "image/png": "[encoded data removed]",
      "text/plain": [
       "<Figure size 1000x500 with 2 Axes>"
      ]
     },
     "metadata": {},
     "output_type": "display_data"
    }
   ],
   "source": [
    "# Calculate pressure with a temperature estimate\n",
    "Temp_C=1150\n",
    "Pressure_SW96=pf.calculate_P_for_rho_T(T_K=Temp_C+273.15,\n",
    "                CO2_dens_gcm3=df['Density g/cm3'],\n",
    "                 EOS='SW96')\n",
    "# Calculate depth from a crustal density assumption\n",
    "Depth=pf.convert_pressure_to_depth(P_kbar=Pressure_SW96['P_kbar'], \n",
    "                crust_dens_kgm3=2700)\n",
    "\n",
    "fig, (ax1, ax2) = plt.subplots(1, 2, figsize=(10,5))\n",
    "ax1.hist(Pressure_SW96['P_kbar'], ec='k', fc='cyan')\n",
    "ax2.hist(Depth, ec='k', fc='white')\n",
    "ax1.set_xlabel('P kbar')\n",
    "ax2.set_xlabel('Depth (km)')"
   ]
  },
  {
   "cell_type": "code",
   "execution_count": null,
   "id": "4dec79c9",
   "metadata": {},
   "outputs": [],
   "source": []
  }
 ],
 "metadata": {
  "kernelspec": {
   "display_name": "Python 3 (ipykernel)",
   "language": "python",
   "name": "python3"
  },
  "language_info": {
   "codemirror_mode": {
    "name": "ipython",
    "version": 3
   },
   "file_extension": ".py",
   "mimetype": "text/x-python",
   "name": "python",
   "nbconvert_exporter": "python",
   "pygments_lexer": "ipython3",
   "version": "3.9.16"
  }
 },
 "nbformat": 4,
 "nbformat_minor": 5
}
