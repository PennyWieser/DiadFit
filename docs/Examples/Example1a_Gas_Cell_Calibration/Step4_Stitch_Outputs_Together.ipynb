{
 "cells": [
  {
   "attachments": {},
   "cell_type": "markdown",
   "id": "0a5d30ae-095e-4406-aff7-a817c2603e2c",
   "metadata": {},
   "source": [
    "# 4. Stitch outputs together\n",
    "- Once you have fitted the weak, medium and dense diads, stitch them all together, and apply the Ne correction model"
   ]
  },
  {
   "cell_type": "code",
   "execution_count": 1,
   "id": "56f8c066-4754-4d3e-9217-ae9e8f792016",
   "metadata": {},
   "outputs": [
    {
     "data": {
      "text/plain": [
       "'0.0.58'"
      ]
     },
     "execution_count": 1,
     "metadata": {},
     "output_type": "execute_result"
    }
   ],
   "source": [
    "import numpy as np\n",
    "import pandas as pd\n",
    "import matplotlib.pyplot as plt\n",
    "import joblib\n",
    "import DiadFit as pf\n",
    "pf.__version__"
   ]
  },
  {
   "cell_type": "code",
   "execution_count": 2,
   "id": "cab54670-2019-40be-b7d8-588189ac9ced",
   "metadata": {},
   "outputs": [],
   "source": [
    "import os\n",
    "DayFolder=os.getcwd()\n",
    "meta_path=DayFolder +  '\\MetaData'\n",
    "spectra_path=DayFolder + '\\Spectra'"
   ]
  },
  {
   "attachments": {},
   "cell_type": "markdown",
   "id": "8230f033-6c2c-4494-a554-885ab21b2e21",
   "metadata": {},
   "source": [
    "## Load in specra, and combine"
   ]
  },
  {
   "cell_type": "code",
   "execution_count": 3,
   "id": "0b0bb450-0872-44f7-b99e-2585f994efde",
   "metadata": {},
   "outputs": [],
   "source": [
    "import os.path\n",
    "from os import path\n",
    "if path.exists('Discarded_df.xlsx'):\n",
    "    discard=pd.read_excel('Discarded_df.xlsx')\n",
    "else:\n",
    "    discard=None\n",
    "if path.exists('Weak_Diads.xlsx'):\n",
    "    grp1=pd.read_excel('Weak_Diads.xlsx')\n",
    "else:\n",
    "    grp1=None\n",
    "if path.exists('Medium_Diads.xlsx'):\n",
    "    grp2=pd.read_excel('Medium_Diads.xlsx')\n",
    "else:\n",
    "    grp2=None\n",
    "if path.exists('Strong_Diads.xlsx'):\n",
    "    grp3=pd.read_excel('Strong_Diads.xlsx')\n",
    "else:\n",
    "    grp3=None\n",
    "df2=pd.concat([grp1, grp2, grp3], axis=0)\n",
    "if discard is not None:\n",
    "    discard_cols=discard[discard.columns.intersection(df2.columns)]\n",
    "    df2=pd.concat([df2, discard_cols])"
   ]
  },
  {
   "cell_type": "code",
   "execution_count": null,
   "id": "3a7ed038-f31a-41d8-9f30-c278103c56a6",
   "metadata": {},
   "outputs": [],
   "source": []
  },
  {
   "attachments": {},
   "cell_type": "markdown",
   "id": "6449c9b4-d538-4d37-ad78-49c87aa677af",
   "metadata": {},
   "source": [
    "## First, get the metadata for this day"
   ]
  },
  {
   "cell_type": "code",
   "execution_count": 4,
   "id": "027e3ea1-f4ef-4c53-a57d-977e1f639ec9",
   "metadata": {},
   "outputs": [
    {
     "data": {
      "text/plain": [
       "['POC1.txt',\n",
       " 'POC10.txt',\n",
       " 'POC11.txt',\n",
       " 'POC12.txt',\n",
       " 'POC13.txt',\n",
       " 'POC14.txt',\n",
       " 'POC15.txt',\n",
       " 'POC16.txt',\n",
       " 'POC17.txt',\n",
       " 'POC18.txt',\n",
       " 'POC19.txt',\n",
       " 'POC2.txt',\n",
       " 'POC20.txt',\n",
       " 'POC21.txt',\n",
       " 'POC22.txt',\n",
       " 'POC23.txt',\n",
       " 'POC24.txt',\n",
       " 'POC25.txt',\n",
       " 'POC26.txt',\n",
       " 'POC27.txt',\n",
       " 'POC28.txt',\n",
       " 'POC29.txt',\n",
       " 'POC3.txt',\n",
       " 'POC30.txt',\n",
       " 'POC31.txt',\n",
       " 'POC32.txt',\n",
       " 'POC33.txt',\n",
       " 'POC34.txt',\n",
       " 'POC35.txt',\n",
       " 'POC36.txt',\n",
       " 'POC37.txt',\n",
       " 'POC38.txt',\n",
       " 'POC39.txt',\n",
       " 'POC4.txt',\n",
       " 'POC40.txt',\n",
       " 'POC41.txt',\n",
       " 'POC42.txt',\n",
       " 'POC43.txt',\n",
       " 'POC44.txt',\n",
       " 'POC45.txt',\n",
       " 'POC46.txt',\n",
       " 'POC47.txt',\n",
       " 'POC48.txt',\n",
       " 'POC49.txt',\n",
       " 'POC5.txt',\n",
       " 'POC50.txt',\n",
       " 'POC51.txt',\n",
       " 'POC52.txt',\n",
       " 'POC53.txt',\n",
       " 'POC54.txt',\n",
       " 'POC55.txt',\n",
       " 'POC56.txt',\n",
       " 'POC57-0.04.txt',\n",
       " 'POC58.txt',\n",
       " 'POC6.txt',\n",
       " 'POC7.txt',\n",
       " 'POC8.txt',\n",
       " 'POC9.txt']"
      ]
     },
     "execution_count": 4,
     "metadata": {},
     "output_type": "execute_result"
    }
   ],
   "source": [
    "# Put the common string you can in all your Ne lines here\n",
    "ID_str='_'\n",
    "file_ext_meta='txt' # Will only take files of this type \n",
    "diad_meta=pf.get_files(path=meta_path,\n",
    "file_ext='txt', exclude_str=['N', 'FG','Cap','window'],\n",
    "            exclude_type='.png',   sort=True)\n",
    "diad_meta"
   ]
  },
  {
   "attachments": {},
   "cell_type": "markdown",
   "id": "378575ca-336b-4f04-bc6e-cf397dfdc56e",
   "metadata": {},
   "source": [
    "## Now get all the important information out of the metadata files"
   ]
  },
  {
   "cell_type": "code",
   "execution_count": 5,
   "id": "57ebb7b9-5c4f-4b49-9686-36f0d2ec9e8d",
   "metadata": {},
   "outputs": [
    {
     "name": "stderr",
     "output_type": "stream",
     "text": [
      "100%|██████████| 58/58 [00:02<00:00, 23.35it/s]"
     ]
    },
    {
     "name": "stdout",
     "output_type": "stream",
     "text": [
      "Done\n",
      "Oof, try not to work after midnight!\n"
     ]
    },
    {
     "name": "stderr",
     "output_type": "stream",
     "text": [
      "\n"
     ]
    },
    {
     "data": {
      "text/plain": [
       "'POC49.txt'"
      ]
     },
     "execution_count": 5,
     "metadata": {},
     "output_type": "execute_result"
    }
   ],
   "source": [
    "meta=pf.stitch_metadata_in_loop_witec(path=meta_path, \n",
    "Allfiles=diad_meta, prefix=False,\n",
    "trupower=False)\n",
    "meta['filename'].iloc[0]"
   ]
  },
  {
   "attachments": {},
   "cell_type": "markdown",
   "id": "b7a6fbc0-2b4a-4f4b-8cfd-cc227047d833",
   "metadata": {},
   "source": [
    "## Then get a simple file name you can stitch with the spectra"
   ]
  },
  {
   "cell_type": "code",
   "execution_count": 6,
   "id": "ea140384-9cb9-41bf-b57e-eb16120afe12",
   "metadata": {},
   "outputs": [
    {
     "name": "stdout",
     "output_type": "stream",
     "text": [
      "good job, no duplicate file names\n"
     ]
    },
    {
     "data": {
      "text/plain": [
       "'POC49'"
      ]
     },
     "execution_count": 6,
     "metadata": {},
     "output_type": "execute_result"
    }
   ],
   "source": [
    "file_m=pf.extracting_filenames_generic(names=meta['filename'],\n",
    "    prefix=False, str_prefix=\" \",\n",
    "   file_type='.txt')\n",
    "# Checks they are all unique\n",
    "file_m[0]"
   ]
  },
  {
   "cell_type": "code",
   "execution_count": 7,
   "id": "2e080a28-6560-40ce-ac46-13983840e6ef",
   "metadata": {},
   "outputs": [
    {
     "data": {
      "text/plain": [
       "numpy.ndarray"
      ]
     },
     "execution_count": 7,
     "metadata": {},
     "output_type": "execute_result"
    }
   ],
   "source": [
    "type(file_m)"
   ]
  },
  {
   "attachments": {},
   "cell_type": "markdown",
   "id": "80671930-57b4-476b-aec2-0aaf23f072b5",
   "metadata": {},
   "source": [
    "## Now get filename from spectra into same form as metadata"
   ]
  },
  {
   "cell_type": "code",
   "execution_count": 8,
   "id": "cddbf805-a72a-4681-bb3a-8b0465bace25",
   "metadata": {},
   "outputs": [
    {
     "data": {
      "text/plain": [
       "pandas.core.series.Series"
      ]
     },
     "execution_count": 8,
     "metadata": {},
     "output_type": "execute_result"
    }
   ],
   "source": [
    "type(df2['filename'].reset_index(drop=True))"
   ]
  },
  {
   "cell_type": "code",
   "execution_count": 9,
   "id": "5f50eae0-1a22-4d35-ba87-0d853343d859",
   "metadata": {},
   "outputs": [
    {
     "name": "stdout",
     "output_type": "stream",
     "text": [
      "good job, no duplicate file names\n"
     ]
    },
    {
     "data": {
      "text/plain": [
       "'Cap19-05X2'"
      ]
     },
     "execution_count": 9,
     "metadata": {},
     "output_type": "execute_result"
    }
   ],
   "source": [
    "# Remove these to get the pure file name\n",
    "file_s=pf.extracting_filenames_generic(\n",
    "    prefix=False, str_prefix=\" \",\n",
    "    suffix=True, str_suffix='_CRR_DiadFit',\n",
    "    names=df2['filename'].reset_index(drop=True),\n",
    "   file_type='.txt')\n",
    "\n",
    "file_s[0]"
   ]
  },
  {
   "cell_type": "code",
   "execution_count": 34,
   "id": "51df3d2d-72d3-44fa-a076-b087cfdb5eef",
   "metadata": {},
   "outputs": [],
   "source": [
    "# Combining them together\n",
    "meta['name_for_matching']=file_m\n",
    "df2['name_for_matching']=file_s\n",
    "df_combo=df2.merge(meta, on='name_for_matching')"
   ]
  },
  {
   "cell_type": "code",
   "execution_count": 41,
   "id": "e66609f2-04a8-4d70-9b9a-dfb9eb9aef6f",
   "metadata": {},
   "outputs": [
    {
     "data": {
      "text/html": [
       "<div>\n",
       "<style scoped>\n",
       "    .dataframe tbody tr th:only-of-type {\n",
       "        vertical-align: middle;\n",
       "    }\n",
       "\n",
       "    .dataframe tbody tr th {\n",
       "        vertical-align: top;\n",
       "    }\n",
       "\n",
       "    .dataframe thead th {\n",
       "        text-align: right;\n",
       "    }\n",
       "</style>\n",
       "<table border=\"1\" class=\"dataframe\">\n",
       "  <thead>\n",
       "    <tr style=\"text-align: right;\">\n",
       "      <th></th>\n",
       "      <th>time</th>\n",
       "      <th>preferred_values</th>\n",
       "      <th>lower_values</th>\n",
       "      <th>upper_values</th>\n",
       "    </tr>\n",
       "  </thead>\n",
       "  <tbody>\n",
       "    <tr>\n",
       "      <th>0</th>\n",
       "      <td>87448.0</td>\n",
       "      <td>1.000610</td>\n",
       "      <td>1.000589</td>\n",
       "      <td>1.000631</td>\n",
       "    </tr>\n",
       "    <tr>\n",
       "      <th>1</th>\n",
       "      <td>88291.0</td>\n",
       "      <td>1.000609</td>\n",
       "      <td>1.000589</td>\n",
       "      <td>1.000630</td>\n",
       "    </tr>\n",
       "    <tr>\n",
       "      <th>2</th>\n",
       "      <td>88753.0</td>\n",
       "      <td>1.000609</td>\n",
       "      <td>1.000588</td>\n",
       "      <td>1.000629</td>\n",
       "    </tr>\n",
       "    <tr>\n",
       "      <th>3</th>\n",
       "      <td>89217.0</td>\n",
       "      <td>1.000608</td>\n",
       "      <td>1.000587</td>\n",
       "      <td>1.000629</td>\n",
       "    </tr>\n",
       "    <tr>\n",
       "      <th>4</th>\n",
       "      <td>89666.0</td>\n",
       "      <td>1.000607</td>\n",
       "      <td>1.000587</td>\n",
       "      <td>1.000628</td>\n",
       "    </tr>\n",
       "  </tbody>\n",
       "</table>\n",
       "</div>"
      ],
      "text/plain": [
       "      time  preferred_values  lower_values  upper_values\n",
       "0  87448.0          1.000610      1.000589      1.000631\n",
       "1  88291.0          1.000609      1.000589      1.000630\n",
       "2  88753.0          1.000609      1.000588      1.000629\n",
       "3  89217.0          1.000608      1.000587      1.000629\n",
       "4  89666.0          1.000607      1.000587      1.000628"
      ]
     },
     "execution_count": 41,
     "metadata": {},
     "output_type": "execute_result"
    }
   ],
   "source": [
    "Ne_corr=pf.calculate_Ne_corr_std_err_values(pickle_str='polyfit_data.pkl', \n",
    "    new_x=df_combo['sec since midnight'],  CI=0.67)\n",
    "Ne_corr.head()"
   ]
  },
  {
   "cell_type": "code",
   "execution_count": 37,
   "id": "c2a426e3",
   "metadata": {},
   "outputs": [],
   "source": [
    "split_err=pf.propagate_errors_for_splitting(Ne_corr, df_combo)\n",
    "df_combo_out=df_combo.copy()\n",
    "df_combo_out.insert(1, 'Corrected_Splitting', df_combo['Splitting']*Ne_corr['preferred_values'])\n",
    "df_combo_out.insert(2, 'Corr_Split+1σ', df_combo_out['Corrected_Splitting']+split_err)\n",
    "df_combo_out.insert(3, 'Corr_Split-1σ',df_combo_out['Corrected_Splitting']-split_err)"
   ]
  },
  {
   "cell_type": "code",
   "execution_count": 39,
   "id": "9e07a032-4a70-42f9-a291-7ce1f3ed3839",
   "metadata": {},
   "outputs": [],
   "source": [
    "df_combo_out.to_excel('Calibration_fitting.xlsx')"
   ]
  },
  {
   "cell_type": "code",
   "execution_count": null,
   "id": "bf56feef-3447-4795-b8b5-c7db3d81e8b8",
   "metadata": {},
   "outputs": [],
   "source": []
  },
  {
   "cell_type": "code",
   "execution_count": null,
   "id": "ba3da7b1-d75a-4d54-8541-5565d28f45be",
   "metadata": {},
   "outputs": [],
   "source": []
  },
  {
   "cell_type": "code",
   "execution_count": null,
   "id": "9b0672fe",
   "metadata": {},
   "outputs": [],
   "source": []
  }
 ],
 "metadata": {
  "kernelspec": {
   "display_name": "Python 3 (ipykernel)",
   "language": "python",
   "name": "python3"
  },
  "language_info": {
   "codemirror_mode": {
    "name": "ipython",
    "version": 3
   },
   "file_extension": ".py",
   "mimetype": "text/x-python",
   "name": "python",
   "nbconvert_exporter": "python",
   "pygments_lexer": "ipython3",
   "version": "3.9.13"
  }
 },
 "nbformat": 4,
 "nbformat_minor": 5
}
