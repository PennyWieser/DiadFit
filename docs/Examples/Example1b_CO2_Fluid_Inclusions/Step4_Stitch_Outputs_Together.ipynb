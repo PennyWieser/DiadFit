{
 "cells": [
  {
   "cell_type": "markdown",
   "id": "0a5d30ae-095e-4406-aff7-a817c2603e2c",
   "metadata": {},
   "source": [
    "# 4. Stitch outputs together\n",
    "- Once you have fitted the weak, medium and dense diads, stitch them all together, and apply the Ne correction model"
   ]
  },
  {
   "cell_type": "code",
   "execution_count": 1,
   "id": "56f8c066-4754-4d3e-9217-ae9e8f792016",
   "metadata": {},
   "outputs": [
    {
     "name": "stderr",
     "output_type": "stream",
     "text": [
      "g:\\my drive\\berkeley_new\\diadfit_outer\\src\\DiadFit\\cosmicray_filter.py:6: TqdmExperimentalWarning: Using `tqdm.autonotebook.tqdm` in notebook mode. Use `tqdm.tqdm` instead to force console mode (e.g. in jupyter console)\n",
      "  from tqdm.autonotebook import tqdm\n"
     ]
    },
    {
     "data": {
      "text/plain": [
       "'0.0.52'"
      ]
     },
     "execution_count": 1,
     "metadata": {},
     "output_type": "execute_result"
    }
   ],
   "source": [
    "import numpy as np\n",
    "import pandas as pd\n",
    "import matplotlib.pyplot as plt\n",
    "import joblib\n",
    "import DiadFit as pf\n",
    "pf.__version__"
   ]
  },
  {
   "cell_type": "code",
   "execution_count": 2,
   "id": "cab54670-2019-40be-b7d8-588189ac9ced",
   "metadata": {},
   "outputs": [],
   "source": [
    "import os\n",
    "DayFolder=os.getcwd()\n",
    "meta_path=DayFolder +  '\\MetaData'\n",
    "spectra_path=DayFolder + '\\Spectra'"
   ]
  },
  {
   "cell_type": "markdown",
   "id": "8230f033-6c2c-4494-a554-885ab21b2e21",
   "metadata": {},
   "source": [
    "## Load in specra, and combine"
   ]
  },
  {
   "cell_type": "code",
   "execution_count": 3,
   "id": "0b0bb450-0872-44f7-b99e-2585f994efde",
   "metadata": {},
   "outputs": [],
   "source": [
    "import os.path\n",
    "from os import path\n",
    "if path.exists('Discarded_df.xlsx'):\n",
    "    discard=pd.read_excel('Discarded_df.xlsx')\n",
    "else:\n",
    "    discard=None\n",
    "if path.exists('Weak_Diads.xlsx'):\n",
    "    grp1=pd.read_excel('Weak_Diads.xlsx')\n",
    "else:\n",
    "    grp1=None\n",
    "if path.exists('Medium_Diads.xlsx'):\n",
    "    grp2=pd.read_excel('Medium_Diads.xlsx')\n",
    "else:\n",
    "    grp2=None\n",
    "if path.exists('Strong_Diads.xlsx'):\n",
    "    grp3=pd.read_excel('Strong_Diads.xlsx')\n",
    "else:\n",
    "    grp3=None\n",
    "df2=pd.concat([grp1, grp2, grp3], axis=0)\n",
    "if discard is not None:\n",
    "    discard_cols=discard[discard.columns.intersection(df2.columns)]\n",
    "    df2=pd.concat([df2, discard_cols])"
   ]
  },
  {
   "cell_type": "code",
   "execution_count": 4,
   "id": "3a7ed038-f31a-41d8-9f30-c278103c56a6",
   "metadata": {},
   "outputs": [
    {
     "data": {
      "text/html": [
       "<div>\n",
       "<style scoped>\n",
       "    .dataframe tbody tr th:only-of-type {\n",
       "        vertical-align: middle;\n",
       "    }\n",
       "\n",
       "    .dataframe tbody tr th {\n",
       "        vertical-align: top;\n",
       "    }\n",
       "\n",
       "    .dataframe thead th {\n",
       "        text-align: right;\n",
       "    }\n",
       "</style>\n",
       "<table border=\"1\" class=\"dataframe\">\n",
       "  <thead>\n",
       "    <tr style=\"text-align: right;\">\n",
       "      <th></th>\n",
       "      <th>Unnamed: 0</th>\n",
       "      <th>filename</th>\n",
       "      <th>Splitting</th>\n",
       "      <th>Diad1_Combofit_Cent</th>\n",
       "      <th>Diad1_Combofit_Height</th>\n",
       "      <th>Diad1_Voigt_Cent</th>\n",
       "      <th>Diad1_Voigt_Area</th>\n",
       "      <th>Diad1_Voigt_Sigma</th>\n",
       "      <th>Diad1_Residual</th>\n",
       "      <th>Diad1_Prop_Lor</th>\n",
       "      <th>...</th>\n",
       "      <th>HB2_Sigma</th>\n",
       "      <th>C13_Cent</th>\n",
       "      <th>C13_Area</th>\n",
       "      <th>C13_Sigma</th>\n",
       "      <th>Diad2_Gauss_Cent</th>\n",
       "      <th>Diad2_Gauss_Area</th>\n",
       "      <th>Diad2_Gauss_Sigma</th>\n",
       "      <th>Diad1_Gauss_Cent</th>\n",
       "      <th>Diad1_Gauss_Area</th>\n",
       "      <th>Diad1_Gauss_Sigma</th>\n",
       "    </tr>\n",
       "  </thead>\n",
       "  <tbody>\n",
       "    <tr>\n",
       "      <th>0</th>\n",
       "      <td>0</td>\n",
       "      <td>K21-59-FI#1_CRR_DiadFit</td>\n",
       "      <td>103.058244</td>\n",
       "      <td>1286.035116</td>\n",
       "      <td>592.265662</td>\n",
       "      <td>1286.035116</td>\n",
       "      <td>607.841613</td>\n",
       "      <td>0.433741</td>\n",
       "      <td>3.692074</td>\n",
       "      <td>3.098621e-01</td>\n",
       "      <td>...</td>\n",
       "      <td>NaN</td>\n",
       "      <td>NaN</td>\n",
       "      <td>NaN</td>\n",
       "      <td>NaN</td>\n",
       "      <td>NaN</td>\n",
       "      <td>NaN</td>\n",
       "      <td>NaN</td>\n",
       "      <td>NaN</td>\n",
       "      <td>NaN</td>\n",
       "      <td>NaN</td>\n",
       "    </tr>\n",
       "    <tr>\n",
       "      <th>1</th>\n",
       "      <td>0</td>\n",
       "      <td>K21-59-FI#2</td>\n",
       "      <td>103.010689</td>\n",
       "      <td>1286.157463</td>\n",
       "      <td>227.669920</td>\n",
       "      <td>1286.157463</td>\n",
       "      <td>201.585652</td>\n",
       "      <td>0.409447</td>\n",
       "      <td>3.372069</td>\n",
       "      <td>4.144717e-02</td>\n",
       "      <td>...</td>\n",
       "      <td>NaN</td>\n",
       "      <td>NaN</td>\n",
       "      <td>NaN</td>\n",
       "      <td>NaN</td>\n",
       "      <td>NaN</td>\n",
       "      <td>NaN</td>\n",
       "      <td>NaN</td>\n",
       "      <td>NaN</td>\n",
       "      <td>NaN</td>\n",
       "      <td>NaN</td>\n",
       "    </tr>\n",
       "    <tr>\n",
       "      <th>2</th>\n",
       "      <td>0</td>\n",
       "      <td>K21-59-FI#3_CRR_DiadFit</td>\n",
       "      <td>103.046333</td>\n",
       "      <td>1286.074091</td>\n",
       "      <td>570.408806</td>\n",
       "      <td>1286.074091</td>\n",
       "      <td>582.296621</td>\n",
       "      <td>0.422212</td>\n",
       "      <td>3.767917</td>\n",
       "      <td>3.700715e-01</td>\n",
       "      <td>...</td>\n",
       "      <td>NaN</td>\n",
       "      <td>NaN</td>\n",
       "      <td>NaN</td>\n",
       "      <td>NaN</td>\n",
       "      <td>NaN</td>\n",
       "      <td>NaN</td>\n",
       "      <td>NaN</td>\n",
       "      <td>NaN</td>\n",
       "      <td>NaN</td>\n",
       "      <td>NaN</td>\n",
       "    </tr>\n",
       "    <tr>\n",
       "      <th>3</th>\n",
       "      <td>0</td>\n",
       "      <td>K21-61-FI#1-rep1_CRR_DiadFit</td>\n",
       "      <td>103.310272</td>\n",
       "      <td>1285.431835</td>\n",
       "      <td>65.962068</td>\n",
       "      <td>1285.431835</td>\n",
       "      <td>81.927205</td>\n",
       "      <td>0.577693</td>\n",
       "      <td>3.145730</td>\n",
       "      <td>1.111621e-10</td>\n",
       "      <td>...</td>\n",
       "      <td>NaN</td>\n",
       "      <td>NaN</td>\n",
       "      <td>NaN</td>\n",
       "      <td>NaN</td>\n",
       "      <td>NaN</td>\n",
       "      <td>NaN</td>\n",
       "      <td>NaN</td>\n",
       "      <td>NaN</td>\n",
       "      <td>NaN</td>\n",
       "      <td>NaN</td>\n",
       "    </tr>\n",
       "    <tr>\n",
       "      <th>4</th>\n",
       "      <td>0</td>\n",
       "      <td>K21-61-FI#1-rep2_CRR_DiadFit</td>\n",
       "      <td>103.304613</td>\n",
       "      <td>1285.435764</td>\n",
       "      <td>607.809709</td>\n",
       "      <td>1285.435764</td>\n",
       "      <td>895.852633</td>\n",
       "      <td>0.568252</td>\n",
       "      <td>3.891746</td>\n",
       "      <td>5.562889e-01</td>\n",
       "      <td>...</td>\n",
       "      <td>NaN</td>\n",
       "      <td>NaN</td>\n",
       "      <td>NaN</td>\n",
       "      <td>NaN</td>\n",
       "      <td>NaN</td>\n",
       "      <td>NaN</td>\n",
       "      <td>NaN</td>\n",
       "      <td>NaN</td>\n",
       "      <td>NaN</td>\n",
       "      <td>NaN</td>\n",
       "    </tr>\n",
       "  </tbody>\n",
       "</table>\n",
       "<p>5 rows × 37 columns</p>\n",
       "</div>"
      ],
      "text/plain": [
       "  Unnamed: 0                      filename   Splitting  Diad1_Combofit_Cent  \\\n",
       "0          0       K21-59-FI#1_CRR_DiadFit  103.058244          1286.035116   \n",
       "1          0                   K21-59-FI#2  103.010689          1286.157463   \n",
       "2          0       K21-59-FI#3_CRR_DiadFit  103.046333          1286.074091   \n",
       "3          0  K21-61-FI#1-rep1_CRR_DiadFit  103.310272          1285.431835   \n",
       "4          0  K21-61-FI#1-rep2_CRR_DiadFit  103.304613          1285.435764   \n",
       "\n",
       "   Diad1_Combofit_Height  Diad1_Voigt_Cent  Diad1_Voigt_Area  \\\n",
       "0             592.265662       1286.035116        607.841613   \n",
       "1             227.669920       1286.157463        201.585652   \n",
       "2             570.408806       1286.074091        582.296621   \n",
       "3              65.962068       1285.431835         81.927205   \n",
       "4             607.809709       1285.435764        895.852633   \n",
       "\n",
       "   Diad1_Voigt_Sigma  Diad1_Residual  Diad1_Prop_Lor  ...  HB2_Sigma C13_Cent  \\\n",
       "0           0.433741        3.692074    3.098621e-01  ...        NaN      NaN   \n",
       "1           0.409447        3.372069    4.144717e-02  ...        NaN      NaN   \n",
       "2           0.422212        3.767917    3.700715e-01  ...        NaN      NaN   \n",
       "3           0.577693        3.145730    1.111621e-10  ...        NaN      NaN   \n",
       "4           0.568252        3.891746    5.562889e-01  ...        NaN      NaN   \n",
       "\n",
       "   C13_Area  C13_Sigma  Diad2_Gauss_Cent  Diad2_Gauss_Area  Diad2_Gauss_Sigma  \\\n",
       "0       NaN        NaN               NaN               NaN                NaN   \n",
       "1       NaN        NaN               NaN               NaN                NaN   \n",
       "2       NaN        NaN               NaN               NaN                NaN   \n",
       "3       NaN        NaN               NaN               NaN                NaN   \n",
       "4       NaN        NaN               NaN               NaN                NaN   \n",
       "\n",
       "   Diad1_Gauss_Cent  Diad1_Gauss_Area  Diad1_Gauss_Sigma  \n",
       "0               NaN               NaN                NaN  \n",
       "1               NaN               NaN                NaN  \n",
       "2               NaN               NaN                NaN  \n",
       "3               NaN               NaN                NaN  \n",
       "4               NaN               NaN                NaN  \n",
       "\n",
       "[5 rows x 37 columns]"
      ]
     },
     "execution_count": 4,
     "metadata": {},
     "output_type": "execute_result"
    }
   ],
   "source": [
    "df2.head()"
   ]
  },
  {
   "cell_type": "markdown",
   "id": "6449c9b4-d538-4d37-ad78-49c87aa677af",
   "metadata": {},
   "source": [
    "## First, get the metadata for this day"
   ]
  },
  {
   "cell_type": "code",
   "execution_count": 5,
   "id": "027e3ea1-f4ef-4c53-a57d-977e1f639ec9",
   "metadata": {},
   "outputs": [
    {
     "data": {
      "text/plain": [
       "['K21-59-FI#1-IMG (1).txt',\n",
       " 'K21-59-FI#1-IMG.txt',\n",
       " 'K21-59-FI#1.txt',\n",
       " 'K21-59-FI#2-IMG.txt',\n",
       " 'K21-59-FI#2.txt',\n",
       " 'K21-59-FI#3-IMG.txt',\n",
       " 'K21-59-FI#3.txt',\n",
       " 'K21-59-IMG5x.txt',\n",
       " 'K21-60-IMG5x.txt',\n",
       " 'K21-61-FI#1-IMG.txt',\n",
       " 'K21-61-FI#1-rep1.txt',\n",
       " 'K21-61-FI#1-rep2.txt',\n",
       " 'K21-61-FI#2-IMG.txt',\n",
       " 'K21-61-FI#2.txt',\n",
       " 'K21-61-FI#3-IMG.txt',\n",
       " 'K21-61-FI#3.txt',\n",
       " 'K21-61-IMG5x.txt',\n",
       " 'K21-62-FI#1-IMG.txt',\n",
       " 'K21-62-FI#1-nodiad.txt',\n",
       " 'K21-62-FI#2-IMG.txt',\n",
       " 'K21-62-FI#2-nodiad.txt',\n",
       " 'K21-62-IMG5x.txt',\n",
       " 'K21-63-FI#1-IMG.txt',\n",
       " 'K21-63-FI#1.txt',\n",
       " 'K21-63-IMG5x.txt',\n",
       " 'K21-64-FI#1-IMG.txt',\n",
       " 'K21-64-FI#1.txt',\n",
       " 'K21-64-FI#2-IMG.txt',\n",
       " 'K21-64-FI#2.txt',\n",
       " 'K21-64-FI#3-IMG.txt',\n",
       " 'K21-64-FI#3.txt',\n",
       " 'K21-64-FI#4-IMG.txt',\n",
       " 'K21-64-FI#4.txt',\n",
       " 'K21-64-FI#5-IMG.txt',\n",
       " 'K21-64-FI#5.txt',\n",
       " 'K21-64-FI#6-IMG.txt',\n",
       " 'K21-64-FI#6.txt',\n",
       " 'K21-64-FI#7-IMG.txt',\n",
       " 'K21-64-FI#7.txt',\n",
       " 'K21-64-FI#8-IMG.txt',\n",
       " 'K21-64-FI#8.txt',\n",
       " 'K21-64-IMG5x.txt']"
      ]
     },
     "execution_count": 5,
     "metadata": {},
     "output_type": "execute_result"
    }
   ],
   "source": [
    "# Put the common string you can in all your Ne lines here\n",
    "ID_str='_'\n",
    "file_ext_meta='txt' # Will only take files of this type \n",
    "diad_meta=pf.get_files(path=meta_path,\n",
    "file_ext='txt', exclude_str=['N', 'FG', 'Cap','window'],\n",
    " sort=True)\n",
    "diad_meta"
   ]
  },
  {
   "cell_type": "markdown",
   "id": "378575ca-336b-4f04-bc6e-cf397dfdc56e",
   "metadata": {},
   "source": [
    "## Now get all the important information out of the metadata files"
   ]
  },
  {
   "cell_type": "code",
   "execution_count": 6,
   "id": "57ebb7b9-5c4f-4b49-9686-36f0d2ec9e8d",
   "metadata": {},
   "outputs": [
    {
     "name": "stderr",
     "output_type": "stream",
     "text": [
      "100%|██████████████████████████████████████████████████████████████████████████████████| 42/42 [00:00<00:00, 49.04it/s]"
     ]
    },
    {
     "name": "stdout",
     "output_type": "stream",
     "text": [
      "Done\n"
     ]
    },
    {
     "name": "stderr",
     "output_type": "stream",
     "text": [
      "\n"
     ]
    },
    {
     "data": {
      "text/plain": [
       "'K21-59-FI#1.txt'"
      ]
     },
     "execution_count": 6,
     "metadata": {},
     "output_type": "execute_result"
    }
   ],
   "source": [
    "meta=pf.stitch_metadata_in_loop_witec(path=meta_path, \n",
    "Allfiles=diad_meta, prefix=False,\n",
    "trupower=False)\n",
    "meta['filename'].iloc[0]"
   ]
  },
  {
   "cell_type": "markdown",
   "id": "b7a6fbc0-2b4a-4f4b-8cfd-cc227047d833",
   "metadata": {},
   "source": [
    "## Then get a simple file name you can stitch with the spectra"
   ]
  },
  {
   "cell_type": "code",
   "execution_count": 7,
   "id": "ea140384-9cb9-41bf-b57e-eb16120afe12",
   "metadata": {},
   "outputs": [
    {
     "data": {
      "text/plain": [
       "'K21-59-FI#1'"
      ]
     },
     "execution_count": 7,
     "metadata": {},
     "output_type": "execute_result"
    }
   ],
   "source": [
    "file_m=pf.extracting_filenames_generic(names=meta['filename'],\n",
    "    prefix=False, str_prefix=\" \",\n",
    "   file_type='.txt')\n",
    "# Checks they are all unique\n",
    "file_m[0]"
   ]
  },
  {
   "cell_type": "markdown",
   "id": "80671930-57b4-476b-aec2-0aaf23f072b5",
   "metadata": {},
   "source": [
    "## Now get filename from spectra into same form as metadata"
   ]
  },
  {
   "cell_type": "code",
   "execution_count": 8,
   "id": "5f50eae0-1a22-4d35-ba87-0d853343d859",
   "metadata": {},
   "outputs": [],
   "source": [
    "# Remove these to get the pure file name\n",
    "file_s=pf.extracting_filenames_generic(\n",
    "    prefix=False, str_prefix=\" \",\n",
    "    names=df2['filename'].reset_index(drop=True),\n",
    "   file_type='.txt')\n",
    "\n",
    "# Remove the cosmic rays, as doesnt have it in the metatdata\n",
    "file_s = np.char.replace(file_s.astype(str), \"_CRR_DiadFit\", \"\")"
   ]
  },
  {
   "cell_type": "code",
   "execution_count": 9,
   "id": "c53ee945-9b20-473d-9cef-4cfe427ad368",
   "metadata": {},
   "outputs": [
    {
     "data": {
      "text/plain": [
       "array(['K21-59-FI#1', 'K21-59-FI#2', 'K21-59-FI#3', 'K21-61-FI#1-rep1',\n",
       "       'K21-61-FI#1-rep2', 'K21-63-FI#1', 'K21-64-FI#2', 'K21-64-FI#8',\n",
       "       'K21-61-FI#2', 'K21-61-FI#3', 'K21-64-FI#1', 'K21-64-FI#3',\n",
       "       'K21-64-FI#4', 'K21-64-FI#5', 'K21-64-FI#6', 'K21-64-FI#7'],\n",
       "      dtype='<U16')"
      ]
     },
     "execution_count": 9,
     "metadata": {},
     "output_type": "execute_result"
    }
   ],
   "source": [
    "file_s"
   ]
  },
  {
   "cell_type": "code",
   "execution_count": 26,
   "id": "51df3d2d-72d3-44fa-a076-b087cfdb5eef",
   "metadata": {},
   "outputs": [],
   "source": [
    "# Combining them together\n",
    "meta['name_for_matching']=file_m\n",
    "df2['name_for_matching']=file_s\n",
    "df2['Name_for_Secondary_Phases']=file_s\n",
    "df_combo=df2.merge(meta, on='name_for_matching')"
   ]
  },
  {
   "cell_type": "code",
   "execution_count": 11,
   "id": "e66609f2-04a8-4d70-9b9a-dfb9eb9aef6f",
   "metadata": {},
   "outputs": [],
   "source": [
    "from pickle import load\n",
    "import pickle\n",
    "import os\n",
    "pickle_path=os.getcwd()\n",
    "file_pkl=pickle_path + '/' + 'Ne_Line_Regression_Example_cali.pck'\n",
    "with open(file_pkl, 'rb') as file_handle:\n",
    "    my_loaded_model = pickle.load(file_handle)"
   ]
  },
  {
   "cell_type": "code",
   "execution_count": 12,
   "id": "524e4721-cc10-49c6-a262-e7795d5de57d",
   "metadata": {},
   "outputs": [],
   "source": [
    "df_combo['Ne_Correction']=my_loaded_model(df_combo['sec since midnight'])\n",
    "df_combo.insert(1,'Corrected_Splitting', df_combo['Ne_Correction']*df_combo['Splitting'])"
   ]
  },
  {
   "cell_type": "code",
   "execution_count": 14,
   "id": "9e07a032-4a70-42f9-a291-7ce1f3ed3839",
   "metadata": {},
   "outputs": [],
   "source": [
    "df_combo.to_excel('FI_fitting.xlsx')"
   ]
  },
  {
   "cell_type": "markdown",
   "id": "54b229a4-026d-4e4e-ab0a-ed0362566919",
   "metadata": {},
   "source": [
    "## If you have secondary phases, now is the time to merge those in"
   ]
  },
  {
   "cell_type": "code",
   "execution_count": 17,
   "id": "bc38474f-45cd-4fa5-beef-49db69e82989",
   "metadata": {},
   "outputs": [
    {
     "data": {
      "text/html": [
       "<div>\n",
       "<style scoped>\n",
       "    .dataframe tbody tr th:only-of-type {\n",
       "        vertical-align: middle;\n",
       "    }\n",
       "\n",
       "    .dataframe tbody tr th {\n",
       "        vertical-align: top;\n",
       "    }\n",
       "\n",
       "    .dataframe thead th {\n",
       "        text-align: right;\n",
       "    }\n",
       "</style>\n",
       "<table border=\"1\" class=\"dataframe\">\n",
       "  <thead>\n",
       "    <tr style=\"text-align: right;\">\n",
       "      <th></th>\n",
       "      <th>filename</th>\n",
       "      <th>Peak_Cent_SO2</th>\n",
       "      <th>Peak_Area_SO2</th>\n",
       "      <th>Peak_Height_SO2</th>\n",
       "      <th>Peak_Cent_Carb</th>\n",
       "      <th>Peak_Area_Carb</th>\n",
       "      <th>Peak_Height_Carb</th>\n",
       "    </tr>\n",
       "  </thead>\n",
       "  <tbody>\n",
       "    <tr>\n",
       "      <th>0</th>\n",
       "      <td>K21-59-FI#1.txt</td>\n",
       "      <td>1151.160629</td>\n",
       "      <td>57.032076</td>\n",
       "      <td>26.539140</td>\n",
       "      <td>NaN</td>\n",
       "      <td>NaN</td>\n",
       "      <td>NaN</td>\n",
       "    </tr>\n",
       "    <tr>\n",
       "      <th>1</th>\n",
       "      <td>K21-63-FI#1.txt</td>\n",
       "      <td>1150.591822</td>\n",
       "      <td>81.866472</td>\n",
       "      <td>56.151253</td>\n",
       "      <td>NaN</td>\n",
       "      <td>NaN</td>\n",
       "      <td>NaN</td>\n",
       "    </tr>\n",
       "    <tr>\n",
       "      <th>2</th>\n",
       "      <td>K21-64-FI#1.txt</td>\n",
       "      <td>1150.651543</td>\n",
       "      <td>690.347547</td>\n",
       "      <td>437.799964</td>\n",
       "      <td>NaN</td>\n",
       "      <td>NaN</td>\n",
       "      <td>NaN</td>\n",
       "    </tr>\n",
       "    <tr>\n",
       "      <th>3</th>\n",
       "      <td>K21-64-FI#2.txt</td>\n",
       "      <td>1150.642811</td>\n",
       "      <td>374.155731</td>\n",
       "      <td>235.883336</td>\n",
       "      <td>NaN</td>\n",
       "      <td>NaN</td>\n",
       "      <td>NaN</td>\n",
       "    </tr>\n",
       "    <tr>\n",
       "      <th>4</th>\n",
       "      <td>K21-64-FI#3.txt</td>\n",
       "      <td>1150.614040</td>\n",
       "      <td>1181.443616</td>\n",
       "      <td>738.920572</td>\n",
       "      <td>NaN</td>\n",
       "      <td>NaN</td>\n",
       "      <td>NaN</td>\n",
       "    </tr>\n",
       "  </tbody>\n",
       "</table>\n",
       "</div>"
      ],
      "text/plain": [
       "          filename  Peak_Cent_SO2  Peak_Area_SO2  Peak_Height_SO2  \\\n",
       "0  K21-59-FI#1.txt    1151.160629      57.032076        26.539140   \n",
       "1  K21-63-FI#1.txt    1150.591822      81.866472        56.151253   \n",
       "2  K21-64-FI#1.txt    1150.651543     690.347547       437.799964   \n",
       "3  K21-64-FI#2.txt    1150.642811     374.155731       235.883336   \n",
       "4  K21-64-FI#3.txt    1150.614040    1181.443616       738.920572   \n",
       "\n",
       "   Peak_Cent_Carb  Peak_Area_Carb  Peak_Height_Carb  \n",
       "0             NaN             NaN               NaN  \n",
       "1             NaN             NaN               NaN  \n",
       "2             NaN             NaN               NaN  \n",
       "3             NaN             NaN               NaN  \n",
       "4             NaN             NaN               NaN  "
      ]
     },
     "execution_count": 17,
     "metadata": {},
     "output_type": "execute_result"
    }
   ],
   "source": [
    "if path.exists('Carb_Peak_fits.xlsx'):\n",
    "    Carb=pd.read_excel('Carb_Peak_fits.xlsx')\n",
    "else:\n",
    "    Carb=None\n",
    "if path.exists('SO2_Peak_fits.xlsx'):\n",
    "    SO2=pd.read_excel('SO2_Peak_fits.xlsx')\n",
    "else:\n",
    "    SO2=None\n",
    "if SO2 is not None and Carb is not None:\n",
    "    Sec_Phases=pd.merge(SO2, Carb, on='filename', how='outer')\n",
    "elif SO2 is not None and Carb is None:\n",
    "    Sec_Phases=SO2\n",
    "elif SO2 is None and Carb is not None:\n",
    "    Sec_Phases=Carb\n",
    "else:\n",
    "    Sec_Phases=None\n",
    "Sec_Phases.head()"
   ]
  },
  {
   "cell_type": "code",
   "execution_count": 18,
   "id": "e8c12b56-b12d-4331-b45c-a204526e502a",
   "metadata": {},
   "outputs": [],
   "source": [
    "# Remove these to get the pure file name\n",
    "if Sec_Phases is not None:\n",
    "    file_sec_phase=pf.extracting_filenames_generic(\n",
    "        prefix=False, str_prefix=\" \",\n",
    "        names=Sec_Phases['filename'].reset_index(drop=True),\n",
    "       file_type='.txt')\n",
    "\n",
    "    file_sec_phase"
   ]
  },
  {
   "cell_type": "code",
   "execution_count": 24,
   "id": "ff6b1419-fa62-443b-95f1-78299d7d5656",
   "metadata": {},
   "outputs": [
    {
     "data": {
      "text/plain": [
       "array(['K21-59-FI#1', 'K21-63-FI#1', 'K21-64-FI#1', 'K21-64-FI#2',\n",
       "       'K21-64-FI#3', 'K21-64-FI#5', 'K21-64-FI#6', 'K21-64-FI#7',\n",
       "       'K21-64-FI#8', 'K21-61-FI#1-rep2'], dtype=object)"
      ]
     },
     "execution_count": 24,
     "metadata": {},
     "output_type": "execute_result"
    }
   ],
   "source": [
    "file_sec_phase"
   ]
  },
  {
   "cell_type": "code",
   "execution_count": 25,
   "id": "56bacae4-1061-42b5-822a-4a58312a8c22",
   "metadata": {},
   "outputs": [
    {
     "data": {
      "text/plain": [
       "0          K21-59-FI#1.txt\n",
       "1          K21-59-FI#2.txt\n",
       "2          K21-59-FI#3.txt\n",
       "3     K21-61-FI#1-rep1.txt\n",
       "4     K21-61-FI#1-rep2.txt\n",
       "5          K21-63-FI#1.txt\n",
       "6          K21-64-FI#2.txt\n",
       "7          K21-64-FI#8.txt\n",
       "8          K21-61-FI#2.txt\n",
       "9          K21-61-FI#3.txt\n",
       "10         K21-64-FI#1.txt\n",
       "11         K21-64-FI#3.txt\n",
       "12         K21-64-FI#4.txt\n",
       "13         K21-64-FI#5.txt\n",
       "14         K21-64-FI#6.txt\n",
       "15         K21-64-FI#7.txt\n",
       "Name: name_for_matching, dtype: object"
      ]
     },
     "execution_count": 25,
     "metadata": {},
     "output_type": "execute_result"
    }
   ],
   "source": [
    "df_combo['name_for_matching']"
   ]
  },
  {
   "cell_type": "code",
   "execution_count": 30,
   "id": "f09b738b-d075-4f6a-b033-c19e7afd5e26",
   "metadata": {},
   "outputs": [],
   "source": [
    "df_combo['name_for_matching']=df_combo['Name_for_Secondary_Phases']\n",
    "\n",
    "if Sec_Phases is not None:\n",
    "    Sec_Phases['name_for_matching']=file_sec_phase\n",
    "    df_combo_sec_phase=df_combo.merge(Sec_Phases, \n",
    "    on='name_for_matching', how='outer')\n",
    "    \n",
    "else:\n",
    "    df_combo_sec_phase=df_combo"
   ]
  },
  {
   "cell_type": "markdown",
   "id": "299ea007-e39d-4ff7-8970-ccfbf9d5040c",
   "metadata": {},
   "source": [
    "### Add some more useful columns"
   ]
  },
  {
   "cell_type": "code",
   "execution_count": 45,
   "id": "97111939-e39c-43ce-8ea3-6bb9cd5d150d",
   "metadata": {},
   "outputs": [],
   "source": [
    "if 'Peak_Area_Carb' in df_combo_sec_phase.columns:\n",
    "    df_combo_sec_phase['Carb_Diad_Ratio']=(df_combo_sec_phase['Peak_Area_Carb']/(df_combo_sec_phase['Diad1_Voigt_Area']\n",
    "                      +df_combo_sec_phase['Diad2_Voigt_Area']))\n",
    "if 'Peak_Area_SO2' in df_combo_sec_phase.columns:\n",
    "    df_combo_sec_phase['SO2_Diad_Ratio']=(df_combo_sec_phase['Peak_Area_SO2']/(df_combo_sec_phase['Diad1_Voigt_Area']\n",
    "                      +df_combo_sec_phase['Diad2_Voigt_Area']))"
   ]
  },
  {
   "cell_type": "code",
   "execution_count": 46,
   "id": "9e5cffde-1b26-4aaf-b1c0-eb081c766242",
   "metadata": {},
   "outputs": [
    {
     "ename": "PermissionError",
     "evalue": "[Errno 13] Permission denied: 'FI_fitting_w_sec_phases.xlsx'",
     "output_type": "error",
     "traceback": [
      "\u001b[1;31m---------------------------------------------------------------------------\u001b[0m",
      "\u001b[1;31mPermissionError\u001b[0m                           Traceback (most recent call last)",
      "\u001b[1;32m~\\AppData\\Local\\Temp\\ipykernel_8832\\1518319208.py\u001b[0m in \u001b[0;36m<module>\u001b[1;34m\u001b[0m\n\u001b[1;32m----> 1\u001b[1;33m \u001b[0mdf_combo_sec_phase\u001b[0m\u001b[1;33m.\u001b[0m\u001b[0mto_excel\u001b[0m\u001b[1;33m(\u001b[0m\u001b[1;34m'FI_fitting_w_sec_phases.xlsx'\u001b[0m\u001b[1;33m)\u001b[0m\u001b[1;33m\u001b[0m\u001b[1;33m\u001b[0m\u001b[0m\n\u001b[0m",
      "\u001b[1;32m~\\anaconda3\\lib\\site-packages\\pandas\\core\\generic.py\u001b[0m in \u001b[0;36mto_excel\u001b[1;34m(self, excel_writer, sheet_name, na_rep, float_format, columns, header, index, index_label, startrow, startcol, engine, merge_cells, encoding, inf_rep, verbose, freeze_panes, storage_options)\u001b[0m\n\u001b[0;32m   2343\u001b[0m             \u001b[0minf_rep\u001b[0m\u001b[1;33m=\u001b[0m\u001b[0minf_rep\u001b[0m\u001b[1;33m,\u001b[0m\u001b[1;33m\u001b[0m\u001b[1;33m\u001b[0m\u001b[0m\n\u001b[0;32m   2344\u001b[0m         )\n\u001b[1;32m-> 2345\u001b[1;33m         formatter.write(\n\u001b[0m\u001b[0;32m   2346\u001b[0m             \u001b[0mexcel_writer\u001b[0m\u001b[1;33m,\u001b[0m\u001b[1;33m\u001b[0m\u001b[1;33m\u001b[0m\u001b[0m\n\u001b[0;32m   2347\u001b[0m             \u001b[0msheet_name\u001b[0m\u001b[1;33m=\u001b[0m\u001b[0msheet_name\u001b[0m\u001b[1;33m,\u001b[0m\u001b[1;33m\u001b[0m\u001b[1;33m\u001b[0m\u001b[0m\n",
      "\u001b[1;32m~\\anaconda3\\lib\\site-packages\\pandas\\io\\formats\\excel.py\u001b[0m in \u001b[0;36mwrite\u001b[1;34m(self, writer, sheet_name, startrow, startcol, freeze_panes, engine, storage_options)\u001b[0m\n\u001b[0;32m    886\u001b[0m             \u001b[1;31m# error: Cannot instantiate abstract class 'ExcelWriter' with abstract\u001b[0m\u001b[1;33m\u001b[0m\u001b[1;33m\u001b[0m\u001b[0m\n\u001b[0;32m    887\u001b[0m             \u001b[1;31m# attributes 'engine', 'save', 'supported_extensions' and 'write_cells'\u001b[0m\u001b[1;33m\u001b[0m\u001b[1;33m\u001b[0m\u001b[0m\n\u001b[1;32m--> 888\u001b[1;33m             writer = ExcelWriter(  # type: ignore[abstract]\n\u001b[0m\u001b[0;32m    889\u001b[0m                 \u001b[0mwriter\u001b[0m\u001b[1;33m,\u001b[0m \u001b[0mengine\u001b[0m\u001b[1;33m=\u001b[0m\u001b[0mengine\u001b[0m\u001b[1;33m,\u001b[0m \u001b[0mstorage_options\u001b[0m\u001b[1;33m=\u001b[0m\u001b[0mstorage_options\u001b[0m\u001b[1;33m\u001b[0m\u001b[1;33m\u001b[0m\u001b[0m\n\u001b[0;32m    890\u001b[0m             )\n",
      "\u001b[1;32m~\\anaconda3\\lib\\site-packages\\pandas\\io\\excel\\_xlsxwriter.py\u001b[0m in \u001b[0;36m__init__\u001b[1;34m(self, path, engine, date_format, datetime_format, mode, storage_options, if_sheet_exists, engine_kwargs, **kwargs)\u001b[0m\n\u001b[0;32m    189\u001b[0m             \u001b[1;32mraise\u001b[0m \u001b[0mValueError\u001b[0m\u001b[1;33m(\u001b[0m\u001b[1;34m\"Append mode is not supported with xlsxwriter!\"\u001b[0m\u001b[1;33m)\u001b[0m\u001b[1;33m\u001b[0m\u001b[1;33m\u001b[0m\u001b[0m\n\u001b[0;32m    190\u001b[0m \u001b[1;33m\u001b[0m\u001b[0m\n\u001b[1;32m--> 191\u001b[1;33m         super().__init__(\n\u001b[0m\u001b[0;32m    192\u001b[0m             \u001b[0mpath\u001b[0m\u001b[1;33m,\u001b[0m\u001b[1;33m\u001b[0m\u001b[1;33m\u001b[0m\u001b[0m\n\u001b[0;32m    193\u001b[0m             \u001b[0mengine\u001b[0m\u001b[1;33m=\u001b[0m\u001b[0mengine\u001b[0m\u001b[1;33m,\u001b[0m\u001b[1;33m\u001b[0m\u001b[1;33m\u001b[0m\u001b[0m\n",
      "\u001b[1;32m~\\anaconda3\\lib\\site-packages\\pandas\\io\\excel\\_base.py\u001b[0m in \u001b[0;36m__init__\u001b[1;34m(self, path, engine, date_format, datetime_format, mode, storage_options, if_sheet_exists, engine_kwargs, **kwargs)\u001b[0m\n\u001b[0;32m   1104\u001b[0m         )\n\u001b[0;32m   1105\u001b[0m         \u001b[1;32mif\u001b[0m \u001b[1;32mnot\u001b[0m \u001b[0misinstance\u001b[0m\u001b[1;33m(\u001b[0m\u001b[0mpath\u001b[0m\u001b[1;33m,\u001b[0m \u001b[0mExcelWriter\u001b[0m\u001b[1;33m)\u001b[0m\u001b[1;33m:\u001b[0m\u001b[1;33m\u001b[0m\u001b[1;33m\u001b[0m\u001b[0m\n\u001b[1;32m-> 1106\u001b[1;33m             self.handles = get_handle(\n\u001b[0m\u001b[0;32m   1107\u001b[0m                 \u001b[0mpath\u001b[0m\u001b[1;33m,\u001b[0m \u001b[0mmode\u001b[0m\u001b[1;33m,\u001b[0m \u001b[0mstorage_options\u001b[0m\u001b[1;33m=\u001b[0m\u001b[0mstorage_options\u001b[0m\u001b[1;33m,\u001b[0m \u001b[0mis_text\u001b[0m\u001b[1;33m=\u001b[0m\u001b[1;32mFalse\u001b[0m\u001b[1;33m\u001b[0m\u001b[1;33m\u001b[0m\u001b[0m\n\u001b[0;32m   1108\u001b[0m             )\n",
      "\u001b[1;32m~\\anaconda3\\lib\\site-packages\\pandas\\io\\common.py\u001b[0m in \u001b[0;36mget_handle\u001b[1;34m(path_or_buf, mode, encoding, compression, memory_map, is_text, errors, storage_options)\u001b[0m\n\u001b[0;32m    793\u001b[0m         \u001b[1;32melse\u001b[0m\u001b[1;33m:\u001b[0m\u001b[1;33m\u001b[0m\u001b[1;33m\u001b[0m\u001b[0m\n\u001b[0;32m    794\u001b[0m             \u001b[1;31m# Binary mode\u001b[0m\u001b[1;33m\u001b[0m\u001b[1;33m\u001b[0m\u001b[0m\n\u001b[1;32m--> 795\u001b[1;33m             \u001b[0mhandle\u001b[0m \u001b[1;33m=\u001b[0m \u001b[0mopen\u001b[0m\u001b[1;33m(\u001b[0m\u001b[0mhandle\u001b[0m\u001b[1;33m,\u001b[0m \u001b[0mioargs\u001b[0m\u001b[1;33m.\u001b[0m\u001b[0mmode\u001b[0m\u001b[1;33m)\u001b[0m\u001b[1;33m\u001b[0m\u001b[1;33m\u001b[0m\u001b[0m\n\u001b[0m\u001b[0;32m    796\u001b[0m         \u001b[0mhandles\u001b[0m\u001b[1;33m.\u001b[0m\u001b[0mappend\u001b[0m\u001b[1;33m(\u001b[0m\u001b[0mhandle\u001b[0m\u001b[1;33m)\u001b[0m\u001b[1;33m\u001b[0m\u001b[1;33m\u001b[0m\u001b[0m\n\u001b[0;32m    797\u001b[0m \u001b[1;33m\u001b[0m\u001b[0m\n",
      "\u001b[1;31mPermissionError\u001b[0m: [Errno 13] Permission denied: 'FI_fitting_w_sec_phases.xlsx'"
     ]
    }
   ],
   "source": [
    "df_combo_sec_phase.to_excel('FI_fitting_w_sec_phases.xlsx')"
   ]
  },
  {
   "cell_type": "code",
   "execution_count": null,
   "id": "cf26390f-c272-4cbe-a4fb-4dcaeb545ae1",
   "metadata": {},
   "outputs": [],
   "source": []
  }
 ],
 "metadata": {
  "kernelspec": {
   "display_name": "Python 3 (ipykernel)",
   "language": "python",
   "name": "python3"
  },
  "language_info": {
   "codemirror_mode": {
    "name": "ipython",
    "version": 3
   },
   "file_extension": ".py",
   "mimetype": "text/x-python",
   "name": "python",
   "nbconvert_exporter": "python",
   "pygments_lexer": "ipython3",
   "version": "3.9.13"
  }
 },
 "nbformat": 4,
 "nbformat_minor": 5
}
