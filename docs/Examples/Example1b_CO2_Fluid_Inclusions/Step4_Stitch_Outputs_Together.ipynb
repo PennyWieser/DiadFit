{
 "cells": [
  {
   "attachments": {},
   "cell_type": "markdown",
   "id": "0a5d30ae-095e-4406-aff7-a817c2603e2c",
   "metadata": {},
   "source": [
    "# 4. Stitch outputs together\n",
    "- Once you have fitted the weak, medium and dense diads, stitch them all together, and apply the Ne correction model"
   ]
  },
  {
   "cell_type": "code",
   "execution_count": 1,
   "id": "56f8c066-4754-4d3e-9217-ae9e8f792016",
   "metadata": {},
   "outputs": [
    {
     "data": {
      "text/plain": [
       "'0.0.63'"
      ]
     },
     "execution_count": 1,
     "metadata": {},
     "output_type": "execute_result"
    }
   ],
   "source": [
    "import numpy as np\n",
    "import pandas as pd\n",
    "import matplotlib.pyplot as plt\n",
    "import joblib\n",
    "import DiadFit as pf\n",
    "pf.__version__"
   ]
  },
  {
   "cell_type": "code",
   "execution_count": 2,
   "id": "cab54670-2019-40be-b7d8-588189ac9ced",
   "metadata": {},
   "outputs": [],
   "source": [
    "import os\n",
    "DayFolder=os.getcwd()\n",
    "meta_path=DayFolder +  '\\MetaData'\n",
    "spectra_path=DayFolder + '\\Spectra'\n",
    "Trupower=True"
   ]
  },
  {
   "attachments": {},
   "cell_type": "markdown",
   "id": "8230f033-6c2c-4494-a554-885ab21b2e21",
   "metadata": {},
   "source": [
    "## Load in specra, and combine"
   ]
  },
  {
   "cell_type": "code",
   "execution_count": 3,
   "id": "0b0bb450-0872-44f7-b99e-2585f994efde",
   "metadata": {},
   "outputs": [],
   "source": [
    "df2=pf.merge_fit_files()"
   ]
  },
  {
   "attachments": {},
   "cell_type": "markdown",
   "id": "6449c9b4-d538-4d37-ad78-49c87aa677af",
   "metadata": {},
   "source": [
    "## First, get the metadata for this day"
   ]
  },
  {
   "cell_type": "code",
   "execution_count": 4,
   "id": "027e3ea1-f4ef-4c53-a57d-977e1f639ec9",
   "metadata": {},
   "outputs": [
    {
     "data": {
      "text/plain": [
       "'K21-59-FI#1-IMG (1).txt'"
      ]
     },
     "execution_count": 4,
     "metadata": {},
     "output_type": "execute_result"
    }
   ],
   "source": [
    "# Put the common string you can in all your Ne lines here\n",
    "ID_str='_'\n",
    "file_ext_meta='txt' # Will only take files of this type \n",
    "diad_meta=pf.get_files(path=meta_path,\n",
    "file_ext='txt', exclude_str=['Ne', 'FG', 'Cap','window'],\n",
    " sort=True)\n",
    "diad_meta[0]"
   ]
  },
  {
   "attachments": {},
   "cell_type": "markdown",
   "id": "378575ca-336b-4f04-bc6e-cf397dfdc56e",
   "metadata": {},
   "source": [
    "## Now get all the important information out of the metadata files"
   ]
  },
  {
   "cell_type": "code",
   "execution_count": 5,
   "id": "57ebb7b9-5c4f-4b49-9686-36f0d2ec9e8d",
   "metadata": {},
   "outputs": [
    {
     "name": "stderr",
     "output_type": "stream",
     "text": [
      "100%|██████████| 42/42 [00:00<00:00, 45.99it/s]"
     ]
    },
    {
     "name": "stdout",
     "output_type": "stream",
     "text": [
      "Done\n",
      "0            K21-59-FI#1.txt\n",
      "1            K21-59-FI#2.txt\n",
      "2            K21-59-FI#3.txt\n",
      "3       K21-61-FI#1-rep1.txt\n",
      "4       K21-61-FI#1-rep2.txt\n",
      "5            K21-61-FI#2.txt\n",
      "6            K21-61-FI#3.txt\n",
      "7     K21-62-FI#1-nodiad.txt\n",
      "8     K21-62-FI#2-nodiad.txt\n",
      "9            K21-63-FI#1.txt\n",
      "10           K21-64-FI#1.txt\n",
      "11           K21-64-FI#2.txt\n",
      "12           K21-64-FI#3.txt\n",
      "13           K21-64-FI#4.txt\n",
      "14           K21-64-FI#5.txt\n",
      "15           K21-64-FI#6.txt\n",
      "16           K21-64-FI#7.txt\n",
      "17           K21-64-FI#8.txt\n",
      "Name: filename, dtype: object\n"
     ]
    },
    {
     "name": "stderr",
     "output_type": "stream",
     "text": [
      "\n"
     ]
    }
   ],
   "source": [
    "meta=pf.stitch_metadata_in_loop_witec(path=meta_path, \n",
    "Allfiles=diad_meta, \n",
    "trupower=Trupower)\n",
    "print(meta['filename'])"
   ]
  },
  {
   "attachments": {},
   "cell_type": "markdown",
   "id": "b7a6fbc0-2b4a-4f4b-8cfd-cc227047d833",
   "metadata": {},
   "source": [
    "## Then get a simple file name you can stitch with the spectra"
   ]
  },
  {
   "cell_type": "code",
   "execution_count": 6,
   "id": "ea140384-9cb9-41bf-b57e-eb16120afe12",
   "metadata": {},
   "outputs": [
    {
     "name": "stdout",
     "output_type": "stream",
     "text": [
      "good job, no duplicate file names\n"
     ]
    },
    {
     "data": {
      "text/plain": [
       "'K21-59-FI#1'"
      ]
     },
     "execution_count": 6,
     "metadata": {},
     "output_type": "execute_result"
    }
   ],
   "source": [
    "file_m=pf.extracting_filenames_generic(names=meta['filename'],\n",
    "   file_type='.txt')\n",
    "# Checks they are all unique\n",
    "file_m[0]"
   ]
  },
  {
   "attachments": {},
   "cell_type": "markdown",
   "id": "80671930-57b4-476b-aec2-0aaf23f072b5",
   "metadata": {},
   "source": [
    "## Now get filename from spectra into same form as metadata"
   ]
  },
  {
   "cell_type": "code",
   "execution_count": 7,
   "id": "5f50eae0-1a22-4d35-ba87-0d853343d859",
   "metadata": {},
   "outputs": [
    {
     "name": "stdout",
     "output_type": "stream",
     "text": [
      "good job, no duplicate file names\n"
     ]
    }
   ],
   "source": [
    "# Remove these to get the pure file name\n",
    "file_s=pf.extracting_filenames_generic(\n",
    "    prefix=prefix, str_prefix=str_prefix,\n",
    "    names=df2['filename'].reset_index(drop=True),\n",
    "   file_type='.txt')\n",
    "\n",
    "# Remove the cosmic rays, as doesnt have it in the metatdata\n",
    "file_s = np.char.replace(file_s.astype(str), \"_CRR_DiadFit\", \"\")"
   ]
  },
  {
   "cell_type": "code",
   "execution_count": 8,
   "id": "51df3d2d-72d3-44fa-a076-b087cfdb5eef",
   "metadata": {},
   "outputs": [
    {
     "data": {
      "text/html": [
       "<div>\n",
       "<style scoped>\n",
       "    .dataframe tbody tr th:only-of-type {\n",
       "        vertical-align: middle;\n",
       "    }\n",
       "\n",
       "    .dataframe tbody tr th {\n",
       "        vertical-align: top;\n",
       "    }\n",
       "\n",
       "    .dataframe thead th {\n",
       "        text-align: right;\n",
       "    }\n",
       "</style>\n",
       "<table border=\"1\" class=\"dataframe\">\n",
       "  <thead>\n",
       "    <tr style=\"text-align: right;\">\n",
       "      <th></th>\n",
       "      <th>filename_x</th>\n",
       "      <th>Splitting</th>\n",
       "      <th>Split_σ</th>\n",
       "      <th>Split_err_abs</th>\n",
       "      <th>Diad1_Combofit_Cent</th>\n",
       "      <th>Diad1_cent_err</th>\n",
       "      <th>Diad1_Combofit_Height</th>\n",
       "      <th>Diad1_Voigt_Cent</th>\n",
       "      <th>Diad1_Voigt_Area</th>\n",
       "      <th>Diad1_Voigt_Sigma</th>\n",
       "      <th>...</th>\n",
       "      <th>Month</th>\n",
       "      <th>Day</th>\n",
       "      <th>power (mW)</th>\n",
       "      <th>Int_time (s)</th>\n",
       "      <th>accumulations</th>\n",
       "      <th>Mag (X)</th>\n",
       "      <th>duration</th>\n",
       "      <th>24hr_time</th>\n",
       "      <th>sec since midnight</th>\n",
       "      <th>Spectral Center</th>\n",
       "    </tr>\n",
       "  </thead>\n",
       "  <tbody>\n",
       "    <tr>\n",
       "      <th>0</th>\n",
       "      <td>K21-59-FI#1_CRR_DiadFit</td>\n",
       "      <td>103.057930</td>\n",
       "      <td>0.004029</td>\n",
       "      <td>0.005424</td>\n",
       "      <td>1286.035372</td>\n",
       "      <td>0.003584</td>\n",
       "      <td>591.792421</td>\n",
       "      <td>1286.035422</td>\n",
       "      <td>605.447362</td>\n",
       "      <td>0.434264</td>\n",
       "      <td>...</td>\n",
       "      <td>October</td>\n",
       "      <td>28.0</td>\n",
       "      <td>12.078</td>\n",
       "      <td>45.0</td>\n",
       "      <td>5.0</td>\n",
       "      <td>50.0</td>\n",
       "      <td>['0h', '3m', '47s']</td>\n",
       "      <td>12:09:55 PM\\n</td>\n",
       "      <td>43795.0</td>\n",
       "      <td>1325.004</td>\n",
       "    </tr>\n",
       "    <tr>\n",
       "      <th>1</th>\n",
       "      <td>K21-59-FI#2</td>\n",
       "      <td>103.011311</td>\n",
       "      <td>0.011688</td>\n",
       "      <td>0.016082</td>\n",
       "      <td>1286.157455</td>\n",
       "      <td>0.009950</td>\n",
       "      <td>227.655256</td>\n",
       "      <td>1286.157505</td>\n",
       "      <td>198.574397</td>\n",
       "      <td>0.409721</td>\n",
       "      <td>...</td>\n",
       "      <td>October</td>\n",
       "      <td>28.0</td>\n",
       "      <td>12.068</td>\n",
       "      <td>45.0</td>\n",
       "      <td>5.0</td>\n",
       "      <td>50.0</td>\n",
       "      <td>['0h', '3m', '47s']</td>\n",
       "      <td>12:19:53 PM\\n</td>\n",
       "      <td>44393.0</td>\n",
       "      <td>1325.004</td>\n",
       "    </tr>\n",
       "    <tr>\n",
       "      <th>2</th>\n",
       "      <td>K21-59-FI#3</td>\n",
       "      <td>103.046227</td>\n",
       "      <td>0.003908</td>\n",
       "      <td>0.005329</td>\n",
       "      <td>1286.074215</td>\n",
       "      <td>0.003398</td>\n",
       "      <td>570.233153</td>\n",
       "      <td>1286.074265</td>\n",
       "      <td>580.899302</td>\n",
       "      <td>0.422487</td>\n",
       "      <td>...</td>\n",
       "      <td>October</td>\n",
       "      <td>28.0</td>\n",
       "      <td>12.064</td>\n",
       "      <td>45.0</td>\n",
       "      <td>5.0</td>\n",
       "      <td>50.0</td>\n",
       "      <td>['0h', '3m', '47s']</td>\n",
       "      <td>12:32:26 PM\\n</td>\n",
       "      <td>45146.0</td>\n",
       "      <td>1325.004</td>\n",
       "    </tr>\n",
       "    <tr>\n",
       "      <th>3</th>\n",
       "      <td>K21-61-FI#1-rep1_CRR_DiadFit</td>\n",
       "      <td>103.312261</td>\n",
       "      <td>0.031987</td>\n",
       "      <td>0.042104</td>\n",
       "      <td>1285.431180</td>\n",
       "      <td>0.029323</td>\n",
       "      <td>66.226323</td>\n",
       "      <td>1285.431180</td>\n",
       "      <td>80.426681</td>\n",
       "      <td>0.570436</td>\n",
       "      <td>...</td>\n",
       "      <td>October</td>\n",
       "      <td>28.0</td>\n",
       "      <td>12.046</td>\n",
       "      <td>45.0</td>\n",
       "      <td>5.0</td>\n",
       "      <td>50.0</td>\n",
       "      <td>['0h', '3m', '47s']</td>\n",
       "      <td>12:45:44 PM\\n</td>\n",
       "      <td>45944.0</td>\n",
       "      <td>1325.004</td>\n",
       "    </tr>\n",
       "    <tr>\n",
       "      <th>4</th>\n",
       "      <td>K21-61-FI#1-rep2_CRR_DiadFit</td>\n",
       "      <td>103.305046</td>\n",
       "      <td>0.003063</td>\n",
       "      <td>0.004135</td>\n",
       "      <td>1285.435753</td>\n",
       "      <td>0.002712</td>\n",
       "      <td>607.647353</td>\n",
       "      <td>1285.435803</td>\n",
       "      <td>895.504629</td>\n",
       "      <td>0.568594</td>\n",
       "      <td>...</td>\n",
       "      <td>October</td>\n",
       "      <td>28.0</td>\n",
       "      <td>12.030</td>\n",
       "      <td>45.0</td>\n",
       "      <td>5.0</td>\n",
       "      <td>50.0</td>\n",
       "      <td>['0h', '3m', '46s']</td>\n",
       "      <td>12:50:47 PM\\n</td>\n",
       "      <td>46247.0</td>\n",
       "      <td>1325.004</td>\n",
       "    </tr>\n",
       "  </tbody>\n",
       "</table>\n",
       "<p>5 rows × 54 columns</p>\n",
       "</div>"
      ],
      "text/plain": [
       "                     filename_x   Splitting   Split_σ  Split_err_abs  \\\n",
       "0       K21-59-FI#1_CRR_DiadFit  103.057930  0.004029       0.005424   \n",
       "1                   K21-59-FI#2  103.011311  0.011688       0.016082   \n",
       "2                   K21-59-FI#3  103.046227  0.003908       0.005329   \n",
       "3  K21-61-FI#1-rep1_CRR_DiadFit  103.312261  0.031987       0.042104   \n",
       "4  K21-61-FI#1-rep2_CRR_DiadFit  103.305046  0.003063       0.004135   \n",
       "\n",
       "   Diad1_Combofit_Cent  Diad1_cent_err  Diad1_Combofit_Height  \\\n",
       "0          1286.035372        0.003584             591.792421   \n",
       "1          1286.157455        0.009950             227.655256   \n",
       "2          1286.074215        0.003398             570.233153   \n",
       "3          1285.431180        0.029323              66.226323   \n",
       "4          1285.435753        0.002712             607.647353   \n",
       "\n",
       "   Diad1_Voigt_Cent  Diad1_Voigt_Area  Diad1_Voigt_Sigma  ...    Month   Day  \\\n",
       "0       1286.035422        605.447362           0.434264  ...  October  28.0   \n",
       "1       1286.157505        198.574397           0.409721  ...  October  28.0   \n",
       "2       1286.074265        580.899302           0.422487  ...  October  28.0   \n",
       "3       1285.431180         80.426681           0.570436  ...  October  28.0   \n",
       "4       1285.435803        895.504629           0.568594  ...  October  28.0   \n",
       "\n",
       "   power (mW) Int_time (s)  accumulations  Mag (X)             duration  \\\n",
       "0      12.078         45.0            5.0     50.0  ['0h', '3m', '47s']   \n",
       "1      12.068         45.0            5.0     50.0  ['0h', '3m', '47s']   \n",
       "2      12.064         45.0            5.0     50.0  ['0h', '3m', '47s']   \n",
       "3      12.046         45.0            5.0     50.0  ['0h', '3m', '47s']   \n",
       "4      12.030         45.0            5.0     50.0  ['0h', '3m', '46s']   \n",
       "\n",
       "       24hr_time  sec since midnight  Spectral Center  \n",
       "0  12:09:55 PM\\n             43795.0         1325.004  \n",
       "1  12:19:53 PM\\n             44393.0         1325.004  \n",
       "2  12:32:26 PM\\n             45146.0         1325.004  \n",
       "3  12:45:44 PM\\n             45944.0         1325.004  \n",
       "4  12:50:47 PM\\n             46247.0         1325.004  \n",
       "\n",
       "[5 rows x 54 columns]"
      ]
     },
     "execution_count": 8,
     "metadata": {},
     "output_type": "execute_result"
    }
   ],
   "source": [
    "# Combining them together\n",
    "meta['name_for_matching']=file_m\n",
    "df2['name_for_matching']=file_s\n",
    "df2['Name_for_Secondary_Phases']=file_s\n",
    "df_combo=pd.merge(df2, meta, on='name_for_matching').reset_index(drop=True)\n",
    "df_combo.head()"
   ]
  },
  {
   "attachments": {},
   "cell_type": "markdown",
   "id": "54b229a4-026d-4e4e-ab0a-ed0362566919",
   "metadata": {},
   "source": [
    "## If you have secondary phases, now is the time to merge those in"
   ]
  },
  {
   "cell_type": "code",
   "execution_count": 9,
   "id": "bc38474f-45cd-4fa5-beef-49db69e82989",
   "metadata": {},
   "outputs": [
    {
     "name": "stdout",
     "output_type": "stream",
     "text": [
      "Made a df!\n",
      "good job, no duplicate file names\n"
     ]
    }
   ],
   "source": [
    "df_combo_sec_phase=pf.merge_in_carb_SO2(\n",
    "df_combo=df_combo, file1_name='Carb_Peak_fits.xlsx', file2_name='SO2_Peak_fits.xlsx')\n",
    "df_combo_sec_phase.to_excel('FI_fitting_w_sec_phases.xlsx', index=False)"
   ]
  },
  {
   "cell_type": "code",
   "execution_count": 10,
   "id": "406347e9",
   "metadata": {},
   "outputs": [
    {
     "data": {
      "text/html": [
       "<div>\n",
       "<style scoped>\n",
       "    .dataframe tbody tr th:only-of-type {\n",
       "        vertical-align: middle;\n",
       "    }\n",
       "\n",
       "    .dataframe tbody tr th {\n",
       "        vertical-align: top;\n",
       "    }\n",
       "\n",
       "    .dataframe thead th {\n",
       "        text-align: right;\n",
       "    }\n",
       "</style>\n",
       "<table border=\"1\" class=\"dataframe\">\n",
       "  <thead>\n",
       "    <tr style=\"text-align: right;\">\n",
       "      <th></th>\n",
       "      <th>filename_x</th>\n",
       "      <th>Splitting</th>\n",
       "      <th>Split_σ</th>\n",
       "      <th>Split_err_abs</th>\n",
       "      <th>Diad1_Combofit_Cent</th>\n",
       "      <th>Diad1_cent_err</th>\n",
       "      <th>Diad1_Combofit_Height</th>\n",
       "      <th>Diad1_Voigt_Cent</th>\n",
       "      <th>Diad1_Voigt_Area</th>\n",
       "      <th>Diad1_Voigt_Sigma</th>\n",
       "      <th>...</th>\n",
       "      <th>filename</th>\n",
       "      <th>Peak_Cent_SO2</th>\n",
       "      <th>Peak_Area_SO2</th>\n",
       "      <th>Peak_Height_SO2</th>\n",
       "      <th>Model_name</th>\n",
       "      <th>Peak_Cent_Carb</th>\n",
       "      <th>Peak_Area_Carb</th>\n",
       "      <th>Peak_Height_Carb</th>\n",
       "      <th>Carb_Diad_Ratio</th>\n",
       "      <th>SO2_Diad_Ratio</th>\n",
       "    </tr>\n",
       "  </thead>\n",
       "  <tbody>\n",
       "    <tr>\n",
       "      <th>0</th>\n",
       "      <td>K21-59-FI#1_CRR_DiadFit</td>\n",
       "      <td>103.057930</td>\n",
       "      <td>0.004029</td>\n",
       "      <td>0.005424</td>\n",
       "      <td>1286.035372</td>\n",
       "      <td>0.003584</td>\n",
       "      <td>591.792421</td>\n",
       "      <td>1286.035422</td>\n",
       "      <td>605.447362</td>\n",
       "      <td>0.434264</td>\n",
       "      <td>...</td>\n",
       "      <td>K21-59-FI#1.txt</td>\n",
       "      <td>1151.271035</td>\n",
       "      <td>49.794305</td>\n",
       "      <td>26.997104</td>\n",
       "      <td>Spline</td>\n",
       "      <td>NaN</td>\n",
       "      <td>NaN</td>\n",
       "      <td>NaN</td>\n",
       "      <td>NaN</td>\n",
       "      <td>0.032879</td>\n",
       "    </tr>\n",
       "    <tr>\n",
       "      <th>1</th>\n",
       "      <td>K21-59-FI#2</td>\n",
       "      <td>103.011311</td>\n",
       "      <td>0.011688</td>\n",
       "      <td>0.016082</td>\n",
       "      <td>1286.157455</td>\n",
       "      <td>0.009950</td>\n",
       "      <td>227.655256</td>\n",
       "      <td>1286.157505</td>\n",
       "      <td>198.574397</td>\n",
       "      <td>0.409721</td>\n",
       "      <td>...</td>\n",
       "      <td>NaN</td>\n",
       "      <td>NaN</td>\n",
       "      <td>NaN</td>\n",
       "      <td>NaN</td>\n",
       "      <td>NaN</td>\n",
       "      <td>NaN</td>\n",
       "      <td>NaN</td>\n",
       "      <td>NaN</td>\n",
       "      <td>NaN</td>\n",
       "      <td>NaN</td>\n",
       "    </tr>\n",
       "    <tr>\n",
       "      <th>2</th>\n",
       "      <td>K21-59-FI#3</td>\n",
       "      <td>103.046227</td>\n",
       "      <td>0.003908</td>\n",
       "      <td>0.005329</td>\n",
       "      <td>1286.074215</td>\n",
       "      <td>0.003398</td>\n",
       "      <td>570.233153</td>\n",
       "      <td>1286.074265</td>\n",
       "      <td>580.899302</td>\n",
       "      <td>0.422487</td>\n",
       "      <td>...</td>\n",
       "      <td>NaN</td>\n",
       "      <td>NaN</td>\n",
       "      <td>NaN</td>\n",
       "      <td>NaN</td>\n",
       "      <td>NaN</td>\n",
       "      <td>NaN</td>\n",
       "      <td>NaN</td>\n",
       "      <td>NaN</td>\n",
       "      <td>NaN</td>\n",
       "      <td>NaN</td>\n",
       "    </tr>\n",
       "    <tr>\n",
       "      <th>3</th>\n",
       "      <td>K21-61-FI#1-rep1_CRR_DiadFit</td>\n",
       "      <td>103.312261</td>\n",
       "      <td>0.031987</td>\n",
       "      <td>0.042104</td>\n",
       "      <td>1285.431180</td>\n",
       "      <td>0.029323</td>\n",
       "      <td>66.226323</td>\n",
       "      <td>1285.431180</td>\n",
       "      <td>80.426681</td>\n",
       "      <td>0.570436</td>\n",
       "      <td>...</td>\n",
       "      <td>NaN</td>\n",
       "      <td>NaN</td>\n",
       "      <td>NaN</td>\n",
       "      <td>NaN</td>\n",
       "      <td>NaN</td>\n",
       "      <td>NaN</td>\n",
       "      <td>NaN</td>\n",
       "      <td>NaN</td>\n",
       "      <td>NaN</td>\n",
       "      <td>NaN</td>\n",
       "    </tr>\n",
       "    <tr>\n",
       "      <th>4</th>\n",
       "      <td>K21-61-FI#1-rep2_CRR_DiadFit</td>\n",
       "      <td>103.305046</td>\n",
       "      <td>0.003063</td>\n",
       "      <td>0.004135</td>\n",
       "      <td>1285.435753</td>\n",
       "      <td>0.002712</td>\n",
       "      <td>607.647353</td>\n",
       "      <td>1285.435803</td>\n",
       "      <td>895.504629</td>\n",
       "      <td>0.568594</td>\n",
       "      <td>...</td>\n",
       "      <td>K21-61-FI#1-rep2.txt</td>\n",
       "      <td>NaN</td>\n",
       "      <td>NaN</td>\n",
       "      <td>NaN</td>\n",
       "      <td>NaN</td>\n",
       "      <td>1090.919723</td>\n",
       "      <td>900.825267</td>\n",
       "      <td>43.734455</td>\n",
       "      <td>0.38602</td>\n",
       "      <td>NaN</td>\n",
       "    </tr>\n",
       "  </tbody>\n",
       "</table>\n",
       "<p>5 rows × 64 columns</p>\n",
       "</div>"
      ],
      "text/plain": [
       "                     filename_x   Splitting   Split_σ  Split_err_abs  \\\n",
       "0       K21-59-FI#1_CRR_DiadFit  103.057930  0.004029       0.005424   \n",
       "1                   K21-59-FI#2  103.011311  0.011688       0.016082   \n",
       "2                   K21-59-FI#3  103.046227  0.003908       0.005329   \n",
       "3  K21-61-FI#1-rep1_CRR_DiadFit  103.312261  0.031987       0.042104   \n",
       "4  K21-61-FI#1-rep2_CRR_DiadFit  103.305046  0.003063       0.004135   \n",
       "\n",
       "   Diad1_Combofit_Cent  Diad1_cent_err  Diad1_Combofit_Height  \\\n",
       "0          1286.035372        0.003584             591.792421   \n",
       "1          1286.157455        0.009950             227.655256   \n",
       "2          1286.074215        0.003398             570.233153   \n",
       "3          1285.431180        0.029323              66.226323   \n",
       "4          1285.435753        0.002712             607.647353   \n",
       "\n",
       "   Diad1_Voigt_Cent  Diad1_Voigt_Area  Diad1_Voigt_Sigma  ...  \\\n",
       "0       1286.035422        605.447362           0.434264  ...   \n",
       "1       1286.157505        198.574397           0.409721  ...   \n",
       "2       1286.074265        580.899302           0.422487  ...   \n",
       "3       1285.431180         80.426681           0.570436  ...   \n",
       "4       1285.435803        895.504629           0.568594  ...   \n",
       "\n",
       "               filename  Peak_Cent_SO2  Peak_Area_SO2 Peak_Height_SO2  \\\n",
       "0       K21-59-FI#1.txt    1151.271035      49.794305       26.997104   \n",
       "1                   NaN            NaN            NaN             NaN   \n",
       "2                   NaN            NaN            NaN             NaN   \n",
       "3                   NaN            NaN            NaN             NaN   \n",
       "4  K21-61-FI#1-rep2.txt            NaN            NaN             NaN   \n",
       "\n",
       "   Model_name  Peak_Cent_Carb  Peak_Area_Carb  Peak_Height_Carb  \\\n",
       "0      Spline             NaN             NaN               NaN   \n",
       "1         NaN             NaN             NaN               NaN   \n",
       "2         NaN             NaN             NaN               NaN   \n",
       "3         NaN             NaN             NaN               NaN   \n",
       "4         NaN     1090.919723      900.825267         43.734455   \n",
       "\n",
       "   Carb_Diad_Ratio  SO2_Diad_Ratio  \n",
       "0              NaN        0.032879  \n",
       "1              NaN             NaN  \n",
       "2              NaN             NaN  \n",
       "3              NaN             NaN  \n",
       "4          0.38602             NaN  \n",
       "\n",
       "[5 rows x 64 columns]"
      ]
     },
     "execution_count": 10,
     "metadata": {},
     "output_type": "execute_result"
    }
   ],
   "source": [
    "df_combo_sec_phase.head()"
   ]
  },
  {
   "cell_type": "code",
   "execution_count": null,
   "id": "fe4ba00c",
   "metadata": {},
   "outputs": [],
   "source": []
  },
  {
   "cell_type": "code",
   "execution_count": null,
   "id": "a290a591",
   "metadata": {},
   "outputs": [],
   "source": []
  }
 ],
 "metadata": {
  "kernelspec": {
   "display_name": "Python 3 (ipykernel)",
   "language": "python",
   "name": "python3"
  },
  "language_info": {
   "codemirror_mode": {
    "name": "ipython",
    "version": 3
   },
   "file_extension": ".py",
   "mimetype": "text/x-python",
   "name": "python",
   "nbconvert_exporter": "python",
   "pygments_lexer": "ipython3",
   "version": "3.9.13"
  }
 },
 "nbformat": 4,
 "nbformat_minor": 5
}
