{
 "cells": [
  {
   "cell_type": "markdown",
   "id": "0a5d30ae-095e-4406-aff7-a817c2603e2c",
   "metadata": {},
   "source": [
    "# 4. Stitch outputs together\n",
    "- Once you have fitted the weak, medium and dense diads, stitch them all together, and apply the Ne correction model"
   ]
  },
  {
   "cell_type": "code",
   "execution_count": 1,
   "id": "56f8c066-4754-4d3e-9217-ae9e8f792016",
   "metadata": {},
   "outputs": [
    {
     "data": {
      "text/plain": [
       "'0.0.60'"
      ]
     },
     "execution_count": 1,
     "metadata": {},
     "output_type": "execute_result"
    }
   ],
   "source": [
    "import numpy as np\n",
    "import pandas as pd\n",
    "import matplotlib.pyplot as plt\n",
    "import joblib\n",
    "import DiadFit as pf\n",
    "pf.__version__"
   ]
  },
  {
   "cell_type": "code",
   "execution_count": 2,
   "id": "cab54670-2019-40be-b7d8-588189ac9ced",
   "metadata": {},
   "outputs": [],
   "source": [
    "import os\n",
    "DayFolder=os.getcwd()\n",
    "meta_path=DayFolder +  '\\MetaData'\n",
    "spectra_path=DayFolder + '\\Spectra'"
   ]
  },
  {
   "cell_type": "markdown",
   "id": "8230f033-6c2c-4494-a554-885ab21b2e21",
   "metadata": {},
   "source": [
    "## Load in specra, and combine"
   ]
  },
  {
   "cell_type": "code",
   "execution_count": 3,
   "id": "0b0bb450-0872-44f7-b99e-2585f994efde",
   "metadata": {},
   "outputs": [],
   "source": [
    "import os.path\n",
    "from os import path\n",
    "if path.exists('Discarded_df.xlsx'):\n",
    "    discard=pd.read_excel('Discarded_df.xlsx')\n",
    "else:\n",
    "    discard=None\n",
    "if path.exists('Weak_Diads.xlsx'):\n",
    "    grp1=pd.read_excel('Weak_Diads.xlsx')\n",
    "else:\n",
    "    grp1=None\n",
    "if path.exists('Medium_Diads.xlsx'):\n",
    "    grp2=pd.read_excel('Medium_Diads.xlsx')\n",
    "else:\n",
    "    grp2=None\n",
    "if path.exists('Strong_Diads.xlsx'):\n",
    "    grp3=pd.read_excel('Strong_Diads.xlsx')\n",
    "else:\n",
    "    grp3=None\n",
    "df2=pd.concat([grp1, grp2, grp3], axis=0)\n",
    "if discard is not None:\n",
    "    discard_cols=discard[discard.columns.intersection(df2.columns)]\n",
    "    df2=pd.concat([df2, discard_cols])"
   ]
  },
  {
   "cell_type": "code",
   "execution_count": 4,
   "id": "3a7ed038-f31a-41d8-9f30-c278103c56a6",
   "metadata": {},
   "outputs": [
    {
     "data": {
      "text/html": [
       "<div>\n",
       "<style scoped>\n",
       "    .dataframe tbody tr th:only-of-type {\n",
       "        vertical-align: middle;\n",
       "    }\n",
       "\n",
       "    .dataframe tbody tr th {\n",
       "        vertical-align: top;\n",
       "    }\n",
       "\n",
       "    .dataframe thead th {\n",
       "        text-align: right;\n",
       "    }\n",
       "</style>\n",
       "<table border=\"1\" class=\"dataframe\">\n",
       "  <thead>\n",
       "    <tr style=\"text-align: right;\">\n",
       "      <th></th>\n",
       "      <th>Unnamed: 0</th>\n",
       "      <th>filename</th>\n",
       "      <th>Splitting</th>\n",
       "      <th>Split_err_abs</th>\n",
       "      <th>Split_err_quadrature</th>\n",
       "      <th>Diad1_Combofit_Cent</th>\n",
       "      <th>Diad1_cent_err</th>\n",
       "      <th>Diad1_Combofit_Height</th>\n",
       "      <th>Diad1_Voigt_Cent</th>\n",
       "      <th>Diad1_Voigt_Area</th>\n",
       "      <th>...</th>\n",
       "      <th>HB2_Sigma</th>\n",
       "      <th>C13_Cent</th>\n",
       "      <th>C13_Area</th>\n",
       "      <th>C13_Sigma</th>\n",
       "      <th>Diad2_Gauss_Cent</th>\n",
       "      <th>Diad2_Gauss_Area</th>\n",
       "      <th>Diad2_Gauss_Sigma</th>\n",
       "      <th>Diad1_Gauss_Cent</th>\n",
       "      <th>Diad1_Gauss_Area</th>\n",
       "      <th>Diad1_Gauss_Sigma</th>\n",
       "    </tr>\n",
       "  </thead>\n",
       "  <tbody>\n",
       "    <tr>\n",
       "      <th>0</th>\n",
       "      <td>0</td>\n",
       "      <td>K21-59-FI#1_CRR_DiadFit</td>\n",
       "      <td>103.058246</td>\n",
       "      <td>NaN</td>\n",
       "      <td>NaN</td>\n",
       "      <td>1286.035114</td>\n",
       "      <td>0.00436</td>\n",
       "      <td>592.273795</td>\n",
       "      <td>1286.035114</td>\n",
       "      <td>607.861450</td>\n",
       "      <td>...</td>\n",
       "      <td>NaN</td>\n",
       "      <td>NaN</td>\n",
       "      <td>NaN</td>\n",
       "      <td>NaN</td>\n",
       "      <td>NaN</td>\n",
       "      <td>NaN</td>\n",
       "      <td>NaN</td>\n",
       "      <td>NaN</td>\n",
       "      <td>NaN</td>\n",
       "      <td>NaN</td>\n",
       "    </tr>\n",
       "    <tr>\n",
       "      <th>1</th>\n",
       "      <td>0</td>\n",
       "      <td>K21-59-FI#2</td>\n",
       "      <td>103.010689</td>\n",
       "      <td>0.01727</td>\n",
       "      <td>0.012237</td>\n",
       "      <td>1286.157463</td>\n",
       "      <td>0.00919</td>\n",
       "      <td>227.669921</td>\n",
       "      <td>1286.157463</td>\n",
       "      <td>201.585656</td>\n",
       "      <td>...</td>\n",
       "      <td>NaN</td>\n",
       "      <td>NaN</td>\n",
       "      <td>NaN</td>\n",
       "      <td>NaN</td>\n",
       "      <td>NaN</td>\n",
       "      <td>NaN</td>\n",
       "      <td>NaN</td>\n",
       "      <td>NaN</td>\n",
       "      <td>NaN</td>\n",
       "      <td>NaN</td>\n",
       "    </tr>\n",
       "    <tr>\n",
       "      <th>2</th>\n",
       "      <td>0</td>\n",
       "      <td>K21-59-FI#3_CRR_DiadFit</td>\n",
       "      <td>103.046333</td>\n",
       "      <td>0.00848</td>\n",
       "      <td>0.006020</td>\n",
       "      <td>1286.074091</td>\n",
       "      <td>0.00462</td>\n",
       "      <td>570.408880</td>\n",
       "      <td>1286.074091</td>\n",
       "      <td>582.296696</td>\n",
       "      <td>...</td>\n",
       "      <td>NaN</td>\n",
       "      <td>NaN</td>\n",
       "      <td>NaN</td>\n",
       "      <td>NaN</td>\n",
       "      <td>NaN</td>\n",
       "      <td>NaN</td>\n",
       "      <td>NaN</td>\n",
       "      <td>NaN</td>\n",
       "      <td>NaN</td>\n",
       "      <td>NaN</td>\n",
       "    </tr>\n",
       "    <tr>\n",
       "      <th>3</th>\n",
       "      <td>0</td>\n",
       "      <td>K21-61-FI#1-rep1_CRR_DiadFit</td>\n",
       "      <td>103.310206</td>\n",
       "      <td>0.04220</td>\n",
       "      <td>0.031913</td>\n",
       "      <td>1285.431901</td>\n",
       "      <td>0.02910</td>\n",
       "      <td>66.022125</td>\n",
       "      <td>1285.431901</td>\n",
       "      <td>82.081753</td>\n",
       "      <td>...</td>\n",
       "      <td>NaN</td>\n",
       "      <td>NaN</td>\n",
       "      <td>NaN</td>\n",
       "      <td>NaN</td>\n",
       "      <td>NaN</td>\n",
       "      <td>NaN</td>\n",
       "      <td>NaN</td>\n",
       "      <td>NaN</td>\n",
       "      <td>NaN</td>\n",
       "      <td>NaN</td>\n",
       "    </tr>\n",
       "    <tr>\n",
       "      <th>4</th>\n",
       "      <td>0</td>\n",
       "      <td>K21-61-FI#1-rep2_CRR_DiadFit</td>\n",
       "      <td>103.304614</td>\n",
       "      <td>0.00626</td>\n",
       "      <td>0.004443</td>\n",
       "      <td>1285.435763</td>\n",
       "      <td>0.00286</td>\n",
       "      <td>607.809997</td>\n",
       "      <td>1285.435763</td>\n",
       "      <td>895.852963</td>\n",
       "      <td>...</td>\n",
       "      <td>NaN</td>\n",
       "      <td>NaN</td>\n",
       "      <td>NaN</td>\n",
       "      <td>NaN</td>\n",
       "      <td>NaN</td>\n",
       "      <td>NaN</td>\n",
       "      <td>NaN</td>\n",
       "      <td>NaN</td>\n",
       "      <td>NaN</td>\n",
       "      <td>NaN</td>\n",
       "    </tr>\n",
       "  </tbody>\n",
       "</table>\n",
       "<p>5 rows × 41 columns</p>\n",
       "</div>"
      ],
      "text/plain": [
       "  Unnamed: 0                      filename   Splitting  Split_err_abs  \\\n",
       "0          0       K21-59-FI#1_CRR_DiadFit  103.058246            NaN   \n",
       "1          0                   K21-59-FI#2  103.010689        0.01727   \n",
       "2          0       K21-59-FI#3_CRR_DiadFit  103.046333        0.00848   \n",
       "3          0  K21-61-FI#1-rep1_CRR_DiadFit  103.310206        0.04220   \n",
       "4          0  K21-61-FI#1-rep2_CRR_DiadFit  103.304614        0.00626   \n",
       "\n",
       "   Split_err_quadrature  Diad1_Combofit_Cent  Diad1_cent_err  \\\n",
       "0                   NaN          1286.035114         0.00436   \n",
       "1              0.012237          1286.157463         0.00919   \n",
       "2              0.006020          1286.074091         0.00462   \n",
       "3              0.031913          1285.431901         0.02910   \n",
       "4              0.004443          1285.435763         0.00286   \n",
       "\n",
       "   Diad1_Combofit_Height  Diad1_Voigt_Cent  Diad1_Voigt_Area  ...  HB2_Sigma  \\\n",
       "0             592.273795       1286.035114        607.861450  ...        NaN   \n",
       "1             227.669921       1286.157463        201.585656  ...        NaN   \n",
       "2             570.408880       1286.074091        582.296696  ...        NaN   \n",
       "3              66.022125       1285.431901         82.081753  ...        NaN   \n",
       "4             607.809997       1285.435763        895.852963  ...        NaN   \n",
       "\n",
       "   C13_Cent  C13_Area  C13_Sigma Diad2_Gauss_Cent  Diad2_Gauss_Area  \\\n",
       "0       NaN       NaN        NaN              NaN               NaN   \n",
       "1       NaN       NaN        NaN              NaN               NaN   \n",
       "2       NaN       NaN        NaN              NaN               NaN   \n",
       "3       NaN       NaN        NaN              NaN               NaN   \n",
       "4       NaN       NaN        NaN              NaN               NaN   \n",
       "\n",
       "   Diad2_Gauss_Sigma  Diad1_Gauss_Cent  Diad1_Gauss_Area  Diad1_Gauss_Sigma  \n",
       "0                NaN               NaN               NaN                NaN  \n",
       "1                NaN               NaN               NaN                NaN  \n",
       "2                NaN               NaN               NaN                NaN  \n",
       "3                NaN               NaN               NaN                NaN  \n",
       "4                NaN               NaN               NaN                NaN  \n",
       "\n",
       "[5 rows x 41 columns]"
      ]
     },
     "execution_count": 4,
     "metadata": {},
     "output_type": "execute_result"
    }
   ],
   "source": [
    "df2.head()"
   ]
  },
  {
   "cell_type": "markdown",
   "id": "6449c9b4-d538-4d37-ad78-49c87aa677af",
   "metadata": {},
   "source": [
    "## First, get the metadata for this day"
   ]
  },
  {
   "cell_type": "code",
   "execution_count": 5,
   "id": "027e3ea1-f4ef-4c53-a57d-977e1f639ec9",
   "metadata": {},
   "outputs": [
    {
     "data": {
      "text/plain": [
       "['K21-59-FI#1-IMG (1).txt',\n",
       " 'K21-59-FI#1-IMG.txt',\n",
       " 'K21-59-FI#1.txt',\n",
       " 'K21-59-FI#2-IMG.txt',\n",
       " 'K21-59-FI#2.txt',\n",
       " 'K21-59-FI#3-IMG.txt',\n",
       " 'K21-59-FI#3.txt',\n",
       " 'K21-59-IMG5x.txt',\n",
       " 'K21-60-IMG5x.txt',\n",
       " 'K21-61-FI#1-IMG.txt',\n",
       " 'K21-61-FI#1-rep1.txt',\n",
       " 'K21-61-FI#1-rep2.txt',\n",
       " 'K21-61-FI#2-IMG.txt',\n",
       " 'K21-61-FI#2.txt',\n",
       " 'K21-61-FI#3-IMG.txt',\n",
       " 'K21-61-FI#3.txt',\n",
       " 'K21-61-IMG5x.txt',\n",
       " 'K21-62-FI#1-IMG.txt',\n",
       " 'K21-62-FI#1-nodiad.txt',\n",
       " 'K21-62-FI#2-IMG.txt',\n",
       " 'K21-62-FI#2-nodiad.txt',\n",
       " 'K21-62-IMG5x.txt',\n",
       " 'K21-63-FI#1-IMG.txt',\n",
       " 'K21-63-FI#1.txt',\n",
       " 'K21-63-IMG5x.txt',\n",
       " 'K21-64-FI#1-IMG.txt',\n",
       " 'K21-64-FI#1.txt',\n",
       " 'K21-64-FI#2-IMG.txt',\n",
       " 'K21-64-FI#2.txt',\n",
       " 'K21-64-FI#3-IMG.txt',\n",
       " 'K21-64-FI#3.txt',\n",
       " 'K21-64-FI#4-IMG.txt',\n",
       " 'K21-64-FI#4.txt',\n",
       " 'K21-64-FI#5-IMG.txt',\n",
       " 'K21-64-FI#5.txt',\n",
       " 'K21-64-FI#6-IMG.txt',\n",
       " 'K21-64-FI#6.txt',\n",
       " 'K21-64-FI#7-IMG.txt',\n",
       " 'K21-64-FI#7.txt',\n",
       " 'K21-64-FI#8-IMG.txt',\n",
       " 'K21-64-FI#8.txt',\n",
       " 'K21-64-IMG5x.txt']"
      ]
     },
     "execution_count": 5,
     "metadata": {},
     "output_type": "execute_result"
    }
   ],
   "source": [
    "# Put the common string you can in all your Ne lines here\n",
    "ID_str='_'\n",
    "file_ext_meta='txt' # Will only take files of this type \n",
    "diad_meta=pf.get_files(path=meta_path,\n",
    "file_ext='txt', exclude_str=['N', 'FG', 'Cap','window'],\n",
    " sort=True)\n",
    "diad_meta"
   ]
  },
  {
   "cell_type": "markdown",
   "id": "378575ca-336b-4f04-bc6e-cf397dfdc56e",
   "metadata": {},
   "source": [
    "## Now get all the important information out of the metadata files"
   ]
  },
  {
   "cell_type": "code",
   "execution_count": 6,
   "id": "57ebb7b9-5c4f-4b49-9686-36f0d2ec9e8d",
   "metadata": {},
   "outputs": [
    {
     "name": "stderr",
     "output_type": "stream",
     "text": [
      "100%|██████████████████████████████████████████████████████████████████████████████████| 42/42 [00:01<00:00, 34.58it/s]\n"
     ]
    },
    {
     "name": "stdout",
     "output_type": "stream",
     "text": [
      "Done\n"
     ]
    },
    {
     "data": {
      "text/plain": [
       "'K21-59-FI#1.txt'"
      ]
     },
     "execution_count": 6,
     "metadata": {},
     "output_type": "execute_result"
    }
   ],
   "source": [
    "meta=pf.stitch_metadata_in_loop_witec(path=meta_path, \n",
    "Allfiles=diad_meta, prefix=False,\n",
    "trupower=False)\n",
    "meta['filename'].iloc[0]"
   ]
  },
  {
   "cell_type": "markdown",
   "id": "b7a6fbc0-2b4a-4f4b-8cfd-cc227047d833",
   "metadata": {},
   "source": [
    "## Then get a simple file name you can stitch with the spectra"
   ]
  },
  {
   "cell_type": "code",
   "execution_count": 7,
   "id": "ea140384-9cb9-41bf-b57e-eb16120afe12",
   "metadata": {},
   "outputs": [
    {
     "name": "stdout",
     "output_type": "stream",
     "text": [
      "good job, no duplicate file names\n"
     ]
    },
    {
     "data": {
      "text/plain": [
       "'K21-59-FI#1'"
      ]
     },
     "execution_count": 7,
     "metadata": {},
     "output_type": "execute_result"
    }
   ],
   "source": [
    "file_m=pf.extracting_filenames_generic(names=meta['filename'],\n",
    "    prefix=False, str_prefix=\" \",\n",
    "   file_type='.txt')\n",
    "# Checks they are all unique\n",
    "file_m[0]"
   ]
  },
  {
   "cell_type": "markdown",
   "id": "80671930-57b4-476b-aec2-0aaf23f072b5",
   "metadata": {},
   "source": [
    "## Now get filename from spectra into same form as metadata"
   ]
  },
  {
   "cell_type": "code",
   "execution_count": 8,
   "id": "5f50eae0-1a22-4d35-ba87-0d853343d859",
   "metadata": {},
   "outputs": [
    {
     "name": "stdout",
     "output_type": "stream",
     "text": [
      "good job, no duplicate file names\n"
     ]
    }
   ],
   "source": [
    "# Remove these to get the pure file name\n",
    "file_s=pf.extracting_filenames_generic(\n",
    "    prefix=False, str_prefix=\" \",\n",
    "    names=df2['filename'].reset_index(drop=True),\n",
    "   file_type='.txt')\n",
    "\n",
    "# Remove the cosmic rays, as doesnt have it in the metatdata\n",
    "file_s = np.char.replace(file_s.astype(str), \"_CRR_DiadFit\", \"\")"
   ]
  },
  {
   "cell_type": "code",
   "execution_count": 9,
   "id": "c53ee945-9b20-473d-9cef-4cfe427ad368",
   "metadata": {},
   "outputs": [
    {
     "data": {
      "text/plain": [
       "array(['K21-59-FI#1', 'K21-59-FI#2', 'K21-59-FI#3', 'K21-61-FI#1-rep1',\n",
       "       'K21-61-FI#1-rep2', 'K21-63-FI#1', 'K21-64-FI#2', 'K21-64-FI#8',\n",
       "       'K21-61-FI#2', 'K21-61-FI#3', 'K21-64-FI#1', 'K21-64-FI#3',\n",
       "       'K21-64-FI#4', 'K21-64-FI#5', 'K21-64-FI#6', 'K21-64-FI#7'],\n",
       "      dtype='<U16')"
      ]
     },
     "execution_count": 9,
     "metadata": {},
     "output_type": "execute_result"
    }
   ],
   "source": [
    "file_s"
   ]
  },
  {
   "cell_type": "code",
   "execution_count": 10,
   "id": "51df3d2d-72d3-44fa-a076-b087cfdb5eef",
   "metadata": {},
   "outputs": [],
   "source": [
    "# Combining them together\n",
    "meta['name_for_matching']=file_m\n",
    "df2['name_for_matching']=file_s\n",
    "df2['Name_for_Secondary_Phases']=file_s\n",
    "df_combo=df2.merge(meta, on='name_for_matching')"
   ]
  },
  {
   "cell_type": "code",
   "execution_count": 11,
   "id": "e66609f2-04a8-4d70-9b9a-dfb9eb9aef6f",
   "metadata": {},
   "outputs": [],
   "source": [
    "from pickle import load\n",
    "import pickle\n",
    "import os\n",
    "pickle_path=os.getcwd()\n",
    "file_pkl=pickle_path + '/' + 'Ne_Line_Regression_Example_cali.pck'\n",
    "with open(file_pkl, 'rb') as file_handle:\n",
    "    my_loaded_model = pickle.load(file_handle)"
   ]
  },
  {
   "cell_type": "code",
   "execution_count": 12,
   "id": "524e4721-cc10-49c6-a262-e7795d5de57d",
   "metadata": {},
   "outputs": [
    {
     "name": "stdout",
     "output_type": "stream",
     "text": [
      "1\n"
     ]
    },
    {
     "data": {
      "text/html": [
       "<div>\n",
       "<style scoped>\n",
       "    .dataframe tbody tr th:only-of-type {\n",
       "        vertical-align: middle;\n",
       "    }\n",
       "\n",
       "    .dataframe tbody tr th {\n",
       "        vertical-align: top;\n",
       "    }\n",
       "\n",
       "    .dataframe thead th {\n",
       "        text-align: right;\n",
       "    }\n",
       "</style>\n",
       "<table border=\"1\" class=\"dataframe\">\n",
       "  <thead>\n",
       "    <tr style=\"text-align: right;\">\n",
       "      <th></th>\n",
       "      <th>time</th>\n",
       "      <th>preferred_values</th>\n",
       "      <th>lower_values</th>\n",
       "      <th>upper_values</th>\n",
       "    </tr>\n",
       "  </thead>\n",
       "  <tbody>\n",
       "    <tr>\n",
       "      <th>0</th>\n",
       "      <td>43795.0</td>\n",
       "      <td>0.997845</td>\n",
       "      <td>0.997840</td>\n",
       "      <td>0.997851</td>\n",
       "    </tr>\n",
       "    <tr>\n",
       "      <th>1</th>\n",
       "      <td>44393.0</td>\n",
       "      <td>0.997837</td>\n",
       "      <td>0.997832</td>\n",
       "      <td>0.997843</td>\n",
       "    </tr>\n",
       "    <tr>\n",
       "      <th>2</th>\n",
       "      <td>45146.0</td>\n",
       "      <td>0.997828</td>\n",
       "      <td>0.997823</td>\n",
       "      <td>0.997834</td>\n",
       "    </tr>\n",
       "    <tr>\n",
       "      <th>3</th>\n",
       "      <td>45944.0</td>\n",
       "      <td>0.997819</td>\n",
       "      <td>0.997814</td>\n",
       "      <td>0.997824</td>\n",
       "    </tr>\n",
       "    <tr>\n",
       "      <th>4</th>\n",
       "      <td>46247.0</td>\n",
       "      <td>0.997816</td>\n",
       "      <td>0.997810</td>\n",
       "      <td>0.997821</td>\n",
       "    </tr>\n",
       "  </tbody>\n",
       "</table>\n",
       "</div>"
      ],
      "text/plain": [
       "      time  preferred_values  lower_values  upper_values\n",
       "0  43795.0          0.997845      0.997840      0.997851\n",
       "1  44393.0          0.997837      0.997832      0.997843\n",
       "2  45146.0          0.997828      0.997823      0.997834\n",
       "3  45944.0          0.997819      0.997814      0.997824\n",
       "4  46247.0          0.997816      0.997810      0.997821"
      ]
     },
     "execution_count": 12,
     "metadata": {},
     "output_type": "execute_result"
    }
   ],
   "source": [
    "Ne_corr=pf.calculate_Ne_corr_std_err_values(pickle_str='polyfit_data.pkl', \n",
    "    new_x=df_combo['sec since midnight'], CI=0.67)\n",
    "Ne_corr.head()\n"
   ]
  },
  {
   "cell_type": "code",
   "execution_count": 13,
   "id": "9e07a032-4a70-42f9-a291-7ce1f3ed3839",
   "metadata": {},
   "outputs": [],
   "source": [
    "\n",
    "split_err=pf.propagate_errors_for_splitting(Ne_corr, df_combo)\n",
    "df_combo_out=df_combo.copy()\n",
    "df_combo_out.insert(1, 'Corrected_Splitting', df_combo['Splitting']*Ne_corr['preferred_values'])\n",
    "df_combo_out.insert(2, 'Corr_Split+1σ', df_combo_out['Corrected_Splitting']+split_err)\n",
    "df_combo_out.insert(3, 'Corr_Split-1σ',df_combo_out['Corrected_Splitting']-split_err)\n",
    "df_combo_out.insert(4, 'Corr_Split_1σ_val', split_err)\n",
    "df_combo_out.to_excel('FI_fitting.xlsx')"
   ]
  },
  {
   "cell_type": "markdown",
   "id": "54b229a4-026d-4e4e-ab0a-ed0362566919",
   "metadata": {},
   "source": [
    "## If you have secondary phases, now is the time to merge those in"
   ]
  },
  {
   "cell_type": "code",
   "execution_count": 14,
   "id": "bc38474f-45cd-4fa5-beef-49db69e82989",
   "metadata": {},
   "outputs": [
    {
     "data": {
      "text/html": [
       "<div>\n",
       "<style scoped>\n",
       "    .dataframe tbody tr th:only-of-type {\n",
       "        vertical-align: middle;\n",
       "    }\n",
       "\n",
       "    .dataframe tbody tr th {\n",
       "        vertical-align: top;\n",
       "    }\n",
       "\n",
       "    .dataframe thead th {\n",
       "        text-align: right;\n",
       "    }\n",
       "</style>\n",
       "<table border=\"1\" class=\"dataframe\">\n",
       "  <thead>\n",
       "    <tr style=\"text-align: right;\">\n",
       "      <th></th>\n",
       "      <th>filename</th>\n",
       "      <th>Peak_Cent_SO2</th>\n",
       "      <th>Peak_Area_SO2</th>\n",
       "      <th>Peak_Height_SO2</th>\n",
       "      <th>Model_name</th>\n",
       "      <th>Peak_Cent_Carb</th>\n",
       "      <th>Peak_Area_Carb</th>\n",
       "      <th>Peak_Height_Carb</th>\n",
       "    </tr>\n",
       "  </thead>\n",
       "  <tbody>\n",
       "    <tr>\n",
       "      <th>0</th>\n",
       "      <td>K21-63-FI#1.txt</td>\n",
       "      <td>1150.651590</td>\n",
       "      <td>74.099762</td>\n",
       "      <td>53.038837</td>\n",
       "      <td>Spline</td>\n",
       "      <td>NaN</td>\n",
       "      <td>NaN</td>\n",
       "      <td>NaN</td>\n",
       "    </tr>\n",
       "    <tr>\n",
       "      <th>1</th>\n",
       "      <td>K21-64-FI#1.txt</td>\n",
       "      <td>1150.681087</td>\n",
       "      <td>623.983358</td>\n",
       "      <td>433.118641</td>\n",
       "      <td>Spline</td>\n",
       "      <td>NaN</td>\n",
       "      <td>NaN</td>\n",
       "      <td>NaN</td>\n",
       "    </tr>\n",
       "    <tr>\n",
       "      <th>2</th>\n",
       "      <td>K21-64-FI#2.txt</td>\n",
       "      <td>1150.681087</td>\n",
       "      <td>342.336440</td>\n",
       "      <td>232.573817</td>\n",
       "      <td>Spline</td>\n",
       "      <td>NaN</td>\n",
       "      <td>NaN</td>\n",
       "      <td>NaN</td>\n",
       "    </tr>\n",
       "    <tr>\n",
       "      <th>3</th>\n",
       "      <td>K21-64-FI#3.txt</td>\n",
       "      <td>1150.651590</td>\n",
       "      <td>1075.733101</td>\n",
       "      <td>718.895719</td>\n",
       "      <td>Spline</td>\n",
       "      <td>NaN</td>\n",
       "      <td>NaN</td>\n",
       "      <td>NaN</td>\n",
       "    </tr>\n",
       "    <tr>\n",
       "      <th>4</th>\n",
       "      <td>K21-64-FI#5.txt</td>\n",
       "      <td>1150.651590</td>\n",
       "      <td>764.715578</td>\n",
       "      <td>491.481742</td>\n",
       "      <td>Spline</td>\n",
       "      <td>NaN</td>\n",
       "      <td>NaN</td>\n",
       "      <td>NaN</td>\n",
       "    </tr>\n",
       "  </tbody>\n",
       "</table>\n",
       "</div>"
      ],
      "text/plain": [
       "          filename  Peak_Cent_SO2  Peak_Area_SO2  Peak_Height_SO2 Model_name  \\\n",
       "0  K21-63-FI#1.txt    1150.651590      74.099762        53.038837     Spline   \n",
       "1  K21-64-FI#1.txt    1150.681087     623.983358       433.118641     Spline   \n",
       "2  K21-64-FI#2.txt    1150.681087     342.336440       232.573817     Spline   \n",
       "3  K21-64-FI#3.txt    1150.651590    1075.733101       718.895719     Spline   \n",
       "4  K21-64-FI#5.txt    1150.651590     764.715578       491.481742     Spline   \n",
       "\n",
       "   Peak_Cent_Carb  Peak_Area_Carb  Peak_Height_Carb  \n",
       "0             NaN             NaN               NaN  \n",
       "1             NaN             NaN               NaN  \n",
       "2             NaN             NaN               NaN  \n",
       "3             NaN             NaN               NaN  \n",
       "4             NaN             NaN               NaN  "
      ]
     },
     "execution_count": 14,
     "metadata": {},
     "output_type": "execute_result"
    }
   ],
   "source": [
    "if path.exists('Carb_Peak_fits.xlsx'):\n",
    "    Carb=pd.read_excel('Carb_Peak_fits.xlsx')\n",
    "else:\n",
    "    Carb=None\n",
    "if path.exists('SO2_Peak_fits.xlsx'):\n",
    "    SO2=pd.read_excel('SO2_Peak_fits.xlsx')\n",
    "else:\n",
    "    SO2=None\n",
    "if SO2 is not None and Carb is not None:\n",
    "    Sec_Phases=pd.merge(SO2, Carb, on='filename', how='outer')\n",
    "elif SO2 is not None and Carb is None:\n",
    "    Sec_Phases=SO2\n",
    "elif SO2 is None and Carb is not None:\n",
    "    Sec_Phases=Carb\n",
    "else:\n",
    "    Sec_Phases=None\n",
    "Sec_Phases.head()"
   ]
  },
  {
   "cell_type": "code",
   "execution_count": 15,
   "id": "e8c12b56-b12d-4331-b45c-a204526e502a",
   "metadata": {},
   "outputs": [
    {
     "name": "stdout",
     "output_type": "stream",
     "text": [
      "good job, no duplicate file names\n"
     ]
    }
   ],
   "source": [
    "# Remove these to get the pure file name\n",
    "if Sec_Phases is not None:\n",
    "    file_sec_phase=pf.extracting_filenames_generic(\n",
    "        prefix=False, str_prefix=\" \",\n",
    "        names=Sec_Phases['filename'].reset_index(drop=True),\n",
    "       file_type='.txt')\n",
    "\n",
    "    file_sec_phase"
   ]
  },
  {
   "cell_type": "code",
   "execution_count": 16,
   "id": "ff6b1419-fa62-443b-95f1-78299d7d5656",
   "metadata": {},
   "outputs": [
    {
     "data": {
      "text/plain": [
       "array(['K21-63-FI#1', 'K21-64-FI#1', 'K21-64-FI#2', 'K21-64-FI#3',\n",
       "       'K21-64-FI#5', 'K21-64-FI#6', 'K21-64-FI#7', 'K21-64-FI#8',\n",
       "       'K21-61-FI#1-rep2'], dtype=object)"
      ]
     },
     "execution_count": 16,
     "metadata": {},
     "output_type": "execute_result"
    }
   ],
   "source": [
    "file_sec_phase"
   ]
  },
  {
   "cell_type": "code",
   "execution_count": 17,
   "id": "56bacae4-1061-42b5-822a-4a58312a8c22",
   "metadata": {},
   "outputs": [
    {
     "data": {
      "text/plain": [
       "0          K21-59-FI#1\n",
       "1          K21-59-FI#2\n",
       "2          K21-59-FI#3\n",
       "3     K21-61-FI#1-rep1\n",
       "4     K21-61-FI#1-rep2\n",
       "5          K21-63-FI#1\n",
       "6          K21-64-FI#2\n",
       "7          K21-64-FI#8\n",
       "8          K21-61-FI#2\n",
       "9          K21-61-FI#3\n",
       "10         K21-64-FI#1\n",
       "11         K21-64-FI#3\n",
       "12         K21-64-FI#4\n",
       "13         K21-64-FI#5\n",
       "14         K21-64-FI#6\n",
       "15         K21-64-FI#7\n",
       "Name: name_for_matching, dtype: object"
      ]
     },
     "execution_count": 17,
     "metadata": {},
     "output_type": "execute_result"
    }
   ],
   "source": [
    "df_combo['name_for_matching']"
   ]
  },
  {
   "cell_type": "code",
   "execution_count": 18,
   "id": "f09b738b-d075-4f6a-b033-c19e7afd5e26",
   "metadata": {},
   "outputs": [],
   "source": [
    "df_combo['name_for_matching']=df_combo['Name_for_Secondary_Phases']\n",
    "\n",
    "if Sec_Phases is not None:\n",
    "    Sec_Phases['name_for_matching']=file_sec_phase\n",
    "    df_combo_sec_phase=df_combo_out.merge(Sec_Phases, \n",
    "    on='name_for_matching', how='outer')\n",
    "    \n",
    "else:\n",
    "    df_combo_sec_phase=df_combo_out"
   ]
  },
  {
   "cell_type": "markdown",
   "id": "299ea007-e39d-4ff7-8970-ccfbf9d5040c",
   "metadata": {},
   "source": [
    "### Add some more useful columns"
   ]
  },
  {
   "cell_type": "code",
   "execution_count": 19,
   "id": "97111939-e39c-43ce-8ea3-6bb9cd5d150d",
   "metadata": {},
   "outputs": [],
   "source": [
    "if 'Peak_Area_Carb' in df_combo_sec_phase.columns:\n",
    "    df_combo_sec_phase['Carb_Diad_Ratio']=(df_combo_sec_phase['Peak_Area_Carb']/(df_combo_sec_phase['Diad1_Voigt_Area']\n",
    "                      +df_combo_sec_phase['Diad2_Voigt_Area']))\n",
    "if 'Peak_Area_SO2' in df_combo_sec_phase.columns:\n",
    "    df_combo_sec_phase['SO2_Diad_Ratio']=(df_combo_sec_phase['Peak_Area_SO2']/(df_combo_sec_phase['Diad1_Voigt_Area']\n",
    "                      +df_combo_sec_phase['Diad2_Voigt_Area']))"
   ]
  },
  {
   "cell_type": "code",
   "execution_count": 20,
   "id": "9e5cffde-1b26-4aaf-b1c0-eb081c766242",
   "metadata": {},
   "outputs": [],
   "source": [
    "df_combo_sec_phase.to_excel('FI_fitting_w_sec_phases.xlsx')"
   ]
  },
  {
   "cell_type": "code",
   "execution_count": 21,
   "id": "cf26390f-c272-4cbe-a4fb-4dcaeb545ae1",
   "metadata": {},
   "outputs": [
    {
     "data": {
      "text/html": [
       "<div>\n",
       "<style scoped>\n",
       "    .dataframe tbody tr th:only-of-type {\n",
       "        vertical-align: middle;\n",
       "    }\n",
       "\n",
       "    .dataframe tbody tr th {\n",
       "        vertical-align: top;\n",
       "    }\n",
       "\n",
       "    .dataframe thead th {\n",
       "        text-align: right;\n",
       "    }\n",
       "</style>\n",
       "<table border=\"1\" class=\"dataframe\">\n",
       "  <thead>\n",
       "    <tr style=\"text-align: right;\">\n",
       "      <th></th>\n",
       "      <th>Unnamed: 0</th>\n",
       "      <th>Corrected_Splitting</th>\n",
       "      <th>Corr_Split+1σ</th>\n",
       "      <th>Corr_Split-1σ</th>\n",
       "      <th>Corr_Split_1σ_val</th>\n",
       "      <th>filename_x</th>\n",
       "      <th>Splitting</th>\n",
       "      <th>Split_err_abs</th>\n",
       "      <th>Split_err_quadrature</th>\n",
       "      <th>Diad1_Combofit_Cent</th>\n",
       "      <th>...</th>\n",
       "      <th>filename</th>\n",
       "      <th>Peak_Cent_SO2</th>\n",
       "      <th>Peak_Area_SO2</th>\n",
       "      <th>Peak_Height_SO2</th>\n",
       "      <th>Model_name</th>\n",
       "      <th>Peak_Cent_Carb</th>\n",
       "      <th>Peak_Area_Carb</th>\n",
       "      <th>Peak_Height_Carb</th>\n",
       "      <th>Carb_Diad_Ratio</th>\n",
       "      <th>SO2_Diad_Ratio</th>\n",
       "    </tr>\n",
       "  </thead>\n",
       "  <tbody>\n",
       "    <tr>\n",
       "      <th>0</th>\n",
       "      <td>0</td>\n",
       "      <td>102.836162</td>\n",
       "      <td>102.840549</td>\n",
       "      <td>102.831774</td>\n",
       "      <td>0.004388</td>\n",
       "      <td>K21-59-FI#1_CRR_DiadFit</td>\n",
       "      <td>103.058246</td>\n",
       "      <td>NaN</td>\n",
       "      <td>NaN</td>\n",
       "      <td>1286.035114</td>\n",
       "      <td>...</td>\n",
       "      <td>NaN</td>\n",
       "      <td>NaN</td>\n",
       "      <td>NaN</td>\n",
       "      <td>NaN</td>\n",
       "      <td>NaN</td>\n",
       "      <td>NaN</td>\n",
       "      <td>NaN</td>\n",
       "      <td>NaN</td>\n",
       "      <td>NaN</td>\n",
       "      <td>NaN</td>\n",
       "    </tr>\n",
       "    <tr>\n",
       "      <th>1</th>\n",
       "      <td>0</td>\n",
       "      <td>102.787916</td>\n",
       "      <td>102.800139</td>\n",
       "      <td>102.775692</td>\n",
       "      <td>0.012224</td>\n",
       "      <td>K21-59-FI#2</td>\n",
       "      <td>103.010689</td>\n",
       "      <td>0.01727</td>\n",
       "      <td>0.012237</td>\n",
       "      <td>1286.157463</td>\n",
       "      <td>...</td>\n",
       "      <td>NaN</td>\n",
       "      <td>NaN</td>\n",
       "      <td>NaN</td>\n",
       "      <td>NaN</td>\n",
       "      <td>NaN</td>\n",
       "      <td>NaN</td>\n",
       "      <td>NaN</td>\n",
       "      <td>NaN</td>\n",
       "      <td>NaN</td>\n",
       "      <td>NaN</td>\n",
       "    </tr>\n",
       "    <tr>\n",
       "      <th>2</th>\n",
       "      <td>0</td>\n",
       "      <td>102.822535</td>\n",
       "      <td>102.828568</td>\n",
       "      <td>102.816502</td>\n",
       "      <td>0.006033</td>\n",
       "      <td>K21-59-FI#3_CRR_DiadFit</td>\n",
       "      <td>103.046333</td>\n",
       "      <td>0.00848</td>\n",
       "      <td>0.006020</td>\n",
       "      <td>1286.074091</td>\n",
       "      <td>...</td>\n",
       "      <td>NaN</td>\n",
       "      <td>NaN</td>\n",
       "      <td>NaN</td>\n",
       "      <td>NaN</td>\n",
       "      <td>NaN</td>\n",
       "      <td>NaN</td>\n",
       "      <td>NaN</td>\n",
       "      <td>NaN</td>\n",
       "      <td>NaN</td>\n",
       "      <td>NaN</td>\n",
       "    </tr>\n",
       "    <tr>\n",
       "      <th>3</th>\n",
       "      <td>0</td>\n",
       "      <td>103.084886</td>\n",
       "      <td>103.116734</td>\n",
       "      <td>103.053038</td>\n",
       "      <td>0.031848</td>\n",
       "      <td>K21-61-FI#1-rep1_CRR_DiadFit</td>\n",
       "      <td>103.310206</td>\n",
       "      <td>0.04220</td>\n",
       "      <td>0.031913</td>\n",
       "      <td>1285.431901</td>\n",
       "      <td>...</td>\n",
       "      <td>NaN</td>\n",
       "      <td>NaN</td>\n",
       "      <td>NaN</td>\n",
       "      <td>NaN</td>\n",
       "      <td>NaN</td>\n",
       "      <td>NaN</td>\n",
       "      <td>NaN</td>\n",
       "      <td>NaN</td>\n",
       "      <td>NaN</td>\n",
       "      <td>NaN</td>\n",
       "    </tr>\n",
       "    <tr>\n",
       "      <th>4</th>\n",
       "      <td>0</td>\n",
       "      <td>103.078963</td>\n",
       "      <td>103.083430</td>\n",
       "      <td>103.074495</td>\n",
       "      <td>0.004467</td>\n",
       "      <td>K21-61-FI#1-rep2_CRR_DiadFit</td>\n",
       "      <td>103.304614</td>\n",
       "      <td>0.00626</td>\n",
       "      <td>0.004443</td>\n",
       "      <td>1285.435763</td>\n",
       "      <td>...</td>\n",
       "      <td>K21-61-FI#1-rep2.txt</td>\n",
       "      <td>NaN</td>\n",
       "      <td>NaN</td>\n",
       "      <td>NaN</td>\n",
       "      <td>NaN</td>\n",
       "      <td>1090.919723</td>\n",
       "      <td>900.825267</td>\n",
       "      <td>43.734455</td>\n",
       "      <td>0.387942</td>\n",
       "      <td>NaN</td>\n",
       "    </tr>\n",
       "  </tbody>\n",
       "</table>\n",
       "<p>5 rows × 69 columns</p>\n",
       "</div>"
      ],
      "text/plain": [
       "  Unnamed: 0  Corrected_Splitting  Corr_Split+1σ  Corr_Split-1σ  \\\n",
       "0          0           102.836162     102.840549     102.831774   \n",
       "1          0           102.787916     102.800139     102.775692   \n",
       "2          0           102.822535     102.828568     102.816502   \n",
       "3          0           103.084886     103.116734     103.053038   \n",
       "4          0           103.078963     103.083430     103.074495   \n",
       "\n",
       "   Corr_Split_1σ_val                    filename_x   Splitting  Split_err_abs  \\\n",
       "0           0.004388       K21-59-FI#1_CRR_DiadFit  103.058246            NaN   \n",
       "1           0.012224                   K21-59-FI#2  103.010689        0.01727   \n",
       "2           0.006033       K21-59-FI#3_CRR_DiadFit  103.046333        0.00848   \n",
       "3           0.031848  K21-61-FI#1-rep1_CRR_DiadFit  103.310206        0.04220   \n",
       "4           0.004467  K21-61-FI#1-rep2_CRR_DiadFit  103.304614        0.00626   \n",
       "\n",
       "   Split_err_quadrature  Diad1_Combofit_Cent  ...              filename  \\\n",
       "0                   NaN          1286.035114  ...                   NaN   \n",
       "1              0.012237          1286.157463  ...                   NaN   \n",
       "2              0.006020          1286.074091  ...                   NaN   \n",
       "3              0.031913          1285.431901  ...                   NaN   \n",
       "4              0.004443          1285.435763  ...  K21-61-FI#1-rep2.txt   \n",
       "\n",
       "   Peak_Cent_SO2  Peak_Area_SO2  Peak_Height_SO2  Model_name  Peak_Cent_Carb  \\\n",
       "0            NaN            NaN              NaN         NaN             NaN   \n",
       "1            NaN            NaN              NaN         NaN             NaN   \n",
       "2            NaN            NaN              NaN         NaN             NaN   \n",
       "3            NaN            NaN              NaN         NaN             NaN   \n",
       "4            NaN            NaN              NaN         NaN     1090.919723   \n",
       "\n",
       "   Peak_Area_Carb  Peak_Height_Carb Carb_Diad_Ratio  SO2_Diad_Ratio  \n",
       "0             NaN               NaN             NaN             NaN  \n",
       "1             NaN               NaN             NaN             NaN  \n",
       "2             NaN               NaN             NaN             NaN  \n",
       "3             NaN               NaN             NaN             NaN  \n",
       "4      900.825267         43.734455        0.387942             NaN  \n",
       "\n",
       "[5 rows x 69 columns]"
      ]
     },
     "execution_count": 21,
     "metadata": {},
     "output_type": "execute_result"
    }
   ],
   "source": [
    "df_combo_sec_phase.head()"
   ]
  },
  {
   "cell_type": "code",
   "execution_count": null,
   "id": "72062c66",
   "metadata": {},
   "outputs": [],
   "source": []
  },
  {
   "cell_type": "code",
   "execution_count": null,
   "id": "bdc9eb44",
   "metadata": {},
   "outputs": [],
   "source": []
  },
  {
   "cell_type": "code",
   "execution_count": null,
   "id": "ba856608",
   "metadata": {},
   "outputs": [],
   "source": []
  }
 ],
 "metadata": {
  "kernelspec": {
   "display_name": "Python 3 (ipykernel)",
   "language": "python",
   "name": "python3"
  },
  "language_info": {
   "codemirror_mode": {
    "name": "ipython",
    "version": 3
   },
   "file_extension": ".py",
   "mimetype": "text/x-python",
   "name": "python",
   "nbconvert_exporter": "python",
   "pygments_lexer": "ipython3",
   "version": "3.9.13"
  }
 },
 "nbformat": 4,
 "nbformat_minor": 5
}
