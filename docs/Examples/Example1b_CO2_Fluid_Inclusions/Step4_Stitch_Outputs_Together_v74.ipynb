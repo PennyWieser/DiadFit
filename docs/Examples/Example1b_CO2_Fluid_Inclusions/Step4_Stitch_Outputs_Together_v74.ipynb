{
 "cells": [
  {
   "attachments": {},
   "cell_type": "markdown",
   "id": "0a5d30ae-095e-4406-aff7-a817c2603e2c",
   "metadata": {},
   "source": [
    "# 4. Stitch outputs together\n",
    "- Once you have fitted the weak, medium and dense diads, stitch them all together, and apply the Ne correction model"
   ]
  },
  {
   "cell_type": "code",
   "execution_count": 1,
   "id": "56f8c066-4754-4d3e-9217-ae9e8f792016",
   "metadata": {},
   "outputs": [
    {
     "data": {
      "text/plain": [
       "'0.0.77'"
      ]
     },
     "execution_count": 1,
     "metadata": {},
     "output_type": "execute_result"
    }
   ],
   "source": [
    "import numpy as np\n",
    "import pandas as pd\n",
    "import matplotlib.pyplot as plt\n",
    "import joblib\n",
    "import DiadFit as pf\n",
    "pf.__version__"
   ]
  },
  {
   "cell_type": "code",
   "execution_count": 2,
   "id": "cab54670-2019-40be-b7d8-588189ac9ced",
   "metadata": {},
   "outputs": [],
   "source": [
    "# Load in settings, paths, file extensions etc. that you saved in step 1\n",
    "meta_path, spectra_path, filetype, prefix, prefix_str, file_ext, TruPower=pf.get_settings()"
   ]
  },
  {
   "attachments": {},
   "cell_type": "markdown",
   "id": "8230f033-6c2c-4494-a554-885ab21b2e21",
   "metadata": {},
   "source": [
    "## Load in specra, and combine"
   ]
  },
  {
   "cell_type": "code",
   "execution_count": 3,
   "id": "0b0bb450-0872-44f7-b99e-2585f994efde",
   "metadata": {},
   "outputs": [],
   "source": [
    "import os\n",
    "df2=pf.merge_fit_files(path=os.getcwd())"
   ]
  },
  {
   "attachments": {},
   "cell_type": "markdown",
   "id": "6449c9b4-d538-4d37-ad78-49c87aa677af",
   "metadata": {},
   "source": [
    "## First, get the metadata for this day"
   ]
  },
  {
   "cell_type": "code",
   "execution_count": 4,
   "id": "027e3ea1-f4ef-4c53-a57d-977e1f639ec9",
   "metadata": {},
   "outputs": [
    {
     "data": {
      "text/plain": [
       "'02 K23_10_FIA_50X.txt'"
      ]
     },
     "execution_count": 4,
     "metadata": {},
     "output_type": "execute_result"
    }
   ],
   "source": [
    "# Put the common string you can in all your Ne lines here\n",
    "diad_meta=pf.get_files(path=meta_path,\n",
    "file_ext=file_ext, exclude_str=['Ne', 'FG', 'Cap','window'],\n",
    " sort=True)\n",
    "diad_meta[0]"
   ]
  },
  {
   "attachments": {},
   "cell_type": "markdown",
   "id": "378575ca-336b-4f04-bc6e-cf397dfdc56e",
   "metadata": {},
   "source": [
    "## Now get all the important information out of the metadata files"
   ]
  },
  {
   "cell_type": "code",
   "execution_count": 5,
   "id": "57ebb7b9-5c4f-4b49-9686-36f0d2ec9e8d",
   "metadata": {},
   "outputs": [
    {
     "name": "stderr",
     "output_type": "stream",
     "text": [
      "100%|██████████| 39/39 [00:00<00:00, 1651.92it/s]"
     ]
    },
    {
     "name": "stdout",
     "output_type": "stream",
     "text": [
      "Done\n"
     ]
    },
    {
     "name": "stderr",
     "output_type": "stream",
     "text": [
      "\n"
     ]
    },
    {
     "data": {
      "text/html": [
       "<div>\n",
       "<style scoped>\n",
       "    .dataframe tbody tr th:only-of-type {\n",
       "        vertical-align: middle;\n",
       "    }\n",
       "\n",
       "    .dataframe tbody tr th {\n",
       "        vertical-align: top;\n",
       "    }\n",
       "\n",
       "    .dataframe thead th {\n",
       "        text-align: right;\n",
       "    }\n",
       "</style>\n",
       "<table border=\"1\" class=\"dataframe\">\n",
       "  <thead>\n",
       "    <tr style=\"text-align: right;\">\n",
       "      <th></th>\n",
       "      <th>filename</th>\n",
       "      <th>date</th>\n",
       "      <th>Month</th>\n",
       "      <th>Day</th>\n",
       "      <th>power (mW)</th>\n",
       "      <th>Int_time (s)</th>\n",
       "      <th>accumulations</th>\n",
       "      <th>Mag (X)</th>\n",
       "      <th>duration</th>\n",
       "      <th>24hr_time</th>\n",
       "      <th>sec since midnight</th>\n",
       "      <th>Spectral Center</th>\n",
       "    </tr>\n",
       "  </thead>\n",
       "  <tbody>\n",
       "    <tr>\n",
       "      <th>0</th>\n",
       "      <td>K23_10_FIA_50X.txt</td>\n",
       "      <td>September 20, 2023\\n</td>\n",
       "      <td>September</td>\n",
       "      <td>20.0</td>\n",
       "      <td>12.044</td>\n",
       "      <td>60.0</td>\n",
       "      <td>4.0</td>\n",
       "      <td>50.0</td>\n",
       "      <td>['0h', '4m', '2s']</td>\n",
       "      <td>2:25:32 PM\\n</td>\n",
       "      <td>51932.0</td>\n",
       "      <td>1325.004</td>\n",
       "    </tr>\n",
       "    <tr>\n",
       "      <th>1</th>\n",
       "      <td>Spectrum--009--Information.txt</td>\n",
       "      <td>September 20, 2023\\n</td>\n",
       "      <td>September</td>\n",
       "      <td>20.0</td>\n",
       "      <td>12.056</td>\n",
       "      <td>60.0</td>\n",
       "      <td>4.0</td>\n",
       "      <td>50.0</td>\n",
       "      <td>['0h', '0m', '1s']</td>\n",
       "      <td>2:30:09 PM\\n</td>\n",
       "      <td>52209.0</td>\n",
       "      <td>1325.004</td>\n",
       "    </tr>\n",
       "    <tr>\n",
       "      <th>2</th>\n",
       "      <td>K23_1_FIA_50X.txt</td>\n",
       "      <td>September 20, 2023\\n</td>\n",
       "      <td>September</td>\n",
       "      <td>20.0</td>\n",
       "      <td>12.185</td>\n",
       "      <td>45.0</td>\n",
       "      <td>3.0</td>\n",
       "      <td>50.0</td>\n",
       "      <td>['0h', '2m', '16s']</td>\n",
       "      <td>2:33:31 PM\\n</td>\n",
       "      <td>52411.0</td>\n",
       "      <td>1325.004</td>\n",
       "    </tr>\n",
       "    <tr>\n",
       "      <th>3</th>\n",
       "      <td>K23_1_FIA_50X_r2_longeraq.txt</td>\n",
       "      <td>September 20, 2023\\n</td>\n",
       "      <td>September</td>\n",
       "      <td>20.0</td>\n",
       "      <td>12.237</td>\n",
       "      <td>60.0</td>\n",
       "      <td>4.0</td>\n",
       "      <td>50.0</td>\n",
       "      <td>['0h', '4m', '2s']</td>\n",
       "      <td>2:36:33 PM\\n</td>\n",
       "      <td>52593.0</td>\n",
       "      <td>1325.004</td>\n",
       "    </tr>\n",
       "    <tr>\n",
       "      <th>4</th>\n",
       "      <td>K23_2_FIA_50X.txt</td>\n",
       "      <td>September 20, 2023\\n</td>\n",
       "      <td>September</td>\n",
       "      <td>20.0</td>\n",
       "      <td>11.964</td>\n",
       "      <td>60.0</td>\n",
       "      <td>4.0</td>\n",
       "      <td>50.0</td>\n",
       "      <td>['0h', '4m', '2s']</td>\n",
       "      <td>2:52:03 PM\\n</td>\n",
       "      <td>53523.0</td>\n",
       "      <td>1325.004</td>\n",
       "    </tr>\n",
       "  </tbody>\n",
       "</table>\n",
       "</div>"
      ],
      "text/plain": [
       "                         filename                  date      Month   Day  \\\n",
       "0              K23_10_FIA_50X.txt  September 20, 2023\\n  September  20.0   \n",
       "1  Spectrum--009--Information.txt  September 20, 2023\\n  September  20.0   \n",
       "2               K23_1_FIA_50X.txt  September 20, 2023\\n  September  20.0   \n",
       "3   K23_1_FIA_50X_r2_longeraq.txt  September 20, 2023\\n  September  20.0   \n",
       "4               K23_2_FIA_50X.txt  September 20, 2023\\n  September  20.0   \n",
       "\n",
       "   power (mW)  Int_time (s)  accumulations  Mag (X)             duration  \\\n",
       "0      12.044          60.0            4.0     50.0   ['0h', '4m', '2s']   \n",
       "1      12.056          60.0            4.0     50.0   ['0h', '0m', '1s']   \n",
       "2      12.185          45.0            3.0     50.0  ['0h', '2m', '16s']   \n",
       "3      12.237          60.0            4.0     50.0   ['0h', '4m', '2s']   \n",
       "4      11.964          60.0            4.0     50.0   ['0h', '4m', '2s']   \n",
       "\n",
       "      24hr_time  sec since midnight  Spectral Center  \n",
       "0  2:25:32 PM\\n             51932.0         1325.004  \n",
       "1  2:30:09 PM\\n             52209.0         1325.004  \n",
       "2  2:33:31 PM\\n             52411.0         1325.004  \n",
       "3  2:36:33 PM\\n             52593.0         1325.004  \n",
       "4  2:52:03 PM\\n             53523.0         1325.004  "
      ]
     },
     "execution_count": 5,
     "metadata": {},
     "output_type": "execute_result"
    }
   ],
   "source": [
    "# This will only work for WITEC - for other vendors, you might have to use the file datastamp. See the HORIBA example\n",
    "meta=pf.stitch_metadata_in_loop_witec(path=meta_path, \n",
    "Allfiles=diad_meta, prefix=prefix, str_prefix=prefix_str,\n",
    "trupower=TruPower)\n",
    "meta.head()"
   ]
  },
  {
   "attachments": {},
   "cell_type": "markdown",
   "id": "b7a6fbc0-2b4a-4f4b-8cfd-cc227047d833",
   "metadata": {},
   "source": [
    "## Then get a simple file name you can stitch with the spectra"
   ]
  },
  {
   "cell_type": "code",
   "execution_count": 6,
   "id": "ea140384-9cb9-41bf-b57e-eb16120afe12",
   "metadata": {},
   "outputs": [
    {
     "name": "stdout",
     "output_type": "stream",
     "text": [
      "good job, no duplicate file names\n"
     ]
    },
    {
     "data": {
      "text/plain": [
       "'K23_10_FIA_50X'"
      ]
     },
     "execution_count": 6,
     "metadata": {},
     "output_type": "execute_result"
    }
   ],
   "source": [
    "file_m=pf.extracting_filenames_generic(names=meta['filename'],\n",
    "   file_ext=file_ext)\n",
    "# Checks they are all unique\n",
    "file_m[0]"
   ]
  },
  {
   "attachments": {},
   "cell_type": "markdown",
   "id": "80671930-57b4-476b-aec2-0aaf23f072b5",
   "metadata": {},
   "source": [
    "## Now get filename from spectra into same form as metadata"
   ]
  },
  {
   "cell_type": "code",
   "execution_count": 7,
   "id": "5f50eae0-1a22-4d35-ba87-0d853343d859",
   "metadata": {},
   "outputs": [
    {
     "name": "stdout",
     "output_type": "stream",
     "text": [
      "good job, no duplicate file names\n",
      "K23_10_FIA_50X\n"
     ]
    }
   ],
   "source": [
    "# Remove these to get the pure file name\n",
    "file_s=pf.extracting_filenames_generic(\n",
    "    names=df2['filename'].reset_index(drop=True),\n",
    "   file_ext=file_ext)\n",
    "\n",
    "# Remove the cosmic rays, as doesnt have it in the metatdata\n",
    "file_s = np.char.replace(file_s.astype(str), \"_CRR_DiadFit\", \"\")\n",
    "print(file_s[0])"
   ]
  },
  {
   "cell_type": "code",
   "execution_count": 8,
   "id": "51df3d2d-72d3-44fa-a076-b087cfdb5eef",
   "metadata": {},
   "outputs": [
    {
     "data": {
      "text/html": [
       "<div>\n",
       "<style scoped>\n",
       "    .dataframe tbody tr th:only-of-type {\n",
       "        vertical-align: middle;\n",
       "    }\n",
       "\n",
       "    .dataframe tbody tr th {\n",
       "        vertical-align: top;\n",
       "    }\n",
       "\n",
       "    .dataframe thead th {\n",
       "        text-align: right;\n",
       "    }\n",
       "</style>\n",
       "<table border=\"1\" class=\"dataframe\">\n",
       "  <thead>\n",
       "    <tr style=\"text-align: right;\">\n",
       "      <th></th>\n",
       "      <th>filename</th>\n",
       "      <th>Splitting</th>\n",
       "      <th>Split_σ</th>\n",
       "      <th>Diad1_Combofit_Cent</th>\n",
       "      <th>Diad1_cent_err</th>\n",
       "      <th>Diad1_Combofit_Height</th>\n",
       "      <th>Diad1_Voigt_Cent</th>\n",
       "      <th>Diad1_Voigt_Area</th>\n",
       "      <th>Diad1_Voigt_Sigma</th>\n",
       "      <th>Diad1_Residual</th>\n",
       "      <th>...</th>\n",
       "      <th>Month</th>\n",
       "      <th>Day</th>\n",
       "      <th>power (mW)</th>\n",
       "      <th>Int_time (s)</th>\n",
       "      <th>accumulations</th>\n",
       "      <th>Mag (X)</th>\n",
       "      <th>duration</th>\n",
       "      <th>24hr_time</th>\n",
       "      <th>sec since midnight</th>\n",
       "      <th>Spectral Center</th>\n",
       "    </tr>\n",
       "  </thead>\n",
       "  <tbody>\n",
       "    <tr>\n",
       "      <th>0</th>\n",
       "      <td>K23_10_FIA_50X</td>\n",
       "      <td>103.321211</td>\n",
       "      <td>0.003304</td>\n",
       "      <td>1285.530242</td>\n",
       "      <td>0.003003</td>\n",
       "      <td>1362.541566</td>\n",
       "      <td>1285.530292</td>\n",
       "      <td>2153.795453</td>\n",
       "      <td>0.586062</td>\n",
       "      <td>5.329910</td>\n",
       "      <td>...</td>\n",
       "      <td>September</td>\n",
       "      <td>20.0</td>\n",
       "      <td>12.044</td>\n",
       "      <td>60.0</td>\n",
       "      <td>4.0</td>\n",
       "      <td>50.0</td>\n",
       "      <td>['0h', '4m', '2s']</td>\n",
       "      <td>2:25:32 PM\\n</td>\n",
       "      <td>51932.0</td>\n",
       "      <td>1325.004</td>\n",
       "    </tr>\n",
       "    <tr>\n",
       "      <th>1</th>\n",
       "      <td>K23_1_FIA_50X</td>\n",
       "      <td>103.356742</td>\n",
       "      <td>0.002075</td>\n",
       "      <td>1285.483705</td>\n",
       "      <td>0.001819</td>\n",
       "      <td>1291.098383</td>\n",
       "      <td>1285.483755</td>\n",
       "      <td>2046.897655</td>\n",
       "      <td>0.591294</td>\n",
       "      <td>3.329590</td>\n",
       "      <td>...</td>\n",
       "      <td>September</td>\n",
       "      <td>20.0</td>\n",
       "      <td>12.185</td>\n",
       "      <td>45.0</td>\n",
       "      <td>3.0</td>\n",
       "      <td>50.0</td>\n",
       "      <td>['0h', '2m', '16s']</td>\n",
       "      <td>2:33:31 PM\\n</td>\n",
       "      <td>52411.0</td>\n",
       "      <td>1325.004</td>\n",
       "    </tr>\n",
       "    <tr>\n",
       "      <th>2</th>\n",
       "      <td>K23_1_FIA_50X_r2_longeraq</td>\n",
       "      <td>103.347836</td>\n",
       "      <td>0.001650</td>\n",
       "      <td>1285.494697</td>\n",
       "      <td>0.001417</td>\n",
       "      <td>1852.376087</td>\n",
       "      <td>1285.494747</td>\n",
       "      <td>2949.331252</td>\n",
       "      <td>0.593544</td>\n",
       "      <td>3.896763</td>\n",
       "      <td>...</td>\n",
       "      <td>September</td>\n",
       "      <td>20.0</td>\n",
       "      <td>12.237</td>\n",
       "      <td>60.0</td>\n",
       "      <td>4.0</td>\n",
       "      <td>50.0</td>\n",
       "      <td>['0h', '4m', '2s']</td>\n",
       "      <td>2:36:33 PM\\n</td>\n",
       "      <td>52593.0</td>\n",
       "      <td>1325.004</td>\n",
       "    </tr>\n",
       "    <tr>\n",
       "      <th>3</th>\n",
       "      <td>K23_2_FIA_50X</td>\n",
       "      <td>103.002850</td>\n",
       "      <td>0.032459</td>\n",
       "      <td>1286.359590</td>\n",
       "      <td>0.029483</td>\n",
       "      <td>46.321659</td>\n",
       "      <td>1286.359590</td>\n",
       "      <td>45.981107</td>\n",
       "      <td>0.466575</td>\n",
       "      <td>1.842057</td>\n",
       "      <td>...</td>\n",
       "      <td>September</td>\n",
       "      <td>20.0</td>\n",
       "      <td>11.964</td>\n",
       "      <td>60.0</td>\n",
       "      <td>4.0</td>\n",
       "      <td>50.0</td>\n",
       "      <td>['0h', '4m', '2s']</td>\n",
       "      <td>2:52:03 PM\\n</td>\n",
       "      <td>53523.0</td>\n",
       "      <td>1325.004</td>\n",
       "    </tr>\n",
       "    <tr>\n",
       "      <th>4</th>\n",
       "      <td>K23_2_FIB_50X</td>\n",
       "      <td>103.154303</td>\n",
       "      <td>0.003341</td>\n",
       "      <td>1285.991130</td>\n",
       "      <td>0.002903</td>\n",
       "      <td>628.365155</td>\n",
       "      <td>1285.991180</td>\n",
       "      <td>763.817925</td>\n",
       "      <td>0.484207</td>\n",
       "      <td>2.727443</td>\n",
       "      <td>...</td>\n",
       "      <td>September</td>\n",
       "      <td>20.0</td>\n",
       "      <td>11.935</td>\n",
       "      <td>60.0</td>\n",
       "      <td>4.0</td>\n",
       "      <td>50.0</td>\n",
       "      <td>['0h', '4m', '1s']</td>\n",
       "      <td>2:56:49 PM\\n</td>\n",
       "      <td>53809.0</td>\n",
       "      <td>1325.004</td>\n",
       "    </tr>\n",
       "  </tbody>\n",
       "</table>\n",
       "<p>5 rows × 50 columns</p>\n",
       "</div>"
      ],
      "text/plain": [
       "                    filename   Splitting   Split_σ  Diad1_Combofit_Cent  \\\n",
       "0             K23_10_FIA_50X  103.321211  0.003304          1285.530242   \n",
       "1              K23_1_FIA_50X  103.356742  0.002075          1285.483705   \n",
       "2  K23_1_FIA_50X_r2_longeraq  103.347836  0.001650          1285.494697   \n",
       "3              K23_2_FIA_50X  103.002850  0.032459          1286.359590   \n",
       "4              K23_2_FIB_50X  103.154303  0.003341          1285.991130   \n",
       "\n",
       "   Diad1_cent_err  Diad1_Combofit_Height  Diad1_Voigt_Cent  Diad1_Voigt_Area  \\\n",
       "0        0.003003            1362.541566       1285.530292       2153.795453   \n",
       "1        0.001819            1291.098383       1285.483755       2046.897655   \n",
       "2        0.001417            1852.376087       1285.494747       2949.331252   \n",
       "3        0.029483              46.321659       1286.359590         45.981107   \n",
       "4        0.002903             628.365155       1285.991180        763.817925   \n",
       "\n",
       "   Diad1_Voigt_Sigma  Diad1_Residual  ...      Month   Day power (mW)  \\\n",
       "0           0.586062        5.329910  ...  September  20.0     12.044   \n",
       "1           0.591294        3.329590  ...  September  20.0     12.185   \n",
       "2           0.593544        3.896763  ...  September  20.0     12.237   \n",
       "3           0.466575        1.842057  ...  September  20.0     11.964   \n",
       "4           0.484207        2.727443  ...  September  20.0     11.935   \n",
       "\n",
       "   Int_time (s)  accumulations  Mag (X)             duration     24hr_time  \\\n",
       "0          60.0            4.0     50.0   ['0h', '4m', '2s']  2:25:32 PM\\n   \n",
       "1          45.0            3.0     50.0  ['0h', '2m', '16s']  2:33:31 PM\\n   \n",
       "2          60.0            4.0     50.0   ['0h', '4m', '2s']  2:36:33 PM\\n   \n",
       "3          60.0            4.0     50.0   ['0h', '4m', '2s']  2:52:03 PM\\n   \n",
       "4          60.0            4.0     50.0   ['0h', '4m', '1s']  2:56:49 PM\\n   \n",
       "\n",
       "   sec since midnight  Spectral Center  \n",
       "0             51932.0         1325.004  \n",
       "1             52411.0         1325.004  \n",
       "2             52593.0         1325.004  \n",
       "3             53523.0         1325.004  \n",
       "4             53809.0         1325.004  \n",
       "\n",
       "[5 rows x 50 columns]"
      ]
     },
     "execution_count": 8,
     "metadata": {},
     "output_type": "execute_result"
    }
   ],
   "source": [
    "# Combining them together, if the form above matches, e.g. checking one doesnt have a suffix and the other one does\n",
    "\n",
    "meta['filename']=file_m\n",
    "df2['filename']=file_s\n",
    "df_combo=pd.merge(df2, meta, on='filename').reset_index(drop=True)\n",
    "df_combo.head()"
   ]
  },
  {
   "attachments": {},
   "cell_type": "markdown",
   "id": "54b229a4-026d-4e4e-ab0a-ed0362566919",
   "metadata": {},
   "source": [
    "## If you have secondary phases, now is the time to merge those in"
   ]
  },
  {
   "cell_type": "code",
   "execution_count": 19,
   "id": "bc38474f-45cd-4fa5-beef-49db69e82989",
   "metadata": {},
   "outputs": [
    {
     "name": "stdout",
     "output_type": "stream",
     "text": [
      "Made a df!\n",
      "good job, no duplicate file names\n"
     ]
    }
   ],
   "source": [
    "df_combo_sec_phase=pf.merge_in_carb_SO2(\n",
    "df_combo=df_combo, file1_name='Carb_Peak_fits.xlsx', file2_name='SO2_Peak_fits.xlsx', \n",
    "prefix=prefix, str_prefix=prefix_str, file_ext=file_ext)\n",
    "#df_combo_sec_phase.to_excel('FI_fitting_w_sec_phases.xlsx', index=False)"
   ]
  },
  {
   "cell_type": "markdown",
   "id": "663ac0cc",
   "metadata": {},
   "source": [
    "## If you have SO2, now is the time to calculate the molar proportion of SO2"
   ]
  },
  {
   "cell_type": "code",
   "execution_count": 1,
   "id": "d78b7bcf",
   "metadata": {},
   "outputs": [
    {
     "ename": "NameError",
     "evalue": "name 'df_combo_sec_phase' is not defined",
     "output_type": "error",
     "traceback": [
      "\u001b[1;31m---------------------------------------------------------------------------\u001b[0m",
      "\u001b[1;31mNameError\u001b[0m                                 Traceback (most recent call last)",
      "\u001b[1;32mc:\\Users\\penny\\OneDrive\\Documents\\Berkeley_NEW\\DiadFit_outer\\docs\\Examples\\Example1b_CO2_Fluid_Inclusions\\Step4_Stitch_Outputs_Together_v74.ipynb Cell 18\u001b[0m line \u001b[0;36m1\n\u001b[1;32m----> <a href='vscode-notebook-cell:/c%3A/Users/penny/OneDrive/Documents/Berkeley_NEW/DiadFit_outer/docs/Examples/Example1b_CO2_Fluid_Inclusions/Step4_Stitch_Outputs_Together_v74.ipynb#X23sZmlsZQ%3D%3D?line=0'>1</a>\u001b[0m \u001b[39mif\u001b[39;00m \u001b[39m'\u001b[39m\u001b[39mPeak_Area_SO2\u001b[39m\u001b[39m'\u001b[39m \u001b[39min\u001b[39;00m df_combo_sec_phase:\n\u001b[0;32m      <a href='vscode-notebook-cell:/c%3A/Users/penny/OneDrive/Documents/Berkeley_NEW/DiadFit_outer/docs/Examples/Example1b_CO2_Fluid_Inclusions/Step4_Stitch_Outputs_Together_v74.ipynb#X23sZmlsZQ%3D%3D?line=1'>2</a>\u001b[0m     SO2_ratio\u001b[39m=\u001b[39mpf\u001b[39m.\u001b[39mcalculate_CO2_SO2_ratio(peak_area_SO2\u001b[39m=\u001b[39mdf_combo_sec_phase[\u001b[39m'\u001b[39m\u001b[39mPeak_Area_SO2\u001b[39m\u001b[39m'\u001b[39m], \n\u001b[0;32m      <a href='vscode-notebook-cell:/c%3A/Users/penny/OneDrive/Documents/Berkeley_NEW/DiadFit_outer/docs/Examples/Example1b_CO2_Fluid_Inclusions/Step4_Stitch_Outputs_Together_v74.ipynb#X23sZmlsZQ%3D%3D?line=2'>3</a>\u001b[0m peak_area_diad1\u001b[39m=\u001b[39mdf_combo_sec_phase[\u001b[39m'\u001b[39m\u001b[39mDiad1_Voigt_Area\u001b[39m\u001b[39m'\u001b[39m], peak_area_diad2\u001b[39m=\u001b[39mdf_combo_sec_phase[\u001b[39m'\u001b[39m\u001b[39mDiad2_Voigt_Area\u001b[39m\u001b[39m'\u001b[39m],\n\u001b[0;32m      <a href='vscode-notebook-cell:/c%3A/Users/penny/OneDrive/Documents/Berkeley_NEW/DiadFit_outer/docs/Examples/Example1b_CO2_Fluid_Inclusions/Step4_Stitch_Outputs_Together_v74.ipynb#X23sZmlsZQ%3D%3D?line=3'>4</a>\u001b[0m wavelength\u001b[39m=\u001b[39m\u001b[39m532.067\u001b[39m, T_K\u001b[39m=\u001b[39m\u001b[39m37\u001b[39m\u001b[39m+\u001b[39m\u001b[39m273.15\u001b[39m,efficiency_SO2\u001b[39m=\u001b[39m\u001b[39m1\u001b[39m, efficiency_CO2\u001b[39m=\u001b[39m\u001b[39m0.5\u001b[39m, \n\u001b[0;32m      <a href='vscode-notebook-cell:/c%3A/Users/penny/OneDrive/Documents/Berkeley_NEW/DiadFit_outer/docs/Examples/Example1b_CO2_Fluid_Inclusions/Step4_Stitch_Outputs_Together_v74.ipynb#X23sZmlsZQ%3D%3D?line=4'>5</a>\u001b[0m sigma_SO2\u001b[39m=\u001b[39m\u001b[39m4.03\u001b[39m, sigma_CO2_v1\u001b[39m=\u001b[39m\u001b[39m0.8\u001b[39m, sigma_CO2_v2\u001b[39m=\u001b[39m\u001b[39m1.23\u001b[39m)\n\u001b[0;32m      <a href='vscode-notebook-cell:/c%3A/Users/penny/OneDrive/Documents/Berkeley_NEW/DiadFit_outer/docs/Examples/Example1b_CO2_Fluid_Inclusions/Step4_Stitch_Outputs_Together_v74.ipynb#X23sZmlsZQ%3D%3D?line=5'>6</a>\u001b[0m df_combo_sec_phase[\u001b[39m'\u001b[39m\u001b[39mSO2_mol_ratio\u001b[39m\u001b[39m'\u001b[39m]\u001b[39m=\u001b[39mSO2_ratio[\u001b[39m'\u001b[39m\u001b[39mSO2\u001b[39m\u001b[39m'\u001b[39m]\n",
      "\u001b[1;31mNameError\u001b[0m: name 'df_combo_sec_phase' is not defined"
     ]
    }
   ],
   "source": [
    "if 'Peak_Area_SO2' in df_combo_sec_phase:\n",
    "    SO2_ratio=pf.calculate_CO2_SO2_ratio(peak_area_SO2=df_combo_sec_phase['Peak_Area_SO2'], \n",
    "peak_area_diad1=df_combo_sec_phase['Diad1_Voigt_Area'], peak_area_diad2=df_combo_sec_phase['Diad2_Voigt_Area'],\n",
    "wavelength=532.067, T_K=37+273.15,efficiency_SO2=1, efficiency_CO2=0.5, \n",
    "sigma_SO2=4.03, sigma_CO2_v1=0.8, sigma_CO2_v2=1.23)\n",
    "df_combo_sec_phase['SO2_mol_ratio']=SO2_ratio['SO2']"
   ]
  },
  {
   "cell_type": "markdown",
   "id": "cb9bb968",
   "metadata": {},
   "source": [
    "## Now we calculate the density using the UC Berkeley Densimeter. \n",
    "- If you have your own densimeter, I am happy to add a function for it if you email me (penny_wieser@berkeley.edu)\n",
    "- This particular function propagates the uncertainty on 1) The neon line correction model 2) the peak fits of the diads themselves 3) The densimeter. "
   ]
  },
  {
   "cell_type": "code",
   "execution_count": 27,
   "id": "fe4ba00c",
   "metadata": {},
   "outputs": [
    {
     "data": {
      "text/html": [
       "<div>\n",
       "<style scoped>\n",
       "    .dataframe tbody tr th:only-of-type {\n",
       "        vertical-align: middle;\n",
       "    }\n",
       "\n",
       "    .dataframe tbody tr th {\n",
       "        vertical-align: top;\n",
       "    }\n",
       "\n",
       "    .dataframe thead th {\n",
       "        text-align: right;\n",
       "    }\n",
       "</style>\n",
       "<table border=\"1\" class=\"dataframe\">\n",
       "  <thead>\n",
       "    <tr style=\"text-align: right;\">\n",
       "      <th></th>\n",
       "      <th>filename</th>\n",
       "      <th>Density g/cm3</th>\n",
       "      <th>σ Density g/cm3</th>\n",
       "      <th>σ Density g/cm3 (from Ne+peakfit)</th>\n",
       "      <th>σ Density g/cm3 (from densimeter)</th>\n",
       "      <th>Corrected_Splitting</th>\n",
       "      <th>Corrected_Splitting_σ</th>\n",
       "      <th>Corrected_Splitting_σ_Ne</th>\n",
       "      <th>Corrected_Splitting_σ_peak_fit</th>\n",
       "      <th>power (mW)</th>\n",
       "      <th>...</th>\n",
       "      <th>Peak_Area_Carb</th>\n",
       "      <th>Peak_Height_Carb</th>\n",
       "      <th>Model_name_y</th>\n",
       "      <th>Carb_Diad_Ratio</th>\n",
       "      <th>SO2_Diad_Ratio</th>\n",
       "      <th>SO2_mol_ratio</th>\n",
       "      <th>time</th>\n",
       "      <th>preferred_values</th>\n",
       "      <th>lower_values</th>\n",
       "      <th>upper_values</th>\n",
       "    </tr>\n",
       "  </thead>\n",
       "  <tbody>\n",
       "    <tr>\n",
       "      <th>0</th>\n",
       "      <td>K23_10_FIA_50X</td>\n",
       "      <td>0.131039</td>\n",
       "      <td>0.004066</td>\n",
       "      <td>0.001310</td>\n",
       "      <td>0.003849</td>\n",
       "      <td>103.080962</td>\n",
       "      <td>0.003307</td>\n",
       "      <td>0.000262</td>\n",
       "      <td>0.003304</td>\n",
       "      <td>12.044</td>\n",
       "      <td>...</td>\n",
       "      <td>NaN</td>\n",
       "      <td>NaN</td>\n",
       "      <td>NaN</td>\n",
       "      <td>NaN</td>\n",
       "      <td>0.102513</td>\n",
       "      <td>2.4</td>\n",
       "      <td>51932.0</td>\n",
       "      <td>0.997675</td>\n",
       "      <td>0.997672</td>\n",
       "      <td>0.997677</td>\n",
       "    </tr>\n",
       "    <tr>\n",
       "      <th>1</th>\n",
       "      <td>K23_1_FIA_50X</td>\n",
       "      <td>0.144743</td>\n",
       "      <td>0.003971</td>\n",
       "      <td>0.000827</td>\n",
       "      <td>0.003884</td>\n",
       "      <td>103.115547</td>\n",
       "      <td>0.002087</td>\n",
       "      <td>0.000259</td>\n",
       "      <td>0.002075</td>\n",
       "      <td>12.185</td>\n",
       "      <td>...</td>\n",
       "      <td>NaN</td>\n",
       "      <td>NaN</td>\n",
       "      <td>NaN</td>\n",
       "      <td>NaN</td>\n",
       "      <td>NaN</td>\n",
       "      <td>NaN</td>\n",
       "      <td>52411.0</td>\n",
       "      <td>0.997666</td>\n",
       "      <td>0.997664</td>\n",
       "      <td>0.997669</td>\n",
       "    </tr>\n",
       "    <tr>\n",
       "      <th>2</th>\n",
       "      <td>K23_1_FIA_50X_r2_longeraq</td>\n",
       "      <td>0.141096</td>\n",
       "      <td>0.003930</td>\n",
       "      <td>0.000660</td>\n",
       "      <td>0.003874</td>\n",
       "      <td>103.106342</td>\n",
       "      <td>0.001666</td>\n",
       "      <td>0.000258</td>\n",
       "      <td>0.001650</td>\n",
       "      <td>12.237</td>\n",
       "      <td>...</td>\n",
       "      <td>NaN</td>\n",
       "      <td>NaN</td>\n",
       "      <td>NaN</td>\n",
       "      <td>NaN</td>\n",
       "      <td>NaN</td>\n",
       "      <td>NaN</td>\n",
       "      <td>52593.0</td>\n",
       "      <td>0.997663</td>\n",
       "      <td>0.997661</td>\n",
       "      <td>0.997666</td>\n",
       "    </tr>\n",
       "    <tr>\n",
       "      <th>3</th>\n",
       "      <td>K23_2_FIA_50X</td>\n",
       "      <td>0.004106</td>\n",
       "      <td>0.000000</td>\n",
       "      <td>0.000000</td>\n",
       "      <td>0.000000</td>\n",
       "      <td>102.760619</td>\n",
       "      <td>0.032383</td>\n",
       "      <td>0.000252</td>\n",
       "      <td>0.032459</td>\n",
       "      <td>11.964</td>\n",
       "      <td>...</td>\n",
       "      <td>NaN</td>\n",
       "      <td>NaN</td>\n",
       "      <td>NaN</td>\n",
       "      <td>NaN</td>\n",
       "      <td>0.371778</td>\n",
       "      <td>8.2</td>\n",
       "      <td>53523.0</td>\n",
       "      <td>0.997648</td>\n",
       "      <td>0.997646</td>\n",
       "      <td>0.997651</td>\n",
       "    </tr>\n",
       "    <tr>\n",
       "      <th>4</th>\n",
       "      <td>K23_2_FIB_50X</td>\n",
       "      <td>0.063799</td>\n",
       "      <td>0.004039</td>\n",
       "      <td>0.001325</td>\n",
       "      <td>0.003816</td>\n",
       "      <td>102.911267</td>\n",
       "      <td>0.003343</td>\n",
       "      <td>0.000251</td>\n",
       "      <td>0.003341</td>\n",
       "      <td>11.935</td>\n",
       "      <td>...</td>\n",
       "      <td>NaN</td>\n",
       "      <td>NaN</td>\n",
       "      <td>NaN</td>\n",
       "      <td>NaN</td>\n",
       "      <td>0.092151</td>\n",
       "      <td>2.2</td>\n",
       "      <td>53809.0</td>\n",
       "      <td>0.997644</td>\n",
       "      <td>0.997642</td>\n",
       "      <td>0.997646</td>\n",
       "    </tr>\n",
       "  </tbody>\n",
       "</table>\n",
       "<p>5 rows × 86 columns</p>\n",
       "</div>"
      ],
      "text/plain": [
       "                    filename  Density g/cm3  σ Density g/cm3  \\\n",
       "0             K23_10_FIA_50X       0.131039         0.004066   \n",
       "1              K23_1_FIA_50X       0.144743         0.003971   \n",
       "2  K23_1_FIA_50X_r2_longeraq       0.141096         0.003930   \n",
       "3              K23_2_FIA_50X       0.004106         0.000000   \n",
       "4              K23_2_FIB_50X       0.063799         0.004039   \n",
       "\n",
       "   σ Density g/cm3 (from Ne+peakfit)  σ Density g/cm3 (from densimeter)  \\\n",
       "0                           0.001310                           0.003849   \n",
       "1                           0.000827                           0.003884   \n",
       "2                           0.000660                           0.003874   \n",
       "3                           0.000000                           0.000000   \n",
       "4                           0.001325                           0.003816   \n",
       "\n",
       "   Corrected_Splitting  Corrected_Splitting_σ  Corrected_Splitting_σ_Ne  \\\n",
       "0           103.080962               0.003307                  0.000262   \n",
       "1           103.115547               0.002087                  0.000259   \n",
       "2           103.106342               0.001666                  0.000258   \n",
       "3           102.760619               0.032383                  0.000252   \n",
       "4           102.911267               0.003343                  0.000251   \n",
       "\n",
       "   Corrected_Splitting_σ_peak_fit  power (mW)  ...  Peak_Area_Carb  \\\n",
       "0                        0.003304      12.044  ...             NaN   \n",
       "1                        0.002075      12.185  ...             NaN   \n",
       "2                        0.001650      12.237  ...             NaN   \n",
       "3                        0.032459      11.964  ...             NaN   \n",
       "4                        0.003341      11.935  ...             NaN   \n",
       "\n",
       "   Peak_Height_Carb  Model_name_y Carb_Diad_Ratio SO2_Diad_Ratio  \\\n",
       "0               NaN           NaN             NaN       0.102513   \n",
       "1               NaN           NaN             NaN            NaN   \n",
       "2               NaN           NaN             NaN            NaN   \n",
       "3               NaN           NaN             NaN       0.371778   \n",
       "4               NaN           NaN             NaN       0.092151   \n",
       "\n",
       "   SO2_mol_ratio     time  preferred_values  lower_values  upper_values  \n",
       "0            2.4  51932.0          0.997675      0.997672      0.997677  \n",
       "1            NaN  52411.0          0.997666      0.997664      0.997669  \n",
       "2            NaN  52593.0          0.997663      0.997661      0.997666  \n",
       "3            8.2  53523.0          0.997648      0.997646      0.997651  \n",
       "4            2.2  53809.0          0.997644      0.997642      0.997646  \n",
       "\n",
       "[5 rows x 86 columns]"
      ]
     },
     "execution_count": 27,
     "metadata": {},
     "output_type": "execute_result"
    }
   ],
   "source": [
    "df=pf.calculate_density_ucb(df_combo=df_combo_sec_phase,\n",
    "  Ne_pickle_str='Neon_corr_model.pkl',  temp='SupCrit', CI_split=0.67, CI_neon=0.67)\n",
    "df.head()"
   ]
  },
  {
   "cell_type": "markdown",
   "id": "4fba3346",
   "metadata": {},
   "source": [
    "### This cell saves the merged together dataframe with the folder name and the date you fitted it"
   ]
  },
  {
   "cell_type": "code",
   "execution_count": 29,
   "id": "a290a591",
   "metadata": {},
   "outputs": [
    {
     "name": "stdout",
     "output_type": "stream",
     "text": [
      "Raman_session_September 20, 2023_fitted_2023-10-05.xlsx\n"
     ]
    }
   ],
   "source": [
    "\n",
    "from datetime import date\n",
    "today = date.today()\n",
    "today_str = today.strftime(\"%Y-%m-%d\")\n",
    "sorted_df = df.sort_values('sec since midnight')\n",
    "date=meta['date'].iloc[0].replace('\\n', '')\n",
    "name='Raman_session_'+date+'_fitted_'+today_str+'.xlsx'\n",
    "print(name)\n",
    "sorted_df.to_excel(name)"
   ]
  },
  {
   "cell_type": "markdown",
   "id": "b34ba05e",
   "metadata": {},
   "source": [
    "## This helps visualize the errors on each spectra "
   ]
  },
  {
   "cell_type": "code",
   "execution_count": 30,
   "id": "8f67ccb8",
   "metadata": {},
   "outputs": [
    {
     "data": {
      "image/png": "[encoded data removed]",
      "text/plain": [
       "<Figure size 1000x800 with 4 Axes>"
      ]
     },
     "metadata": {},
     "output_type": "display_data"
    }
   ],
   "source": [
    "df=sorted_df\n",
    "fig, ((ax1, ax2), (ax3, ax4)) = plt.subplots(2, 2, figsize=(10,8))\n",
    "df=df.loc[df['Density g/cm3']>0]\n",
    "ax1.errorbar(df['Corrected_Splitting'], df['Density g/cm3'],\n",
    "xerr=df['Corrected_Splitting_σ'], yerr=df['σ Density g/cm3'],\n",
    "fmt='o', ecolor='grey', elinewidth=0.8, mfc='red', ms=6, mec='k', capsize=2)\n",
    "ax1.set_xlabel('Corrected Splitting (cm$^{-1}$)')\n",
    "ax1.set_ylabel('Density g/cm3')\n",
    "\n",
    "ax2.plot(df['Corrected_Splitting'], \n",
    "100*df['Corrected_Splitting_σ_Ne']/(df['Corrected_Splitting_σ_Ne']+df['Corrected_Splitting_σ_peak_fit']),\n",
    " 'ok', mfc='orange')\n",
    "ax2.set_ylabel('% of splitting error from Neon Correction')\n",
    "ax2.set_xlabel('Corrected Splitting (cm$^{-1}$)')\n",
    "ax3.plot(df['Density g/cm3'], 100*df['σ Density g/cm3 (from Ne+peakfit)']/df['Density g/cm3'], \n",
    "'ok', mfc='cyan', ms=5, label='Error: Ne + pk fit')\n",
    "\n",
    "\n",
    "ax3.plot(df['Density g/cm3'], 100*df['σ Density g/cm3 (from densimeter)']/df['Density g/cm3'], \n",
    "'ok', mfc='blue', ms=5, label='Error: Densimeter')\n",
    "\n",
    "ax3.plot(df['Density g/cm3'], 100*df['σ Density g/cm3']/df['Density g/cm3'], \n",
    "'ok', mfc='yellow', ms=5, label='Overall Error')\n",
    "ax3.set_ylabel('% error')\n",
    "ax3.set_xlabel('Density g/cm3')\n",
    "ax3.legend()\n",
    "\n",
    "ax4.plot(df['Density g/cm3'], df['σ Density g/cm3 (from densimeter)'], \n",
    "'ok', mfc='blue', ms=5, label='Error: Densimeter')\n",
    "ax4.plot(df['Density g/cm3'], df['σ Density g/cm3 (from Ne+peakfit)'], \n",
    "'ok', mfc='cyan', ms=5, label='Error: Splitting')\n",
    "ax4.plot(df['Density g/cm3'], df['σ Density g/cm3'], \n",
    "'ok', mfc='yellow', ms=5, label='Overall Error')\n",
    "ax4.set_ylabel('error (g/cm3)')\n",
    "ax4.set_xlabel('Density g/cm3')\n",
    "ax4.legend()\n",
    "\n",
    "fig.tight_layout()"
   ]
  },
  {
   "attachments": {},
   "cell_type": "markdown",
   "id": "3f9497d4",
   "metadata": {},
   "source": [
    "## If you were analysing fluid inclusions, lets calculate their pressures\n",
    "- This bit isn't valid for melt inclusion vapour bubbles. "
   ]
  },
  {
   "cell_type": "code",
   "execution_count": 37,
   "id": "6954ac35",
   "metadata": {},
   "outputs": [
    {
     "data": {
      "text/plain": [
       "Text(0, 0.5, '# of FI')"
      ]
     },
     "execution_count": 37,
     "metadata": {},
     "output_type": "execute_result"
    },
    {
     "data": {
      "image/png": "[encoded data removed]",
      "text/plain": [
       "<Figure size 1000x500 with 2 Axes>"
      ]
     },
     "metadata": {},
     "output_type": "display_data"
    }
   ],
   "source": [
    "# Calculate pressure with a temperature estimate\n",
    "Temp_C=1150\n",
    "Pressure_SW96=pf.calculate_P_for_rho_T(T_K=Temp_C+273.15,\n",
    "                CO2_dens_gcm3=df['Density g/cm3'],\n",
    "                 EOS='SP94')\n",
    "# Calculate depth from a crustal density assumption\n",
    "Depth=pf.convert_pressure_to_depth(P_kbar=Pressure_SW96['P_kbar'], \n",
    "                crust_dens_kgm3=2300)\n",
    "\n",
    "fig, (ax1, ax2) = plt.subplots(1, 2, figsize=(10,5))\n",
    "ax1.hist(Pressure_SW96['P_kbar'], ec='k', fc='cyan', bins=10)\n",
    "ax1.plot(Pressure_SW96['P_kbar'], Pressure_SW96['P_kbar']*0+5, 'xk')\n",
    "ax2.plot(Depth, Pressure_SW96['P_kbar']*0+5, 'xk')\n",
    "ax2.hist(Depth, ec='k', fc='white', bins=10)\n",
    "ax1.set_xlabel('P kbar')\n",
    "ax2.set_xlabel('Depth (km)')\n",
    "ax1.set_ylabel('# of FI')"
   ]
  }
 ],
 "metadata": {
  "kernelspec": {
   "display_name": "Python 3 (ipykernel)",
   "language": "python",
   "name": "python3"
  },
  "language_info": {
   "codemirror_mode": {
    "name": "ipython",
    "version": 3
   },
   "file_extension": ".py",
   "mimetype": "text/x-python",
   "name": "python",
   "nbconvert_exporter": "python",
   "pygments_lexer": "ipython3",
   "version": "3.11.4"
  }
 },
 "nbformat": 4,
 "nbformat_minor": 5
}
