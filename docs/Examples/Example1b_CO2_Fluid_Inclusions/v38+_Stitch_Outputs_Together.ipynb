{
 "cells": [
  {
   "cell_type": "markdown",
   "id": "0a5d30ae-095e-4406-aff7-a817c2603e2c",
   "metadata": {},
   "source": [
    "# Stitch outputs together\n",
    "- Once you have fitted the weak, medium and dense diads, stitch them all together, and apply the Ne correction model"
   ]
  },
  {
   "cell_type": "code",
   "execution_count": 1,
   "id": "56f8c066-4754-4d3e-9217-ae9e8f792016",
   "metadata": {},
   "outputs": [
    {
     "data": {
      "text/plain": [
       "'0.0.45'"
      ]
     },
     "execution_count": 1,
     "metadata": {},
     "output_type": "execute_result"
    }
   ],
   "source": [
    "import numpy as np\n",
    "import pandas as pd\n",
    "import matplotlib.pyplot as plt\n",
    "import joblib\n",
    "import DiadFit as pf\n",
    "pf.__version__"
   ]
  },
  {
   "cell_type": "code",
   "execution_count": 2,
   "id": "cab54670-2019-40be-b7d8-588189ac9ced",
   "metadata": {},
   "outputs": [],
   "source": [
    "import os\n",
    "DayFolder=os.getcwd()\n",
    "meta_path=DayFolder +  '\\MetaData'\n",
    "spectra_path=DayFolder + '\\Spectra'"
   ]
  },
  {
   "cell_type": "markdown",
   "id": "8230f033-6c2c-4494-a554-885ab21b2e21",
   "metadata": {},
   "source": [
    "## Load in specra, and combine"
   ]
  },
  {
   "cell_type": "code",
   "execution_count": 3,
   "id": "0b0bb450-0872-44f7-b99e-2585f994efde",
   "metadata": {},
   "outputs": [],
   "source": [
    "import os.path\n",
    "from os import path\n",
    "if path.exists('Discarded_df.xlsx'):\n",
    "    discard=pd.read_excel('Discarded_df.xlsx')\n",
    "else:\n",
    "    discard=None\n",
    "if path.exists('Weak_Diads.xlsx'):\n",
    "    grp1=pd.read_excel('Weak_Diads.xlsx')\n",
    "else:\n",
    "    grp1=None\n",
    "if path.exists('Medium_Diads.xlsx'):\n",
    "    grp2=pd.read_excel('Medium_Diads.xlsx')\n",
    "else:\n",
    "    grp2=None\n",
    "if path.exists('Strong_Diads.xlsx'):\n",
    "    grp3=pd.read_excel('Strong_Diads.xlsx')\n",
    "else:\n",
    "    grp3=None\n",
    "df2=pd.concat([grp1, grp2, grp3], axis=0)\n",
    "if discard is not None:\n",
    "    discard_cols=discard[discard.columns.intersection(df2.columns)]\n",
    "    df2=pd.concat([df2, discard_cols])"
   ]
  },
  {
   "cell_type": "code",
   "execution_count": 4,
   "id": "3a7ed038-f31a-41d8-9f30-c278103c56a6",
   "metadata": {},
   "outputs": [
    {
     "data": {
      "text/html": [
       "<div>\n",
       "<style scoped>\n",
       "    .dataframe tbody tr th:only-of-type {\n",
       "        vertical-align: middle;\n",
       "    }\n",
       "\n",
       "    .dataframe tbody tr th {\n",
       "        vertical-align: top;\n",
       "    }\n",
       "\n",
       "    .dataframe thead th {\n",
       "        text-align: right;\n",
       "    }\n",
       "</style>\n",
       "<table border=\"1\" class=\"dataframe\">\n",
       "  <thead>\n",
       "    <tr style=\"text-align: right;\">\n",
       "      <th></th>\n",
       "      <th>Unnamed: 0</th>\n",
       "      <th>filename</th>\n",
       "      <th>Splitting</th>\n",
       "      <th>Diad1_Combofit_Cent</th>\n",
       "      <th>Diad1_Combofit_Height</th>\n",
       "      <th>Diad1_Voigt_Cent</th>\n",
       "      <th>Diad1_Voigt_Area</th>\n",
       "      <th>Diad1_Voigt_Sigma</th>\n",
       "      <th>Diad1_Residual</th>\n",
       "      <th>Diad1_Prop_Lor</th>\n",
       "      <th>...</th>\n",
       "      <th>HB2_Sigma</th>\n",
       "      <th>C13_Cent</th>\n",
       "      <th>C13_Area</th>\n",
       "      <th>C13_Sigma</th>\n",
       "      <th>Diad2_Gauss_Cent</th>\n",
       "      <th>Diad2_Gauss_Area</th>\n",
       "      <th>Diad2_Gauss_Sigma</th>\n",
       "      <th>Diad1_Gauss_Cent</th>\n",
       "      <th>Diad1_Gauss_Area</th>\n",
       "      <th>Diad1_Gauss_Sigma</th>\n",
       "    </tr>\n",
       "  </thead>\n",
       "  <tbody>\n",
       "    <tr>\n",
       "      <th>0</th>\n",
       "      <td>0</td>\n",
       "      <td>K21-59-FI#1</td>\n",
       "      <td>103.057281</td>\n",
       "      <td>1286.036078</td>\n",
       "      <td>590.183478</td>\n",
       "      <td>1286.036078</td>\n",
       "      <td>599.338630</td>\n",
       "      <td>0.435211</td>\n",
       "      <td>4.074877</td>\n",
       "      <td>2.728550e-01</td>\n",
       "      <td>...</td>\n",
       "      <td>NaN</td>\n",
       "      <td>NaN</td>\n",
       "      <td>NaN</td>\n",
       "      <td>NaN</td>\n",
       "      <td>NaN</td>\n",
       "      <td>NaN</td>\n",
       "      <td>NaN</td>\n",
       "      <td>NaN</td>\n",
       "      <td>NaN</td>\n",
       "      <td>NaN</td>\n",
       "    </tr>\n",
       "    <tr>\n",
       "      <th>1</th>\n",
       "      <td>0</td>\n",
       "      <td>K21-59-FI#2</td>\n",
       "      <td>103.010651</td>\n",
       "      <td>1286.157501</td>\n",
       "      <td>227.288998</td>\n",
       "      <td>1286.157501</td>\n",
       "      <td>200.266823</td>\n",
       "      <td>0.409698</td>\n",
       "      <td>3.281104</td>\n",
       "      <td>2.195236e-02</td>\n",
       "      <td>...</td>\n",
       "      <td>NaN</td>\n",
       "      <td>NaN</td>\n",
       "      <td>NaN</td>\n",
       "      <td>NaN</td>\n",
       "      <td>NaN</td>\n",
       "      <td>NaN</td>\n",
       "      <td>NaN</td>\n",
       "      <td>NaN</td>\n",
       "      <td>NaN</td>\n",
       "      <td>NaN</td>\n",
       "    </tr>\n",
       "    <tr>\n",
       "      <th>2</th>\n",
       "      <td>0</td>\n",
       "      <td>K21-59-FI#3</td>\n",
       "      <td>103.046189</td>\n",
       "      <td>1286.074236</td>\n",
       "      <td>570.010451</td>\n",
       "      <td>1286.074236</td>\n",
       "      <td>580.897805</td>\n",
       "      <td>0.422397</td>\n",
       "      <td>3.585377</td>\n",
       "      <td>3.638637e-01</td>\n",
       "      <td>...</td>\n",
       "      <td>NaN</td>\n",
       "      <td>NaN</td>\n",
       "      <td>NaN</td>\n",
       "      <td>NaN</td>\n",
       "      <td>NaN</td>\n",
       "      <td>NaN</td>\n",
       "      <td>NaN</td>\n",
       "      <td>NaN</td>\n",
       "      <td>NaN</td>\n",
       "      <td>NaN</td>\n",
       "    </tr>\n",
       "    <tr>\n",
       "      <th>3</th>\n",
       "      <td>0</td>\n",
       "      <td>K21-61-FI#1-rep1</td>\n",
       "      <td>103.310515</td>\n",
       "      <td>1285.431591</td>\n",
       "      <td>65.483825</td>\n",
       "      <td>1285.431591</td>\n",
       "      <td>81.303002</td>\n",
       "      <td>0.574737</td>\n",
       "      <td>3.109909</td>\n",
       "      <td>2.927106e-08</td>\n",
       "      <td>...</td>\n",
       "      <td>NaN</td>\n",
       "      <td>NaN</td>\n",
       "      <td>NaN</td>\n",
       "      <td>NaN</td>\n",
       "      <td>NaN</td>\n",
       "      <td>NaN</td>\n",
       "      <td>NaN</td>\n",
       "      <td>NaN</td>\n",
       "      <td>NaN</td>\n",
       "      <td>NaN</td>\n",
       "    </tr>\n",
       "    <tr>\n",
       "      <th>4</th>\n",
       "      <td>0</td>\n",
       "      <td>K21-61-FI#1-rep2</td>\n",
       "      <td>103.304596</td>\n",
       "      <td>1285.435781</td>\n",
       "      <td>607.688675</td>\n",
       "      <td>1285.435781</td>\n",
       "      <td>895.513299</td>\n",
       "      <td>0.568316</td>\n",
       "      <td>3.571187</td>\n",
       "      <td>5.553914e-01</td>\n",
       "      <td>...</td>\n",
       "      <td>NaN</td>\n",
       "      <td>NaN</td>\n",
       "      <td>NaN</td>\n",
       "      <td>NaN</td>\n",
       "      <td>NaN</td>\n",
       "      <td>NaN</td>\n",
       "      <td>NaN</td>\n",
       "      <td>NaN</td>\n",
       "      <td>NaN</td>\n",
       "      <td>NaN</td>\n",
       "    </tr>\n",
       "  </tbody>\n",
       "</table>\n",
       "<p>5 rows × 37 columns</p>\n",
       "</div>"
      ],
      "text/plain": [
       "  Unnamed: 0          filename   Splitting  Diad1_Combofit_Cent  \\\n",
       "0          0       K21-59-FI#1  103.057281          1286.036078   \n",
       "1          0       K21-59-FI#2  103.010651          1286.157501   \n",
       "2          0       K21-59-FI#3  103.046189          1286.074236   \n",
       "3          0  K21-61-FI#1-rep1  103.310515          1285.431591   \n",
       "4          0  K21-61-FI#1-rep2  103.304596          1285.435781   \n",
       "\n",
       "   Diad1_Combofit_Height  Diad1_Voigt_Cent  Diad1_Voigt_Area  \\\n",
       "0             590.183478       1286.036078        599.338630   \n",
       "1             227.288998       1286.157501        200.266823   \n",
       "2             570.010451       1286.074236        580.897805   \n",
       "3              65.483825       1285.431591         81.303002   \n",
       "4             607.688675       1285.435781        895.513299   \n",
       "\n",
       "   Diad1_Voigt_Sigma  Diad1_Residual  Diad1_Prop_Lor  ...  HB2_Sigma C13_Cent  \\\n",
       "0           0.435211        4.074877    2.728550e-01  ...        NaN      NaN   \n",
       "1           0.409698        3.281104    2.195236e-02  ...        NaN      NaN   \n",
       "2           0.422397        3.585377    3.638637e-01  ...        NaN      NaN   \n",
       "3           0.574737        3.109909    2.927106e-08  ...        NaN      NaN   \n",
       "4           0.568316        3.571187    5.553914e-01  ...        NaN      NaN   \n",
       "\n",
       "   C13_Area  C13_Sigma  Diad2_Gauss_Cent  Diad2_Gauss_Area  Diad2_Gauss_Sigma  \\\n",
       "0       NaN        NaN               NaN               NaN                NaN   \n",
       "1       NaN        NaN               NaN               NaN                NaN   \n",
       "2       NaN        NaN               NaN               NaN                NaN   \n",
       "3       NaN        NaN               NaN               NaN                NaN   \n",
       "4       NaN        NaN               NaN               NaN                NaN   \n",
       "\n",
       "   Diad1_Gauss_Cent  Diad1_Gauss_Area  Diad1_Gauss_Sigma  \n",
       "0               NaN               NaN                NaN  \n",
       "1               NaN               NaN                NaN  \n",
       "2               NaN               NaN                NaN  \n",
       "3               NaN               NaN                NaN  \n",
       "4               NaN               NaN                NaN  \n",
       "\n",
       "[5 rows x 37 columns]"
      ]
     },
     "execution_count": 4,
     "metadata": {},
     "output_type": "execute_result"
    }
   ],
   "source": [
    "df2.head()"
   ]
  },
  {
   "cell_type": "markdown",
   "id": "6449c9b4-d538-4d37-ad78-49c87aa677af",
   "metadata": {},
   "source": [
    "## First, get the metadata for this day"
   ]
  },
  {
   "cell_type": "code",
   "execution_count": 5,
   "id": "027e3ea1-f4ef-4c53-a57d-977e1f639ec9",
   "metadata": {},
   "outputs": [
    {
     "data": {
      "text/plain": [
       "['K21-59-FI#1-IMG (1).txt',\n",
       " 'K21-59-FI#1-IMG.txt',\n",
       " 'K21-59-FI#1.txt',\n",
       " 'K21-59-FI#2-IMG.txt',\n",
       " 'K21-59-FI#2.txt',\n",
       " 'K21-59-FI#3-IMG.txt',\n",
       " 'K21-59-FI#3.txt',\n",
       " 'K21-59-IMG5x.txt',\n",
       " 'K21-60-IMG5x.txt',\n",
       " 'K21-61-FI#1-IMG.txt',\n",
       " 'K21-61-FI#1-rep1.txt',\n",
       " 'K21-61-FI#1-rep2.txt',\n",
       " 'K21-61-FI#2-IMG.txt',\n",
       " 'K21-61-FI#2.txt',\n",
       " 'K21-61-FI#3-IMG.txt',\n",
       " 'K21-61-FI#3.txt',\n",
       " 'K21-61-IMG5x.txt',\n",
       " 'K21-62-FI#1-IMG.txt',\n",
       " 'K21-62-FI#1-nodiad.txt',\n",
       " 'K21-62-FI#2-IMG.txt',\n",
       " 'K21-62-FI#2-nodiad.txt',\n",
       " 'K21-62-IMG5x.txt',\n",
       " 'K21-63-FI#1-IMG.txt',\n",
       " 'K21-63-FI#1.txt',\n",
       " 'K21-63-IMG5x.txt',\n",
       " 'K21-64-FI#1-IMG.txt',\n",
       " 'K21-64-FI#1.txt',\n",
       " 'K21-64-FI#2-IMG.txt',\n",
       " 'K21-64-FI#2.txt',\n",
       " 'K21-64-FI#3-IMG.txt',\n",
       " 'K21-64-FI#3.txt',\n",
       " 'K21-64-FI#4-IMG.txt',\n",
       " 'K21-64-FI#4.txt',\n",
       " 'K21-64-FI#5-IMG.txt',\n",
       " 'K21-64-FI#5.txt',\n",
       " 'K21-64-FI#6-IMG.txt',\n",
       " 'K21-64-FI#6.txt',\n",
       " 'K21-64-FI#7-IMG.txt',\n",
       " 'K21-64-FI#7.txt',\n",
       " 'K21-64-FI#8-IMG.txt',\n",
       " 'K21-64-FI#8.txt',\n",
       " 'K21-64-IMG5x.txt']"
      ]
     },
     "execution_count": 5,
     "metadata": {},
     "output_type": "execute_result"
    }
   ],
   "source": [
    "# Put the common string you can in all your Ne lines here\n",
    "ID_str='_'\n",
    "file_ext_meta='txt' # Will only take files of this type \n",
    "diad_meta=pf.get_files(path=meta_path,\n",
    "file_ext='txt', exclude_str=['N', 'FG', 'Cap','window'],\n",
    " sort=True)\n",
    "diad_meta"
   ]
  },
  {
   "cell_type": "markdown",
   "id": "378575ca-336b-4f04-bc6e-cf397dfdc56e",
   "metadata": {},
   "source": [
    "## Now get all the important information out of the metadata files"
   ]
  },
  {
   "cell_type": "code",
   "execution_count": 7,
   "id": "57ebb7b9-5c4f-4b49-9686-36f0d2ec9e8d",
   "metadata": {},
   "outputs": [
    {
     "name": "stderr",
     "output_type": "stream",
     "text": [
      "100%|██████████████████████████████████████████████████████████████████████████████████| 42/42 [00:01<00:00, 36.26it/s]"
     ]
    },
    {
     "name": "stdout",
     "output_type": "stream",
     "text": [
      "Done\n"
     ]
    },
    {
     "name": "stderr",
     "output_type": "stream",
     "text": [
      "\n"
     ]
    },
    {
     "data": {
      "text/plain": [
       "'K21-59-FI#1.txt'"
      ]
     },
     "execution_count": 7,
     "metadata": {},
     "output_type": "execute_result"
    }
   ],
   "source": [
    "meta=pf.stitch_metadata_in_loop_witec(path=meta_path, \n",
    "Allfiles=diad_meta, prefix=False,\n",
    "trupower=False)\n",
    "meta['filename'].iloc[0]"
   ]
  },
  {
   "cell_type": "markdown",
   "id": "b7a6fbc0-2b4a-4f4b-8cfd-cc227047d833",
   "metadata": {},
   "source": [
    "## Then get a simple file name you can stitch with the spectra"
   ]
  },
  {
   "cell_type": "code",
   "execution_count": 8,
   "id": "ea140384-9cb9-41bf-b57e-eb16120afe12",
   "metadata": {},
   "outputs": [
    {
     "name": "stdout",
     "output_type": "stream",
     "text": [
      "<class 'str'>\n",
      "['K21-59-FI#1.txt' None None None None None None None None None None None\n",
      " None None None None None None]\n",
      "<class 'str'>\n",
      "['K21-59-FI#1' 'K21-59-FI#2.txt' None None None None None None None None\n",
      " None None None None None None None None]\n",
      "<class 'str'>\n",
      "['K21-59-FI#1' 'K21-59-FI#2' 'K21-59-FI#3.txt' None None None None None\n",
      " None None None None None None None None None None]\n",
      "<class 'str'>\n",
      "['K21-59-FI#1' 'K21-59-FI#2' 'K21-59-FI#3' 'K21-61-FI#1-rep1.txt' None\n",
      " None None None None None None None None None None None None None]\n",
      "<class 'str'>\n",
      "['K21-59-FI#1' 'K21-59-FI#2' 'K21-59-FI#3' 'K21-61-FI#1-rep1'\n",
      " 'K21-61-FI#1-rep2.txt' None None None None None None None None None None\n",
      " None None None]\n",
      "<class 'str'>\n",
      "['K21-59-FI#1' 'K21-59-FI#2' 'K21-59-FI#3' 'K21-61-FI#1-rep1'\n",
      " 'K21-61-FI#1-rep2' 'K21-61-FI#2.txt' None None None None None None None\n",
      " None None None None None]\n",
      "<class 'str'>\n",
      "['K21-59-FI#1' 'K21-59-FI#2' 'K21-59-FI#3' 'K21-61-FI#1-rep1'\n",
      " 'K21-61-FI#1-rep2' 'K21-61-FI#2' 'K21-61-FI#3.txt' None None None None\n",
      " None None None None None None None]\n",
      "<class 'str'>\n",
      "['K21-59-FI#1' 'K21-59-FI#2' 'K21-59-FI#3' 'K21-61-FI#1-rep1'\n",
      " 'K21-61-FI#1-rep2' 'K21-61-FI#2' 'K21-61-FI#3' 'K21-62-FI#1-nodiad.txt'\n",
      " None None None None None None None None None None]\n",
      "<class 'str'>\n",
      "['K21-59-FI#1' 'K21-59-FI#2' 'K21-59-FI#3' 'K21-61-FI#1-rep1'\n",
      " 'K21-61-FI#1-rep2' 'K21-61-FI#2' 'K21-61-FI#3' 'K21-62-FI#1-nodiad'\n",
      " 'K21-62-FI#2-nodiad.txt' None None None None None None None None None]\n",
      "<class 'str'>\n",
      "['K21-59-FI#1' 'K21-59-FI#2' 'K21-59-FI#3' 'K21-61-FI#1-rep1'\n",
      " 'K21-61-FI#1-rep2' 'K21-61-FI#2' 'K21-61-FI#3' 'K21-62-FI#1-nodiad'\n",
      " 'K21-62-FI#2-nodiad' 'K21-63-FI#1.txt' None None None None None None None\n",
      " None]\n",
      "<class 'str'>\n",
      "['K21-59-FI#1' 'K21-59-FI#2' 'K21-59-FI#3' 'K21-61-FI#1-rep1'\n",
      " 'K21-61-FI#1-rep2' 'K21-61-FI#2' 'K21-61-FI#3' 'K21-62-FI#1-nodiad'\n",
      " 'K21-62-FI#2-nodiad' 'K21-63-FI#1' 'K21-64-FI#1.txt' None None None None\n",
      " None None None]\n",
      "<class 'str'>\n",
      "['K21-59-FI#1' 'K21-59-FI#2' 'K21-59-FI#3' 'K21-61-FI#1-rep1'\n",
      " 'K21-61-FI#1-rep2' 'K21-61-FI#2' 'K21-61-FI#3' 'K21-62-FI#1-nodiad'\n",
      " 'K21-62-FI#2-nodiad' 'K21-63-FI#1' 'K21-64-FI#1' 'K21-64-FI#2.txt' None\n",
      " None None None None None]\n",
      "<class 'str'>\n",
      "['K21-59-FI#1' 'K21-59-FI#2' 'K21-59-FI#3' 'K21-61-FI#1-rep1'\n",
      " 'K21-61-FI#1-rep2' 'K21-61-FI#2' 'K21-61-FI#3' 'K21-62-FI#1-nodiad'\n",
      " 'K21-62-FI#2-nodiad' 'K21-63-FI#1' 'K21-64-FI#1' 'K21-64-FI#2'\n",
      " 'K21-64-FI#3.txt' None None None None None]\n",
      "<class 'str'>\n",
      "['K21-59-FI#1' 'K21-59-FI#2' 'K21-59-FI#3' 'K21-61-FI#1-rep1'\n",
      " 'K21-61-FI#1-rep2' 'K21-61-FI#2' 'K21-61-FI#3' 'K21-62-FI#1-nodiad'\n",
      " 'K21-62-FI#2-nodiad' 'K21-63-FI#1' 'K21-64-FI#1' 'K21-64-FI#2'\n",
      " 'K21-64-FI#3' 'K21-64-FI#4.txt' None None None None]\n",
      "<class 'str'>\n",
      "['K21-59-FI#1' 'K21-59-FI#2' 'K21-59-FI#3' 'K21-61-FI#1-rep1'\n",
      " 'K21-61-FI#1-rep2' 'K21-61-FI#2' 'K21-61-FI#3' 'K21-62-FI#1-nodiad'\n",
      " 'K21-62-FI#2-nodiad' 'K21-63-FI#1' 'K21-64-FI#1' 'K21-64-FI#2'\n",
      " 'K21-64-FI#3' 'K21-64-FI#4' 'K21-64-FI#5.txt' None None None]\n",
      "<class 'str'>\n",
      "['K21-59-FI#1' 'K21-59-FI#2' 'K21-59-FI#3' 'K21-61-FI#1-rep1'\n",
      " 'K21-61-FI#1-rep2' 'K21-61-FI#2' 'K21-61-FI#3' 'K21-62-FI#1-nodiad'\n",
      " 'K21-62-FI#2-nodiad' 'K21-63-FI#1' 'K21-64-FI#1' 'K21-64-FI#2'\n",
      " 'K21-64-FI#3' 'K21-64-FI#4' 'K21-64-FI#5' 'K21-64-FI#6.txt' None None]\n",
      "<class 'str'>\n",
      "['K21-59-FI#1' 'K21-59-FI#2' 'K21-59-FI#3' 'K21-61-FI#1-rep1'\n",
      " 'K21-61-FI#1-rep2' 'K21-61-FI#2' 'K21-61-FI#3' 'K21-62-FI#1-nodiad'\n",
      " 'K21-62-FI#2-nodiad' 'K21-63-FI#1' 'K21-64-FI#1' 'K21-64-FI#2'\n",
      " 'K21-64-FI#3' 'K21-64-FI#4' 'K21-64-FI#5' 'K21-64-FI#6' 'K21-64-FI#7.txt'\n",
      " None]\n",
      "<class 'str'>\n",
      "['K21-59-FI#1' 'K21-59-FI#2' 'K21-59-FI#3' 'K21-61-FI#1-rep1'\n",
      " 'K21-61-FI#1-rep2' 'K21-61-FI#2' 'K21-61-FI#3' 'K21-62-FI#1-nodiad'\n",
      " 'K21-62-FI#2-nodiad' 'K21-63-FI#1' 'K21-64-FI#1' 'K21-64-FI#2'\n",
      " 'K21-64-FI#3' 'K21-64-FI#4' 'K21-64-FI#5' 'K21-64-FI#6' 'K21-64-FI#7'\n",
      " 'K21-64-FI#8.txt']\n"
     ]
    },
    {
     "data": {
      "text/plain": [
       "'K21-59-FI#1'"
      ]
     },
     "execution_count": 8,
     "metadata": {},
     "output_type": "execute_result"
    }
   ],
   "source": [
    "file_m=pf.extracting_filenames_generic(names=meta['filename'],\n",
    "    prefix=False, str_prefix=\" \",\n",
    "   file_type='.txt')\n",
    "# Checks they are all unique\n",
    "file_m[0]"
   ]
  },
  {
   "cell_type": "markdown",
   "id": "80671930-57b4-476b-aec2-0aaf23f072b5",
   "metadata": {},
   "source": [
    "## Now get filename from spectra into same form as metadata"
   ]
  },
  {
   "cell_type": "code",
   "execution_count": 8,
   "id": "5f50eae0-1a22-4d35-ba87-0d853343d859",
   "metadata": {},
   "outputs": [
    {
     "data": {
      "text/plain": [
       "array(['K21-59-FI#1', 'K21-59-FI#2', 'K21-59-FI#3', 'K21-61-FI#1-rep1',\n",
       "       'K21-61-FI#1-rep2', 'K21-63-FI#1', 'K21-64-FI#2', 'K21-64-FI#6',\n",
       "       'K21-64-FI#8', 'K21-61-FI#2', 'K21-61-FI#3', 'K21-64-FI#1',\n",
       "       'K21-64-FI#3', 'K21-64-FI#4', 'K21-64-FI#5', 'K21-64-FI#7'],\n",
       "      dtype=object)"
      ]
     },
     "execution_count": 8,
     "metadata": {},
     "output_type": "execute_result"
    }
   ],
   "source": [
    "# Remove these to get the pure file name\n",
    "file_s=pf.extracting_filenames_generic(\n",
    "    prefix=False, str_prefix=\" \",\n",
    "    names=df2['filename'].reset_index(drop=True),\n",
    "   file_type='.txt')\n",
    "\n",
    "file_s"
   ]
  },
  {
   "cell_type": "code",
   "execution_count": 9,
   "id": "51df3d2d-72d3-44fa-a076-b087cfdb5eef",
   "metadata": {},
   "outputs": [],
   "source": [
    "# Combining them together\n",
    "meta['name_for_matching']=file_m\n",
    "df2['name_for_matching']=file_s\n",
    "df_combo=df2.merge(meta, on='name_for_matching')"
   ]
  },
  {
   "cell_type": "code",
   "execution_count": 10,
   "id": "e66609f2-04a8-4d70-9b9a-dfb9eb9aef6f",
   "metadata": {},
   "outputs": [],
   "source": [
    "from pickle import load\n",
    "import pickle\n",
    "import os\n",
    "pickle_path=os.getcwd()\n",
    "file_pkl=pickle_path + '/' + 'Ne_Line_Regression_Example_cali.pck'\n",
    "with open(file_pkl, 'rb') as file_handle:\n",
    "    my_loaded_model = pickle.load(file_handle)"
   ]
  },
  {
   "cell_type": "code",
   "execution_count": 11,
   "id": "524e4721-cc10-49c6-a262-e7795d5de57d",
   "metadata": {},
   "outputs": [],
   "source": [
    "df_combo['Ne_Correction']=my_loaded_model(df_combo['sec since midnight'])\n",
    "df_combo.insert(1,'Corrected_Splitting', df_combo['Ne_Correction']*df_combo['Splitting'])"
   ]
  },
  {
   "cell_type": "code",
   "execution_count": 12,
   "id": "9e07a032-4a70-42f9-a291-7ce1f3ed3839",
   "metadata": {},
   "outputs": [],
   "source": [
    "df_combo.to_excel('Calibration_fitting.xlsx')"
   ]
  },
  {
   "cell_type": "markdown",
   "id": "54b229a4-026d-4e4e-ab0a-ed0362566919",
   "metadata": {},
   "source": [
    "## If you have secondary phases, now is the time to merge those in"
   ]
  },
  {
   "cell_type": "code",
   "execution_count": 13,
   "id": "bc38474f-45cd-4fa5-beef-49db69e82989",
   "metadata": {},
   "outputs": [
    {
     "data": {
      "text/html": [
       "<div>\n",
       "<style scoped>\n",
       "    .dataframe tbody tr th:only-of-type {\n",
       "        vertical-align: middle;\n",
       "    }\n",
       "\n",
       "    .dataframe tbody tr th {\n",
       "        vertical-align: top;\n",
       "    }\n",
       "\n",
       "    .dataframe thead th {\n",
       "        text-align: right;\n",
       "    }\n",
       "</style>\n",
       "<table border=\"1\" class=\"dataframe\">\n",
       "  <thead>\n",
       "    <tr style=\"text-align: right;\">\n",
       "      <th></th>\n",
       "      <th>filename</th>\n",
       "      <th>Peak_Cent_SO2</th>\n",
       "      <th>Peak_Area_SO2</th>\n",
       "      <th>Peak_Height_SO2</th>\n",
       "      <th>Peak_Cent_Carb</th>\n",
       "      <th>Peak_Area_Carb</th>\n",
       "      <th>Peak_Height_Carb</th>\n",
       "    </tr>\n",
       "  </thead>\n",
       "  <tbody>\n",
       "    <tr>\n",
       "      <th>0</th>\n",
       "      <td>K21-59-FI#1.txt</td>\n",
       "      <td>1151.160659</td>\n",
       "      <td>57.033468</td>\n",
       "      <td>26.540273</td>\n",
       "      <td>NaN</td>\n",
       "      <td>NaN</td>\n",
       "      <td>NaN</td>\n",
       "    </tr>\n",
       "    <tr>\n",
       "      <th>1</th>\n",
       "      <td>K21-63-FI#1.txt</td>\n",
       "      <td>1150.591830</td>\n",
       "      <td>81.865421</td>\n",
       "      <td>56.150041</td>\n",
       "      <td>NaN</td>\n",
       "      <td>NaN</td>\n",
       "      <td>NaN</td>\n",
       "    </tr>\n",
       "    <tr>\n",
       "      <th>2</th>\n",
       "      <td>K21-64-FI#1.txt</td>\n",
       "      <td>1150.651543</td>\n",
       "      <td>690.347547</td>\n",
       "      <td>437.799964</td>\n",
       "      <td>NaN</td>\n",
       "      <td>NaN</td>\n",
       "      <td>NaN</td>\n",
       "    </tr>\n",
       "    <tr>\n",
       "      <th>3</th>\n",
       "      <td>K21-64-FI#2.txt</td>\n",
       "      <td>1150.642811</td>\n",
       "      <td>374.155731</td>\n",
       "      <td>235.883336</td>\n",
       "      <td>NaN</td>\n",
       "      <td>NaN</td>\n",
       "      <td>NaN</td>\n",
       "    </tr>\n",
       "    <tr>\n",
       "      <th>4</th>\n",
       "      <td>K21-64-FI#3.txt</td>\n",
       "      <td>1150.614040</td>\n",
       "      <td>1181.442087</td>\n",
       "      <td>738.919826</td>\n",
       "      <td>NaN</td>\n",
       "      <td>NaN</td>\n",
       "      <td>NaN</td>\n",
       "    </tr>\n",
       "  </tbody>\n",
       "</table>\n",
       "</div>"
      ],
      "text/plain": [
       "          filename  Peak_Cent_SO2  Peak_Area_SO2  Peak_Height_SO2  \\\n",
       "0  K21-59-FI#1.txt    1151.160659      57.033468        26.540273   \n",
       "1  K21-63-FI#1.txt    1150.591830      81.865421        56.150041   \n",
       "2  K21-64-FI#1.txt    1150.651543     690.347547       437.799964   \n",
       "3  K21-64-FI#2.txt    1150.642811     374.155731       235.883336   \n",
       "4  K21-64-FI#3.txt    1150.614040    1181.442087       738.919826   \n",
       "\n",
       "   Peak_Cent_Carb  Peak_Area_Carb  Peak_Height_Carb  \n",
       "0             NaN             NaN               NaN  \n",
       "1             NaN             NaN               NaN  \n",
       "2             NaN             NaN               NaN  \n",
       "3             NaN             NaN               NaN  \n",
       "4             NaN             NaN               NaN  "
      ]
     },
     "execution_count": 13,
     "metadata": {},
     "output_type": "execute_result"
    }
   ],
   "source": [
    "if path.exists('Carb_Peak_fits.xlsx'):\n",
    "    Carb=pd.read_excel('Carb_Peak_fits.xlsx')\n",
    "else:\n",
    "    Carb=None\n",
    "if path.exists('SO2_Peak_fits.xlsx'):\n",
    "    SO2=pd.read_excel('SO2_Peak_fits.xlsx')\n",
    "else:\n",
    "    SO2=None\n",
    "if SO2 is not None and Carb is not None:\n",
    "    Sec_Phases=pd.merge(SO2, Carb, on='filename', how='outer')\n",
    "elif SO2 is not None and Carb is None:\n",
    "    Sec_Phases=SO2\n",
    "elif SO2 is None and Carb is not None:\n",
    "    Sec_Phases=Carb\n",
    "else:\n",
    "    Sec_Phases=None\n",
    "Sec_Phases.head()"
   ]
  },
  {
   "cell_type": "code",
   "execution_count": 14,
   "id": "e8c12b56-b12d-4331-b45c-a204526e502a",
   "metadata": {},
   "outputs": [],
   "source": [
    "# Remove these to get the pure file name\n",
    "if Sec_Phases is not None:\n",
    "    file_sec_phase=pf.extracting_filenames_generic(\n",
    "        prefix=False, str_prefix=\" \",\n",
    "        names=Sec_Phases['filename'].reset_index(drop=True),\n",
    "       file_type='.txt')\n",
    "\n",
    "    file_sec_phase"
   ]
  },
  {
   "cell_type": "code",
   "execution_count": 15,
   "id": "f09b738b-d075-4f6a-b033-c19e7afd5e26",
   "metadata": {},
   "outputs": [],
   "source": [
    "df_combo['name_for_matching']=df_combo['filename_x']\n",
    "if Sec_Phases is not None:\n",
    "    Sec_Phases['name_for_matching']=file_sec_phase\n",
    "    df_combo_sec_phase=df_combo.merge(Sec_Phases, \n",
    "    on='name_for_matching', how='outer')\n",
    "else:\n",
    "    df_combo_sec_phase=df_combo"
   ]
  },
  {
   "cell_type": "code",
   "execution_count": 16,
   "id": "9e5cffde-1b26-4aaf-b1c0-eb081c766242",
   "metadata": {},
   "outputs": [],
   "source": [
    "df_combo_sec_phase.to_excel('Calibration_fitting_w_sec_phases.xlsx')"
   ]
  },
  {
   "cell_type": "code",
   "execution_count": null,
   "id": "78211a11-41e5-40c4-b670-e468dfaf33ff",
   "metadata": {},
   "outputs": [],
   "source": []
  }
 ],
 "metadata": {
  "kernelspec": {
   "display_name": "Python 3 (ipykernel)",
   "language": "python",
   "name": "python3"
  },
  "language_info": {
   "codemirror_mode": {
    "name": "ipython",
    "version": 3
   },
   "file_extension": ".py",
   "mimetype": "text/x-python",
   "name": "python",
   "nbconvert_exporter": "python",
   "pygments_lexer": "ipython3",
   "version": "3.9.13"
  }
 },
 "nbformat": 4,
 "nbformat_minor": 5
}
