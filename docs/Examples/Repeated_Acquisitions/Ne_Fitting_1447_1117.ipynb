{
 "cells": [
  {
   "cell_type": "markdown",
   "id": "fa33d9b1-7111-493c-8249-c259b1d6da90",
   "metadata": {},
   "source": [
    "## Fitting Ne lines in a loop\n",
    "- This notebook shows how to fit all lines in a folder defined by path\n",
    "- You tweak the fit for a single line, and then use this to fit all lines. You can then refit lines with high residuals/offsets differing from the rest"
   ]
  },
  {
   "cell_type": "markdown",
   "id": "843dfcc2-7b25-4675-aed6-0836447c1d9b",
   "metadata": {},
   "source": [
    "## Downloading locally\n",
    "- The easiest way to install diad fit is by removing the #, and running this once per computer. When I update the code, you'll need to get the new tag off GitHub:\n",
    "https://github.com/PennyWieser/DiadFit/tags\n",
    "Right click on the top one, over the 'zip' icon, click copy link address\n",
    "![image.png](attachment:5a0e0d97-4380-4cb2-bf26-d0ab6ee7458a.png)"
   ]
  },
  {
   "cell_type": "code",
   "execution_count": 1,
   "id": "cf8c2fe4-c8a5-4120-8c21-af08a0573596",
   "metadata": {},
   "outputs": [],
   "source": [
    "#!pip install --upgrade \"https://github.com/PennyWieser/DiadFit/archive/refs/tags/0.0.11.zip\""
   ]
  },
  {
   "cell_type": "markdown",
   "id": "c092307b-7725-4bf4-b1c0-3c3a52936d23",
   "metadata": {},
   "source": [
    "### This imports DiadFit, and gives you the version. In all communication with Penny, make sure you say the version!"
   ]
  },
  {
   "cell_type": "code",
   "execution_count": 122,
   "id": "fcee43bb-9ac1-456e-a1fa-654bce7d6f0c",
   "metadata": {},
   "outputs": [
    {
     "data": {
      "text/plain": [
       "'0.0.12dev'"
      ]
     },
     "execution_count": 122,
     "metadata": {},
     "output_type": "execute_result"
    }
   ],
   "source": [
    "import numpy as np\n",
    "import pandas as pd\n",
    "import matplotlib.pyplot as plt\n",
    "import DiadFit as pf\n",
    "pf.__version__"
   ]
  },
  {
   "cell_type": "markdown",
   "id": "656e61a2-ae27-46dd-9e1c-9a69c35c1c1c",
   "metadata": {},
   "source": [
    "## Get Ne line positions for your specific laser wavelength\n",
    "- At the moment, this returns any Ne lines with intensity >2000 in the NIST databook, although you can change this!"
   ]
  },
  {
   "cell_type": "code",
   "execution_count": 3,
   "id": "9ee1d69b-b8b2-4c30-9377-4a048b22b28c",
   "metadata": {},
   "outputs": [
    {
     "data": {
      "text/html": [
       "<div>\n",
       "<style scoped>\n",
       "    .dataframe tbody tr th:only-of-type {\n",
       "        vertical-align: middle;\n",
       "    }\n",
       "\n",
       "    .dataframe tbody tr th {\n",
       "        vertical-align: top;\n",
       "    }\n",
       "\n",
       "    .dataframe thead th {\n",
       "        text-align: right;\n",
       "    }\n",
       "</style>\n",
       "<table border=\"1\" class=\"dataframe\">\n",
       "  <thead>\n",
       "    <tr style=\"text-align: right;\">\n",
       "      <th></th>\n",
       "      <th>Raman_shift (cm-1)</th>\n",
       "      <th>Intensity</th>\n",
       "      <th>Ne emission line in air</th>\n",
       "    </tr>\n",
       "  </thead>\n",
       "  <tbody>\n",
       "    <tr>\n",
       "      <th>1</th>\n",
       "      <td>818.699523</td>\n",
       "      <td>5000.0</td>\n",
       "      <td>556.27662</td>\n",
       "    </tr>\n",
       "    <tr>\n",
       "      <th>9</th>\n",
       "      <td>1117.086987</td>\n",
       "      <td>5000.0</td>\n",
       "      <td>565.66588</td>\n",
       "    </tr>\n",
       "    <tr>\n",
       "      <th>16</th>\n",
       "      <td>1310.480205</td>\n",
       "      <td>5000.0</td>\n",
       "      <td>571.92248</td>\n",
       "    </tr>\n",
       "    <tr>\n",
       "      <th>19</th>\n",
       "      <td>1398.915133</td>\n",
       "      <td>5000.0</td>\n",
       "      <td>574.82985</td>\n",
       "    </tr>\n",
       "    <tr>\n",
       "      <th>23</th>\n",
       "      <td>1447.564622</td>\n",
       "      <td>7000.0</td>\n",
       "      <td>576.44188</td>\n",
       "    </tr>\n",
       "  </tbody>\n",
       "</table>\n",
       "</div>"
      ],
      "text/plain": [
       "    Raman_shift (cm-1)  Intensity  Ne emission line in air\n",
       "1           818.699523     5000.0                556.27662\n",
       "9          1117.086987     5000.0                565.66588\n",
       "16         1310.480205     5000.0                571.92248\n",
       "19         1398.915133     5000.0                574.82985\n",
       "23         1447.564622     7000.0                576.44188"
      ]
     },
     "execution_count": 3,
     "metadata": {},
     "output_type": "execute_result"
    }
   ],
   "source": [
    "wavelength =532.046 # Specify the specific wavelength of your laser \n",
    "df_Ne=pf.calculate_Ne_line_positions(wavelength=wavelength, cut_off_intensity=2000)\n",
    "df_Ne.head()"
   ]
  },
  {
   "cell_type": "markdown",
   "id": "cbf1b4fa-7077-4b62-a520-82e9fa37ec04",
   "metadata": {},
   "source": [
    "## Calculate the ideal distance between the two lines you are selecting\n",
    "- This finds the closest line in the table above for the line shift you have written down"
   ]
  },
  {
   "cell_type": "code",
   "execution_count": 124,
   "id": "490dbb1f-60c9-4da5-af36-25529a8433e8",
   "metadata": {},
   "outputs": [
    {
     "data": {
      "text/html": [
       "<div>\n",
       "<style scoped>\n",
       "    .dataframe tbody tr th:only-of-type {\n",
       "        vertical-align: middle;\n",
       "    }\n",
       "\n",
       "    .dataframe tbody tr th {\n",
       "        vertical-align: top;\n",
       "    }\n",
       "\n",
       "    .dataframe thead th {\n",
       "        text-align: right;\n",
       "    }\n",
       "</style>\n",
       "<table border=\"1\" class=\"dataframe\">\n",
       "  <thead>\n",
       "    <tr style=\"text-align: right;\">\n",
       "      <th></th>\n",
       "      <th>Ne_Split</th>\n",
       "      <th>Line_1</th>\n",
       "      <th>Line_2</th>\n",
       "      <th>Entered Pos Line 1</th>\n",
       "      <th>Entered Pos Line 2</th>\n",
       "    </tr>\n",
       "  </thead>\n",
       "  <tbody>\n",
       "    <tr>\n",
       "      <th>0</th>\n",
       "      <td>330.477634</td>\n",
       "      <td>1117.086987</td>\n",
       "      <td>1447.564622</td>\n",
       "      <td>1117</td>\n",
       "      <td>1447</td>\n",
       "    </tr>\n",
       "  </tbody>\n",
       "</table>\n",
       "</div>"
      ],
      "text/plain": [
       "     Ne_Split       Line_1       Line_2  Entered Pos Line 1  \\\n",
       "0  330.477634  1117.086987  1447.564622                1117   \n",
       "\n",
       "   Entered Pos Line 2  \n",
       "0                1447  "
      ]
     },
     "execution_count": 124,
     "metadata": {},
     "output_type": "execute_result"
    }
   ],
   "source": [
    "ideal_split=pf.calculate_Ne_splitting(wavelength=wavelength, \n",
    "                                      line1_shift=1117, line2_shift=1447,\n",
    "                                     cut_off_intensity=2000)\n",
    "ideal_split"
   ]
  },
  {
   "cell_type": "markdown",
   "id": "cd512892-0dd9-4fdd-b011-932d3d9a138c",
   "metadata": {},
   "source": [
    "## Find your files"
   ]
  },
  {
   "cell_type": "code",
   "execution_count": 125,
   "id": "4614934f-7eeb-4d3f-81d2-4436c5a9721a",
   "metadata": {},
   "outputs": [],
   "source": [
    "path=r'G:\\My Drive\\Berkeley_NEW\\Raman\\2022_09_26_longNeLine1'\n",
    "filename='spectra.txt'\n"
   ]
  },
  {
   "cell_type": "code",
   "execution_count": 126,
   "id": "a4936ef1-b27e-4c70-891d-a1e873dc56e6",
   "metadata": {},
   "outputs": [
    {
     "name": "stdout",
     "output_type": "stream",
     "text": [
      "spectra.txt\n"
     ]
    },
    {
     "data": {
      "text/plain": [
       "array([[1043.11 ,  712.667,  710.667, ...,  725.   ,  735.   ,  730.667],\n",
       "       [1043.68 ,  705.333,  703.667, ...,  720.667,  716.   ,  720.   ],\n",
       "       [1044.24 ,  705.333,  711.333, ...,  717.333,  729.333,  725.667],\n",
       "       ...,\n",
       "       [1591.18 ,  736.333,  736.333, ...,  741.667,  741.667,  730.333],\n",
       "       [1591.68 ,  733.667,  733.333, ...,  740.333,  733.   ,  736.   ],\n",
       "       [1592.19 ,  760.   ,  757.333, ...,  759.   ,  746.667,  759.   ]])"
      ]
     },
     "execution_count": 126,
     "metadata": {},
     "output_type": "execute_result"
    }
   ],
   "source": [
    "df3=pf.get_data(path=path,\n",
    "                       filename=filename, filetype='Witec_ASCII')\n",
    "df3"
   ]
  },
  {
   "cell_type": "code",
   "execution_count": 127,
   "id": "a6f113a1-844d-4b45-90f8-372be04152b2",
   "metadata": {},
   "outputs": [
    {
     "data": {
      "text/plain": [
       "array([[1043.11 ,  712.667],\n",
       "       [1043.68 ,  705.333],\n",
       "       [1044.24 ,  705.333],\n",
       "       ...,\n",
       "       [1591.18 ,  736.333],\n",
       "       [1591.68 ,  733.667],\n",
       "       [1592.19 ,  760.   ]])"
      ]
     },
     "execution_count": 127,
     "metadata": {},
     "output_type": "execute_result"
    }
   ],
   "source": [
    "test=np.column_stack((df3[:, 0], df3[:, 1]))\n",
    "test"
   ]
  },
  {
   "cell_type": "code",
   "execution_count": 128,
   "id": "0de7e5bb-cd3f-4a4d-a736-bc7c48799301",
   "metadata": {},
   "outputs": [
    {
     "name": "stdout",
     "output_type": "stream",
     "text": [
      "Biggest 6 peaks:\n"
     ]
    },
    {
     "data": {
      "text/html": [
       "<div>\n",
       "<style scoped>\n",
       "    .dataframe tbody tr th:only-of-type {\n",
       "        vertical-align: middle;\n",
       "    }\n",
       "\n",
       "    .dataframe tbody tr th {\n",
       "        vertical-align: top;\n",
       "    }\n",
       "\n",
       "    .dataframe thead th {\n",
       "        text-align: right;\n",
       "    }\n",
       "</style>\n",
       "<table border=\"1\" class=\"dataframe\">\n",
       "  <thead>\n",
       "    <tr style=\"text-align: right;\">\n",
       "      <th></th>\n",
       "      <th>pos</th>\n",
       "      <th>height</th>\n",
       "    </tr>\n",
       "  </thead>\n",
       "  <tbody>\n",
       "    <tr>\n",
       "      <th>64</th>\n",
       "      <td>1447.04</td>\n",
       "      <td>32873.30</td>\n",
       "    </tr>\n",
       "    <tr>\n",
       "      <th>56</th>\n",
       "      <td>1398.04</td>\n",
       "      <td>9411.67</td>\n",
       "    </tr>\n",
       "    <tr>\n",
       "      <th>80</th>\n",
       "      <td>1566.17</td>\n",
       "      <td>7702.00</td>\n",
       "    </tr>\n",
       "    <tr>\n",
       "      <th>11</th>\n",
       "      <td>1115.68</td>\n",
       "      <td>3782.67</td>\n",
       "    </tr>\n",
       "    <tr>\n",
       "      <th>30</th>\n",
       "      <td>1219.18</td>\n",
       "      <td>3074.33</td>\n",
       "    </tr>\n",
       "    <tr>\n",
       "      <th>40</th>\n",
       "      <td>1309.39</td>\n",
       "      <td>2327.00</td>\n",
       "    </tr>\n",
       "  </tbody>\n",
       "</table>\n",
       "</div>"
      ],
      "text/plain": [
       "        pos    height\n",
       "64  1447.04  32873.30\n",
       "56  1398.04   9411.67\n",
       "80  1566.17   7702.00\n",
       "11  1115.68   3782.67\n",
       "30  1219.18   3074.33\n",
       "40  1309.39   2327.00"
      ]
     },
     "metadata": {},
     "output_type": "display_data"
    },
    {
     "name": "stdout",
     "output_type": "stream",
     "text": [
      "selected Peak 1 Pos\n",
      "1115.68\n",
      "selected Peak 2 Pos\n",
      "1447.04\n"
     ]
    },
    {
     "data": {
      "image/png": "[encoded data removed]",
      "text/plain": [
       "<Figure size 900x300 with 3 Axes>"
      ]
     },
     "metadata": {},
     "output_type": "display_data"
    }
   ],
   "source": [
    "# Specify the approximate peak positions of the lines you are interested in\n",
    "# If your drift is off the real positions, you'll have to tweak these numbers\n",
    "peak1_cent=1117\n",
    "peak2_cent=1447\n",
    "\n",
    "\n",
    "Ne, df_sort_Ne_trim, nearest_1117, nearest_1447=pf.plot_Ne_lines(Ne_array=test,\n",
    "n_peaks=6, peak1_cent=peak1_cent, peak2_cent=peak2_cent,\n",
    "height=10, threshold=0.6, distance=1, prominence=10, width=1, exclude_range_1=None,\n",
    "exclude_range_2=None)"
   ]
  },
  {
   "cell_type": "markdown",
   "id": "5707a246-6527-470f-a3e5-3514963a700b",
   "metadata": {},
   "source": [
    "## Now tweak the fit for this 1 example\n",
    "- Most important things, the number of peaks you want for 1117, and the offset for this peak (LH_offset_min)\n",
    "- By default, the function applies the fit to all the points inside the outermost background positions. This can be trimmed using x_span_pk1_override, and x_span_pk2_override, "
   ]
  },
  {
   "cell_type": "markdown",
   "id": "83177e4a-2214-439a-b131-2be43b9fcdfa",
   "metadata": {},
   "source": [
    "## You can tweak parameters here\n",
    "- The default parameters may work, you can see what those are here:"
   ]
  },
  {
   "cell_type": "code",
   "execution_count": 129,
   "id": "a1297a6c-3d89-49d4-a3ab-e29499921a39",
   "metadata": {},
   "outputs": [
    {
     "data": {
      "text/plain": [
       "Ne_peak_config(N_poly_pk1_baseline=1, N_poly_pk2_baseline=1, lower_bck_pk1=(-50, -25), upper_bck1_pk1=(8, 15), upper_bck2_pk1=(30, 50), lower_bck_pk2=(-44.2, -22), upper_bck1_pk2=(15, 50), upper_bck2_pk2=(50, 51), x_range_baseline=20, y_range_baseline=200, amplitude=100, x_range_peak=15, x_range_residual=7, LH_offset_mini=(1.5, 3), x_span_pk1=None, x_span_pk2=None)"
      ]
     },
     "execution_count": 129,
     "metadata": {},
     "output_type": "execute_result"
    }
   ],
   "source": [
    "pf.Ne_peak_config()"
   ]
  },
  {
   "cell_type": "markdown",
   "id": "afa85d54-74e2-4a04-a143-e9ceeb29de24",
   "metadata": {},
   "source": [
    "- You can also overwrite any of these, the most likely things you'll want to overwrite are the background positions, or the amplitude"
   ]
  },
  {
   "cell_type": "code",
   "execution_count": 130,
   "id": "013fb81c-74dd-4eb8-9c57-df597e49e381",
   "metadata": {},
   "outputs": [
    {
     "data": {
      "text/plain": [
       "Ne_peak_config(N_poly_pk1_baseline=1, N_poly_pk2_baseline=1, lower_bck_pk1=(-50, -30), upper_bck1_pk1=[7, 13], upper_bck2_pk1=[50, 80], lower_bck_pk2=[-40, -30], upper_bck1_pk2=[20, 50], upper_bck2_pk2=[20, 50], x_range_baseline=20, y_range_baseline=200, amplitude=500, x_range_peak=15, x_range_residual=7, LH_offset_mini=[2, 5], x_span_pk1=[-10, 8], x_span_pk2=[-10, 10])"
      ]
     },
     "execution_count": 130,
     "metadata": {},
     "output_type": "execute_result"
    }
   ],
   "source": [
    "Ne_Config=pf.Ne_peak_config(amplitude=500, LH_offset_mini=[2, 5], \n",
    "lower_bck_pk1=(-50, -30), upper_bck1_pk1=[7, 13], upper_bck2_pk1=[50, 80],\n",
    "lower_bck_pk2=[-40, -30], upper_bck1_pk2=[20, 50], upper_bck2_pk2=[20, 50],\n",
    "x_range_peak=15, x_span_pk1=[-10, 8], x_span_pk2=[-10, 10])\n",
    "Ne_Config"
   ]
  },
  {
   "cell_type": "code",
   "execution_count": 131,
   "id": "aed7fadd-016c-45f9-a559-c048fb19e609",
   "metadata": {},
   "outputs": [
    {
     "name": "stdout",
     "output_type": "stream",
     "text": [
      "first iteration, peak Center=1115.8005\n",
      "first iteration, peak Amplitude=3401.8929\n",
      "Trying to place second peak between 1110.8and1113.8\n",
      "Error bars not determined by function\n"
     ]
    },
    {
     "data": {
      "image/png": "[encoded data removed]",
      "text/plain": [
       "<Figure size 1200x1500 with 8 Axes>"
      ]
     },
     "metadata": {},
     "output_type": "display_data"
    }
   ],
   "source": [
    "# You also need to set whether you want 1 peak or 2 for the LH diad\n",
    "peaks_1=2\n",
    "\n",
    "df_test, Ne_1117_reg_x_plot, Ne_1117_reg_y_plot=pf.fit_Ne_lines(  \n",
    "    config=Ne_Config, peaks_1=peaks_1,\n",
    "    Ne=Ne, prefix=None, path=path, filename=filename,\n",
    "    Ne_center_1=nearest_1117, Ne_center_2=nearest_1447,\n",
    "    DeltaNe_ideal=ideal_split['Ne_Split'])                                                                 \n",
    "                                                                     \n",
    "        \n",
    "#config: Ne_peak_config=Ne_peak_config(),"
   ]
  },
  {
   "cell_type": "markdown",
   "id": "6986df1b-cf64-43eb-a824-3fdfaf708bac",
   "metadata": {},
   "source": [
    "## Now you can loop over all files using these parameters\n",
    "- Most important thing you can change is plot_figure=False, much quicker, but wont save or show figures, plot_figure=True will)\n",
    "- If you need, you can add other parameters in the loop here. "
   ]
  },
  {
   "cell_type": "code",
   "execution_count": 132,
   "id": "4f5df62f-96fc-4e08-95e3-f669a1ca2a0f",
   "metadata": {},
   "outputs": [
    {
     "data": {
      "text/plain": [
       "(1023, 181)"
      ]
     },
     "execution_count": 132,
     "metadata": {},
     "output_type": "execute_result"
    }
   ],
   "source": [
    "np.shape(df3)"
   ]
  },
  {
   "cell_type": "code",
   "execution_count": 97,
   "id": "dd887042-6c44-4f32-8b59-ffebec52be2a",
   "metadata": {},
   "outputs": [
    {
     "name": "stdout",
     "output_type": "stream",
     "text": [
      "working on 0\n",
      "first iteration, peak Center=1115.8005\n",
      "first iteration, peak Amplitude=3401.8929\n",
      "Trying to place second peak between 1110.8and1113.8\n",
      "Error bars not determined by function\n"
     ]
    },
    {
     "name": "stderr",
     "output_type": "stream",
     "text": [
      "C:\\Users\\penny\\AppData\\Local\\Temp\\ipykernel_13140\\1109064903.py:19: FutureWarning: The frame.append method is deprecated and will be removed from pandas in a future version. Use pandas.concat instead.\n",
      "  df = df.append(data)\n"
     ]
    },
    {
     "name": "stdout",
     "output_type": "stream",
     "text": [
      "working on 1\n",
      "first iteration, peak Center=1115.8362\n",
      "first iteration, peak Amplitude=3308.7571\n",
      "Trying to place second peak between 1110.84and1113.84\n",
      "Error bars not determined by function\n"
     ]
    },
    {
     "name": "stderr",
     "output_type": "stream",
     "text": [
      "C:\\Users\\penny\\AppData\\Local\\Temp\\ipykernel_13140\\1109064903.py:19: FutureWarning: The frame.append method is deprecated and will be removed from pandas in a future version. Use pandas.concat instead.\n",
      "  df = df.append(data)\n",
      "C:\\Users\\penny\\AppData\\Local\\Temp\\ipykernel_13140\\1109064903.py:19: FutureWarning: The frame.append method is deprecated and will be removed from pandas in a future version. Use pandas.concat instead.\n",
      "  df = df.append(data)\n"
     ]
    },
    {
     "name": "stdout",
     "output_type": "stream",
     "text": [
      "working on 2\n",
      "first iteration, peak Center=1115.8534\n",
      "first iteration, peak Amplitude=3355.7825\n",
      "Trying to place second peak between 1110.85and1113.85\n",
      "Error bars not determined by function\n",
      "working on 3\n",
      "first iteration, peak Center=1115.875\n",
      "first iteration, peak Amplitude=3354.2824\n",
      "Trying to place second peak between 1110.87and1113.87\n",
      "Error bars not determined by function\n",
      "working on 4\n",
      "first iteration, peak Center=1115.8765\n",
      "first iteration, peak Amplitude=3328.6703\n",
      "Trying to place second peak between 1110.88and1113.88\n",
      "Error bars not determined by function\n"
     ]
    },
    {
     "name": "stderr",
     "output_type": "stream",
     "text": [
      "C:\\Users\\penny\\AppData\\Local\\Temp\\ipykernel_13140\\1109064903.py:19: FutureWarning: The frame.append method is deprecated and will be removed from pandas in a future version. Use pandas.concat instead.\n",
      "  df = df.append(data)\n",
      "C:\\Users\\penny\\AppData\\Local\\Temp\\ipykernel_13140\\1109064903.py:19: FutureWarning: The frame.append method is deprecated and will be removed from pandas in a future version. Use pandas.concat instead.\n",
      "  df = df.append(data)\n"
     ]
    },
    {
     "name": "stdout",
     "output_type": "stream",
     "text": [
      "working on 5\n",
      "first iteration, peak Center=1115.8808\n",
      "first iteration, peak Amplitude=3311.8251\n",
      "Trying to place second peak between 1110.88and1113.88\n",
      "Error bars not determined by function\n"
     ]
    },
    {
     "name": "stderr",
     "output_type": "stream",
     "text": [
      "C:\\Users\\penny\\AppData\\Local\\Temp\\ipykernel_13140\\1109064903.py:19: FutureWarning: The frame.append method is deprecated and will be removed from pandas in a future version. Use pandas.concat instead.\n",
      "  df = df.append(data)\n",
      "C:\\Users\\penny\\AppData\\Local\\Temp\\ipykernel_13140\\1109064903.py:19: FutureWarning: The frame.append method is deprecated and will be removed from pandas in a future version. Use pandas.concat instead.\n",
      "  df = df.append(data)\n"
     ]
    },
    {
     "name": "stdout",
     "output_type": "stream",
     "text": [
      "working on 6\n",
      "first iteration, peak Center=1115.8777\n",
      "first iteration, peak Amplitude=3286.5367\n",
      "Trying to place second peak between 1110.88and1113.88\n",
      "Error bars not determined by function\n",
      "working on 7\n",
      "first iteration, peak Center=1115.8834\n",
      "first iteration, peak Amplitude=3306.6181\n",
      "Trying to place second peak between 1110.88and1113.88\n",
      "Error bars not determined by function\n",
      "working on 8\n",
      "first iteration, peak Center=1115.8968\n",
      "first iteration, peak Amplitude=3364.7401\n",
      "Trying to place second peak between 1110.9and1113.9\n",
      "Error bars not determined by function\n"
     ]
    },
    {
     "name": "stderr",
     "output_type": "stream",
     "text": [
      "C:\\Users\\penny\\AppData\\Local\\Temp\\ipykernel_13140\\1109064903.py:19: FutureWarning: The frame.append method is deprecated and will be removed from pandas in a future version. Use pandas.concat instead.\n",
      "  df = df.append(data)\n",
      "C:\\Users\\penny\\AppData\\Local\\Temp\\ipykernel_13140\\1109064903.py:19: FutureWarning: The frame.append method is deprecated and will be removed from pandas in a future version. Use pandas.concat instead.\n",
      "  df = df.append(data)\n"
     ]
    },
    {
     "name": "stdout",
     "output_type": "stream",
     "text": [
      "working on 9\n",
      "first iteration, peak Center=1115.9023\n",
      "first iteration, peak Amplitude=3292.3212\n",
      "Trying to place second peak between 1110.9and1113.9\n",
      "Error bars not determined by function\n"
     ]
    },
    {
     "name": "stderr",
     "output_type": "stream",
     "text": [
      "C:\\Users\\penny\\AppData\\Local\\Temp\\ipykernel_13140\\1109064903.py:19: FutureWarning: The frame.append method is deprecated and will be removed from pandas in a future version. Use pandas.concat instead.\n",
      "  df = df.append(data)\n",
      "C:\\Users\\penny\\AppData\\Local\\Temp\\ipykernel_13140\\1109064903.py:19: FutureWarning: The frame.append method is deprecated and will be removed from pandas in a future version. Use pandas.concat instead.\n",
      "  df = df.append(data)\n"
     ]
    },
    {
     "name": "stdout",
     "output_type": "stream",
     "text": [
      "working on 10\n",
      "first iteration, peak Center=1115.9062\n",
      "first iteration, peak Amplitude=3351.5961\n",
      "Trying to place second peak between 1110.91and1113.91\n",
      "Error bars not determined by function\n",
      "working on 11\n",
      "first iteration, peak Center=1115.9129\n",
      "first iteration, peak Amplitude=3359.0803\n",
      "Trying to place second peak between 1110.91and1113.91\n",
      "Error bars not determined by function\n",
      "working on 12\n",
      "first iteration, peak Center=1115.9163\n",
      "first iteration, peak Amplitude=3343.4709\n",
      "Trying to place second peak between 1110.92and1113.92\n",
      "Error bars not determined by function\n"
     ]
    },
    {
     "name": "stderr",
     "output_type": "stream",
     "text": [
      "C:\\Users\\penny\\AppData\\Local\\Temp\\ipykernel_13140\\1109064903.py:19: FutureWarning: The frame.append method is deprecated and will be removed from pandas in a future version. Use pandas.concat instead.\n",
      "  df = df.append(data)\n",
      "C:\\Users\\penny\\AppData\\Local\\Temp\\ipykernel_13140\\1109064903.py:19: FutureWarning: The frame.append method is deprecated and will be removed from pandas in a future version. Use pandas.concat instead.\n",
      "  df = df.append(data)\n"
     ]
    },
    {
     "name": "stdout",
     "output_type": "stream",
     "text": [
      "working on 13\n",
      "first iteration, peak Center=1115.9107\n",
      "first iteration, peak Amplitude=3340.3145\n",
      "Trying to place second peak between 1110.91and1113.91\n",
      "Error bars not determined by function\n"
     ]
    },
    {
     "name": "stderr",
     "output_type": "stream",
     "text": [
      "C:\\Users\\penny\\AppData\\Local\\Temp\\ipykernel_13140\\1109064903.py:19: FutureWarning: The frame.append method is deprecated and will be removed from pandas in a future version. Use pandas.concat instead.\n",
      "  df = df.append(data)\n",
      "C:\\Users\\penny\\AppData\\Local\\Temp\\ipykernel_13140\\1109064903.py:19: FutureWarning: The frame.append method is deprecated and will be removed from pandas in a future version. Use pandas.concat instead.\n",
      "  df = df.append(data)\n"
     ]
    },
    {
     "name": "stdout",
     "output_type": "stream",
     "text": [
      "working on 14\n",
      "first iteration, peak Center=1115.9021\n",
      "first iteration, peak Amplitude=3362.2084\n",
      "Trying to place second peak between 1110.9and1113.9\n",
      "Error bars not determined by function\n",
      "working on 15\n",
      "first iteration, peak Center=1115.8988\n",
      "first iteration, peak Amplitude=3330.3953\n",
      "Trying to place second peak between 1110.9and1113.9\n",
      "Error bars not determined by function\n",
      "working on 16\n",
      "first iteration, peak Center=1115.894\n",
      "first iteration, peak Amplitude=3343.9549\n",
      "Trying to place second peak between 1110.89and1113.89\n",
      "Error bars not determined by function\n"
     ]
    },
    {
     "name": "stderr",
     "output_type": "stream",
     "text": [
      "C:\\Users\\penny\\AppData\\Local\\Temp\\ipykernel_13140\\1109064903.py:19: FutureWarning: The frame.append method is deprecated and will be removed from pandas in a future version. Use pandas.concat instead.\n",
      "  df = df.append(data)\n",
      "C:\\Users\\penny\\AppData\\Local\\Temp\\ipykernel_13140\\1109064903.py:19: FutureWarning: The frame.append method is deprecated and will be removed from pandas in a future version. Use pandas.concat instead.\n",
      "  df = df.append(data)\n"
     ]
    },
    {
     "name": "stdout",
     "output_type": "stream",
     "text": [
      "working on 17\n",
      "first iteration, peak Center=1115.8897\n",
      "first iteration, peak Amplitude=3368.4738\n",
      "Trying to place second peak between 1110.89and1113.89\n",
      "Error bars not determined by function\n"
     ]
    },
    {
     "name": "stderr",
     "output_type": "stream",
     "text": [
      "C:\\Users\\penny\\AppData\\Local\\Temp\\ipykernel_13140\\1109064903.py:19: FutureWarning: The frame.append method is deprecated and will be removed from pandas in a future version. Use pandas.concat instead.\n",
      "  df = df.append(data)\n"
     ]
    },
    {
     "name": "stdout",
     "output_type": "stream",
     "text": [
      "working on 18\n",
      "first iteration, peak Center=1115.8861\n",
      "first iteration, peak Amplitude=3410.6476\n",
      "Trying to place second peak between 1110.89and1113.89\n",
      "Error bars not determined by function\n"
     ]
    },
    {
     "name": "stderr",
     "output_type": "stream",
     "text": [
      "C:\\Users\\penny\\AppData\\Local\\Temp\\ipykernel_13140\\1109064903.py:19: FutureWarning: The frame.append method is deprecated and will be removed from pandas in a future version. Use pandas.concat instead.\n",
      "  df = df.append(data)\n"
     ]
    },
    {
     "name": "stdout",
     "output_type": "stream",
     "text": [
      "working on 19\n",
      "first iteration, peak Center=1115.8859\n",
      "first iteration, peak Amplitude=3418.3191\n",
      "Trying to place second peak between 1110.89and1113.89\n",
      "Error bars not determined by function\n"
     ]
    },
    {
     "name": "stderr",
     "output_type": "stream",
     "text": [
      "C:\\Users\\penny\\AppData\\Local\\Temp\\ipykernel_13140\\1109064903.py:19: FutureWarning: The frame.append method is deprecated and will be removed from pandas in a future version. Use pandas.concat instead.\n",
      "  df = df.append(data)\n"
     ]
    },
    {
     "name": "stdout",
     "output_type": "stream",
     "text": [
      "working on 20\n",
      "first iteration, peak Center=1115.8813\n",
      "first iteration, peak Amplitude=3480.0762\n",
      "Trying to place second peak between 1110.88and1113.88\n",
      "Error bars not determined by function\n"
     ]
    },
    {
     "name": "stderr",
     "output_type": "stream",
     "text": [
      "C:\\Users\\penny\\AppData\\Local\\Temp\\ipykernel_13140\\1109064903.py:19: FutureWarning: The frame.append method is deprecated and will be removed from pandas in a future version. Use pandas.concat instead.\n",
      "  df = df.append(data)\n"
     ]
    },
    {
     "name": "stdout",
     "output_type": "stream",
     "text": [
      "working on 21\n",
      "first iteration, peak Center=1115.8847\n",
      "first iteration, peak Amplitude=3565.6385\n",
      "Trying to place second peak between 1110.88and1113.88\n",
      "Error bars not determined by function\n"
     ]
    },
    {
     "name": "stderr",
     "output_type": "stream",
     "text": [
      "C:\\Users\\penny\\AppData\\Local\\Temp\\ipykernel_13140\\1109064903.py:19: FutureWarning: The frame.append method is deprecated and will be removed from pandas in a future version. Use pandas.concat instead.\n",
      "  df = df.append(data)\n"
     ]
    },
    {
     "name": "stdout",
     "output_type": "stream",
     "text": [
      "working on 22\n",
      "first iteration, peak Center=1115.8786\n",
      "first iteration, peak Amplitude=3536.8174\n",
      "Trying to place second peak between 1110.88and1113.88\n",
      "Error bars not determined by function\n"
     ]
    },
    {
     "name": "stderr",
     "output_type": "stream",
     "text": [
      "C:\\Users\\penny\\AppData\\Local\\Temp\\ipykernel_13140\\1109064903.py:19: FutureWarning: The frame.append method is deprecated and will be removed from pandas in a future version. Use pandas.concat instead.\n",
      "  df = df.append(data)\n",
      "C:\\Users\\penny\\AppData\\Local\\Temp\\ipykernel_13140\\1109064903.py:19: FutureWarning: The frame.append method is deprecated and will be removed from pandas in a future version. Use pandas.concat instead.\n",
      "  df = df.append(data)\n"
     ]
    },
    {
     "name": "stdout",
     "output_type": "stream",
     "text": [
      "working on 23\n",
      "first iteration, peak Center=1115.8767\n",
      "first iteration, peak Amplitude=3565.8337\n",
      "Trying to place second peak between 1110.88and1113.88\n",
      "Error bars not determined by function\n",
      "working on 24\n",
      "first iteration, peak Center=1115.8716\n",
      "first iteration, peak Amplitude=3635.7908\n",
      "Trying to place second peak between 1110.87and1113.87\n",
      "Error bars not determined by function\n",
      "working on 25\n"
     ]
    },
    {
     "name": "stderr",
     "output_type": "stream",
     "text": [
      "C:\\Users\\penny\\AppData\\Local\\Temp\\ipykernel_13140\\1109064903.py:19: FutureWarning: The frame.append method is deprecated and will be removed from pandas in a future version. Use pandas.concat instead.\n",
      "  df = df.append(data)\n"
     ]
    },
    {
     "name": "stdout",
     "output_type": "stream",
     "text": [
      "first iteration, peak Center=1115.8757\n",
      "first iteration, peak Amplitude=3671.7351\n",
      "Trying to place second peak between 1110.88and1113.88\n",
      "Error bars not determined by function\n"
     ]
    },
    {
     "name": "stderr",
     "output_type": "stream",
     "text": [
      "C:\\Users\\penny\\AppData\\Local\\Temp\\ipykernel_13140\\1109064903.py:19: FutureWarning: The frame.append method is deprecated and will be removed from pandas in a future version. Use pandas.concat instead.\n",
      "  df = df.append(data)\n"
     ]
    },
    {
     "name": "stdout",
     "output_type": "stream",
     "text": [
      "working on 26\n",
      "first iteration, peak Center=1115.8613\n",
      "first iteration, peak Amplitude=3670.2523\n",
      "Trying to place second peak between 1110.86and1113.86\n",
      "Error bars not determined by function\n"
     ]
    },
    {
     "name": "stderr",
     "output_type": "stream",
     "text": [
      "C:\\Users\\penny\\AppData\\Local\\Temp\\ipykernel_13140\\1109064903.py:19: FutureWarning: The frame.append method is deprecated and will be removed from pandas in a future version. Use pandas.concat instead.\n",
      "  df = df.append(data)\n"
     ]
    },
    {
     "name": "stdout",
     "output_type": "stream",
     "text": [
      "working on 27\n",
      "first iteration, peak Center=1115.8626\n",
      "first iteration, peak Amplitude=3763.0141\n",
      "Trying to place second peak between 1110.86and1113.86\n",
      "Error bars not determined by function\n"
     ]
    },
    {
     "name": "stderr",
     "output_type": "stream",
     "text": [
      "C:\\Users\\penny\\AppData\\Local\\Temp\\ipykernel_13140\\1109064903.py:19: FutureWarning: The frame.append method is deprecated and will be removed from pandas in a future version. Use pandas.concat instead.\n",
      "  df = df.append(data)\n",
      "C:\\Users\\penny\\AppData\\Local\\Temp\\ipykernel_13140\\1109064903.py:19: FutureWarning: The frame.append method is deprecated and will be removed from pandas in a future version. Use pandas.concat instead.\n",
      "  df = df.append(data)\n"
     ]
    },
    {
     "name": "stdout",
     "output_type": "stream",
     "text": [
      "working on 28\n",
      "first iteration, peak Center=1115.8501\n",
      "first iteration, peak Amplitude=3548.4929\n",
      "Trying to place second peak between 1110.85and1113.85\n",
      "Error bars not determined by function\n",
      "working on 29\n",
      "first iteration, peak Center=1115.8423\n",
      "first iteration, peak Amplitude=3445.1638\n",
      "Trying to place second peak between 1110.84and1113.84\n",
      "Error bars not determined by function\n",
      "working on 30\n",
      "first iteration, peak Center=1115.848\n",
      "first iteration, peak Amplitude=3600.3086\n",
      "Trying to place second peak between 1110.85and1113.85\n"
     ]
    },
    {
     "name": "stderr",
     "output_type": "stream",
     "text": [
      "C:\\Users\\penny\\AppData\\Local\\Temp\\ipykernel_13140\\1109064903.py:19: FutureWarning: The frame.append method is deprecated and will be removed from pandas in a future version. Use pandas.concat instead.\n",
      "  df = df.append(data)\n",
      "C:\\Users\\penny\\AppData\\Local\\Temp\\ipykernel_13140\\1109064903.py:19: FutureWarning: The frame.append method is deprecated and will be removed from pandas in a future version. Use pandas.concat instead.\n",
      "  df = df.append(data)\n"
     ]
    },
    {
     "name": "stdout",
     "output_type": "stream",
     "text": [
      "Error bars not determined by function\n",
      "working on 31\n",
      "first iteration, peak Center=1115.8577\n",
      "first iteration, peak Amplitude=3699.9729\n",
      "Trying to place second peak between 1110.86and1113.86\n",
      "Error bars not determined by function\n"
     ]
    },
    {
     "name": "stderr",
     "output_type": "stream",
     "text": [
      "C:\\Users\\penny\\AppData\\Local\\Temp\\ipykernel_13140\\1109064903.py:19: FutureWarning: The frame.append method is deprecated and will be removed from pandas in a future version. Use pandas.concat instead.\n",
      "  df = df.append(data)\n",
      "C:\\Users\\penny\\AppData\\Local\\Temp\\ipykernel_13140\\1109064903.py:19: FutureWarning: The frame.append method is deprecated and will be removed from pandas in a future version. Use pandas.concat instead.\n",
      "  df = df.append(data)\n"
     ]
    },
    {
     "name": "stdout",
     "output_type": "stream",
     "text": [
      "working on 32\n",
      "first iteration, peak Center=1115.8644\n",
      "first iteration, peak Amplitude=3736.2095\n",
      "Trying to place second peak between 1110.86and1113.86\n",
      "Error bars not determined by function\n",
      "working on 33\n",
      "first iteration, peak Center=1115.8596\n",
      "first iteration, peak Amplitude=3458.5601\n",
      "Trying to place second peak between 1110.86and1113.86\n",
      "Error bars not determined by function\n",
      "working on 34\n",
      "first iteration, peak Center=1115.8585\n",
      "first iteration, peak Amplitude=3516.736\n",
      "Trying to place second peak between 1110.86and1113.86\n",
      "Error bars not determined by function\n"
     ]
    },
    {
     "name": "stderr",
     "output_type": "stream",
     "text": [
      "C:\\Users\\penny\\AppData\\Local\\Temp\\ipykernel_13140\\1109064903.py:19: FutureWarning: The frame.append method is deprecated and will be removed from pandas in a future version. Use pandas.concat instead.\n",
      "  df = df.append(data)\n",
      "C:\\Users\\penny\\AppData\\Local\\Temp\\ipykernel_13140\\1109064903.py:19: FutureWarning: The frame.append method is deprecated and will be removed from pandas in a future version. Use pandas.concat instead.\n",
      "  df = df.append(data)\n"
     ]
    },
    {
     "name": "stdout",
     "output_type": "stream",
     "text": [
      "working on 35\n",
      "first iteration, peak Center=1115.8574\n",
      "first iteration, peak Amplitude=3766.8748\n",
      "Trying to place second peak between 1110.86and1113.86\n",
      "Error bars not determined by function\n",
      "working on 36\n",
      "first iteration, peak Center=1115.8537\n",
      "first iteration, peak Amplitude=3820.4829\n",
      "Trying to place second peak between 1110.85and1113.85\n"
     ]
    },
    {
     "name": "stderr",
     "output_type": "stream",
     "text": [
      "C:\\Users\\penny\\AppData\\Local\\Temp\\ipykernel_13140\\1109064903.py:19: FutureWarning: The frame.append method is deprecated and will be removed from pandas in a future version. Use pandas.concat instead.\n",
      "  df = df.append(data)\n",
      "C:\\Users\\penny\\AppData\\Local\\Temp\\ipykernel_13140\\1109064903.py:19: FutureWarning: The frame.append method is deprecated and will be removed from pandas in a future version. Use pandas.concat instead.\n",
      "  df = df.append(data)\n"
     ]
    },
    {
     "name": "stdout",
     "output_type": "stream",
     "text": [
      "Error bars not determined by function\n",
      "working on 37\n",
      "first iteration, peak Center=1115.8466\n",
      "first iteration, peak Amplitude=3655.928\n",
      "Trying to place second peak between 1110.85and1113.85\n",
      "Error bars not determined by function\n"
     ]
    },
    {
     "name": "stderr",
     "output_type": "stream",
     "text": [
      "C:\\Users\\penny\\AppData\\Local\\Temp\\ipykernel_13140\\1109064903.py:19: FutureWarning: The frame.append method is deprecated and will be removed from pandas in a future version. Use pandas.concat instead.\n",
      "  df = df.append(data)\n",
      "C:\\Users\\penny\\AppData\\Local\\Temp\\ipykernel_13140\\1109064903.py:19: FutureWarning: The frame.append method is deprecated and will be removed from pandas in a future version. Use pandas.concat instead.\n",
      "  df = df.append(data)\n"
     ]
    },
    {
     "name": "stdout",
     "output_type": "stream",
     "text": [
      "working on 38\n",
      "first iteration, peak Center=1115.8287\n",
      "first iteration, peak Amplitude=3774.4258\n",
      "Trying to place second peak between 1110.83and1113.83\n",
      "Error bars not determined by function\n",
      "working on 39\n",
      "first iteration, peak Center=1115.8132\n",
      "first iteration, peak Amplitude=3926.7107\n",
      "Trying to place second peak between 1110.81and1113.81\n",
      "Error bars not determined by function\n",
      "working on 40\n",
      "first iteration, peak Center=1115.7867\n",
      "first iteration, peak Amplitude=3928.5326\n",
      "Trying to place second peak between 1110.79and1113.79\n",
      "Error bars not determined by function\n"
     ]
    },
    {
     "name": "stderr",
     "output_type": "stream",
     "text": [
      "C:\\Users\\penny\\AppData\\Local\\Temp\\ipykernel_13140\\1109064903.py:19: FutureWarning: The frame.append method is deprecated and will be removed from pandas in a future version. Use pandas.concat instead.\n",
      "  df = df.append(data)\n",
      "C:\\Users\\penny\\AppData\\Local\\Temp\\ipykernel_13140\\1109064903.py:19: FutureWarning: The frame.append method is deprecated and will be removed from pandas in a future version. Use pandas.concat instead.\n",
      "  df = df.append(data)\n"
     ]
    },
    {
     "name": "stdout",
     "output_type": "stream",
     "text": [
      "working on 41\n",
      "first iteration, peak Center=1115.7694\n",
      "first iteration, peak Amplitude=3969.511\n",
      "Trying to place second peak between 1110.77and1113.77\n",
      "Error bars not determined by function\n"
     ]
    },
    {
     "name": "stderr",
     "output_type": "stream",
     "text": [
      "C:\\Users\\penny\\AppData\\Local\\Temp\\ipykernel_13140\\1109064903.py:19: FutureWarning: The frame.append method is deprecated and will be removed from pandas in a future version. Use pandas.concat instead.\n",
      "  df = df.append(data)\n"
     ]
    },
    {
     "name": "stdout",
     "output_type": "stream",
     "text": [
      "working on 42\n",
      "first iteration, peak Center=1115.7644\n",
      "first iteration, peak Amplitude=3849.4448\n",
      "Trying to place second peak between 1110.76and1113.76\n",
      "Error bars not determined by function\n"
     ]
    },
    {
     "name": "stderr",
     "output_type": "stream",
     "text": [
      "C:\\Users\\penny\\AppData\\Local\\Temp\\ipykernel_13140\\1109064903.py:19: FutureWarning: The frame.append method is deprecated and will be removed from pandas in a future version. Use pandas.concat instead.\n",
      "  df = df.append(data)\n",
      "C:\\Users\\penny\\AppData\\Local\\Temp\\ipykernel_13140\\1109064903.py:19: FutureWarning: The frame.append method is deprecated and will be removed from pandas in a future version. Use pandas.concat instead.\n",
      "  df = df.append(data)\n"
     ]
    },
    {
     "name": "stdout",
     "output_type": "stream",
     "text": [
      "working on 43\n",
      "first iteration, peak Center=1115.7502\n",
      "first iteration, peak Amplitude=3838.2988\n",
      "Trying to place second peak between 1110.75and1113.75\n",
      "Error bars not determined by function\n",
      "working on 44\n",
      "first iteration, peak Center=1115.7437\n",
      "first iteration, peak Amplitude=3808.0762\n",
      "Trying to place second peak between 1110.74and1113.74\n",
      "Error bars not determined by function\n",
      "working on 45\n",
      "first iteration, peak Center=1115.7425\n",
      "first iteration, peak Amplitude=3869.732\n",
      "Trying to place second peak between 1110.74and1113.74\n",
      "Error bars not determined by function\n"
     ]
    },
    {
     "name": "stderr",
     "output_type": "stream",
     "text": [
      "C:\\Users\\penny\\AppData\\Local\\Temp\\ipykernel_13140\\1109064903.py:19: FutureWarning: The frame.append method is deprecated and will be removed from pandas in a future version. Use pandas.concat instead.\n",
      "  df = df.append(data)\n",
      "C:\\Users\\penny\\AppData\\Local\\Temp\\ipykernel_13140\\1109064903.py:19: FutureWarning: The frame.append method is deprecated and will be removed from pandas in a future version. Use pandas.concat instead.\n",
      "  df = df.append(data)\n"
     ]
    },
    {
     "name": "stdout",
     "output_type": "stream",
     "text": [
      "working on 46\n",
      "first iteration, peak Center=1115.7383\n",
      "first iteration, peak Amplitude=3894.1382\n",
      "Trying to place second peak between 1110.74and1113.74\n",
      "Error bars not determined by function\n",
      "working on 47\n",
      "first iteration, peak Center=1115.7433\n",
      "first iteration, peak Amplitude=3944.4649\n",
      "Trying to place second peak between 1110.74and1113.74\n"
     ]
    },
    {
     "name": "stderr",
     "output_type": "stream",
     "text": [
      "C:\\Users\\penny\\AppData\\Local\\Temp\\ipykernel_13140\\1109064903.py:19: FutureWarning: The frame.append method is deprecated and will be removed from pandas in a future version. Use pandas.concat instead.\n",
      "  df = df.append(data)\n",
      "C:\\Users\\penny\\AppData\\Local\\Temp\\ipykernel_13140\\1109064903.py:19: FutureWarning: The frame.append method is deprecated and will be removed from pandas in a future version. Use pandas.concat instead.\n",
      "  df = df.append(data)\n"
     ]
    },
    {
     "name": "stdout",
     "output_type": "stream",
     "text": [
      "Error bars not determined by function\n",
      "working on 48\n",
      "first iteration, peak Center=1115.7412\n",
      "first iteration, peak Amplitude=3926.3706\n",
      "Trying to place second peak between 1110.74and1113.74\n",
      "Error bars not determined by function\n"
     ]
    },
    {
     "name": "stderr",
     "output_type": "stream",
     "text": [
      "C:\\Users\\penny\\AppData\\Local\\Temp\\ipykernel_13140\\1109064903.py:19: FutureWarning: The frame.append method is deprecated and will be removed from pandas in a future version. Use pandas.concat instead.\n",
      "  df = df.append(data)\n"
     ]
    },
    {
     "name": "stdout",
     "output_type": "stream",
     "text": [
      "working on 49\n",
      "first iteration, peak Center=1115.744\n",
      "first iteration, peak Amplitude=3767.0365\n",
      "Trying to place second peak between 1110.74and1113.74\n",
      "Error bars not determined by function\n"
     ]
    },
    {
     "name": "stderr",
     "output_type": "stream",
     "text": [
      "C:\\Users\\penny\\AppData\\Local\\Temp\\ipykernel_13140\\1109064903.py:19: FutureWarning: The frame.append method is deprecated and will be removed from pandas in a future version. Use pandas.concat instead.\n",
      "  df = df.append(data)\n"
     ]
    },
    {
     "name": "stdout",
     "output_type": "stream",
     "text": [
      "working on 50\n",
      "first iteration, peak Center=1115.7481\n",
      "first iteration, peak Amplitude=3813.1101\n",
      "Trying to place second peak between 1110.75and1113.75\n",
      "Error bars not determined by function\n"
     ]
    },
    {
     "name": "stderr",
     "output_type": "stream",
     "text": [
      "C:\\Users\\penny\\AppData\\Local\\Temp\\ipykernel_13140\\1109064903.py:19: FutureWarning: The frame.append method is deprecated and will be removed from pandas in a future version. Use pandas.concat instead.\n",
      "  df = df.append(data)\n"
     ]
    },
    {
     "name": "stdout",
     "output_type": "stream",
     "text": [
      "working on 51\n",
      "first iteration, peak Center=1115.748\n",
      "first iteration, peak Amplitude=3795.786\n",
      "Trying to place second peak between 1110.75and1113.75\n",
      "Error bars not determined by function\n"
     ]
    },
    {
     "name": "stderr",
     "output_type": "stream",
     "text": [
      "C:\\Users\\penny\\AppData\\Local\\Temp\\ipykernel_13140\\1109064903.py:19: FutureWarning: The frame.append method is deprecated and will be removed from pandas in a future version. Use pandas.concat instead.\n",
      "  df = df.append(data)\n"
     ]
    },
    {
     "name": "stdout",
     "output_type": "stream",
     "text": [
      "working on 52\n",
      "first iteration, peak Center=1115.7562\n",
      "first iteration, peak Amplitude=3788.4404\n",
      "Trying to place second peak between 1110.76and1113.76\n",
      "Error bars not determined by function\n"
     ]
    },
    {
     "name": "stderr",
     "output_type": "stream",
     "text": [
      "C:\\Users\\penny\\AppData\\Local\\Temp\\ipykernel_13140\\1109064903.py:19: FutureWarning: The frame.append method is deprecated and will be removed from pandas in a future version. Use pandas.concat instead.\n",
      "  df = df.append(data)\n"
     ]
    },
    {
     "name": "stdout",
     "output_type": "stream",
     "text": [
      "working on 53\n",
      "first iteration, peak Center=1115.7584\n",
      "first iteration, peak Amplitude=3749.0579\n",
      "Trying to place second peak between 1110.76and1113.76\n",
      "Error bars not determined by function\n"
     ]
    },
    {
     "name": "stderr",
     "output_type": "stream",
     "text": [
      "C:\\Users\\penny\\AppData\\Local\\Temp\\ipykernel_13140\\1109064903.py:19: FutureWarning: The frame.append method is deprecated and will be removed from pandas in a future version. Use pandas.concat instead.\n",
      "  df = df.append(data)\n",
      "C:\\Users\\penny\\AppData\\Local\\Temp\\ipykernel_13140\\1109064903.py:19: FutureWarning: The frame.append method is deprecated and will be removed from pandas in a future version. Use pandas.concat instead.\n",
      "  df = df.append(data)\n"
     ]
    },
    {
     "name": "stdout",
     "output_type": "stream",
     "text": [
      "working on 54\n",
      "first iteration, peak Center=1115.7615\n",
      "first iteration, peak Amplitude=3725.0311\n",
      "Trying to place second peak between 1110.76and1113.76\n",
      "Error bars not determined by function\n",
      "working on 55\n",
      "first iteration, peak Center=1115.7619\n",
      "first iteration, peak Amplitude=3678.339\n",
      "Trying to place second peak between 1110.76and1113.76\n",
      "Error bars not determined by function\n",
      "working on 56\n",
      "first iteration, peak Center=1115.7584\n",
      "first iteration, peak Amplitude=3658.3219\n",
      "Trying to place second peak between 1110.76and1113.76\n",
      "Error bars not determined by function\n"
     ]
    },
    {
     "name": "stderr",
     "output_type": "stream",
     "text": [
      "C:\\Users\\penny\\AppData\\Local\\Temp\\ipykernel_13140\\1109064903.py:19: FutureWarning: The frame.append method is deprecated and will be removed from pandas in a future version. Use pandas.concat instead.\n",
      "  df = df.append(data)\n",
      "C:\\Users\\penny\\AppData\\Local\\Temp\\ipykernel_13140\\1109064903.py:19: FutureWarning: The frame.append method is deprecated and will be removed from pandas in a future version. Use pandas.concat instead.\n",
      "  df = df.append(data)\n"
     ]
    },
    {
     "name": "stdout",
     "output_type": "stream",
     "text": [
      "working on 57\n",
      "first iteration, peak Center=1115.7635\n",
      "first iteration, peak Amplitude=3725.1555\n",
      "Trying to place second peak between 1110.76and1113.76\n",
      "Error bars not determined by function\n",
      "working on 58\n",
      "first iteration, peak Center=1115.766\n",
      "first iteration, peak Amplitude=3797.8435\n",
      "Trying to place second peak between 1110.77and1113.77\n"
     ]
    },
    {
     "name": "stderr",
     "output_type": "stream",
     "text": [
      "C:\\Users\\penny\\AppData\\Local\\Temp\\ipykernel_13140\\1109064903.py:19: FutureWarning: The frame.append method is deprecated and will be removed from pandas in a future version. Use pandas.concat instead.\n",
      "  df = df.append(data)\n",
      "C:\\Users\\penny\\AppData\\Local\\Temp\\ipykernel_13140\\1109064903.py:19: FutureWarning: The frame.append method is deprecated and will be removed from pandas in a future version. Use pandas.concat instead.\n",
      "  df = df.append(data)\n"
     ]
    },
    {
     "name": "stdout",
     "output_type": "stream",
     "text": [
      "Error bars not determined by function\n",
      "working on 59\n",
      "first iteration, peak Center=1115.7652\n",
      "first iteration, peak Amplitude=3792.6976\n",
      "Trying to place second peak between 1110.77and1113.77\n",
      "Error bars not determined by function\n"
     ]
    },
    {
     "name": "stderr",
     "output_type": "stream",
     "text": [
      "C:\\Users\\penny\\AppData\\Local\\Temp\\ipykernel_13140\\1109064903.py:19: FutureWarning: The frame.append method is deprecated and will be removed from pandas in a future version. Use pandas.concat instead.\n",
      "  df = df.append(data)\n",
      "C:\\Users\\penny\\AppData\\Local\\Temp\\ipykernel_13140\\1109064903.py:19: FutureWarning: The frame.append method is deprecated and will be removed from pandas in a future version. Use pandas.concat instead.\n",
      "  df = df.append(data)\n"
     ]
    },
    {
     "name": "stdout",
     "output_type": "stream",
     "text": [
      "working on 60\n",
      "first iteration, peak Center=1115.7649\n",
      "first iteration, peak Amplitude=3791.9454\n",
      "Trying to place second peak between 1110.76and1113.76\n",
      "Error bars not determined by function\n",
      "working on 61\n",
      "first iteration, peak Center=1115.7775\n",
      "first iteration, peak Amplitude=3773.5196\n",
      "Trying to place second peak between 1110.78and1113.78\n",
      "Error bars not determined by function\n",
      "working on 62\n",
      "first iteration, peak Center=1115.7694\n",
      "first iteration, peak Amplitude=3785.4999\n",
      "Trying to place second peak between 1110.77and1113.77\n",
      "Error bars not determined by function\n",
      "working on 63\n"
     ]
    },
    {
     "name": "stderr",
     "output_type": "stream",
     "text": [
      "C:\\Users\\penny\\AppData\\Local\\Temp\\ipykernel_13140\\1109064903.py:19: FutureWarning: The frame.append method is deprecated and will be removed from pandas in a future version. Use pandas.concat instead.\n",
      "  df = df.append(data)\n",
      "C:\\Users\\penny\\AppData\\Local\\Temp\\ipykernel_13140\\1109064903.py:19: FutureWarning: The frame.append method is deprecated and will be removed from pandas in a future version. Use pandas.concat instead.\n",
      "  df = df.append(data)\n"
     ]
    },
    {
     "name": "stdout",
     "output_type": "stream",
     "text": [
      "first iteration, peak Center=1115.7689\n",
      "first iteration, peak Amplitude=3795.8011\n",
      "Trying to place second peak between 1110.77and1113.77\n",
      "Error bars not determined by function\n",
      "working on 64\n",
      "first iteration, peak Center=1115.7674\n",
      "first iteration, peak Amplitude=3799.157\n",
      "Trying to place second peak between 1110.77and1113.77\n",
      "Error bars not determined by function\n"
     ]
    },
    {
     "name": "stderr",
     "output_type": "stream",
     "text": [
      "C:\\Users\\penny\\AppData\\Local\\Temp\\ipykernel_13140\\1109064903.py:19: FutureWarning: The frame.append method is deprecated and will be removed from pandas in a future version. Use pandas.concat instead.\n",
      "  df = df.append(data)\n",
      "C:\\Users\\penny\\AppData\\Local\\Temp\\ipykernel_13140\\1109064903.py:19: FutureWarning: The frame.append method is deprecated and will be removed from pandas in a future version. Use pandas.concat instead.\n",
      "  df = df.append(data)\n"
     ]
    },
    {
     "name": "stdout",
     "output_type": "stream",
     "text": [
      "working on 65\n",
      "first iteration, peak Center=1115.7733\n",
      "first iteration, peak Amplitude=3835.5097\n",
      "Trying to place second peak between 1110.77and1113.77\n",
      "Error bars not determined by function\n",
      "working on 66\n",
      "first iteration, peak Center=1115.7778\n",
      "first iteration, peak Amplitude=3847.7002\n",
      "Trying to place second peak between 1110.78and1113.78\n"
     ]
    },
    {
     "name": "stderr",
     "output_type": "stream",
     "text": [
      "C:\\Users\\penny\\AppData\\Local\\Temp\\ipykernel_13140\\1109064903.py:19: FutureWarning: The frame.append method is deprecated and will be removed from pandas in a future version. Use pandas.concat instead.\n",
      "  df = df.append(data)\n",
      "C:\\Users\\penny\\AppData\\Local\\Temp\\ipykernel_13140\\1109064903.py:19: FutureWarning: The frame.append method is deprecated and will be removed from pandas in a future version. Use pandas.concat instead.\n",
      "  df = df.append(data)\n"
     ]
    },
    {
     "name": "stdout",
     "output_type": "stream",
     "text": [
      "Error bars not determined by function\n",
      "working on 67\n",
      "first iteration, peak Center=1115.772\n",
      "first iteration, peak Amplitude=3888.7358\n",
      "Trying to place second peak between 1110.77and1113.77\n",
      "Error bars not determined by function\n",
      "working on 68\n"
     ]
    },
    {
     "name": "stderr",
     "output_type": "stream",
     "text": [
      "C:\\Users\\penny\\AppData\\Local\\Temp\\ipykernel_13140\\1109064903.py:19: FutureWarning: The frame.append method is deprecated and will be removed from pandas in a future version. Use pandas.concat instead.\n",
      "  df = df.append(data)\n",
      "C:\\Users\\penny\\AppData\\Local\\Temp\\ipykernel_13140\\1109064903.py:19: FutureWarning: The frame.append method is deprecated and will be removed from pandas in a future version. Use pandas.concat instead.\n",
      "  df = df.append(data)\n"
     ]
    },
    {
     "name": "stdout",
     "output_type": "stream",
     "text": [
      "first iteration, peak Center=1115.7713\n",
      "first iteration, peak Amplitude=3778.3287\n",
      "Trying to place second peak between 1110.77and1113.77\n",
      "Error bars not determined by function\n",
      "working on 69\n",
      "first iteration, peak Center=1115.7705\n",
      "first iteration, peak Amplitude=3776.2782\n",
      "Trying to place second peak between 1110.77and1113.77\n",
      "Error bars not determined by function\n"
     ]
    },
    {
     "name": "stderr",
     "output_type": "stream",
     "text": [
      "C:\\Users\\penny\\AppData\\Local\\Temp\\ipykernel_13140\\1109064903.py:19: FutureWarning: The frame.append method is deprecated and will be removed from pandas in a future version. Use pandas.concat instead.\n",
      "  df = df.append(data)\n"
     ]
    },
    {
     "name": "stdout",
     "output_type": "stream",
     "text": [
      "working on 70\n",
      "first iteration, peak Center=1115.7763\n",
      "first iteration, peak Amplitude=3814.6528\n",
      "Trying to place second peak between 1110.78and1113.78\n",
      "Error bars not determined by function\n"
     ]
    },
    {
     "name": "stderr",
     "output_type": "stream",
     "text": [
      "C:\\Users\\penny\\AppData\\Local\\Temp\\ipykernel_13140\\1109064903.py:19: FutureWarning: The frame.append method is deprecated and will be removed from pandas in a future version. Use pandas.concat instead.\n",
      "  df = df.append(data)\n",
      "C:\\Users\\penny\\AppData\\Local\\Temp\\ipykernel_13140\\1109064903.py:19: FutureWarning: The frame.append method is deprecated and will be removed from pandas in a future version. Use pandas.concat instead.\n",
      "  df = df.append(data)\n"
     ]
    },
    {
     "name": "stdout",
     "output_type": "stream",
     "text": [
      "working on 71\n",
      "first iteration, peak Center=1115.7729\n",
      "first iteration, peak Amplitude=3864.1552\n",
      "Trying to place second peak between 1110.77and1113.77\n",
      "Error bars not determined by function\n",
      "working on 72\n",
      "first iteration, peak Center=1115.7737\n",
      "first iteration, peak Amplitude=3792.8426\n",
      "Trying to place second peak between 1110.77and1113.77\n",
      "Error bars not determined by function\n",
      "working on 73\n",
      "first iteration, peak Center=1115.7761\n",
      "first iteration, peak Amplitude=3855.8143\n",
      "Trying to place second peak between 1110.78and1113.78\n",
      "Error bars not determined by function\n"
     ]
    },
    {
     "name": "stderr",
     "output_type": "stream",
     "text": [
      "C:\\Users\\penny\\AppData\\Local\\Temp\\ipykernel_13140\\1109064903.py:19: FutureWarning: The frame.append method is deprecated and will be removed from pandas in a future version. Use pandas.concat instead.\n",
      "  df = df.append(data)\n",
      "C:\\Users\\penny\\AppData\\Local\\Temp\\ipykernel_13140\\1109064903.py:19: FutureWarning: The frame.append method is deprecated and will be removed from pandas in a future version. Use pandas.concat instead.\n",
      "  df = df.append(data)\n"
     ]
    },
    {
     "name": "stdout",
     "output_type": "stream",
     "text": [
      "working on 74\n",
      "first iteration, peak Center=1115.7828\n",
      "first iteration, peak Amplitude=3884.4405\n",
      "Trying to place second peak between 1110.78and1113.78\n",
      "Error bars not determined by function\n"
     ]
    },
    {
     "name": "stderr",
     "output_type": "stream",
     "text": [
      "C:\\Users\\penny\\AppData\\Local\\Temp\\ipykernel_13140\\1109064903.py:19: FutureWarning: The frame.append method is deprecated and will be removed from pandas in a future version. Use pandas.concat instead.\n",
      "  df = df.append(data)\n",
      "C:\\Users\\penny\\AppData\\Local\\Temp\\ipykernel_13140\\1109064903.py:19: FutureWarning: The frame.append method is deprecated and will be removed from pandas in a future version. Use pandas.concat instead.\n",
      "  df = df.append(data)\n"
     ]
    },
    {
     "name": "stdout",
     "output_type": "stream",
     "text": [
      "working on 75\n",
      "first iteration, peak Center=1115.7839\n",
      "first iteration, peak Amplitude=3874.9165\n",
      "Trying to place second peak between 1110.78and1113.78\n",
      "Error bars not determined by function\n",
      "working on 76\n",
      "first iteration, peak Center=1115.787\n",
      "first iteration, peak Amplitude=3925.633\n",
      "Trying to place second peak between 1110.79and1113.79\n",
      "Error bars not determined by function\n",
      "working on 77\n",
      "first iteration, peak Center=1115.7874\n",
      "first iteration, peak Amplitude=3916.4955\n",
      "Trying to place second peak between 1110.79and1113.79\n",
      "Error bars not determined by function\n"
     ]
    },
    {
     "name": "stderr",
     "output_type": "stream",
     "text": [
      "C:\\Users\\penny\\AppData\\Local\\Temp\\ipykernel_13140\\1109064903.py:19: FutureWarning: The frame.append method is deprecated and will be removed from pandas in a future version. Use pandas.concat instead.\n",
      "  df = df.append(data)\n",
      "C:\\Users\\penny\\AppData\\Local\\Temp\\ipykernel_13140\\1109064903.py:19: FutureWarning: The frame.append method is deprecated and will be removed from pandas in a future version. Use pandas.concat instead.\n",
      "  df = df.append(data)\n"
     ]
    },
    {
     "name": "stdout",
     "output_type": "stream",
     "text": [
      "working on 78\n",
      "first iteration, peak Center=1115.788\n",
      "first iteration, peak Amplitude=3974.7429\n",
      "Trying to place second peak between 1110.79and1113.79\n",
      "Error bars not determined by function\n",
      "working on 79\n",
      "first iteration, peak Center=1115.7891\n",
      "first iteration, peak Amplitude=3931.1675\n",
      "Trying to place second peak between 1110.79and1113.79\n"
     ]
    },
    {
     "name": "stderr",
     "output_type": "stream",
     "text": [
      "C:\\Users\\penny\\AppData\\Local\\Temp\\ipykernel_13140\\1109064903.py:19: FutureWarning: The frame.append method is deprecated and will be removed from pandas in a future version. Use pandas.concat instead.\n",
      "  df = df.append(data)\n",
      "C:\\Users\\penny\\AppData\\Local\\Temp\\ipykernel_13140\\1109064903.py:19: FutureWarning: The frame.append method is deprecated and will be removed from pandas in a future version. Use pandas.concat instead.\n",
      "  df = df.append(data)\n"
     ]
    },
    {
     "name": "stdout",
     "output_type": "stream",
     "text": [
      "Error bars not determined by function\n",
      "working on 80\n",
      "first iteration, peak Center=1115.7886\n",
      "first iteration, peak Amplitude=3941.7612\n",
      "Trying to place second peak between 1110.79and1113.79\n",
      "Error bars not determined by function\n"
     ]
    },
    {
     "name": "stderr",
     "output_type": "stream",
     "text": [
      "C:\\Users\\penny\\AppData\\Local\\Temp\\ipykernel_13140\\1109064903.py:19: FutureWarning: The frame.append method is deprecated and will be removed from pandas in a future version. Use pandas.concat instead.\n",
      "  df = df.append(data)\n",
      "C:\\Users\\penny\\AppData\\Local\\Temp\\ipykernel_13140\\1109064903.py:19: FutureWarning: The frame.append method is deprecated and will be removed from pandas in a future version. Use pandas.concat instead.\n",
      "  df = df.append(data)\n"
     ]
    },
    {
     "name": "stdout",
     "output_type": "stream",
     "text": [
      "working on 81\n",
      "first iteration, peak Center=1115.7823\n",
      "first iteration, peak Amplitude=3915.6066\n",
      "Trying to place second peak between 1110.78and1113.78\n",
      "Error bars not determined by function\n",
      "working on 82\n",
      "first iteration, peak Center=1115.7933\n",
      "first iteration, peak Amplitude=3908.4945\n",
      "Trying to place second peak between 1110.79and1113.79\n",
      "Error bars not determined by function\n"
     ]
    },
    {
     "name": "stderr",
     "output_type": "stream",
     "text": [
      "C:\\Users\\penny\\AppData\\Local\\Temp\\ipykernel_13140\\1109064903.py:19: FutureWarning: The frame.append method is deprecated and will be removed from pandas in a future version. Use pandas.concat instead.\n",
      "  df = df.append(data)\n",
      "C:\\Users\\penny\\AppData\\Local\\Temp\\ipykernel_13140\\1109064903.py:19: FutureWarning: The frame.append method is deprecated and will be removed from pandas in a future version. Use pandas.concat instead.\n",
      "  df = df.append(data)\n"
     ]
    },
    {
     "name": "stdout",
     "output_type": "stream",
     "text": [
      "working on 83\n",
      "first iteration, peak Center=1115.7996\n",
      "first iteration, peak Amplitude=3937.5504\n",
      "Trying to place second peak between 1110.8and1113.8\n",
      "Error bars not determined by function\n",
      "working on 84\n",
      "first iteration, peak Center=1115.7981\n",
      "first iteration, peak Amplitude=4033.6653\n",
      "Trying to place second peak between 1110.8and1113.8\n",
      "Error bars not determined by function\n",
      "working on 85\n",
      "first iteration, peak Center=1115.8003\n",
      "first iteration, peak Amplitude=4015.3571\n",
      "Trying to place second peak between 1110.8and1113.8\n",
      "Error bars not determined by function\n"
     ]
    },
    {
     "name": "stderr",
     "output_type": "stream",
     "text": [
      "C:\\Users\\penny\\AppData\\Local\\Temp\\ipykernel_13140\\1109064903.py:19: FutureWarning: The frame.append method is deprecated and will be removed from pandas in a future version. Use pandas.concat instead.\n",
      "  df = df.append(data)\n",
      "C:\\Users\\penny\\AppData\\Local\\Temp\\ipykernel_13140\\1109064903.py:19: FutureWarning: The frame.append method is deprecated and will be removed from pandas in a future version. Use pandas.concat instead.\n",
      "  df = df.append(data)\n",
      "C:\\Users\\penny\\AppData\\Local\\Temp\\ipykernel_13140\\1109064903.py:19: FutureWarning: The frame.append method is deprecated and will be removed from pandas in a future version. Use pandas.concat instead.\n",
      "  df = df.append(data)\n"
     ]
    },
    {
     "name": "stdout",
     "output_type": "stream",
     "text": [
      "working on 86\n",
      "first iteration, peak Center=1115.8005\n",
      "first iteration, peak Amplitude=4098.6932\n",
      "Trying to place second peak between 1110.8and1113.8\n",
      "Error bars not determined by function\n",
      "working on 87\n",
      "first iteration, peak Center=1115.799\n",
      "first iteration, peak Amplitude=4039.1123\n",
      "Trying to place second peak between 1110.8and1113.8\n",
      "Error bars not determined by function\n",
      "working on 88\n",
      "first iteration, peak Center=1115.8059\n",
      "first iteration, peak Amplitude=3936.7238\n",
      "Trying to place second peak between 1110.81and1113.81\n",
      "Error bars not determined by function\n",
      "working on 89\n"
     ]
    },
    {
     "name": "stderr",
     "output_type": "stream",
     "text": [
      "C:\\Users\\penny\\AppData\\Local\\Temp\\ipykernel_13140\\1109064903.py:19: FutureWarning: The frame.append method is deprecated and will be removed from pandas in a future version. Use pandas.concat instead.\n",
      "  df = df.append(data)\n",
      "C:\\Users\\penny\\AppData\\Local\\Temp\\ipykernel_13140\\1109064903.py:19: FutureWarning: The frame.append method is deprecated and will be removed from pandas in a future version. Use pandas.concat instead.\n",
      "  df = df.append(data)\n"
     ]
    },
    {
     "name": "stdout",
     "output_type": "stream",
     "text": [
      "first iteration, peak Center=1115.8095\n",
      "first iteration, peak Amplitude=3945.541\n",
      "Trying to place second peak between 1110.81and1113.81\n",
      "Error bars not determined by function\n",
      "working on 90\n",
      "first iteration, peak Center=1115.8104\n",
      "first iteration, peak Amplitude=3875.1505\n",
      "Trying to place second peak between 1110.81and1113.81\n",
      "Error bars not determined by function\n"
     ]
    },
    {
     "name": "stderr",
     "output_type": "stream",
     "text": [
      "C:\\Users\\penny\\AppData\\Local\\Temp\\ipykernel_13140\\1109064903.py:19: FutureWarning: The frame.append method is deprecated and will be removed from pandas in a future version. Use pandas.concat instead.\n",
      "  df = df.append(data)\n",
      "C:\\Users\\penny\\AppData\\Local\\Temp\\ipykernel_13140\\1109064903.py:19: FutureWarning: The frame.append method is deprecated and will be removed from pandas in a future version. Use pandas.concat instead.\n",
      "  df = df.append(data)\n"
     ]
    },
    {
     "name": "stdout",
     "output_type": "stream",
     "text": [
      "working on 91\n",
      "first iteration, peak Center=1115.8081\n",
      "first iteration, peak Amplitude=3803.6402\n",
      "Trying to place second peak between 1110.81and1113.81\n",
      "Error bars not determined by function\n",
      "working on 92\n",
      "first iteration, peak Center=1115.8087\n",
      "first iteration, peak Amplitude=3760.4474\n",
      "Trying to place second peak between 1110.81and1113.81\n"
     ]
    },
    {
     "name": "stderr",
     "output_type": "stream",
     "text": [
      "C:\\Users\\penny\\AppData\\Local\\Temp\\ipykernel_13140\\1109064903.py:19: FutureWarning: The frame.append method is deprecated and will be removed from pandas in a future version. Use pandas.concat instead.\n",
      "  df = df.append(data)\n",
      "C:\\Users\\penny\\AppData\\Local\\Temp\\ipykernel_13140\\1109064903.py:19: FutureWarning: The frame.append method is deprecated and will be removed from pandas in a future version. Use pandas.concat instead.\n",
      "  df = df.append(data)\n"
     ]
    },
    {
     "name": "stdout",
     "output_type": "stream",
     "text": [
      "Error bars not determined by function\n",
      "working on 93\n",
      "first iteration, peak Center=1115.8057\n",
      "first iteration, peak Amplitude=3661.6146\n",
      "Trying to place second peak between 1110.81and1113.81\n",
      "Error bars not determined by function\n"
     ]
    },
    {
     "name": "stderr",
     "output_type": "stream",
     "text": [
      "C:\\Users\\penny\\AppData\\Local\\Temp\\ipykernel_13140\\1109064903.py:19: FutureWarning: The frame.append method is deprecated and will be removed from pandas in a future version. Use pandas.concat instead.\n",
      "  df = df.append(data)\n",
      "C:\\Users\\penny\\AppData\\Local\\Temp\\ipykernel_13140\\1109064903.py:19: FutureWarning: The frame.append method is deprecated and will be removed from pandas in a future version. Use pandas.concat instead.\n",
      "  df = df.append(data)\n"
     ]
    },
    {
     "name": "stdout",
     "output_type": "stream",
     "text": [
      "working on 94\n",
      "first iteration, peak Center=1115.8072\n",
      "first iteration, peak Amplitude=3680.7568\n",
      "Trying to place second peak between 1110.81and1113.81\n",
      "Error bars not determined by function\n",
      "working on 95\n",
      "first iteration, peak Center=1115.802\n",
      "first iteration, peak Amplitude=3580.9426\n",
      "Trying to place second peak between 1110.8and1113.8\n",
      "Error bars not determined by function\n",
      "working on 96\n",
      "first iteration, peak Center=1115.7995\n",
      "first iteration, peak Amplitude=3472.7527\n",
      "Trying to place second peak between 1110.8and1113.8\n",
      "Error bars not determined by function\n",
      "working on 97\n"
     ]
    },
    {
     "name": "stderr",
     "output_type": "stream",
     "text": [
      "C:\\Users\\penny\\AppData\\Local\\Temp\\ipykernel_13140\\1109064903.py:19: FutureWarning: The frame.append method is deprecated and will be removed from pandas in a future version. Use pandas.concat instead.\n",
      "  df = df.append(data)\n",
      "C:\\Users\\penny\\AppData\\Local\\Temp\\ipykernel_13140\\1109064903.py:19: FutureWarning: The frame.append method is deprecated and will be removed from pandas in a future version. Use pandas.concat instead.\n",
      "  df = df.append(data)\n"
     ]
    },
    {
     "name": "stdout",
     "output_type": "stream",
     "text": [
      "first iteration, peak Center=1115.8055\n",
      "first iteration, peak Amplitude=3111.0337\n",
      "Trying to place second peak between 1110.81and1113.81\n",
      "Error bars not determined by function\n",
      "working on 98\n",
      "first iteration, peak Center=1115.81\n",
      "first iteration, peak Amplitude=3040.9072\n",
      "Trying to place second peak between 1110.81and1113.81\n",
      "Error bars not determined by function\n"
     ]
    },
    {
     "name": "stderr",
     "output_type": "stream",
     "text": [
      "C:\\Users\\penny\\AppData\\Local\\Temp\\ipykernel_13140\\1109064903.py:19: FutureWarning: The frame.append method is deprecated and will be removed from pandas in a future version. Use pandas.concat instead.\n",
      "  df = df.append(data)\n",
      "C:\\Users\\penny\\AppData\\Local\\Temp\\ipykernel_13140\\1109064903.py:19: FutureWarning: The frame.append method is deprecated and will be removed from pandas in a future version. Use pandas.concat instead.\n",
      "  df = df.append(data)\n"
     ]
    },
    {
     "name": "stdout",
     "output_type": "stream",
     "text": [
      "working on 99\n",
      "first iteration, peak Center=1115.8091\n",
      "first iteration, peak Amplitude=3298.5873\n",
      "Trying to place second peak between 1110.81and1113.81\n",
      "Error bars not determined by function\n",
      "working on 100\n",
      "first iteration, peak Center=1115.8104\n",
      "first iteration, peak Amplitude=3306.0997\n",
      "Trying to place second peak between 1110.81and1113.81\n"
     ]
    },
    {
     "name": "stderr",
     "output_type": "stream",
     "text": [
      "C:\\Users\\penny\\AppData\\Local\\Temp\\ipykernel_13140\\1109064903.py:19: FutureWarning: The frame.append method is deprecated and will be removed from pandas in a future version. Use pandas.concat instead.\n",
      "  df = df.append(data)\n",
      "C:\\Users\\penny\\AppData\\Local\\Temp\\ipykernel_13140\\1109064903.py:19: FutureWarning: The frame.append method is deprecated and will be removed from pandas in a future version. Use pandas.concat instead.\n",
      "  df = df.append(data)\n"
     ]
    },
    {
     "name": "stdout",
     "output_type": "stream",
     "text": [
      "Error bars not determined by function\n",
      "working on 101\n",
      "first iteration, peak Center=1115.806\n",
      "first iteration, peak Amplitude=3330.0627\n",
      "Trying to place second peak between 1110.81and1113.81\n",
      "Error bars not determined by function\n"
     ]
    },
    {
     "name": "stderr",
     "output_type": "stream",
     "text": [
      "C:\\Users\\penny\\AppData\\Local\\Temp\\ipykernel_13140\\1109064903.py:19: FutureWarning: The frame.append method is deprecated and will be removed from pandas in a future version. Use pandas.concat instead.\n",
      "  df = df.append(data)\n",
      "C:\\Users\\penny\\AppData\\Local\\Temp\\ipykernel_13140\\1109064903.py:19: FutureWarning: The frame.append method is deprecated and will be removed from pandas in a future version. Use pandas.concat instead.\n",
      "  df = df.append(data)\n"
     ]
    },
    {
     "name": "stdout",
     "output_type": "stream",
     "text": [
      "working on 102\n",
      "first iteration, peak Center=1115.8104\n",
      "first iteration, peak Amplitude=3446.3097\n",
      "Trying to place second peak between 1110.81and1113.81\n",
      "Error bars not determined by function\n",
      "working on 103\n",
      "first iteration, peak Center=1115.8123\n",
      "first iteration, peak Amplitude=3443.3168\n",
      "Trying to place second peak between 1110.81and1113.81\n",
      "Error bars not determined by function\n",
      "working on 104\n",
      "first iteration, peak Center=1115.8135\n",
      "first iteration, peak Amplitude=3389.2899\n",
      "Trying to place second peak between 1110.81and1113.81\n",
      "Error bars not determined by function\n",
      "working on 105\n"
     ]
    },
    {
     "name": "stderr",
     "output_type": "stream",
     "text": [
      "C:\\Users\\penny\\AppData\\Local\\Temp\\ipykernel_13140\\1109064903.py:19: FutureWarning: The frame.append method is deprecated and will be removed from pandas in a future version. Use pandas.concat instead.\n",
      "  df = df.append(data)\n",
      "C:\\Users\\penny\\AppData\\Local\\Temp\\ipykernel_13140\\1109064903.py:19: FutureWarning: The frame.append method is deprecated and will be removed from pandas in a future version. Use pandas.concat instead.\n",
      "  df = df.append(data)\n"
     ]
    },
    {
     "name": "stdout",
     "output_type": "stream",
     "text": [
      "first iteration, peak Center=1115.8155\n",
      "first iteration, peak Amplitude=3358.9118\n",
      "Trying to place second peak between 1110.82and1113.82\n",
      "Error bars not determined by function\n",
      "working on 106\n",
      "first iteration, peak Center=1115.8153\n",
      "first iteration, peak Amplitude=3454.7303\n",
      "Trying to place second peak between 1110.82and1113.82\n",
      "Error bars not determined by function\n"
     ]
    },
    {
     "name": "stderr",
     "output_type": "stream",
     "text": [
      "C:\\Users\\penny\\AppData\\Local\\Temp\\ipykernel_13140\\1109064903.py:19: FutureWarning: The frame.append method is deprecated and will be removed from pandas in a future version. Use pandas.concat instead.\n",
      "  df = df.append(data)\n",
      "C:\\Users\\penny\\AppData\\Local\\Temp\\ipykernel_13140\\1109064903.py:19: FutureWarning: The frame.append method is deprecated and will be removed from pandas in a future version. Use pandas.concat instead.\n",
      "  df = df.append(data)\n"
     ]
    },
    {
     "name": "stdout",
     "output_type": "stream",
     "text": [
      "working on 107\n",
      "first iteration, peak Center=1115.8155\n",
      "first iteration, peak Amplitude=3464.4059\n",
      "Trying to place second peak between 1110.82and1113.82\n",
      "Error bars not determined by function\n",
      "working on 108\n",
      "first iteration, peak Center=1115.814\n",
      "first iteration, peak Amplitude=3472.9698\n",
      "Trying to place second peak between 1110.81and1113.81\n"
     ]
    },
    {
     "name": "stderr",
     "output_type": "stream",
     "text": [
      "C:\\Users\\penny\\AppData\\Local\\Temp\\ipykernel_13140\\1109064903.py:19: FutureWarning: The frame.append method is deprecated and will be removed from pandas in a future version. Use pandas.concat instead.\n",
      "  df = df.append(data)\n",
      "C:\\Users\\penny\\AppData\\Local\\Temp\\ipykernel_13140\\1109064903.py:19: FutureWarning: The frame.append method is deprecated and will be removed from pandas in a future version. Use pandas.concat instead.\n",
      "  df = df.append(data)\n"
     ]
    },
    {
     "name": "stdout",
     "output_type": "stream",
     "text": [
      "Error bars not determined by function\n",
      "working on 109\n",
      "first iteration, peak Center=1115.8161\n",
      "first iteration, peak Amplitude=3515.6\n",
      "Trying to place second peak between 1110.82and1113.82\n",
      "Error bars not determined by function\n"
     ]
    },
    {
     "name": "stderr",
     "output_type": "stream",
     "text": [
      "C:\\Users\\penny\\AppData\\Local\\Temp\\ipykernel_13140\\1109064903.py:19: FutureWarning: The frame.append method is deprecated and will be removed from pandas in a future version. Use pandas.concat instead.\n",
      "  df = df.append(data)\n",
      "C:\\Users\\penny\\AppData\\Local\\Temp\\ipykernel_13140\\1109064903.py:19: FutureWarning: The frame.append method is deprecated and will be removed from pandas in a future version. Use pandas.concat instead.\n",
      "  df = df.append(data)\n"
     ]
    },
    {
     "name": "stdout",
     "output_type": "stream",
     "text": [
      "working on 110\n",
      "first iteration, peak Center=1115.8182\n",
      "first iteration, peak Amplitude=3498.6311\n",
      "Trying to place second peak between 1110.82and1113.82\n",
      "Error bars not determined by function\n",
      "working on 111\n",
      "first iteration, peak Center=1115.8183\n",
      "first iteration, peak Amplitude=3541.622\n",
      "Trying to place second peak between 1110.82and1113.82\n",
      "Error bars not determined by function\n"
     ]
    },
    {
     "name": "stderr",
     "output_type": "stream",
     "text": [
      "C:\\Users\\penny\\AppData\\Local\\Temp\\ipykernel_13140\\1109064903.py:19: FutureWarning: The frame.append method is deprecated and will be removed from pandas in a future version. Use pandas.concat instead.\n",
      "  df = df.append(data)\n",
      "C:\\Users\\penny\\AppData\\Local\\Temp\\ipykernel_13140\\1109064903.py:19: FutureWarning: The frame.append method is deprecated and will be removed from pandas in a future version. Use pandas.concat instead.\n",
      "  df = df.append(data)\n"
     ]
    },
    {
     "name": "stdout",
     "output_type": "stream",
     "text": [
      "working on 112\n",
      "first iteration, peak Center=1115.8194\n",
      "first iteration, peak Amplitude=3577.7836\n",
      "Trying to place second peak between 1110.82and1113.82\n",
      "Error bars not determined by function\n",
      "working on 113\n",
      "first iteration, peak Center=1115.8231\n",
      "first iteration, peak Amplitude=3571.8724\n",
      "Trying to place second peak between 1110.82and1113.82\n",
      "Error bars not determined by function\n",
      "working on 114\n",
      "first iteration, peak Center=1115.8252\n",
      "first iteration, peak Amplitude=3597.9763\n",
      "Trying to place second peak between 1110.83and1113.83\n",
      "Error bars not determined by function\n",
      "working on 115\n"
     ]
    },
    {
     "name": "stderr",
     "output_type": "stream",
     "text": [
      "C:\\Users\\penny\\AppData\\Local\\Temp\\ipykernel_13140\\1109064903.py:19: FutureWarning: The frame.append method is deprecated and will be removed from pandas in a future version. Use pandas.concat instead.\n",
      "  df = df.append(data)\n",
      "C:\\Users\\penny\\AppData\\Local\\Temp\\ipykernel_13140\\1109064903.py:19: FutureWarning: The frame.append method is deprecated and will be removed from pandas in a future version. Use pandas.concat instead.\n",
      "  df = df.append(data)\n"
     ]
    },
    {
     "name": "stdout",
     "output_type": "stream",
     "text": [
      "first iteration, peak Center=1115.827\n",
      "first iteration, peak Amplitude=3619.0974\n",
      "Trying to place second peak between 1110.83and1113.83\n",
      "Error bars not determined by function\n",
      "working on 116\n",
      "first iteration, peak Center=1115.8269\n",
      "first iteration, peak Amplitude=3624.7653\n",
      "Trying to place second peak between 1110.83and1113.83\n",
      "Error bars not determined by function\n"
     ]
    },
    {
     "name": "stderr",
     "output_type": "stream",
     "text": [
      "C:\\Users\\penny\\AppData\\Local\\Temp\\ipykernel_13140\\1109064903.py:19: FutureWarning: The frame.append method is deprecated and will be removed from pandas in a future version. Use pandas.concat instead.\n",
      "  df = df.append(data)\n",
      "C:\\Users\\penny\\AppData\\Local\\Temp\\ipykernel_13140\\1109064903.py:19: FutureWarning: The frame.append method is deprecated and will be removed from pandas in a future version. Use pandas.concat instead.\n",
      "  df = df.append(data)\n"
     ]
    },
    {
     "name": "stdout",
     "output_type": "stream",
     "text": [
      "working on 117\n",
      "first iteration, peak Center=1115.826\n",
      "first iteration, peak Amplitude=3601.4824\n",
      "Trying to place second peak between 1110.83and1113.83\n",
      "Error bars not determined by function\n",
      "working on 118\n",
      "first iteration, peak Center=1115.8284\n",
      "first iteration, peak Amplitude=3605.8394\n",
      "Trying to place second peak between 1110.83and1113.83\n"
     ]
    },
    {
     "name": "stderr",
     "output_type": "stream",
     "text": [
      "C:\\Users\\penny\\AppData\\Local\\Temp\\ipykernel_13140\\1109064903.py:19: FutureWarning: The frame.append method is deprecated and will be removed from pandas in a future version. Use pandas.concat instead.\n",
      "  df = df.append(data)\n",
      "C:\\Users\\penny\\AppData\\Local\\Temp\\ipykernel_13140\\1109064903.py:19: FutureWarning: The frame.append method is deprecated and will be removed from pandas in a future version. Use pandas.concat instead.\n",
      "  df = df.append(data)\n"
     ]
    },
    {
     "name": "stdout",
     "output_type": "stream",
     "text": [
      "Error bars not determined by function\n",
      "working on 119\n",
      "first iteration, peak Center=1115.8329\n",
      "first iteration, peak Amplitude=3559.7554\n",
      "Trying to place second peak between 1110.83and1113.83\n",
      "Error bars not determined by function\n"
     ]
    },
    {
     "name": "stderr",
     "output_type": "stream",
     "text": [
      "C:\\Users\\penny\\AppData\\Local\\Temp\\ipykernel_13140\\1109064903.py:19: FutureWarning: The frame.append method is deprecated and will be removed from pandas in a future version. Use pandas.concat instead.\n",
      "  df = df.append(data)\n",
      "C:\\Users\\penny\\AppData\\Local\\Temp\\ipykernel_13140\\1109064903.py:19: FutureWarning: The frame.append method is deprecated and will be removed from pandas in a future version. Use pandas.concat instead.\n",
      "  df = df.append(data)\n"
     ]
    },
    {
     "name": "stdout",
     "output_type": "stream",
     "text": [
      "working on 120\n",
      "first iteration, peak Center=1115.8234\n",
      "first iteration, peak Amplitude=3473.8585\n",
      "Trying to place second peak between 1110.82and1113.82\n",
      "Error bars not determined by function\n",
      "working on 121\n",
      "first iteration, peak Center=1115.8255\n",
      "first iteration, peak Amplitude=3577.7899\n",
      "Trying to place second peak between 1110.83and1113.83\n",
      "Error bars not determined by function\n",
      "working on 122\n",
      "first iteration, peak Center=1115.8268\n",
      "first iteration, peak Amplitude=3635.3393\n",
      "Trying to place second peak between 1110.83and1113.83\n",
      "Error bars not determined by function\n"
     ]
    },
    {
     "name": "stderr",
     "output_type": "stream",
     "text": [
      "C:\\Users\\penny\\AppData\\Local\\Temp\\ipykernel_13140\\1109064903.py:19: FutureWarning: The frame.append method is deprecated and will be removed from pandas in a future version. Use pandas.concat instead.\n",
      "  df = df.append(data)\n",
      "C:\\Users\\penny\\AppData\\Local\\Temp\\ipykernel_13140\\1109064903.py:19: FutureWarning: The frame.append method is deprecated and will be removed from pandas in a future version. Use pandas.concat instead.\n",
      "  df = df.append(data)\n",
      "C:\\Users\\penny\\AppData\\Local\\Temp\\ipykernel_13140\\1109064903.py:19: FutureWarning: The frame.append method is deprecated and will be removed from pandas in a future version. Use pandas.concat instead.\n",
      "  df = df.append(data)\n"
     ]
    },
    {
     "name": "stdout",
     "output_type": "stream",
     "text": [
      "working on 123\n",
      "first iteration, peak Center=1115.8303\n",
      "first iteration, peak Amplitude=3647.9718\n",
      "Trying to place second peak between 1110.83and1113.83\n",
      "Error bars not determined by function\n",
      "working on 124\n",
      "first iteration, peak Center=1115.8251\n",
      "first iteration, peak Amplitude=3662.3818\n",
      "Trying to place second peak between 1110.83and1113.83\n",
      "Error bars not determined by function\n",
      "working on 125\n",
      "first iteration, peak Center=1115.8258\n",
      "first iteration, peak Amplitude=3644.9009\n",
      "Trying to place second peak between 1110.83and1113.83\n",
      "Error bars not determined by function\n"
     ]
    },
    {
     "name": "stderr",
     "output_type": "stream",
     "text": [
      "C:\\Users\\penny\\AppData\\Local\\Temp\\ipykernel_13140\\1109064903.py:19: FutureWarning: The frame.append method is deprecated and will be removed from pandas in a future version. Use pandas.concat instead.\n",
      "  df = df.append(data)\n",
      "C:\\Users\\penny\\AppData\\Local\\Temp\\ipykernel_13140\\1109064903.py:19: FutureWarning: The frame.append method is deprecated and will be removed from pandas in a future version. Use pandas.concat instead.\n",
      "  df = df.append(data)\n"
     ]
    },
    {
     "name": "stdout",
     "output_type": "stream",
     "text": [
      "working on 126\n",
      "first iteration, peak Center=1115.8296\n",
      "first iteration, peak Amplitude=3565.6027\n",
      "Trying to place second peak between 1110.83and1113.83\n",
      "Error bars not determined by function\n",
      "working on 127\n",
      "first iteration, peak Center=1115.8221\n",
      "first iteration, peak Amplitude=3454.0779\n",
      "Trying to place second peak between 1110.82and1113.82\n"
     ]
    },
    {
     "name": "stderr",
     "output_type": "stream",
     "text": [
      "C:\\Users\\penny\\AppData\\Local\\Temp\\ipykernel_13140\\1109064903.py:19: FutureWarning: The frame.append method is deprecated and will be removed from pandas in a future version. Use pandas.concat instead.\n",
      "  df = df.append(data)\n",
      "C:\\Users\\penny\\AppData\\Local\\Temp\\ipykernel_13140\\1109064903.py:19: FutureWarning: The frame.append method is deprecated and will be removed from pandas in a future version. Use pandas.concat instead.\n",
      "  df = df.append(data)\n"
     ]
    },
    {
     "name": "stdout",
     "output_type": "stream",
     "text": [
      "Error bars not determined by function\n",
      "working on 128\n",
      "first iteration, peak Center=1115.8245\n",
      "first iteration, peak Amplitude=3267.2237\n",
      "Trying to place second peak between 1110.82and1113.82\n",
      "Error bars not determined by function\n"
     ]
    },
    {
     "name": "stderr",
     "output_type": "stream",
     "text": [
      "C:\\Users\\penny\\AppData\\Local\\Temp\\ipykernel_13140\\1109064903.py:19: FutureWarning: The frame.append method is deprecated and will be removed from pandas in a future version. Use pandas.concat instead.\n",
      "  df = df.append(data)\n",
      "C:\\Users\\penny\\AppData\\Local\\Temp\\ipykernel_13140\\1109064903.py:19: FutureWarning: The frame.append method is deprecated and will be removed from pandas in a future version. Use pandas.concat instead.\n",
      "  df = df.append(data)\n"
     ]
    },
    {
     "name": "stdout",
     "output_type": "stream",
     "text": [
      "working on 129\n",
      "first iteration, peak Center=1115.8166\n",
      "first iteration, peak Amplitude=3245.5138\n",
      "Trying to place second peak between 1110.82and1113.82\n",
      "Error bars not determined by function\n",
      "working on 130\n",
      "first iteration, peak Center=1115.8169\n",
      "first iteration, peak Amplitude=3209.3916\n",
      "Trying to place second peak between 1110.82and1113.82\n",
      "Error bars not determined by function\n"
     ]
    },
    {
     "name": "stderr",
     "output_type": "stream",
     "text": [
      "C:\\Users\\penny\\AppData\\Local\\Temp\\ipykernel_13140\\1109064903.py:19: FutureWarning: The frame.append method is deprecated and will be removed from pandas in a future version. Use pandas.concat instead.\n",
      "  df = df.append(data)\n",
      "C:\\Users\\penny\\AppData\\Local\\Temp\\ipykernel_13140\\1109064903.py:19: FutureWarning: The frame.append method is deprecated and will be removed from pandas in a future version. Use pandas.concat instead.\n",
      "  df = df.append(data)\n"
     ]
    },
    {
     "name": "stdout",
     "output_type": "stream",
     "text": [
      "working on 131\n",
      "first iteration, peak Center=1115.8209\n",
      "first iteration, peak Amplitude=3307.7955\n",
      "Trying to place second peak between 1110.82and1113.82\n",
      "Error bars not determined by function\n",
      "working on 132\n",
      "first iteration, peak Center=1115.8199\n",
      "first iteration, peak Amplitude=3361.1617\n",
      "Trying to place second peak between 1110.82and1113.82\n",
      "Error bars not determined by function\n",
      "working on 133\n",
      "first iteration, peak Center=1115.8226\n",
      "first iteration, peak Amplitude=3348.2186\n",
      "Trying to place second peak between 1110.82and1113.82\n",
      "Error bars not determined by function\n",
      "working on 134\n"
     ]
    },
    {
     "name": "stderr",
     "output_type": "stream",
     "text": [
      "C:\\Users\\penny\\AppData\\Local\\Temp\\ipykernel_13140\\1109064903.py:19: FutureWarning: The frame.append method is deprecated and will be removed from pandas in a future version. Use pandas.concat instead.\n",
      "  df = df.append(data)\n",
      "C:\\Users\\penny\\AppData\\Local\\Temp\\ipykernel_13140\\1109064903.py:19: FutureWarning: The frame.append method is deprecated and will be removed from pandas in a future version. Use pandas.concat instead.\n",
      "  df = df.append(data)\n"
     ]
    },
    {
     "name": "stdout",
     "output_type": "stream",
     "text": [
      "first iteration, peak Center=1115.8218\n",
      "first iteration, peak Amplitude=3337.6331\n",
      "Trying to place second peak between 1110.82and1113.82\n",
      "Error bars not determined by function\n",
      "working on 135\n",
      "first iteration, peak Center=1115.8208\n",
      "first iteration, peak Amplitude=3305.8108\n",
      "Trying to place second peak between 1110.82and1113.82\n",
      "Error bars not determined by function\n",
      "working on 136\n"
     ]
    },
    {
     "name": "stderr",
     "output_type": "stream",
     "text": [
      "C:\\Users\\penny\\AppData\\Local\\Temp\\ipykernel_13140\\1109064903.py:19: FutureWarning: The frame.append method is deprecated and will be removed from pandas in a future version. Use pandas.concat instead.\n",
      "  df = df.append(data)\n",
      "C:\\Users\\penny\\AppData\\Local\\Temp\\ipykernel_13140\\1109064903.py:19: FutureWarning: The frame.append method is deprecated and will be removed from pandas in a future version. Use pandas.concat instead.\n",
      "  df = df.append(data)\n"
     ]
    },
    {
     "name": "stdout",
     "output_type": "stream",
     "text": [
      "first iteration, peak Center=1115.4958\n",
      "first iteration, peak Amplitude=354395.9149\n",
      "Trying to place second peak between 1110.5and1113.5\n",
      "Error bars not determined by function\n",
      "working on 137\n",
      "first iteration, peak Center=1115.8257\n",
      "first iteration, peak Amplitude=3137.0467\n",
      "Trying to place second peak between 1110.83and1113.83\n",
      "Error bars not determined by function\n"
     ]
    },
    {
     "name": "stderr",
     "output_type": "stream",
     "text": [
      "C:\\Users\\penny\\AppData\\Local\\Temp\\ipykernel_13140\\1109064903.py:19: FutureWarning: The frame.append method is deprecated and will be removed from pandas in a future version. Use pandas.concat instead.\n",
      "  df = df.append(data)\n",
      "C:\\Users\\penny\\AppData\\Local\\Temp\\ipykernel_13140\\1109064903.py:19: FutureWarning: The frame.append method is deprecated and will be removed from pandas in a future version. Use pandas.concat instead.\n",
      "  df = df.append(data)\n"
     ]
    },
    {
     "name": "stdout",
     "output_type": "stream",
     "text": [
      "working on 138\n",
      "first iteration, peak Center=1115.8273\n",
      "first iteration, peak Amplitude=3153.7239\n",
      "Trying to place second peak between 1110.83and1113.83\n",
      "Error bars not determined by function\n",
      "working on 139\n",
      "first iteration, peak Center=1115.8221\n",
      "first iteration, peak Amplitude=3117.7508\n",
      "Trying to place second peak between 1110.82and1113.82\n"
     ]
    },
    {
     "name": "stderr",
     "output_type": "stream",
     "text": [
      "C:\\Users\\penny\\AppData\\Local\\Temp\\ipykernel_13140\\1109064903.py:19: FutureWarning: The frame.append method is deprecated and will be removed from pandas in a future version. Use pandas.concat instead.\n",
      "  df = df.append(data)\n",
      "C:\\Users\\penny\\AppData\\Local\\Temp\\ipykernel_13140\\1109064903.py:19: FutureWarning: The frame.append method is deprecated and will be removed from pandas in a future version. Use pandas.concat instead.\n",
      "  df = df.append(data)\n"
     ]
    },
    {
     "name": "stdout",
     "output_type": "stream",
     "text": [
      "Error bars not determined by function\n",
      "working on 140\n",
      "first iteration, peak Center=1115.8246\n",
      "first iteration, peak Amplitude=3122.8204\n",
      "Trying to place second peak between 1110.82and1113.82\n",
      "Error bars not determined by function\n"
     ]
    },
    {
     "name": "stderr",
     "output_type": "stream",
     "text": [
      "C:\\Users\\penny\\AppData\\Local\\Temp\\ipykernel_13140\\1109064903.py:19: FutureWarning: The frame.append method is deprecated and will be removed from pandas in a future version. Use pandas.concat instead.\n",
      "  df = df.append(data)\n",
      "C:\\Users\\penny\\AppData\\Local\\Temp\\ipykernel_13140\\1109064903.py:19: FutureWarning: The frame.append method is deprecated and will be removed from pandas in a future version. Use pandas.concat instead.\n",
      "  df = df.append(data)\n"
     ]
    },
    {
     "name": "stdout",
     "output_type": "stream",
     "text": [
      "working on 141\n",
      "first iteration, peak Center=1115.8231\n",
      "first iteration, peak Amplitude=3111.9917\n",
      "Trying to place second peak between 1110.82and1113.82\n",
      "Error bars not determined by function\n",
      "working on 142\n",
      "first iteration, peak Center=1115.821\n",
      "first iteration, peak Amplitude=3046.5843\n",
      "Trying to place second peak between 1110.82and1113.82\n",
      "Error bars not determined by function\n",
      "working on 143\n",
      "first iteration, peak Center=1115.8249\n",
      "first iteration, peak Amplitude=3079.9436\n",
      "Trying to place second peak between 1110.82and1113.82\n",
      "Error bars not determined by function\n"
     ]
    },
    {
     "name": "stderr",
     "output_type": "stream",
     "text": [
      "C:\\Users\\penny\\AppData\\Local\\Temp\\ipykernel_13140\\1109064903.py:19: FutureWarning: The frame.append method is deprecated and will be removed from pandas in a future version. Use pandas.concat instead.\n",
      "  df = df.append(data)\n",
      "C:\\Users\\penny\\AppData\\Local\\Temp\\ipykernel_13140\\1109064903.py:19: FutureWarning: The frame.append method is deprecated and will be removed from pandas in a future version. Use pandas.concat instead.\n",
      "  df = df.append(data)\n"
     ]
    },
    {
     "name": "stdout",
     "output_type": "stream",
     "text": [
      "working on 144\n",
      "first iteration, peak Center=1115.8258\n",
      "first iteration, peak Amplitude=3020.0949\n",
      "Trying to place second peak between 1110.83and1113.83\n",
      "Error bars not determined by function\n",
      "working on 145\n",
      "first iteration, peak Center=1115.8277\n",
      "first iteration, peak Amplitude=3120.5667\n",
      "Trying to place second peak between 1110.83and1113.83\n"
     ]
    },
    {
     "name": "stderr",
     "output_type": "stream",
     "text": [
      "C:\\Users\\penny\\AppData\\Local\\Temp\\ipykernel_13140\\1109064903.py:19: FutureWarning: The frame.append method is deprecated and will be removed from pandas in a future version. Use pandas.concat instead.\n",
      "  df = df.append(data)\n",
      "C:\\Users\\penny\\AppData\\Local\\Temp\\ipykernel_13140\\1109064903.py:19: FutureWarning: The frame.append method is deprecated and will be removed from pandas in a future version. Use pandas.concat instead.\n",
      "  df = df.append(data)\n"
     ]
    },
    {
     "name": "stdout",
     "output_type": "stream",
     "text": [
      "Error bars not determined by function\n",
      "working on 146\n",
      "first iteration, peak Center=1115.8259\n",
      "first iteration, peak Amplitude=3046.9175\n",
      "Trying to place second peak between 1110.83and1113.83\n",
      "Error bars not determined by function\n"
     ]
    },
    {
     "name": "stderr",
     "output_type": "stream",
     "text": [
      "C:\\Users\\penny\\AppData\\Local\\Temp\\ipykernel_13140\\1109064903.py:19: FutureWarning: The frame.append method is deprecated and will be removed from pandas in a future version. Use pandas.concat instead.\n",
      "  df = df.append(data)\n",
      "C:\\Users\\penny\\AppData\\Local\\Temp\\ipykernel_13140\\1109064903.py:19: FutureWarning: The frame.append method is deprecated and will be removed from pandas in a future version. Use pandas.concat instead.\n",
      "  df = df.append(data)\n"
     ]
    },
    {
     "name": "stdout",
     "output_type": "stream",
     "text": [
      "working on 147\n",
      "first iteration, peak Center=1115.8201\n",
      "first iteration, peak Amplitude=3051.4135\n",
      "Trying to place second peak between 1110.82and1113.82\n",
      "Error bars not determined by function\n",
      "working on 148\n",
      "first iteration, peak Center=1115.8192\n",
      "first iteration, peak Amplitude=3101.6742\n",
      "Trying to place second peak between 1110.82and1113.82\n",
      "Error bars not determined by function\n",
      "working on 149\n",
      "first iteration, peak Center=1115.8243\n",
      "first iteration, peak Amplitude=3071.0588\n",
      "Trying to place second peak between 1110.82and1113.82\n",
      "Error bars not determined by function\n",
      "working on 150\n"
     ]
    },
    {
     "name": "stderr",
     "output_type": "stream",
     "text": [
      "C:\\Users\\penny\\AppData\\Local\\Temp\\ipykernel_13140\\1109064903.py:19: FutureWarning: The frame.append method is deprecated and will be removed from pandas in a future version. Use pandas.concat instead.\n",
      "  df = df.append(data)\n",
      "C:\\Users\\penny\\AppData\\Local\\Temp\\ipykernel_13140\\1109064903.py:19: FutureWarning: The frame.append method is deprecated and will be removed from pandas in a future version. Use pandas.concat instead.\n",
      "  df = df.append(data)\n"
     ]
    },
    {
     "name": "stdout",
     "output_type": "stream",
     "text": [
      "first iteration, peak Center=1115.8176\n",
      "first iteration, peak Amplitude=3098.0362\n",
      "Trying to place second peak between 1110.82and1113.82\n",
      "Error bars not determined by function\n",
      "working on 151\n",
      "first iteration, peak Center=1115.8254\n",
      "first iteration, peak Amplitude=3124.2842\n",
      "Trying to place second peak between 1110.83and1113.83\n",
      "Error bars not determined by function\n"
     ]
    },
    {
     "name": "stderr",
     "output_type": "stream",
     "text": [
      "C:\\Users\\penny\\AppData\\Local\\Temp\\ipykernel_13140\\1109064903.py:19: FutureWarning: The frame.append method is deprecated and will be removed from pandas in a future version. Use pandas.concat instead.\n",
      "  df = df.append(data)\n",
      "C:\\Users\\penny\\AppData\\Local\\Temp\\ipykernel_13140\\1109064903.py:19: FutureWarning: The frame.append method is deprecated and will be removed from pandas in a future version. Use pandas.concat instead.\n",
      "  df = df.append(data)\n"
     ]
    },
    {
     "name": "stdout",
     "output_type": "stream",
     "text": [
      "working on 152\n",
      "first iteration, peak Center=1115.8213\n",
      "first iteration, peak Amplitude=3080.2159\n",
      "Trying to place second peak between 1110.82and1113.82\n",
      "Error bars not determined by function\n",
      "working on 153\n",
      "first iteration, peak Center=1115.8199\n",
      "first iteration, peak Amplitude=3053.289\n",
      "Trying to place second peak between 1110.82and1113.82\n"
     ]
    },
    {
     "name": "stderr",
     "output_type": "stream",
     "text": [
      "C:\\Users\\penny\\AppData\\Local\\Temp\\ipykernel_13140\\1109064903.py:19: FutureWarning: The frame.append method is deprecated and will be removed from pandas in a future version. Use pandas.concat instead.\n",
      "  df = df.append(data)\n",
      "C:\\Users\\penny\\AppData\\Local\\Temp\\ipykernel_13140\\1109064903.py:19: FutureWarning: The frame.append method is deprecated and will be removed from pandas in a future version. Use pandas.concat instead.\n",
      "  df = df.append(data)\n"
     ]
    },
    {
     "name": "stdout",
     "output_type": "stream",
     "text": [
      "Error bars not determined by function\n",
      "working on 154\n",
      "first iteration, peak Center=1115.8185\n",
      "first iteration, peak Amplitude=3142.931\n",
      "Trying to place second peak between 1110.82and1113.82\n",
      "Error bars not determined by function\n"
     ]
    },
    {
     "name": "stderr",
     "output_type": "stream",
     "text": [
      "C:\\Users\\penny\\AppData\\Local\\Temp\\ipykernel_13140\\1109064903.py:19: FutureWarning: The frame.append method is deprecated and will be removed from pandas in a future version. Use pandas.concat instead.\n",
      "  df = df.append(data)\n",
      "C:\\Users\\penny\\AppData\\Local\\Temp\\ipykernel_13140\\1109064903.py:19: FutureWarning: The frame.append method is deprecated and will be removed from pandas in a future version. Use pandas.concat instead.\n",
      "  df = df.append(data)\n"
     ]
    },
    {
     "name": "stdout",
     "output_type": "stream",
     "text": [
      "working on 155\n",
      "first iteration, peak Center=1115.8216\n",
      "first iteration, peak Amplitude=3159.186\n",
      "Trying to place second peak between 1110.82and1113.82\n",
      "Error bars not determined by function\n",
      "working on 156\n",
      "first iteration, peak Center=1115.8207\n",
      "first iteration, peak Amplitude=3129.4977\n",
      "Trying to place second peak between 1110.82and1113.82\n",
      "Error bars not determined by function\n"
     ]
    },
    {
     "name": "stderr",
     "output_type": "stream",
     "text": [
      "C:\\Users\\penny\\AppData\\Local\\Temp\\ipykernel_13140\\1109064903.py:19: FutureWarning: The frame.append method is deprecated and will be removed from pandas in a future version. Use pandas.concat instead.\n",
      "  df = df.append(data)\n",
      "C:\\Users\\penny\\AppData\\Local\\Temp\\ipykernel_13140\\1109064903.py:19: FutureWarning: The frame.append method is deprecated and will be removed from pandas in a future version. Use pandas.concat instead.\n",
      "  df = df.append(data)\n"
     ]
    },
    {
     "name": "stdout",
     "output_type": "stream",
     "text": [
      "working on 157\n",
      "first iteration, peak Center=1115.8165\n",
      "first iteration, peak Amplitude=3204.1017\n",
      "Trying to place second peak between 1110.82and1113.82\n",
      "Error bars not determined by function\n",
      "working on 158\n",
      "first iteration, peak Center=1115.8195\n",
      "first iteration, peak Amplitude=3240.7996\n",
      "Trying to place second peak between 1110.82and1113.82\n",
      "Error bars not determined by function\n",
      "working on 159\n",
      "first iteration, peak Center=1115.8228\n",
      "first iteration, peak Amplitude=3246.7729\n",
      "Trying to place second peak between 1110.82and1113.82\n",
      "Error bars not determined by function\n"
     ]
    },
    {
     "name": "stderr",
     "output_type": "stream",
     "text": [
      "C:\\Users\\penny\\AppData\\Local\\Temp\\ipykernel_13140\\1109064903.py:19: FutureWarning: The frame.append method is deprecated and will be removed from pandas in a future version. Use pandas.concat instead.\n",
      "  df = df.append(data)\n",
      "C:\\Users\\penny\\AppData\\Local\\Temp\\ipykernel_13140\\1109064903.py:19: FutureWarning: The frame.append method is deprecated and will be removed from pandas in a future version. Use pandas.concat instead.\n",
      "  df = df.append(data)\n"
     ]
    },
    {
     "name": "stdout",
     "output_type": "stream",
     "text": [
      "working on 160\n",
      "first iteration, peak Center=1115.8149\n",
      "first iteration, peak Amplitude=3439.599\n",
      "Trying to place second peak between 1110.81and1113.81\n",
      "Error bars not determined by function\n",
      "working on 161\n",
      "first iteration, peak Center=1115.8129\n",
      "first iteration, peak Amplitude=3427.9153\n",
      "Trying to place second peak between 1110.81and1113.81\n"
     ]
    },
    {
     "name": "stderr",
     "output_type": "stream",
     "text": [
      "C:\\Users\\penny\\AppData\\Local\\Temp\\ipykernel_13140\\1109064903.py:19: FutureWarning: The frame.append method is deprecated and will be removed from pandas in a future version. Use pandas.concat instead.\n",
      "  df = df.append(data)\n",
      "C:\\Users\\penny\\AppData\\Local\\Temp\\ipykernel_13140\\1109064903.py:19: FutureWarning: The frame.append method is deprecated and will be removed from pandas in a future version. Use pandas.concat instead.\n",
      "  df = df.append(data)\n"
     ]
    },
    {
     "name": "stdout",
     "output_type": "stream",
     "text": [
      "Error bars not determined by function\n",
      "working on 162\n",
      "first iteration, peak Center=1115.8136\n",
      "first iteration, peak Amplitude=3500.973\n",
      "Trying to place second peak between 1110.81and1113.81\n",
      "Error bars not determined by function\n",
      "working on 163\n"
     ]
    },
    {
     "name": "stderr",
     "output_type": "stream",
     "text": [
      "C:\\Users\\penny\\AppData\\Local\\Temp\\ipykernel_13140\\1109064903.py:19: FutureWarning: The frame.append method is deprecated and will be removed from pandas in a future version. Use pandas.concat instead.\n",
      "  df = df.append(data)\n",
      "C:\\Users\\penny\\AppData\\Local\\Temp\\ipykernel_13140\\1109064903.py:19: FutureWarning: The frame.append method is deprecated and will be removed from pandas in a future version. Use pandas.concat instead.\n",
      "  df = df.append(data)\n"
     ]
    },
    {
     "name": "stdout",
     "output_type": "stream",
     "text": [
      "first iteration, peak Center=1115.8121\n",
      "first iteration, peak Amplitude=3476.0777\n",
      "Trying to place second peak between 1110.81and1113.81\n",
      "Error bars not determined by function\n",
      "working on 164\n",
      "first iteration, peak Center=1115.8172\n",
      "first iteration, peak Amplitude=3310.1611\n",
      "Trying to place second peak between 1110.82and1113.82\n",
      "Error bars not determined by function\n"
     ]
    },
    {
     "name": "stderr",
     "output_type": "stream",
     "text": [
      "C:\\Users\\penny\\AppData\\Local\\Temp\\ipykernel_13140\\1109064903.py:19: FutureWarning: The frame.append method is deprecated and will be removed from pandas in a future version. Use pandas.concat instead.\n",
      "  df = df.append(data)\n",
      "C:\\Users\\penny\\AppData\\Local\\Temp\\ipykernel_13140\\1109064903.py:19: FutureWarning: The frame.append method is deprecated and will be removed from pandas in a future version. Use pandas.concat instead.\n",
      "  df = df.append(data)\n"
     ]
    },
    {
     "name": "stdout",
     "output_type": "stream",
     "text": [
      "working on 165\n",
      "first iteration, peak Center=1115.8151\n",
      "first iteration, peak Amplitude=3411.4878\n",
      "Trying to place second peak between 1110.82and1113.82\n",
      "Error bars not determined by function\n",
      "working on 166\n",
      "first iteration, peak Center=1115.8196\n",
      "first iteration, peak Amplitude=3419.8786\n",
      "Trying to place second peak between 1110.82and1113.82\n",
      "Error bars not determined by function\n",
      "working on 167\n",
      "first iteration, peak Center=1115.8332\n",
      "first iteration, peak Amplitude=3364.418\n",
      "Trying to place second peak between 1110.83and1113.83\n",
      "Error bars not determined by function\n",
      "working on 168\n"
     ]
    },
    {
     "name": "stderr",
     "output_type": "stream",
     "text": [
      "C:\\Users\\penny\\AppData\\Local\\Temp\\ipykernel_13140\\1109064903.py:19: FutureWarning: The frame.append method is deprecated and will be removed from pandas in a future version. Use pandas.concat instead.\n",
      "  df = df.append(data)\n",
      "C:\\Users\\penny\\AppData\\Local\\Temp\\ipykernel_13140\\1109064903.py:19: FutureWarning: The frame.append method is deprecated and will be removed from pandas in a future version. Use pandas.concat instead.\n",
      "  df = df.append(data)\n"
     ]
    },
    {
     "name": "stdout",
     "output_type": "stream",
     "text": [
      "first iteration, peak Center=1115.8348\n",
      "first iteration, peak Amplitude=3401.0264\n",
      "Trying to place second peak between 1110.83and1113.83\n",
      "Error bars not determined by function\n",
      "working on 169\n",
      "first iteration, peak Center=1115.846\n",
      "first iteration, peak Amplitude=3403.3251\n",
      "Trying to place second peak between 1110.85and1113.85\n",
      "Error bars not determined by function\n"
     ]
    },
    {
     "name": "stderr",
     "output_type": "stream",
     "text": [
      "C:\\Users\\penny\\AppData\\Local\\Temp\\ipykernel_13140\\1109064903.py:19: FutureWarning: The frame.append method is deprecated and will be removed from pandas in a future version. Use pandas.concat instead.\n",
      "  df = df.append(data)\n",
      "C:\\Users\\penny\\AppData\\Local\\Temp\\ipykernel_13140\\1109064903.py:19: FutureWarning: The frame.append method is deprecated and will be removed from pandas in a future version. Use pandas.concat instead.\n",
      "  df = df.append(data)\n"
     ]
    },
    {
     "name": "stdout",
     "output_type": "stream",
     "text": [
      "working on 170\n",
      "first iteration, peak Center=1115.8344\n",
      "first iteration, peak Amplitude=3440.7931\n",
      "Trying to place second peak between 1110.83and1113.83\n",
      "Error bars not determined by function\n",
      "working on 171\n",
      "first iteration, peak Center=1115.8343\n",
      "first iteration, peak Amplitude=3438.2822\n",
      "Trying to place second peak between 1110.83and1113.83\n"
     ]
    },
    {
     "name": "stderr",
     "output_type": "stream",
     "text": [
      "C:\\Users\\penny\\AppData\\Local\\Temp\\ipykernel_13140\\1109064903.py:19: FutureWarning: The frame.append method is deprecated and will be removed from pandas in a future version. Use pandas.concat instead.\n",
      "  df = df.append(data)\n",
      "C:\\Users\\penny\\AppData\\Local\\Temp\\ipykernel_13140\\1109064903.py:19: FutureWarning: The frame.append method is deprecated and will be removed from pandas in a future version. Use pandas.concat instead.\n",
      "  df = df.append(data)\n"
     ]
    },
    {
     "name": "stdout",
     "output_type": "stream",
     "text": [
      "Error bars not determined by function\n",
      "working on 172\n",
      "first iteration, peak Center=1115.8353\n",
      "first iteration, peak Amplitude=3397.8324\n",
      "Trying to place second peak between 1110.84and1113.84\n",
      "Error bars not determined by function\n"
     ]
    },
    {
     "name": "stderr",
     "output_type": "stream",
     "text": [
      "C:\\Users\\penny\\AppData\\Local\\Temp\\ipykernel_13140\\1109064903.py:19: FutureWarning: The frame.append method is deprecated and will be removed from pandas in a future version. Use pandas.concat instead.\n",
      "  df = df.append(data)\n",
      "C:\\Users\\penny\\AppData\\Local\\Temp\\ipykernel_13140\\1109064903.py:19: FutureWarning: The frame.append method is deprecated and will be removed from pandas in a future version. Use pandas.concat instead.\n",
      "  df = df.append(data)\n"
     ]
    },
    {
     "name": "stdout",
     "output_type": "stream",
     "text": [
      "working on 173\n",
      "first iteration, peak Center=1115.8342\n",
      "first iteration, peak Amplitude=3421.1054\n",
      "Trying to place second peak between 1110.83and1113.83\n",
      "Error bars not determined by function\n",
      "working on 174\n",
      "first iteration, peak Center=1115.8257\n",
      "first iteration, peak Amplitude=3366.1146\n",
      "Trying to place second peak between 1110.83and1113.83\n",
      "Error bars not determined by function\n"
     ]
    },
    {
     "name": "stderr",
     "output_type": "stream",
     "text": [
      "C:\\Users\\penny\\AppData\\Local\\Temp\\ipykernel_13140\\1109064903.py:19: FutureWarning: The frame.append method is deprecated and will be removed from pandas in a future version. Use pandas.concat instead.\n",
      "  df = df.append(data)\n",
      "C:\\Users\\penny\\AppData\\Local\\Temp\\ipykernel_13140\\1109064903.py:19: FutureWarning: The frame.append method is deprecated and will be removed from pandas in a future version. Use pandas.concat instead.\n",
      "  df = df.append(data)\n"
     ]
    },
    {
     "name": "stdout",
     "output_type": "stream",
     "text": [
      "working on 175\n",
      "first iteration, peak Center=1115.8277\n",
      "first iteration, peak Amplitude=3391.2009\n",
      "Trying to place second peak between 1110.83and1113.83\n",
      "Error bars not determined by function\n",
      "working on 176\n",
      "first iteration, peak Center=1115.8319\n",
      "first iteration, peak Amplitude=3391.5669\n",
      "Trying to place second peak between 1110.83and1113.83\n",
      "Error bars not determined by function\n"
     ]
    },
    {
     "name": "stderr",
     "output_type": "stream",
     "text": [
      "C:\\Users\\penny\\AppData\\Local\\Temp\\ipykernel_13140\\1109064903.py:19: FutureWarning: The frame.append method is deprecated and will be removed from pandas in a future version. Use pandas.concat instead.\n",
      "  df = df.append(data)\n",
      "C:\\Users\\penny\\AppData\\Local\\Temp\\ipykernel_13140\\1109064903.py:19: FutureWarning: The frame.append method is deprecated and will be removed from pandas in a future version. Use pandas.concat instead.\n",
      "  df = df.append(data)\n"
     ]
    },
    {
     "name": "stdout",
     "output_type": "stream",
     "text": [
      "working on 177\n",
      "first iteration, peak Center=1115.8286\n",
      "first iteration, peak Amplitude=3381.607\n",
      "Trying to place second peak between 1110.83and1113.83\n",
      "Error bars not determined by function\n",
      "working on 178\n",
      "first iteration, peak Center=1115.825\n",
      "first iteration, peak Amplitude=3475.8294\n",
      "Trying to place second peak between 1110.83and1113.83\n",
      "Error bars not determined by function\n",
      "working on 179\n",
      "first iteration, peak Center=1115.8281\n",
      "first iteration, peak Amplitude=3480.7464\n",
      "Trying to place second peak between 1110.83and1113.83\n",
      "Error bars not determined by function\n"
     ]
    },
    {
     "name": "stderr",
     "output_type": "stream",
     "text": [
      "C:\\Users\\penny\\AppData\\Local\\Temp\\ipykernel_13140\\1109064903.py:19: FutureWarning: The frame.append method is deprecated and will be removed from pandas in a future version. Use pandas.concat instead.\n",
      "  df = df.append(data)\n",
      "C:\\Users\\penny\\AppData\\Local\\Temp\\ipykernel_13140\\1109064903.py:19: FutureWarning: The frame.append method is deprecated and will be removed from pandas in a future version. Use pandas.concat instead.\n",
      "  df = df.append(data)\n"
     ]
    }
   ],
   "source": [
    "plot_figure=False # Means doesnt make figures, lot faster. \n",
    "save_excel=True # Saves to excel\n",
    "save_clipboard=True # Copies to clipboard\n",
    "\n",
    "df = pd.DataFrame([])\n",
    "for i in range(0, 180):\n",
    "    \n",
    "    test=np.column_stack((df3[:, 0], df3[:, i+1]))\n",
    "    print('working on ' + str(i))\n",
    "\n",
    "    \n",
    "    data, Ne_1117_reg_x_plot, Ne_1117_reg_y_plot=pf.fit_Ne_lines(  \n",
    "    config=Ne_Config, peaks_1=peaks_1,\n",
    "    Ne=test, filename=filename, path=path, prefix=None,\n",
    "    Ne_center_1=nearest_1117, Ne_center_2=nearest_1447,\n",
    "    DeltaNe_ideal=ideal_split['Ne_Split'], plot_figure=False) \n",
    "\n",
    "\n",
    "    df = df.append(data)\n",
    "df2=df.reset_index(drop=True)\n",
    "\n",
    "\n"
   ]
  },
  {
   "cell_type": "code",
   "execution_count": 98,
   "id": "e9b530f2-1598-4214-90b3-72a2ba4b6902",
   "metadata": {},
   "outputs": [
    {
     "data": {
      "text/plain": [
       "180"
      ]
     },
     "execution_count": 98,
     "metadata": {},
     "output_type": "execute_result"
    }
   ],
   "source": [
    "len(df2)"
   ]
  },
  {
   "cell_type": "code",
   "execution_count": 99,
   "id": "5fa2bb43-290c-4add-af3f-c6a6e0b00874",
   "metadata": {},
   "outputs": [],
   "source": [
    "df2=df.reset_index(drop=True)"
   ]
  },
  {
   "cell_type": "code",
   "execution_count": 101,
   "id": "19b3fb2d-6283-4ffa-a686-47c540e6f086",
   "metadata": {},
   "outputs": [
    {
     "data": {
      "text/plain": [
       "[<matplotlib.lines.Line2D at 0x2109e547040>]"
      ]
     },
     "execution_count": 101,
     "metadata": {},
     "output_type": "execute_result"
    },
    {
     "data": {
      "image/png": "[encoded data removed]",
      "text/plain": [
       "<Figure size 640x480 with 1 Axes>"
      ]
     },
     "metadata": {},
     "output_type": "display_data"
    }
   ],
   "source": [
    "plt.plot(df2['Ne_Corr'].index, df2['Ne_Corr'], 'or')"
   ]
  },
  {
   "cell_type": "code",
   "execution_count": 102,
   "id": "9bb1fa50-2a85-4063-9c11-c625afef4709",
   "metadata": {},
   "outputs": [],
   "source": [
    "Corr_Ne=103*df2['Ne_Corr']"
   ]
  },
  {
   "cell_type": "code",
   "execution_count": 103,
   "id": "1749d46e-e887-4ce4-a5eb-3b09d58bad7c",
   "metadata": {},
   "outputs": [],
   "source": [
    "Density=pf.calculate_density_cornell(temp='SupCrit', Split=Corr_Ne)"
   ]
  },
  {
   "cell_type": "code",
   "execution_count": 112,
   "id": "b14a03da-b2f9-4ac6-b927-41f419e4ecca",
   "metadata": {},
   "outputs": [
    {
     "data": {
      "text/plain": [
       "Text(0.5, 0, 'Acqusition #')"
      ]
     },
     "execution_count": 112,
     "metadata": {},
     "output_type": "execute_result"
    },
    {
     "data": {
      "image/png": "[encoded data removed]",
      "text/plain": [
       "<Figure size 640x480 with 1 Axes>"
      ]
     },
     "metadata": {},
     "output_type": "display_data"
    }
   ],
   "source": [
    "plt.plot(df2['Ne_Corr'].index, Density['Preferred D'], '-r')\n",
    "plt.ylabel('Theoretical density for split=103 cm-1-')\n",
    "plt.xlabel('Acqusition #')"
   ]
  },
  {
   "cell_type": "markdown",
   "id": "dd462866-a93f-4732-83d8-3e3b3c4a9223",
   "metadata": {},
   "source": [
    "## Loading time"
   ]
  },
  {
   "cell_type": "code",
   "execution_count": 107,
   "id": "059b71f9-5833-47fe-8ee9-206a19551a85",
   "metadata": {},
   "outputs": [],
   "source": [
    "path=r'G:\\My Drive\\Berkeley_NEW\\Raman\\2022_09_26_longNeLine1'\n",
    "aranet=pd.read_excel(path+str('/')+'2022_09_26_27_LongNeLineAcqusiion.xls', sheet_name='Aranet')"
   ]
  },
  {
   "cell_type": "code",
   "execution_count": 108,
   "id": "291aa097-48da-4a19-82fd-441bcc2f07c9",
   "metadata": {},
   "outputs": [],
   "source": [
    "aranet_t=aranet['time'].values\n",
    "aranet_T=aranet['Temperature(Â°C)']"
   ]
  },
  {
   "cell_type": "code",
   "execution_count": 119,
   "id": "12602184-4179-4ffa-91ac-df3e3907563f",
   "metadata": {},
   "outputs": [],
   "source": [
    "Raman_t=aranet_t[0]+(300+45*3)*df2.index/(24*60*60)"
   ]
  },
  {
   "cell_type": "code",
   "execution_count": 120,
   "id": "10704aff-bc4c-4d0c-828d-7a438d59f2f5",
   "metadata": {},
   "outputs": [
    {
     "data": {
      "text/plain": [
       "Float64Index([                 0.0, 0.003472222222222222, 0.006944444444444444,\n",
       "              0.010416666666666666, 0.013888888888888888, 0.017361111111111112,\n",
       "              0.020833333333333332, 0.024305555555555556, 0.027777777777777776,\n",
       "                           0.03125,\n",
       "              ...\n",
       "                0.5902777777777778,              0.59375,   0.5972222222222222,\n",
       "                0.6006944444444444,   0.6041666666666666,   0.6076388888888888,\n",
       "                0.6111111111111112,   0.6145833333333334,   0.6180555555555556,\n",
       "                0.6215277777777778],\n",
       "             dtype='float64', length=180)"
      ]
     },
     "execution_count": 120,
     "metadata": {},
     "output_type": "execute_result"
    }
   ],
   "source": [
    "300*df2.index/(24*60*60)"
   ]
  },
  {
   "cell_type": "code",
   "execution_count": 121,
   "id": "cb7bf5cc-46a4-445b-b64e-7172135698ea",
   "metadata": {},
   "outputs": [
    {
     "data": {
      "text/plain": [
       "[<matplotlib.lines.Line2D at 0x210ba99c6d0>]"
      ]
     },
     "execution_count": 121,
     "metadata": {},
     "output_type": "execute_result"
    },
    {
     "data": {
      "image/png": "[encoded data removed]",
      "text/plain": [
       "<Figure size 800x500 with 2 Axes>"
      ]
     },
     "metadata": {},
     "output_type": "display_data"
    }
   ],
   "source": [
    "fig, (ax1) = plt.subplots(1, 1, figsize = (8,5))\n",
    "ax1.plot(aranet_t, aranet_T, 'og')\n",
    "ax2=ax1.twinx()\n",
    "reas=df2['Ne_Corr'].between(0.998, 1)\n",
    "ax2.plot(Raman_t[reas], df2['Ne_Corr'][reas], '-r')"
   ]
  },
  {
   "cell_type": "code",
   "execution_count": null,
   "id": "b227aa9c-fb7e-4e3c-90ab-bdd77c879a1b",
   "metadata": {},
   "outputs": [],
   "source": []
  }
 ],
 "metadata": {
  "kernelspec": {
   "display_name": "Python 3 (ipykernel)",
   "language": "python",
   "name": "python3"
  },
  "language_info": {
   "codemirror_mode": {
    "name": "ipython",
    "version": 3
   },
   "file_extension": ".py",
   "mimetype": "text/x-python",
   "name": "python",
   "nbconvert_exporter": "python",
   "pygments_lexer": "ipython3",
   "version": "3.9.13"
  }
 },
 "nbformat": 4,
 "nbformat_minor": 5
}
