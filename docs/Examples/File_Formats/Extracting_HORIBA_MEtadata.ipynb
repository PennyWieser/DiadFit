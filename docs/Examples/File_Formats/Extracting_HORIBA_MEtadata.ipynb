{
 "cells": [
  {
   "cell_type": "code",
   "execution_count": 8,
   "id": "f2f4a5c6-6eb4-4e94-8382-eeb1064996aa",
   "metadata": {},
   "outputs": [],
   "source": [
    "import numpy as np\n",
    "import pandas as pd\n",
    "import DiadFit as pf"
   ]
  },
  {
   "cell_type": "code",
   "execution_count": 10,
   "id": "c5292ee3-9fef-4a10-a3a5-c44767b1903f",
   "metadata": {},
   "outputs": [
    {
     "name": "stdout",
     "output_type": "stream",
     "text": [
      "Ive made a new folder to store your intermediate txt files in\n",
      "HORIBA_Diad_FileFormats.txt\n"
     ]
    }
   ],
   "source": [
    "import os\n",
    "path=os.getcwd()\n",
    "filename='HORIBA_Diad_FileFormats.txt'\n",
    "df=pf.read_HORIBA_to_df(path=path, filename=filename)"
   ]
  },
  {
   "cell_type": "code",
   "execution_count": 14,
   "id": "9dea8fe3-18a8-4e49-ab3d-87cafff8ab37",
   "metadata": {},
   "outputs": [],
   "source": [
    "## HORIBA acquisition time\n",
    "encode=\"ISO-8859-1\"\n",
    "fr = open(path+'/'+filename,  'r', encoding=encode)\n",
    "\n",
    "\n",
    "while True:\n",
    "    l=fr.readline()\n",
    "    if l.startswith('#Acq.'):\n",
    "        line=l\n",
    "        break\n"
   ]
  },
  {
   "cell_type": "code",
   "execution_count": 15,
   "id": "09bbeb86-9f05-4441-819e-dde4acfc9202",
   "metadata": {},
   "outputs": [
    {
     "data": {
      "text/plain": [
       "'#Acq. time (s)=\\t60\\n'"
      ]
     },
     "execution_count": 15,
     "metadata": {},
     "output_type": "execute_result"
    }
   ],
   "source": [
    "line"
   ]
  },
  {
   "cell_type": "code",
   "execution_count": null,
   "id": "39380e23-b6da-4cb5-9f4f-5ed448279561",
   "metadata": {},
   "outputs": [],
   "source": []
  }
 ],
 "metadata": {
  "kernelspec": {
   "display_name": "Python 3 (ipykernel)",
   "language": "python",
   "name": "python3"
  },
  "language_info": {
   "codemirror_mode": {
    "name": "ipython",
    "version": 3
   },
   "file_extension": ".py",
   "mimetype": "text/x-python",
   "name": "python",
   "nbconvert_exporter": "python",
   "pygments_lexer": "ipython3",
   "version": "3.9.13"
  }
 },
 "nbformat": 4,
 "nbformat_minor": 5
}
