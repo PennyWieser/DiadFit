{
 "cells": [
  {
   "cell_type": "markdown",
   "id": "fa33d9b1-7111-493c-8249-c259b1d6da90",
   "metadata": {},
   "source": [
    "## Fitting Ne lines in a loop\n",
    "- This notebook shows how to fit all lines in a folder defined by path\n",
    "- You tweak the fit for a single line, and then use this to fit all lines. You can then refit lines with high residuals/offsets differing from the rest"
   ]
  },
  {
   "cell_type": "markdown",
   "id": "843dfcc2-7b25-4675-aed6-0836447c1d9b",
   "metadata": {},
   "source": [
    "## Downloading locally\n",
    "- The easiest way to install diad fit is by removing the #, and running this once per computer. When I update the code, you'll need to get the new tag off GitHub:\n",
    "https://github.com/PennyWieser/DiadFit/tags\n",
    "Right click on the top one, over the 'zip' icon, click copy link address\n",
    "![image.png](attachment:5a0e0d97-4380-4cb2-bf26-d0ab6ee7458a.png)"
   ]
  },
  {
   "cell_type": "code",
   "execution_count": 1,
   "id": "cf8c2fe4-c8a5-4120-8c21-af08a0573596",
   "metadata": {},
   "outputs": [],
   "source": [
    "#!pip install --upgrade \"https://github.com/PennyWieser/DiadFit/archive/refs/tags/0.0.11.zip\""
   ]
  },
  {
   "cell_type": "markdown",
   "id": "c092307b-7725-4bf4-b1c0-3c3a52936d23",
   "metadata": {},
   "source": [
    "### This imports DiadFit, and gives you the version. In all communication with Penny, make sure you say the version!"
   ]
  },
  {
   "cell_type": "code",
   "execution_count": 2,
   "id": "fcee43bb-9ac1-456e-a1fa-654bce7d6f0c",
   "metadata": {},
   "outputs": [
    {
     "data": {
      "text/plain": [
       "'0.0.12dev'"
      ]
     },
     "execution_count": 2,
     "metadata": {},
     "output_type": "execute_result"
    }
   ],
   "source": [
    "import DiadFit as pf\n",
    "pf.__version__"
   ]
  },
  {
   "cell_type": "markdown",
   "id": "656e61a2-ae27-46dd-9e1c-9a69c35c1c1c",
   "metadata": {},
   "source": [
    "## Get Ne line positions for your specific laser wavelength\n",
    "- At the moment, this returns any Ne lines with intensity >2000 in the NIST databook, although you can change this!"
   ]
  },
  {
   "cell_type": "code",
   "execution_count": 3,
   "id": "9ee1d69b-b8b2-4c30-9377-4a048b22b28c",
   "metadata": {},
   "outputs": [
    {
     "data": {
      "text/html": [
       "<div>\n",
       "<style scoped>\n",
       "    .dataframe tbody tr th:only-of-type {\n",
       "        vertical-align: middle;\n",
       "    }\n",
       "\n",
       "    .dataframe tbody tr th {\n",
       "        vertical-align: top;\n",
       "    }\n",
       "\n",
       "    .dataframe thead th {\n",
       "        text-align: right;\n",
       "    }\n",
       "</style>\n",
       "<table border=\"1\" class=\"dataframe\">\n",
       "  <thead>\n",
       "    <tr style=\"text-align: right;\">\n",
       "      <th></th>\n",
       "      <th>Raman_shift (cm-1)</th>\n",
       "      <th>Intensity</th>\n",
       "      <th>Ne emission line in air</th>\n",
       "    </tr>\n",
       "  </thead>\n",
       "  <tbody>\n",
       "    <tr>\n",
       "      <th>1</th>\n",
       "      <td>818.558217</td>\n",
       "      <td>5000.0</td>\n",
       "      <td>556.27662</td>\n",
       "    </tr>\n",
       "    <tr>\n",
       "      <th>9</th>\n",
       "      <td>1116.945682</td>\n",
       "      <td>5000.0</td>\n",
       "      <td>565.66588</td>\n",
       "    </tr>\n",
       "    <tr>\n",
       "      <th>16</th>\n",
       "      <td>1310.338900</td>\n",
       "      <td>5000.0</td>\n",
       "      <td>571.92248</td>\n",
       "    </tr>\n",
       "    <tr>\n",
       "      <th>19</th>\n",
       "      <td>1398.773828</td>\n",
       "      <td>5000.0</td>\n",
       "      <td>574.82985</td>\n",
       "    </tr>\n",
       "    <tr>\n",
       "      <th>23</th>\n",
       "      <td>1447.423317</td>\n",
       "      <td>7000.0</td>\n",
       "      <td>576.44188</td>\n",
       "    </tr>\n",
       "  </tbody>\n",
       "</table>\n",
       "</div>"
      ],
      "text/plain": [
       "    Raman_shift (cm-1)  Intensity  Ne emission line in air\n",
       "1           818.558217     5000.0                556.27662\n",
       "9          1116.945682     5000.0                565.66588\n",
       "16         1310.338900     5000.0                571.92248\n",
       "19         1398.773828     5000.0                574.82985\n",
       "23         1447.423317     7000.0                576.44188"
      ]
     },
     "execution_count": 3,
     "metadata": {},
     "output_type": "execute_result"
    }
   ],
   "source": [
    "wavelength =532.05 # Specify the specific wavelength of your laser \n",
    "df_Ne=pf.calculate_Ne_line_positions(wavelength=wavelength, cut_off_intensity=2000)\n",
    "df_Ne.head()"
   ]
  },
  {
   "cell_type": "markdown",
   "id": "cbf1b4fa-7077-4b62-a520-82e9fa37ec04",
   "metadata": {},
   "source": [
    "## Calculate the ideal distance between the two lines you are selecting\n",
    "- This finds the closest line in the table above for the line shift you have written down"
   ]
  },
  {
   "cell_type": "code",
   "execution_count": 4,
   "id": "490dbb1f-60c9-4da5-af36-25529a8433e8",
   "metadata": {},
   "outputs": [],
   "source": [
    "ideal_split=pf.calculate_Ne_splitting(wavelength=wavelength, \n",
    "                                      line1_shift=1117, line2_shift=1447,\n",
    "                                     cut_off_intensity=2000)"
   ]
  },
  {
   "cell_type": "markdown",
   "id": "cd512892-0dd9-4fdd-b011-932d3d9a138c",
   "metadata": {},
   "source": [
    "## Find your files"
   ]
  },
  {
   "cell_type": "code",
   "execution_count": 11,
   "id": "2fb14700-c165-4459-9e20-95d54b6dd523",
   "metadata": {},
   "outputs": [],
   "source": [
    "mypath=r'G:\\My Drive\\Berkeley_NEW\\DiadFit_outer\\docs\\Examples\\BenBlack'\n",
    "filetype='head_csv'\n",
    "# Put the common string you can in all your Ne lines here\n",
    "ID_str='Ne'\n",
    "file_ext='csv' # Will only take files of this type \n",
    "exclude_str='png' # Will exclude files of this type, sometimes images have same name\n",
    "prefix=None # Leave as none unless witec appended a number\n",
    "Ne_files=pf.get_Ne_files(path=mypath, file_ext=file_ext, ID_str=ID_str, exclude_str=exclude_str, sort=True)"
   ]
  },
  {
   "cell_type": "code",
   "execution_count": 6,
   "id": "d56865b1-e134-4233-b4c5-e269c33db699",
   "metadata": {},
   "outputs": [
    {
     "data": {
      "text/plain": [
       "['003_Ne_02.csv']"
      ]
     },
     "execution_count": 6,
     "metadata": {},
     "output_type": "execute_result"
    }
   ],
   "source": [
    "Ne_files"
   ]
  },
  {
   "cell_type": "markdown",
   "id": "43deced3-cf2d-4fed-a5e2-adbece1937af",
   "metadata": {},
   "source": [
    "## Select the first file you want to fit\n",
    "- You can either do this numerically, or by specifiying the filename between ''"
   ]
  },
  {
   "cell_type": "code",
   "execution_count": 7,
   "id": "8234e10b-ac6c-41ae-9155-918deecea607",
   "metadata": {},
   "outputs": [],
   "source": [
    "filename=Ne_files[0]  # Or you could put a string here, like 'NE1.txt' "
   ]
  },
  {
   "cell_type": "markdown",
   "id": "49b4e42f-8b67-4236-ad9f-4fc1d74ac5e9",
   "metadata": {},
   "source": [
    "## Plot Ne lines to inspect"
   ]
  },
  {
   "cell_type": "code",
   "execution_count": 8,
   "id": "0de7e5bb-cd3f-4a4d-a736-bc7c48799301",
   "metadata": {},
   "outputs": [
    {
     "name": "stdout",
     "output_type": "stream",
     "text": [
      "Biggest 6 peaks:\n"
     ]
    },
    {
     "data": {
      "text/html": [
       "<div>\n",
       "<style scoped>\n",
       "    .dataframe tbody tr th:only-of-type {\n",
       "        vertical-align: middle;\n",
       "    }\n",
       "\n",
       "    .dataframe tbody tr th {\n",
       "        vertical-align: top;\n",
       "    }\n",
       "\n",
       "    .dataframe thead th {\n",
       "        text-align: right;\n",
       "    }\n",
       "</style>\n",
       "<table border=\"1\" class=\"dataframe\">\n",
       "  <thead>\n",
       "    <tr style=\"text-align: right;\">\n",
       "      <th></th>\n",
       "      <th>pos</th>\n",
       "      <th>height</th>\n",
       "    </tr>\n",
       "  </thead>\n",
       "  <tbody>\n",
       "    <tr>\n",
       "      <th>50</th>\n",
       "      <td>1444.342318</td>\n",
       "      <td>15381.666990</td>\n",
       "    </tr>\n",
       "    <tr>\n",
       "      <th>43</th>\n",
       "      <td>1395.931204</td>\n",
       "      <td>3967.000000</td>\n",
       "    </tr>\n",
       "    <tr>\n",
       "      <th>65</th>\n",
       "      <td>1563.844689</td>\n",
       "      <td>3620.333252</td>\n",
       "    </tr>\n",
       "    <tr>\n",
       "      <th>7</th>\n",
       "      <td>1113.926895</td>\n",
       "      <td>1986.333374</td>\n",
       "    </tr>\n",
       "    <tr>\n",
       "      <th>24</th>\n",
       "      <td>1216.749032</td>\n",
       "      <td>1514.000000</td>\n",
       "    </tr>\n",
       "    <tr>\n",
       "      <th>33</th>\n",
       "      <td>1307.388779</td>\n",
       "      <td>1247.000000</td>\n",
       "    </tr>\n",
       "  </tbody>\n",
       "</table>\n",
       "</div>"
      ],
      "text/plain": [
       "            pos        height\n",
       "50  1444.342318  15381.666990\n",
       "43  1395.931204   3967.000000\n",
       "65  1563.844689   3620.333252\n",
       "7   1113.926895   1986.333374\n",
       "24  1216.749032   1514.000000\n",
       "33  1307.388779   1247.000000"
      ]
     },
     "metadata": {},
     "output_type": "display_data"
    },
    {
     "name": "stdout",
     "output_type": "stream",
     "text": [
      "selected Peak 1 Pos\n",
      "1113.926895\n",
      "selected Peak 2 Pos\n",
      "1444.342318\n"
     ]
    },
    {
     "data": {
      "image/png": "[encoded data removed]",
      "text/plain": [
       "<Figure size 648x216 with 3 Axes>"
      ]
     },
     "metadata": {
      "needs_background": "light"
     },
     "output_type": "display_data"
    }
   ],
   "source": [
    "# Specify the approximate peak positions of the lines you are interested in\n",
    "# If your drift is off the real positions, you'll have to tweak these numbers\n",
    "peak1_cent=1116\n",
    "peak2_cent=1446\n",
    "\n",
    "\n",
    "Ne, df_sort_Ne_trim, nearest_1117, nearest_1447=pf.plot_Ne_lines(path=mypath, filename=filename, filetype=filetype, \n",
    "n_peaks=6, peak1_cent=peak1_cent, peak2_cent=peak2_cent,\n",
    "height=10, threshold=0.6, distance=1, prominence=10, width=1, exclude_range_1=None,\n",
    "exclude_range_2=None)"
   ]
  },
  {
   "cell_type": "markdown",
   "id": "5707a246-6527-470f-a3e5-3514963a700b",
   "metadata": {},
   "source": [
    "## Now tweak the fit for this 1 example\n",
    "- Most important things, the number of peaks you want for 1117, and the offset for this peak (LH_offset_min)\n",
    "- By default, the function applies the fit to all the points inside the outermost background positions. This can be trimmed using x_span_pk1_override, and x_span_pk2_override, "
   ]
  },
  {
   "cell_type": "code",
   "execution_count": 27,
   "id": "caeab813-2c94-409e-8e8e-64d9552883c6",
   "metadata": {},
   "outputs": [
    {
     "ename": "SyntaxError",
     "evalue": "invalid syntax (3665237127.py, line 27)",
     "output_type": "error",
     "traceback": [
      "\u001b[1;36m  Input \u001b[1;32mIn [27]\u001b[1;36m\u001b[0m\n\u001b[1;33m    back=(lower_bck_pk1=[-50, -10], upper_bck1_pk1=[8, 13], upper_bck2_pk1=[50, 80],\u001b[0m\n\u001b[1;37m                       ^\u001b[0m\n\u001b[1;31mSyntaxError\u001b[0m\u001b[1;31m:\u001b[0m invalid syntax\n"
     ]
    }
   ],
   "source": [
    "# If fit really bad, try tweaking the amplitude here\n",
    "amplitude=100\n",
    "\n",
    "#If you are fitting the 1117 peak, you may need 2, else set to 1\n",
    "peaks_1=2\n",
    "# Determines how far from the peak center the 2nd peak is. \n",
    "LH_offset_mini=[2, 5]\n",
    "\n",
    "\n",
    "#x_range - Determins how much outside your selected background position the baseline plot shows\n",
    "x_range_baseline=20\n",
    "# Y range- Determins how much y axis you get above the baseline on the plot\n",
    "y_range_baseline=200\n",
    "\n",
    "# Can either set this as none, in which case it fits between the background positions,\n",
    "#or decide exactly how many wavenumbers either side of the peak position \n",
    "# above you want the voigt routine to fit\n",
    "# E.g. here, fitting 5 to the left, 5 to the right for Peak 1\n",
    "x_span_pk1_override=[-5, 5]\n",
    "# And -6 to the left, 6 to the right of Peak2\n",
    "x_span_pk2_override=[-6, 6]\n",
    "\n",
    "# Sets x lim for peak fit top plot, if None, uses range of x of fitting data, can override\n",
    "x_range_peak=5\n",
    "\n",
    "# Set the background positions, e.g. how many units left or right of the peak you want the background\n",
    "back=(lower_bck_pk1=[-50, -10], upper_bck1_pk1=[8, 13], upper_bck2_pk1=[50, 80],\n",
    "lower_bck_pk2=[-40, -30], upper_bck1_pk2=[15, 50], upper_bck2_pk2=[50, 80])\n",
    "\n",
    "\n",
    "# To see other parameters you can tweak, do help(pf.fit_Ne_lines) if this isn't working fo your spectra. \n",
    "df_test, Ne_1117_reg_x_plot, Ne_1117_reg_y_plot=pf.fit_Ne_lines(\n",
    "    Ne=Ne, filename=filename, path=mypath, prefix=prefix,\n",
    "    LH_offset_mini=LH_offset_mini, peaks_1=peaks_1,\n",
    "    Ne_center_1=nearest_1117, Ne_center_2=nearest_1447,\n",
    "    lower_bck_pk1=lower_bck_pk1, upper_bck1_pk1=[8, 13], upper_bck2_pk1=[50, 80],\n",
    "    lower_bck_pk2=[-40, -30], upper_bck1_pk2=[15, 50], upper_bck2_pk2=[50, 80],\n",
    "    amplitude=amplitude, x_range_baseline=x_range_baseline, y_range_baseline=y_range_baseline, \n",
    "    x_span_pk1_override=x_span_pk1_override,\n",
    "    x_span_pk2_override=x_span_pk2_override, x_range_peak=x_range_peak, DeltaNe_ideal=ideal_split['Ne_Split'])\n",
    "    df_test\n"
   ]
  },
  {
   "cell_type": "code",
   "execution_count": 23,
   "id": "e54abbaf-7d4b-4233-9bff-24d7806e2190",
   "metadata": {},
   "outputs": [
    {
     "data": {
      "text/plain": [
       "50"
      ]
     },
     "execution_count": 23,
     "metadata": {},
     "output_type": "execute_result"
    }
   ],
   "source": [
    "def test_func(lower_bck_pk1=[-50, -25], upper_bck1_pk1=[8, 13], upper_bck2_pk1=[50, 80],\n",
    "lower_bck_pk2=[-40, -30], upper_bck1_pk2=[15, 50], upper_bck2_pk2=[50, 80], amplitude=100):\n",
    "    test=lower_bck_pk1[0]+upper_bck1_pk2[1]+amplitude\n",
    "    return test\n",
    "\n",
    "\n",
    "back=dict(lower_bck_pk1=[-50, -25], upper_bck1_pk1=[8, 13], upper_bck2_pk1=[50, 80],\n",
    "lower_bck_pk2=[-40, -30], upper_bck1_pk2=[15, 50], upper_bck2_pk2=[50, 80])\n",
    "\n",
    "test_func(**back, amplitude=50)"
   ]
  },
  {
   "cell_type": "code",
   "execution_count": 30,
   "id": "097a20c1-d1f9-4834-9ec8-ba714a7d82e6",
   "metadata": {},
   "outputs": [],
   "source": [
    "from typing import Tuple, Optional\n",
    "\n",
    "@dataclass\n",
    "class Ne_peak_config:\n",
    "    Ne_center_1: float = 1117.1\n",
    "    N_poly_1_baseline: float = 1\n",
    "    x_span_1: Tuple[float, float] = (-10, 8)\n",
    "    LH_offset_mini: Tuple[float, float] = (1.5, 3)\n",
    "    peaks_1: float = 2\n",
    "    lower_bck_pk1: Tuple[float, float] = (-50, -25)\n",
    "    upper_bck1_pk1: Tuple[float, float] = (8, 15)\n",
    "    upper_bck2_pk1: Tuple[float, float] = (30, 50)\n",
    "    Ne_center_2: float = 1147\n",
    "    N_poly_2_baseline: float = 1\n",
    "    x_span_2: Tuple[float, float] = (-5, 5)\n",
    "    x_span_pk1_override: Optional [Tuple[float, float]] = None\n",
    "    x_span_pk2_override: Optional [Tuple[float, float]] = None\n",
    "    lower_bck_pk2: Tuple[float, float] = (-44.2, -22)\n",
    "    upper_bck1_pk2: Tuple[float, float] = (15, 50)\n",
    "    upper_bck2_pk2: Tuple[float, float] = (50, 51)\n",
    "    amplitude: float = 100\n",
    "    DeltaNe_ideal: float = 330.477634\n",
    "    \n",
    "\n",
    "\n",
    "# plot_figure=True, print_report=False, loop=False, x_range_baseline=100, y_range_baseline=1000, x_range_peak=None,  Ne=None, filename=None, path=None, prefix=True,"
   ]
  },
  {
   "cell_type": "code",
   "execution_count": 33,
   "id": "94599a45-c616-467d-aa0c-64b3d58f8d7a",
   "metadata": {},
   "outputs": [
    {
     "data": {
      "text/plain": [
       "Ne_peak_config(Ne_center_1=1117.1, N_poly_1_baseline=1, x_span_1=(-10, 8), LH_offset_mini=(1.5, 3), peaks_1=2, lower_bck_pk1=(-50, -25), upper_bck1_pk1=(8, 15), upper_bck2_pk1=(30, 50), Ne_center_2=1147, N_poly_2_baseline=1, x_span_2=(-5, 5), x_span_pk1_override=None, x_span_pk2_override=None, lower_bck_pk2=(-44.2, -22), upper_bck1_pk2=(15, 50), upper_bck2_pk2=(50, 51), amplitude=20, DeltaNe_ideal=330.477634)"
      ]
     },
     "execution_count": 33,
     "metadata": {},
     "output_type": "execute_result"
    }
   ],
   "source": [
    "c=Ne_peak_config()\n",
    "c.amplitude=20\n",
    "c"
   ]
  },
  {
   "cell_type": "code",
   "execution_count": 34,
   "id": "6e7aecb0-d9ef-49b8-bb88-76f9aaaa4161",
   "metadata": {},
   "outputs": [
    {
     "data": {
      "text/plain": [
       "Ne_peak_config(Ne_center_1=1117.1, N_poly_1_baseline=1, x_span_1=(-10, 8), LH_offset_mini=(1.5, 3), peaks_1=2, lower_bck_pk1=(-50, -25), upper_bck1_pk1=(8, 15), upper_bck2_pk1=(30, 50), Ne_center_2=1147, N_poly_2_baseline=1, x_span_2=(-5, 5), x_span_pk1_override=None, x_span_pk2_override=None, lower_bck_pk2=(-44.2, -22), upper_bck1_pk2=(15, 50), upper_bck2_pk2=(50, 51), amplitude=20, DeltaNe_ideal=330.477634)"
      ]
     },
     "execution_count": 34,
     "metadata": {},
     "output_type": "execute_result"
    }
   ],
   "source": [
    "Ne_peak_config(amplitude=20)"
   ]
  },
  {
   "cell_type": "code",
   "execution_count": null,
   "id": "67c990b8-2b01-4f95-9887-4e68a570cc54",
   "metadata": {},
   "outputs": [],
   "source": [
    "def fit_Ne_lines_Eric(*, config: Ne_peak_config=Ne_peak_config(), Ne=None, filename=None, path=None, prefix=True,\n",
    "plot_figure=True, print_report=False, loop=False, x_range_baseline=100, y_range_baseline=1000, x_range_peak=None, DeltaNe_ideal=330.477634):\n",
    "    pf.fit_Ne_lines(\n",
    "    "
   ]
  },
  {
   "cell_type": "code",
   "execution_count": null,
   "id": "424779f1-3a7b-4c93-a0be-ee907faf73eb",
   "metadata": {},
   "outputs": [],
   "source": [
    "def fit_Ne_lines_Eric(config: Ne_peak_config,\n",
    "    Ne=Ne, filename=filename, path=mypath, prefix=prefix,\n",
    "    x_range_baseline=x_range_baseline, y_range_baseline=y_range_baseline, \n",
    "    x_span_pk1_override=x_span_pk1_override,\n",
    "    x_span_pk2_override=x_span_pk2_override, x_range_peak=x_range_peak, DeltaNe_ideal=ideal_split['Ne_Split'])\n",
    "\n",
    "\n",
    "    df_test\n"
   ]
  },
  {
   "cell_type": "code",
   "execution_count": null,
   "id": "274bf46f-64a1-4e38-84a1-d326b07dcf1e",
   "metadata": {},
   "outputs": [],
   "source": [
    "    y_corr_1117, Py_base_1117, x_1117, Ne_short_1117, Py_base_1117, Baseline_ysub_1117, Baseline_x_1117=remove_Ne_baseline_1117(Ne, Ne_center_1=config.Ne_center_1,\n",
    "    N_poly_1117_baseline=config.N_poly_1_baseline,\n",
    "    lower_bck=config.lower_bck_pk1, upper_bck1=config.upper_bck1_pk1, upper_bck2=config.upper_bck2_pk1)"
   ]
  },
  {
   "cell_type": "code",
   "execution_count": 25,
   "id": "ffb4d274-7d5c-4907-84c9-1a4fb8a5614b",
   "metadata": {},
   "outputs": [],
   "source": [
    "from dataclasses import dataclass\n"
   ]
  },
  {
   "cell_type": "code",
   "execution_count": 26,
   "id": "776b9da9-f4d4-4c46-9e3e-ff7e0e676777",
   "metadata": {},
   "outputs": [
    {
     "ename": "SyntaxError",
     "evalue": "unexpected EOF while parsing (3822990779.py, line 1)",
     "output_type": "error",
     "traceback": [
      "\u001b[1;36m  Input \u001b[1;32mIn [26]\u001b[1;36m\u001b[0m\n\u001b[1;33m    @dataclass\u001b[0m\n\u001b[1;37m              ^\u001b[0m\n\u001b[1;31mSyntaxError\u001b[0m\u001b[1;31m:\u001b[0m unexpected EOF while parsing\n"
     ]
    }
   ],
   "source": [
    "@dataclass\n",
    "class peak:\n",
    "    bck1: List[int]\n",
    "    bck2: List[int]\n",
    "    "
   ]
  },
  {
   "cell_type": "markdown",
   "id": "6986df1b-cf64-43eb-a824-3fdfaf708bac",
   "metadata": {},
   "source": [
    "## Now you can loop over all files using these parameters\n",
    "- Most important thing you can change is plot_figure=False, much quicker, but wont save or show figures, plot_figure=True will)\n",
    "- If you need, you can add other parameters in the loop here. "
   ]
  },
  {
   "cell_type": "code",
   "execution_count": null,
   "id": "dd887042-6c44-4f32-8b59-ffebec52be2a",
   "metadata": {},
   "outputs": [],
   "source": [
    "plot_figure=True # Means doesnt make figures, lot faster. \n",
    "save_excel=True # Saves to excel\n",
    "save_clipboard=True # Copies to clipboard\n",
    "\n",
    "df = pd.DataFrame([])\n",
    "for i in range(0, len(Ne_files)):\n",
    "    \n",
    "    filename=Ne_files[i]\n",
    "    Ne=pf.get_data(path=path, filename=filename, filetype=filetype)\n",
    "    print('working on ' + str(Ne_files[i]))\n",
    "\n",
    "    data=pf.fit_Ne_lines(Ne=Ne, filename=filename, path=path, prefix=prefix,\n",
    "                         \n",
    "                         \n",
    "LH_offset_mini=LH_offset_mini, peaks_1=peaks_1, Ne_center_1=nearest_1117,\n",
    "lower_bck_pk1=[-50, -25], upper_bck1_pk1=[8, 13], upper_bck2_pk1=[50, 80],\n",
    "lower_bck_pk2=[-40, -30], upper_bck1_pk2=[15, 50], upper_bck2_pk2=[50, 80],                         \n",
    "Ne_center_2=nearest_1447, amplitude=amplitude, \n",
    "x_range_baseline=x_range_baseline, y_range_baseline=y_range_baseline, \n",
    "x_span_pk1_override=x_span_pk1_override,\n",
    "x_span_pk2_override=x_span_pk2_override, x_range_peak=x_range_peak,                         \n",
    "plot_figure=plot_figure, loop=True, DeltaNe_ideal=ideal_split['Ne_Split'])\n",
    "    \n",
    "    \n",
    "\n",
    "\n",
    "\n",
    "    df = df.append(data)\n",
    "    \n",
    "df.to_excel('Ne_Lines_fit_loop.xlsx')\n",
    "df.to_clipboard(excel=True)\n",
    "\n"
   ]
  }
 ],
 "metadata": {
  "kernelspec": {
   "display_name": "Python 3 (ipykernel)",
   "language": "python",
   "name": "python3"
  },
  "language_info": {
   "codemirror_mode": {
    "name": "ipython",
    "version": 3
   },
   "file_extension": ".py",
   "mimetype": "text/x-python",
   "name": "python",
   "nbconvert_exporter": "python",
   "pygments_lexer": "ipython3",
   "version": "3.9.12"
  }
 },
 "nbformat": 4,
 "nbformat_minor": 5
}
