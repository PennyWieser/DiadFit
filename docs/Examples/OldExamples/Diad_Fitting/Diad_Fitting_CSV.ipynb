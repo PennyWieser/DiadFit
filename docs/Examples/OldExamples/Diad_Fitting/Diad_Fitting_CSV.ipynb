{
 "cells": [
  {
   "cell_type": "markdown",
   "id": "210f0815-c4ad-4ebc-9908-0f5c9357097f",
   "metadata": {},
   "source": [
    "# Headless CSV file\n",
    "This notebook shows how to fit a Fermi diad from a CSV file collected at a wide range of wavenumbers\n"
   ]
  },
  {
   "cell_type": "code",
   "execution_count": 1,
   "id": "380f100a-c7ab-4727-88c5-3fea972dc7dd",
   "metadata": {},
   "outputs": [],
   "source": [
    "# Importing numpy, pandas and matplotlib\n",
    "import numpy as np\n",
    "import pandas as pd\n",
    "import matplotlib.pyplot as plt\n",
    "# Importing DiadFit after its installed. If its not installed, see paper for installation instructions\n",
    "import DiadFit as pf"
   ]
  },
  {
   "cell_type": "markdown",
   "id": "5f434b59-b61b-4cb4-9f07-3537bc3c2273",
   "metadata": {},
   "source": [
    "## Specify path to folder with your spectra in"
   ]
  },
  {
   "cell_type": "code",
   "execution_count": 2,
   "id": "977ff812-5f53-48ae-b1ae-f3e36268746a",
   "metadata": {},
   "outputs": [],
   "source": [
    "# Add the path with your spectra in\n",
    "mypath=r'G:\\My Drive\\Berkeley_NEW\\DiadFit_outer\\docs\\Examples\\Diad_Spectra'"
   ]
  },
  {
   "cell_type": "markdown",
   "id": "9e9d7abf-ae64-4341-bfae-3c594d5ff7ab",
   "metadata": {},
   "source": [
    "## Specify your file type, options:\n",
    "- 'headless_txt',\n",
    "-'Witec_ASCII'\n",
    "- 'Renishaw_txt'\n",
    "- 'HORIBA_txt'\n",
    "- 'headless_csv'"
   ]
  },
  {
   "cell_type": "code",
   "execution_count": 3,
   "id": "bfc5fdd6-49c7-405f-bfda-c9f82652f48f",
   "metadata": {},
   "outputs": [],
   "source": [
    "filetype='headless_csv'\n",
    "# Specifying the extension here helps to filter out other file types,\n",
    "# e.g. png files that may be in the folder\n",
    "file_ext='.CSV'\n",
    "# If your instrument appends a nubmer like 01, 02 to each file, True removes it\n",
    "prefix=False"
   ]
  },
  {
   "cell_type": "markdown",
   "id": "4c708ac2-234b-4fef-a6f4-e69eeb3b8541",
   "metadata": {},
   "source": [
    "## This function finds all files in your path with the specified file format"
   ]
  },
  {
   "cell_type": "code",
   "execution_count": 4,
   "id": "16063c8e-4c37-4750-bb34-ef685c06fab4",
   "metadata": {},
   "outputs": [
    {
     "ename": "FileNotFoundError",
     "evalue": "[WinError 3] The system cannot find the path specified: 'G:\\\\My Drive\\\\Berkeley_NEW\\\\DiadFit_outer\\\\docs\\\\Examples\\\\Diad_Spectra'",
     "output_type": "error",
     "traceback": [
      "\u001b[1;31m---------------------------------------------------------------------------\u001b[0m",
      "\u001b[1;31mFileNotFoundError\u001b[0m                         Traceback (most recent call last)",
      "Input \u001b[1;32mIn [4]\u001b[0m, in \u001b[0;36m<cell line: 1>\u001b[1;34m()\u001b[0m\n\u001b[1;32m----> 1\u001b[0m Diad_files\u001b[38;5;241m=\u001b[39m\u001b[43mpf\u001b[49m\u001b[38;5;241;43m.\u001b[39;49m\u001b[43mget_diad_files\u001b[49m\u001b[43m(\u001b[49m\u001b[43mpath\u001b[49m\u001b[38;5;241;43m=\u001b[39;49m\u001b[43mmypath\u001b[49m\u001b[43m,\u001b[49m\u001b[43m \u001b[49m\u001b[43mfile_ext\u001b[49m\u001b[38;5;241;43m=\u001b[39;49m\u001b[43mfile_ext\u001b[49m\u001b[43m)\u001b[49m\n\u001b[0;32m      2\u001b[0m Diad_files\n",
      "File \u001b[1;32mg:\\my drive\\berkeley_new\\diadfit_outer\\src\\DiadFit\\importing_data_files.py:71\u001b[0m, in \u001b[0;36mget_diad_files\u001b[1;34m(path, sort, file_ext, exclude_str, exclude_type)\u001b[0m\n\u001b[0;32m     47\u001b[0m \u001b[38;5;28;01mdef\u001b[39;00m \u001b[38;5;21mget_diad_files\u001b[39m(path, sort\u001b[38;5;241m=\u001b[39m\u001b[38;5;28;01mTrue\u001b[39;00m, file_ext\u001b[38;5;241m=\u001b[39m\u001b[38;5;124m'\u001b[39m\u001b[38;5;124mtxt\u001b[39m\u001b[38;5;124m'\u001b[39m, exclude_str\u001b[38;5;241m=\u001b[39m\u001b[38;5;124m'\u001b[39m\u001b[38;5;124mNe\u001b[39m\u001b[38;5;124m'\u001b[39m, exclude_type\u001b[38;5;241m=\u001b[39m\u001b[38;5;124m'\u001b[39m\u001b[38;5;124m.png\u001b[39m\u001b[38;5;124m'\u001b[39m):\n\u001b[0;32m     48\u001b[0m     \u001b[38;5;124;03m\"\"\" This function takes a user path, and extracts all files which dont contain the excluded string and type\u001b[39;00m\n\u001b[0;32m     49\u001b[0m \n\u001b[0;32m     50\u001b[0m \u001b[38;5;124;03m    Parameters\u001b[39;00m\n\u001b[1;32m   (...)\u001b[0m\n\u001b[0;32m     67\u001b[0m \n\u001b[0;32m     68\u001b[0m \u001b[38;5;124;03m    \"\"\"\u001b[39;00m\n\u001b[1;32m---> 71\u001b[0m     Allfiles \u001b[38;5;241m=\u001b[39m [f \u001b[38;5;28;01mfor\u001b[39;00m f \u001b[38;5;129;01min\u001b[39;00m \u001b[43mlistdir\u001b[49m\u001b[43m(\u001b[49m\u001b[43mpath\u001b[49m\u001b[43m)\u001b[49m \u001b[38;5;28;01mif\u001b[39;00m isfile(join(path, f))]\n\u001b[0;32m     72\u001b[0m     \u001b[38;5;28mprint\u001b[39m(\u001b[38;5;124m'\u001b[39m\u001b[38;5;124mexclude type\u001b[39m\u001b[38;5;124m'\u001b[39m)\n\u001b[0;32m     73\u001b[0m     \u001b[38;5;28mprint\u001b[39m(exclude_type)\n",
      "\u001b[1;31mFileNotFoundError\u001b[0m: [WinError 3] The system cannot find the path specified: 'G:\\\\My Drive\\\\Berkeley_NEW\\\\DiadFit_outer\\\\docs\\\\Examples\\\\Diad_Spectra'"
     ]
    }
   ],
   "source": [
    "Diad_files=pf.get_diad_files(path=mypath, file_ext=file_ext)\n",
    "Diad_files"
   ]
  },
  {
   "cell_type": "markdown",
   "id": "9d1284a0-2f4e-47d1-8143-cb976517bec5",
   "metadata": {},
   "source": [
    "## Select file here OR specify file name\n",
    "- Here we select the 1st file in the folder [0], if you wanted to target a specific file, you can do that by uncommenting the line below. "
   ]
  },
  {
   "cell_type": "code",
   "execution_count": null,
   "id": "d807d526-b38d-4285-8ddf-9d4849746d54",
   "metadata": {},
   "outputs": [],
   "source": [
    "filename=Diad_files[0] # or put ='FG04_10_MI1_2.txt'\n",
    "#filename='WITEC_ASCII_MS14_11_MI1_50X.txt'\n",
    "print(filename)"
   ]
  },
  {
   "cell_type": "markdown",
   "id": "b2b0358a-3003-4c0e-b942-11de597d5092",
   "metadata": {},
   "source": [
    "## Now plot the spectra to inspect what is going on\n",
    "- By default, DiadFit adds the positions of some common phases in bubbles "
   ]
  },
  {
   "cell_type": "code",
   "execution_count": null,
   "id": "67107589-fba8-44a0-a86e-9e4d9ebbf166",
   "metadata": {},
   "outputs": [],
   "source": [
    "pf.plot_diad(path=mypath, filename=filename, filetype=filetype)"
   ]
  },
  {
   "cell_type": "markdown",
   "id": "2b0877b7-3c2e-4370-9aa9-19106fdd790b",
   "metadata": {},
   "source": [
    "## After inspecting the spectra, decide if you want to fit the carbonate peak\n",
    "- If yes, select fit_carbonate=True, else fit_Carbonate=False\n",
    "- We can see above there is no carbonate, so we select false"
   ]
  },
  {
   "cell_type": "code",
   "execution_count": null,
   "id": "6c6e1a03-d4f2-44f9-afda-06f46c89ca6f",
   "metadata": {},
   "outputs": [],
   "source": [
    "fit_carbonate=False\n",
    "# Exclude a range here, e.g. if you have a nasty Cosmic ray\n",
    "exclude_range=None#[1080, 1088]\n",
    "# This selects the two background positions\n",
    "lower_range=[1060, 1065]\n",
    "upper_range=[1120, 1130]\n",
    "# This sets the peak center, you can tweak if needed\n",
    "cent=1090\n",
    "# Amplitude, may need to tweak\n",
    "amplitude=1000\n",
    "# Tweak degree of poylnomial fitting the background\n",
    "N_poly=1\n",
    "# Select sigma level, e.g. discard points in background N* sigma outside mean\n",
    "outlier_sigma=12\n",
    "# N PEAKS - if you want approx peak positionYs\n",
    "N_peaks=3\n",
    "\n",
    "# This actually does the work and fits the carbonate peak\n",
    "# You can tweak the other parameters such as the distance, prominence in the function\n",
    "Carb_fit, xx_carb, y_carb, result0=pf.fit_carbonate_peak(path=mypath, \n",
    "filename=filename, filetype=filetype,\n",
    "lower_range=lower_range, upper_range=upper_range, \n",
    "cent=cent, exclude_range=exclude_range,\n",
    "N_poly=N_poly, outlier_sigma=outlier_sigma, \n",
    "N_peaks=N_peaks, amplitude=amplitude,\n",
    "distance = 10, prominence=5, width=6, \n",
    "threshold=0.1, fit_carbonate=fit_carbonate)\n",
    "Carb_fit"
   ]
  },
  {
   "cell_type": "markdown",
   "id": "cce3ad7c-4044-46af-a3e8-9ca16577ae84",
   "metadata": {},
   "source": [
    "## Now lets plot the diads\n",
    "- As with carbonate, you can exclude 2 segments (e.g. around cosmic rays)\n",
    "- You then specify how many peaks you want to fit on each diad. 1 means just the strong peak, 2 hotbands, and 3 for Diad2 would also fit the C13 peak if present. \n",
    "- The identify_diad_peaks then uses scipy findpeaks to identify the positions of the 2 diads, and any other peaks the user asks for. These are saved, and fed into the later functions for peak fitting. "
   ]
  },
  {
   "cell_type": "code",
   "execution_count": null,
   "id": "7f4bc20a-7348-442d-9a89-eaf86509e7d0",
   "metadata": {},
   "outputs": [],
   "source": [
    "# Exclude a range\n",
    "exclude_range1=None #[1320, 1340]#None\n",
    "exclude_range2=None #[1236, 1250]\n",
    "# Specify the number of peaks\n",
    "n_peaks_diad1=2\n",
    "n_peaks_diad2=2 \n",
    "# \n",
    "diad1_peaks, diad2_peaks=pf.identify_diad_peaks(path=mypath, filename=filename,\n",
    "filetype=filetype, n_peaks_diad1=n_peaks_diad1, n_peaks_diad2=n_peaks_diad2,                                      \n",
    "exclude_range1=exclude_range1,  exclude_range2=exclude_range2,\n",
    "height = 400, threshold = 0.5, distance = 5, prominence=10, width=0.5)"
   ]
  },
  {
   "cell_type": "markdown",
   "id": "a3a3c94a-b153-4505-ab18-6ab763af8cb5",
   "metadata": {},
   "source": [
    "## If you have no diads visible...\n",
    "- Uncomment this line, and it will just save the carbonate peak parameters"
   ]
  },
  {
   "cell_type": "code",
   "execution_count": null,
   "id": "89df5fd7-3a1c-40d6-83d1-67d9762c9fe7",
   "metadata": {},
   "outputs": [],
   "source": [
    "#pf.proceed_to_fit_diads(filename, Carb_fit)"
   ]
  },
  {
   "cell_type": "markdown",
   "id": "3dbfcd50-5504-40b7-90b8-582cbc06ed84",
   "metadata": {},
   "source": [
    "## Fit Diad 1\n",
    "- This function uses the guess of the peak parameters above. You can choose to fit a gaussian background. Else, use a polynomial and specify background positions\n",
    "- If plot_figure=True, it saves the figure in its own folder in the path, so you can inspect all the fits at a later date. "
   ]
  },
  {
   "cell_type": "code",
   "execution_count": null,
   "id": "e8167f5d-c9b6-4f51-8508-7e4c41f00d13",
   "metadata": {},
   "outputs": [],
   "source": [
    "# If you put a number in brackets, it'll center a gaussian near there. \n",
    "peak_pos_gauss=None#(1250)\n",
    "# Degree of polynomial for the background\n",
    "N_poly_bck_diad1=1\n",
    "# LH range to use as baseline for the diad\n",
    "lower_baseline_diad1=[1220, 1250]\n",
    "# RH range to use as baseline for the diad\n",
    "upper_baseline_diad1=[1300, 1350]\n",
    "## Amplitude may need tweaking if you don't get a good match\n",
    "amplitude=1000\n",
    "# Do you want to save the figure?\n",
    "plot_figure=True\n",
    "# This function does the work fitting the diad\n",
    "Diad1_fit, result_diad1, best_fit_diad1, xdat_diad1=pf.fit_diad_1_w_bck(\n",
    "path=mypath, filename=filename, filetype=filetype,\n",
    "exclude_range1=exclude_range1, exclude_range2=exclude_range2,\n",
    "N_poly_bck_diad1=N_poly_bck_diad1, lower_baseline_diad1=lower_baseline_diad1,\n",
    "upper_baseline_diad1=upper_baseline_diad1,\n",
    "peak_pos_voigt=diad1_peaks, peak_pos_gauss=peak_pos_gauss, amplitude=amplitude,\n",
    "plot_figure=plot_figure)\n",
    "Diad1_fit"
   ]
  },
  {
   "cell_type": "markdown",
   "id": "643d2462-3fda-4ad8-a0df-6b8d53bf7e4b",
   "metadata": {},
   "source": [
    "## Fit diad 2"
   ]
  },
  {
   "cell_type": "code",
   "execution_count": null,
   "id": "828181ca-7b22-49c4-b285-af5919e80071",
   "metadata": {
    "tags": []
   },
   "outputs": [],
   "source": [
    "# Gaussian or not, either enter approximate center of Guassian, or None\n",
    "peak_pos_gauss=None#(1378)\n",
    "# If need to adjust shape of gaussian, enter fwhm here\n",
    "gauss_sigma=100\n",
    "gauss_sigma_min=10\n",
    "gauss_amp=30000\n",
    "# Degree of polynomail for the background\n",
    "N_poly_bck_diad2=2\n",
    "# LH range to use as baseline for the diad\n",
    "lower_baseline_diad2=[1300, 1360]\n",
    "# RH range to use as baseline for the diad\n",
    "upper_baseline_diad2=[1440, 1470]\n",
    "# Tweak amplitude if needed\n",
    "amplitude=10000\n",
    "# This then takes these inputs and feeds them into the function\n",
    "Diad2_fit, result_diad2, best_fit_diad2, xdat_diad2 =pf.fit_diad_2_w_bck(path=mypath, filename=filename, filetype=filetype, peak_pos_voigt=diad2_peaks,\n",
    "exclude_range1=exclude_range1, exclude_range2=exclude_range2, N_poly_bck_diad2=N_poly_bck_diad2, \n",
    "lower_baseline_diad2=lower_baseline_diad2, upper_baseline_diad2=upper_baseline_diad2,\n",
    "peak_pos_gauss=peak_pos_gauss, gauss_sigma=gauss_sigma,gauss_fwhm_min=gauss_sigma_min,\n",
    "gauss_amp=gauss_amp,                                                                         \n",
    "amplitude=amplitude)\n",
    "Diad2_fit"
   ]
  },
  {
   "cell_type": "markdown",
   "id": "8c47fe23-939d-4b02-bfe5-f501c085702f",
   "metadata": {},
   "source": [
    "## Combine and copy to clipboard!"
   ]
  },
  {
   "cell_type": "code",
   "execution_count": 20,
   "id": "36a1827d-087b-4612-ac37-7c0e8d8ee3ef",
   "metadata": {},
   "outputs": [
    {
     "data": {
      "text/html": [
       "<div>\n",
       "<style scoped>\n",
       "    .dataframe tbody tr th:only-of-type {\n",
       "        vertical-align: middle;\n",
       "    }\n",
       "\n",
       "    .dataframe tbody tr th {\n",
       "        vertical-align: top;\n",
       "    }\n",
       "\n",
       "    .dataframe thead th {\n",
       "        text-align: right;\n",
       "    }\n",
       "</style>\n",
       "<table border=\"1\" class=\"dataframe\">\n",
       "  <thead>\n",
       "    <tr style=\"text-align: right;\">\n",
       "      <th></th>\n",
       "      <th>filename</th>\n",
       "      <th>Splitting</th>\n",
       "      <th>Diad1_Cent</th>\n",
       "      <th>Diad1_Area</th>\n",
       "      <th>Residual_Diad1</th>\n",
       "      <th>Diad2_Cent</th>\n",
       "      <th>Diad2_Area</th>\n",
       "      <th>Residual_Diad2</th>\n",
       "      <th>HB1_Cent</th>\n",
       "      <th>HB1_Area</th>\n",
       "      <th>HB2_Cent</th>\n",
       "      <th>HB2_Area</th>\n",
       "      <th>C13_Cent</th>\n",
       "      <th>C13_Area</th>\n",
       "    </tr>\n",
       "  </thead>\n",
       "  <tbody>\n",
       "    <tr>\n",
       "      <th>0</th>\n",
       "      <td>headless_CSV_09_K14.CSV</td>\n",
       "      <td>102.890027</td>\n",
       "      <td>1285.256419</td>\n",
       "      <td>92750.254528</td>\n",
       "      <td>160.300544</td>\n",
       "      <td>1388.146447</td>\n",
       "      <td>142195.933212</td>\n",
       "      <td>244.644775</td>\n",
       "      <td>1264.979694</td>\n",
       "      <td>8542.288503</td>\n",
       "      <td>1409.428468</td>\n",
       "      <td>11182.294974</td>\n",
       "      <td>NaN</td>\n",
       "      <td>0</td>\n",
       "    </tr>\n",
       "  </tbody>\n",
       "</table>\n",
       "</div>"
      ],
      "text/plain": [
       "                  filename   Splitting   Diad1_Cent    Diad1_Area  \\\n",
       "0  headless_CSV_09_K14.CSV  102.890027  1285.256419  92750.254528   \n",
       "\n",
       "   Residual_Diad1   Diad2_Cent     Diad2_Area  Residual_Diad2     HB1_Cent  \\\n",
       "0      160.300544  1388.146447  142195.933212      244.644775  1264.979694   \n",
       "\n",
       "      HB1_Area     HB2_Cent      HB2_Area  C13_Cent  C13_Area  \n",
       "0  8542.288503  1409.428468  11182.294974       NaN         0  "
      ]
     },
     "execution_count": 20,
     "metadata": {},
     "output_type": "execute_result"
    }
   ],
   "source": [
    "out=pf.combine_diad_outputs(filename=filename, prefix=prefix, \n",
    "Diad1_fit=Diad1_fit, \n",
    "Diad2_fit=Diad2_fit, Carb_fit=Carb_fit)\n",
    "out"
   ]
  },
  {
   "cell_type": "code",
   "execution_count": null,
   "id": "1a6bece6-5f82-44ff-8578-2f850d2de0c2",
   "metadata": {},
   "outputs": [],
   "source": []
  }
 ],
 "metadata": {
  "kernelspec": {
   "display_name": "Python 3 (ipykernel)",
   "language": "python",
   "name": "python3"
  },
  "language_info": {
   "codemirror_mode": {
    "name": "ipython",
    "version": 3
   },
   "file_extension": ".py",
   "mimetype": "text/x-python",
   "name": "python",
   "nbconvert_exporter": "python",
   "pygments_lexer": "ipython3",
   "version": "3.9.12"
  }
 },
 "nbformat": 4,
 "nbformat_minor": 5
}
