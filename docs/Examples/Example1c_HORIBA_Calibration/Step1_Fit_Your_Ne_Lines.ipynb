{
 "cells": [
  {
   "cell_type": "markdown",
   "id": "fa33d9b1-7111-493c-8249-c259b1d6da90",
   "metadata": {},
   "source": [
    "# 1. Fitting Ne lines in a loop\n",
    "- This notebook shows how to fit all lines in a folder defined by path\n",
    "- You tweak the fit for a single line, and then use this to fit all lines. You can then refit lines with high residuals/offsets differing from the rest"
   ]
  },
  {
   "cell_type": "markdown",
   "id": "843dfcc2-7b25-4675-aed6-0836447c1d9b",
   "metadata": {},
   "source": [
    "## Downloading locally\n",
    "- You can install DiadFit through PyPI, simply uncomment this line. You only need to run this once per computer (until you want to get an upgraded version)"
   ]
  },
  {
   "cell_type": "code",
   "execution_count": 1,
   "id": "cf8c2fe4-c8a5-4120-8c21-af08a0573596",
   "metadata": {},
   "outputs": [],
   "source": [
    "#!pip install DiadFit --upgrade "
   ]
  },
  {
   "cell_type": "markdown",
   "id": "c092307b-7725-4bf4-b1c0-3c3a52936d23",
   "metadata": {},
   "source": [
    "## Now import the packages you need\n",
    "- When you communicate bugs with Penny, make sure you specify the version here."
   ]
  },
  {
   "cell_type": "code",
   "execution_count": 2,
   "id": "fcee43bb-9ac1-456e-a1fa-654bce7d6f0c",
   "metadata": {},
   "outputs": [
    {
     "data": {
      "text/plain": [
       "'0.0.53'"
      ]
     },
     "execution_count": 2,
     "metadata": {},
     "output_type": "execute_result"
    }
   ],
   "source": [
    "import numpy as np\n",
    "import pandas as pd\n",
    "import matplotlib.pyplot as plt\n",
    "import DiadFit as pf\n",
    "pf.__version__"
   ]
  },
  {
   "cell_type": "markdown",
   "id": "e2749eb9-65a4-452e-89d3-8da651e114b8",
   "metadata": {},
   "source": [
    "##  Specifying paths\n",
    "- Put your path here, e.g. where in your computer the spectra and metadata are saved"
   ]
  },
  {
   "cell_type": "code",
   "execution_count": 3,
   "id": "a4b56e08-a1bc-4056-8d33-a3a990761cb7",
   "metadata": {},
   "outputs": [],
   "source": [
    "import os\n",
    "DayFolder=os.getcwd()\n",
    "meta_path=DayFolder +  '\\MetaData'\n",
    "spectra_path=DayFolder + '\\Spectra'\n",
    "filetype='headless_txt'"
   ]
  },
  {
   "cell_type": "code",
   "execution_count": 4,
   "id": "bbe32217-e5e6-45c2-9536-10af29a81b5e",
   "metadata": {},
   "outputs": [
    {
     "data": {
      "text/plain": [
       "['Ne_lines_12_2.txt',\n",
       " 'Ne_lines_1_1.txt',\n",
       " 'Ne_lines_1_2.txt',\n",
       " 'Ne_lines_2_1.txt',\n",
       " 'Ne_lines_2_2.txt',\n",
       " 'Ne_lines_3_1.txt',\n",
       " 'Ne_lines_3_2.txt',\n",
       " 'Ne_lines_4_1.txt',\n",
       " 'Ne_lines_4_2.txt',\n",
       " 'Ne_lines_5_1.txt',\n",
       " 'Ne_lines_5_2.txt',\n",
       " 'Ne_lines_6_1.txt',\n",
       " 'Ne_lines_6_2.txt',\n",
       " 'Ne_lines_7_1.txt',\n",
       " 'Ne_lines_7_2.txt',\n",
       " 'Ne_lines_8_1.txt',\n",
       " 'Ne_lines_8_2.txt',\n",
       " 'Ne_lines_9_1.txt',\n",
       " 'Ne_lines_9_2.txt',\n",
       " 'Ne_lines_10_1.txt',\n",
       " 'Ne_lines_10_2.txt',\n",
       " 'Ne_lines_11_1.txt',\n",
       " 'Ne_lines_11_2.txt',\n",
       " 'Ne_lines_12_1.txt']"
      ]
     },
     "execution_count": 4,
     "metadata": {},
     "output_type": "execute_result"
    }
   ],
   "source": [
    "Ne_files=pf.get_files(path=spectra_path,\n",
    "file_ext='txt', ID_str='N', \n",
    "exclude_str=['diad', 'mol'], sort=False)\n",
    "\n",
    "Ne_files"
   ]
  },
  {
   "cell_type": "markdown",
   "id": "656e61a2-ae27-46dd-9e1c-9a69c35c1c1c",
   "metadata": {},
   "source": [
    "### Get Ne line positions for your specific laser wavelength\n",
    "- At the moment, this returns any Ne lines with intensity >2000 in the NIST databook, although you can change this!"
   ]
  },
  {
   "cell_type": "code",
   "execution_count": 5,
   "id": "9ee1d69b-b8b2-4c30-9377-4a048b22b28c",
   "metadata": {},
   "outputs": [
    {
     "data": {
      "text/html": [
       "<div>\n",
       "<style scoped>\n",
       "    .dataframe tbody tr th:only-of-type {\n",
       "        vertical-align: middle;\n",
       "    }\n",
       "\n",
       "    .dataframe tbody tr th {\n",
       "        vertical-align: top;\n",
       "    }\n",
       "\n",
       "    .dataframe thead th {\n",
       "        text-align: right;\n",
       "    }\n",
       "</style>\n",
       "<table border=\"1\" class=\"dataframe\">\n",
       "  <thead>\n",
       "    <tr style=\"text-align: right;\">\n",
       "      <th></th>\n",
       "      <th>Raman_shift (cm-1)</th>\n",
       "      <th>Intensity</th>\n",
       "      <th>Ne emission line in air</th>\n",
       "    </tr>\n",
       "  </thead>\n",
       "  <tbody>\n",
       "    <tr>\n",
       "      <th>1</th>\n",
       "      <td>819.618059</td>\n",
       "      <td>5000.0</td>\n",
       "      <td>556.27662</td>\n",
       "    </tr>\n",
       "    <tr>\n",
       "      <th>9</th>\n",
       "      <td>1118.005523</td>\n",
       "      <td>5000.0</td>\n",
       "      <td>565.66588</td>\n",
       "    </tr>\n",
       "    <tr>\n",
       "      <th>16</th>\n",
       "      <td>1311.398741</td>\n",
       "      <td>5000.0</td>\n",
       "      <td>571.92248</td>\n",
       "    </tr>\n",
       "    <tr>\n",
       "      <th>19</th>\n",
       "      <td>1399.833669</td>\n",
       "      <td>5000.0</td>\n",
       "      <td>574.82985</td>\n",
       "    </tr>\n",
       "    <tr>\n",
       "      <th>23</th>\n",
       "      <td>1448.483158</td>\n",
       "      <td>7000.0</td>\n",
       "      <td>576.44188</td>\n",
       "    </tr>\n",
       "  </tbody>\n",
       "</table>\n",
       "</div>"
      ],
      "text/plain": [
       "    Raman_shift (cm-1)  Intensity  Ne emission line in air\n",
       "1           819.618059     5000.0                556.27662\n",
       "9          1118.005523     5000.0                565.66588\n",
       "16         1311.398741     5000.0                571.92248\n",
       "19         1399.833669     5000.0                574.82985\n",
       "23         1448.483158     7000.0                576.44188"
      ]
     },
     "execution_count": 5,
     "metadata": {},
     "output_type": "execute_result"
    }
   ],
   "source": [
    "wavelength =532.02 # Specify the specific wavelength of your laser \n",
    "df_Ne=pf.calculate_Ne_line_positions(wavelength=wavelength, \n",
    "cut_off_intensity=2000)\n",
    "df_Ne.head()"
   ]
  },
  {
   "cell_type": "markdown",
   "id": "cbf1b4fa-7077-4b62-a520-82e9fa37ec04",
   "metadata": {},
   "source": [
    "### Calculate the ideal distance between the two lines you are selecting\n",
    "- This finds the closest line in the table above for each selected line"
   ]
  },
  {
   "cell_type": "code",
   "execution_count": 6,
   "id": "490dbb1f-60c9-4da5-af36-25529a8433e8",
   "metadata": {},
   "outputs": [
    {
     "data": {
      "text/html": [
       "<div>\n",
       "<style scoped>\n",
       "    .dataframe tbody tr th:only-of-type {\n",
       "        vertical-align: middle;\n",
       "    }\n",
       "\n",
       "    .dataframe tbody tr th {\n",
       "        vertical-align: top;\n",
       "    }\n",
       "\n",
       "    .dataframe thead th {\n",
       "        text-align: right;\n",
       "    }\n",
       "</style>\n",
       "<table border=\"1\" class=\"dataframe\">\n",
       "  <thead>\n",
       "    <tr style=\"text-align: right;\">\n",
       "      <th></th>\n",
       "      <th>Ne_Split</th>\n",
       "      <th>Line_1</th>\n",
       "      <th>Line_2</th>\n",
       "      <th>Entered Pos Line 1</th>\n",
       "      <th>Entered Pos Line 2</th>\n",
       "    </tr>\n",
       "  </thead>\n",
       "  <tbody>\n",
       "    <tr>\n",
       "      <th>0</th>\n",
       "      <td>330.477634</td>\n",
       "      <td>1118.005523</td>\n",
       "      <td>1448.483158</td>\n",
       "      <td>1117</td>\n",
       "      <td>1447</td>\n",
       "    </tr>\n",
       "  </tbody>\n",
       "</table>\n",
       "</div>"
      ],
      "text/plain": [
       "     Ne_Split       Line_1       Line_2  Entered Pos Line 1  \\\n",
       "0  330.477634  1118.005523  1448.483158                1117   \n",
       "\n",
       "   Entered Pos Line 2  \n",
       "0                1447  "
      ]
     },
     "execution_count": 6,
     "metadata": {},
     "output_type": "execute_result"
    }
   ],
   "source": [
    "line_1=1117\n",
    "line_2=1447\n",
    "ideal_split=pf.calculate_Ne_splitting(wavelength=wavelength, \n",
    "line1_shift=line_1, line2_shift=line_2,\n",
    "cut_off_intensity=2000)\n",
    "ideal_split"
   ]
  },
  {
   "cell_type": "markdown",
   "id": "43deced3-cf2d-4fed-a5e2-adbece1937af",
   "metadata": {},
   "source": [
    "## Select one file to tweak the fit for\n",
    "- You can either do this numerically, or by specifiying the filename between ''"
   ]
  },
  {
   "cell_type": "code",
   "execution_count": 23,
   "id": "8234e10b-ac6c-41ae-9155-918deecea607",
   "metadata": {},
   "outputs": [
    {
     "name": "stdout",
     "output_type": "stream",
     "text": [
      "Ne_lines_2_2.txt\n"
     ]
    }
   ],
   "source": [
    "i=0 # Select one file\n",
    "filename=Ne_files[4] \n",
    "print(filename)"
   ]
  },
  {
   "cell_type": "markdown",
   "id": "49b4e42f-8b67-4236-ad9f-4fc1d74ac5e9",
   "metadata": {},
   "source": [
    "## Plot Ne lines to inspect\n",
    "- This function allows you to inspect your spectra, and also uses scipy find peaks to get a first guess of the peak positions, which speeds up the voigt fitting in the later part of the notebook\n",
    "- This also prints the heights of the other peaks so you could choose other Neons if you wanted to"
   ]
  },
  {
   "cell_type": "code",
   "execution_count": 24,
   "id": "0de7e5bb-cd3f-4a4d-a736-bc7c48799301",
   "metadata": {},
   "outputs": [
    {
     "data": {
      "text/html": [
       "<div>\n",
       "<style scoped>\n",
       "    .dataframe tbody tr th:only-of-type {\n",
       "        vertical-align: middle;\n",
       "    }\n",
       "\n",
       "    .dataframe tbody tr th {\n",
       "        vertical-align: top;\n",
       "    }\n",
       "\n",
       "    .dataframe thead th {\n",
       "        text-align: right;\n",
       "    }\n",
       "</style>\n",
       "<table border=\"1\" class=\"dataframe\">\n",
       "  <thead>\n",
       "    <tr style=\"text-align: right;\">\n",
       "      <th></th>\n",
       "      <th>Peak1_cent</th>\n",
       "      <th>Peak1_height</th>\n",
       "      <th>Peak2_cent</th>\n",
       "      <th>Peak2_height</th>\n",
       "      <th>Peak1_prom</th>\n",
       "      <th>Peak2_prom</th>\n",
       "    </tr>\n",
       "  </thead>\n",
       "  <tbody>\n",
       "    <tr>\n",
       "      <th>70</th>\n",
       "      <td>1118.73</td>\n",
       "      <td>18410.0</td>\n",
       "      <td>1448.29</td>\n",
       "      <td>64525.0</td>\n",
       "      <td>17990.0</td>\n",
       "      <td>64105.0</td>\n",
       "    </tr>\n",
       "  </tbody>\n",
       "</table>\n",
       "</div>"
      ],
      "text/plain": [
       "    Peak1_cent  Peak1_height  Peak2_cent  Peak2_height  Peak1_prom  Peak2_prom\n",
       "70     1118.73       18410.0     1448.29       64525.0     17990.0     64105.0"
      ]
     },
     "execution_count": 24,
     "metadata": {},
     "output_type": "execute_result"
    },
    {
     "data": {
      "image/png": "[encoded data removed]",
      "text/plain": [
       "<Figure size 1100x350 with 3 Axes>"
      ]
     },
     "metadata": {},
     "output_type": "display_data"
    }
   ],
   "source": [
    "exclude_range_1=None\n",
    "exclude_range_2=None\n",
    "\n",
    "\n",
    "Neon_id_config=pf.Neon_id_config(height=10,  distance=1, prominence=10, \n",
    "            width=1, threshold=0.6,\n",
    "            peak1_cent=line_1, peak2_cent=line_2, n_peaks=6, \n",
    "            exclude_range_1=exclude_range_1, \n",
    "            exclude_range_2=exclude_range_2)\n",
    "Neon_id_config\n",
    "\n",
    "Ne, df_fit_params=pf.identify_Ne_lines(path=spectra_path,\n",
    "filename=filename, filetype=filetype,\n",
    "config=Neon_id_config, print_df=False)\n",
    "df_fit_params"
   ]
  },
  {
   "cell_type": "markdown",
   "id": "776310ae-9982-4feb-aa44-966a33b386dc",
   "metadata": {},
   "source": [
    "### Tweak peak parameters\n",
    "- One important thing is the background positions, these are defined relative to the peak position. Once you tweak them for each instrument, you chould be good to go. \n",
    "- Another thing is how many peaks you want for Peak1, 'peaks_1', for the 1117 line, you'll need 2 if you have the clear secondary peak seen above. "
   ]
  },
  {
   "cell_type": "code",
   "execution_count": 25,
   "id": "2c54aaeb-240c-4245-8ab9-ab7c42d2f861",
   "metadata": {},
   "outputs": [
    {
     "data": {
      "text/plain": [
       "Ne_peak_config(model_name='PseudoVoigtModel', N_poly_pk1_baseline=1, N_poly_pk2_baseline=1, lower_bck_pk1=(-50, -25), upper_bck1_pk1=(8, 15), upper_bck2_pk1=(30, 50), lower_bck_pk2=(-44.2, -22), upper_bck1_pk2=(15, 50), upper_bck2_pk2=(50, 51), peaks_1=2, DeltaNe_ideal=330.477634, x_range_baseline_pk1=20, y_range_baseline_pk1=200, x_range_baseline_pk2=20, y_range_baseline_pk2=200, pk1_sigma=0.4, pk2_sigma=0.4, x_range_peak=15, x_range_residual=7, LH_offset_mini=(1.5, 3), x_span_pk1=None, x_span_pk2=None)"
      ]
     },
     "execution_count": 25,
     "metadata": {},
     "output_type": "execute_result"
    }
   ],
   "source": [
    "pf.Ne_peak_config()"
   ]
  },
  {
   "cell_type": "code",
   "execution_count": 26,
   "id": "47a65271-cec6-4e71-9a75-4403145d7bf7",
   "metadata": {},
   "outputs": [],
   "source": [
    "model_name='PseudoVoigtModel'\n",
    "Ne_Config_est=pf.Ne_peak_config(model_name=model_name,\n",
    " DeltaNe_ideal=ideal_split['Ne_Split'], peaks_1=2, LH_offset_mini=[2, 5],\n",
    "pk1_sigma=0.6, pk2_sigma=0.5,\n",
    "lower_bck_pk1=(-40, -25), upper_bck1_pk1=[40, 70], upper_bck2_pk1=[40, 70],\n",
    "lower_bck_pk2=[-40, -30], upper_bck1_pk2=[10, 15], upper_bck2_pk2=[25, 40],\n",
    "x_range_peak=5, x_span_pk1=[-10, 8], x_span_pk2=[-10, 10],\n",
    "N_poly_pk2_baseline=2 )"
   ]
  },
  {
   "cell_type": "code",
   "execution_count": 27,
   "id": "9799d6de-f7d8-47d0-8255-760a5623336b",
   "metadata": {},
   "outputs": [
    {
     "data": {
      "text/plain": [
       "70    1118.73\n",
       "Name: Peak1_cent, dtype: float64"
      ]
     },
     "execution_count": 27,
     "metadata": {},
     "output_type": "execute_result"
    }
   ],
   "source": [
    "df_fit_params['Peak1_cent']"
   ]
  },
  {
   "cell_type": "code",
   "execution_count": 28,
   "id": "0d38d1bd-3db8-4b9e-ad61-85d375f0f22c",
   "metadata": {},
   "outputs": [
    {
     "name": "stdout",
     "output_type": "stream",
     "text": [
      "<Parameter 'p0_center', value=1118.0176203822523, bounds=[-inf:inf]>\n"
     ]
    },
    {
     "ename": "IndexError",
     "evalue": "list index out of range",
     "output_type": "error",
     "traceback": [
      "\u001b[1;31m---------------------------------------------------------------------------\u001b[0m",
      "\u001b[1;31mIndexError\u001b[0m                                Traceback (most recent call last)",
      "\u001b[1;32m~\\AppData\\Local\\Temp\\ipykernel_22952\\207567686.py\u001b[0m in \u001b[0;36m<module>\u001b[1;34m\u001b[0m\n\u001b[1;32m----> 1\u001b[1;33m df_test_params=pf.fit_Ne_lines(Ne=Ne, filename=filename,\n\u001b[0m\u001b[0;32m      2\u001b[0m \u001b[0mpath\u001b[0m\u001b[1;33m=\u001b[0m\u001b[0mspectra_path\u001b[0m\u001b[1;33m,\u001b[0m \u001b[0mprefix\u001b[0m\u001b[1;33m=\u001b[0m\u001b[1;32mFalse\u001b[0m\u001b[1;33m,\u001b[0m\u001b[1;33m\u001b[0m\u001b[1;33m\u001b[0m\u001b[0m\n\u001b[0;32m      3\u001b[0m \u001b[0mconfig\u001b[0m\u001b[1;33m=\u001b[0m\u001b[0mNe_Config_est\u001b[0m\u001b[1;33m,\u001b[0m\u001b[1;33m\u001b[0m\u001b[1;33m\u001b[0m\u001b[0m\n\u001b[0;32m      4\u001b[0m     \u001b[0mNe_center_1\u001b[0m\u001b[1;33m=\u001b[0m\u001b[0mdf_fit_params\u001b[0m\u001b[1;33m[\u001b[0m\u001b[1;34m'Peak1_cent'\u001b[0m\u001b[1;33m]\u001b[0m\u001b[1;33m.\u001b[0m\u001b[0miloc\u001b[0m\u001b[1;33m[\u001b[0m\u001b[0mi\u001b[0m\u001b[1;33m]\u001b[0m\u001b[1;33m,\u001b[0m\u001b[1;33m\u001b[0m\u001b[1;33m\u001b[0m\u001b[0m\n\u001b[0;32m      5\u001b[0m     \u001b[0mNe_center_2\u001b[0m\u001b[1;33m=\u001b[0m\u001b[0mdf_fit_params\u001b[0m\u001b[1;33m[\u001b[0m\u001b[1;34m'Peak2_cent'\u001b[0m\u001b[1;33m]\u001b[0m\u001b[1;33m.\u001b[0m\u001b[0miloc\u001b[0m\u001b[1;33m[\u001b[0m\u001b[0mi\u001b[0m\u001b[1;33m]\u001b[0m\u001b[1;33m,\u001b[0m\u001b[1;33m\u001b[0m\u001b[1;33m\u001b[0m\u001b[0m\n",
      "\u001b[1;32mg:\\my drive\\berkeley_new\\diadfit_outer\\src\\DiadFit\\ne_lines.py\u001b[0m in \u001b[0;36mfit_Ne_lines\u001b[1;34m(config, Ne_center_1, Ne_center_2, Ne_prom_1, Ne_prom_2, Ne, filename, path, prefix, plot_figure, loop, save_clipboard, close_figure, const_params)\u001b[0m\n\u001b[0;32m   1031\u001b[0m \u001b[1;33m\u001b[0m\u001b[0m\n\u001b[0;32m   1032\u001b[0m     \u001b[1;31m# Fit the 1117 peak\u001b[0m\u001b[1;33m\u001b[0m\u001b[1;33m\u001b[0m\u001b[0m\n\u001b[1;32m-> 1033\u001b[1;33m     cent_pk1, Area_pk1, sigma_pk1, gamma_pk1, Ne_pk1_reg_x_plot, Ne_pk1_reg_y_plot, Ne_pk1_reg_x, Ne_pk1_reg_y, xx_pk1, result_pk1, error_pk1, result_pk1_origx, comps, Peak1_Prop_Lor = fit_pk1(x_pk1, y_corr_pk1, x_span=x_span_pk1, Ne_center=Ne_center_1,model_name=config.model_name,  LH_offset_mini=config.LH_offset_mini, peaks_pk1=peaks_1, amplitude=Pk1_Amp, pk1_sigma=config.pk1_sigma,\n\u001b[0m\u001b[0;32m   1034\u001b[0m     const_params=const_params, spec_res=spec_res)\n\u001b[0;32m   1035\u001b[0m \u001b[1;33m\u001b[0m\u001b[0m\n",
      "\u001b[1;32mg:\\my drive\\berkeley_new\\diadfit_outer\\src\\DiadFit\\ne_lines.py\u001b[0m in \u001b[0;36mfit_pk1\u001b[1;34m(x, y_corr, x_span, Ne_center, amplitude, pk1_sigma, LH_offset_mini, peaks_pk1, model_name, block_print, const_params, spec_res)\u001b[0m\n\u001b[0;32m    608\u001b[0m         \u001b[0mfwhm_p0\u001b[0m\u001b[1;33m=\u001b[0m\u001b[0mresult0\u001b[0m\u001b[1;33m.\u001b[0m\u001b[0mparams\u001b[0m\u001b[1;33m.\u001b[0m\u001b[0mget\u001b[0m\u001b[1;33m(\u001b[0m\u001b[1;34m'p0_fwhm'\u001b[0m\u001b[1;33m)\u001b[0m\u001b[1;33m\u001b[0m\u001b[1;33m\u001b[0m\u001b[0m\n\u001b[0;32m    609\u001b[0m         \u001b[0mprint\u001b[0m\u001b[1;33m(\u001b[0m\u001b[0mCenter_p0_error\u001b[0m\u001b[1;33m)\u001b[0m\u001b[1;33m\u001b[0m\u001b[1;33m\u001b[0m\u001b[0m\n\u001b[1;32m--> 610\u001b[1;33m         \u001b[0mCenter_p0_errorval\u001b[0m\u001b[1;33m=\u001b[0m\u001b[0mfloat\u001b[0m\u001b[1;33m(\u001b[0m\u001b[0mstr\u001b[0m\u001b[1;33m(\u001b[0m\u001b[0mCenter_p0_error\u001b[0m\u001b[1;33m)\u001b[0m\u001b[1;33m.\u001b[0m\u001b[0msplit\u001b[0m\u001b[1;33m(\u001b[0m\u001b[1;33m)\u001b[0m\u001b[1;33m[\u001b[0m\u001b[1;36m4\u001b[0m\u001b[1;33m]\u001b[0m\u001b[1;33m.\u001b[0m\u001b[0mreplace\u001b[0m\u001b[1;33m(\u001b[0m\u001b[1;34m\",\"\u001b[0m\u001b[1;33m,\u001b[0m \u001b[1;34m\"\"\u001b[0m\u001b[1;33m)\u001b[0m\u001b[1;33m)\u001b[0m\u001b[1;33m\u001b[0m\u001b[1;33m\u001b[0m\u001b[0m\n\u001b[0m\u001b[0;32m    611\u001b[0m \u001b[1;33m\u001b[0m\u001b[0m\n\u001b[0;32m    612\u001b[0m         \u001b[1;31m#Ne_center=Ne_center\u001b[0m\u001b[1;33m\u001b[0m\u001b[1;33m\u001b[0m\u001b[0m\n",
      "\u001b[1;31mIndexError\u001b[0m: list index out of range"
     ]
    }
   ],
   "source": [
    "\n",
    "df_test_params=pf.fit_Ne_lines(Ne=Ne, filename=filename,\n",
    "path=spectra_path, prefix=False,\n",
    "config=Ne_Config_est,\n",
    "    Ne_center_1=df_fit_params['Peak1_cent'].iloc[i], \n",
    "    Ne_center_2=df_fit_params['Peak2_cent'].iloc[i],\n",
    "    Ne_prom_1=df_fit_params['Peak1_prom'].iloc[i],\n",
    "    Ne_prom_2=df_fit_params['Peak2_prom'].iloc[i],\n",
    "    const_params=False)                                                                 \n",
    "                                                                     \n",
    "display(df_test_params)"
   ]
  },
  {
   "cell_type": "code",
   "execution_count": null,
   "id": "818e868d-20c5-4478-b6da-89af7c736a03",
   "metadata": {},
   "outputs": [],
   "source": [
    "<Parameter 'p0_center', value=1117.8155063010217 +/- 0.0605, bounds=[-inf:inf]>"
   ]
  },
  {
   "cell_type": "code",
   "execution_count": null,
   "id": "afcd1582-6301-4a3b-8e79-d8765e4b8ba4",
   "metadata": {},
   "outputs": [],
   "source": [
    "<Parameter 'p0_center', value=1118.0176203822523, bounds=[-inf:inf]>"
   ]
  },
  {
   "cell_type": "code",
   "execution_count": 24,
   "id": "83864432-c84e-4e0d-b664-54104d835f16",
   "metadata": {},
   "outputs": [],
   "source": [
    "## Update sigma based on this one fit\n",
    "Ne_Config_tweak=Ne_Config_est\n",
    "Ne_Config_tweak.pk1_sigma=df_test_params['pk1_sigma'].iloc[0]\n",
    "Ne_Config_tweak.pk2_sigma=df_test_params['pk2_sigma'].iloc[0]"
   ]
  },
  {
   "cell_type": "markdown",
   "id": "6986df1b-cf64-43eb-a824-3fdfaf708bac",
   "metadata": {},
   "source": [
    "## Now fit all Ne files here using these parameters. \n",
    "- If you select plot_figure=False, the loop will be quick. \n",
    "- But if its True, you can to inspect the figures."
   ]
  },
  {
   "cell_type": "code",
   "execution_count": 25,
   "id": "cd7102a3-8ce4-4976-b68d-6b2c531665e1",
   "metadata": {},
   "outputs": [
    {
     "data": {
      "application/vnd.jupyter.widget-view+json": {
       "model_id": "186b37862bcb4d3c8a72f639cf0e8c5f",
       "version_major": 2,
       "version_minor": 0
      },
      "text/plain": [
       "  0%|          | 0/24 [00:00<?, ?it/s]"
      ]
     },
     "metadata": {},
     "output_type": "display_data"
    },
    {
     "ename": "IndexError",
     "evalue": "list index out of range",
     "output_type": "error",
     "traceback": [
      "\u001b[1;31m---------------------------------------------------------------------------\u001b[0m",
      "\u001b[1;31mIndexError\u001b[0m                                Traceback (most recent call last)",
      "\u001b[1;32m~\\AppData\\Local\\Temp\\ipykernel_18008\\1306154402.py\u001b[0m in \u001b[0;36m<module>\u001b[1;34m\u001b[0m\n\u001b[1;32m----> 1\u001b[1;33m df2=pf.loop_Ne_lines(files=Ne_files, spectra_path=spectra_path, \n\u001b[0m\u001b[0;32m      2\u001b[0m \u001b[0mfiletype\u001b[0m\u001b[1;33m=\u001b[0m\u001b[0mfiletype\u001b[0m\u001b[1;33m,\u001b[0m \u001b[0mconfig_ID_peaks\u001b[0m\u001b[1;33m=\u001b[0m\u001b[0mNeon_id_config\u001b[0m\u001b[1;33m,\u001b[0m \u001b[0mconfig\u001b[0m\u001b[1;33m=\u001b[0m\u001b[0mNe_Config_tweak\u001b[0m\u001b[1;33m,\u001b[0m\u001b[1;33m\u001b[0m\u001b[1;33m\u001b[0m\u001b[0m\n\u001b[0;32m      3\u001b[0m \u001b[0mdf_fit_params\u001b[0m\u001b[1;33m=\u001b[0m\u001b[0mdf_fit_params\u001b[0m\u001b[1;33m,\u001b[0m\u001b[1;33m\u001b[0m\u001b[1;33m\u001b[0m\u001b[0m\n\u001b[0;32m      4\u001b[0m plot_figure=False)\n",
      "\u001b[1;32m~\\anaconda3\\lib\\site-packages\\DiadFit\\ne_lines.py\u001b[0m in \u001b[0;36mloop_Ne_lines\u001b[1;34m(files, spectra_path, filetype, config, config_ID_peaks, df_fit_params, prefix, print_df, plot_figure, single_acq)\u001b[0m\n\u001b[0;32m   1326\u001b[0m             config=config_ID_peaks, print_df=False, plot_figure=False)\n\u001b[0;32m   1327\u001b[0m \u001b[1;33m\u001b[0m\u001b[0m\n\u001b[1;32m-> 1328\u001b[1;33m             data=fit_Ne_lines(Ne=Ne, filename=filename,\n\u001b[0m\u001b[0;32m   1329\u001b[0m             \u001b[0mpath\u001b[0m\u001b[1;33m=\u001b[0m\u001b[0mspectra_path\u001b[0m\u001b[1;33m,\u001b[0m \u001b[0mprefix\u001b[0m\u001b[1;33m=\u001b[0m\u001b[0mprefix\u001b[0m\u001b[1;33m,\u001b[0m\u001b[1;33m\u001b[0m\u001b[1;33m\u001b[0m\u001b[0m\n\u001b[0;32m   1330\u001b[0m             \u001b[0mconfig\u001b[0m\u001b[1;33m=\u001b[0m\u001b[0mconfig\u001b[0m\u001b[1;33m,\u001b[0m\u001b[1;33m\u001b[0m\u001b[1;33m\u001b[0m\u001b[0m\n",
      "\u001b[1;32m~\\anaconda3\\lib\\site-packages\\DiadFit\\ne_lines.py\u001b[0m in \u001b[0;36mfit_Ne_lines\u001b[1;34m(config, Ne_center_1, Ne_center_2, Ne_prom_1, Ne_prom_2, Ne, filename, path, prefix, plot_figure, loop, save_clipboard, close_figure, const_params)\u001b[0m\n\u001b[0;32m   1030\u001b[0m \u001b[1;33m\u001b[0m\u001b[0m\n\u001b[0;32m   1031\u001b[0m     \u001b[1;31m# Fit the 1117 peak\u001b[0m\u001b[1;33m\u001b[0m\u001b[1;33m\u001b[0m\u001b[0m\n\u001b[1;32m-> 1032\u001b[1;33m     cent_pk1, Area_pk1, sigma_pk1, gamma_pk1, Ne_pk1_reg_x_plot, Ne_pk1_reg_y_plot, Ne_pk1_reg_x, Ne_pk1_reg_y, xx_pk1, result_pk1, error_pk1, result_pk1_origx, comps, Peak1_Prop_Lor = fit_pk1(x_pk1, y_corr_pk1, x_span=x_span_pk1, Ne_center=Ne_center_1,model_name=config.model_name,  LH_offset_mini=config.LH_offset_mini, peaks_pk1=peaks_1, amplitude=Pk1_Amp, pk1_sigma=config.pk1_sigma,\n\u001b[0m\u001b[0;32m   1033\u001b[0m     const_params=const_params, spec_res=spec_res)\n\u001b[0;32m   1034\u001b[0m \u001b[1;33m\u001b[0m\u001b[0m\n",
      "\u001b[1;32m~\\anaconda3\\lib\\site-packages\\DiadFit\\ne_lines.py\u001b[0m in \u001b[0;36mfit_pk1\u001b[1;34m(x, y_corr, x_span, Ne_center, amplitude, pk1_sigma, LH_offset_mini, peaks_pk1, model_name, block_print, const_params, spec_res)\u001b[0m\n\u001b[0;32m    607\u001b[0m             \u001b[0mprint\u001b[0m\u001b[1;33m(\u001b[0m\u001b[1;34m'first iteration, peak Amplitude='\u001b[0m\u001b[1;33m+\u001b[0m\u001b[0mstr\u001b[0m\u001b[1;33m(\u001b[0m\u001b[0mnp\u001b[0m\u001b[1;33m.\u001b[0m\u001b[0mround\u001b[0m\u001b[1;33m(\u001b[0m\u001b[0mAmp_p0\u001b[0m\u001b[1;33m,\u001b[0m \u001b[1;36m4\u001b[0m\u001b[1;33m)\u001b[0m\u001b[1;33m)\u001b[0m\u001b[1;33m)\u001b[0m\u001b[1;33m\u001b[0m\u001b[1;33m\u001b[0m\u001b[0m\n\u001b[0;32m    608\u001b[0m         \u001b[0mfwhm_p0\u001b[0m\u001b[1;33m=\u001b[0m\u001b[0mresult0\u001b[0m\u001b[1;33m.\u001b[0m\u001b[0mparams\u001b[0m\u001b[1;33m.\u001b[0m\u001b[0mget\u001b[0m\u001b[1;33m(\u001b[0m\u001b[1;34m'p0_fwhm'\u001b[0m\u001b[1;33m)\u001b[0m\u001b[1;33m\u001b[0m\u001b[1;33m\u001b[0m\u001b[0m\n\u001b[1;32m--> 609\u001b[1;33m         \u001b[0mCenter_p0_errorval\u001b[0m\u001b[1;33m=\u001b[0m\u001b[0mfloat\u001b[0m\u001b[1;33m(\u001b[0m\u001b[0mstr\u001b[0m\u001b[1;33m(\u001b[0m\u001b[0mCenter_p0_error\u001b[0m\u001b[1;33m)\u001b[0m\u001b[1;33m.\u001b[0m\u001b[0msplit\u001b[0m\u001b[1;33m(\u001b[0m\u001b[1;33m)\u001b[0m\u001b[1;33m[\u001b[0m\u001b[1;36m4\u001b[0m\u001b[1;33m]\u001b[0m\u001b[1;33m.\u001b[0m\u001b[0mreplace\u001b[0m\u001b[1;33m(\u001b[0m\u001b[1;34m\",\"\u001b[0m\u001b[1;33m,\u001b[0m \u001b[1;34m\"\"\u001b[0m\u001b[1;33m)\u001b[0m\u001b[1;33m)\u001b[0m\u001b[1;33m\u001b[0m\u001b[1;33m\u001b[0m\u001b[0m\n\u001b[0m\u001b[0;32m    610\u001b[0m \u001b[1;33m\u001b[0m\u001b[0m\n\u001b[0;32m    611\u001b[0m         \u001b[1;31m#Ne_center=Ne_center\u001b[0m\u001b[1;33m\u001b[0m\u001b[1;33m\u001b[0m\u001b[0m\n",
      "\u001b[1;31mIndexError\u001b[0m: list index out of range"
     ]
    }
   ],
   "source": [
    "df2=pf.loop_Ne_lines(files=Ne_files, spectra_path=spectra_path, \n",
    "filetype=filetype, config_ID_peaks=Neon_id_config, config=Ne_Config_tweak,\n",
    "df_fit_params=df_fit_params,                    \n",
    "plot_figure=False)"
   ]
  },
  {
   "cell_type": "code",
   "execution_count": 14,
   "id": "5aa70503-1783-4ad5-98e8-271232fbe49d",
   "metadata": {},
   "outputs": [
    {
     "data": {
      "text/html": [
       "<div>\n",
       "<style scoped>\n",
       "    .dataframe tbody tr th:only-of-type {\n",
       "        vertical-align: middle;\n",
       "    }\n",
       "\n",
       "    .dataframe tbody tr th {\n",
       "        vertical-align: top;\n",
       "    }\n",
       "\n",
       "    .dataframe thead th {\n",
       "        text-align: right;\n",
       "    }\n",
       "</style>\n",
       "<table border=\"1\" class=\"dataframe\">\n",
       "  <thead>\n",
       "    <tr style=\"text-align: right;\">\n",
       "      <th></th>\n",
       "      <th>filename</th>\n",
       "      <th>Ne_Corr</th>\n",
       "      <th>deltaNe</th>\n",
       "      <th>pk2_peak_cent</th>\n",
       "      <th>pk1_peak_cent</th>\n",
       "      <th>pk2_amplitude</th>\n",
       "      <th>pk1_amplitude</th>\n",
       "      <th>residual_pk2</th>\n",
       "      <th>residual_pk1</th>\n",
       "      <th>pk2_sigma</th>\n",
       "      <th>pk2_gamma</th>\n",
       "      <th>error_pk2</th>\n",
       "      <th>Peak2_Prop_Lor</th>\n",
       "      <th>pk1_sigma</th>\n",
       "      <th>pk1_gamma</th>\n",
       "      <th>error_pk1</th>\n",
       "      <th>Peak1_Prop_Lor</th>\n",
       "      <th>Ne_Corr_min</th>\n",
       "      <th>Ne_Corr_max</th>\n",
       "      <th>residual_pk1+pk2</th>\n",
       "    </tr>\n",
       "  </thead>\n",
       "  <tbody>\n",
       "    <tr>\n",
       "      <th>0</th>\n",
       "      <td>Ne1.txt</td>\n",
       "      <td>0.997860</td>\n",
       "      <td>331.186408</td>\n",
       "      <td>1447.507793</td>\n",
       "      <td>1116.321385</td>\n",
       "      <td>49149.951919</td>\n",
       "      <td>4064.596307</td>\n",
       "      <td>122.790683</td>\n",
       "      <td>11.056730</td>\n",
       "      <td>0.383106</td>\n",
       "      <td>None</td>\n",
       "      <td>1</td>\n",
       "      <td>0.405278</td>\n",
       "      <td>0.405183</td>\n",
       "      <td>None</td>\n",
       "      <td>NaN</td>\n",
       "      <td>0.277844</td>\n",
       "      <td>NaN</td>\n",
       "      <td>NaN</td>\n",
       "      <td>133.847413</td>\n",
       "    </tr>\n",
       "    <tr>\n",
       "      <th>1</th>\n",
       "      <td>Ne2.txt</td>\n",
       "      <td>0.997826</td>\n",
       "      <td>331.197497</td>\n",
       "      <td>1447.503005</td>\n",
       "      <td>1116.305508</td>\n",
       "      <td>48194.633173</td>\n",
       "      <td>4249.843215</td>\n",
       "      <td>113.078673</td>\n",
       "      <td>9.905387</td>\n",
       "      <td>0.385742</td>\n",
       "      <td>None</td>\n",
       "      <td>1</td>\n",
       "      <td>0.399792</td>\n",
       "      <td>0.409202</td>\n",
       "      <td>None</td>\n",
       "      <td>NaN</td>\n",
       "      <td>0.289328</td>\n",
       "      <td>NaN</td>\n",
       "      <td>NaN</td>\n",
       "      <td>122.984060</td>\n",
       "    </tr>\n",
       "    <tr>\n",
       "      <th>2</th>\n",
       "      <td>Ne3.txt</td>\n",
       "      <td>0.997810</td>\n",
       "      <td>331.202952</td>\n",
       "      <td>1447.521962</td>\n",
       "      <td>1116.319010</td>\n",
       "      <td>46080.582039</td>\n",
       "      <td>3842.899729</td>\n",
       "      <td>109.332691</td>\n",
       "      <td>10.204250</td>\n",
       "      <td>0.389635</td>\n",
       "      <td>None</td>\n",
       "      <td>1</td>\n",
       "      <td>0.403728</td>\n",
       "      <td>0.406028</td>\n",
       "      <td>None</td>\n",
       "      <td>NaN</td>\n",
       "      <td>0.281860</td>\n",
       "      <td>NaN</td>\n",
       "      <td>NaN</td>\n",
       "      <td>119.536941</td>\n",
       "    </tr>\n",
       "    <tr>\n",
       "      <th>3</th>\n",
       "      <td>Ne4.txt</td>\n",
       "      <td>0.997783</td>\n",
       "      <td>331.212057</td>\n",
       "      <td>1447.539257</td>\n",
       "      <td>1116.327199</td>\n",
       "      <td>44440.942081</td>\n",
       "      <td>3811.741753</td>\n",
       "      <td>106.963784</td>\n",
       "      <td>10.364034</td>\n",
       "      <td>0.391412</td>\n",
       "      <td>None</td>\n",
       "      <td>1</td>\n",
       "      <td>0.409235</td>\n",
       "      <td>0.408269</td>\n",
       "      <td>None</td>\n",
       "      <td>NaN</td>\n",
       "      <td>0.285956</td>\n",
       "      <td>NaN</td>\n",
       "      <td>NaN</td>\n",
       "      <td>117.327819</td>\n",
       "    </tr>\n",
       "    <tr>\n",
       "      <th>4</th>\n",
       "      <td>Ne5.txt</td>\n",
       "      <td>0.997778</td>\n",
       "      <td>331.213526</td>\n",
       "      <td>1447.541012</td>\n",
       "      <td>1116.327486</td>\n",
       "      <td>45288.668505</td>\n",
       "      <td>3947.474073</td>\n",
       "      <td>110.897529</td>\n",
       "      <td>10.918444</td>\n",
       "      <td>0.393316</td>\n",
       "      <td>None</td>\n",
       "      <td>1</td>\n",
       "      <td>0.416376</td>\n",
       "      <td>0.409836</td>\n",
       "      <td>None</td>\n",
       "      <td>NaN</td>\n",
       "      <td>0.292668</td>\n",
       "      <td>NaN</td>\n",
       "      <td>NaN</td>\n",
       "      <td>121.815973</td>\n",
       "    </tr>\n",
       "    <tr>\n",
       "      <th>5</th>\n",
       "      <td>Ne6 (1).txt</td>\n",
       "      <td>0.997760</td>\n",
       "      <td>331.219549</td>\n",
       "      <td>1447.534558</td>\n",
       "      <td>1116.315009</td>\n",
       "      <td>44105.495012</td>\n",
       "      <td>3915.578861</td>\n",
       "      <td>102.632945</td>\n",
       "      <td>11.223934</td>\n",
       "      <td>0.394988</td>\n",
       "      <td>None</td>\n",
       "      <td>1</td>\n",
       "      <td>0.405804</td>\n",
       "      <td>0.407016</td>\n",
       "      <td>None</td>\n",
       "      <td>NaN</td>\n",
       "      <td>0.302248</td>\n",
       "      <td>NaN</td>\n",
       "      <td>NaN</td>\n",
       "      <td>113.856879</td>\n",
       "    </tr>\n",
       "    <tr>\n",
       "      <th>6</th>\n",
       "      <td>Ne6.txt</td>\n",
       "      <td>0.997776</td>\n",
       "      <td>331.214342</td>\n",
       "      <td>1447.539633</td>\n",
       "      <td>1116.325291</td>\n",
       "      <td>46370.341525</td>\n",
       "      <td>4254.114626</td>\n",
       "      <td>116.139213</td>\n",
       "      <td>11.144664</td>\n",
       "      <td>0.392591</td>\n",
       "      <td>None</td>\n",
       "      <td>1</td>\n",
       "      <td>0.417004</td>\n",
       "      <td>0.404680</td>\n",
       "      <td>None</td>\n",
       "      <td>NaN</td>\n",
       "      <td>0.312668</td>\n",
       "      <td>NaN</td>\n",
       "      <td>NaN</td>\n",
       "      <td>127.283877</td>\n",
       "    </tr>\n",
       "    <tr>\n",
       "      <th>7</th>\n",
       "      <td>Ne7.txt</td>\n",
       "      <td>0.997756</td>\n",
       "      <td>331.220989</td>\n",
       "      <td>1447.516894</td>\n",
       "      <td>1116.295905</td>\n",
       "      <td>43261.396205</td>\n",
       "      <td>3835.073085</td>\n",
       "      <td>108.092773</td>\n",
       "      <td>11.095139</td>\n",
       "      <td>0.392970</td>\n",
       "      <td>None</td>\n",
       "      <td>1</td>\n",
       "      <td>0.414040</td>\n",
       "      <td>0.407303</td>\n",
       "      <td>None</td>\n",
       "      <td>NaN</td>\n",
       "      <td>0.314206</td>\n",
       "      <td>NaN</td>\n",
       "      <td>NaN</td>\n",
       "      <td>119.187913</td>\n",
       "    </tr>\n",
       "    <tr>\n",
       "      <th>8</th>\n",
       "      <td>Ne8.txt</td>\n",
       "      <td>0.997757</td>\n",
       "      <td>331.220600</td>\n",
       "      <td>1447.524737</td>\n",
       "      <td>1116.304136</td>\n",
       "      <td>43156.992925</td>\n",
       "      <td>3790.648632</td>\n",
       "      <td>103.794040</td>\n",
       "      <td>11.529209</td>\n",
       "      <td>0.392562</td>\n",
       "      <td>None</td>\n",
       "      <td>1</td>\n",
       "      <td>0.416886</td>\n",
       "      <td>0.408458</td>\n",
       "      <td>None</td>\n",
       "      <td>NaN</td>\n",
       "      <td>0.308445</td>\n",
       "      <td>NaN</td>\n",
       "      <td>NaN</td>\n",
       "      <td>115.323249</td>\n",
       "    </tr>\n",
       "  </tbody>\n",
       "</table>\n",
       "</div>"
      ],
      "text/plain": [
       "      filename   Ne_Corr     deltaNe  pk2_peak_cent  pk1_peak_cent  \\\n",
       "0      Ne1.txt  0.997860  331.186408    1447.507793    1116.321385   \n",
       "1      Ne2.txt  0.997826  331.197497    1447.503005    1116.305508   \n",
       "2      Ne3.txt  0.997810  331.202952    1447.521962    1116.319010   \n",
       "3      Ne4.txt  0.997783  331.212057    1447.539257    1116.327199   \n",
       "4      Ne5.txt  0.997778  331.213526    1447.541012    1116.327486   \n",
       "5  Ne6 (1).txt  0.997760  331.219549    1447.534558    1116.315009   \n",
       "6      Ne6.txt  0.997776  331.214342    1447.539633    1116.325291   \n",
       "7      Ne7.txt  0.997756  331.220989    1447.516894    1116.295905   \n",
       "8      Ne8.txt  0.997757  331.220600    1447.524737    1116.304136   \n",
       "\n",
       "   pk2_amplitude  pk1_amplitude  residual_pk2  residual_pk1  pk2_sigma  \\\n",
       "0   49149.951919    4064.596307    122.790683     11.056730   0.383106   \n",
       "1   48194.633173    4249.843215    113.078673      9.905387   0.385742   \n",
       "2   46080.582039    3842.899729    109.332691     10.204250   0.389635   \n",
       "3   44440.942081    3811.741753    106.963784     10.364034   0.391412   \n",
       "4   45288.668505    3947.474073    110.897529     10.918444   0.393316   \n",
       "5   44105.495012    3915.578861    102.632945     11.223934   0.394988   \n",
       "6   46370.341525    4254.114626    116.139213     11.144664   0.392591   \n",
       "7   43261.396205    3835.073085    108.092773     11.095139   0.392970   \n",
       "8   43156.992925    3790.648632    103.794040     11.529209   0.392562   \n",
       "\n",
       "  pk2_gamma  error_pk2  Peak2_Prop_Lor  pk1_sigma pk1_gamma  error_pk1  \\\n",
       "0      None          1        0.405278   0.405183      None        NaN   \n",
       "1      None          1        0.399792   0.409202      None        NaN   \n",
       "2      None          1        0.403728   0.406028      None        NaN   \n",
       "3      None          1        0.409235   0.408269      None        NaN   \n",
       "4      None          1        0.416376   0.409836      None        NaN   \n",
       "5      None          1        0.405804   0.407016      None        NaN   \n",
       "6      None          1        0.417004   0.404680      None        NaN   \n",
       "7      None          1        0.414040   0.407303      None        NaN   \n",
       "8      None          1        0.416886   0.408458      None        NaN   \n",
       "\n",
       "   Peak1_Prop_Lor  Ne_Corr_min  Ne_Corr_max  residual_pk1+pk2  \n",
       "0        0.277844          NaN          NaN        133.847413  \n",
       "1        0.289328          NaN          NaN        122.984060  \n",
       "2        0.281860          NaN          NaN        119.536941  \n",
       "3        0.285956          NaN          NaN        117.327819  \n",
       "4        0.292668          NaN          NaN        121.815973  \n",
       "5        0.302248          NaN          NaN        113.856879  \n",
       "6        0.312668          NaN          NaN        127.283877  \n",
       "7        0.314206          NaN          NaN        119.187913  \n",
       "8        0.308445          NaN          NaN        115.323249  "
      ]
     },
     "execution_count": 14,
     "metadata": {},
     "output_type": "execute_result"
    }
   ],
   "source": [
    "df2"
   ]
  },
  {
   "cell_type": "markdown",
   "id": "112ee80a-b7ea-4572-914c-254b7bc0fb4f",
   "metadata": {},
   "source": [
    "## Now extract metadata to get a timestamp for each file"
   ]
  },
  {
   "cell_type": "code",
   "execution_count": 15,
   "id": "d56abd1f-ae27-4650-8416-cc1d30c1c8b5",
   "metadata": {},
   "outputs": [
    {
     "data": {
      "text/plain": [
       "['Ne1.txt', 'Ne2.txt', 'Ne3.txt', 'Ne4.txt', 'Ne5.txt']"
      ]
     },
     "execution_count": 15,
     "metadata": {},
     "output_type": "execute_result"
    }
   ],
   "source": [
    "## Get meta files\n",
    "Ne_files_meta=pf.get_files(path=meta_path,\n",
    "file_ext='txt', ID_str='N', \n",
    "exclude_str=['diad'], sort=False)\n",
    "\n",
    "Ne_files_meta[0:5]"
   ]
  },
  {
   "cell_type": "code",
   "execution_count": 16,
   "id": "90a2ed08-118b-4871-a981-54ef178f6fd4",
   "metadata": {},
   "outputs": [
    {
     "name": "stderr",
     "output_type": "stream",
     "text": [
      "100%|████████████████████████████████████████████████████████████████████████████████████| 9/9 [00:00<00:00, 27.47it/s]"
     ]
    },
    {
     "name": "stdout",
     "output_type": "stream",
     "text": [
      "Done\n"
     ]
    },
    {
     "name": "stderr",
     "output_type": "stream",
     "text": [
      "\n"
     ]
    },
    {
     "data": {
      "text/html": [
       "<div>\n",
       "<style scoped>\n",
       "    .dataframe tbody tr th:only-of-type {\n",
       "        vertical-align: middle;\n",
       "    }\n",
       "\n",
       "    .dataframe tbody tr th {\n",
       "        vertical-align: top;\n",
       "    }\n",
       "\n",
       "    .dataframe thead th {\n",
       "        text-align: right;\n",
       "    }\n",
       "</style>\n",
       "<table border=\"1\" class=\"dataframe\">\n",
       "  <thead>\n",
       "    <tr style=\"text-align: right;\">\n",
       "      <th></th>\n",
       "      <th>filename</th>\n",
       "      <th>date</th>\n",
       "      <th>Month</th>\n",
       "      <th>Day</th>\n",
       "      <th>power (mW)</th>\n",
       "      <th>Int_time (s)</th>\n",
       "      <th>accumulations</th>\n",
       "      <th>Mag (X)</th>\n",
       "      <th>duration</th>\n",
       "      <th>24hr_time</th>\n",
       "      <th>sec since midnight</th>\n",
       "      <th>Spectral Center</th>\n",
       "    </tr>\n",
       "  </thead>\n",
       "  <tbody>\n",
       "    <tr>\n",
       "      <th>0</th>\n",
       "      <td>Ne1.txt</td>\n",
       "      <td>October 28, 2022\\n</td>\n",
       "      <td>October</td>\n",
       "      <td>28.0</td>\n",
       "      <td>NaN</td>\n",
       "      <td>45.0</td>\n",
       "      <td>3.0</td>\n",
       "      <td>50.0</td>\n",
       "      <td>['0h', '2m', '16s']</td>\n",
       "      <td>11:58:18 AM\\n</td>\n",
       "      <td>43098.0</td>\n",
       "      <td>1325.004</td>\n",
       "    </tr>\n",
       "    <tr>\n",
       "      <th>1</th>\n",
       "      <td>Ne2.txt</td>\n",
       "      <td>October 28, 2022\\n</td>\n",
       "      <td>October</td>\n",
       "      <td>28.0</td>\n",
       "      <td>NaN</td>\n",
       "      <td>45.0</td>\n",
       "      <td>3.0</td>\n",
       "      <td>50.0</td>\n",
       "      <td>['0h', '2m', '16s']</td>\n",
       "      <td>12:25:51 PM\\n</td>\n",
       "      <td>44751.0</td>\n",
       "      <td>1325.004</td>\n",
       "    </tr>\n",
       "    <tr>\n",
       "      <th>2</th>\n",
       "      <td>Ne3.txt</td>\n",
       "      <td>October 28, 2022\\n</td>\n",
       "      <td>October</td>\n",
       "      <td>28.0</td>\n",
       "      <td>NaN</td>\n",
       "      <td>45.0</td>\n",
       "      <td>3.0</td>\n",
       "      <td>50.0</td>\n",
       "      <td>['0h', '2m', '17s']</td>\n",
       "      <td>1:02:56 PM\\n</td>\n",
       "      <td>46976.0</td>\n",
       "      <td>1325.004</td>\n",
       "    </tr>\n",
       "    <tr>\n",
       "      <th>3</th>\n",
       "      <td>Ne4.txt</td>\n",
       "      <td>October 28, 2022\\n</td>\n",
       "      <td>October</td>\n",
       "      <td>28.0</td>\n",
       "      <td>NaN</td>\n",
       "      <td>45.0</td>\n",
       "      <td>3.0</td>\n",
       "      <td>50.0</td>\n",
       "      <td>['0h', '2m', '16s']</td>\n",
       "      <td>1:34:44 PM\\n</td>\n",
       "      <td>48884.0</td>\n",
       "      <td>1325.004</td>\n",
       "    </tr>\n",
       "    <tr>\n",
       "      <th>4</th>\n",
       "      <td>Ne5.txt</td>\n",
       "      <td>October 28, 2022\\n</td>\n",
       "      <td>October</td>\n",
       "      <td>28.0</td>\n",
       "      <td>NaN</td>\n",
       "      <td>45.0</td>\n",
       "      <td>3.0</td>\n",
       "      <td>50.0</td>\n",
       "      <td>['0h', '2m', '17s']</td>\n",
       "      <td>2:06:40 PM\\n</td>\n",
       "      <td>50800.0</td>\n",
       "      <td>1325.004</td>\n",
       "    </tr>\n",
       "  </tbody>\n",
       "</table>\n",
       "</div>"
      ],
      "text/plain": [
       "  filename                date    Month   Day  power (mW)  Int_time (s)  \\\n",
       "0  Ne1.txt  October 28, 2022\\n  October  28.0         NaN          45.0   \n",
       "1  Ne2.txt  October 28, 2022\\n  October  28.0         NaN          45.0   \n",
       "2  Ne3.txt  October 28, 2022\\n  October  28.0         NaN          45.0   \n",
       "3  Ne4.txt  October 28, 2022\\n  October  28.0         NaN          45.0   \n",
       "4  Ne5.txt  October 28, 2022\\n  October  28.0         NaN          45.0   \n",
       "\n",
       "   accumulations  Mag (X)             duration      24hr_time  \\\n",
       "0            3.0     50.0  ['0h', '2m', '16s']  11:58:18 AM\\n   \n",
       "1            3.0     50.0  ['0h', '2m', '16s']  12:25:51 PM\\n   \n",
       "2            3.0     50.0  ['0h', '2m', '17s']   1:02:56 PM\\n   \n",
       "3            3.0     50.0  ['0h', '2m', '16s']   1:34:44 PM\\n   \n",
       "4            3.0     50.0  ['0h', '2m', '17s']   2:06:40 PM\\n   \n",
       "\n",
       "   sec since midnight  Spectral Center  \n",
       "0             43098.0         1325.004  \n",
       "1             44751.0         1325.004  \n",
       "2             46976.0         1325.004  \n",
       "3             48884.0         1325.004  \n",
       "4             50800.0         1325.004  "
      ]
     },
     "execution_count": 16,
     "metadata": {},
     "output_type": "execute_result"
    }
   ],
   "source": [
    "meta=pf.stitch_metadata_in_loop_witec(path=meta_path, \n",
    "Allfiles=Ne_files_meta, prefix=False)\n",
    "meta.head()"
   ]
  },
  {
   "cell_type": "code",
   "execution_count": 17,
   "id": "8adf1a94-717a-403c-9a80-d74f51d021e2",
   "metadata": {},
   "outputs": [
    {
     "name": "stdout",
     "output_type": "stream",
     "text": [
      "Ne1.txt\n"
     ]
    }
   ],
   "source": [
    "# Strip away suffix and prefix if needed\n",
    "print(meta['filename'][0])"
   ]
  },
  {
   "cell_type": "code",
   "execution_count": 18,
   "id": "0b3097a7-898e-4412-8f50-5cc9f9654553",
   "metadata": {},
   "outputs": [
    {
     "data": {
      "text/plain": [
       "array(['Ne1', 'Ne2', 'Ne3', 'Ne4', 'Ne5', 'Ne6', 'Ne6 (1)', 'Ne7', 'Ne8'],\n",
       "      dtype=object)"
      ]
     },
     "execution_count": 18,
     "metadata": {},
     "output_type": "execute_result"
    }
   ],
   "source": [
    "# remove these to get the pure file name you can compare \n",
    "file_m=pf.extracting_filenames_generic(names=meta['filename'],\n",
    "    prefix=False, str_prefix=None,\n",
    "   file_type='.txt')\n",
    "file_m"
   ]
  },
  {
   "cell_type": "code",
   "execution_count": 19,
   "id": "91c3a2dd-1bbd-4001-a7b3-519590723c42",
   "metadata": {},
   "outputs": [
    {
     "name": "stdout",
     "output_type": "stream",
     "text": [
      "Ne1.txt\n"
     ]
    }
   ],
   "source": [
    "# Do the same for spectra, e.g., work out what you need to strip off\n",
    "print(df2['filename'][0])"
   ]
  },
  {
   "cell_type": "code",
   "execution_count": 20,
   "id": "a017cc62-6bf2-4fe4-88c1-689520a7a904",
   "metadata": {},
   "outputs": [
    {
     "data": {
      "text/plain": [
       "array(['Ne1', 'Ne2', 'Ne3', 'Ne4', 'Ne5', 'Ne6 (1)', 'Ne6', 'Ne7', 'Ne8'],\n",
       "      dtype=object)"
      ]
     },
     "execution_count": 20,
     "metadata": {},
     "output_type": "execute_result"
    }
   ],
   "source": [
    "file_s=pf.extracting_filenames_generic(names=df2['filename'],\n",
    "    prefix=False, str_prefix=' ',\n",
    "   file_type='.txt')\n",
    "file_s"
   ]
  },
  {
   "cell_type": "markdown",
   "id": "74dd78b2-57fd-4a73-8776-878466703ae3",
   "metadata": {},
   "source": [
    "## Combine 2 dataframes\n",
    "- Here we add a new column to each dataframe with these stripped back names, and then merge the 2 dataframes"
   ]
  },
  {
   "cell_type": "code",
   "execution_count": 21,
   "id": "a62b4346-725e-4a93-9520-bbd8a3a82cbd",
   "metadata": {},
   "outputs": [],
   "source": [
    "meta['name_for_matching']=file_m\n",
    "df2['name_for_matching']=file_s\n",
    "df_combo=df2.merge(meta, on='name_for_matching')"
   ]
  },
  {
   "cell_type": "markdown",
   "id": "18c50b92-c311-4314-8f40-ecd63ea75f94",
   "metadata": {},
   "source": [
    "## Now lets inspect changes in Ne correction factor with time\n",
    "- Normally, you can spot outliers this way"
   ]
  },
  {
   "cell_type": "code",
   "execution_count": 22,
   "id": "3d70021e-fd18-461a-8aa0-2295a2235147",
   "metadata": {},
   "outputs": [],
   "source": [
    "df_combo_sort=df_combo.sort_values(by='sec since midnight')\n",
    "df_combo_sort.to_excel('PseudoVoigt.xlsx')"
   ]
  },
  {
   "cell_type": "code",
   "execution_count": 23,
   "id": "921ecd9e-2488-4673-9f98-9f4c018619b3",
   "metadata": {},
   "outputs": [
    {
     "data": {
      "image/png": "[encoded data removed]",
      "text/plain": [
       "<Figure size 1000x1200 with 6 Axes>"
      ]
     },
     "metadata": {},
     "output_type": "display_data"
    }
   ],
   "source": [
    "fig=pf.plot_Ne_corrections(df=df_combo, x_axis=df_combo['sec since midnight'],\n",
    "                      x_label='secs since midnight')\n"
   ]
  },
  {
   "cell_type": "code",
   "execution_count": 24,
   "id": "699ccadd-13a7-4a99-bbd1-0188fdd8eed1",
   "metadata": {},
   "outputs": [
    {
     "data": {
      "text/html": [
       "<div>\n",
       "<style scoped>\n",
       "    .dataframe tbody tr th:only-of-type {\n",
       "        vertical-align: middle;\n",
       "    }\n",
       "\n",
       "    .dataframe tbody tr th {\n",
       "        vertical-align: top;\n",
       "    }\n",
       "\n",
       "    .dataframe thead th {\n",
       "        text-align: right;\n",
       "    }\n",
       "</style>\n",
       "<table border=\"1\" class=\"dataframe\">\n",
       "  <thead>\n",
       "    <tr style=\"text-align: right;\">\n",
       "      <th></th>\n",
       "      <th>filename_x</th>\n",
       "      <th>Ne_Corr</th>\n",
       "      <th>deltaNe</th>\n",
       "      <th>pk2_peak_cent</th>\n",
       "      <th>pk1_peak_cent</th>\n",
       "      <th>pk2_amplitude</th>\n",
       "      <th>pk1_amplitude</th>\n",
       "      <th>residual_pk2</th>\n",
       "      <th>residual_pk1</th>\n",
       "      <th>pk2_sigma</th>\n",
       "      <th>...</th>\n",
       "      <th>Month</th>\n",
       "      <th>Day</th>\n",
       "      <th>power (mW)</th>\n",
       "      <th>Int_time (s)</th>\n",
       "      <th>accumulations</th>\n",
       "      <th>Mag (X)</th>\n",
       "      <th>duration</th>\n",
       "      <th>24hr_time</th>\n",
       "      <th>sec since midnight</th>\n",
       "      <th>Spectral Center</th>\n",
       "    </tr>\n",
       "  </thead>\n",
       "  <tbody>\n",
       "    <tr>\n",
       "      <th>0</th>\n",
       "      <td>Ne1.txt</td>\n",
       "      <td>0.997860</td>\n",
       "      <td>331.186408</td>\n",
       "      <td>1447.507793</td>\n",
       "      <td>1116.321385</td>\n",
       "      <td>49149.951919</td>\n",
       "      <td>4064.596307</td>\n",
       "      <td>122.790683</td>\n",
       "      <td>11.056730</td>\n",
       "      <td>0.383106</td>\n",
       "      <td>...</td>\n",
       "      <td>October</td>\n",
       "      <td>28.0</td>\n",
       "      <td>NaN</td>\n",
       "      <td>45.0</td>\n",
       "      <td>3.0</td>\n",
       "      <td>50.0</td>\n",
       "      <td>['0h', '2m', '16s']</td>\n",
       "      <td>11:58:18 AM\\n</td>\n",
       "      <td>43098.0</td>\n",
       "      <td>1325.004</td>\n",
       "    </tr>\n",
       "    <tr>\n",
       "      <th>1</th>\n",
       "      <td>Ne2.txt</td>\n",
       "      <td>0.997826</td>\n",
       "      <td>331.197497</td>\n",
       "      <td>1447.503005</td>\n",
       "      <td>1116.305508</td>\n",
       "      <td>48194.633173</td>\n",
       "      <td>4249.843215</td>\n",
       "      <td>113.078673</td>\n",
       "      <td>9.905387</td>\n",
       "      <td>0.385742</td>\n",
       "      <td>...</td>\n",
       "      <td>October</td>\n",
       "      <td>28.0</td>\n",
       "      <td>NaN</td>\n",
       "      <td>45.0</td>\n",
       "      <td>3.0</td>\n",
       "      <td>50.0</td>\n",
       "      <td>['0h', '2m', '16s']</td>\n",
       "      <td>12:25:51 PM\\n</td>\n",
       "      <td>44751.0</td>\n",
       "      <td>1325.004</td>\n",
       "    </tr>\n",
       "    <tr>\n",
       "      <th>2</th>\n",
       "      <td>Ne3.txt</td>\n",
       "      <td>0.997810</td>\n",
       "      <td>331.202952</td>\n",
       "      <td>1447.521962</td>\n",
       "      <td>1116.319010</td>\n",
       "      <td>46080.582039</td>\n",
       "      <td>3842.899729</td>\n",
       "      <td>109.332691</td>\n",
       "      <td>10.204250</td>\n",
       "      <td>0.389635</td>\n",
       "      <td>...</td>\n",
       "      <td>October</td>\n",
       "      <td>28.0</td>\n",
       "      <td>NaN</td>\n",
       "      <td>45.0</td>\n",
       "      <td>3.0</td>\n",
       "      <td>50.0</td>\n",
       "      <td>['0h', '2m', '17s']</td>\n",
       "      <td>1:02:56 PM\\n</td>\n",
       "      <td>46976.0</td>\n",
       "      <td>1325.004</td>\n",
       "    </tr>\n",
       "    <tr>\n",
       "      <th>3</th>\n",
       "      <td>Ne4.txt</td>\n",
       "      <td>0.997783</td>\n",
       "      <td>331.212057</td>\n",
       "      <td>1447.539257</td>\n",
       "      <td>1116.327199</td>\n",
       "      <td>44440.942081</td>\n",
       "      <td>3811.741753</td>\n",
       "      <td>106.963784</td>\n",
       "      <td>10.364034</td>\n",
       "      <td>0.391412</td>\n",
       "      <td>...</td>\n",
       "      <td>October</td>\n",
       "      <td>28.0</td>\n",
       "      <td>NaN</td>\n",
       "      <td>45.0</td>\n",
       "      <td>3.0</td>\n",
       "      <td>50.0</td>\n",
       "      <td>['0h', '2m', '16s']</td>\n",
       "      <td>1:34:44 PM\\n</td>\n",
       "      <td>48884.0</td>\n",
       "      <td>1325.004</td>\n",
       "    </tr>\n",
       "    <tr>\n",
       "      <th>4</th>\n",
       "      <td>Ne5.txt</td>\n",
       "      <td>0.997778</td>\n",
       "      <td>331.213526</td>\n",
       "      <td>1447.541012</td>\n",
       "      <td>1116.327486</td>\n",
       "      <td>45288.668505</td>\n",
       "      <td>3947.474073</td>\n",
       "      <td>110.897529</td>\n",
       "      <td>10.918444</td>\n",
       "      <td>0.393316</td>\n",
       "      <td>...</td>\n",
       "      <td>October</td>\n",
       "      <td>28.0</td>\n",
       "      <td>NaN</td>\n",
       "      <td>45.0</td>\n",
       "      <td>3.0</td>\n",
       "      <td>50.0</td>\n",
       "      <td>['0h', '2m', '17s']</td>\n",
       "      <td>2:06:40 PM\\n</td>\n",
       "      <td>50800.0</td>\n",
       "      <td>1325.004</td>\n",
       "    </tr>\n",
       "    <tr>\n",
       "      <th>5</th>\n",
       "      <td>Ne6 (1).txt</td>\n",
       "      <td>0.997760</td>\n",
       "      <td>331.219549</td>\n",
       "      <td>1447.534558</td>\n",
       "      <td>1116.315009</td>\n",
       "      <td>44105.495012</td>\n",
       "      <td>3915.578861</td>\n",
       "      <td>102.632945</td>\n",
       "      <td>11.223934</td>\n",
       "      <td>0.394988</td>\n",
       "      <td>...</td>\n",
       "      <td>October</td>\n",
       "      <td>28.0</td>\n",
       "      <td>NaN</td>\n",
       "      <td>45.0</td>\n",
       "      <td>3.0</td>\n",
       "      <td>50.0</td>\n",
       "      <td>['0h', '2m', '16s']</td>\n",
       "      <td>2:47:12 PM\\n</td>\n",
       "      <td>53232.0</td>\n",
       "      <td>1325.004</td>\n",
       "    </tr>\n",
       "    <tr>\n",
       "      <th>6</th>\n",
       "      <td>Ne6.txt</td>\n",
       "      <td>0.997776</td>\n",
       "      <td>331.214342</td>\n",
       "      <td>1447.539633</td>\n",
       "      <td>1116.325291</td>\n",
       "      <td>46370.341525</td>\n",
       "      <td>4254.114626</td>\n",
       "      <td>116.139213</td>\n",
       "      <td>11.144664</td>\n",
       "      <td>0.392591</td>\n",
       "      <td>...</td>\n",
       "      <td>October</td>\n",
       "      <td>28.0</td>\n",
       "      <td>NaN</td>\n",
       "      <td>45.0</td>\n",
       "      <td>3.0</td>\n",
       "      <td>50.0</td>\n",
       "      <td>['0h', '2m', '16s']</td>\n",
       "      <td>2:25:28 PM\\n</td>\n",
       "      <td>51928.0</td>\n",
       "      <td>1325.004</td>\n",
       "    </tr>\n",
       "    <tr>\n",
       "      <th>7</th>\n",
       "      <td>Ne7.txt</td>\n",
       "      <td>0.997756</td>\n",
       "      <td>331.220989</td>\n",
       "      <td>1447.516894</td>\n",
       "      <td>1116.295905</td>\n",
       "      <td>43261.396205</td>\n",
       "      <td>3835.073085</td>\n",
       "      <td>108.092773</td>\n",
       "      <td>11.095139</td>\n",
       "      <td>0.392970</td>\n",
       "      <td>...</td>\n",
       "      <td>October</td>\n",
       "      <td>28.0</td>\n",
       "      <td>NaN</td>\n",
       "      <td>45.0</td>\n",
       "      <td>3.0</td>\n",
       "      <td>50.0</td>\n",
       "      <td>['0h', '2m', '16s']</td>\n",
       "      <td>4:45:22 PM\\n</td>\n",
       "      <td>60322.0</td>\n",
       "      <td>1325.004</td>\n",
       "    </tr>\n",
       "    <tr>\n",
       "      <th>8</th>\n",
       "      <td>Ne8.txt</td>\n",
       "      <td>0.997757</td>\n",
       "      <td>331.220600</td>\n",
       "      <td>1447.524737</td>\n",
       "      <td>1116.304136</td>\n",
       "      <td>43156.992925</td>\n",
       "      <td>3790.648632</td>\n",
       "      <td>103.794040</td>\n",
       "      <td>11.529209</td>\n",
       "      <td>0.392562</td>\n",
       "      <td>...</td>\n",
       "      <td>October</td>\n",
       "      <td>28.0</td>\n",
       "      <td>NaN</td>\n",
       "      <td>45.0</td>\n",
       "      <td>3.0</td>\n",
       "      <td>50.0</td>\n",
       "      <td>['0h', '2m', '16s']</td>\n",
       "      <td>5:10:44 PM\\n</td>\n",
       "      <td>61844.0</td>\n",
       "      <td>1325.004</td>\n",
       "    </tr>\n",
       "  </tbody>\n",
       "</table>\n",
       "<p>9 rows × 33 columns</p>\n",
       "</div>"
      ],
      "text/plain": [
       "    filename_x   Ne_Corr     deltaNe  pk2_peak_cent  pk1_peak_cent  \\\n",
       "0      Ne1.txt  0.997860  331.186408    1447.507793    1116.321385   \n",
       "1      Ne2.txt  0.997826  331.197497    1447.503005    1116.305508   \n",
       "2      Ne3.txt  0.997810  331.202952    1447.521962    1116.319010   \n",
       "3      Ne4.txt  0.997783  331.212057    1447.539257    1116.327199   \n",
       "4      Ne5.txt  0.997778  331.213526    1447.541012    1116.327486   \n",
       "5  Ne6 (1).txt  0.997760  331.219549    1447.534558    1116.315009   \n",
       "6      Ne6.txt  0.997776  331.214342    1447.539633    1116.325291   \n",
       "7      Ne7.txt  0.997756  331.220989    1447.516894    1116.295905   \n",
       "8      Ne8.txt  0.997757  331.220600    1447.524737    1116.304136   \n",
       "\n",
       "   pk2_amplitude  pk1_amplitude  residual_pk2  residual_pk1  pk2_sigma  ...  \\\n",
       "0   49149.951919    4064.596307    122.790683     11.056730   0.383106  ...   \n",
       "1   48194.633173    4249.843215    113.078673      9.905387   0.385742  ...   \n",
       "2   46080.582039    3842.899729    109.332691     10.204250   0.389635  ...   \n",
       "3   44440.942081    3811.741753    106.963784     10.364034   0.391412  ...   \n",
       "4   45288.668505    3947.474073    110.897529     10.918444   0.393316  ...   \n",
       "5   44105.495012    3915.578861    102.632945     11.223934   0.394988  ...   \n",
       "6   46370.341525    4254.114626    116.139213     11.144664   0.392591  ...   \n",
       "7   43261.396205    3835.073085    108.092773     11.095139   0.392970  ...   \n",
       "8   43156.992925    3790.648632    103.794040     11.529209   0.392562  ...   \n",
       "\n",
       "     Month   Day  power (mW)  Int_time (s) accumulations  Mag (X)  \\\n",
       "0  October  28.0         NaN          45.0           3.0     50.0   \n",
       "1  October  28.0         NaN          45.0           3.0     50.0   \n",
       "2  October  28.0         NaN          45.0           3.0     50.0   \n",
       "3  October  28.0         NaN          45.0           3.0     50.0   \n",
       "4  October  28.0         NaN          45.0           3.0     50.0   \n",
       "5  October  28.0         NaN          45.0           3.0     50.0   \n",
       "6  October  28.0         NaN          45.0           3.0     50.0   \n",
       "7  October  28.0         NaN          45.0           3.0     50.0   \n",
       "8  October  28.0         NaN          45.0           3.0     50.0   \n",
       "\n",
       "              duration      24hr_time  sec since midnight  Spectral Center  \n",
       "0  ['0h', '2m', '16s']  11:58:18 AM\\n             43098.0         1325.004  \n",
       "1  ['0h', '2m', '16s']  12:25:51 PM\\n             44751.0         1325.004  \n",
       "2  ['0h', '2m', '17s']   1:02:56 PM\\n             46976.0         1325.004  \n",
       "3  ['0h', '2m', '16s']   1:34:44 PM\\n             48884.0         1325.004  \n",
       "4  ['0h', '2m', '17s']   2:06:40 PM\\n             50800.0         1325.004  \n",
       "5  ['0h', '2m', '16s']   2:47:12 PM\\n             53232.0         1325.004  \n",
       "6  ['0h', '2m', '16s']   2:25:28 PM\\n             51928.0         1325.004  \n",
       "7  ['0h', '2m', '16s']   4:45:22 PM\\n             60322.0         1325.004  \n",
       "8  ['0h', '2m', '16s']   5:10:44 PM\\n             61844.0         1325.004  \n",
       "\n",
       "[9 rows x 33 columns]"
      ]
     },
     "execution_count": 24,
     "metadata": {},
     "output_type": "execute_result"
    }
   ],
   "source": [
    "df_combo_sort=df_combo.sort_values(by='sec since midnight')\n",
    "df_combo"
   ]
  },
  {
   "cell_type": "code",
   "execution_count": 25,
   "id": "7968a4fc-b9f3-406f-a330-5d157c0564e6",
   "metadata": {},
   "outputs": [],
   "source": [
    "df_combo_sort.to_clipboard(excel=True)"
   ]
  },
  {
   "cell_type": "markdown",
   "id": "3c31dbe3-a249-4e4f-8ac8-2b0a0872d8bc",
   "metadata": {},
   "source": [
    "## Exclude ones that don't look right...\n",
    "- The filter_Ne_Line_neighbours excludes Ne lines that have a correction factor more than \"offset\" from their N neighbours (defined by \"number_av\")\n",
    "- Tweak offset and number_av until you exclude the ones that dont look right"
   ]
  },
  {
   "cell_type": "code",
   "execution_count": 26,
   "id": "5f3c8515-6a77-4dcf-8f19-d474de5cdaed",
   "metadata": {},
   "outputs": [
    {
     "data": {
      "image/png": "[encoded data removed]",
      "text/plain": [
       "<Figure size 1200x400 with 3 Axes>"
      ]
     },
     "metadata": {},
     "output_type": "display_data"
    }
   ],
   "source": [
    "filt=pf.filter_Ne_Line_neighbours(Corr_factor=df_combo['Ne_Corr'], \n",
    "                    number_av=5, offset=0.0002)\n",
    "# Now lets plot this to see\n",
    "fig, (ax1, ax2, ax3) = plt.subplots(1, 3, figsize=(12,4))\n",
    "ax1.plot(df_combo['sec since midnight'], df_combo['Ne_Corr'],   'ok', label='All')\n",
    "ax1.plot(df_combo['sec since midnight'], filt,  'or', label='Filt')\n",
    "ax1.legend()\n",
    "ax2.plot(df_combo['sec since midnight'], filt,  'or', label='Filt')\n",
    "\n",
    "test_split=103\n",
    "split=filt*test_split\n",
    "density_test=pf.calculate_density_cornell(temp='SupCrit', Split=split)\n",
    "ax3.plot(df_combo['sec since midnight'].loc[density_test['Preferred D']>0],\n",
    "         density_test['Preferred D'].loc[density_test['Preferred D']>0], 'ob')\n",
    "\n",
    "\n",
    "ax1.set_xlabel('Sec since midnight (s)')\n",
    "ax1.set_ylabel('Ne Correction factor')\n",
    "ax1.set_title('All measurements')\n",
    "ax2.set_xlabel('Sec since midnight (s)')\n",
    "ax2.set_title('Filtered measurements')\n",
    "ax3.set_xlabel('Sec since midnight (s)')\n",
    "ax3.set_ylabel('Density for split=' + str(test_split))\n",
    "ax3.set_title('Test Density sensitivity')\n",
    "fig.tight_layout()"
   ]
  },
  {
   "cell_type": "markdown",
   "id": "fbc05a55-246f-45fd-adf5-47b8c04104c9",
   "metadata": {},
   "source": [
    "## Now lets make a regression against time\n",
    "- We take this time regression and then apply to our diad fits"
   ]
  },
  {
   "cell_type": "code",
   "execution_count": 27,
   "id": "4e86ebd5-7972-4482-9547-0aac567a3d1b",
   "metadata": {},
   "outputs": [
    {
     "data": {
      "image/png": "[encoded data removed]",
      "text/plain": [
       "<Figure size 600x300 with 1 Axes>"
      ]
     },
     "metadata": {},
     "output_type": "display_data"
    }
   ],
   "source": [
    "df_combo_filt=df_combo[density_test['Preferred D']>0]\n",
    "model, fig=pf.reg_Ne_lines_time(df=df_combo_filt, N_poly=2, fit='poly')"
   ]
  },
  {
   "cell_type": "markdown",
   "id": "e6f3e687-f662-4a4e-8d93-d15fa5e378d1",
   "metadata": {},
   "source": [
    "## SAving as pickle, can then load as a pickle"
   ]
  },
  {
   "cell_type": "code",
   "execution_count": 28,
   "id": "f7fd68d3-451a-4ac3-825f-9ba7fb3d079f",
   "metadata": {},
   "outputs": [],
   "source": [
    "import pickle\n",
    "with open('Ne_Line_Regression_Example_cali.pck', 'wb') as file_handle:\n",
    "    pickle.dump(model, file_handle)"
   ]
  },
  {
   "cell_type": "code",
   "execution_count": null,
   "id": "b6e94bb3-b22a-4384-a4db-950003e8aab8",
   "metadata": {},
   "outputs": [],
   "source": []
  }
 ],
 "metadata": {
  "kernelspec": {
   "display_name": "Python 3 (ipykernel)",
   "language": "python",
   "name": "python3"
  },
  "language_info": {
   "codemirror_mode": {
    "name": "ipython",
    "version": 3
   },
   "file_extension": ".py",
   "mimetype": "text/x-python",
   "name": "python",
   "nbconvert_exporter": "python",
   "pygments_lexer": "ipython3",
   "version": "3.9.13"
  }
 },
 "nbformat": 4,
 "nbformat_minor": 5
}
