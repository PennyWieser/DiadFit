{
 "cells": [
  {
   "cell_type": "markdown",
   "id": "b1143fd5-01e1-494a-88ed-49c9af373ef4",
   "metadata": {},
   "source": [
    "## Converting CO$_2$ densities to pressures to depths\n",
    "- This notebook shows how to use the equation of state of pure CO$_2$ of Span and Wanger (1996) implemented through coolprop to calculate pressures of fluid inclusions\n",
    "- We also show how to use Monte-Carlo simulations to propagate errors when determing fluid inclusion pressures\n",
    "- We also show how to calculate densities to depths using a variety of crustal density models"
   ]
  },
  {
   "cell_type": "markdown",
   "id": "4696e294-e9af-4c4e-86e5-ac37ec698a43",
   "metadata": {},
   "source": [
    "### First, import all the python things you need"
   ]
  },
  {
   "cell_type": "code",
   "execution_count": 1,
   "id": "12e26fc7-8a59-4e52-8a16-74766eda628e",
   "metadata": {},
   "outputs": [
    {
     "data": {
      "text/plain": [
       "'0.0.38'"
      ]
     },
     "execution_count": 1,
     "metadata": {},
     "output_type": "execute_result"
    }
   ],
   "source": [
    "import numpy as np\n",
    "import pandas as pd\n",
    "import matplotlib.pyplot as plt\n",
    "import DiadFit as pf\n",
    "pf.__version__"
   ]
  },
  {
   "cell_type": "code",
   "execution_count": null,
   "id": "28319bb8-6519-42ec-a794-b4d2c07fee95",
   "metadata": {},
   "outputs": [],
   "source": [
    "## Now, load your FI densities "
   ]
  }
 ],
 "metadata": {
  "kernelspec": {
   "display_name": "Python 3 (ipykernel)",
   "language": "python",
   "name": "python3"
  },
  "language_info": {
   "codemirror_mode": {
    "name": "ipython",
    "version": 3
   },
   "file_extension": ".py",
   "mimetype": "text/x-python",
   "name": "python",
   "nbconvert_exporter": "python",
   "pygments_lexer": "ipython3",
   "version": "3.9.13"
  }
 },
 "nbformat": 4,
 "nbformat_minor": 5
}
