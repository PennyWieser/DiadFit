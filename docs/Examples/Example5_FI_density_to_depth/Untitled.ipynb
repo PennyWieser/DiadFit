{
 "cells": [
  {
   "cell_type": "markdown",
   "id": "b1143fd5-01e1-494a-88ed-49c9af373ef4",
   "metadata": {},
   "source": [
    "## Converting CO$_2$ densities to pressures to depths\n",
    "- This notebook shows how to use the equation of state of pure CO$_2$ of Span and Wanger (1996) implemented through coolprop to calculate entrapment pressures of fluid inclusions\n",
    "- We also show how to use Monte-Carlo simulations to propagate errors when determing "
   ]
  }
 ],
 "metadata": {
  "kernelspec": {
   "display_name": "Python 3 (ipykernel)",
   "language": "python",
   "name": "python3"
  },
  "language_info": {
   "codemirror_mode": {
    "name": "ipython",
    "version": 3
   },
   "file_extension": ".py",
   "mimetype": "text/x-python",
   "name": "python",
   "nbconvert_exporter": "python",
   "pygments_lexer": "ipython3",
   "version": "3.9.13"
  }
 },
 "nbformat": 4,
 "nbformat_minor": 5
}
