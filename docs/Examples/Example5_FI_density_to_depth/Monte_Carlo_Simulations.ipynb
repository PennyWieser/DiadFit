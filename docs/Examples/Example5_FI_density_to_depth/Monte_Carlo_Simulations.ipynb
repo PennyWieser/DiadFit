{
 "cells": [
  {
   "cell_type": "markdown",
   "id": "ce9d2ed1-3fba-416f-971c-a7babaf4425a",
   "metadata": {},
   "source": [
    "# Propagating uncertainties in fluid inclusion barometry\n",
    "- This notebook shows how to propagate uncertainty when performing fluid inclusion barometry"
   ]
  },
  {
   "cell_type": "code",
   "execution_count": 1,
   "id": "fd37aa53-66e7-4f06-b3ef-a048433ae784",
   "metadata": {},
   "outputs": [
    {
     "data": {
      "text/plain": [
       "'0.0.38'"
      ]
     },
     "execution_count": 1,
     "metadata": {},
     "output_type": "execute_result"
    }
   ],
   "source": [
    "import numpy as np\n",
    "import pandas as pd\n",
    "import matplotlib.pyplot as plt\n",
    "import DiadFit as pf\n",
    "pf.__version__"
   ]
  },
  {
   "cell_type": "markdown",
   "id": "3e4a04f0-47bb-4129-865f-5275b1216358",
   "metadata": {},
   "source": [
    "### Load in the data"
   ]
  },
  {
   "cell_type": "code",
   "execution_count": 2,
   "id": "4f32d34a-ccfd-40d0-a963-298dbe168be4",
   "metadata": {},
   "outputs": [
    {
     "data": {
      "text/html": [
       "<div>\n",
       "<style scoped>\n",
       "    .dataframe tbody tr th:only-of-type {\n",
       "        vertical-align: middle;\n",
       "    }\n",
       "\n",
       "    .dataframe tbody tr th {\n",
       "        vertical-align: top;\n",
       "    }\n",
       "\n",
       "    .dataframe thead th {\n",
       "        text-align: right;\n",
       "    }\n",
       "</style>\n",
       "<table border=\"1\" class=\"dataframe\">\n",
       "  <thead>\n",
       "    <tr style=\"text-align: right;\">\n",
       "      <th></th>\n",
       "      <th>Sample</th>\n",
       "      <th>Density_g_cm3</th>\n",
       "      <th>T_C</th>\n",
       "      <th>Host_Fo_content</th>\n",
       "    </tr>\n",
       "  </thead>\n",
       "  <tbody>\n",
       "    <tr>\n",
       "      <th>0</th>\n",
       "      <td>FI1</td>\n",
       "      <td>0.469129</td>\n",
       "      <td>1048.898738</td>\n",
       "      <td>0.897797</td>\n",
       "    </tr>\n",
       "    <tr>\n",
       "      <th>1</th>\n",
       "      <td>FI2</td>\n",
       "      <td>0.422026</td>\n",
       "      <td>1015.924767</td>\n",
       "      <td>0.831850</td>\n",
       "    </tr>\n",
       "    <tr>\n",
       "      <th>2</th>\n",
       "      <td>FI4</td>\n",
       "      <td>0.492548</td>\n",
       "      <td>1041.589916</td>\n",
       "      <td>0.883180</td>\n",
       "    </tr>\n",
       "    <tr>\n",
       "      <th>3</th>\n",
       "      <td>FI5</td>\n",
       "      <td>0.480006</td>\n",
       "      <td>1034.935183</td>\n",
       "      <td>0.869870</td>\n",
       "    </tr>\n",
       "    <tr>\n",
       "      <th>4</th>\n",
       "      <td>FI7</td>\n",
       "      <td>0.473515</td>\n",
       "      <td>1034.820102</td>\n",
       "      <td>0.869640</td>\n",
       "    </tr>\n",
       "  </tbody>\n",
       "</table>\n",
       "</div>"
      ],
      "text/plain": [
       "  Sample  Density_g_cm3          T_C  Host_Fo_content\n",
       "0    FI1       0.469129  1048.898738         0.897797\n",
       "1    FI2       0.422026  1015.924767         0.831850\n",
       "2    FI4       0.492548  1041.589916         0.883180\n",
       "3    FI5       0.480006  1034.935183         0.869870\n",
       "4    FI7       0.473515  1034.820102         0.869640"
      ]
     },
     "execution_count": 2,
     "metadata": {},
     "output_type": "execute_result"
    }
   ],
   "source": [
    "df=pd.read_excel('Fluid_Inclusion_Densities_Example1.xlsx', sheet_name='Diff_Temps')\n",
    "df.head()"
   ]
  },
  {
   "cell_type": "code",
   "execution_count": 3,
   "id": "1366fcb6-3104-40e0-8b23-6acb98d6e2dd",
   "metadata": {},
   "outputs": [
    {
     "data": {
      "text/plain": [
       "38"
      ]
     },
     "execution_count": 3,
     "metadata": {},
     "output_type": "execute_result"
    }
   ],
   "source": [
    "np.shape(df['T_C'])[0]"
   ]
  },
  {
   "cell_type": "code",
   "execution_count": 4,
   "id": "ef4c18f9-ca63-4b3f-a7e3-0a2524af4b6d",
   "metadata": {},
   "outputs": [
    {
     "data": {
      "text/plain": [
       "38"
      ]
     },
     "execution_count": 4,
     "metadata": {},
     "output_type": "execute_result"
    }
   ],
   "source": [
    "np.shape(df['T_C'].values)[0]"
   ]
  },
  {
   "cell_type": "markdown",
   "id": "60800584-aede-44bd-8820-a33f85dec089",
   "metadata": {},
   "source": [
    "## Propagating uncertainty in temperature\n",
    "- Lets say the uncertainty in temperature is +-50K. So this is an absolute error, and we want temperature distributed normally\n",
    "- We want to use a single step profile initially to convert pressure to depth\n",
    "- We want to make 1000 duplicates per FI with temperature varying by 1 sigma=50K\n",
    "- It outputs MC_Av, which is the average for each fluid inclusion, and MC_All, which contains rows for each of the N duplicates you asked for appended end-on-end"
   ]
  },
  {
   "cell_type": "code",
   "execution_count": 5,
   "id": "785e718f-067f-44fa-8bbb-cee39eb889ac",
   "metadata": {},
   "outputs": [
    {
     "name": "stdout",
     "output_type": "stream",
     "text": [
      "working on sample number 0\n",
      "working on sample number 20\n"
     ]
    },
    {
     "data": {
      "text/html": [
       "<div>\n",
       "<style scoped>\n",
       "    .dataframe tbody tr th:only-of-type {\n",
       "        vertical-align: middle;\n",
       "    }\n",
       "\n",
       "    .dataframe tbody tr th {\n",
       "        vertical-align: top;\n",
       "    }\n",
       "\n",
       "    .dataframe thead th {\n",
       "        text-align: right;\n",
       "    }\n",
       "</style>\n",
       "<table border=\"1\" class=\"dataframe\">\n",
       "  <thead>\n",
       "    <tr style=\"text-align: right;\">\n",
       "      <th></th>\n",
       "      <th>Filename</th>\n",
       "      <th>CO2_density_gcm3</th>\n",
       "      <th>SingleFI_D_km</th>\n",
       "      <th>SingleFI_P_kbar</th>\n",
       "      <th>Mean_MC_P_kbar</th>\n",
       "      <th>Med_MC_P_kbar</th>\n",
       "      <th>std_dev_MC_P_kbar</th>\n",
       "      <th>Mean_MC_D_km</th>\n",
       "      <th>Med_MC_D_km</th>\n",
       "      <th>std_dev_MC_D_km</th>\n",
       "      <th>error_T_K</th>\n",
       "      <th>error_CO2_dens_gcm3</th>\n",
       "      <th>error_crust_dens_kgm3</th>\n",
       "    </tr>\n",
       "  </thead>\n",
       "  <tbody>\n",
       "    <tr>\n",
       "      <th>0</th>\n",
       "      <td>FI1</td>\n",
       "      <td>0.469129</td>\n",
       "      <td>6.595194</td>\n",
       "      <td>1.746869</td>\n",
       "      <td>1.746512</td>\n",
       "      <td>1.745810</td>\n",
       "      <td>0.074160</td>\n",
       "      <td>6.593846</td>\n",
       "      <td>6.591195</td>\n",
       "      <td>0.279988</td>\n",
       "      <td>50</td>\n",
       "      <td>0</td>\n",
       "      <td>0.0</td>\n",
       "    </tr>\n",
       "    <tr>\n",
       "      <th>1</th>\n",
       "      <td>FI2</td>\n",
       "      <td>0.422026</td>\n",
       "      <td>5.462309</td>\n",
       "      <td>1.446802</td>\n",
       "      <td>1.443781</td>\n",
       "      <td>1.445011</td>\n",
       "      <td>0.065203</td>\n",
       "      <td>5.450906</td>\n",
       "      <td>5.455550</td>\n",
       "      <td>0.246172</td>\n",
       "      <td>50</td>\n",
       "      <td>0</td>\n",
       "      <td>0.0</td>\n",
       "    </tr>\n",
       "    <tr>\n",
       "      <th>2</th>\n",
       "      <td>FI4</td>\n",
       "      <td>0.492548</td>\n",
       "      <td>7.071089</td>\n",
       "      <td>1.872919</td>\n",
       "      <td>1.869251</td>\n",
       "      <td>1.871828</td>\n",
       "      <td>0.084206</td>\n",
       "      <td>7.057239</td>\n",
       "      <td>7.066967</td>\n",
       "      <td>0.317915</td>\n",
       "      <td>50</td>\n",
       "      <td>0</td>\n",
       "      <td>0.0</td>\n",
       "    </tr>\n",
       "    <tr>\n",
       "      <th>3</th>\n",
       "      <td>FI5</td>\n",
       "      <td>0.480006</td>\n",
       "      <td>6.750062</td>\n",
       "      <td>1.787889</td>\n",
       "      <td>1.788530</td>\n",
       "      <td>1.789807</td>\n",
       "      <td>0.078594</td>\n",
       "      <td>6.752483</td>\n",
       "      <td>6.757304</td>\n",
       "      <td>0.296727</td>\n",
       "      <td>50</td>\n",
       "      <td>0</td>\n",
       "      <td>0.0</td>\n",
       "    </tr>\n",
       "    <tr>\n",
       "      <th>4</th>\n",
       "      <td>FI7</td>\n",
       "      <td>0.473515</td>\n",
       "      <td>6.607889</td>\n",
       "      <td>1.750232</td>\n",
       "      <td>1.750117</td>\n",
       "      <td>1.748658</td>\n",
       "      <td>0.078624</td>\n",
       "      <td>6.607456</td>\n",
       "      <td>6.601949</td>\n",
       "      <td>0.296840</td>\n",
       "      <td>50</td>\n",
       "      <td>0</td>\n",
       "      <td>0.0</td>\n",
       "    </tr>\n",
       "  </tbody>\n",
       "</table>\n",
       "</div>"
      ],
      "text/plain": [
       "  Filename  CO2_density_gcm3  SingleFI_D_km  SingleFI_P_kbar  Mean_MC_P_kbar  \\\n",
       "0      FI1          0.469129       6.595194         1.746869        1.746512   \n",
       "1      FI2          0.422026       5.462309         1.446802        1.443781   \n",
       "2      FI4          0.492548       7.071089         1.872919        1.869251   \n",
       "3      FI5          0.480006       6.750062         1.787889        1.788530   \n",
       "4      FI7          0.473515       6.607889         1.750232        1.750117   \n",
       "\n",
       "   Med_MC_P_kbar  std_dev_MC_P_kbar  Mean_MC_D_km  Med_MC_D_km  \\\n",
       "0       1.745810           0.074160      6.593846     6.591195   \n",
       "1       1.445011           0.065203      5.450906     5.455550   \n",
       "2       1.871828           0.084206      7.057239     7.066967   \n",
       "3       1.789807           0.078594      6.752483     6.757304   \n",
       "4       1.748658           0.078624      6.607456     6.601949   \n",
       "\n",
       "   std_dev_MC_D_km  error_T_K  error_CO2_dens_gcm3  error_crust_dens_kgm3  \n",
       "0         0.279988         50                    0                    0.0  \n",
       "1         0.246172         50                    0                    0.0  \n",
       "2         0.317915         50                    0                    0.0  \n",
       "3         0.296727         50                    0                    0.0  \n",
       "4         0.296840         50                    0                    0.0  "
      ]
     },
     "execution_count": 5,
     "metadata": {},
     "output_type": "execute_result"
    }
   ],
   "source": [
    "MC_Av_Tonly, MC_All_Tonly=pf.loop_all_FI_MC(T_K=df['T_C']+273.15,\n",
    "error_T_K=50, error_type_T_K='Abs', error_dist_T_K='normal',\n",
    "                        CO2_density_gcm3=df['Density_g_cm3'],\n",
    "                        sample_ID=df['Sample'],\n",
    "                        crust_dens_kgm3=2700,\n",
    "                        N_dup=1000)\n",
    "MC_Av_Tonly.head()"
   ]
  },
  {
   "cell_type": "markdown",
   "id": "9b5d10d4-99f9-4e2b-b36a-38dc2df2aa16",
   "metadata": {},
   "source": [
    "### Lets plot the distribution for a single sample"
   ]
  },
  {
   "cell_type": "code",
   "execution_count": 6,
   "id": "c427efe6-42b5-41b9-ad54-e1a3bf43885b",
   "metadata": {},
   "outputs": [],
   "source": [
    "FI2_input=df.loc[df['Sample']==\"FI2\"]"
   ]
  },
  {
   "cell_type": "code",
   "execution_count": 7,
   "id": "59e8e861-70f3-4552-8ddf-787fae7d3b44",
   "metadata": {},
   "outputs": [],
   "source": [
    "FI2_df_Tonly=MC_All_Tonly.loc[MC_All_Tonly['Filename']=='FI2']"
   ]
  },
  {
   "cell_type": "code",
   "execution_count": 8,
   "id": "1b6f53b2-386b-406f-a6d4-64b228c79443",
   "metadata": {},
   "outputs": [
    {
     "name": "stdout",
     "output_type": "stream",
     "text": [
      "Std dev of simulation Temp\n",
      "49.80792688097334\n",
      "Std dev of Calculated P\n",
      "0.0652034511915314\n"
     ]
    },
    {
     "data": {
      "image/png": "[encoded data removed]",
      "text/plain": [
       "<Figure size 1000x500 with 2 Axes>"
      ]
     },
     "metadata": {},
     "output_type": "display_data"
    }
   ],
   "source": [
    "fig, (ax1, ax2) = plt.subplots(1, 2, figsize=(10,5))\n",
    "ax1.plot([FI2_input['T_C']+273.15, FI2_input['T_C']+273.15], [0, 300], '-r', label='input T')\n",
    "ax1.hist(FI2_df_Tonly['input_T_K'], ec='k')\n",
    "print('Std dev of simulation Temp')\n",
    "print(np.nanstd(FI2_df_Tonly['input_T_K']))\n",
    "ax1.set_xlabel('Temp (K)')\n",
    "ax1.legend()\n",
    "\n",
    "ax2.hist(FI2_df_Tonly['Pressure (kbar)'], ec='k');\n",
    "ax2.set_xlabel('Calculated Pressure (kbar)')\n",
    "print('Std dev of Calculated P')\n",
    "print(np.nanstd(FI2_df_Tonly['Pressure (kbar)']))"
   ]
  },
  {
   "cell_type": "markdown",
   "id": "72ee685a-1dc4-4515-982a-d03459e3dd2c",
   "metadata": {},
   "source": [
    "### Plot each FI and its 1 sigma error\n",
    "-  Lets plot the pressure of the inputted FI (SingleFI_P_kbar), and then the standard deviation of the MC simulation against the Fo content"
   ]
  },
  {
   "cell_type": "code",
   "execution_count": 9,
   "id": "6cff1ce9-8304-4dec-b51a-d6a4a6dd716c",
   "metadata": {},
   "outputs": [
    {
     "data": {
      "text/plain": [
       "Index(['Filename', 'CO2_density_gcm3', 'SingleFI_D_km', 'SingleFI_P_kbar',\n",
       "       'Mean_MC_P_kbar', 'Med_MC_P_kbar', 'std_dev_MC_P_kbar', 'Mean_MC_D_km',\n",
       "       'Med_MC_D_km', 'std_dev_MC_D_km', 'error_T_K', 'error_CO2_dens_gcm3',\n",
       "       'error_crust_dens_kgm3'],\n",
       "      dtype='object')"
      ]
     },
     "execution_count": 9,
     "metadata": {},
     "output_type": "execute_result"
    }
   ],
   "source": [
    "MC_Av_Tonly.columns"
   ]
  },
  {
   "cell_type": "code",
   "execution_count": 10,
   "id": "7fe0eb92-6471-498b-b462-3c97fd024ee4",
   "metadata": {},
   "outputs": [
    {
     "data": {
      "image/png": "[encoded data removed]",
      "text/plain": [
       "<Figure size 1000x500 with 2 Axes>"
      ]
     },
     "metadata": {},
     "output_type": "display_data"
    }
   ],
   "source": [
    "fig, (ax1, ax2) = plt.subplots(1, 2, figsize=(10,5))\n",
    "\n",
    "ax1.errorbar(df['Host_Fo_content'], \n",
    "             MC_Av_Tonly['SingleFI_P_kbar'],\n",
    "             xerr=0, yerr=MC_Av_Tonly['std_dev_MC_P_kbar'],\n",
    "             fmt='d', ecolor='grey', elinewidth=0.8, mfc='cyan', ms=5, mec='k', capsize=5)\n",
    "\n",
    "ax1.set_xlabel('Fo content')\n",
    "ax1.set_ylabel('Pressure (kbar)')\n",
    "\n",
    "ax2.errorbar(df['Host_Fo_content'], \n",
    "             MC_Av_Tonly['SingleFI_D_km'],\n",
    "             xerr=0, yerr=MC_Av_Tonly['std_dev_MC_D_km'],\n",
    "             fmt='d', ecolor='grey', elinewidth=0.8, mfc='cyan', ms=5, mec='k', capsize=5)\n",
    "ax2.set_xlabel('Fo content')\n",
    "ax2.set_ylabel('Depth (km)')\n",
    "\n",
    "\n",
    "ax1.set_ylim([0, 2.5])\n",
    "ax2.set_ylim([0, 8])\n",
    "ax1.invert_yaxis()\n",
    "ax2.invert_yaxis()"
   ]
  },
  {
   "cell_type": "markdown",
   "id": "bbc71b13-b6a5-43c0-a869-1d107a987b78",
   "metadata": {},
   "source": [
    "## Propagating uncertainty in CO$_2$ Density\n",
    "- Lets say the uncertainty in CO$_2$ density is +-10%, in reality, this will vary greatly between instruments, as well with the absolute density (e.g. more like +-20% for the very weakest diads, more like +-5% for the densest)."
   ]
  },
  {
   "cell_type": "code",
   "execution_count": 11,
   "id": "ca22d273-51b7-414f-9b78-49b2e5292178",
   "metadata": {},
   "outputs": [
    {
     "name": "stdout",
     "output_type": "stream",
     "text": [
      "working on sample number 0\n",
      "working on sample number 20\n"
     ]
    },
    {
     "data": {
      "text/html": [
       "<div>\n",
       "<style scoped>\n",
       "    .dataframe tbody tr th:only-of-type {\n",
       "        vertical-align: middle;\n",
       "    }\n",
       "\n",
       "    .dataframe tbody tr th {\n",
       "        vertical-align: top;\n",
       "    }\n",
       "\n",
       "    .dataframe thead th {\n",
       "        text-align: right;\n",
       "    }\n",
       "</style>\n",
       "<table border=\"1\" class=\"dataframe\">\n",
       "  <thead>\n",
       "    <tr style=\"text-align: right;\">\n",
       "      <th></th>\n",
       "      <th>Filename</th>\n",
       "      <th>CO2_density_gcm3</th>\n",
       "      <th>SingleFI_D_km</th>\n",
       "      <th>SingleFI_P_kbar</th>\n",
       "      <th>Mean_MC_P_kbar</th>\n",
       "      <th>Med_MC_P_kbar</th>\n",
       "      <th>std_dev_MC_P_kbar</th>\n",
       "      <th>Mean_MC_D_km</th>\n",
       "      <th>Med_MC_D_km</th>\n",
       "      <th>std_dev_MC_D_km</th>\n",
       "      <th>error_T_K</th>\n",
       "      <th>error_CO2_dens_gcm3</th>\n",
       "      <th>error_crust_dens_kgm3</th>\n",
       "    </tr>\n",
       "  </thead>\n",
       "  <tbody>\n",
       "    <tr>\n",
       "      <th>0</th>\n",
       "      <td>FI1</td>\n",
       "      <td>0.469129</td>\n",
       "      <td>6.595194</td>\n",
       "      <td>1.746869</td>\n",
       "      <td>1.757102</td>\n",
       "      <td>1.743555</td>\n",
       "      <td>0.263821</td>\n",
       "      <td>6.633828</td>\n",
       "      <td>6.582682</td>\n",
       "      <td>0.996038</td>\n",
       "      <td>0</td>\n",
       "      <td>10</td>\n",
       "      <td>0.0</td>\n",
       "    </tr>\n",
       "    <tr>\n",
       "      <th>1</th>\n",
       "      <td>FI2</td>\n",
       "      <td>0.422026</td>\n",
       "      <td>5.462309</td>\n",
       "      <td>1.446802</td>\n",
       "      <td>1.449840</td>\n",
       "      <td>1.436610</td>\n",
       "      <td>0.218223</td>\n",
       "      <td>5.473781</td>\n",
       "      <td>5.423830</td>\n",
       "      <td>0.823888</td>\n",
       "      <td>0</td>\n",
       "      <td>10</td>\n",
       "      <td>0.0</td>\n",
       "    </tr>\n",
       "    <tr>\n",
       "      <th>2</th>\n",
       "      <td>FI4</td>\n",
       "      <td>0.492548</td>\n",
       "      <td>7.071089</td>\n",
       "      <td>1.872919</td>\n",
       "      <td>1.879410</td>\n",
       "      <td>1.864517</td>\n",
       "      <td>0.299319</td>\n",
       "      <td>7.095595</td>\n",
       "      <td>7.039367</td>\n",
       "      <td>1.130059</td>\n",
       "      <td>0</td>\n",
       "      <td>10</td>\n",
       "      <td>0.0</td>\n",
       "    </tr>\n",
       "    <tr>\n",
       "      <th>3</th>\n",
       "      <td>FI5</td>\n",
       "      <td>0.480006</td>\n",
       "      <td>6.750062</td>\n",
       "      <td>1.787889</td>\n",
       "      <td>1.792486</td>\n",
       "      <td>1.790152</td>\n",
       "      <td>0.273849</td>\n",
       "      <td>6.767419</td>\n",
       "      <td>6.758607</td>\n",
       "      <td>1.033898</td>\n",
       "      <td>0</td>\n",
       "      <td>10</td>\n",
       "      <td>0.0</td>\n",
       "    </tr>\n",
       "    <tr>\n",
       "      <th>4</th>\n",
       "      <td>FI7</td>\n",
       "      <td>0.473515</td>\n",
       "      <td>6.607889</td>\n",
       "      <td>1.750232</td>\n",
       "      <td>1.756920</td>\n",
       "      <td>1.747443</td>\n",
       "      <td>0.280988</td>\n",
       "      <td>6.633141</td>\n",
       "      <td>6.597363</td>\n",
       "      <td>1.060854</td>\n",
       "      <td>0</td>\n",
       "      <td>10</td>\n",
       "      <td>0.0</td>\n",
       "    </tr>\n",
       "  </tbody>\n",
       "</table>\n",
       "</div>"
      ],
      "text/plain": [
       "  Filename  CO2_density_gcm3  SingleFI_D_km  SingleFI_P_kbar  Mean_MC_P_kbar  \\\n",
       "0      FI1          0.469129       6.595194         1.746869        1.757102   \n",
       "1      FI2          0.422026       5.462309         1.446802        1.449840   \n",
       "2      FI4          0.492548       7.071089         1.872919        1.879410   \n",
       "3      FI5          0.480006       6.750062         1.787889        1.792486   \n",
       "4      FI7          0.473515       6.607889         1.750232        1.756920   \n",
       "\n",
       "   Med_MC_P_kbar  std_dev_MC_P_kbar  Mean_MC_D_km  Med_MC_D_km  \\\n",
       "0       1.743555           0.263821      6.633828     6.582682   \n",
       "1       1.436610           0.218223      5.473781     5.423830   \n",
       "2       1.864517           0.299319      7.095595     7.039367   \n",
       "3       1.790152           0.273849      6.767419     6.758607   \n",
       "4       1.747443           0.280988      6.633141     6.597363   \n",
       "\n",
       "   std_dev_MC_D_km  error_T_K  error_CO2_dens_gcm3  error_crust_dens_kgm3  \n",
       "0         0.996038          0                   10                    0.0  \n",
       "1         0.823888          0                   10                    0.0  \n",
       "2         1.130059          0                   10                    0.0  \n",
       "3         1.033898          0                   10                    0.0  \n",
       "4         1.060854          0                   10                    0.0  "
      ]
     },
     "execution_count": 11,
     "metadata": {},
     "output_type": "execute_result"
    }
   ],
   "source": [
    "MC_Av_rhoonly, MC_All_rhoonly=pf.loop_all_FI_MC(T_K=df['T_C']+273.15,\n",
    "error_CO2_dens=10, error_type_CO2_dens='Perc', error_dist_CO2_dens='normal',\n",
    "                        CO2_density_gcm3=df['Density_g_cm3'],\n",
    "                        sample_ID=df['Sample'],\n",
    "                        crust_dens_kgm3=2700,\n",
    "                        N_dup=1000)\n",
    "MC_Av_rhoonly.head()"
   ]
  },
  {
   "cell_type": "code",
   "execution_count": 12,
   "id": "06689d38-9634-4d4c-9380-47184df4e5a2",
   "metadata": {},
   "outputs": [],
   "source": [
    "FI2_df_rhoonly_All=MC_All_rhoonly.loc[MC_All_rhoonly['Filename']=='FI2']\n",
    "FI2_df_rhoonly_Av=MC_Av_rhoonly.loc[MC_Av_rhoonly['Filename']=='FI2']"
   ]
  },
  {
   "cell_type": "code",
   "execution_count": 13,
   "id": "0cce5d66-6afd-4af9-8053-72ad93762667",
   "metadata": {},
   "outputs": [
    {
     "name": "stdout",
     "output_type": "stream",
     "text": [
      "% error CO$_2$ density\n",
      "0.1023569342007443\n",
      "Std dev of Calculated P\n",
      "0.2182232817645497\n"
     ]
    },
    {
     "data": {
      "image/png": "[encoded data removed]",
      "text/plain": [
       "<Figure size 1000x500 with 2 Axes>"
      ]
     },
     "metadata": {},
     "output_type": "display_data"
    }
   ],
   "source": [
    "fig, (ax1, ax2) = plt.subplots(1, 2, figsize=(10,5))\n",
    "ax1.plot([FI2_input['Density_g_cm3'], \n",
    "          FI2_input['Density_g_cm3']], [0, 300], '-r', label='input T')\n",
    "ax1.hist(FI2_df_rhoonly_All['input_CO2_dens_gcm3'], ec='k')\n",
    "print('% error CO$_2$ density')\n",
    "print(np.nanstd(FI2_df_rhoonly_All['input_CO2_dens_gcm3'])/\n",
    "     np.nanmean(FI2_df_rhoonly_All['input_CO2_dens_gcm3'])\n",
    "     )\n",
    "ax1.set_xlabel('CO$_2$ Density')\n",
    "ax1.legend()\n",
    "\n",
    "ax2.hist(FI2_df_rhoonly_All['Pressure (kbar)'], ec='k');\n",
    "ax2.set_xlabel('Calculated Pressure (kbar)')\n",
    "print('Std dev of Calculated P')\n",
    "print(np.nanstd(FI2_df_rhoonly_All['Pressure (kbar)']))"
   ]
  },
  {
   "cell_type": "markdown",
   "id": "d4d82c7d-3045-4270-bd29-9092a35ee75c",
   "metadata": {},
   "source": [
    "## Simulation varying both temperature and CO$_2$ density\n",
    "- Lets say you think you have +-30K uncertainty in temp, and +-0.02 g/cm3 in density"
   ]
  },
  {
   "cell_type": "code",
   "execution_count": 14,
   "id": "6d28a559-37b2-46e1-a7f4-5a55a0227ba9",
   "metadata": {},
   "outputs": [
    {
     "name": "stdout",
     "output_type": "stream",
     "text": [
      "working on sample number 0\n",
      "working on sample number 20\n"
     ]
    },
    {
     "data": {
      "text/html": [
       "<div>\n",
       "<style scoped>\n",
       "    .dataframe tbody tr th:only-of-type {\n",
       "        vertical-align: middle;\n",
       "    }\n",
       "\n",
       "    .dataframe tbody tr th {\n",
       "        vertical-align: top;\n",
       "    }\n",
       "\n",
       "    .dataframe thead th {\n",
       "        text-align: right;\n",
       "    }\n",
       "</style>\n",
       "<table border=\"1\" class=\"dataframe\">\n",
       "  <thead>\n",
       "    <tr style=\"text-align: right;\">\n",
       "      <th></th>\n",
       "      <th>Filename</th>\n",
       "      <th>CO2_density_gcm3</th>\n",
       "      <th>SingleFI_D_km</th>\n",
       "      <th>SingleFI_P_kbar</th>\n",
       "      <th>Mean_MC_P_kbar</th>\n",
       "      <th>Med_MC_P_kbar</th>\n",
       "      <th>std_dev_MC_P_kbar</th>\n",
       "      <th>Mean_MC_D_km</th>\n",
       "      <th>Med_MC_D_km</th>\n",
       "      <th>std_dev_MC_D_km</th>\n",
       "      <th>error_T_K</th>\n",
       "      <th>error_CO2_dens_gcm3</th>\n",
       "      <th>error_crust_dens_kgm3</th>\n",
       "    </tr>\n",
       "  </thead>\n",
       "  <tbody>\n",
       "    <tr>\n",
       "      <th>0</th>\n",
       "      <td>FI1</td>\n",
       "      <td>0.469129</td>\n",
       "      <td>6.595194</td>\n",
       "      <td>1.746869</td>\n",
       "      <td>1.748507</td>\n",
       "      <td>1.744219</td>\n",
       "      <td>0.125606</td>\n",
       "      <td>6.601379</td>\n",
       "      <td>6.585190</td>\n",
       "      <td>0.474217</td>\n",
       "      <td>30</td>\n",
       "      <td>0.02</td>\n",
       "      <td>0.0</td>\n",
       "    </tr>\n",
       "    <tr>\n",
       "      <th>1</th>\n",
       "      <td>FI2</td>\n",
       "      <td>0.422026</td>\n",
       "      <td>5.462309</td>\n",
       "      <td>1.446802</td>\n",
       "      <td>1.447913</td>\n",
       "      <td>1.444794</td>\n",
       "      <td>0.107463</td>\n",
       "      <td>5.466506</td>\n",
       "      <td>5.454729</td>\n",
       "      <td>0.405721</td>\n",
       "      <td>30</td>\n",
       "      <td>0.02</td>\n",
       "      <td>0.0</td>\n",
       "    </tr>\n",
       "    <tr>\n",
       "      <th>2</th>\n",
       "      <td>FI4</td>\n",
       "      <td>0.492548</td>\n",
       "      <td>7.071089</td>\n",
       "      <td>1.872919</td>\n",
       "      <td>1.866798</td>\n",
       "      <td>1.863754</td>\n",
       "      <td>0.128664</td>\n",
       "      <td>7.047979</td>\n",
       "      <td>7.036487</td>\n",
       "      <td>0.485762</td>\n",
       "      <td>30</td>\n",
       "      <td>0.02</td>\n",
       "      <td>0.0</td>\n",
       "    </tr>\n",
       "    <tr>\n",
       "      <th>3</th>\n",
       "      <td>FI5</td>\n",
       "      <td>0.480006</td>\n",
       "      <td>6.750062</td>\n",
       "      <td>1.787889</td>\n",
       "      <td>1.792917</td>\n",
       "      <td>1.795884</td>\n",
       "      <td>0.129860</td>\n",
       "      <td>6.769045</td>\n",
       "      <td>6.780246</td>\n",
       "      <td>0.490278</td>\n",
       "      <td>30</td>\n",
       "      <td>0.02</td>\n",
       "      <td>0.0</td>\n",
       "    </tr>\n",
       "    <tr>\n",
       "      <th>4</th>\n",
       "      <td>FI7</td>\n",
       "      <td>0.473515</td>\n",
       "      <td>6.607889</td>\n",
       "      <td>1.750232</td>\n",
       "      <td>1.750428</td>\n",
       "      <td>1.750971</td>\n",
       "      <td>0.124763</td>\n",
       "      <td>6.608631</td>\n",
       "      <td>6.610683</td>\n",
       "      <td>0.471036</td>\n",
       "      <td>30</td>\n",
       "      <td>0.02</td>\n",
       "      <td>0.0</td>\n",
       "    </tr>\n",
       "  </tbody>\n",
       "</table>\n",
       "</div>"
      ],
      "text/plain": [
       "  Filename  CO2_density_gcm3  SingleFI_D_km  SingleFI_P_kbar  Mean_MC_P_kbar  \\\n",
       "0      FI1          0.469129       6.595194         1.746869        1.748507   \n",
       "1      FI2          0.422026       5.462309         1.446802        1.447913   \n",
       "2      FI4          0.492548       7.071089         1.872919        1.866798   \n",
       "3      FI5          0.480006       6.750062         1.787889        1.792917   \n",
       "4      FI7          0.473515       6.607889         1.750232        1.750428   \n",
       "\n",
       "   Med_MC_P_kbar  std_dev_MC_P_kbar  Mean_MC_D_km  Med_MC_D_km  \\\n",
       "0       1.744219           0.125606      6.601379     6.585190   \n",
       "1       1.444794           0.107463      5.466506     5.454729   \n",
       "2       1.863754           0.128664      7.047979     7.036487   \n",
       "3       1.795884           0.129860      6.769045     6.780246   \n",
       "4       1.750971           0.124763      6.608631     6.610683   \n",
       "\n",
       "   std_dev_MC_D_km  error_T_K  error_CO2_dens_gcm3  error_crust_dens_kgm3  \n",
       "0         0.474217         30                 0.02                    0.0  \n",
       "1         0.405721         30                 0.02                    0.0  \n",
       "2         0.485762         30                 0.02                    0.0  \n",
       "3         0.490278         30                 0.02                    0.0  \n",
       "4         0.471036         30                 0.02                    0.0  "
      ]
     },
     "execution_count": 14,
     "metadata": {},
     "output_type": "execute_result"
    }
   ],
   "source": [
    "MC_Av_rho_T, MC_All_rho_T=pf.loop_all_FI_MC(T_K=df['T_C']+273.15,\n",
    "error_CO2_dens=0.02, error_type_CO2_dens='Abs', error_dist_CO2_dens='normal',\n",
    "error_T_K=30, error_type_T_K='Abs', error_dist_T_K='normal',\n",
    "CO2_density_gcm3=df['Density_g_cm3'],\n",
    "sample_ID=df['Sample'],\n",
    "crust_dens_kgm3=2700,\n",
    "N_dup=1000)\n",
    "MC_Av_rho_T.head()"
   ]
  },
  {
   "cell_type": "markdown",
   "id": "d50a0cf9-ef85-4311-8a26-ac226770f1df",
   "metadata": {},
   "source": [
    "## Uncertainty in Temp, CO$_2$ and Crustal density\n",
    "- Here we also add a 5% uncertainty in crustal density."
   ]
  },
  {
   "cell_type": "code",
   "execution_count": 15,
   "id": "468944c4-a7d5-434e-9435-e00c68c836ae",
   "metadata": {},
   "outputs": [
    {
     "data": {
      "text/plain": [
       "135.0"
      ]
     },
     "execution_count": 15,
     "metadata": {},
     "output_type": "execute_result"
    }
   ],
   "source": [
    "2700*5/100"
   ]
  },
  {
   "cell_type": "code",
   "execution_count": 16,
   "id": "6c4ce815-29ea-4a95-8a49-ec8134037d7e",
   "metadata": {},
   "outputs": [
    {
     "name": "stdout",
     "output_type": "stream",
     "text": [
      "working on sample number 0\n",
      "working on sample number 20\n"
     ]
    },
    {
     "data": {
      "text/html": [
       "<div>\n",
       "<style scoped>\n",
       "    .dataframe tbody tr th:only-of-type {\n",
       "        vertical-align: middle;\n",
       "    }\n",
       "\n",
       "    .dataframe tbody tr th {\n",
       "        vertical-align: top;\n",
       "    }\n",
       "\n",
       "    .dataframe thead th {\n",
       "        text-align: right;\n",
       "    }\n",
       "</style>\n",
       "<table border=\"1\" class=\"dataframe\">\n",
       "  <thead>\n",
       "    <tr style=\"text-align: right;\">\n",
       "      <th></th>\n",
       "      <th>Filename</th>\n",
       "      <th>CO2_density_gcm3</th>\n",
       "      <th>SingleFI_D_km</th>\n",
       "      <th>SingleFI_P_kbar</th>\n",
       "      <th>Mean_MC_P_kbar</th>\n",
       "      <th>Med_MC_P_kbar</th>\n",
       "      <th>std_dev_MC_P_kbar</th>\n",
       "      <th>Mean_MC_D_km</th>\n",
       "      <th>Med_MC_D_km</th>\n",
       "      <th>std_dev_MC_D_km</th>\n",
       "      <th>error_T_K</th>\n",
       "      <th>error_CO2_dens_gcm3</th>\n",
       "      <th>error_crust_dens_kgm3</th>\n",
       "    </tr>\n",
       "  </thead>\n",
       "  <tbody>\n",
       "    <tr>\n",
       "      <th>0</th>\n",
       "      <td>FI1</td>\n",
       "      <td>0.469129</td>\n",
       "      <td>6.595194</td>\n",
       "      <td>1.746869</td>\n",
       "      <td>1.749498</td>\n",
       "      <td>1.743063</td>\n",
       "      <td>0.128370</td>\n",
       "      <td>6.631994</td>\n",
       "      <td>6.589609</td>\n",
       "      <td>0.580761</td>\n",
       "      <td>30</td>\n",
       "      <td>0.02</td>\n",
       "      <td>135.0</td>\n",
       "    </tr>\n",
       "    <tr>\n",
       "      <th>1</th>\n",
       "      <td>FI2</td>\n",
       "      <td>0.422026</td>\n",
       "      <td>5.462309</td>\n",
       "      <td>1.446802</td>\n",
       "      <td>1.448033</td>\n",
       "      <td>1.444327</td>\n",
       "      <td>0.106412</td>\n",
       "      <td>5.474592</td>\n",
       "      <td>5.466524</td>\n",
       "      <td>0.482107</td>\n",
       "      <td>30</td>\n",
       "      <td>0.02</td>\n",
       "      <td>135.0</td>\n",
       "    </tr>\n",
       "    <tr>\n",
       "      <th>2</th>\n",
       "      <td>FI4</td>\n",
       "      <td>0.492548</td>\n",
       "      <td>7.071089</td>\n",
       "      <td>1.872919</td>\n",
       "      <td>1.886787</td>\n",
       "      <td>1.887132</td>\n",
       "      <td>0.131487</td>\n",
       "      <td>7.147925</td>\n",
       "      <td>7.106300</td>\n",
       "      <td>0.605486</td>\n",
       "      <td>30</td>\n",
       "      <td>0.02</td>\n",
       "      <td>135.0</td>\n",
       "    </tr>\n",
       "    <tr>\n",
       "      <th>3</th>\n",
       "      <td>FI5</td>\n",
       "      <td>0.480006</td>\n",
       "      <td>6.750062</td>\n",
       "      <td>1.787889</td>\n",
       "      <td>1.783231</td>\n",
       "      <td>1.776332</td>\n",
       "      <td>0.124285</td>\n",
       "      <td>6.746225</td>\n",
       "      <td>6.717550</td>\n",
       "      <td>0.566346</td>\n",
       "      <td>30</td>\n",
       "      <td>0.02</td>\n",
       "      <td>135.0</td>\n",
       "    </tr>\n",
       "    <tr>\n",
       "      <th>4</th>\n",
       "      <td>FI7</td>\n",
       "      <td>0.473515</td>\n",
       "      <td>6.607889</td>\n",
       "      <td>1.750232</td>\n",
       "      <td>1.752616</td>\n",
       "      <td>1.749309</td>\n",
       "      <td>0.120689</td>\n",
       "      <td>6.626764</td>\n",
       "      <td>6.604596</td>\n",
       "      <td>0.567620</td>\n",
       "      <td>30</td>\n",
       "      <td>0.02</td>\n",
       "      <td>135.0</td>\n",
       "    </tr>\n",
       "  </tbody>\n",
       "</table>\n",
       "</div>"
      ],
      "text/plain": [
       "  Filename  CO2_density_gcm3  SingleFI_D_km  SingleFI_P_kbar  Mean_MC_P_kbar  \\\n",
       "0      FI1          0.469129       6.595194         1.746869        1.749498   \n",
       "1      FI2          0.422026       5.462309         1.446802        1.448033   \n",
       "2      FI4          0.492548       7.071089         1.872919        1.886787   \n",
       "3      FI5          0.480006       6.750062         1.787889        1.783231   \n",
       "4      FI7          0.473515       6.607889         1.750232        1.752616   \n",
       "\n",
       "   Med_MC_P_kbar  std_dev_MC_P_kbar  Mean_MC_D_km  Med_MC_D_km  \\\n",
       "0       1.743063           0.128370      6.631994     6.589609   \n",
       "1       1.444327           0.106412      5.474592     5.466524   \n",
       "2       1.887132           0.131487      7.147925     7.106300   \n",
       "3       1.776332           0.124285      6.746225     6.717550   \n",
       "4       1.749309           0.120689      6.626764     6.604596   \n",
       "\n",
       "   std_dev_MC_D_km  error_T_K  error_CO2_dens_gcm3  error_crust_dens_kgm3  \n",
       "0         0.580761         30                 0.02                  135.0  \n",
       "1         0.482107         30                 0.02                  135.0  \n",
       "2         0.605486         30                 0.02                  135.0  \n",
       "3         0.566346         30                 0.02                  135.0  \n",
       "4         0.567620         30                 0.02                  135.0  "
      ]
     },
     "execution_count": 16,
     "metadata": {},
     "output_type": "execute_result"
    }
   ],
   "source": [
    "MC_Av_rho_T_CD, MC_All_rho_T_CD=pf.loop_all_FI_MC(T_K=df['T_C']+273.15,\n",
    "error_CO2_dens=0.02, error_type_CO2_dens='Abs', error_dist_CO2_dens='normal',\n",
    "error_T_K=30, error_type_T_K='Abs', error_dist_T_K='normal',\n",
    "crust_dens_kgm3=2700,\n",
    "error_crust_dens=5, error_type_crust_dens='Perc', error_dist_crust_dens='normal',                                            \n",
    "CO2_density_gcm3=df['Density_g_cm3'],\n",
    "sample_ID=df['Sample'],\n",
    "N_dup=1000)\n",
    "MC_Av_rho_T_CD.head()"
   ]
  },
  {
   "cell_type": "code",
   "execution_count": 28,
   "id": "61a2192e-ee6e-4f43-874b-f9b57c68bcfb",
   "metadata": {},
   "outputs": [
    {
     "data": {
      "image/png": "[encoded data removed]",
      "text/plain": [
       "<Figure size 1000x500 with 2 Axes>"
      ]
     },
     "metadata": {},
     "output_type": "display_data"
    }
   ],
   "source": [
    "fig, (ax1, ax2) = plt.subplots(1, 2, figsize=(10,5))\n",
    "\n",
    "\n",
    "ax2.errorbar(df['Host_Fo_content'], \n",
    "             MC_Av_rho_T_CD['SingleFI_D_km'],\n",
    "             xerr=0, yerr=MC_Av_rho_T_CD['std_dev_MC_D_km'],\n",
    "             fmt='o', ecolor='b', elinewidth=0.8, mfc='red', ms=5, mec='b', capsize=5,\n",
    "            label='T, CO$_2$+Crustal Density')\n",
    "ax2.set_xlabel('Fo content')\n",
    "ax2.set_ylabel('Depth (km)')\n",
    "\n",
    "\n",
    "ax1.errorbar(df['Host_Fo_content'], \n",
    "             MC_Av_rho_T['SingleFI_P_kbar'],\n",
    "             xerr=0, yerr=MC_Av_rho_T['std_dev_MC_P_kbar'],\n",
    "             fmt='o', ecolor='red', elinewidth=0.8, mfc='red', ms=5, mec='k', capsize=5,\n",
    "             label='Temp and density')\n",
    "\n",
    "ax1.set_xlabel('Fo content')\n",
    "ax1.set_ylabel('Pressure (kbar)')\n",
    "\n",
    "ax2.errorbar(df['Host_Fo_content'], \n",
    "             MC_Av_rho_T['SingleFI_D_km'],\n",
    "             xerr=0, yerr=MC_Av_rho_T['std_dev_MC_D_km'],\n",
    "             fmt='o', ecolor='red', elinewidth=0.8, mfc='red', ms=5, mec='c', capsize=5)\n",
    "ax2.set_xlabel('Fo content')\n",
    "ax2.set_ylabel('Depth (km)')\n",
    "\n",
    "\n",
    "ax1.errorbar(df['Host_Fo_content'], \n",
    "             MC_Av_Tonly['SingleFI_P_kbar'],\n",
    "             xerr=0, yerr=MC_Av_Tonly['std_dev_MC_P_kbar'],\n",
    "             fmt='x', ecolor='cyan', elinewidth=0.8, mfc='cyan', ms=2, mec='c', capsize=5,\n",
    "            label='T only')\n",
    "\n",
    "ax1.set_xlabel('Fo content')\n",
    "ax1.set_ylabel('Pressure (kbar)')\n",
    "\n",
    "ax2.errorbar(df['Host_Fo_content'], \n",
    "             MC_Av_Tonly['SingleFI_D_km'],\n",
    "             xerr=0, yerr=MC_Av_Tonly['std_dev_MC_D_km'],\n",
    "             fmt='x', ecolor='cyan', elinewidth=0.8, mfc='cyan', ms=2, mec='k', capsize=5)\n",
    "ax1.set_xlabel('Fo content')\n",
    "ax2.set_ylabel('Depth (km)')\n",
    "ax2.legend()\n",
    "ax1.legend()\n",
    "ax1.set_ylim([0, 2.5])\n",
    "ax2.set_ylim([0, 8])\n",
    "ax1.invert_yaxis()\n",
    "ax2.invert_yaxis()"
   ]
  }
 ],
 "metadata": {
  "kernelspec": {
   "display_name": "Python 3 (ipykernel)",
   "language": "python",
   "name": "python3"
  },
  "language_info": {
   "codemirror_mode": {
    "name": "ipython",
    "version": 3
   },
   "file_extension": ".py",
   "mimetype": "text/x-python",
   "name": "python",
   "nbconvert_exporter": "python",
   "pygments_lexer": "ipython3",
   "version": "3.9.13"
  }
 },
 "nbformat": 4,
 "nbformat_minor": 5
}
