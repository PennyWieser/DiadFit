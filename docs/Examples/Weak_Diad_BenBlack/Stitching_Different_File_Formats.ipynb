{
 "cells": [
  {
   "cell_type": "code",
   "execution_count": 1,
   "id": "4611a657-d72b-4d24-898a-489495f53963",
   "metadata": {},
   "outputs": [],
   "source": [
    "import numpy as np\n",
    "import pandas as pd\n",
    "import matplotlib.pyplot as plt"
   ]
  },
  {
   "cell_type": "code",
   "execution_count": 14,
   "id": "b5d754f8-fb3c-4d59-81d2-cc668b6506d2",
   "metadata": {},
   "outputs": [
    {
     "data": {
      "text/plain": [
       "'0.0.13'"
      ]
     },
     "execution_count": 14,
     "metadata": {},
     "output_type": "execute_result"
    }
   ],
   "source": [
    "import DiadFit as pf\n",
    "pf.__version__"
   ]
  },
  {
   "cell_type": "code",
   "execution_count": 15,
   "id": "1e372ac6-495b-46cb-86ac-37e63d7e5e63",
   "metadata": {},
   "outputs": [],
   "source": [
    "saved_paths=r'G:\\My Drive\\Berkeley_NEW\\DiadFit_outer\\docs\\Examples\\Weak_Diad_BenBlack\\PeakFitCSVs'"
   ]
  },
  {
   "cell_type": "code",
   "execution_count": null,
   "id": "e0ae6ed0-961d-4739-9a32-46aba6e30e93",
   "metadata": {},
   "outputs": [],
   "source": []
  },
  {
   "cell_type": "code",
   "execution_count": 18,
   "id": "5532cf11-e7e7-433b-ae78-8ba72894414d",
   "metadata": {},
   "outputs": [],
   "source": [
    "from os import listdir\n",
    "from os.path import isfile, join\n",
    "\n",
    "def get_saved_files(path, ID_str='PeakFit', file_ext='.csv', exclude_str='png', sort=True):\n",
    "    \"\"\" This function takes a user path, and extracts all files which contain the ID_str\n",
    "\n",
    "    Parameters\n",
    "    -----------\n",
    "\n",
    "    path: str\n",
    "        Folder user wishes to read data from\n",
    "    sort: bool\n",
    "        If true, sorts files alphabetically\n",
    "    ID_str: str\n",
    "        Finds all files containing this string (e.g. Ne, NE)\n",
    "    exclude_str: str\n",
    "        Excludes files with this string in the name\n",
    "    file_ext: str\n",
    "        Gets all files of this format only (e.g. txt)\n",
    "\n",
    "\n",
    "    Returns\n",
    "    -----------\n",
    "    Returns file names as a list.\n",
    "\n",
    "    \"\"\"\n",
    "    Allfiles = [f for f in listdir(path) if isfile(join(path, f))]\n",
    "    saved_files=[item for item in Allfiles if ID_str in item and file_ext in item and exclude_str not in item]\n",
    "\n",
    "    if sort is True:\n",
    "        saved_files=sorted(saved_files)\n",
    "    return saved_files\n"
   ]
  },
  {
   "cell_type": "code",
   "execution_count": null,
   "id": "7298f2ba-0d6b-406d-9932-5f228aaa9978",
   "metadata": {},
   "outputs": [],
   "source": []
  },
  {
   "cell_type": "code",
   "execution_count": 20,
   "id": "dffb335c-298d-4350-8f9c-83fd840185bb",
   "metadata": {},
   "outputs": [
    {
     "data": {
      "text/plain": [
       "['008_K13_2_PeakFit.csv']"
      ]
     },
     "execution_count": 20,
     "metadata": {},
     "output_type": "execute_result"
    }
   ],
   "source": [
    "path=r'G:\\My Drive\\Berkeley_NEW\\DiadFit_outer\\docs\\Examples\\Weak_Diad_BenBlack\\PeakFitCSVs'\n",
    "get_saved_files(path, ID_str='PeakFit', file_ext='.csv')"
   ]
  },
  {
   "cell_type": "code",
   "execution_count": null,
   "id": "a6a44452-eae2-45c9-b83b-cac40bfec67c",
   "metadata": {},
   "outputs": [],
   "source": []
  }
 ],
 "metadata": {
  "kernelspec": {
   "display_name": "Python 3 (ipykernel)",
   "language": "python",
   "name": "python3"
  },
  "language_info": {
   "codemirror_mode": {
    "name": "ipython",
    "version": 3
   },
   "file_extension": ".py",
   "mimetype": "text/x-python",
   "name": "python",
   "nbconvert_exporter": "python",
   "pygments_lexer": "ipython3",
   "version": "3.9.13"
  }
 },
 "nbformat": 4,
 "nbformat_minor": 5
}
