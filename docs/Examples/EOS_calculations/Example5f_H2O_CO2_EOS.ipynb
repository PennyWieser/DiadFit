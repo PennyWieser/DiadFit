{
 "cells": [
  {
   "cell_type": "markdown",
   "metadata": {},
   "source": [
    "# H2O-CO2 EOS calculations\n",
    "- DiadFit contains the EOS of Duan and Zhang (2006)\n",
    "- This code was converted from the C code from  Yoshimura et al. (2023) - we thank them for making such a clear description of the mistakes in the original Duan and Zhang paper!\n",
    "https://doi.org/10.2465/jmps.221224a\n",
    "- There are two main types of calculations you might want to do with a mixed EOS. \n",
    "1) If you work on fluid inclusions, its nice to assume they are a pure CO$_2$ fluid. But in reality, you probably have some H$_2$O in the fluid phase. You can calculate a pressure for a given XH2O value, assuming the H has been lost .\n",
    "1) If you are an experimentalist, you probably know P and T, and you have some idea of XH2O. You might want to calculate molar volumes, compressabilities, activities and fugacities. "
   ]
  },
  {
   "cell_type": "code",
   "execution_count": 1,
   "metadata": {},
   "outputs": [],
   "source": [
    "# If you havent already - install DiadFit. You need v.81+ to do these calcs.\n",
    "#!pip install DiadFit --upgrade "
   ]
  },
  {
   "cell_type": "markdown",
   "metadata": {},
   "source": [
    "- If you havent installed CoolProp, you will need that package too\n",
    "If you use conda, in your command line run:\n",
    "conda install -c conda-forge coolprop"
   ]
  },
  {
   "cell_type": "code",
   "execution_count": 2,
   "metadata": {},
   "outputs": [
    {
     "data": {
      "text/plain": [
       "'0.0.90'"
      ]
     },
     "execution_count": 2,
     "metadata": {},
     "output_type": "execute_result"
    }
   ],
   "source": [
    "import DiadFit as pf\n",
    "import numpy as np\n",
    "import pandas as pd\n",
    "import matplotlib.pyplot as plt\n",
    "import math\n",
    "pf.__version__"
   ]
  },
  {
   "cell_type": "markdown",
   "metadata": {},
   "source": [
    "## 1. Correcting fluid inclusions for H2O\n",
    "- The theory for this is layed out in Hansteen and Klugel (2008). In all but the most anhydrous, deep systems, the exsolved fluid phase will contain some H2O. It is generally assumed that this is lost from the fluid inclusion, so you are left with CO2 you have measured by Raman spectroscopy\n",
    "- First, you have to calculate the bulk density of the original CO2+H2O mix. Then, using this density, you can use the mixed EOS to calculate pressure. Here, we compare this to pure CO2 EOS. \n",
    " - You can make 2 different end member assumptions - either all H is lost or the H exists as a film. The math is layed out in this notebook incase of interest! \n"
   ]
  },
  {
   "cell_type": "markdown",
   "metadata": {},
   "source": [
    "### 1a: Correcting a single FI composition\n",
    "- Say you measured a CO2 density of 0.3, and you think XH2O=0.1 (perhaps based on melt inclusion data - you can get XH2O from VESical)\n",
    "- Lets compare the calculations"
   ]
  },
  {
   "cell_type": "code",
   "execution_count": 4,
   "metadata": {},
   "outputs": [
    {
     "data": {
      "text/html": [
       "<div>\n",
       "<style scoped>\n",
       "    .dataframe tbody tr th:only-of-type {\n",
       "        vertical-align: middle;\n",
       "    }\n",
       "\n",
       "    .dataframe tbody tr th {\n",
       "        vertical-align: top;\n",
       "    }\n",
       "\n",
       "    .dataframe thead th {\n",
       "        text-align: right;\n",
       "    }\n",
       "</style>\n",
       "<table border=\"1\" class=\"dataframe\">\n",
       "  <thead>\n",
       "    <tr style=\"text-align: right;\">\n",
       "      <th></th>\n",
       "      <th>P_kbar_pureCO2_SW96</th>\n",
       "      <th>P_kbar_pureCO2_SP94</th>\n",
       "      <th>P_kbar_pureCO2_DZ06</th>\n",
       "      <th>P_kbar_mixCO2_DZ06_Hloss</th>\n",
       "      <th>P_kbar_mixCO2_DZ06_no_Hloss</th>\n",
       "      <th>P Mix_Hloss/P Pure DZ06</th>\n",
       "      <th>P Mix_no_Hloss/P Pure DZ06</th>\n",
       "      <th>rho_mix_calc_Hloss</th>\n",
       "      <th>rho_mix_calc_noHloss</th>\n",
       "      <th>CO2_dens_gcm3</th>\n",
       "      <th>T_K</th>\n",
       "      <th>XH2O</th>\n",
       "    </tr>\n",
       "  </thead>\n",
       "  <tbody>\n",
       "    <tr>\n",
       "      <th>0</th>\n",
       "      <td>1.055698</td>\n",
       "      <td>1.070557</td>\n",
       "      <td>1.052613</td>\n",
       "      <td>1.188251</td>\n",
       "      <td>1.166944</td>\n",
       "      <td>1.128859</td>\n",
       "      <td>1.108617</td>\n",
       "      <td>0.313636</td>\n",
       "      <td>0.309391</td>\n",
       "      <td>0.3</td>\n",
       "      <td>1473.15</td>\n",
       "      <td>0.1</td>\n",
       "    </tr>\n",
       "  </tbody>\n",
       "</table>\n",
       "</div>"
      ],
      "text/plain": [
       "   P_kbar_pureCO2_SW96  P_kbar_pureCO2_SP94  P_kbar_pureCO2_DZ06  \\\n",
       "0             1.055698             1.070557             1.052613   \n",
       "\n",
       "   P_kbar_mixCO2_DZ06_Hloss  P_kbar_mixCO2_DZ06_no_Hloss  \\\n",
       "0                  1.188251                     1.166944   \n",
       "\n",
       "   P Mix_Hloss/P Pure DZ06  P Mix_no_Hloss/P Pure DZ06  rho_mix_calc_Hloss  \\\n",
       "0                 1.128859                    1.108617            0.313636   \n",
       "\n",
       "   rho_mix_calc_noHloss  CO2_dens_gcm3      T_K  XH2O  \n",
       "0              0.309391            0.3  1473.15   0.1  "
      ]
     },
     "execution_count": 4,
     "metadata": {},
     "output_type": "execute_result"
    }
   ],
   "source": [
    "Diff_EOS=pf.calculate_entrapment_P_XH2O(XH2O=0.1, CO2_dens_gcm3=0.3, T_K=1200+273.15, T_K_ambient=37+273.15 )\n",
    "Diff_EOS"
   ]
  },
  {
   "cell_type": "markdown",
   "metadata": {},
   "source": [
    "- We can see that the mixed fluid pressure is ~13% higher than doing the pure calculation if H is lost, and 12% higher if H2O is in a film"
   ]
  },
  {
   "cell_type": "markdown",
   "metadata": {},
   "source": [
    "### 1b - Visualizing changes across a wider space\n",
    "- You dont have to feed a single value into this function, you could do an entire spreadsheet of values. \n",
    "- Here, lets do calculations for different densities for a range of XH2O values"
   ]
  },
  {
   "cell_type": "code",
   "execution_count": 57,
   "metadata": {},
   "outputs": [],
   "source": [
    "XH2O=np.linspace(0, 0.2, 50) # 50 evenly spaced XH2O values\n",
    "\n",
    "df_01=pf.calculate_entrapment_P_XH2O(XH2O=XH2O, CO2_dens_gcm3=0.1, T_K=1200+273.15)\n",
    "df_02=pf.calculate_entrapment_P_XH2O(XH2O=XH2O, CO2_dens_gcm3=0.2, T_K=1200+273.15)\n",
    "df_03=pf.calculate_entrapment_P_XH2O(XH2O=XH2O, CO2_dens_gcm3=0.3, T_K=1200+273.15)\n",
    "df_05=pf.calculate_entrapment_P_XH2O(XH2O=XH2O, CO2_dens_gcm3=0.5, T_K=1200+273.15)\n",
    "df_07=pf.calculate_entrapment_P_XH2O(XH2O=XH2O, CO2_dens_gcm3=0.7, T_K=1200+273.15)\n",
    "df_09=pf.calculate_entrapment_P_XH2O(XH2O=XH2O, CO2_dens_gcm3=0.9, T_K=1200+273.15)\n",
    "df_11=pf.calculate_entrapment_P_XH2O(XH2O=XH2O, CO2_dens_gcm3=1.1, T_K=1200+273.15)\n",
    "\n",
    "# Create a dictionary to hold your density values and corresponding dataframe columns directly\n",
    "densities = {\n",
    "    0.1: df_01['P Mix_Hloss/P Pure DZ06'],\n",
    "    0.2: df_02['P Mix_Hloss/P Pure DZ06'],\n",
    "    0.3: df_03['P Mix_Hloss/P Pure DZ06'],\n",
    "    0.5: df_05['P Mix_Hloss/P Pure DZ06'],\n",
    "    0.7: df_07['P Mix_Hloss/P Pure DZ06'],\n",
    "    0.9: df_09['P Mix_Hloss/P Pure DZ06'],\n",
    "    1.1: df_11['P Mix_Hloss/P Pure DZ06'],\n",
    "}"
   ]
  },
  {
   "cell_type": "markdown",
   "metadata": {},
   "source": [
    "of course, you can write this in a loop if you want!"
   ]
  },
  {
   "cell_type": "code",
   "execution_count": 58,
   "metadata": {},
   "outputs": [],
   "source": [
    "# Define CO2 densities to loop over\n",
    "CO2_densities = [0.1, 0.2, 0.3, 0.5, 0.7, 0.9, 1.1]\n",
    "\n",
    "# Initialize a dictionary to hold the dataframes\n",
    "dfs = {}\n",
    "\n",
    "# Loop over CO2 densities\n",
    "for density in CO2_densities:\n",
    "    # Calculate entrapment_P_XH2O for each CO2 density\n",
    "    df = pf.calculate_entrapment_P_XH2O(XH2O=XH2O, CO2_dens_gcm3=density, T_K=1200 + 273.15)\n",
    "    # Store the dataframe in the dictionary with a key indicating the CO2 density\n",
    "    densities[density] = df['P Mix_Hloss/P Pure DZ06']"
   ]
  },
  {
   "cell_type": "markdown",
   "metadata": {},
   "source": [
    "### Lets make a nice plot showing this"
   ]
  },
  {
   "cell_type": "code",
   "execution_count": 59,
   "metadata": {},
   "outputs": [
    {
     "name": "stdout",
     "output_type": "stream",
     "text": [
      "0.1\n",
      "0.2\n",
      "0.3\n",
      "0.5\n",
      "0.7\n",
      "0.9\n",
      "1.1\n"
     ]
    },
    {
     "data": {
      "image/png": "[encoded data removed]",
      "text/plain": [
       "<Figure size 500x400 with 1 Axes>"
      ]
     },
     "metadata": {},
     "output_type": "display_data"
    }
   ],
   "source": [
    "import matplotlib.pyplot as plt\n",
    "import matplotlib.colors as mcolors\n",
    "\n",
    "# Create figure and axes\n",
    "fig, ax1 = plt.subplots(1, 1, figsize=(5, 4))\n",
    "\n",
    "# Choose a colormap\n",
    "cmap = plt.cm.plasma_r\n",
    "\n",
    "# Create a Normalize object for your densities\n",
    "norm = mcolors.Normalize(vmin=min(densities.keys()), vmax=max(densities.keys()))\n",
    "\n",
    "# Create a ScalarMappable object with the normalization and colormap\n",
    "sm = plt.cm.ScalarMappable(cmap=cmap, norm=norm)\n",
    "sm.set_array([])\n",
    "\n",
    "# Plot each line on ax1 using the density as the key to retrieve the corresponding dataframe column\n",
    "for density, data in densities.items():\n",
    "    print(density)\n",
    "    ax1.plot(XH2O, data, label=f'{density} g/cm$^3$', color=cmap(norm(density)))\n",
    "\n",
    "ax1.legend()\n",
    "ax1.set_xlabel('X$_{H_{2}O}^{molar}$')\n",
    "ax1.set_ylabel('P Mix EOS/P Pure EOS')\n",
    "#fig.colorbar(sm, ax=ax1, label='Density (g/cm$^3$)')\n",
    "ax1.set_xticks([0, 0.05, 0.1, 0.15, 0.2])\n",
    "ax1.set_xlim([0, 0.2])\n",
    "ax1.set_ylim([1, 1.5])\n",
    "plt.show()\n",
    "fig.savefig('H2OCO2.png', dpi=200)\n"
   ]
  },
  {
   "cell_type": "markdown",
   "metadata": {},
   "source": [
    "## 1c: Calculations on an entire spreadsheet\n",
    "- Lets say to start with you want to apply a correction for a constant XH2O to all fluid inclusion densities"
   ]
  },
  {
   "cell_type": "code",
   "execution_count": 60,
   "metadata": {},
   "outputs": [
    {
     "data": {
      "text/html": [
       "<div>\n",
       "<style scoped>\n",
       "    .dataframe tbody tr th:only-of-type {\n",
       "        vertical-align: middle;\n",
       "    }\n",
       "\n",
       "    .dataframe tbody tr th {\n",
       "        vertical-align: top;\n",
       "    }\n",
       "\n",
       "    .dataframe thead th {\n",
       "        text-align: right;\n",
       "    }\n",
       "</style>\n",
       "<table border=\"1\" class=\"dataframe\">\n",
       "  <thead>\n",
       "    <tr style=\"text-align: right;\">\n",
       "      <th></th>\n",
       "      <th>Sample</th>\n",
       "      <th>Density_g_cm3</th>\n",
       "      <th>Temp in C</th>\n",
       "    </tr>\n",
       "  </thead>\n",
       "  <tbody>\n",
       "    <tr>\n",
       "      <th>0</th>\n",
       "      <td>FI1</td>\n",
       "      <td>0.1</td>\n",
       "      <td>1100</td>\n",
       "    </tr>\n",
       "    <tr>\n",
       "      <th>1</th>\n",
       "      <td>FI2</td>\n",
       "      <td>0.4</td>\n",
       "      <td>1200</td>\n",
       "    </tr>\n",
       "    <tr>\n",
       "      <th>2</th>\n",
       "      <td>FI3</td>\n",
       "      <td>0.7</td>\n",
       "      <td>1150</td>\n",
       "    </tr>\n",
       "    <tr>\n",
       "      <th>3</th>\n",
       "      <td>FI4</td>\n",
       "      <td>1.1</td>\n",
       "      <td>1200</td>\n",
       "    </tr>\n",
       "    <tr>\n",
       "      <th>4</th>\n",
       "      <td>FI5</td>\n",
       "      <td>1.5</td>\n",
       "      <td>1300</td>\n",
       "    </tr>\n",
       "  </tbody>\n",
       "</table>\n",
       "</div>"
      ],
      "text/plain": [
       "  Sample  Density_g_cm3  Temp in C\n",
       "0    FI1            0.1       1100\n",
       "1    FI2            0.4       1200\n",
       "2    FI3            0.7       1150\n",
       "3    FI4            1.1       1200\n",
       "4    FI5            1.5       1300"
      ]
     },
     "execution_count": 60,
     "metadata": {},
     "output_type": "execute_result"
    }
   ],
   "source": [
    "# Load in the excel spreadsheet\n",
    "# Download it here - https://github.com/PennyWieser/DiadFit/blob/main/docs/Examples/EOS_calculations/FI_densities.xlsx\n",
    "df=pd.read_excel('FI_densities.xlsx')\n",
    "df.head()"
   ]
  },
  {
   "cell_type": "code",
   "execution_count": 61,
   "metadata": {},
   "outputs": [
    {
     "data": {
      "text/html": [
       "<div>\n",
       "<style scoped>\n",
       "    .dataframe tbody tr th:only-of-type {\n",
       "        vertical-align: middle;\n",
       "    }\n",
       "\n",
       "    .dataframe tbody tr th {\n",
       "        vertical-align: top;\n",
       "    }\n",
       "\n",
       "    .dataframe thead th {\n",
       "        text-align: right;\n",
       "    }\n",
       "</style>\n",
       "<table border=\"1\" class=\"dataframe\">\n",
       "  <thead>\n",
       "    <tr style=\"text-align: right;\">\n",
       "      <th></th>\n",
       "      <th>P_kbar_pureCO2_SW96</th>\n",
       "      <th>P_kbar_pureCO2_SP94</th>\n",
       "      <th>P_kbar_pureCO2_DZ06</th>\n",
       "      <th>P_kbar_mixCO2_DZ06_Hloss</th>\n",
       "      <th>P_kbar_mixCO2_DZ06_no_Hloss</th>\n",
       "      <th>P Mix_Hloss/P Pure DZ06</th>\n",
       "      <th>P Mix_no_Hloss/P Pure DZ06</th>\n",
       "      <th>rho_mix_calc_Hloss</th>\n",
       "      <th>rho_mix_calc_noHloss</th>\n",
       "      <th>CO2_dens_gcm3</th>\n",
       "      <th>T_K</th>\n",
       "      <th>XH2O</th>\n",
       "    </tr>\n",
       "  </thead>\n",
       "  <tbody>\n",
       "    <tr>\n",
       "      <th>0</th>\n",
       "      <td>0.218732</td>\n",
       "      <td>0.217395</td>\n",
       "      <td>0.218748</td>\n",
       "      <td>0.242265</td>\n",
       "      <td>0.241574</td>\n",
       "      <td>1.107509</td>\n",
       "      <td>1.104353</td>\n",
       "      <td>0.104545</td>\n",
       "      <td>0.104263</td>\n",
       "      <td>0.1</td>\n",
       "      <td>1100</td>\n",
       "      <td>0.1</td>\n",
       "    </tr>\n",
       "    <tr>\n",
       "      <th>1</th>\n",
       "      <td>1.230950</td>\n",
       "      <td>1.249353</td>\n",
       "      <td>1.227782</td>\n",
       "      <td>1.388440</td>\n",
       "      <td>1.354581</td>\n",
       "      <td>1.130852</td>\n",
       "      <td>1.103275</td>\n",
       "      <td>0.418182</td>\n",
       "      <td>0.411191</td>\n",
       "      <td>0.4</td>\n",
       "      <td>1200</td>\n",
       "      <td>0.1</td>\n",
       "    </tr>\n",
       "    <tr>\n",
       "      <th>2</th>\n",
       "      <td>2.965314</td>\n",
       "      <td>3.003832</td>\n",
       "      <td>2.981447</td>\n",
       "      <td>3.464521</td>\n",
       "      <td>3.258604</td>\n",
       "      <td>1.162027</td>\n",
       "      <td>1.092960</td>\n",
       "      <td>0.731818</td>\n",
       "      <td>0.709627</td>\n",
       "      <td>0.7</td>\n",
       "      <td>1150</td>\n",
       "      <td>0.1</td>\n",
       "    </tr>\n",
       "    <tr>\n",
       "      <th>3</th>\n",
       "      <td>8.841732</td>\n",
       "      <td>8.826510</td>\n",
       "      <td>9.107578</td>\n",
       "      <td>11.291880</td>\n",
       "      <td>9.736771</td>\n",
       "      <td>1.239833</td>\n",
       "      <td>1.069085</td>\n",
       "      <td>1.150000</td>\n",
       "      <td>1.096681</td>\n",
       "      <td>1.1</td>\n",
       "      <td>1200</td>\n",
       "      <td>0.1</td>\n",
       "    </tr>\n",
       "    <tr>\n",
       "      <th>4</th>\n",
       "      <td>23.436505</td>\n",
       "      <td>24.924885</td>\n",
       "      <td>29.177486</td>\n",
       "      <td>37.972866</td>\n",
       "      <td>30.395512</td>\n",
       "      <td>1.301444</td>\n",
       "      <td>1.041745</td>\n",
       "      <td>1.568182</td>\n",
       "      <td>1.482750</td>\n",
       "      <td>1.5</td>\n",
       "      <td>1300</td>\n",
       "      <td>0.1</td>\n",
       "    </tr>\n",
       "  </tbody>\n",
       "</table>\n",
       "</div>"
      ],
      "text/plain": [
       "   P_kbar_pureCO2_SW96  P_kbar_pureCO2_SP94  P_kbar_pureCO2_DZ06  \\\n",
       "0             0.218732             0.217395             0.218748   \n",
       "1             1.230950             1.249353             1.227782   \n",
       "2             2.965314             3.003832             2.981447   \n",
       "3             8.841732             8.826510             9.107578   \n",
       "4            23.436505            24.924885            29.177486   \n",
       "\n",
       "   P_kbar_mixCO2_DZ06_Hloss  P_kbar_mixCO2_DZ06_no_Hloss  \\\n",
       "0                  0.242265                     0.241574   \n",
       "1                  1.388440                     1.354581   \n",
       "2                  3.464521                     3.258604   \n",
       "3                 11.291880                     9.736771   \n",
       "4                 37.972866                    30.395512   \n",
       "\n",
       "   P Mix_Hloss/P Pure DZ06  P Mix_no_Hloss/P Pure DZ06  rho_mix_calc_Hloss  \\\n",
       "0                 1.107509                    1.104353            0.104545   \n",
       "1                 1.130852                    1.103275            0.418182   \n",
       "2                 1.162027                    1.092960            0.731818   \n",
       "3                 1.239833                    1.069085            1.150000   \n",
       "4                 1.301444                    1.041745            1.568182   \n",
       "\n",
       "   rho_mix_calc_noHloss  CO2_dens_gcm3   T_K  XH2O  \n",
       "0              0.104263            0.1  1100   0.1  \n",
       "1              0.411191            0.4  1200   0.1  \n",
       "2              0.709627            0.7  1150   0.1  \n",
       "3              1.096681            1.1  1200   0.1  \n",
       "4              1.482750            1.5  1300   0.1  "
      ]
     },
     "execution_count": 61,
     "metadata": {},
     "output_type": "execute_result"
    }
   ],
   "source": [
    "# Lets perform a calculation for 10 mol% H2O (A mol fraction of 0.1)\n",
    "df_10perc=pf.calculate_entrapment_P_XH2O(XH2O=0.1, CO2_dens_gcm3=df['Density_g_cm3'], T_K=df['Temp in C'], T_K_ambient=37+273.15)\n",
    "df_10perc"
   ]
  },
  {
   "cell_type": "markdown",
   "metadata": {},
   "source": [
    "## But this isnt realistic - we know that XH2O will vary as a function of pressure, getting higher for the shallower pressure inclusions. \n",
    "- if you have melt inclusions for your system, you could use saturation pressures calculated in VESical, which returns XH2O, to determine how XH2O varies as a function of pressure\n",
    "- Here, we load in melt inclusion data from the 2018 eruption of Kilauea, where XH2O was calculated using MagmaSat"
   ]
  },
  {
   "cell_type": "code",
   "execution_count": 62,
   "metadata": {},
   "outputs": [
    {
     "data": {
      "text/html": [
       "<div>\n",
       "<style scoped>\n",
       "    .dataframe tbody tr th:only-of-type {\n",
       "        vertical-align: middle;\n",
       "    }\n",
       "\n",
       "    .dataframe tbody tr th {\n",
       "        vertical-align: top;\n",
       "    }\n",
       "\n",
       "    .dataframe thead th {\n",
       "        text-align: right;\n",
       "    }\n",
       "</style>\n",
       "<table border=\"1\" class=\"dataframe\">\n",
       "  <thead>\n",
       "    <tr style=\"text-align: right;\">\n",
       "      <th></th>\n",
       "      <th>Sat P (Bars)</th>\n",
       "      <th>XCO2 (molar)</th>\n",
       "    </tr>\n",
       "  </thead>\n",
       "  <tbody>\n",
       "    <tr>\n",
       "      <th>0</th>\n",
       "      <td>310</td>\n",
       "      <td>0.959107</td>\n",
       "    </tr>\n",
       "    <tr>\n",
       "      <th>1</th>\n",
       "      <td>360</td>\n",
       "      <td>0.963423</td>\n",
       "    </tr>\n",
       "    <tr>\n",
       "      <th>2</th>\n",
       "      <td>430</td>\n",
       "      <td>0.968782</td>\n",
       "    </tr>\n",
       "    <tr>\n",
       "      <th>3</th>\n",
       "      <td>970</td>\n",
       "      <td>0.986911</td>\n",
       "    </tr>\n",
       "    <tr>\n",
       "      <th>4</th>\n",
       "      <td>600</td>\n",
       "      <td>0.978391</td>\n",
       "    </tr>\n",
       "  </tbody>\n",
       "</table>\n",
       "</div>"
      ],
      "text/plain": [
       "   Sat P (Bars)  XCO2 (molar)\n",
       "0           310      0.959107\n",
       "1           360      0.963423\n",
       "2           430      0.968782\n",
       "3           970      0.986911\n",
       "4           600      0.978391"
      ]
     },
     "execution_count": 62,
     "metadata": {},
     "output_type": "execute_result"
    }
   ],
   "source": [
    "# Download excel file here! https://github.com/PennyWieser/DiadFit/blob/main/docs/Examples/EOS_calculations/FI_densities.xlsx\n",
    "df_MI=pd.read_excel('FI_densities.xlsx', sheet_name='MI_data')\n",
    "df_MI.head()"
   ]
  },
  {
   "cell_type": "markdown",
   "metadata": {},
   "source": [
    "- Lets see how XH2O varies with pressure"
   ]
  },
  {
   "cell_type": "code",
   "execution_count": 63,
   "metadata": {},
   "outputs": [
    {
     "data": {
      "text/plain": [
       "<matplotlib.legend.Legend at 0x1f18137acd0>"
      ]
     },
     "execution_count": 63,
     "metadata": {},
     "output_type": "execute_result"
    },
    {
     "data": {
      "image/png": "[encoded data removed]",
      "text/plain": [
       "<Figure size 1000x500 with 2 Axes>"
      ]
     },
     "metadata": {},
     "output_type": "display_data"
    }
   ],
   "source": [
    "x=df_MI['Sat P (Bars)']/10\n",
    "y=1-df_MI['XCO2 (molar)']\n",
    "fig, (ax1, ax2) = plt.subplots(1, 2, figsize=(10,5))\n",
    "ax1.plot(x, y, '.r', label='MI')\n",
    "# we only see FI with pressures of 20-100 MPa ish, \n",
    "filt=(x>10)& (x<100)\n",
    "Pf = np.poly1d(np.polyfit(x[filt], y[filt],\n",
    "                          3))\n",
    "Px = np.linspace(10, 100, 101)\n",
    "ax2.plot(x[filt], y[filt], '.r')\n",
    "Py = Pf(Px)\n",
    "ax2.plot(Px, Py, '-r')\n",
    "ax2.set_ylim([0, 0.2])\n",
    "ax2.set_xlim([10, 105])\n",
    "ax1.set_ylabel('XH2O')\n",
    "ax1.set_xlabel('MI P (MPa)')\n",
    "ax2.set_ylabel('XH2O')\n",
    "ax2.set_xlabel('MI P (MPa)')\n",
    "ax1.legend()\n"
   ]
  },
  {
   "cell_type": "markdown",
   "metadata": {},
   "source": [
    "- Now we need to loop - so initially use the polynomial to guess a XH2O for each MI, then re-evaluate after we get a new pressure for the FI accounting for H2O"
   ]
  },
  {
   "cell_type": "code",
   "execution_count": 64,
   "metadata": {},
   "outputs": [
    {
     "data": {
      "text/html": [
       "<div>\n",
       "<style scoped>\n",
       "    .dataframe tbody tr th:only-of-type {\n",
       "        vertical-align: middle;\n",
       "    }\n",
       "\n",
       "    .dataframe tbody tr th {\n",
       "        vertical-align: top;\n",
       "    }\n",
       "\n",
       "    .dataframe thead th {\n",
       "        text-align: right;\n",
       "    }\n",
       "</style>\n",
       "<table border=\"1\" class=\"dataframe\">\n",
       "  <thead>\n",
       "    <tr style=\"text-align: right;\">\n",
       "      <th></th>\n",
       "      <th>Density_g_cm3</th>\n",
       "    </tr>\n",
       "  </thead>\n",
       "  <tbody>\n",
       "    <tr>\n",
       "      <th>0</th>\n",
       "      <td>0.176605</td>\n",
       "    </tr>\n",
       "    <tr>\n",
       "      <th>1</th>\n",
       "      <td>0.180578</td>\n",
       "    </tr>\n",
       "    <tr>\n",
       "      <th>2</th>\n",
       "      <td>0.180858</td>\n",
       "    </tr>\n",
       "    <tr>\n",
       "      <th>3</th>\n",
       "      <td>0.147317</td>\n",
       "    </tr>\n",
       "    <tr>\n",
       "      <th>4</th>\n",
       "      <td>0.102414</td>\n",
       "    </tr>\n",
       "  </tbody>\n",
       "</table>\n",
       "</div>"
      ],
      "text/plain": [
       "   Density_g_cm3\n",
       "0       0.176605\n",
       "1       0.180578\n",
       "2       0.180858\n",
       "3       0.147317\n",
       "4       0.102414"
      ]
     },
     "execution_count": 64,
     "metadata": {},
     "output_type": "execute_result"
    }
   ],
   "source": [
    "# Load in FI data of DeVitre and Wieser (2024 - GPL) - https://github.com/PennyWieser/DiadFit/blob/main/docs/Examples/EOS_calculations/FI_densities.xlsx\n",
    "df_FI=pd.read_excel('FI_densities.xlsx', sheet_name='FI_data')\n",
    "df_FI.head()"
   ]
  },
  {
   "cell_type": "code",
   "execution_count": 39,
   "metadata": {},
   "outputs": [
    {
     "name": "stdout",
     "output_type": "stream",
     "text": [
      "Iteration 1: XH2O_calc = 0.02616125592104672, Pressure_H_loss = 0.5718466672145027\n",
      "Iteration 2: XH2O_calc = 0.02559572821317145, Pressure_H_loss = 0.5715116454021261\n",
      "Iteration 3: XH2O_calc = 0.025607668172389866, Pressure_H_loss = 0.5715187144592899\n",
      "Iteration 4: XH2O_calc = 0.02560741594890774, Pressure_H_loss = 0.5715185651524117\n",
      "Iteration 5: XH2O_calc = 0.02560742127603914, Pressure_H_loss = 0.5715185679400713\n",
      "Iteration 6: XH2O_calc = 0.025607421176577994, Pressure_H_loss = 0.5715185679191079\n",
      "Iteration 7: XH2O_calc = 0.025607421177325937, Pressure_H_loss = 0.5715185681273734\n",
      "Iteration 8: XH2O_calc = 0.025607421169895186, Pressure_H_loss = 0.5715185679176993\n",
      "Iteration 9: XH2O_calc = 0.025607421177376175, Pressure_H_loss = 0.571518568127384\n",
      "Iteration 10: XH2O_calc = 0.025607421169894812, Pressure_H_loss = 0.5715185679176993\n"
     ]
    }
   ],
   "source": [
    "P_initial=pf.calculate_entrapment_P_XH2O(XH2O=0, CO2_dens_gcm3=df_FI['Density_g_cm3'], T_K=1200+273.15, T_K_ambient=37+273.15)\n",
    "P=P_initial['P_kbar_mixCO2_DZ06_Hloss']*100\n",
    "# Loop 10 times\n",
    "for _ in range(10):\n",
    "    XH2O_calc = Pf(P)\n",
    "    Pressure_H_loss = pf.calculate_entrapment_P_XH2O(XH2O=XH2O_calc, CO2_dens_gcm3=df_FI['Density_g_cm3'], \n",
    "                                                     T_K=1200 + 273.15, T_K_ambient=37 + 273.15).P_kbar_mixCO2_DZ06_Hloss\n",
    "    P = Pressure_H_loss * 100  # Update P for the next iteration\n",
    "    # Optional: Print values to track changes in each iteration\n",
    "    print(f\"Iteration {_+1}: XH2O_calc = {XH2O_calc[0]}, Pressure_H_loss = {Pressure_H_loss[0]}\")\n"
   ]
  },
  {
   "cell_type": "code",
   "execution_count": 65,
   "metadata": {},
   "outputs": [
    {
     "data": {
      "text/plain": [
       "Text(0.5, 0, 'XH2O')"
      ]
     },
     "execution_count": 65,
     "metadata": {},
     "output_type": "execute_result"
    },
    {
     "data": {
      "image/png": "[encoded data removed]",
      "text/plain": [
       "<Figure size 1000x500 with 1 Axes>"
      ]
     },
     "metadata": {},
     "output_type": "display_data"
    }
   ],
   "source": [
    "## Lets compare results as a function of pressure\n",
    "fig, (ax2) = plt.subplots(1, 1, figsize=(10,5))\n",
    "\n",
    "\n",
    "ax2.plot( XH2O_calc, P_initial['P_kbar_pureCO2_DZ06']*100/P, '.r')\n",
    "ax2.set_ylabel('P (Pure CO2/Mixed EOS)')\n",
    "ax2.set_xlabel('XH2O')\n",
    "#ax1.plot([0, 100], [0, 100], '-k')"
   ]
  },
  {
   "cell_type": "markdown",
   "metadata": {},
   "source": [
    "## 2. Calculations for experimentalists\n",
    "- Download an example spreadsheet of experimental conditions\n",
    "https://github.com/PennyWieser/DiadFit/blob/main/docs/Examples/EOS_calculations/Exp_Cond.xlsx"
   ]
  },
  {
   "cell_type": "code",
   "execution_count": 66,
   "metadata": {},
   "outputs": [
    {
     "data": {
      "text/html": [
       "<div>\n",
       "<style scoped>\n",
       "    .dataframe tbody tr th:only-of-type {\n",
       "        vertical-align: middle;\n",
       "    }\n",
       "\n",
       "    .dataframe tbody tr th {\n",
       "        vertical-align: top;\n",
       "    }\n",
       "\n",
       "    .dataframe thead th {\n",
       "        text-align: right;\n",
       "    }\n",
       "</style>\n",
       "<table border=\"1\" class=\"dataframe\">\n",
       "  <thead>\n",
       "    <tr style=\"text-align: right;\">\n",
       "      <th></th>\n",
       "      <th>Experiment</th>\n",
       "      <th>P_kbar</th>\n",
       "      <th>XH2O</th>\n",
       "      <th>T_K</th>\n",
       "    </tr>\n",
       "  </thead>\n",
       "  <tbody>\n",
       "    <tr>\n",
       "      <th>0</th>\n",
       "      <td>test1</td>\n",
       "      <td>1.0</td>\n",
       "      <td>0.1</td>\n",
       "      <td>1200</td>\n",
       "    </tr>\n",
       "    <tr>\n",
       "      <th>1</th>\n",
       "      <td>test2</td>\n",
       "      <td>2.0</td>\n",
       "      <td>0.2</td>\n",
       "      <td>1400</td>\n",
       "    </tr>\n",
       "    <tr>\n",
       "      <th>2</th>\n",
       "      <td>test3</td>\n",
       "      <td>4.0</td>\n",
       "      <td>0.0</td>\n",
       "      <td>800</td>\n",
       "    </tr>\n",
       "    <tr>\n",
       "      <th>3</th>\n",
       "      <td>test4</td>\n",
       "      <td>1.0</td>\n",
       "      <td>0.0</td>\n",
       "      <td>1500</td>\n",
       "    </tr>\n",
       "    <tr>\n",
       "      <th>4</th>\n",
       "      <td>test5</td>\n",
       "      <td>0.5</td>\n",
       "      <td>1.0</td>\n",
       "      <td>1200</td>\n",
       "    </tr>\n",
       "  </tbody>\n",
       "</table>\n",
       "</div>"
      ],
      "text/plain": [
       "  Experiment  P_kbar  XH2O   T_K\n",
       "0      test1     1.0   0.1  1200\n",
       "1      test2     2.0   0.2  1400\n",
       "2      test3     4.0   0.0   800\n",
       "3      test4     1.0   0.0  1500\n",
       "4      test5     0.5   1.0  1200"
      ]
     },
     "execution_count": 66,
     "metadata": {},
     "output_type": "execute_result"
    }
   ],
   "source": [
    "## Lets load in a spreadsheet of experimental conditions - Get from here: https://github.com/PennyWieser/DiadFit/blob/main/docs/Examples/EOS_calculations/Exp_Cond.xlsx\n",
    "df_exp=pd.read_excel('Exp_Cond.xlsx')\n",
    "df_exp.head()"
   ]
  },
  {
   "cell_type": "code",
   "execution_count": 67,
   "metadata": {},
   "outputs": [
    {
     "data": {
      "text/html": [
       "<div>\n",
       "<style scoped>\n",
       "    .dataframe tbody tr th:only-of-type {\n",
       "        vertical-align: middle;\n",
       "    }\n",
       "\n",
       "    .dataframe tbody tr th {\n",
       "        vertical-align: top;\n",
       "    }\n",
       "\n",
       "    .dataframe thead th {\n",
       "        text-align: right;\n",
       "    }\n",
       "</style>\n",
       "<table border=\"1\" class=\"dataframe\">\n",
       "  <thead>\n",
       "    <tr style=\"text-align: right;\">\n",
       "      <th></th>\n",
       "      <th>P_kbar</th>\n",
       "      <th>T_K</th>\n",
       "      <th>XH2O</th>\n",
       "      <th>XCO2</th>\n",
       "      <th>Molar Volume (cm3/mol)</th>\n",
       "      <th>Density (g/cm3)</th>\n",
       "      <th>Compressability_factor</th>\n",
       "      <th>fugacity_H2O (kbar)</th>\n",
       "      <th>fugacity_CO2 (kbar)</th>\n",
       "      <th>activity_H2O</th>\n",
       "      <th>activity_CO2</th>\n",
       "    </tr>\n",
       "  </thead>\n",
       "  <tbody>\n",
       "    <tr>\n",
       "      <th>0</th>\n",
       "      <td>1.0</td>\n",
       "      <td>1200</td>\n",
       "      <td>0.1</td>\n",
       "      <td>0.9</td>\n",
       "      <td>125.333500</td>\n",
       "      <td>0.330319</td>\n",
       "      <td>1.256179</td>\n",
       "      <td>0.092945</td>\n",
       "      <td>1.163275</td>\n",
       "      <td>0.100954</td>\n",
       "      <td>0.900294</td>\n",
       "    </tr>\n",
       "    <tr>\n",
       "      <th>1</th>\n",
       "      <td>2.0</td>\n",
       "      <td>1400</td>\n",
       "      <td>0.2</td>\n",
       "      <td>0.8</td>\n",
       "      <td>86.992117</td>\n",
       "      <td>0.446017</td>\n",
       "      <td>1.494677</td>\n",
       "      <td>0.424996</td>\n",
       "      <td>2.668323</td>\n",
       "      <td>0.213429</td>\n",
       "      <td>0.804635</td>\n",
       "    </tr>\n",
       "    <tr>\n",
       "      <th>2</th>\n",
       "      <td>4.0</td>\n",
       "      <td>800</td>\n",
       "      <td>0.0</td>\n",
       "      <td>1.0</td>\n",
       "      <td>45.153235</td>\n",
       "      <td>0.974460</td>\n",
       "      <td>2.715342</td>\n",
       "      <td>0.000000</td>\n",
       "      <td>17.198213</td>\n",
       "      <td>0.000000</td>\n",
       "      <td>1.000000</td>\n",
       "    </tr>\n",
       "    <tr>\n",
       "      <th>3</th>\n",
       "      <td>1.0</td>\n",
       "      <td>1500</td>\n",
       "      <td>0.0</td>\n",
       "      <td>1.0</td>\n",
       "      <td>155.085905</td>\n",
       "      <td>0.283714</td>\n",
       "      <td>1.243502</td>\n",
       "      <td>0.000000</td>\n",
       "      <td>1.264244</td>\n",
       "      <td>0.000000</td>\n",
       "      <td>1.000000</td>\n",
       "    </tr>\n",
       "    <tr>\n",
       "      <th>4</th>\n",
       "      <td>0.5</td>\n",
       "      <td>1200</td>\n",
       "      <td>1.0</td>\n",
       "      <td>0.0</td>\n",
       "      <td>191.178832</td>\n",
       "      <td>0.094153</td>\n",
       "      <td>0.958063</td>\n",
       "      <td>0.477024</td>\n",
       "      <td>0.000000</td>\n",
       "      <td>1.000000</td>\n",
       "      <td>0.000000</td>\n",
       "    </tr>\n",
       "  </tbody>\n",
       "</table>\n",
       "</div>"
      ],
      "text/plain": [
       "   P_kbar   T_K  XH2O  XCO2  Molar Volume (cm3/mol)  Density (g/cm3)  \\\n",
       "0     1.0  1200   0.1   0.9              125.333500         0.330319   \n",
       "1     2.0  1400   0.2   0.8               86.992117         0.446017   \n",
       "2     4.0   800   0.0   1.0               45.153235         0.974460   \n",
       "3     1.0  1500   0.0   1.0              155.085905         0.283714   \n",
       "4     0.5  1200   1.0   0.0              191.178832         0.094153   \n",
       "\n",
       "   Compressability_factor  fugacity_H2O (kbar)  fugacity_CO2 (kbar)  \\\n",
       "0                1.256179             0.092945             1.163275   \n",
       "1                1.494677             0.424996             2.668323   \n",
       "2                2.715342             0.000000            17.198213   \n",
       "3                1.243502             0.000000             1.264244   \n",
       "4                0.958063             0.477024             0.000000   \n",
       "\n",
       "   activity_H2O  activity_CO2  \n",
       "0      0.100954      0.900294  \n",
       "1      0.213429      0.804635  \n",
       "2      0.000000      1.000000  \n",
       "3      0.000000      1.000000  \n",
       "4      1.000000      0.000000  "
      ]
     },
     "execution_count": 67,
     "metadata": {},
     "output_type": "execute_result"
    }
   ],
   "source": [
    "df_calc=pf.calc_prop_knownP_EOS_DZ2006(P_kbar=df_exp['P_kbar'], T_K=df_exp['T_K'], XH2O=df_exp['XH2O'])\n",
    "df_calc.head()\n"
   ]
  },
  {
   "cell_type": "code",
   "execution_count": 68,
   "metadata": {},
   "outputs": [
    {
     "data": {
      "text/html": [
       "<div>\n",
       "<style scoped>\n",
       "    .dataframe tbody tr th:only-of-type {\n",
       "        vertical-align: middle;\n",
       "    }\n",
       "\n",
       "    .dataframe tbody tr th {\n",
       "        vertical-align: top;\n",
       "    }\n",
       "\n",
       "    .dataframe thead th {\n",
       "        text-align: right;\n",
       "    }\n",
       "</style>\n",
       "<table border=\"1\" class=\"dataframe\">\n",
       "  <thead>\n",
       "    <tr style=\"text-align: right;\">\n",
       "      <th></th>\n",
       "      <th>P_kbar</th>\n",
       "      <th>T_K</th>\n",
       "      <th>XH2O</th>\n",
       "      <th>XCO2</th>\n",
       "      <th>Molar Volume (cm3/mol)</th>\n",
       "      <th>Density (g/cm3)</th>\n",
       "      <th>Compressability_factor</th>\n",
       "      <th>fugacity_H2O (kbar)</th>\n",
       "      <th>fugacity_CO2 (kbar)</th>\n",
       "      <th>activity_H2O</th>\n",
       "      <th>activity_CO2</th>\n",
       "    </tr>\n",
       "  </thead>\n",
       "  <tbody>\n",
       "    <tr>\n",
       "      <th>0</th>\n",
       "      <td>3</td>\n",
       "      <td>1400</td>\n",
       "      <td>0.2</td>\n",
       "      <td>0.8</td>\n",
       "      <td>67.007214</td>\n",
       "      <td>0.579042</td>\n",
       "      <td>1.726952</td>\n",
       "      <td>0.695761</td>\n",
       "      <td>5.283101</td>\n",
       "      <td>0.223567</td>\n",
       "      <td>0.806015</td>\n",
       "    </tr>\n",
       "  </tbody>\n",
       "</table>\n",
       "</div>"
      ],
      "text/plain": [
       "   P_kbar   T_K  XH2O  XCO2  Molar Volume (cm3/mol)  Density (g/cm3)  \\\n",
       "0       3  1400   0.2   0.8               67.007214         0.579042   \n",
       "\n",
       "   Compressability_factor  fugacity_H2O (kbar)  fugacity_CO2 (kbar)  \\\n",
       "0                1.726952             0.695761             5.283101   \n",
       "\n",
       "   activity_H2O  activity_CO2  \n",
       "0      0.223567      0.806015  "
      ]
     },
     "execution_count": 68,
     "metadata": {},
     "output_type": "execute_result"
    }
   ],
   "source": [
    "# You can also do the calc for a single condition!\n",
    "df_calc2=pf.calc_prop_knownP_EOS_DZ2006(P_kbar=3, T_K=1400, XH2O=0.2)\n",
    "df_calc2"
   ]
  }
 ],
 "metadata": {
  "kernelspec": {
   "display_name": "base",
   "language": "python",
   "name": "python3"
  },
  "language_info": {
   "codemirror_mode": {
    "name": "ipython",
    "version": 3
   },
   "file_extension": ".py",
   "mimetype": "text/x-python",
   "name": "python",
   "nbconvert_exporter": "python",
   "pygments_lexer": "ipython3",
   "version": "3.11.5"
  }
 },
 "nbformat": 4,
 "nbformat_minor": 2
}
