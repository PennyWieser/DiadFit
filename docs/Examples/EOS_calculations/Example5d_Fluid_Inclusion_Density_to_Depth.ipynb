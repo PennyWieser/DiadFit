{
 "cells": [
  {
   "cell_type": "markdown",
   "id": "b1143fd5-01e1-494a-88ed-49c9af373ef4",
   "metadata": {},
   "source": [
    "# Converting CO2 densities to pressures to depths\n",
    "- This notebook shows how to use the equation of state of pure CO2 of Span and Wanger (1996) implemented through coolprop to calculate pressures of fluid inclusions\n",
    "- We also show how to use Monte-Carlo simulations to propagate errors when determing fluid inclusion pressures\n",
    "- We also show how to calculate densities to depths using a variety of crustal density models\n",
    "- See the notebook 'Dayton_et_al_2023_LaPalmaExample.ipynb' to see how to propagate uncertainty in these different parameters"
   ]
  },
  {
   "cell_type": "markdown",
   "id": "301242b2",
   "metadata": {},
   "source": [
    "### Install DiadFit if you havent already! You might also have to install CoolProp if you want to use Span and Wagner EOS - the error message will give you instructions, else reach out"
   ]
  },
  {
   "cell_type": "code",
   "execution_count": 1,
   "id": "179b9097",
   "metadata": {},
   "outputs": [],
   "source": [
    "#!pip install --upgrade DiadFit"
   ]
  },
  {
   "cell_type": "markdown",
   "id": "4696e294-e9af-4c4e-86e5-ac37ec698a43",
   "metadata": {},
   "source": [
    "## First, import all the python things you need"
   ]
  },
  {
   "cell_type": "code",
   "execution_count": 2,
   "id": "12e26fc7-8a59-4e52-8a16-74766eda628e",
   "metadata": {},
   "outputs": [
    {
     "data": {
      "text/plain": [
       "'0.0.91'"
      ]
     },
     "execution_count": 2,
     "metadata": {},
     "output_type": "execute_result"
    }
   ],
   "source": [
    "import numpy as np\n",
    "import pandas as pd\n",
    "import matplotlib.pyplot as plt\n",
    "import DiadFit as pf\n",
    "pf.__version__"
   ]
  },
  {
   "cell_type": "markdown",
   "id": "f994881b-f307-4e7a-9b3c-6211d4e17e46",
   "metadata": {},
   "source": [
    "## Load your FI densities \n",
    "- In this example, we just load a simple spreadsheet with densities and a sample name. E.g. this could be from microthermometry, or from Raman"
   ]
  },
  {
   "cell_type": "code",
   "execution_count": 3,
   "id": "9cd20b9c-30f6-4250-9f46-b08b21823df1",
   "metadata": {},
   "outputs": [
    {
     "data": {
      "text/html": [
       "<div>\n",
       "<style scoped>\n",
       "    .dataframe tbody tr th:only-of-type {\n",
       "        vertical-align: middle;\n",
       "    }\n",
       "\n",
       "    .dataframe tbody tr th {\n",
       "        vertical-align: top;\n",
       "    }\n",
       "\n",
       "    .dataframe thead th {\n",
       "        text-align: right;\n",
       "    }\n",
       "</style>\n",
       "<table border=\"1\" class=\"dataframe\">\n",
       "  <thead>\n",
       "    <tr style=\"text-align: right;\">\n",
       "      <th></th>\n",
       "      <th>Sample</th>\n",
       "      <th>Density_g_cm3</th>\n",
       "    </tr>\n",
       "  </thead>\n",
       "  <tbody>\n",
       "    <tr>\n",
       "      <th>0</th>\n",
       "      <td>FI1</td>\n",
       "      <td>0.389845</td>\n",
       "    </tr>\n",
       "    <tr>\n",
       "      <th>1</th>\n",
       "      <td>FI2</td>\n",
       "      <td>0.923179</td>\n",
       "    </tr>\n",
       "    <tr>\n",
       "      <th>2</th>\n",
       "      <td>FI4</td>\n",
       "      <td>0.393791</td>\n",
       "    </tr>\n",
       "    <tr>\n",
       "      <th>3</th>\n",
       "      <td>FI5</td>\n",
       "      <td>0.769280</td>\n",
       "    </tr>\n",
       "    <tr>\n",
       "      <th>4</th>\n",
       "      <td>FI7</td>\n",
       "      <td>0.741868</td>\n",
       "    </tr>\n",
       "  </tbody>\n",
       "</table>\n",
       "</div>"
      ],
      "text/plain": [
       "  Sample  Density_g_cm3\n",
       "0    FI1       0.389845\n",
       "1    FI2       0.923179\n",
       "2    FI4       0.393791\n",
       "3    FI5       0.769280\n",
       "4    FI7       0.741868"
      ]
     },
     "execution_count": 3,
     "metadata": {},
     "output_type": "execute_result"
    }
   ],
   "source": [
    "# Get from here: https://github.com/PennyWieser/DiadFit/blob/main/docs/Examples/EOS_calculations/Fluid_Inclusion_Densities_Example1.xlsx\n",
    "data=pd.read_excel('Fluid_Inclusion_Densities_Example1.xlsx')\n",
    "data.head()"
   ]
  },
  {
   "cell_type": "markdown",
   "id": "962d5645-7951-4c5c-a1de-2b32401dca8f",
   "metadata": {},
   "source": [
    "## Simple conversion to pressure\n",
    "- Most simply, you can convert each density to pressure using the equation of state of Span and Wagner, implemented in CoolProp.\n",
    "- You also need an estimate of the entrapment temperature. Here we use a fixed value, but you could also allocate a temperature based on the forsterite content of your olivine, or any other thermometer suitable for your system\n",
    "- Temperature must be in Kelvin!"
   ]
  },
  {
   "cell_type": "code",
   "execution_count": 4,
   "id": "a7b933e5-7f82-4f61-9f67-827caf62a253",
   "metadata": {},
   "outputs": [
    {
     "data": {
      "text/html": [
       "<div>\n",
       "<style scoped>\n",
       "    .dataframe tbody tr th:only-of-type {\n",
       "        vertical-align: middle;\n",
       "    }\n",
       "\n",
       "    .dataframe tbody tr th {\n",
       "        vertical-align: top;\n",
       "    }\n",
       "\n",
       "    .dataframe thead th {\n",
       "        text-align: right;\n",
       "    }\n",
       "</style>\n",
       "<table border=\"1\" class=\"dataframe\">\n",
       "  <thead>\n",
       "    <tr style=\"text-align: right;\">\n",
       "      <th></th>\n",
       "      <th>P_kbar</th>\n",
       "      <th>P_MPa</th>\n",
       "      <th>T_K</th>\n",
       "      <th>CO2_dens_gcm3</th>\n",
       "    </tr>\n",
       "  </thead>\n",
       "  <tbody>\n",
       "    <tr>\n",
       "      <th>0</th>\n",
       "      <td>1.445991</td>\n",
       "      <td>144.599143</td>\n",
       "      <td>1423.15</td>\n",
       "      <td>0.389845</td>\n",
       "    </tr>\n",
       "    <tr>\n",
       "      <th>1</th>\n",
       "      <td>6.780995</td>\n",
       "      <td>678.099451</td>\n",
       "      <td>1423.15</td>\n",
       "      <td>0.923179</td>\n",
       "    </tr>\n",
       "    <tr>\n",
       "      <th>2</th>\n",
       "      <td>1.466838</td>\n",
       "      <td>146.683822</td>\n",
       "      <td>1423.15</td>\n",
       "      <td>0.393791</td>\n",
       "    </tr>\n",
       "    <tr>\n",
       "      <th>3</th>\n",
       "      <td>4.570341</td>\n",
       "      <td>457.034146</td>\n",
       "      <td>1423.15</td>\n",
       "      <td>0.769280</td>\n",
       "    </tr>\n",
       "    <tr>\n",
       "      <th>4</th>\n",
       "      <td>4.246948</td>\n",
       "      <td>424.694773</td>\n",
       "      <td>1423.15</td>\n",
       "      <td>0.741868</td>\n",
       "    </tr>\n",
       "  </tbody>\n",
       "</table>\n",
       "</div>"
      ],
      "text/plain": [
       "     P_kbar       P_MPa      T_K  CO2_dens_gcm3\n",
       "0  1.445991  144.599143  1423.15       0.389845\n",
       "1  6.780995  678.099451  1423.15       0.923179\n",
       "2  1.466838  146.683822  1423.15       0.393791\n",
       "3  4.570341  457.034146  1423.15       0.769280\n",
       "4  4.246948  424.694773  1423.15       0.741868"
      ]
     },
     "execution_count": 4,
     "metadata": {},
     "output_type": "execute_result"
    }
   ],
   "source": [
    "P_kbar=pf.calculate_P_for_rho_T(T_K=1150+273.15,\n",
    "CO2_dens_gcm3=data['Density_g_cm3'])\n",
    "P_kbar.head()"
   ]
  },
  {
   "cell_type": "markdown",
   "id": "64b4f82b-a9c1-47d6-af2e-a46c2e47cf33",
   "metadata": {},
   "source": [
    "## Convert to Depth in a single step from density\n",
    "- We can also specify a variety of options in this function to directly get depth, instead of pressure"
   ]
  },
  {
   "cell_type": "markdown",
   "id": "3b875f26-456d-4e9d-8801-f846556003e2",
   "metadata": {},
   "source": [
    "### Using a constant crustal density of 2700 kg/m$^{3}$"
   ]
  },
  {
   "cell_type": "code",
   "execution_count": 5,
   "id": "e43d9a71-d850-4003-85ce-6a284fac636b",
   "metadata": {},
   "outputs": [
    {
     "data": {
      "text/html": [
       "<div>\n",
       "<style scoped>\n",
       "    .dataframe tbody tr th:only-of-type {\n",
       "        vertical-align: middle;\n",
       "    }\n",
       "\n",
       "    .dataframe tbody tr th {\n",
       "        vertical-align: top;\n",
       "    }\n",
       "\n",
       "    .dataframe thead th {\n",
       "        text-align: right;\n",
       "    }\n",
       "</style>\n",
       "<table border=\"1\" class=\"dataframe\">\n",
       "  <thead>\n",
       "    <tr style=\"text-align: right;\">\n",
       "      <th></th>\n",
       "      <th>Pressure (kbar)</th>\n",
       "      <th>Pressure (MPa)</th>\n",
       "      <th>Depth (km)</th>\n",
       "      <th>MC_crust_dens_kgm3</th>\n",
       "      <th>model</th>\n",
       "      <th>MC_T_K</th>\n",
       "      <th>MC_CO2_dens_gcm3</th>\n",
       "    </tr>\n",
       "  </thead>\n",
       "  <tbody>\n",
       "    <tr>\n",
       "      <th>0</th>\n",
       "      <td>1.445991</td>\n",
       "      <td>144.599143</td>\n",
       "      <td>5.459250</td>\n",
       "      <td>2700</td>\n",
       "      <td>None</td>\n",
       "      <td>1423.15</td>\n",
       "      <td>0.389845</td>\n",
       "    </tr>\n",
       "    <tr>\n",
       "      <th>1</th>\n",
       "      <td>6.780995</td>\n",
       "      <td>678.099451</td>\n",
       "      <td>25.601218</td>\n",
       "      <td>2700</td>\n",
       "      <td>None</td>\n",
       "      <td>1423.15</td>\n",
       "      <td>0.923179</td>\n",
       "    </tr>\n",
       "    <tr>\n",
       "      <th>2</th>\n",
       "      <td>1.466838</td>\n",
       "      <td>146.683822</td>\n",
       "      <td>5.537955</td>\n",
       "      <td>2700</td>\n",
       "      <td>None</td>\n",
       "      <td>1423.15</td>\n",
       "      <td>0.393791</td>\n",
       "    </tr>\n",
       "    <tr>\n",
       "      <th>3</th>\n",
       "      <td>4.570341</td>\n",
       "      <td>457.034146</td>\n",
       "      <td>17.255036</td>\n",
       "      <td>2700</td>\n",
       "      <td>None</td>\n",
       "      <td>1423.15</td>\n",
       "      <td>0.769280</td>\n",
       "    </tr>\n",
       "    <tr>\n",
       "      <th>4</th>\n",
       "      <td>4.246948</td>\n",
       "      <td>424.694773</td>\n",
       "      <td>16.034084</td>\n",
       "      <td>2700</td>\n",
       "      <td>None</td>\n",
       "      <td>1423.15</td>\n",
       "      <td>0.741868</td>\n",
       "    </tr>\n",
       "  </tbody>\n",
       "</table>\n",
       "</div>"
      ],
      "text/plain": [
       "   Pressure (kbar)  Pressure (MPa)  Depth (km)  MC_crust_dens_kgm3 model  \\\n",
       "0         1.445991      144.599143    5.459250                2700  None   \n",
       "1         6.780995      678.099451   25.601218                2700  None   \n",
       "2         1.466838      146.683822    5.537955                2700  None   \n",
       "3         4.570341      457.034146   17.255036                2700  None   \n",
       "4         4.246948      424.694773   16.034084                2700  None   \n",
       "\n",
       "    MC_T_K  MC_CO2_dens_gcm3  \n",
       "0  1423.15          0.389845  \n",
       "1  1423.15          0.923179  \n",
       "2  1423.15          0.393791  \n",
       "3  1423.15          0.769280  \n",
       "4  1423.15          0.741868  "
      ]
     },
     "execution_count": 5,
     "metadata": {},
     "output_type": "execute_result"
    }
   ],
   "source": [
    "D_Constant_rho=pf.convert_co2_dens_press_depth(T_K=1150+273.15,\n",
    "CO2_dens_gcm3=data['Density_g_cm3'], crust_dens_kgm3=2700, g=9.81, output='df')\n",
    "D_Constant_rho.head()"
   ]
  },
  {
   "attachments": {
    "f26a837f-1432-498e-86a2-315102d4ccaf.png": {
     "image/png": "[encoded data removed]"
    }
   },
   "cell_type": "markdown",
   "id": "9f987966-a617-4ae7-a0a9-d9c5d97ea4c8",
   "metadata": {},
   "source": [
    "### Using a two-step crustal density\n",
    "- For this, specify a density above and below a boundary, e.g. volcanic pile vs. oceanic crust in an OIB, or crust vs mantle\n",
    "\n",
    "![2_Step_Density.png](attachment:f26a837f-1432-498e-86a2-315102d4ccaf.png)"
   ]
  },
  {
   "cell_type": "code",
   "execution_count": 6,
   "id": "f07c56a8-7855-415d-8694-966dc7feced1",
   "metadata": {},
   "outputs": [
    {
     "data": {
      "text/html": [
       "<div>\n",
       "<style scoped>\n",
       "    .dataframe tbody tr th:only-of-type {\n",
       "        vertical-align: middle;\n",
       "    }\n",
       "\n",
       "    .dataframe tbody tr th {\n",
       "        vertical-align: top;\n",
       "    }\n",
       "\n",
       "    .dataframe thead th {\n",
       "        text-align: right;\n",
       "    }\n",
       "</style>\n",
       "<table border=\"1\" class=\"dataframe\">\n",
       "  <thead>\n",
       "    <tr style=\"text-align: right;\">\n",
       "      <th></th>\n",
       "      <th>Pressure (kbar)</th>\n",
       "      <th>Pressure (MPa)</th>\n",
       "      <th>Depth (km)</th>\n",
       "      <th>MC_crust_dens_kgm3</th>\n",
       "      <th>model</th>\n",
       "      <th>MC_T_K</th>\n",
       "      <th>MC_CO2_dens_gcm3</th>\n",
       "    </tr>\n",
       "  </thead>\n",
       "  <tbody>\n",
       "    <tr>\n",
       "      <th>0</th>\n",
       "      <td>1.445991</td>\n",
       "      <td>144.599143</td>\n",
       "      <td>5.579991</td>\n",
       "      <td>None</td>\n",
       "      <td>two-step</td>\n",
       "      <td>1423.15</td>\n",
       "      <td>0.389845</td>\n",
       "    </tr>\n",
       "    <tr>\n",
       "      <th>1</th>\n",
       "      <td>6.780995</td>\n",
       "      <td>678.099451</td>\n",
       "      <td>23.707763</td>\n",
       "      <td>None</td>\n",
       "      <td>two-step</td>\n",
       "      <td>1423.15</td>\n",
       "      <td>0.923179</td>\n",
       "    </tr>\n",
       "    <tr>\n",
       "      <th>2</th>\n",
       "      <td>1.466838</td>\n",
       "      <td>146.683822</td>\n",
       "      <td>5.650826</td>\n",
       "      <td>None</td>\n",
       "      <td>two-step</td>\n",
       "      <td>1423.15</td>\n",
       "      <td>0.393791</td>\n",
       "    </tr>\n",
       "    <tr>\n",
       "      <th>3</th>\n",
       "      <td>4.570341</td>\n",
       "      <td>457.034146</td>\n",
       "      <td>16.196199</td>\n",
       "      <td>None</td>\n",
       "      <td>two-step</td>\n",
       "      <td>1423.15</td>\n",
       "      <td>0.769280</td>\n",
       "    </tr>\n",
       "    <tr>\n",
       "      <th>4</th>\n",
       "      <td>4.246948</td>\n",
       "      <td>424.694773</td>\n",
       "      <td>15.097342</td>\n",
       "      <td>None</td>\n",
       "      <td>two-step</td>\n",
       "      <td>1423.15</td>\n",
       "      <td>0.741868</td>\n",
       "    </tr>\n",
       "  </tbody>\n",
       "</table>\n",
       "</div>"
      ],
      "text/plain": [
       "   Pressure (kbar)  Pressure (MPa)  Depth (km) MC_crust_dens_kgm3     model  \\\n",
       "0         1.445991      144.599143    5.579991               None  two-step   \n",
       "1         6.780995      678.099451   23.707763               None  two-step   \n",
       "2         1.466838      146.683822    5.650826               None  two-step   \n",
       "3         4.570341      457.034146   16.196199               None  two-step   \n",
       "4         4.246948      424.694773   15.097342               None  two-step   \n",
       "\n",
       "    MC_T_K  MC_CO2_dens_gcm3  \n",
       "0  1423.15          0.389845  \n",
       "1  1423.15          0.923179  \n",
       "2  1423.15          0.393791  \n",
       "3  1423.15          0.769280  \n",
       "4  1423.15          0.741868  "
      ]
     },
     "execution_count": 6,
     "metadata": {},
     "output_type": "execute_result"
    }
   ],
   "source": [
    "D_2_step=pf.convert_co2_dens_press_depth(T_K=1150+273.15,\n",
    "CO2_dens_gcm3=data['Density_g_cm3'], model='two-step', rho1=2600, rho2=3000, d1=5, g=9.81, output='df')\n",
    "D_2_step.head()"
   ]
  },
  {
   "attachments": {
    "e1b1c46d-ebeb-4707-ba03-e25717632fbc.png": {
     "image/png": "[encoded data removed]"
    }
   },
   "cell_type": "markdown",
   "id": "ddd89905-cac6-402a-a887-4de2e30a2a99",
   "metadata": {},
   "source": [
    "## Using a 3-step crustal density\n",
    "- Here, we assume a volcanic layer, oceanic crust, and mantle. \n",
    "\n",
    "![3_Step_Density.png](attachment:e1b1c46d-ebeb-4707-ba03-e25717632fbc.png)"
   ]
  },
  {
   "cell_type": "code",
   "execution_count": 7,
   "id": "0ae1a36b-22a3-4001-bf46-c48ce68c4383",
   "metadata": {},
   "outputs": [
    {
     "data": {
      "text/html": [
       "<div>\n",
       "<style scoped>\n",
       "    .dataframe tbody tr th:only-of-type {\n",
       "        vertical-align: middle;\n",
       "    }\n",
       "\n",
       "    .dataframe tbody tr th {\n",
       "        vertical-align: top;\n",
       "    }\n",
       "\n",
       "    .dataframe thead th {\n",
       "        text-align: right;\n",
       "    }\n",
       "</style>\n",
       "<table border=\"1\" class=\"dataframe\">\n",
       "  <thead>\n",
       "    <tr style=\"text-align: right;\">\n",
       "      <th></th>\n",
       "      <th>Pressure (kbar)</th>\n",
       "      <th>Pressure (MPa)</th>\n",
       "      <th>Depth (km)</th>\n",
       "      <th>MC_crust_dens_kgm3</th>\n",
       "      <th>model</th>\n",
       "      <th>MC_T_K</th>\n",
       "      <th>MC_CO2_dens_gcm3</th>\n",
       "    </tr>\n",
       "  </thead>\n",
       "  <tbody>\n",
       "    <tr>\n",
       "      <th>0</th>\n",
       "      <td>1.445991</td>\n",
       "      <td>144.599143</td>\n",
       "      <td>5.579991</td>\n",
       "      <td>None</td>\n",
       "      <td>three-step</td>\n",
       "      <td>1423.15</td>\n",
       "      <td>0.389845</td>\n",
       "    </tr>\n",
       "    <tr>\n",
       "      <th>1</th>\n",
       "      <td>6.780995</td>\n",
       "      <td>678.099451</td>\n",
       "      <td>22.825239</td>\n",
       "      <td>None</td>\n",
       "      <td>three-step</td>\n",
       "      <td>1423.15</td>\n",
       "      <td>0.923179</td>\n",
       "    </tr>\n",
       "    <tr>\n",
       "      <th>2</th>\n",
       "      <td>1.466838</td>\n",
       "      <td>146.683822</td>\n",
       "      <td>5.650826</td>\n",
       "      <td>None</td>\n",
       "      <td>three-step</td>\n",
       "      <td>1423.15</td>\n",
       "      <td>0.393791</td>\n",
       "    </tr>\n",
       "    <tr>\n",
       "      <th>3</th>\n",
       "      <td>4.570341</td>\n",
       "      <td>457.034146</td>\n",
       "      <td>15.996545</td>\n",
       "      <td>None</td>\n",
       "      <td>three-step</td>\n",
       "      <td>1423.15</td>\n",
       "      <td>0.769280</td>\n",
       "    </tr>\n",
       "    <tr>\n",
       "      <th>4</th>\n",
       "      <td>4.246948</td>\n",
       "      <td>424.694773</td>\n",
       "      <td>14.997584</td>\n",
       "      <td>None</td>\n",
       "      <td>three-step</td>\n",
       "      <td>1423.15</td>\n",
       "      <td>0.741868</td>\n",
       "    </tr>\n",
       "  </tbody>\n",
       "</table>\n",
       "</div>"
      ],
      "text/plain": [
       "   Pressure (kbar)  Pressure (MPa)  Depth (km) MC_crust_dens_kgm3       model  \\\n",
       "0         1.445991      144.599143    5.579991               None  three-step   \n",
       "1         6.780995      678.099451   22.825239               None  three-step   \n",
       "2         1.466838      146.683822    5.650826               None  three-step   \n",
       "3         4.570341      457.034146   15.996545               None  three-step   \n",
       "4         4.246948      424.694773   14.997584               None  three-step   \n",
       "\n",
       "    MC_T_K  MC_CO2_dens_gcm3  \n",
       "0  1423.15          0.389845  \n",
       "1  1423.15          0.923179  \n",
       "2  1423.15          0.393791  \n",
       "3  1423.15          0.769280  \n",
       "4  1423.15          0.741868  "
      ]
     },
     "execution_count": 7,
     "metadata": {},
     "output_type": "execute_result"
    }
   ],
   "source": [
    "D_3_step=pf.convert_co2_dens_press_depth(T_K=1150+273.15,\n",
    "CO2_dens_gcm3=data['Density_g_cm3'], model='three-step', rho1=2600, rho2=3000, rho3=3300,\n",
    "d1=5, d2=14, g=9.81, output='df')\n",
    "D_3_step.head()"
   ]
  },
  {
   "cell_type": "markdown",
   "id": "1eb743b3-7690-4b77-bd6f-e888a06ca5b0",
   "metadata": {},
   "source": [
    "## Using published density profiles - get more detail in the docs\n",
    "- We also include the following crustal density profiles\n",
    "- ryan_lerner: update of Ryan 1987 by Lerner et al. 2021 \n",
    "- mavko_debari - Mavko and Thompson (1983) and DeBari and Greene (2011) from Putirka (2017)\n",
    "- hill_zucca - Hill and Zucca (1987)  from Putirka (2017)\n",
    "- prezzi - tweaked for andes, Prezzi et al. (2009) from Putirka (2017)\n",
    "- rasmussen - Rasmussen et al. (2022) for arcs"
   ]
  },
  {
   "cell_type": "code",
   "execution_count": 8,
   "id": "2310ca3a-4f1e-474b-897b-77e1c21041ca",
   "metadata": {},
   "outputs": [
    {
     "data": {
      "text/html": [
       "<div>\n",
       "<style scoped>\n",
       "    .dataframe tbody tr th:only-of-type {\n",
       "        vertical-align: middle;\n",
       "    }\n",
       "\n",
       "    .dataframe tbody tr th {\n",
       "        vertical-align: top;\n",
       "    }\n",
       "\n",
       "    .dataframe thead th {\n",
       "        text-align: right;\n",
       "    }\n",
       "</style>\n",
       "<table border=\"1\" class=\"dataframe\">\n",
       "  <thead>\n",
       "    <tr style=\"text-align: right;\">\n",
       "      <th></th>\n",
       "      <th>Pressure (kbar)</th>\n",
       "      <th>Pressure (MPa)</th>\n",
       "      <th>Depth (km)</th>\n",
       "      <th>MC_crust_dens_kgm3</th>\n",
       "      <th>model</th>\n",
       "      <th>MC_T_K</th>\n",
       "      <th>MC_CO2_dens_gcm3</th>\n",
       "    </tr>\n",
       "  </thead>\n",
       "  <tbody>\n",
       "    <tr>\n",
       "      <th>0</th>\n",
       "      <td>1.445991</td>\n",
       "      <td>144.599143</td>\n",
       "      <td>5.840007</td>\n",
       "      <td>None</td>\n",
       "      <td>rasmussen</td>\n",
       "      <td>1423.15</td>\n",
       "      <td>0.389845</td>\n",
       "    </tr>\n",
       "    <tr>\n",
       "      <th>1</th>\n",
       "      <td>6.780995</td>\n",
       "      <td>678.099451</td>\n",
       "      <td>NaN</td>\n",
       "      <td>None</td>\n",
       "      <td>rasmussen</td>\n",
       "      <td>1423.15</td>\n",
       "      <td>0.923179</td>\n",
       "    </tr>\n",
       "    <tr>\n",
       "      <th>2</th>\n",
       "      <td>1.466838</td>\n",
       "      <td>146.683822</td>\n",
       "      <td>5.920451</td>\n",
       "      <td>None</td>\n",
       "      <td>rasmussen</td>\n",
       "      <td>1423.15</td>\n",
       "      <td>0.393791</td>\n",
       "    </tr>\n",
       "    <tr>\n",
       "      <th>3</th>\n",
       "      <td>4.570341</td>\n",
       "      <td>457.034146</td>\n",
       "      <td>17.520428</td>\n",
       "      <td>None</td>\n",
       "      <td>rasmussen</td>\n",
       "      <td>1423.15</td>\n",
       "      <td>0.769280</td>\n",
       "    </tr>\n",
       "    <tr>\n",
       "      <th>4</th>\n",
       "      <td>4.246948</td>\n",
       "      <td>424.694773</td>\n",
       "      <td>16.329165</td>\n",
       "      <td>None</td>\n",
       "      <td>rasmussen</td>\n",
       "      <td>1423.15</td>\n",
       "      <td>0.741868</td>\n",
       "    </tr>\n",
       "  </tbody>\n",
       "</table>\n",
       "</div>"
      ],
      "text/plain": [
       "   Pressure (kbar)  Pressure (MPa)  Depth (km) MC_crust_dens_kgm3      model  \\\n",
       "0         1.445991      144.599143    5.840007               None  rasmussen   \n",
       "1         6.780995      678.099451         NaN               None  rasmussen   \n",
       "2         1.466838      146.683822    5.920451               None  rasmussen   \n",
       "3         4.570341      457.034146   17.520428               None  rasmussen   \n",
       "4         4.246948      424.694773   16.329165               None  rasmussen   \n",
       "\n",
       "    MC_T_K  MC_CO2_dens_gcm3  \n",
       "0  1423.15          0.389845  \n",
       "1  1423.15          0.923179  \n",
       "2  1423.15          0.393791  \n",
       "3  1423.15          0.769280  \n",
       "4  1423.15          0.741868  "
      ]
     },
     "execution_count": 8,
     "metadata": {},
     "output_type": "execute_result"
    }
   ],
   "source": [
    "D_Ras=pf.convert_co2_dens_press_depth(T_K=1150+273.15,\n",
    "CO2_dens_gcm3=data['Density_g_cm3'], model='rasmussen', output='df')\n",
    "D_Ras.head()"
   ]
  },
  {
   "cell_type": "markdown",
   "id": "513ad4b3-8ae1-4196-8080-a3590639af41",
   "metadata": {},
   "source": [
    "## Plot these up to see the differences"
   ]
  },
  {
   "cell_type": "code",
   "execution_count": 9,
   "id": "ec4572a4-ef06-49ee-bd24-3b1274a5e4a5",
   "metadata": {},
   "outputs": [
    {
     "data": {
      "text/plain": [
       "Text(0, 0.5, 'Depth (km)')"
      ]
     },
     "execution_count": 9,
     "metadata": {},
     "output_type": "execute_result"
    },
    {
     "data": {
      "image/png": "[encoded data removed]",
      "text/plain": [
       "<Figure size 1000x500 with 2 Axes>"
      ]
     },
     "metadata": {},
     "output_type": "display_data"
    }
   ],
   "source": [
    "fig, (ax1, ax2) = plt.subplots(1, 2, figsize=(10,5))\n",
    "ax1.plot(D_Ras['MC_CO2_dens_gcm3'], D_Ras['Depth (km)'],\n",
    "         'ok', mfc='red', label='Rasmussen')\n",
    "ax1.plot(D_3_step['MC_CO2_dens_gcm3'], D_3_step['Depth (km)'],\n",
    "         'dk', mfc='yellow', label='3-step')\n",
    "ax1.plot(D_2_step['MC_CO2_dens_gcm3'], D_2_step['Depth (km)'],\n",
    "         'dk', mfc='cyan', label='2-step')\n",
    "ax1.plot(D_Constant_rho['MC_CO2_dens_gcm3'], D_Constant_rho['Depth (km)'],\n",
    "         '.k', mfc='black', label='2700kg/m3')\n",
    "\n",
    "\n",
    "\n",
    "ax2.plot(D_Ras['MC_CO2_dens_gcm3'], D_Ras['Depth (km)'],\n",
    "         'ok', mfc='red', label='Rasmussen')\n",
    "ax2.plot(D_3_step['MC_CO2_dens_gcm3'], D_3_step['Depth (km)'],\n",
    "         'dk', mfc='yellow', label='3-step')\n",
    "ax2.plot(D_2_step['MC_CO2_dens_gcm3'], D_2_step['Depth (km)'],\n",
    "         'dk', mfc='cyan', label='2-step')\n",
    "ax2.plot(D_Constant_rho['MC_CO2_dens_gcm3'], D_Constant_rho['Depth (km)'],\n",
    "         '.k', mfc='black', label='2700kg/m3')\n",
    "ax2.set_xlim([0, 0.3])\n",
    "ax2.set_ylim([0, 5])\n",
    "\n",
    "ax1.legend()\n",
    "ax1.invert_yaxis()\n",
    "ax2.invert_yaxis()\n",
    "\n",
    "\n",
    "ax1.set_xlabel('CO$_2$ density (g/cm$^{3}$)')\n",
    "ax1.set_ylabel('Depth (km)')\n",
    "ax2.set_xlabel('CO$_2$ density (g/cm$^{3}$)')\n",
    "ax2.set_ylabel('Depth (km)')"
   ]
  }
 ],
 "metadata": {
  "kernelspec": {
   "display_name": "Python 3 (ipykernel)",
   "language": "python",
   "name": "python3"
  },
  "language_info": {
   "codemirror_mode": {
    "name": "ipython",
    "version": 3
   },
   "file_extension": ".py",
   "mimetype": "text/x-python",
   "name": "python",
   "nbconvert_exporter": "python",
   "pygments_lexer": "ipython3",
   "version": "3.11.5"
  }
 },
 "nbformat": 4,
 "nbformat_minor": 5
}
