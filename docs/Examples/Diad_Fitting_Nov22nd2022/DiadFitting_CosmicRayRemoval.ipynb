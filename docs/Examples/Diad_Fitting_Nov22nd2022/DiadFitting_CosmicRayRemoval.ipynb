{
 "cells": [
  {
   "cell_type": "code",
   "execution_count": null,
   "id": "3ebd937a-7bfc-43e8-a4d6-3d9e2f5d9182",
   "metadata": {},
   "outputs": [],
   "source": [
    "import numpy as np\n",
    "import pandas as pd\n",
    "import matplotlib.pyplot as plt\n",
    "import joblib"
   ]
  },
  {
   "cell_type": "markdown",
   "id": "e54eaa15-a528-4910-8514-ca74cc9f6787",
   "metadata": {},
   "source": [
    "## Downloading locally\n",
    "- The easiest way to install diad fit is by removing the #, and running this once per computer. When I update the code, you'll need to get the new tag off GitHub:\n",
    "https://github.com/PennyWieser/DiadFit/tags\n",
    "Right click on the top one, over the 'zip' icon, click copy link address\n",
    "- If youve already done this for Ne, you dont need to do here too"
   ]
  },
  {
   "cell_type": "code",
   "execution_count": null,
   "id": "8c9e4327-e354-4871-b04e-10a444b10536",
   "metadata": {},
   "outputs": [],
   "source": [
    "#!pip install --upgrade \"https://github.com/PennyWieser/DiadFit/archive/refs/tags/0.0.11.zip\""
   ]
  },
  {
   "cell_type": "markdown",
   "id": "2096c3ec-5b08-467e-a0e7-25c5f652b91d",
   "metadata": {},
   "source": [
    "### This imports DiadFit, and gives you the version. In all communication with Penny, make sure you say the version!\n"
   ]
  },
  {
   "cell_type": "code",
   "execution_count": null,
   "id": "32ce9eba-e63a-4d54-9d1b-b43836c33cdc",
   "metadata": {},
   "outputs": [],
   "source": [
    "import DiadFit as pf\n",
    "pf.__version__"
   ]
  },
  {
   "cell_type": "code",
   "execution_count": null,
   "id": "9731efd8-270f-4ac2-a18f-9e84bd2dc166",
   "metadata": {},
   "outputs": [],
   "source": [
    "DayFolder=r'G:\\My Drive\\Berkeley_NEW\\DiadFit_outer\\docs\\Examples\\Diad_Fitting_Nov22nd2022'\n",
    "meta_path=DayFolder +  '\\MetaData'\n",
    "spectra_path=DayFolder + '\\Spectra'"
   ]
  },
  {
   "cell_type": "code",
   "execution_count": null,
   "id": "3c2b4c9d-e40c-45bc-8bfe-29c9e2c314d5",
   "metadata": {},
   "outputs": [],
   "source": [
    "# This specifies what file type your Raman exported in. \n",
    "filetype='headless_txt' # Specifies raman file format \n",
    "file_ext='.txt'\n",
    "prefix=False"
   ]
  },
  {
   "cell_type": "markdown",
   "id": "edae4212-c5f8-4b42-a890-e717860d0e4c",
   "metadata": {},
   "source": [
    "## Now load the files of interest"
   ]
  },
  {
   "cell_type": "code",
   "execution_count": null,
   "id": "92b43abb-139f-4b55-b777-dc9a7a3e8622",
   "metadata": {},
   "outputs": [],
   "source": [
    "Diad_Files_Weak = joblib.load('Diad_Files_Grp2.sav')"
   ]
  },
  {
   "cell_type": "code",
   "execution_count": null,
   "id": "a516ec9f-baee-45de-b642-40893c75f501",
   "metadata": {},
   "outputs": [],
   "source": [
    "Diad_Files_Weak"
   ]
  },
  {
   "cell_type": "code",
   "execution_count": null,
   "id": "04556b77-51c9-413d-a8dc-d03b7803a0b2",
   "metadata": {},
   "outputs": [],
   "source": [
    "# Select one file to tweak fit on\n",
    "filename_Weak='POC25.txt' #Diad_Files_Weak[1]\n",
    "filename_Weak"
   ]
  },
  {
   "cell_type": "code",
   "execution_count": null,
   "id": "a14679b9-ad88-45ee-a743-4fcded743d75",
   "metadata": {},
   "outputs": [],
   "source": [
    "plot1=pf.plot_diad(path=spectra_path, filename=filename_Weak, filetype=filetype)"
   ]
  },
  {
   "cell_type": "markdown",
   "id": "bece2468-50f5-49eb-8464-499857a54829",
   "metadata": {},
   "source": [
    "## Decide if you want a secondary peak\n",
    "- If you dont have the peak, it is only a little slower, but it works if it only appears in a small number of spectra still"
   ]
  },
  {
   "cell_type": "code",
   "execution_count": null,
   "id": "3bb51845-7f9b-449d-95b3-9425da9c5eeb",
   "metadata": {},
   "outputs": [],
   "source": [
    "# Decide if you want to fit a carbonate peak or not here. \n",
    "fit_sec_peak=False\n",
    "\n",
    "if fit_sec_peak is True:\n",
    "\n",
    "    # Tweak options here, can exclude a range for example using exclude_range=Tuple[float, float]\n",
    "    generic_Config=pf.generic_peak_config(lower_bck=(1110, 1130), \n",
    "    upper_bck=(1160, 1180), cent_generic=1150, name='SO2')\n",
    "\n",
    "    generic_fit=pf.fit_generic_peak(config=generic_Config, path=spectra_path, \n",
    "    filename=filename_Weak, filetype=filetype)\n",
    "    generic_fit"
   ]
  },
  {
   "cell_type": "markdown",
   "id": "cb148f4a-c0cf-437d-8e84-94221f0f87ad",
   "metadata": {},
   "source": [
    "## Now lets inspect the diads and get their approximate positions\n",
    "- As with generic peak, you can exclude 2 segments (e.g. around cosmic rays)\n",
    "- You then specify how many peaks you want to fit on each diad. 1 means just the strong peak, 2 hotbands, and 3 for Diad2 would also fit the C13 peak if present. \n",
    "- The identify_diad_peaks then uses scipy findpeaks to identify the positions of the 2 diads, and any other peaks the user asks for. These are saved, and fed into the later functions for peak fitting. "
   ]
  },
  {
   "cell_type": "code",
   "execution_count": null,
   "id": "b41f2937-0d7a-4aa1-9de1-dcfd2496837f",
   "metadata": {},
   "outputs": [],
   "source": [
    "diad_id_config=pf.diad_id_config(height=50)\n",
    "diad_id_config"
   ]
  },
  {
   "cell_type": "code",
   "execution_count": null,
   "id": "2de1ebf7-0d2a-4e5a-8da4-862ac9050a35",
   "metadata": {},
   "outputs": [],
   "source": [
    "# Specify the number of peaks, 1 = just peak, 2 = Peak+hot bands\n",
    "n_peaks_diad1=2\n",
    "n_peaks_diad2=2\n",
    "    \n",
    "diad1_peaks, diad2_peaks=pf.identify_diad_peaks(\n",
    "    config=diad_id_config, path=spectra_path, filename=filename_Weak,\n",
    "filetype=filetype, n_peaks_diad1=n_peaks_diad1, n_peaks_diad2=n_peaks_diad2)"
   ]
  },
  {
   "cell_type": "code",
   "execution_count": null,
   "id": "9d84fafc-5dcb-4d45-8529-d20092c4fa88",
   "metadata": {},
   "outputs": [],
   "source": [
    "Diad_df=pf.get_data(path=spectra_path, filename=filename_Weak, filetype='headless_txt')"
   ]
  },
  {
   "cell_type": "code",
   "execution_count": null,
   "id": "c8a7a40f-5bd7-42a4-b7f5-727cb9148c2f",
   "metadata": {},
   "outputs": [],
   "source": [
    "Diad_df"
   ]
  },
  {
   "cell_type": "code",
   "execution_count": null,
   "id": "de65b04e-472d-4988-a35e-b08ebd70c3fe",
   "metadata": {},
   "outputs": [],
   "source": [
    "run_mean=np.empty(len(Diad_df), float)\n",
    "run_std=np.empty(len(Diad_df), float)\n",
    "mov_av=2\n",
    "for i in range(0, len(Diad_df)):\n",
    "    if i<=mov_av:\n",
    "        run_mean[i]=np.nan\n",
    "        run_std[i]=np.nan\n",
    "    elif i>len(Diad_df)-mov_av:\n",
    "        run_mean[i]=np.nan\n",
    "        run_std[i]=np.nan\n",
    "    else:\n",
    "        \n",
    "        y=Diad_df[:, 1]\n",
    "        x=np.linspace(0, len(Diad_df)-1, len(Diad_df))\n",
    "        run_mean[i]=np.nanmean(y[(x>i-mov_av)&(x<i+mov_av)& (x!=i)])\n",
    "        run_std[i]=np.nanstd(y[(x>i-mov_av)&(x<i+mov_av)& (x!=i)])"
   ]
  },
  {
   "cell_type": "code",
   "execution_count": null,
   "id": "fe57b96e-700f-4603-93cf-7d617266b6d5",
   "metadata": {},
   "outputs": [],
   "source": [
    "run_mean[5:20]"
   ]
  },
  {
   "cell_type": "code",
   "execution_count": null,
   "id": "4bd9e88e-cce6-4673-9a89-6541c1a96059",
   "metadata": {},
   "outputs": [],
   "source": [
    "y=Diad_df[:, 1]\n",
    "x=Diad_df[:, 0]"
   ]
  },
  {
   "cell_type": "code",
   "execution_count": null,
   "id": "50287159-49f1-47a9-bb85-ac0d7500692b",
   "metadata": {},
   "outputs": [],
   "source": [
    "y[(x>i-mov_av)& (x>i+mov_av)]"
   ]
  },
  {
   "cell_type": "code",
   "execution_count": null,
   "id": "913a1ba5-fdd0-4b34-be87-40b688e4f1cc",
   "metadata": {},
   "outputs": [],
   "source": [
    "plt.plot(Diad_df[:, 0], Diad_df[:, 1], 'ok')\n",
    "plt.plot(Diad_df[:, 0], run_mean, '-r')\n",
    "plt.plot(Diad_df[:, 0], run_std, '-g')"
   ]
  },
  {
   "cell_type": "code",
   "execution_count": null,
   "id": "be7bfe8f-bc08-4eb0-82ff-0685a3c842ca",
   "metadata": {},
   "outputs": [],
   "source": [
    "wavelength=Diad_df[:, 0]\n",
    "intensity=Diad_df[:, 1]"
   ]
  },
  {
   "cell_type": "code",
   "execution_count": 95,
   "id": "b2cecb1a-6b06-4d79-9c8d-884416abc7bd",
   "metadata": {},
   "outputs": [
    {
     "data": {
      "text/plain": [
       "(1260.0, 1400.0)"
      ]
     },
     "execution_count": 95,
     "metadata": {},
     "output_type": "execute_result"
    },
    {
     "data": {
      "image/png": "[encoded data removed]",
      "text/plain": [
       "<Figure size 640x480 with 1 Axes>"
      ]
     },
     "metadata": {},
     "output_type": "display_data"
    }
   ],
   "source": [
    "factor=0.1 #6745\n",
    "def modified_z_score(intensity):\n",
    "    median_int = np.median(intensity)\n",
    "    mad_int = np.median([np.abs(intensity - median_int)])\n",
    "    modified_z_scores = factor * (intensity - median_int) / mad_int\n",
    "    return modified_z_scores\n",
    "# First we calculated ∇x(i):\n",
    "dist = 0\n",
    "delta_intensity = [] \n",
    "for i in np.arange(len(intensity)-1):\n",
    " dist = intensity[i+1] -intensity[i]\n",
    " delta_intensity.append(dist)\n",
    "delta_int = np.array(delta_intensity)\n",
    "# Alternatively to the for loop one can use: \n",
    "# delta_int = np.diff(intensity)\n",
    "\n",
    "intensity_modified_z_score = np.array(modified_z_score(delta_int))\n",
    "plt.plot(wavelength[1:], intensity_modified_z_score, '.-')\n",
    "plt.title('Modified Z-Score using ∇x(i)')\n",
    "plt.xticks(fontsize = 15)\n",
    "plt.yticks(fontsize = 15)\n",
    "plt.xlabel('Wavelength (nm)', fontsize = 20)\n",
    "plt.ylabel('Score', fontsize = 20)\n",
    "plt.xlim([1260, 1400])"
   ]
  },
  {
   "cell_type": "code",
   "execution_count": null,
   "id": "d00b8f09-b51d-4723-92ca-64e69e532f89",
   "metadata": {},
   "outputs": [],
   "source": []
  },
  {
   "cell_type": "code",
   "execution_count": 106,
   "id": "d15c5f6c-7b95-452e-8974-4f377aa0ef2b",
   "metadata": {},
   "outputs": [
    {
     "data": {
      "image/png": "[encoded data removed]",
      "text/plain": [
       "<Figure size 640x480 with 1 Axes>"
      ]
     },
     "metadata": {},
     "output_type": "display_data"
    }
   ],
   "source": [
    "threshold = 3.5\n",
    "intensity_modified_z_score = np.array(np.abs(modified_z_score(delta_int)))\n",
    "plt.plot(wavelength[1:], intensity_modified_z_score, \n",
    "        '.-')\n",
    "plt.plot(wavelength[1:], threshold*np.ones(len(wavelength[1:])), label = 'threshold')\n",
    "plt.title('Modified Z-Score of ∇x(i)', fontsize = 20)\n",
    "plt.xticks(fontsize = 15)\n",
    "plt.yticks(fontsize = 15)\n",
    "plt.xlabel('Wavelength (nm)', fontsize = 20)\n",
    "plt.ylabel('Score', fontsize = 20)\n",
    "plt.xlim([1250, 1450])\n",
    "plt.show()"
   ]
  },
  {
   "cell_type": "code",
   "execution_count": null,
   "id": "5d29665b-3f2d-4ed3-af14-28ee699b4d3e",
   "metadata": {},
   "outputs": [],
   "source": []
  },
  {
   "cell_type": "code",
   "execution_count": 102,
   "id": "c470b9ff-6737-4d5e-a56c-26cb51140124",
   "metadata": {},
   "outputs": [
    {
     "ename": "FloatingPointError",
     "evalue": "invalid value encountered in double_scalars",
     "output_type": "error",
     "traceback": [
      "\u001b[1;31m---------------------------------------------------------------------------\u001b[0m",
      "\u001b[1;31mFloatingPointError\u001b[0m                        Traceback (most recent call last)",
      "Input \u001b[1;32mIn [102]\u001b[0m, in \u001b[0;36m<cell line: 13>\u001b[1;34m()\u001b[0m\n\u001b[0;32m     11\u001b[0m \u001b[38;5;66;03m# Does it work?\u001b[39;00m\n\u001b[0;32m     12\u001b[0m plt\u001b[38;5;241m.\u001b[39mplot(wavelength, intensity, label \u001b[38;5;241m=\u001b[39m \u001b[38;5;124m'\u001b[39m\u001b[38;5;124moriginal data\u001b[39m\u001b[38;5;124m'\u001b[39m)\n\u001b[1;32m---> 13\u001b[0m plt\u001b[38;5;241m.\u001b[39mplot(wavelength, \u001b[43mfixer\u001b[49m\u001b[43m(\u001b[49m\u001b[43mintensity\u001b[49m\u001b[43m,\u001b[49m\u001b[43mm\u001b[49m\u001b[38;5;241;43m=\u001b[39;49m\u001b[38;5;241;43m3\u001b[39;49m\u001b[43m)\u001b[49m, label \u001b[38;5;241m=\u001b[39m \u001b[38;5;124m'\u001b[39m\u001b[38;5;124mfixed spectrum\u001b[39m\u001b[38;5;124m'\u001b[39m)\n\u001b[0;32m     14\u001b[0m plt\u001b[38;5;241m.\u001b[39mtitle(\u001b[38;5;124m'\u001b[39m\u001b[38;5;124mDespiked spectrum\u001b[39m\u001b[38;5;124m'\u001b[39m,fontsize \u001b[38;5;241m=\u001b[39m \u001b[38;5;241m20\u001b[39m)\n\u001b[0;32m     15\u001b[0m plt\u001b[38;5;241m.\u001b[39mxticks(fontsize \u001b[38;5;241m=\u001b[39m \u001b[38;5;241m15\u001b[39m)\n",
      "Input \u001b[1;32mIn [102]\u001b[0m, in \u001b[0;36mfixer\u001b[1;34m(y, m)\u001b[0m\n\u001b[0;32m      7\u001b[0m         w \u001b[38;5;241m=\u001b[39m np\u001b[38;5;241m.\u001b[39marange(i\u001b[38;5;241m-\u001b[39mm,i\u001b[38;5;241m+\u001b[39m\u001b[38;5;241m1\u001b[39m\u001b[38;5;241m+\u001b[39mm) \u001b[38;5;66;03m# we select 2 m + 1 points around our spike\u001b[39;00m\n\u001b[0;32m      8\u001b[0m         w2 \u001b[38;5;241m=\u001b[39m w[spikes[w] \u001b[38;5;241m==\u001b[39m \u001b[38;5;241m0\u001b[39m] \u001b[38;5;66;03m# From such interval, we choose the ones which are not spikes\u001b[39;00m\n\u001b[1;32m----> 9\u001b[0m         y_out[i] \u001b[38;5;241m=\u001b[39m \u001b[43mnp\u001b[49m\u001b[38;5;241;43m.\u001b[39;49m\u001b[43mmean\u001b[49m\u001b[43m(\u001b[49m\u001b[43my\u001b[49m\u001b[43m[\u001b[49m\u001b[43mw2\u001b[49m\u001b[43m]\u001b[49m\u001b[43m)\u001b[49m \u001b[38;5;66;03m# and we average their values\u001b[39;00m\n\u001b[0;32m     10\u001b[0m \u001b[38;5;28;01mreturn\u001b[39;00m y_out\n",
      "File \u001b[1;32m<__array_function__ internals>:5\u001b[0m, in \u001b[0;36mmean\u001b[1;34m(*args, **kwargs)\u001b[0m\n",
      "File \u001b[1;32m~\\anaconda3\\lib\\site-packages\\numpy\\core\\fromnumeric.py:3440\u001b[0m, in \u001b[0;36mmean\u001b[1;34m(a, axis, dtype, out, keepdims, where)\u001b[0m\n\u001b[0;32m   3437\u001b[0m     \u001b[38;5;28;01melse\u001b[39;00m:\n\u001b[0;32m   3438\u001b[0m         \u001b[38;5;28;01mreturn\u001b[39;00m mean(axis\u001b[38;5;241m=\u001b[39maxis, dtype\u001b[38;5;241m=\u001b[39mdtype, out\u001b[38;5;241m=\u001b[39mout, \u001b[38;5;241m*\u001b[39m\u001b[38;5;241m*\u001b[39mkwargs)\n\u001b[1;32m-> 3440\u001b[0m \u001b[38;5;28;01mreturn\u001b[39;00m _methods\u001b[38;5;241m.\u001b[39m_mean(a, axis\u001b[38;5;241m=\u001b[39maxis, dtype\u001b[38;5;241m=\u001b[39mdtype,\n\u001b[0;32m   3441\u001b[0m                       out\u001b[38;5;241m=\u001b[39mout, \u001b[38;5;241m*\u001b[39m\u001b[38;5;241m*\u001b[39mkwargs)\n",
      "File \u001b[1;32m~\\anaconda3\\lib\\site-packages\\numpy\\core\\_methods.py:189\u001b[0m, in \u001b[0;36m_mean\u001b[1;34m(a, axis, dtype, out, keepdims, where)\u001b[0m\n\u001b[0;32m    187\u001b[0m         ret \u001b[38;5;241m=\u001b[39m arr\u001b[38;5;241m.\u001b[39mdtype\u001b[38;5;241m.\u001b[39mtype(ret \u001b[38;5;241m/\u001b[39m rcount)\n\u001b[0;32m    188\u001b[0m     \u001b[38;5;28;01melse\u001b[39;00m:\n\u001b[1;32m--> 189\u001b[0m         ret \u001b[38;5;241m=\u001b[39m ret\u001b[38;5;241m.\u001b[39mdtype\u001b[38;5;241m.\u001b[39mtype(\u001b[43mret\u001b[49m\u001b[43m \u001b[49m\u001b[38;5;241;43m/\u001b[39;49m\u001b[43m \u001b[49m\u001b[43mrcount\u001b[49m)\n\u001b[0;32m    190\u001b[0m \u001b[38;5;28;01melse\u001b[39;00m:\n\u001b[0;32m    191\u001b[0m     ret \u001b[38;5;241m=\u001b[39m ret \u001b[38;5;241m/\u001b[39m rcount\n",
      "\u001b[1;31mFloatingPointError\u001b[0m: invalid value encountered in double_scalars"
     ]
    },
    {
     "data": {
      "image/png": "[encoded data removed]",
      "text/plain": [
       "<Figure size 640x480 with 1 Axes>"
      ]
     },
     "metadata": {},
     "output_type": "display_data"
    }
   ],
   "source": [
    "def fixer(y,m):\n",
    "    threshold = 10 # binarization threshold. \n",
    "    spikes = abs(np.array(modified_z_score(np.diff(y)))) > threshold\n",
    "    y_out = y.copy() # So we don’t overwrite y\n",
    "    for i in np.arange(len(spikes)):\n",
    "        if spikes[i] != 0: # If we have an spike in position i\n",
    "            w = np.arange(i-m,i+1+m) # we select 2 m + 1 points around our spike\n",
    "            w2 = w[spikes[w] == 0] # From such interval, we choose the ones which are not spikes\n",
    "            y_out[i] = np.mean(y[w2]) # and we average their values\n",
    "    return y_out\n",
    "# Does it work?\n",
    "plt.plot(wavelength, intensity, label = 'original data')\n",
    "plt.plot(wavelength, fixer(intensity,m=3), label = 'fixed spectrum')\n",
    "plt.title('Despiked spectrum',fontsize = 20)\n",
    "plt.xticks(fontsize = 15)\n",
    "plt.yticks(fontsize = 15)\n",
    "plt.xlabel('Wavelength (nm)' ,fontsize = 20)\n",
    "plt.ylabel('Intensity (a.u.)' ,fontsize = 20)\n",
    "plt.legend()\n",
    "plt.show()"
   ]
  },
  {
   "cell_type": "code",
   "execution_count": 81,
   "id": "97795f90-4d7f-4382-bed1-381a6f583156",
   "metadata": {},
   "outputs": [
    {
     "data": {
      "image/png": "[encoded data removed]",
      "text/plain": [
       "<Figure size 640x480 with 1 Axes>"
      ]
     },
     "metadata": {},
     "output_type": "display_data"
    }
   ],
   "source": [
    "def z_score(intensity):\n",
    "    mean_int = np.mean(intensity)\n",
    "    std_int = np.std(intensity)\n",
    "    z_scores = (intensity - mean_int) / std_int\n",
    "    return z_scores\n",
    "\n",
    "threshold = 3.5\n",
    "plt.plot(wavelength, threshold*np.ones(len(wavelength)), label = 'threshold')\n",
    "intensity_z_score = np.array(z_score(intensity))\n",
    "plt.plot(wavelength, intensity_z_score)\n",
    "plt.xticks(fontsize = 15)\n",
    "plt.yticks(fontsize = 15)\n",
    "plt.xlabel('Wavelength' ,fontsize = 20)\n",
    "plt.ylabel('Z-Score' ,fontsize = 20)\n",
    "plt.show()"
   ]
  },
  {
   "cell_type": "code",
   "execution_count": null,
   "id": "88d2d5b8-5e80-4d06-994c-605dfeb1bba5",
   "metadata": {},
   "outputs": [],
   "source": [
    "def spot_cosmic_rays("
   ]
  },
  {
   "cell_type": "code",
   "execution_count": null,
   "id": "023f42ac-3dca-47eb-87e7-9a5a2b318cff",
   "metadata": {},
   "outputs": [],
   "source": [
    "## Choose a model - option, pseudovoigt or voigt\n",
    "model_name='PseudoVoigtModel'"
   ]
  },
  {
   "cell_type": "markdown",
   "id": "d50c1d50-435d-4ac1-8a09-ad4239c673a0",
   "metadata": {},
   "source": [
    "## Fit Diad 1\n",
    "- You can tweak the parameters in diad1_fit_config"
   ]
  },
  {
   "cell_type": "code",
   "execution_count": null,
   "id": "80b456f7-bc8a-4588-9d5e-7e1b69be0a11",
   "metadata": {},
   "outputs": [],
   "source": [
    "diad1_fit_config_init=pf.diad1_fit_config(model_name=model_name,\n",
    "N_poly_bck_diad1=2, lower_bck_diad1=(1180, 1220),\n",
    "diad_sigma=0.6, sigma_allowance=2,\n",
    "y_range_baseline=200,\n",
    "x_range_residual=10, x_range_baseline=30, HB_amplitude=5, diad_amplitude=1000)\n",
    "diad1_fit_config_init"
   ]
  },
  {
   "cell_type": "code",
   "execution_count": null,
   "id": "89497349-84fb-4051-b10a-ae2e3a9fbe21",
   "metadata": {},
   "outputs": [],
   "source": [
    "# ## How are we constraining hot bands\n",
    "# - If no gaussian - as HB Amplitude, then peakpArea/100, Peakp_Area/5\n",
    "# - fwhm = \n",
    "\n",
    "# Peakp_sigma/10 and Peakp_sigma*10"
   ]
  },
  {
   "cell_type": "code",
   "execution_count": null,
   "id": "f5917fce-363b-44c0-bec3-4d6b3e7e5235",
   "metadata": {},
   "outputs": [],
   "source": [
    "Diad1_fit=pf.fit_diad_1_w_bck(config1=diad1_fit_config_init,\n",
    "config2=diad_id_config, peak_pos_voigt=diad1_peaks,\n",
    "path=spectra_path, filename=filename_Weak, filetype=filetype, close_figure=False)\n",
    "Diad1_fit"
   ]
  },
  {
   "cell_type": "code",
   "execution_count": null,
   "id": "6ad05f08-d5bd-4a71-9a22-fbf0eb133de3",
   "metadata": {},
   "outputs": [],
   "source": [
    "### Now lets update the tweakable parameters with the sigma values\n",
    "diad1_fit_config=diad1_fit_config_init\n",
    "diad1_fit_config.diad_sigma=Diad1_fit['Diad1_Voigt_Sigma'][0]\n",
    "diad1_fit_config.diad_amplitude=Diad1_fit['Diad1_Voigt_Area'][0]\n",
    "diad1_fit_config.HB_amplitude=Diad1_fit['HB1_Area'][0]\n",
    "diad1_fit_config.sigma_allowance=2\n",
    "diad1_fit_config"
   ]
  },
  {
   "cell_type": "markdown",
   "id": "f0d99852-16c9-439e-807b-3f13b5ce5d70",
   "metadata": {},
   "source": [
    "## Fit diad 2"
   ]
  },
  {
   "cell_type": "code",
   "execution_count": null,
   "id": "84b26f3c-378a-40d9-8a45-1f24d535c6de",
   "metadata": {},
   "outputs": [],
   "source": [
    "diad2_fit_config_init=pf.diad2_fit_config(model_name=model_name,\n",
    "diad_sigma=0.5,  N_poly_bck_diad2=2,\n",
    "HB_amplitude=100,                                          \n",
    "x_range_residual=10, \n",
    "diad_amplitude=6000, \n",
    "x_range_baseline=30)\n",
    "diad2_fit_config_init"
   ]
  },
  {
   "cell_type": "code",
   "execution_count": null,
   "id": "276bec5a-c842-4404-8bf4-da675861b05a",
   "metadata": {},
   "outputs": [],
   "source": [
    "Diad2_fit=pf.fit_diad_2_w_bck(config1=diad2_fit_config_init,\n",
    "    config2=diad_id_config, peak_pos_voigt=diad2_peaks,\n",
    "path=spectra_path, filename=filename_Weak, filetype=filetype, close_figure=False)\n",
    "Diad2_fit.to_clipboard(excel=True)\n",
    "Diad2_fit"
   ]
  },
  {
   "cell_type": "code",
   "execution_count": null,
   "id": "581d1aec-2269-441d-b128-24e340c2cb65",
   "metadata": {},
   "outputs": [],
   "source": [
    "# Update param with new sigma\n",
    "diad2_fit_config=diad2_fit_config_init\n",
    "diad2_fit_config.diad_sigma=Diad2_fit['Diad2_Voigt_Sigma'][0]\n",
    "diad2_fit_config.sigma_allowance=2\n",
    "diad2_fit_config.diad_amplitude=Diad2_fit['Diad2_Voigt_Area'][0]\n",
    "diad2_fit_config.HB_amplitude=Diad2_fit['HB2_Area'][0]\n",
    "diad2_fit_config"
   ]
  },
  {
   "cell_type": "markdown",
   "id": "8c4c5586-a1f8-4e0e-8f31-142570f500d3",
   "metadata": {},
   "source": [
    "## You can also try looping if all your spectra are pretty similar"
   ]
  },
  {
   "cell_type": "code",
   "execution_count": null,
   "id": "142097d4-1b36-4268-a59c-08acc82baccd",
   "metadata": {},
   "outputs": [],
   "source": [
    "from tqdm import tqdm\n",
    "plot_figure=False # If False, Means doesnt have to make figures, lot faster. \n",
    "close_figure=False # Means shows figures in the notebook itself\n",
    "to_clipboard=False # Copies to clipboard\n",
    "Diad_Files_Weak_i=Diad_Files_Weak\n",
    "df_Weak = pd.DataFrame([])\n",
    "for i in tqdm(range(0, len(Diad_Files_Weak))): #\n",
    "    \n",
    "    filename=Diad_Files_Weak[i]\n",
    "\n",
    "    if fit_sec_peak is True:\n",
    "    \n",
    "        generic_fit=pf.fit_generic_peak(config=generic_Config, path=spectra_path, \n",
    "filename=filename, filetype=filetype)\n",
    "\n",
    "\n",
    "    diad1_peaks, diad2_peaks=pf.identify_diad_peaks(config=diad_id_config,\n",
    "            path=spectra_path, filename=filename,\n",
    "filetype=filetype, n_peaks_diad1=n_peaks_diad1, \n",
    "    n_peaks_diad2=n_peaks_diad2, plot_figure=False)\n",
    "\n",
    "    Diad1_fit=pf.fit_diad_1_w_bck(config1=diad1_fit_config,\n",
    "    config2=diad_id_config, peak_pos_voigt=diad1_peaks,\n",
    "path=spectra_path, filename=filename, filetype=filetype, close_figure=close_figure)\n",
    "\n",
    "    Diad2_fit=pf.fit_diad_2_w_bck(config1=diad2_fit_config,\n",
    "        config2=diad_id_config, peak_pos_voigt=diad2_peaks,\n",
    "    path=spectra_path, filename=filename, filetype=filetype, close_figure=close_figure)\n",
    "    \n",
    "    if fit_sec_peak is True:\n",
    "        data=pf.combine_diad_outputs(filename=filename, prefix=False, \n",
    "    Diad1_fit=Diad1_fit, path=spectra_path,\n",
    "     to_clipboard=to_clipboard,                    \n",
    "    Diad2_fit=Diad2_fit, Carb_fit=generic_fit)\n",
    "        \n",
    "    \n",
    "    else:\n",
    "        data=pf.combine_diad_outputs(filename=filename, prefix=False, \n",
    "    Diad1_fit=Diad1_fit, path=spectra_path,\n",
    "     to_clipboard=to_clipboard,                    \n",
    "    Diad2_fit=Diad2_fit)        \n",
    "    \n",
    "\n",
    "    df_Weak = pd.concat([df_Weak, data], axis=0)\n"
   ]
  },
  {
   "cell_type": "markdown",
   "id": "172823eb-4e38-44ae-a76c-5889928fb23d",
   "metadata": {},
   "source": [
    "## Here are some figures to inspect the relationship between residuals and areas etc. "
   ]
  },
  {
   "cell_type": "code",
   "execution_count": null,
   "id": "bddf9c02-3802-4803-a23a-3a1d11914fa0",
   "metadata": {},
   "outputs": [],
   "source": [
    "df_Weak['Diad1_refit']"
   ]
  },
  {
   "cell_type": "code",
   "execution_count": null,
   "id": "16b6c69a-2c4e-4dd8-8d97-857c8baa7f9a",
   "metadata": {},
   "outputs": [],
   "source": [
    "# These ones triggered at least one warning, so need to be refit\n",
    "refit_d1=(df_Weak['Diad1_refit']==True)\n",
    "refit_d2=(df_Weak['Diad2_refit']==True)\n",
    "refit=refit_d1|refit_d2"
   ]
  },
  {
   "cell_type": "code",
   "execution_count": null,
   "id": "400df6c6-34cc-4b09-816b-cbfd26bd1475",
   "metadata": {},
   "outputs": [],
   "source": [
    "sum(refit)"
   ]
  },
  {
   "cell_type": "code",
   "execution_count": null,
   "id": "e78e8f89-fb0d-46e7-bffe-67cef6ea439e",
   "metadata": {},
   "outputs": [],
   "source": [
    "df_Weak.columns"
   ]
  },
  {
   "cell_type": "code",
   "execution_count": null,
   "id": "c44944cc-e7f5-45cc-b32a-41cf65a03c27",
   "metadata": {},
   "outputs": [],
   "source": [
    "\n",
    "x1='Diad1_Voigt_Cent'\n",
    "x2='Diad2_Voigt_Cent'\n",
    "y1='Diad1_fwhm'\n",
    "y2='Diad2_fwhm'\n",
    "fig, (ax1, ax2) = plt.subplots(1, 2, figsize=(10,5))\n",
    "ax1.plot(df_Weak[x1], df_Weak[y1], 'or')\n",
    "ax2.plot(df_Weak[x2], df_Weak[y2], 'ob')\n",
    "ax1.plot(df_Weak[x1].loc[refit_d1], df_Weak[y1].loc[refit_d1], 'xk', ms=10)\n",
    "ax2.plot(df_Weak[x2].loc[refit_d2], df_Weak[y2].loc[refit_d2], 'xk', ms=10)\n",
    "ax1.set_xlabel(x1)\n",
    "ax2.set_xlabel(x2)\n",
    "ax1.set_ylabel(y1)\n",
    "ax2.set_ylabel(y2)\n",
    "df_not_too_Weak=df_Weak #.loc[(df_Weak['Diad1_Voigt_Area']>25) & (df_Weak['Diad2_Voigt_Area']>30)]"
   ]
  },
  {
   "cell_type": "code",
   "execution_count": null,
   "id": "82164a6b-31a8-43c9-a88a-b6795af226bd",
   "metadata": {},
   "outputs": [],
   "source": [
    "\n",
    "x='Splitting'\n",
    "y1='Diad1_Prop_Lor'\n",
    "y2='Diad2_Prop_Lor'\n",
    "fig, (ax1, ax2) = plt.subplots(1, 2, figsize=(10,5))\n",
    "ax1.plot(df_Weak[x], df_Weak[y1], 'or')\n",
    "ax2.plot(df_Weak[x], df_Weak[y2], 'ob')\n",
    "ax1.plot(df_Weak[x].loc[refit_d1], df_Weak[y1].loc[refit_d1], 'xk', ms=10)\n",
    "ax2.plot(df_Weak[x].loc[refit_d2], df_Weak[y2].loc[refit_d2], 'xk', ms=10)\n",
    "ax1.set_xlabel(x)\n",
    "ax2.set_xlabel(x)\n",
    "ax1.set_ylabel(y1)\n",
    "ax2.set_ylabel(y2)\n",
    "df_not_too_Weak=df_Weak #.loc[(df_Weak['Diad1_Voigt_Area']>25) & (df_Weak['Diad2_Voigt_Area']>30)]"
   ]
  },
  {
   "cell_type": "code",
   "execution_count": null,
   "id": "bb2ff66b-8294-48f0-8d09-42520c2d0934",
   "metadata": {},
   "outputs": [],
   "source": [
    "x1='Diad1_Voigt_Sigma'\n",
    "x2='Diad2_Voigt_Sigma'\n",
    "y1='Diad1_Combofit_Height'\n",
    "y2='Diad2_Combofit_Height'\n",
    "fig, (ax1, ax2) = plt.subplots(1, 2, figsize=(10,5))\n",
    "ax1.plot(df_Weak[x1], df_Weak[y1], 'or')\n",
    "ax2.plot(df_Weak[x2], df_Weak[y2], 'ob')\n",
    "ax1.plot(df_Weak[x1].loc[refit_d1], df_Weak[y1].loc[refit_d1], 'xk', ms=10)\n",
    "ax2.plot(df_Weak[x2].loc[refit_d2], df_Weak[y2].loc[refit_d2], 'xk', ms=10)\n",
    "\n",
    "ax1.set_xlabel(x1)\n",
    "ax1.set_ylabel(y1)\n",
    "ax2.set_xlabel(x2)\n",
    "ax2.set_ylabel(y2)\n",
    "df_not_too_Weak=df_Weak #.loc[(df_Weak['Diad1_Voigt_Area']>25) & (df_Weak['Diad2_Voigt_Area']>30)]"
   ]
  },
  {
   "cell_type": "code",
   "execution_count": null,
   "id": "2ebee5df-2f8c-4b6c-ba23-45d55beaf0aa",
   "metadata": {},
   "outputs": [],
   "source": [
    "x='Splitting'\n",
    "y1='Diad1_Voigt_Sigma'\n",
    "y2='Diad2_Voigt_Sigma'\n",
    "fig, (ax1, ax2) = plt.subplots(1, 2, figsize=(10,5))\n",
    "ax1.plot(df_Weak[x], df_Weak[y1], 'or')\n",
    "ax2.plot(df_Weak[x], df_Weak[y2], 'ob')\n",
    "ax1.plot(df_Weak[x].loc[refit_d1], df_Weak[y1].loc[refit_d1], 'xk', ms=10)\n",
    "ax2.plot(df_Weak[x].loc[refit_d2], df_Weak[y2].loc[refit_d2], 'xk', ms=10)\n",
    "ax1.set_xlabel(x)\n",
    "ax2.set_xlabel(x)\n",
    "ax1.set_ylabel(y1)\n",
    "ax2.set_ylabel(y2)\n",
    "df_not_too_Weak=df_Weak #.loc[(df_Weak['Diad1_Voigt_Area']>25) & (df_Weak['Diad2_Voigt_Area']>30)]"
   ]
  },
  {
   "cell_type": "code",
   "execution_count": null,
   "id": "c38d37fa-60fb-4a7f-be92-9288946780f2",
   "metadata": {},
   "outputs": [],
   "source": [
    "df_anom=df_Weak.loc[refit]\n",
    "df_anom['filename']"
   ]
  },
  {
   "cell_type": "code",
   "execution_count": null,
   "id": "593906fe-7f93-440d-95e0-0b7bd32e8894",
   "metadata": {},
   "outputs": [],
   "source": [
    "if sum(refit)>0:\n",
    "    filename_refit=df_anom['filename'].iloc[0] + file_ext\n",
    "\n",
    "    diad1_peaks, diad2_peaks=pf.identify_diad_peaks(config=diad_id_config,\n",
    "            path=spectra_path, filename=filename,\n",
    "filetype=filetype, n_peaks_diad1=n_peaks_diad1, \n",
    "    n_peaks_diad2=n_peaks_diad2, plot_figure=False)    \n",
    "\n",
    "\n",
    "    diad1_fit_config_refit=pf.diad1_fit_config(model_name=model_name,\n",
    "    diad_sigma=0.8, sigma_allowance=2,\n",
    "    x_range_residual=10, \n",
    "    x_range_baseline=30, HB_amplitude=5, diad_amplitude=10000)\n",
    "\n",
    "\n",
    "    diad2_fit_config_refit=pf.diad2_fit_config(model_name=model_name,\n",
    "    diad_sigma=0.8, sigma_allowance=2,  \n",
    "                                x_range_residual=10, \n",
    "                                diad_amplitude=10000, \n",
    "                            x_range_baseline=30)\n",
    "    diad2_fit_config\n",
    "\n",
    "\n",
    "    Diad1_refit=pf.fit_diad_1_w_bck(config1=diad1_fit_config_refit,\n",
    "        config2=diad_id_config, peak_pos_voigt=diad1_peaks,\n",
    "    path=spectra_path, filename=filename_refit, filetype=filetype, close_figure=False)\n",
    "\n",
    "\n",
    "\n",
    "    Diad2_refit=pf.fit_diad_2_w_bck(config1=diad2_fit_config_refit,\n",
    "        config2=diad_id_config, peak_pos_voigt=diad2_peaks,                              \n",
    "    path=spectra_path, filename=filename_refit, filetype=filetype, close_figure=False)\n",
    "\n",
    "\n",
    "\n",
    "    data_refit=pf.combine_diad_outputs(filename=filename, prefix=False, \n",
    "    Diad1_fit=Diad1_fit, path=spectra_path,\n",
    "     to_clipboard=to_clipboard,                    \n",
    "    Diad2_fit=Diad2_fit, Carb_fit=None)\n",
    "\n",
    "    data_refit"
   ]
  },
  {
   "cell_type": "code",
   "execution_count": null,
   "id": "c1965d1d-3f90-4b74-883e-357fd14114e9",
   "metadata": {},
   "outputs": [],
   "source": [
    "len(refit)"
   ]
  },
  {
   "cell_type": "code",
   "execution_count": null,
   "id": "515c9ecd-d3a5-417b-a823-f8e0ae6dfd44",
   "metadata": {},
   "outputs": [],
   "source": [
    "if sum(refit)>1:\n",
    "    from tqdm import tqdm\n",
    "    plot_figure=True # If False, Means doesnt have to make figures, lot faster. \n",
    "    close_figure=False # Means shows figures in the notebook itself\n",
    "    to_clipboard=False # Copies to clipboard\n",
    "\n",
    "    df_Weak_refit = pd.DataFrame([])\n",
    "    for i in tqdm(range(0, len(df_anom))):\n",
    "\n",
    "        filename=df_anom['filename'].iloc[i] + file_ext\n",
    "\n",
    "        generic_fit=pf.fit_generic_peak(config=generic_Config, path=spectra_path, \n",
    "    filename=filename, filetype=filetype)\n",
    "\n",
    "\n",
    "        diad1_peaks, diad2_peaks=pf.identify_diad_peaks(config=diad_id_config,\n",
    "                path=spectra_path, filename=filename,\n",
    "    filetype=filetype, n_peaks_diad1=n_peaks_diad1, \n",
    "        n_peaks_diad2=n_peaks_diad2, plot_figure=False)\n",
    "\n",
    "        Diad1_fit=pf.fit_diad_1_w_bck(config1=diad1_fit_config_refit,\n",
    "        config2=diad_id_config, peak_pos_voigt=diad1_peaks,\n",
    "    path=spectra_path, filename=filename, filetype=filetype, close_figure=close_figure)\n",
    "\n",
    "        Diad2_fit=pf.fit_diad_2_w_bck(config1=diad2_fit_config_refit,\n",
    "            config2=diad_id_config, peak_pos_voigt=diad2_peaks,\n",
    "        path=spectra_path, filename=filename, filetype=filetype, close_figure=close_figure)\n",
    "\n",
    "\n",
    "\n",
    "        data_refit=pf.combine_diad_outputs(filename=filename, prefix=False, \n",
    "    Diad1_fit=Diad1_fit, path=spectra_path,\n",
    "     to_clipboard=to_clipboard,                    \n",
    "    Diad2_fit=Diad2_fit, Carb_fit=generic_fit)\n",
    "    \n",
    " \n",
    "\n",
    "        df_Weak_refit = pd.concat([df_Weak_refit, data_refit], axis=0)\n",
    "    \n",
    "else:\n",
    "    df_Weak_refit=data_refit"
   ]
  },
  {
   "cell_type": "code",
   "execution_count": null,
   "id": "9ba0d6f0-d238-4611-b7b2-ab22ec2c4b1a",
   "metadata": {},
   "outputs": [],
   "source": [
    "df_Weak"
   ]
  },
  {
   "cell_type": "markdown",
   "id": "72444bbd-f635-4a13-b49b-a12c81753625",
   "metadata": {},
   "source": [
    "## Insert this into the dataframe"
   ]
  },
  {
   "cell_type": "code",
   "execution_count": null,
   "id": "ef49962f-f8ce-49e3-a4b9-24372bf666ce",
   "metadata": {},
   "outputs": [],
   "source": [
    "## First remove the bad rows from the old dataframe\n",
    "if sum(refit)>0:\n",
    "    Keep=df_Weak.loc[~refit]\n",
    "    combo=pd.concat([df_Weak, df_Weak_refit], axis=0)\n",
    "else:\n",
    "    combo=df_Weak"
   ]
  },
  {
   "cell_type": "code",
   "execution_count": null,
   "id": "b902545c-c80b-4585-9a19-516ac376a674",
   "metadata": {},
   "outputs": [],
   "source": [
    "combo"
   ]
  },
  {
   "cell_type": "code",
   "execution_count": null,
   "id": "e411e055-745d-412c-97ff-2191bf3eb416",
   "metadata": {},
   "outputs": [],
   "source": [
    "combo.to_excel('Med_Diads.xlsx')"
   ]
  },
  {
   "cell_type": "code",
   "execution_count": null,
   "id": "e174deb2-c74d-4373-a3e7-49f56cefcdd7",
   "metadata": {},
   "outputs": [],
   "source": [
    "combo.to_clipboard(excel=True)"
   ]
  },
  {
   "cell_type": "code",
   "execution_count": null,
   "id": "39ffad54-d1b4-4737-a1ff-bb4b2fdadcc3",
   "metadata": {},
   "outputs": [],
   "source": [
    "combo"
   ]
  },
  {
   "cell_type": "code",
   "execution_count": null,
   "id": "71f7c1ca-0324-4c6e-944a-c0ea7c89f14e",
   "metadata": {},
   "outputs": [],
   "source": []
  }
 ],
 "metadata": {
  "kernelspec": {
   "display_name": "Python 3 (ipykernel)",
   "language": "python",
   "name": "python3"
  },
  "language_info": {
   "codemirror_mode": {
    "name": "ipython",
    "version": 3
   },
   "file_extension": ".py",
   "mimetype": "text/x-python",
   "name": "python",
   "nbconvert_exporter": "python",
   "pygments_lexer": "ipython3",
   "version": "3.9.13"
  }
 },
 "nbformat": 4,
 "nbformat_minor": 5
}
