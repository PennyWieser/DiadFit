{
 "cells": [
  {
   "cell_type": "code",
   "execution_count": 1,
   "id": "9328a753",
   "metadata": {},
   "outputs": [],
   "source": [
    "import numpy as np\n",
    "import pandas as pd\n",
    "import matplotlib.pyplot as plt\n",
    "import DiadFit as pf"
   ]
  },
  {
   "cell_type": "markdown",
   "id": "01bd29c4",
   "metadata": {},
   "source": [
    "## Add folder here\n",
    "- if you are on a mac, you might have to change the file path slightly, I think you use slashes the other way maybe? "
   ]
  },
  {
   "cell_type": "code",
   "execution_count": 6,
   "id": "3799aaf7",
   "metadata": {},
   "outputs": [],
   "source": [
    "path=r'G:\\My Drive\\Postdoc\\MeltInclusion_SampleStuff\\Raman\\Day20\\Metadata'\n",
    "All_files=pf.get_all_txt_files(path)\n",
    "#All_files"
   ]
  },
  {
   "cell_type": "markdown",
   "id": "30ee6963",
   "metadata": {},
   "source": [
    "## These are the functions doing the work. Just run this cell!"
   ]
  },
  {
   "cell_type": "code",
   "execution_count": 7,
   "id": "d5d8cbeb",
   "metadata": {},
   "outputs": [
    {
     "name": "stdout",
     "output_type": "stream",
     "text": [
      "working on file01 MS14_5_Zscan.txt\n",
      "working on file02 MS14_5_H2O.txt\n",
      "working on file03 MS14_5_Ol.txt\n",
      "working on file04 BL2_MI1_Zscan_highback.txt\n",
      "working on file05 MS14_12_MI1_zscan.txt\n",
      "working on file06 MS14_12_MI1_H2O.txt\n",
      "working on file07 MS14_12_MI1_Ol.txt\n",
      "working on file08 SC3_2_MI2_Zscan.txt\n",
      "working on file09 20X_NS9_MI3.txt\n",
      "working on file10 50X_NS9_MI3.txt\n",
      "working on file11 NS9_MI3_2300wavenumber.txt\n",
      "working on file12 Ne_Lines_1.txt\n",
      "working on file13 NS9_MI3_8mW.txt\n",
      "working on file14 NS9_MI3_12mW.txt\n",
      "working on file15 Ne_Lines_2.txt\n",
      "working on file16 CC13_MI10_20X.txt\n",
      "working on file17 CC13_MI10_50X.txt\n",
      "working on file18 Ne_Lines_3.txt\n",
      "working on file19 CC13_MI10_50X_12mW.txt\n",
      "working on file20 CC13_MI10_50X_8mW.txt\n",
      "working on file21 Ne_Lines_4.txt\n",
      "working on file22 CC13_MI11_20X.txt\n",
      "working on file23 CC13_MI11_50X.txt\n",
      "working on file24 CC13_MI11_12mW.txt\n",
      "working on file25 CC13_MI12_20X.txt\n",
      "working on file26 CC13_MI12_20X.txt\n",
      "working on file27 CC13_MI12_12mW.txt\n",
      "working on file28 Ne_Lines_5.txt\n",
      "working on file29 CC13_MI13_20X.txt\n",
      "working on file30 CC13_MI13.txt\n",
      "working on file31 CC13_MI13_50X.txt\n",
      "working on file32 CC13_MI14_20X.txt\n",
      "working on file33 CC13_MI14_12mW.txt\n",
      "working on file34 Ne_Lines_6.txt\n",
      "working on file35 CC2_5X.txt\n",
      "working on file36 CC2_MI10_20X.txt\n",
      "working on file37 CC2_MI10_50X.txt\n",
      "working on file38 CC2_MI10_12mW.txt\n",
      "working on file39 CC2_MI11_50X.txt\n",
      "working on file40 CC2_MI11.txt\n",
      "working on file41 Ne_Lines_7.txt\n",
      "working on file42 CC2_MI12_50X.txt\n",
      "working on file43 CC2_MI12.txt\n",
      "working on file44 CC2_MI13.txt\n",
      "working on file45 CC2_MI13.txt\n",
      "working on file46 CC2_MI14_20X.txt\n",
      "working on file47 CC2_MI14.txt\n",
      "working on file48 Ne_Lines_8.txt\n",
      "Done\n"
     ]
    },
    {
     "name": "stderr",
     "output_type": "stream",
     "text": [
      "g:\\my drive\\berkeley_new\\diadfit_outer\\src\\DiadFit\\importing_data_files.py:552: SettingWithCopyWarning: \n",
      "A value is trying to be set on a copy of a slice from a DataFrame.\n",
      "Try using .loc[row_indexer,col_indexer] = value instead\n",
      "\n",
      "See the caveats in the documentation: https://pandas.pydata.org/pandas-docs/stable/user_guide/indexing.html#returning-a-view-versus-a-copy\n",
      "  Time_Df_2['index']=Time_Df_2.index\n"
     ]
    }
   ],
   "source": [
    "df_stitch=pf.stitch_in_loop(Allfiles=All_files, path=path, prefix=False)\n",
    "df_stitch.to_excel(path+'/'+ 'times.xlsx')"
   ]
  },
  {
   "cell_type": "code",
   "execution_count": null,
   "id": "cd068d5d-07b9-436f-8ef7-1ab813eec7ae",
   "metadata": {},
   "outputs": [],
   "source": []
  }
 ],
 "metadata": {
  "kernelspec": {
   "display_name": "Python 3 (ipykernel)",
   "language": "python",
   "name": "python3"
  },
  "language_info": {
   "codemirror_mode": {
    "name": "ipython",
    "version": 3
   },
   "file_extension": ".py",
   "mimetype": "text/x-python",
   "name": "python",
   "nbconvert_exporter": "python",
   "pygments_lexer": "ipython3",
   "version": "3.9.12"
  }
 },
 "nbformat": 4,
 "nbformat_minor": 5
}
