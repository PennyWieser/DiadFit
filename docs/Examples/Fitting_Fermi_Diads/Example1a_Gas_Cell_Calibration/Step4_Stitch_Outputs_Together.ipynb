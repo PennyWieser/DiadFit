{
 "cells": [
  {
   "attachments": {},
   "cell_type": "markdown",
   "id": "0a5d30ae-095e-4406-aff7-a817c2603e2c",
   "metadata": {},
   "source": [
    "# 4. Stitch outputs together\n",
    "- Once you have fitted the weak, medium and dense diads, stitch them all together, and apply the Ne correction model"
   ]
  },
  {
   "cell_type": "code",
   "execution_count": 10,
   "id": "56f8c066-4754-4d3e-9217-ae9e8f792016",
   "metadata": {},
   "outputs": [
    {
     "data": {
      "text/plain": [
       "'0.0.81'"
      ]
     },
     "execution_count": 10,
     "metadata": {},
     "output_type": "execute_result"
    }
   ],
   "source": [
    "import numpy as np\n",
    "import pandas as pd\n",
    "import matplotlib.pyplot as plt\n",
    "import joblib\n",
    "import DiadFit as pf\n",
    "pf.__version__"
   ]
  },
  {
   "cell_type": "code",
   "execution_count": 11,
   "id": "cab54670-2019-40be-b7d8-588189ac9ced",
   "metadata": {},
   "outputs": [],
   "source": [
    "# Load in settings, paths, file extensions etc. that you saved in step 1\n",
    "meta_path, spectra_path, spectra_filetype, prefix, str_prefix, spectra_file_ext, meta_file_ext, TruPower=pf.get_settings()"
   ]
  },
  {
   "attachments": {},
   "cell_type": "markdown",
   "id": "8230f033-6c2c-4494-a554-885ab21b2e21",
   "metadata": {},
   "source": [
    "## Load in specra, and combine"
   ]
  },
  {
   "cell_type": "code",
   "execution_count": 12,
   "id": "0b0bb450-0872-44f7-b99e-2585f994efde",
   "metadata": {},
   "outputs": [],
   "source": [
    "import os\n",
    "df2=pf.merge_fit_files(path=os.getcwd())"
   ]
  },
  {
   "attachments": {},
   "cell_type": "markdown",
   "id": "6449c9b4-d538-4d37-ad78-49c87aa677af",
   "metadata": {},
   "source": [
    "## First, get the metadata for this day"
   ]
  },
  {
   "cell_type": "code",
   "execution_count": 13,
   "id": "027e3ea1-f4ef-4c53-a57d-977e1f639ec9",
   "metadata": {},
   "outputs": [
    {
     "data": {
      "text/plain": [
       "'NE22.txt'"
      ]
     },
     "execution_count": 13,
     "metadata": {},
     "output_type": "execute_result"
    }
   ],
   "source": [
    "# Put the common string you can in all your Ne lines here\n",
    "diad_meta=pf.get_files(path=meta_path,\n",
    "file_ext=meta_file_ext, exclude_str=['Ne', 'FG', 'Cap','window'],\n",
    "sort=True)\n",
    "diad_meta[0]"
   ]
  },
  {
   "attachments": {},
   "cell_type": "markdown",
   "id": "378575ca-336b-4f04-bc6e-cf397dfdc56e",
   "metadata": {},
   "source": [
    "## Now get all the important information out of the metadata files"
   ]
  },
  {
   "cell_type": "code",
   "execution_count": 14,
   "id": "57ebb7b9-5c4f-4b49-9686-36f0d2ec9e8d",
   "metadata": {},
   "outputs": [
    {
     "name": "stderr",
     "output_type": "stream",
     "text": [
      "100%|██████████| 114/114 [00:00<00:00, 186.31it/s]"
     ]
    },
    {
     "name": "stdout",
     "output_type": "stream",
     "text": [
      "Done\n",
      "Oof, try not to work after midnight!\n"
     ]
    },
    {
     "name": "stderr",
     "output_type": "stream",
     "text": [
      "\n"
     ]
    },
    {
     "data": {
      "text/html": [
       "<div>\n",
       "<style scoped>\n",
       "    .dataframe tbody tr th:only-of-type {\n",
       "        vertical-align: middle;\n",
       "    }\n",
       "\n",
       "    .dataframe tbody tr th {\n",
       "        vertical-align: top;\n",
       "    }\n",
       "\n",
       "    .dataframe thead th {\n",
       "        text-align: right;\n",
       "    }\n",
       "</style>\n",
       "<table border=\"1\" class=\"dataframe\">\n",
       "  <thead>\n",
       "    <tr style=\"text-align: right;\">\n",
       "      <th></th>\n",
       "      <th>filename</th>\n",
       "      <th>date</th>\n",
       "      <th>Month</th>\n",
       "      <th>Day</th>\n",
       "      <th>power (mW)</th>\n",
       "      <th>Int_time (s)</th>\n",
       "      <th>accumulations</th>\n",
       "      <th>Mag (X)</th>\n",
       "      <th>duration</th>\n",
       "      <th>24hr_time</th>\n",
       "      <th>sec since midnight</th>\n",
       "      <th>Spectral Center</th>\n",
       "    </tr>\n",
       "  </thead>\n",
       "  <tbody>\n",
       "    <tr>\n",
       "      <th>99</th>\n",
       "      <td>POC49.txt</td>\n",
       "      <td>November 29, 2020\\n</td>\n",
       "      <td>November</td>\n",
       "      <td>29.0</td>\n",
       "      <td>NaN</td>\n",
       "      <td>45.0</td>\n",
       "      <td>5.0</td>\n",
       "      <td>5.0</td>\n",
       "      <td>['0h', '3m', '46s']</td>\n",
       "      <td>12:02:59 AM\\n</td>\n",
       "      <td>86579.0</td>\n",
       "      <td>1341.0</td>\n",
       "    </tr>\n",
       "    <tr>\n",
       "      <th>46</th>\n",
       "      <td>NE68.txt</td>\n",
       "      <td>November 29, 2020\\n</td>\n",
       "      <td>November</td>\n",
       "      <td>29.0</td>\n",
       "      <td>NaN</td>\n",
       "      <td>45.0</td>\n",
       "      <td>3.0</td>\n",
       "      <td>5.0</td>\n",
       "      <td>['0h', '2m', '16s']</td>\n",
       "      <td>12:07:01 AM\\n</td>\n",
       "      <td>86821.0</td>\n",
       "      <td>1341.0</td>\n",
       "    </tr>\n",
       "    <tr>\n",
       "      <th>101</th>\n",
       "      <td>POC50.txt</td>\n",
       "      <td>November 29, 2020\\n</td>\n",
       "      <td>November</td>\n",
       "      <td>29.0</td>\n",
       "      <td>NaN</td>\n",
       "      <td>45.0</td>\n",
       "      <td>5.0</td>\n",
       "      <td>5.0</td>\n",
       "      <td>['0h', '3m', '46s']</td>\n",
       "      <td>12:09:42 AM\\n</td>\n",
       "      <td>86982.0</td>\n",
       "      <td>1341.0</td>\n",
       "    </tr>\n",
       "    <tr>\n",
       "      <th>47</th>\n",
       "      <td>NE69.txt</td>\n",
       "      <td>November 29, 2020\\n</td>\n",
       "      <td>November</td>\n",
       "      <td>29.0</td>\n",
       "      <td>NaN</td>\n",
       "      <td>45.0</td>\n",
       "      <td>3.0</td>\n",
       "      <td>5.0</td>\n",
       "      <td>['0h', '2m', '16s']</td>\n",
       "      <td>12:14:20 AM\\n</td>\n",
       "      <td>87260.0</td>\n",
       "      <td>1341.0</td>\n",
       "    </tr>\n",
       "    <tr>\n",
       "      <th>102</th>\n",
       "      <td>POC51.txt</td>\n",
       "      <td>November 29, 2020\\n</td>\n",
       "      <td>November</td>\n",
       "      <td>29.0</td>\n",
       "      <td>NaN</td>\n",
       "      <td>60.0</td>\n",
       "      <td>3.0</td>\n",
       "      <td>5.0</td>\n",
       "      <td>['0h', '3m', '2s']</td>\n",
       "      <td>12:17:28 AM\\n</td>\n",
       "      <td>87448.0</td>\n",
       "      <td>1341.0</td>\n",
       "    </tr>\n",
       "  </tbody>\n",
       "</table>\n",
       "</div>"
      ],
      "text/plain": [
       "      filename                 date     Month   Day  power (mW)  Int_time (s)  \\\n",
       "99   POC49.txt  November 29, 2020\\n  November  29.0         NaN          45.0   \n",
       "46    NE68.txt  November 29, 2020\\n  November  29.0         NaN          45.0   \n",
       "101  POC50.txt  November 29, 2020\\n  November  29.0         NaN          45.0   \n",
       "47    NE69.txt  November 29, 2020\\n  November  29.0         NaN          45.0   \n",
       "102  POC51.txt  November 29, 2020\\n  November  29.0         NaN          60.0   \n",
       "\n",
       "     accumulations  Mag (X)             duration      24hr_time  \\\n",
       "99             5.0      5.0  ['0h', '3m', '46s']  12:02:59 AM\\n   \n",
       "46             3.0      5.0  ['0h', '2m', '16s']  12:07:01 AM\\n   \n",
       "101            5.0      5.0  ['0h', '3m', '46s']  12:09:42 AM\\n   \n",
       "47             3.0      5.0  ['0h', '2m', '16s']  12:14:20 AM\\n   \n",
       "102            3.0      5.0   ['0h', '3m', '2s']  12:17:28 AM\\n   \n",
       "\n",
       "     sec since midnight  Spectral Center  \n",
       "99              86579.0           1341.0  \n",
       "46              86821.0           1341.0  \n",
       "101             86982.0           1341.0  \n",
       "47              87260.0           1341.0  \n",
       "102             87448.0           1341.0  "
      ]
     },
     "execution_count": 14,
     "metadata": {},
     "output_type": "execute_result"
    }
   ],
   "source": [
    "# This will only work for WITEC - for other vendors, you might have to use the file datastamp. See the HORIBA example\n",
    "meta=pf.stitch_metadata_in_loop_witec(path=meta_path, \n",
    "Allfiles=diad_meta, prefix=prefix, str_prefix=str_prefix,\n",
    "trupower=TruPower)\n",
    "meta.head()"
   ]
  },
  {
   "attachments": {},
   "cell_type": "markdown",
   "id": "b7a6fbc0-2b4a-4f4b-8cfd-cc227047d833",
   "metadata": {},
   "source": [
    "## Then get a simple file name you can stitch with the spectra"
   ]
  },
  {
   "cell_type": "code",
   "execution_count": 15,
   "id": "ea140384-9cb9-41bf-b57e-eb16120afe12",
   "metadata": {},
   "outputs": [
    {
     "name": "stdout",
     "output_type": "stream",
     "text": [
      "good job, no duplicate file names\n"
     ]
    },
    {
     "data": {
      "text/plain": [
       "'POC49'"
      ]
     },
     "execution_count": 15,
     "metadata": {},
     "output_type": "execute_result"
    }
   ],
   "source": [
    "file_m=pf.extracting_filenames_generic(names=meta['filename'],\n",
    "   file_ext=meta_file_ext)\n",
    "# Checks they are all unique\n",
    "file_m[0]"
   ]
  },
  {
   "attachments": {},
   "cell_type": "markdown",
   "id": "80671930-57b4-476b-aec2-0aaf23f072b5",
   "metadata": {},
   "source": [
    "## Now get filename from spectra into same form as metadata"
   ]
  },
  {
   "cell_type": "code",
   "execution_count": 16,
   "id": "5f50eae0-1a22-4d35-ba87-0d853343d859",
   "metadata": {},
   "outputs": [
    {
     "name": "stdout",
     "output_type": "stream",
     "text": [
      "good job, no duplicate file names\n",
      "Cap19-05X2\n"
     ]
    }
   ],
   "source": [
    "# Remove these to get the pure file name\n",
    "file_s=pf.extracting_filenames_generic(\n",
    "    names=df2['filename'].reset_index(drop=True),\n",
    "   file_ext=spectra_file_ext)\n",
    "\n",
    "# Remove the cosmic rays, as doesnt have it in the metatdata\n",
    "file_s = np.char.replace(file_s.astype(str), \"_CRR_DiadFit\", \"\")\n",
    "print(file_s[0])"
   ]
  },
  {
   "cell_type": "code",
   "execution_count": 17,
   "id": "51df3d2d-72d3-44fa-a076-b087cfdb5eef",
   "metadata": {},
   "outputs": [
    {
     "data": {
      "text/html": [
       "<div>\n",
       "<style scoped>\n",
       "    .dataframe tbody tr th:only-of-type {\n",
       "        vertical-align: middle;\n",
       "    }\n",
       "\n",
       "    .dataframe tbody tr th {\n",
       "        vertical-align: top;\n",
       "    }\n",
       "\n",
       "    .dataframe thead th {\n",
       "        text-align: right;\n",
       "    }\n",
       "</style>\n",
       "<table border=\"1\" class=\"dataframe\">\n",
       "  <thead>\n",
       "    <tr style=\"text-align: right;\">\n",
       "      <th></th>\n",
       "      <th>filename</th>\n",
       "      <th>Splitting</th>\n",
       "      <th>Split_σ</th>\n",
       "      <th>Diad1_Combofit_Cent</th>\n",
       "      <th>Diad1_cent_err</th>\n",
       "      <th>Diad1_Combofit_Height</th>\n",
       "      <th>Diad1_Voigt_Cent</th>\n",
       "      <th>Diad1_Voigt_Area</th>\n",
       "      <th>Diad1_Voigt_Sigma</th>\n",
       "      <th>Diad1_Residual</th>\n",
       "      <th>...</th>\n",
       "      <th>Month</th>\n",
       "      <th>Day</th>\n",
       "      <th>power (mW)</th>\n",
       "      <th>Int_time (s)</th>\n",
       "      <th>accumulations</th>\n",
       "      <th>Mag (X)</th>\n",
       "      <th>duration</th>\n",
       "      <th>24hr_time</th>\n",
       "      <th>sec since midnight</th>\n",
       "      <th>Spectral Center</th>\n",
       "    </tr>\n",
       "  </thead>\n",
       "  <tbody>\n",
       "    <tr>\n",
       "      <th>0</th>\n",
       "      <td>POC51</td>\n",
       "      <td>102.740087</td>\n",
       "      <td>0.010524</td>\n",
       "      <td>1286.697192</td>\n",
       "      <td>0.009198</td>\n",
       "      <td>180.748510</td>\n",
       "      <td>1286.697192</td>\n",
       "      <td>239.567053</td>\n",
       "      <td>0.614586</td>\n",
       "      <td>2.696706</td>\n",
       "      <td>...</td>\n",
       "      <td>November</td>\n",
       "      <td>29.0</td>\n",
       "      <td>NaN</td>\n",
       "      <td>60.0</td>\n",
       "      <td>3.0</td>\n",
       "      <td>5.0</td>\n",
       "      <td>['0h', '3m', '2s']</td>\n",
       "      <td>12:17:28 AM\\n</td>\n",
       "      <td>87448.0</td>\n",
       "      <td>1341.0</td>\n",
       "    </tr>\n",
       "    <tr>\n",
       "      <th>1</th>\n",
       "      <td>POC52</td>\n",
       "      <td>102.734380</td>\n",
       "      <td>0.009421</td>\n",
       "      <td>1286.689692</td>\n",
       "      <td>0.008328</td>\n",
       "      <td>245.538346</td>\n",
       "      <td>1286.689692</td>\n",
       "      <td>313.494011</td>\n",
       "      <td>0.595481</td>\n",
       "      <td>3.724453</td>\n",
       "      <td>...</td>\n",
       "      <td>November</td>\n",
       "      <td>29.0</td>\n",
       "      <td>NaN</td>\n",
       "      <td>90.0</td>\n",
       "      <td>3.0</td>\n",
       "      <td>5.0</td>\n",
       "      <td>['0h', '4m', '31s']</td>\n",
       "      <td>12:31:31 AM\\n</td>\n",
       "      <td>88291.0</td>\n",
       "      <td>1341.0</td>\n",
       "    </tr>\n",
       "    <tr>\n",
       "      <th>2</th>\n",
       "      <td>POC53</td>\n",
       "      <td>102.760558</td>\n",
       "      <td>0.009698</td>\n",
       "      <td>1286.675397</td>\n",
       "      <td>0.008268</td>\n",
       "      <td>219.858570</td>\n",
       "      <td>1286.675397</td>\n",
       "      <td>284.179327</td>\n",
       "      <td>0.604810</td>\n",
       "      <td>2.925837</td>\n",
       "      <td>...</td>\n",
       "      <td>November</td>\n",
       "      <td>29.0</td>\n",
       "      <td>NaN</td>\n",
       "      <td>90.0</td>\n",
       "      <td>3.0</td>\n",
       "      <td>5.0</td>\n",
       "      <td>['0h', '4m', '32s']</td>\n",
       "      <td>12:39:13 AM\\n</td>\n",
       "      <td>88753.0</td>\n",
       "      <td>1341.0</td>\n",
       "    </tr>\n",
       "    <tr>\n",
       "      <th>3</th>\n",
       "      <td>POC54</td>\n",
       "      <td>102.759262</td>\n",
       "      <td>0.012019</td>\n",
       "      <td>1286.683864</td>\n",
       "      <td>0.010398</td>\n",
       "      <td>183.869660</td>\n",
       "      <td>1286.683914</td>\n",
       "      <td>241.653289</td>\n",
       "      <td>0.617334</td>\n",
       "      <td>2.796396</td>\n",
       "      <td>...</td>\n",
       "      <td>November</td>\n",
       "      <td>29.0</td>\n",
       "      <td>NaN</td>\n",
       "      <td>90.0</td>\n",
       "      <td>3.0</td>\n",
       "      <td>5.0</td>\n",
       "      <td>['0h', '4m', '32s']</td>\n",
       "      <td>12:46:57 AM\\n</td>\n",
       "      <td>89217.0</td>\n",
       "      <td>1341.0</td>\n",
       "    </tr>\n",
       "    <tr>\n",
       "      <th>4</th>\n",
       "      <td>POC55</td>\n",
       "      <td>102.727825</td>\n",
       "      <td>0.014096</td>\n",
       "      <td>1286.707696</td>\n",
       "      <td>0.012582</td>\n",
       "      <td>156.794386</td>\n",
       "      <td>1286.707696</td>\n",
       "      <td>208.195957</td>\n",
       "      <td>0.623706</td>\n",
       "      <td>2.929875</td>\n",
       "      <td>...</td>\n",
       "      <td>November</td>\n",
       "      <td>29.0</td>\n",
       "      <td>NaN</td>\n",
       "      <td>90.0</td>\n",
       "      <td>3.0</td>\n",
       "      <td>5.0</td>\n",
       "      <td>['0h', '4m', '32s']</td>\n",
       "      <td>12:54:26 AM\\n</td>\n",
       "      <td>89666.0</td>\n",
       "      <td>1341.0</td>\n",
       "    </tr>\n",
       "  </tbody>\n",
       "</table>\n",
       "<p>5 rows × 60 columns</p>\n",
       "</div>"
      ],
      "text/plain": [
       "  filename   Splitting   Split_σ  Diad1_Combofit_Cent  Diad1_cent_err  \\\n",
       "0    POC51  102.740087  0.010524          1286.697192        0.009198   \n",
       "1    POC52  102.734380  0.009421          1286.689692        0.008328   \n",
       "2    POC53  102.760558  0.009698          1286.675397        0.008268   \n",
       "3    POC54  102.759262  0.012019          1286.683864        0.010398   \n",
       "4    POC55  102.727825  0.014096          1286.707696        0.012582   \n",
       "\n",
       "   Diad1_Combofit_Height  Diad1_Voigt_Cent  Diad1_Voigt_Area  \\\n",
       "0             180.748510       1286.697192        239.567053   \n",
       "1             245.538346       1286.689692        313.494011   \n",
       "2             219.858570       1286.675397        284.179327   \n",
       "3             183.869660       1286.683914        241.653289   \n",
       "4             156.794386       1286.707696        208.195957   \n",
       "\n",
       "   Diad1_Voigt_Sigma  Diad1_Residual  ...     Month   Day power (mW)  \\\n",
       "0           0.614586        2.696706  ...  November  29.0        NaN   \n",
       "1           0.595481        3.724453  ...  November  29.0        NaN   \n",
       "2           0.604810        2.925837  ...  November  29.0        NaN   \n",
       "3           0.617334        2.796396  ...  November  29.0        NaN   \n",
       "4           0.623706        2.929875  ...  November  29.0        NaN   \n",
       "\n",
       "   Int_time (s)  accumulations  Mag (X)             duration      24hr_time  \\\n",
       "0          60.0            3.0      5.0   ['0h', '3m', '2s']  12:17:28 AM\\n   \n",
       "1          90.0            3.0      5.0  ['0h', '4m', '31s']  12:31:31 AM\\n   \n",
       "2          90.0            3.0      5.0  ['0h', '4m', '32s']  12:39:13 AM\\n   \n",
       "3          90.0            3.0      5.0  ['0h', '4m', '32s']  12:46:57 AM\\n   \n",
       "4          90.0            3.0      5.0  ['0h', '4m', '32s']  12:54:26 AM\\n   \n",
       "\n",
       "   sec since midnight  Spectral Center  \n",
       "0             87448.0           1341.0  \n",
       "1             88291.0           1341.0  \n",
       "2             88753.0           1341.0  \n",
       "3             89217.0           1341.0  \n",
       "4             89666.0           1341.0  \n",
       "\n",
       "[5 rows x 60 columns]"
      ]
     },
     "execution_count": 17,
     "metadata": {},
     "output_type": "execute_result"
    }
   ],
   "source": [
    "# Combining them together, if the form above matches, e.g. checking one doesnt have a suffix and the other one does\n",
    "\n",
    "meta['filename']=file_m\n",
    "df2['filename']=file_s\n",
    "df_combo=pd.merge(df2, meta, on='filename').reset_index(drop=True)\n",
    "df_combo.head()"
   ]
  },
  {
   "attachments": {},
   "cell_type": "markdown",
   "id": "54b229a4-026d-4e4e-ab0a-ed0362566919",
   "metadata": {},
   "source": [
    "## If you have secondary phases, now is the time to merge those in"
   ]
  },
  {
   "cell_type": "code",
   "execution_count": 20,
   "id": "bc38474f-45cd-4fa5-beef-49db69e82989",
   "metadata": {},
   "outputs": [],
   "source": [
    "df_combo_sec_phase=pf.merge_in_carb_SO2(\n",
    "df_combo=df_combo, file1_name='Carb_Peak_fits.xlsx', file2_name='SO2_Peak_fits.xlsx', \n",
    "prefix=prefix, str_prefix=str_prefix, file_ext=spectra_file_ext)\n",
    "#df_combo_sec_phase.to_excel('FI_fitting_w_sec_phases.xlsx', index=False)"
   ]
  },
  {
   "cell_type": "markdown",
   "id": "663ac0cc",
   "metadata": {},
   "source": [
    "## If you have SO2, now is the time to calculate the molar proportion of SO2"
   ]
  },
  {
   "cell_type": "code",
   "execution_count": 21,
   "id": "d78b7bcf",
   "metadata": {},
   "outputs": [],
   "source": [
    "if 'Peak_Area_SO2' in df_combo_sec_phase:\n",
    "    SO2_ratio=pf.calculate_CO2_SO2_ratio(peak_area_SO2=df_combo_sec_phase['Peak_Area_SO2'], \n",
    "    peak_area_diad1=df_combo_sec_phase['Diad1_Voigt_Area'], peak_area_diad2=df_combo_sec_phase['Diad2_Voigt_Area'],\n",
    "    wavelength=532.067, T_K=37+273.15,efficiency_SO2=1, efficiency_CO2=0.5, \n",
    "    sigma_SO2=4.03, sigma_CO2_v1=0.8, sigma_CO2_v2=1.23)\n",
    "    df_combo_sec_phase['SO2_mol_ratio']=SO2_ratio['SO2']"
   ]
  },
  {
   "cell_type": "markdown",
   "id": "4fba3346",
   "metadata": {},
   "source": [
    "### This cell saves the merged together dataframe with the folder name and the date you fitted it"
   ]
  },
  {
   "cell_type": "code",
   "execution_count": 22,
   "id": "a290a591",
   "metadata": {},
   "outputs": [
    {
     "name": "stdout",
     "output_type": "stream",
     "text": [
      "Raman_session_November 29, 2020_fitted_2024-02-04.xlsx\n"
     ]
    }
   ],
   "source": [
    "\n",
    "# df to save\n",
    "df=df_combo_sec_phase\n",
    "from datetime import date\n",
    "today = date.today()\n",
    "today_str = today.strftime(\"%Y-%m-%d\")\n",
    "sorted_df = df.sort_values('sec since midnight')\n",
    "date=meta['date'].iloc[0].replace('\\n', '')\n",
    "name='Raman_session_'+date+'_fitted_'+today_str+'.xlsx'\n",
    "print(name)\n",
    "sorted_df.to_excel(name)"
   ]
  }
 ],
 "metadata": {
  "kernelspec": {
   "display_name": "Python 3 (ipykernel)",
   "language": "python",
   "name": "python3"
  },
  "language_info": {
   "codemirror_mode": {
    "name": "ipython",
    "version": 3
   },
   "file_extension": ".py",
   "mimetype": "text/x-python",
   "name": "python",
   "nbconvert_exporter": "python",
   "pygments_lexer": "ipython3",
   "version": "3.11.5"
  }
 },
 "nbformat": 4,
 "nbformat_minor": 5
}
