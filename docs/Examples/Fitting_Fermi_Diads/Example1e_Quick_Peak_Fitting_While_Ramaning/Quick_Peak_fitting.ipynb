{
 "cells": [
  {
   "attachments": {},
   "cell_type": "markdown",
   "id": "936da875-9e91-4134-9a9e-f479044ceb70",
   "metadata": {},
   "source": [
    "# Quick peak fitting while on Raman\n",
    "- This folder is for quick peak fitting while on the Raman \n",
    "- It doesnt require you to run the Ne line file - it just uses a guess of the average Ne line of your system\n",
    "- This is very useful when looking at new samples so you know what sort of densities you are working with, so can adjust laser power etc. \n"
   ]
  },
  {
   "cell_type": "code",
   "execution_count": null,
   "id": "0f2a92f3-679f-4261-bef6-4df19250d9be",
   "metadata": {},
   "outputs": [],
   "source": [
    "import numpy as np\n",
    "import pandas as pd\n",
    "import matplotlib.pyplot as plt\n",
    "import joblib\n",
    "import DiadFit as pf\n",
    "pf.__version__"
   ]
  },
  {
   "attachments": {},
   "cell_type": "markdown",
   "id": "e6d90aa4-c067-4611-b423-f17078fd7fd3",
   "metadata": {},
   "source": [
    "## Specifying filetype and folder"
   ]
  },
  {
   "cell_type": "code",
   "execution_count": null,
   "id": "9731efd8-270f-4ac2-a18f-9e84bd2dc166",
   "metadata": {},
   "outputs": [],
   "source": [
    "import os\n",
    "DayFolder=os.getcwd()\n",
    "meta_path=DayFolder \n",
    "spectra_path=DayFolder + '\\spectra'\n",
    "# Filetype and extension for spectra\n",
    "spectra_filetype='headless_txt'\n",
    "spectra_file_ext='.txt'\n",
    "# file extension for spectra\n",
    "meta_file_ext='.txt'\n",
    "# Does your file start with a prefix? E.g 01 Ne_line.txt?\n",
    "prefix=False\n",
    "# If so - what is the character separating the prefix from the real name\n",
    "prefix_str=' '\n",
    "# Does your instrument have TruPower (WITEC)\n",
    "TruPower=False\n",
    "# Save settings to a file to use in all other notebooks\n",
    "pf.save_settings(meta_path, spectra_path, spectra_filetype, prefix, prefix_str, spectra_file_ext, meta_file_ext, TruPower)\n",
    "\n"
   ]
  },
  {
   "cell_type": "markdown",
   "id": "203fda62",
   "metadata": {},
   "source": [
    "## Grab all files"
   ]
  },
  {
   "cell_type": "code",
   "execution_count": null,
   "id": "755733b3",
   "metadata": {},
   "outputs": [],
   "source": [
    "exclude_str=['Ne', 'NE', 'Si', 'nodiad', 'Spectrum', 'CRR', 'no_diad', 'settings']\n",
    "Diad_Files=pf.get_files(path=spectra_path, file_ext=spectra_file_ext, exclude_str=exclude_str)\n",
    "print(Diad_Files)"
   ]
  },
  {
   "attachments": {},
   "cell_type": "markdown",
   "id": "6a2f5d3a-0084-4938-9845-fd736a46033b",
   "metadata": {},
   "source": [
    "### Lets plot the diad to have a look at it"
   ]
  },
  {
   "cell_type": "code",
   "execution_count": null,
   "id": "a14679b9-ad88-45ee-a743-4fcded743d75",
   "metadata": {},
   "outputs": [],
   "source": [
    "i=0\n",
    "plot1=pf.plot_diad(path=spectra_path, filename=Diad_Files[i], filetype=spectra_filetype)"
   ]
  },
  {
   "cell_type": "markdown",
   "id": "863e9789",
   "metadata": {},
   "source": [
    "## Get approximate peak positoins"
   ]
  },
  {
   "cell_type": "code",
   "execution_count": null,
   "id": "3494603c",
   "metadata": {},
   "outputs": [],
   "source": [
    "\n",
    "\n",
    "diad_id_config=pf.diad_id_config(prominence=12, width=1)\n",
    "diad_id_config\n",
    "\n",
    "fit_params, data_y_all=pf.loop_approx_diad_fits(spectra_path=spectra_path, config=diad_id_config, \n",
    "                       Diad_Files=Diad_Files, filetype=spectra_filetype, plot_figure=False)\n",
    "fit_params.head()"
   ]
  },
  {
   "attachments": {},
   "cell_type": "markdown",
   "id": "d50c1d50-435d-4ac1-8a09-ad4239c673a0",
   "metadata": {},
   "source": [
    "## Fit Diad 1\n",
    "- Tweak the parameters in the config files for each group. E.g. how many peaks (fit_peaks), the background positions, the sigma of the diad, and whether or not you want a gaussian background"
   ]
  },
  {
   "cell_type": "code",
   "execution_count": null,
   "id": "80b456f7-bc8a-4588-9d5e-7e1b69be0a11",
   "metadata": {},
   "outputs": [],
   "source": [
    "model_name='PseudoVoigtModel'\n",
    "diad1_fit_config_init=pf.diad1_fit_config(\n",
    "model_name=model_name, fit_peaks=2,\n",
    "N_poly_bck_diad1=2, lower_bck_diad1=(1180, 1240),\n",
    "upper_bck_diad1=(1315, 1350),\n",
    "diad_sigma=0.6,\n",
    "x_range_residual=10, x_range_baseline=30, \n",
    "    y_range_baseline=100, \n",
    "HB_prom=fit_params['HB1_abs_prom'].iloc[i], \n",
    "diad_prom=fit_params['Diad1_abs_prom'].iloc[i])\n",
    "diad1_fit_config_init\n"
   ]
  },
  {
   "attachments": {},
   "cell_type": "markdown",
   "id": "3e2f9f2e-080e-45ac-b611-475067a6e16b",
   "metadata": {},
   "source": [
    "### See what these fit parameters look like for diad1"
   ]
  },
  {
   "cell_type": "code",
   "execution_count": null,
   "id": "f5917fce-363b-44c0-bec3-4d6b3e7e5235",
   "metadata": {},
   "outputs": [],
   "source": [
    "Diad1_fit=pf.fit_diad_1_w_bck(config1=diad1_fit_config_init,\n",
    "config2=diad_id_config,\n",
    "path=spectra_path, filename=Diad_Files[i],\n",
    "filetype=spectra_filetype, plot_figure=True, close_figure=False,\n",
    "Diad_pos=fit_params['Diad1_pos'].iloc[i],\n",
    "HB_pos=fit_params['HB1_pos'].iloc[i])\n",
    "Diad1_fit"
   ]
  },
  {
   "cell_type": "code",
   "execution_count": null,
   "id": "7653c869-f7bc-451c-815b-edff5704ae1e",
   "metadata": {},
   "outputs": [],
   "source": [
    "diad1_fit_config2=diad1_fit_config_init"
   ]
  },
  {
   "attachments": {},
   "cell_type": "markdown",
   "id": "f0d99852-16c9-439e-807b-3f13b5ce5d70",
   "metadata": {},
   "source": [
    "## Fit diad2"
   ]
  },
  {
   "cell_type": "code",
   "execution_count": null,
   "id": "84b26f3c-378a-40d9-8a45-1f24d535c6de",
   "metadata": {},
   "outputs": [],
   "source": [
    "\n",
    "diad2_fit_config_init=pf.diad2_fit_config(model_name=model_name,\n",
    "fit_peaks=3, fit_gauss=True, gauss_amp= 2*fit_params['HB2_abs_prom'].iloc[i],\n",
    "lower_bck_diad2=(1310, 1350), diad_sigma=1,  N_poly_bck_diad2=2,                                       \n",
    "x_range_residual=30, y_range_baseline=100,  \n",
    "x_range_baseline=30,\n",
    "HB_prom=fit_params['HB2_abs_prom'].iloc[i], \n",
    "diad_prom=fit_params['Diad2_abs_prom'].iloc[i],\n",
    "C13_prom=fit_params['C13_abs_prom'].iloc[i])\n",
    "diad2_fit_config_init\n",
    "\n"
   ]
  },
  {
   "attachments": {},
   "cell_type": "markdown",
   "id": "fa7c5897-0cd5-4962-b69a-99203a362452",
   "metadata": {},
   "source": [
    "### See what these fit parameters look like for diad2"
   ]
  },
  {
   "cell_type": "code",
   "execution_count": null,
   "id": "276bec5a-c842-4404-8bf4-da675861b05a",
   "metadata": {
    "tags": []
   },
   "outputs": [],
   "source": [
    "Diad2_fit=pf.fit_diad_2_w_bck(config1=diad2_fit_config_init,\n",
    "    config2=diad_id_config,\n",
    "path=spectra_path, filename=Diad_Files[i], filetype=spectra_filetype,\n",
    "plot_figure=True, close_figure=False, \n",
    "Diad_pos=fit_params['Diad2_pos'].iloc[i],\n",
    "HB_pos=fit_params['HB2_pos'].iloc[i], \n",
    "C13_pos=fit_params['C13_pos'].iloc[i])\n",
    "Diad2_fit.to_clipboard(excel=True)\n",
    "Diad2_fit"
   ]
  },
  {
   "cell_type": "markdown",
   "id": "ddd0738d",
   "metadata": {},
   "source": []
  },
  {
   "attachments": {},
   "cell_type": "markdown",
   "id": "8c4c5586-a1f8-4e0e-8f31-142570f500d3",
   "metadata": {},
   "source": [
    "## Loop over all the files in the group\n",
    "- This will loop over all the "
   ]
  },
  {
   "cell_type": "code",
   "execution_count": null,
   "id": "142097d4-1b36-4268-a59c-08acc82baccd",
   "metadata": {},
   "outputs": [],
   "source": [
    "diad2_fit_config_init\n",
    "from tqdm import tqdm\n",
    "plot_figure=False# If False, Means doesnt have to make figures, lot faster. \n",
    "close_figure=False # If True, wont show figures in notebook, but will still save them in a folder \n",
    "Diad_Files_i=Diad_Files\n",
    "df_Merge = pd.DataFrame([])\n",
    "for i in tqdm(range(0, len(Diad_Files))): #\n",
    "    tqdm.write(f\"Processing file: {Diad_Files[i]}\")\n",
    "    \n",
    "    \n",
    "    # For diad1, config file like you had in the previous. \n",
    "    # Only really used to exclude a range (say your spectra has a known spec)\n",
    "    diad_id_config=pf.diad_id_config(exclude_range1=[1308, 1309])\n",
    "    \n",
    "    # Here, the prominence are taken from the fitting in the last notebook\n",
    "    diad1_fit_config2.HB_prom=fit_params['HB1_abs_prom'].iloc[i]\n",
    "    diad1_fit_config2.diad_prom=fit_params['Diad1_abs_prom'].iloc[i]\n",
    "    diad1_fit_config2.gauss_amp=2*fit_params['HB1_abs_prom'].iloc[i]\n",
    "\n",
    "    Diad1_fit=pf.fit_diad_1_w_bck(config1=diad1_fit_config2,\n",
    "    config2=diad_id_config, path=spectra_path, filename=fit_params['filename'].iloc[i],\n",
    "    filetype=spectra_filetype, plot_figure=plot_figure, close_figure=close_figure,\n",
    "    Diad_pos=fit_params['Diad1_pos'].iloc[i],\n",
    "    HB_pos=fit_params['HB1_pos'].iloc[i])\n",
    "\n",
    "    ## Same for diad2, just also has a C13 peak\n",
    "    diad2_fit_config_init.HB_prom=fit_params['HB2_abs_prom'].iloc[i]\n",
    "    diad2_fit_config_init.diad_prom=fit_params['Diad2_abs_prom'].iloc[i]\n",
    "    diad2_fit_config_init.gauss_amp= 2*fit_params['HB2_abs_prom'].iloc[i]\n",
    "    diad2_fit_config_init.C13_prom=fit_params['C13_abs_prom'].iloc[i]\n",
    "    \n",
    "    \n",
    "    Diad2_fit=pf.fit_diad_2_w_bck(config1=diad2_fit_config_init,\n",
    "        config2=diad_id_config,\n",
    "    path=spectra_path, filename=fit_params['filename'].iloc[i], \n",
    "    filetype=spectra_filetype,\n",
    "    plot_figure=plot_figure, close_figure=close_figure,\n",
    "    Diad_pos=fit_params['Diad2_pos'].iloc[i],\n",
    "    HB_pos=fit_params['HB2_pos'].iloc[i], \n",
    "    C13_pos=fit_params['C13_pos'].iloc[i])\n",
    "    \n",
    "    # This combines the outputs into a single dataframe\n",
    "    data=pf.combine_diad_outputs(filename=fit_params['filename'].iloc[i], prefix=prefix, \n",
    "    Diad1_fit=Diad1_fit, path=spectra_path,                  \n",
    "    Diad2_fit=Diad2_fit)        \n",
    "    \n",
    " \n",
    "\n",
    "    df_Merge = pd.concat([df_Merge, data], axis=0).reset_index(drop=True)\n"
   ]
  },
  {
   "cell_type": "code",
   "execution_count": null,
   "id": "d8cd9e32",
   "metadata": {},
   "outputs": [],
   "source": [
    "df_Merge"
   ]
  },
  {
   "cell_type": "markdown",
   "id": "4939521c",
   "metadata": {},
   "source": [
    "## Lets get some approximate fits"
   ]
  },
  {
   "cell_type": "code",
   "execution_count": null,
   "metadata": {},
   "outputs": [],
   "source": [
    "df_Merge"
   ]
  },
  {
   "cell_type": "code",
   "execution_count": null,
   "id": "91c19bd9",
   "metadata": {},
   "outputs": [],
   "source": [
    "# An average of the Ne Correction factor for your instrument\n",
    "Ne_corr_factor_av=0.9979\n",
    "Ne_err=2.465495739435719e-06\n",
    "df_Merge['sec since midnight']=30000\n",
    "\n",
    "#df_Merge['Corrected_Splitting']=df_Merge['Splitting']*Ne_corr_factor_av\n",
    "\n",
    "df=pf.calculate_density_ucb(df_combo=df_Merge, Ne_pickle_str=None,\n",
    " temp='SupCrit', CI_split=0.67, CI_neon=0.67, pref_Ne=Ne_corr_factor_av, Ne_err=Ne_err)\n",
    "\n"
   ]
  },
  {
   "cell_type": "code",
   "execution_count": null,
   "id": "3a27615c",
   "metadata": {},
   "outputs": [],
   "source": [
    "df"
   ]
  },
  {
   "cell_type": "code",
   "execution_count": null,
   "metadata": {},
   "outputs": [],
   "source": [
    "## This lets you read the labels\n",
    "fig, (ax1) = plt.subplots(1, 1, figsize=(14,10))\n",
    "df=df.loc[df['Density g/cm3']>0]\n",
    "ax1.errorbar(df['Corrected_Splitting'], df['Density g/cm3'],\n",
    "xerr=df['Corrected_Splitting_σ'], yerr=df['σ Density g/cm3'],\n",
    "fmt='o', ecolor='grey', elinewidth=0.8, mfc='red', ms=6, mec='k', capsize=2)\n",
    "for i, filename in enumerate(df['filename']):\n",
    "    print(filename)\n",
    "    ax1.annotate(filename, (df['Corrected_Splitting'].iloc[i], df['Density g/cm3'].iloc[i]), xytext=(5,0),  fontsize=6, textcoords='offset points')\n",
    "\n",
    "ax1.set_xlabel('Corrected Splitting (cm$^{-1}$)')\n",
    "ax1.set_ylabel('Density g/cm3')"
   ]
  },
  {
   "cell_type": "code",
   "execution_count": null,
   "id": "d6307fae",
   "metadata": {},
   "outputs": [],
   "source": [
    "\n",
    "fig, ((ax1, ax2), (ax3, ax4)) = plt.subplots(2, 2, figsize=(14,10))\n",
    "df=df.loc[df['Density g/cm3']>0]\n",
    "ax1.errorbar(df['Corrected_Splitting'], df['Density g/cm3'],\n",
    "xerr=df['Corrected_Splitting_σ'], yerr=df['σ Density g/cm3'],\n",
    "fmt='o', ecolor='grey', elinewidth=0.8, mfc='red', ms=6, mec='k', capsize=2)\n",
    "\n",
    "ax1.set_xlabel('Corrected Splitting (cm$^{-1}$)')\n",
    "ax1.set_ylabel('Density g/cm3')\n",
    "\n",
    "ax2.plot(df['Corrected_Splitting'], \n",
    "100*df['Corrected_Splitting_σ_Ne']/(df['Corrected_Splitting_σ_Ne']+df['Corrected_Splitting_σ_peak_fit']),\n",
    " 'ok', mfc='orange')\n",
    "ax2.set_ylabel('% of splitting error from Neon Correction')\n",
    "ax2.set_xlabel('Corrected Splitting (cm$^{-1}$)')\n",
    "ax3.plot(df['Density g/cm3'], 100*df['σ Density g/cm3 (from Ne+peakfit)']/df['Density g/cm3'], \n",
    "'ok', mfc='cyan', ms=5, label='Error: Ne + pk fit')\n",
    "\n",
    "\n",
    "ax3.plot(df['Density g/cm3'], 100*df['σ Density g/cm3 (from densimeter)']/df['Density g/cm3'], \n",
    "'ok', mfc='blue', ms=5, label='Error: Densimeter')\n",
    "\n",
    "ax3.plot(df['Density g/cm3'], 100*df['σ Density g/cm3']/df['Density g/cm3'], \n",
    "'ok', mfc='yellow', ms=5, label='Overall Error')\n",
    "ax3.set_ylabel('% error')\n",
    "ax3.set_xlabel('Density g/cm3')\n",
    "ax3.legend()\n",
    "\n",
    "ax4.plot(df['Density g/cm3'], df['σ Density g/cm3 (from densimeter)'], \n",
    "'ok', mfc='blue', ms=5, label='Error: Densimeter')\n",
    "ax4.plot(df['Density g/cm3'], df['σ Density g/cm3 (from Ne+peakfit)'], \n",
    "'ok', mfc='cyan', ms=5, label='Error: Splitting')\n",
    "ax4.plot(df['Density g/cm3'], df['σ Density g/cm3'], \n",
    "'ok', mfc='yellow', ms=5, label='Overall Error')\n",
    "ax4.set_ylabel('error (g/cm3)')\n",
    "ax4.set_xlabel('Density g/cm3')\n",
    "ax4.legend()\n",
    "\n",
    "fig.tight_layout()"
   ]
  },
  {
   "cell_type": "markdown",
   "id": "c19b7098",
   "metadata": {},
   "source": [
    "### This plays a sound when the notebook is done if you have a tendency to procrastinate"
   ]
  },
  {
   "cell_type": "code",
   "execution_count": null,
   "id": "964eb745",
   "metadata": {},
   "outputs": [],
   "source": [
    "# !pip install winotify\n",
    "\n",
    "from winotify import Notification, audio\n",
    "\n",
    "toast= Notification(app_id=\"VSCode\",title=\"Notebook completed\",\n",
    "                    msg=\"Step3b_Secondary_Peaks is done!\",\n",
    "                    duration=\"short\")\n",
    "toast.set_audio(audio.Mail,loop=False)\n",
    "toast.show()"
   ]
  }
 ],
 "metadata": {
  "kernelspec": {
   "display_name": "Python 3 (ipykernel)",
   "language": "python",
   "name": "python3"
  },
  "language_info": {
   "codemirror_mode": {
    "name": "ipython",
    "version": 3
   },
   "file_extension": ".py",
   "mimetype": "text/x-python",
   "name": "python",
   "nbconvert_exporter": "python",
   "pygments_lexer": "ipython3",
   "version": "3.11.5"
  }
 },
 "nbformat": 4,
 "nbformat_minor": 5
}
