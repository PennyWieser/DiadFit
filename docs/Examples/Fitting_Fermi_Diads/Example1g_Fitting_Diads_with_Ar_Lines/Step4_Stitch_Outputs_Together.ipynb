{
 "cells": [
  {
   "cell_type": "markdown",
   "id": "0a5d30ae-095e-4406-aff7-a817c2603e2c",
   "metadata": {},
   "source": [
    "# 4. Stitch outputs together\n",
    "- Once you have fitted the weak, medium and dense diads, stitch them all together, and apply the Ne correction model"
   ]
  },
  {
   "cell_type": "code",
   "execution_count": 1,
   "id": "56f8c066-4754-4d3e-9217-ae9e8f792016",
   "metadata": {
    "tags": []
   },
   "outputs": [
    {
     "data": {
      "text/plain": [
       "'1.0.11'"
      ]
     },
     "execution_count": 1,
     "metadata": {},
     "output_type": "execute_result"
    }
   ],
   "source": [
    "import numpy as np\n",
    "import pandas as pd\n",
    "import matplotlib.pyplot as plt\n",
    "import joblib\n",
    "import DiadFit as pf\n",
    "pf.__version__"
   ]
  },
  {
   "cell_type": "code",
   "execution_count": 2,
   "id": "cab54670-2019-40be-b7d8-588189ac9ced",
   "metadata": {
    "tags": []
   },
   "outputs": [],
   "source": [
    "# Load in settings, paths, file extensions etc. that you saved in step 1\n",
    "meta_path, spectra_path, spectra_filetype, prefix, str_prefix, spectra_file_ext, meta_file_ext, TruPower=pf.get_settings()"
   ]
  },
  {
   "cell_type": "markdown",
   "id": "8230f033-6c2c-4494-a554-885ab21b2e21",
   "metadata": {},
   "source": [
    "## Load in specra, and combine"
   ]
  },
  {
   "cell_type": "code",
   "execution_count": 3,
   "id": "0b0bb450-0872-44f7-b99e-2585f994efde",
   "metadata": {
    "tags": []
   },
   "outputs": [
    {
     "data": {
      "text/html": [
       "<div>\n",
       "<style scoped>\n",
       "    .dataframe tbody tr th:only-of-type {\n",
       "        vertical-align: middle;\n",
       "    }\n",
       "\n",
       "    .dataframe tbody tr th {\n",
       "        vertical-align: top;\n",
       "    }\n",
       "\n",
       "    .dataframe thead th {\n",
       "        text-align: right;\n",
       "    }\n",
       "</style>\n",
       "<table border=\"1\" class=\"dataframe\">\n",
       "  <thead>\n",
       "    <tr style=\"text-align: right;\">\n",
       "      <th></th>\n",
       "      <th>filename</th>\n",
       "      <th>Splitting</th>\n",
       "      <th>Split_σ</th>\n",
       "      <th>Diad1_Combofit_Cent</th>\n",
       "      <th>Diad1_cent_err</th>\n",
       "      <th>Diad1_Combofit_Height</th>\n",
       "      <th>Diad1_Voigt_Cent</th>\n",
       "      <th>Diad1_Voigt_Area</th>\n",
       "      <th>Diad1_Voigt_Sigma</th>\n",
       "      <th>Diad1_Residual</th>\n",
       "      <th>...</th>\n",
       "      <th>Diad1_Asym70</th>\n",
       "      <th>Diad1_Yuan2017_sym_factor</th>\n",
       "      <th>Diad1_Remigi2021_BSF</th>\n",
       "      <th>Diad2_Asym50</th>\n",
       "      <th>Diad2_Asym70</th>\n",
       "      <th>Diad2_Yuan2017_sym_factor</th>\n",
       "      <th>Diad2_Remigi2021_BSF</th>\n",
       "      <th>Diad1_PDF_Model</th>\n",
       "      <th>Diad2_PDF_Model</th>\n",
       "      <th>Standard</th>\n",
       "    </tr>\n",
       "  </thead>\n",
       "  <tbody>\n",
       "    <tr>\n",
       "      <th>0</th>\n",
       "      <td>1mol_FIA_r1_nd50</td>\n",
       "      <td>102.708300</td>\n",
       "      <td>0.009218</td>\n",
       "      <td>1285.886821</td>\n",
       "      <td>0.007891</td>\n",
       "      <td>162.752284</td>\n",
       "      <td>1285.886821</td>\n",
       "      <td>230.751833</td>\n",
       "      <td>0.619285</td>\n",
       "      <td>2.243934</td>\n",
       "      <td>...</td>\n",
       "      <td>1.049896</td>\n",
       "      <td>0.051895</td>\n",
       "      <td>0.007610</td>\n",
       "      <td>1.000000</td>\n",
       "      <td>1.010163</td>\n",
       "      <td>0.000000</td>\n",
       "      <td>0.005132</td>\n",
       "      <td>PseudoVoigtModel</td>\n",
       "      <td>PseudoVoigtModel</td>\n",
       "      <td>No</td>\n",
       "    </tr>\n",
       "    <tr>\n",
       "      <th>1</th>\n",
       "      <td>1mol_FIA_r2_nd50</td>\n",
       "      <td>102.723235</td>\n",
       "      <td>0.009084</td>\n",
       "      <td>1285.868248</td>\n",
       "      <td>0.007788</td>\n",
       "      <td>164.492226</td>\n",
       "      <td>1285.868248</td>\n",
       "      <td>231.331987</td>\n",
       "      <td>0.616337</td>\n",
       "      <td>2.173665</td>\n",
       "      <td>...</td>\n",
       "      <td>1.010246</td>\n",
       "      <td>0.016840</td>\n",
       "      <td>0.007494</td>\n",
       "      <td>1.045455</td>\n",
       "      <td>1.010417</td>\n",
       "      <td>0.054868</td>\n",
       "      <td>0.004790</td>\n",
       "      <td>PseudoVoigtModel</td>\n",
       "      <td>PseudoVoigtModel</td>\n",
       "      <td>No</td>\n",
       "    </tr>\n",
       "    <tr>\n",
       "      <th>2</th>\n",
       "      <td>1mol_FIA_r3_nd50</td>\n",
       "      <td>102.696775</td>\n",
       "      <td>0.009469</td>\n",
       "      <td>1285.875748</td>\n",
       "      <td>0.007904</td>\n",
       "      <td>161.574819</td>\n",
       "      <td>1285.875748</td>\n",
       "      <td>231.920017</td>\n",
       "      <td>0.594648</td>\n",
       "      <td>2.178994</td>\n",
       "      <td>...</td>\n",
       "      <td>1.004158</td>\n",
       "      <td>0.003388</td>\n",
       "      <td>0.007361</td>\n",
       "      <td>1.084746</td>\n",
       "      <td>1.101293</td>\n",
       "      <td>0.104272</td>\n",
       "      <td>0.004987</td>\n",
       "      <td>PseudoVoigtModel</td>\n",
       "      <td>PseudoVoigtModel</td>\n",
       "      <td>No</td>\n",
       "    </tr>\n",
       "    <tr>\n",
       "      <th>3</th>\n",
       "      <td>1mol_FIB_r1_nd50</td>\n",
       "      <td>102.708300</td>\n",
       "      <td>0.009218</td>\n",
       "      <td>1285.886821</td>\n",
       "      <td>0.007891</td>\n",
       "      <td>162.752284</td>\n",
       "      <td>1285.886821</td>\n",
       "      <td>230.751833</td>\n",
       "      <td>0.619285</td>\n",
       "      <td>2.243934</td>\n",
       "      <td>...</td>\n",
       "      <td>1.049896</td>\n",
       "      <td>0.051895</td>\n",
       "      <td>0.007610</td>\n",
       "      <td>1.000000</td>\n",
       "      <td>1.010163</td>\n",
       "      <td>0.000000</td>\n",
       "      <td>0.005132</td>\n",
       "      <td>PseudoVoigtModel</td>\n",
       "      <td>PseudoVoigtModel</td>\n",
       "      <td>No</td>\n",
       "    </tr>\n",
       "    <tr>\n",
       "      <th>4</th>\n",
       "      <td>1mol_FIB_r2_nd100</td>\n",
       "      <td>102.689723</td>\n",
       "      <td>0.017833</td>\n",
       "      <td>1285.870348</td>\n",
       "      <td>0.016036</td>\n",
       "      <td>104.226567</td>\n",
       "      <td>1285.870348</td>\n",
       "      <td>160.050738</td>\n",
       "      <td>0.626503</td>\n",
       "      <td>2.680833</td>\n",
       "      <td>...</td>\n",
       "      <td>1.092593</td>\n",
       "      <td>0.071117</td>\n",
       "      <td>0.012022</td>\n",
       "      <td>1.018717</td>\n",
       "      <td>1.020921</td>\n",
       "      <td>0.022912</td>\n",
       "      <td>0.006941</td>\n",
       "      <td>PseudoVoigtModel</td>\n",
       "      <td>PseudoVoigtModel</td>\n",
       "      <td>No</td>\n",
       "    </tr>\n",
       "  </tbody>\n",
       "</table>\n",
       "<p>5 rows × 50 columns</p>\n",
       "</div>"
      ],
      "text/plain": [
       "            filename   Splitting   Split_σ  Diad1_Combofit_Cent  \\\n",
       "0   1mol_FIA_r1_nd50  102.708300  0.009218          1285.886821   \n",
       "1   1mol_FIA_r2_nd50  102.723235  0.009084          1285.868248   \n",
       "2   1mol_FIA_r3_nd50  102.696775  0.009469          1285.875748   \n",
       "3   1mol_FIB_r1_nd50  102.708300  0.009218          1285.886821   \n",
       "4  1mol_FIB_r2_nd100  102.689723  0.017833          1285.870348   \n",
       "\n",
       "   Diad1_cent_err  Diad1_Combofit_Height  Diad1_Voigt_Cent  Diad1_Voigt_Area  \\\n",
       "0        0.007891             162.752284       1285.886821        230.751833   \n",
       "1        0.007788             164.492226       1285.868248        231.331987   \n",
       "2        0.007904             161.574819       1285.875748        231.920017   \n",
       "3        0.007891             162.752284       1285.886821        230.751833   \n",
       "4        0.016036             104.226567       1285.870348        160.050738   \n",
       "\n",
       "   Diad1_Voigt_Sigma  Diad1_Residual  ...  Diad1_Asym70  \\\n",
       "0           0.619285        2.243934  ...      1.049896   \n",
       "1           0.616337        2.173665  ...      1.010246   \n",
       "2           0.594648        2.178994  ...      1.004158   \n",
       "3           0.619285        2.243934  ...      1.049896   \n",
       "4           0.626503        2.680833  ...      1.092593   \n",
       "\n",
       "   Diad1_Yuan2017_sym_factor Diad1_Remigi2021_BSF  Diad2_Asym50  Diad2_Asym70  \\\n",
       "0                   0.051895             0.007610      1.000000      1.010163   \n",
       "1                   0.016840             0.007494      1.045455      1.010417   \n",
       "2                   0.003388             0.007361      1.084746      1.101293   \n",
       "3                   0.051895             0.007610      1.000000      1.010163   \n",
       "4                   0.071117             0.012022      1.018717      1.020921   \n",
       "\n",
       "   Diad2_Yuan2017_sym_factor  Diad2_Remigi2021_BSF   Diad1_PDF_Model  \\\n",
       "0                   0.000000              0.005132  PseudoVoigtModel   \n",
       "1                   0.054868              0.004790  PseudoVoigtModel   \n",
       "2                   0.104272              0.004987  PseudoVoigtModel   \n",
       "3                   0.000000              0.005132  PseudoVoigtModel   \n",
       "4                   0.022912              0.006941  PseudoVoigtModel   \n",
       "\n",
       "    Diad2_PDF_Model  Standard  \n",
       "0  PseudoVoigtModel        No  \n",
       "1  PseudoVoigtModel        No  \n",
       "2  PseudoVoigtModel        No  \n",
       "3  PseudoVoigtModel        No  \n",
       "4  PseudoVoigtModel        No  \n",
       "\n",
       "[5 rows x 50 columns]"
      ]
     },
     "execution_count": 3,
     "metadata": {},
     "output_type": "execute_result"
    }
   ],
   "source": [
    "import os\n",
    "df2=pf.merge_fit_files(path=os.getcwd())\n",
    "df2.head()"
   ]
  },
  {
   "cell_type": "markdown",
   "id": "6449c9b4-d538-4d37-ad78-49c87aa677af",
   "metadata": {},
   "source": [
    "## First, get the metadata for this day"
   ]
  },
  {
   "cell_type": "code",
   "execution_count": 4,
   "id": "027e3ea1-f4ef-4c53-a57d-977e1f639ec9",
   "metadata": {
    "tags": []
   },
   "outputs": [
    {
     "data": {
      "text/plain": [
       "'1mol_FIA_r1_nd50.txt'"
      ]
     },
     "execution_count": 4,
     "metadata": {},
     "output_type": "execute_result"
    }
   ],
   "source": [
    "# Put the common string you can in all your Ne lines here\n",
    "diad_meta=pf.get_files(path=spectra_path,\n",
    "file_ext=meta_file_ext, exclude_str=['Ne', 'FG', 'Cap','window'],\n",
    " sort=True)\n",
    "diad_meta[0]"
   ]
  },
  {
   "cell_type": "markdown",
   "id": "378575ca-336b-4f04-bc6e-cf397dfdc56e",
   "metadata": {},
   "source": [
    "## Now get all the important information out of the metadata files"
   ]
  },
  {
   "cell_type": "code",
   "execution_count": 5,
   "id": "57ebb7b9-5c4f-4b49-9686-36f0d2ec9e8d",
   "metadata": {
    "tags": []
   },
   "outputs": [
    {
     "name": "stderr",
     "output_type": "stream",
     "text": [
      "100%|██████████| 29/29 [00:00<00:00, 30.09it/s]\n"
     ]
    },
    {
     "data": {
      "text/html": [
       "<div>\n",
       "<style scoped>\n",
       "    .dataframe tbody tr th:only-of-type {\n",
       "        vertical-align: middle;\n",
       "    }\n",
       "\n",
       "    .dataframe tbody tr th {\n",
       "        vertical-align: top;\n",
       "    }\n",
       "\n",
       "    .dataframe thead th {\n",
       "        text-align: right;\n",
       "    }\n",
       "</style>\n",
       "<table border=\"1\" class=\"dataframe\">\n",
       "  <thead>\n",
       "    <tr style=\"text-align: right;\">\n",
       "      <th></th>\n",
       "      <th>filename</th>\n",
       "      <th>spectral_name</th>\n",
       "      <th>date</th>\n",
       "      <th>Month</th>\n",
       "      <th>Day</th>\n",
       "      <th>power (mw)</th>\n",
       "      <th>Int_time (s)</th>\n",
       "      <th>accumulations</th>\n",
       "      <th>Mag (X)</th>\n",
       "      <th>duration</th>\n",
       "      <th>24hr_time</th>\n",
       "      <th>sec since midnight</th>\n",
       "      <th>Spectral_Center</th>\n",
       "    </tr>\n",
       "  </thead>\n",
       "  <tbody>\n",
       "    <tr>\n",
       "      <th>0</th>\n",
       "      <td>1mol_FIA_r1_nd50.txt</td>\n",
       "      <td>13R1W97-102__41</td>\n",
       "      <td>03.09.2025</td>\n",
       "      <td>September</td>\n",
       "      <td>2025-09-03</td>\n",
       "      <td>no data</td>\n",
       "      <td>60.0</td>\n",
       "      <td>4.0</td>\n",
       "      <td>x100</td>\n",
       "      <td>240.0</td>\n",
       "      <td>15:52:54</td>\n",
       "      <td>57174</td>\n",
       "      <td>NaN</td>\n",
       "    </tr>\n",
       "    <tr>\n",
       "      <th>1</th>\n",
       "      <td>1mol_FIA_r2_nd50.txt</td>\n",
       "      <td>13R1W97-102__42</td>\n",
       "      <td>03.09.2025</td>\n",
       "      <td>September</td>\n",
       "      <td>2025-09-03</td>\n",
       "      <td>no data</td>\n",
       "      <td>60.0</td>\n",
       "      <td>4.0</td>\n",
       "      <td>x100</td>\n",
       "      <td>240.0</td>\n",
       "      <td>15:58:51</td>\n",
       "      <td>57531</td>\n",
       "      <td>NaN</td>\n",
       "    </tr>\n",
       "    <tr>\n",
       "      <th>2</th>\n",
       "      <td>1mol_FIA_r3_nd50.txt</td>\n",
       "      <td>13R1W97-102__43</td>\n",
       "      <td>03.09.2025</td>\n",
       "      <td>September</td>\n",
       "      <td>2025-09-03</td>\n",
       "      <td>no data</td>\n",
       "      <td>60.0</td>\n",
       "      <td>4.0</td>\n",
       "      <td>x100</td>\n",
       "      <td>240.0</td>\n",
       "      <td>16:03:53</td>\n",
       "      <td>57833</td>\n",
       "      <td>NaN</td>\n",
       "    </tr>\n",
       "    <tr>\n",
       "      <th>3</th>\n",
       "      <td>1mol_FIB_r1_nd50.txt</td>\n",
       "      <td>13R1W97-102__41</td>\n",
       "      <td>03.09.2025</td>\n",
       "      <td>September</td>\n",
       "      <td>2025-09-03</td>\n",
       "      <td>no data</td>\n",
       "      <td>60.0</td>\n",
       "      <td>4.0</td>\n",
       "      <td>x100</td>\n",
       "      <td>240.0</td>\n",
       "      <td>15:52:54</td>\n",
       "      <td>57174</td>\n",
       "      <td>NaN</td>\n",
       "    </tr>\n",
       "    <tr>\n",
       "      <th>4</th>\n",
       "      <td>1mol_FIB_r2_nd100.txt</td>\n",
       "      <td>13R1W97-102__36</td>\n",
       "      <td>03.09.2025</td>\n",
       "      <td>September</td>\n",
       "      <td>2025-09-03</td>\n",
       "      <td>no data</td>\n",
       "      <td>60.0</td>\n",
       "      <td>4.0</td>\n",
       "      <td>x100</td>\n",
       "      <td>240.0</td>\n",
       "      <td>15:23:21</td>\n",
       "      <td>55401</td>\n",
       "      <td>NaN</td>\n",
       "    </tr>\n",
       "  </tbody>\n",
       "</table>\n",
       "</div>"
      ],
      "text/plain": [
       "                filename    spectral_name        date      Month        Day  \\\n",
       "0   1mol_FIA_r1_nd50.txt  13R1W97-102__41  03.09.2025  September 2025-09-03   \n",
       "1   1mol_FIA_r2_nd50.txt  13R1W97-102__42  03.09.2025  September 2025-09-03   \n",
       "2   1mol_FIA_r3_nd50.txt  13R1W97-102__43  03.09.2025  September 2025-09-03   \n",
       "3   1mol_FIB_r1_nd50.txt  13R1W97-102__41  03.09.2025  September 2025-09-03   \n",
       "4  1mol_FIB_r2_nd100.txt  13R1W97-102__36  03.09.2025  September 2025-09-03   \n",
       "\n",
       "  power (mw)  Int_time (s)  accumulations Mag (X)  duration 24hr_time  \\\n",
       "0    no data          60.0            4.0    x100     240.0  15:52:54   \n",
       "1    no data          60.0            4.0    x100     240.0  15:58:51   \n",
       "2    no data          60.0            4.0    x100     240.0  16:03:53   \n",
       "3    no data          60.0            4.0    x100     240.0  15:52:54   \n",
       "4    no data          60.0            4.0    x100     240.0  15:23:21   \n",
       "\n",
       "   sec since midnight  Spectral_Center  \n",
       "0               57174              NaN  \n",
       "1               57531              NaN  \n",
       "2               57833              NaN  \n",
       "3               57174              NaN  \n",
       "4               55401              NaN  "
      ]
     },
     "execution_count": 5,
     "metadata": {},
     "output_type": "execute_result"
    }
   ],
   "source": [
    "# This will only work for WITEC - for other vendors, you might have to use the file datastamp. See the HORIBA example\n",
    "meta=pf.stitch_metadata_in_loop_horiba(path=spectra_path, \n",
    "Allfiles=diad_meta)\n",
    "meta.head()"
   ]
  },
  {
   "cell_type": "markdown",
   "id": "b7a6fbc0-2b4a-4f4b-8cfd-cc227047d833",
   "metadata": {},
   "source": [
    "## Then get a simple file name you can stitch with the spectra"
   ]
  },
  {
   "cell_type": "code",
   "execution_count": 6,
   "id": "ea140384-9cb9-41bf-b57e-eb16120afe12",
   "metadata": {
    "tags": []
   },
   "outputs": [
    {
     "name": "stdout",
     "output_type": "stream",
     "text": [
      "good job, no duplicate file names\n"
     ]
    },
    {
     "data": {
      "text/plain": [
       "'1mol_FIA_r1_nd50'"
      ]
     },
     "execution_count": 6,
     "metadata": {},
     "output_type": "execute_result"
    }
   ],
   "source": [
    "file_m=pf.extracting_filenames_generic(names=meta['filename'],\n",
    "   file_ext=meta_file_ext)\n",
    "# Checks they are all unique\n",
    "file_m[0]"
   ]
  },
  {
   "cell_type": "markdown",
   "id": "80671930-57b4-476b-aec2-0aaf23f072b5",
   "metadata": {},
   "source": [
    "## Now get filename from spectra into same form as metadata"
   ]
  },
  {
   "cell_type": "code",
   "execution_count": 7,
   "id": "5f50eae0-1a22-4d35-ba87-0d853343d859",
   "metadata": {
    "tags": []
   },
   "outputs": [
    {
     "name": "stdout",
     "output_type": "stream",
     "text": [
      "good job, no duplicate file names\n",
      "1mol_FIA_r1_nd50\n"
     ]
    }
   ],
   "source": [
    "# Remove these to get the pure file name\n",
    "file_s=pf.extracting_filenames_generic(\n",
    "    names=df2['filename'].reset_index(drop=True),\n",
    "   file_ext=spectra_file_ext)\n",
    "\n",
    "# Remove the cosmic rays, as doesnt have it in the metatdata\n",
    "file_s = np.char.replace(file_s.astype(str), \"_CRR_DiadFit\", \"\")\n",
    "print(file_s[0])"
   ]
  },
  {
   "cell_type": "code",
   "execution_count": 8,
   "id": "51df3d2d-72d3-44fa-a076-b087cfdb5eef",
   "metadata": {
    "tags": []
   },
   "outputs": [
    {
     "data": {
      "text/html": [
       "<div>\n",
       "<style scoped>\n",
       "    .dataframe tbody tr th:only-of-type {\n",
       "        vertical-align: middle;\n",
       "    }\n",
       "\n",
       "    .dataframe tbody tr th {\n",
       "        vertical-align: top;\n",
       "    }\n",
       "\n",
       "    .dataframe thead th {\n",
       "        text-align: right;\n",
       "    }\n",
       "</style>\n",
       "<table border=\"1\" class=\"dataframe\">\n",
       "  <thead>\n",
       "    <tr style=\"text-align: right;\">\n",
       "      <th></th>\n",
       "      <th>filename</th>\n",
       "      <th>Splitting</th>\n",
       "      <th>Split_σ</th>\n",
       "      <th>Diad1_Combofit_Cent</th>\n",
       "      <th>Diad1_cent_err</th>\n",
       "      <th>Diad1_Combofit_Height</th>\n",
       "      <th>Diad1_Voigt_Cent</th>\n",
       "      <th>Diad1_Voigt_Area</th>\n",
       "      <th>Diad1_Voigt_Sigma</th>\n",
       "      <th>Diad1_Residual</th>\n",
       "      <th>...</th>\n",
       "      <th>Month</th>\n",
       "      <th>Day</th>\n",
       "      <th>power (mw)</th>\n",
       "      <th>Int_time (s)</th>\n",
       "      <th>accumulations</th>\n",
       "      <th>Mag (X)</th>\n",
       "      <th>duration</th>\n",
       "      <th>24hr_time</th>\n",
       "      <th>sec since midnight</th>\n",
       "      <th>Spectral_Center</th>\n",
       "    </tr>\n",
       "  </thead>\n",
       "  <tbody>\n",
       "    <tr>\n",
       "      <th>0</th>\n",
       "      <td>1mol_FIA_r1_nd50</td>\n",
       "      <td>102.708300</td>\n",
       "      <td>0.009218</td>\n",
       "      <td>1285.886821</td>\n",
       "      <td>0.007891</td>\n",
       "      <td>162.752284</td>\n",
       "      <td>1285.886821</td>\n",
       "      <td>230.751833</td>\n",
       "      <td>0.619285</td>\n",
       "      <td>2.243934</td>\n",
       "      <td>...</td>\n",
       "      <td>September</td>\n",
       "      <td>2025-09-03</td>\n",
       "      <td>no data</td>\n",
       "      <td>60.0</td>\n",
       "      <td>4.0</td>\n",
       "      <td>x100</td>\n",
       "      <td>240.0</td>\n",
       "      <td>15:52:54</td>\n",
       "      <td>57174</td>\n",
       "      <td>NaN</td>\n",
       "    </tr>\n",
       "    <tr>\n",
       "      <th>1</th>\n",
       "      <td>1mol_FIA_r2_nd50</td>\n",
       "      <td>102.723235</td>\n",
       "      <td>0.009084</td>\n",
       "      <td>1285.868248</td>\n",
       "      <td>0.007788</td>\n",
       "      <td>164.492226</td>\n",
       "      <td>1285.868248</td>\n",
       "      <td>231.331987</td>\n",
       "      <td>0.616337</td>\n",
       "      <td>2.173665</td>\n",
       "      <td>...</td>\n",
       "      <td>September</td>\n",
       "      <td>2025-09-03</td>\n",
       "      <td>no data</td>\n",
       "      <td>60.0</td>\n",
       "      <td>4.0</td>\n",
       "      <td>x100</td>\n",
       "      <td>240.0</td>\n",
       "      <td>15:58:51</td>\n",
       "      <td>57531</td>\n",
       "      <td>NaN</td>\n",
       "    </tr>\n",
       "    <tr>\n",
       "      <th>2</th>\n",
       "      <td>1mol_FIA_r3_nd50</td>\n",
       "      <td>102.696775</td>\n",
       "      <td>0.009469</td>\n",
       "      <td>1285.875748</td>\n",
       "      <td>0.007904</td>\n",
       "      <td>161.574819</td>\n",
       "      <td>1285.875748</td>\n",
       "      <td>231.920017</td>\n",
       "      <td>0.594648</td>\n",
       "      <td>2.178994</td>\n",
       "      <td>...</td>\n",
       "      <td>September</td>\n",
       "      <td>2025-09-03</td>\n",
       "      <td>no data</td>\n",
       "      <td>60.0</td>\n",
       "      <td>4.0</td>\n",
       "      <td>x100</td>\n",
       "      <td>240.0</td>\n",
       "      <td>16:03:53</td>\n",
       "      <td>57833</td>\n",
       "      <td>NaN</td>\n",
       "    </tr>\n",
       "    <tr>\n",
       "      <th>3</th>\n",
       "      <td>1mol_FIB_r1_nd50</td>\n",
       "      <td>102.708300</td>\n",
       "      <td>0.009218</td>\n",
       "      <td>1285.886821</td>\n",
       "      <td>0.007891</td>\n",
       "      <td>162.752284</td>\n",
       "      <td>1285.886821</td>\n",
       "      <td>230.751833</td>\n",
       "      <td>0.619285</td>\n",
       "      <td>2.243934</td>\n",
       "      <td>...</td>\n",
       "      <td>September</td>\n",
       "      <td>2025-09-03</td>\n",
       "      <td>no data</td>\n",
       "      <td>60.0</td>\n",
       "      <td>4.0</td>\n",
       "      <td>x100</td>\n",
       "      <td>240.0</td>\n",
       "      <td>15:52:54</td>\n",
       "      <td>57174</td>\n",
       "      <td>NaN</td>\n",
       "    </tr>\n",
       "    <tr>\n",
       "      <th>4</th>\n",
       "      <td>1mol_FIB_r2_nd100</td>\n",
       "      <td>102.689723</td>\n",
       "      <td>0.017833</td>\n",
       "      <td>1285.870348</td>\n",
       "      <td>0.016036</td>\n",
       "      <td>104.226567</td>\n",
       "      <td>1285.870348</td>\n",
       "      <td>160.050738</td>\n",
       "      <td>0.626503</td>\n",
       "      <td>2.680833</td>\n",
       "      <td>...</td>\n",
       "      <td>September</td>\n",
       "      <td>2025-09-03</td>\n",
       "      <td>no data</td>\n",
       "      <td>60.0</td>\n",
       "      <td>4.0</td>\n",
       "      <td>x100</td>\n",
       "      <td>240.0</td>\n",
       "      <td>15:23:21</td>\n",
       "      <td>55401</td>\n",
       "      <td>NaN</td>\n",
       "    </tr>\n",
       "  </tbody>\n",
       "</table>\n",
       "<p>5 rows × 62 columns</p>\n",
       "</div>"
      ],
      "text/plain": [
       "            filename   Splitting   Split_σ  Diad1_Combofit_Cent  \\\n",
       "0   1mol_FIA_r1_nd50  102.708300  0.009218          1285.886821   \n",
       "1   1mol_FIA_r2_nd50  102.723235  0.009084          1285.868248   \n",
       "2   1mol_FIA_r3_nd50  102.696775  0.009469          1285.875748   \n",
       "3   1mol_FIB_r1_nd50  102.708300  0.009218          1285.886821   \n",
       "4  1mol_FIB_r2_nd100  102.689723  0.017833          1285.870348   \n",
       "\n",
       "   Diad1_cent_err  Diad1_Combofit_Height  Diad1_Voigt_Cent  Diad1_Voigt_Area  \\\n",
       "0        0.007891             162.752284       1285.886821        230.751833   \n",
       "1        0.007788             164.492226       1285.868248        231.331987   \n",
       "2        0.007904             161.574819       1285.875748        231.920017   \n",
       "3        0.007891             162.752284       1285.886821        230.751833   \n",
       "4        0.016036             104.226567       1285.870348        160.050738   \n",
       "\n",
       "   Diad1_Voigt_Sigma  Diad1_Residual  ...      Month        Day power (mw)  \\\n",
       "0           0.619285        2.243934  ...  September 2025-09-03    no data   \n",
       "1           0.616337        2.173665  ...  September 2025-09-03    no data   \n",
       "2           0.594648        2.178994  ...  September 2025-09-03    no data   \n",
       "3           0.619285        2.243934  ...  September 2025-09-03    no data   \n",
       "4           0.626503        2.680833  ...  September 2025-09-03    no data   \n",
       "\n",
       "   Int_time (s)  accumulations  Mag (X)  duration  24hr_time  \\\n",
       "0          60.0            4.0     x100     240.0   15:52:54   \n",
       "1          60.0            4.0     x100     240.0   15:58:51   \n",
       "2          60.0            4.0     x100     240.0   16:03:53   \n",
       "3          60.0            4.0     x100     240.0   15:52:54   \n",
       "4          60.0            4.0     x100     240.0   15:23:21   \n",
       "\n",
       "   sec since midnight  Spectral_Center  \n",
       "0               57174              NaN  \n",
       "1               57531              NaN  \n",
       "2               57833              NaN  \n",
       "3               57174              NaN  \n",
       "4               55401              NaN  \n",
       "\n",
       "[5 rows x 62 columns]"
      ]
     },
     "execution_count": 8,
     "metadata": {},
     "output_type": "execute_result"
    }
   ],
   "source": [
    "# Combining them together, if the form above matches, e.g. checking one doesnt have a suffix and the other one does\n",
    "\n",
    "meta['filename']=file_m\n",
    "df2['filename']=file_s\n",
    "df_combo=pd.merge(df2, meta, on='filename').reset_index(drop=True)\n",
    "df_combo.head()"
   ]
  },
  {
   "cell_type": "markdown",
   "id": "54b229a4-026d-4e4e-ab0a-ed0362566919",
   "metadata": {},
   "source": [
    "## If you have secondary phases, now is the time to merge those in"
   ]
  },
  {
   "cell_type": "code",
   "execution_count": 9,
   "id": "bc38474f-45cd-4fa5-beef-49db69e82989",
   "metadata": {
    "tags": []
   },
   "outputs": [],
   "source": [
    "df_combo_sec_phase=pf.merge_in_carb_SO2(\n",
    "df_combo=df_combo, file1_name='Carb_Peak_fits.xlsx', file2_name='SO2_Peak_fits.xlsx', \n",
    "prefix=prefix, str_prefix=str_prefix, file_ext=spectra_file_ext)\n",
    "#df_combo_sec_phase.to_excel('FI_fitting_w_sec_phases.xlsx', index=False)"
   ]
  },
  {
   "cell_type": "markdown",
   "id": "663ac0cc",
   "metadata": {},
   "source": [
    "## If you have SO2, now is the time to calculate the molar proportion of SO2"
   ]
  },
  {
   "cell_type": "code",
   "execution_count": 10,
   "id": "d78b7bcf",
   "metadata": {
    "tags": []
   },
   "outputs": [],
   "source": [
    "if 'Peak_Area_SO2' in df_combo_sec_phase:\n",
    "    \n",
    "\n",
    "        SO2_mol_ratio=pf.calculate_SO2_CO2_ratio(SO2_area=df_combo_sec_phase['Peak_Area_SO2'], \n",
    "        diad1_area=df_combo_sec_phase['Diad1_Voigt_Area'], diad2_area=df_combo_sec_phase['Diad2_Voigt_Area'], \n",
    "                SO2_cross_sec=5.3, diad1_cross_sec=0.89, diad2_cross_sec=1.4)\n",
    "        \n",
    "\n",
    "        df_combo_sec_phase['SO2_mol_ratio']=SO2_mol_ratio"
   ]
  },
  {
   "cell_type": "code",
   "execution_count": 11,
   "id": "75ec13ee",
   "metadata": {},
   "outputs": [
    {
     "data": {
      "text/plain": [
       "<ErrorbarContainer object of 3 artists>"
      ]
     },
     "execution_count": 11,
     "metadata": {},
     "output_type": "execute_result"
    },
    {
     "data": {
      "image/png": "[encoded data removed]",
      "text/plain": [
       "<Figure size 640x480 with 1 Axes>"
      ]
     },
     "metadata": {},
     "output_type": "display_data"
    }
   ],
   "source": [
    "\n",
    "plt.errorbar(df_combo_sec_phase['Splitting'], df_combo_sec_phase['Splitting'], xerr=df_combo_sec_phase['Split_σ'], yerr=df_combo_sec_phase['Split_σ'],\n",
    "             fmt='d', ecolor='k', elinewidth=0.8, mfc='cyan', ms=10, mec='k', capsize=3)"
   ]
  },
  {
   "cell_type": "code",
   "execution_count": 12,
   "id": "87ac01df",
   "metadata": {},
   "outputs": [
    {
     "data": {
      "text/plain": [
       "0.02536961160953229"
      ]
     },
     "execution_count": 12,
     "metadata": {},
     "output_type": "execute_result"
    }
   ],
   "source": [
    "np.std(df_combo_sec_phase['Splitting'])"
   ]
  },
  {
   "cell_type": "code",
   "execution_count": 13,
   "id": "31050f0e",
   "metadata": {},
   "outputs": [
    {
     "data": {
      "text/plain": [
       "0.01903899179077044"
      ]
     },
     "execution_count": 13,
     "metadata": {},
     "output_type": "execute_result"
    }
   ],
   "source": [
    "np.mean(df_combo_sec_phase['Split_σ'])"
   ]
  },
  {
   "cell_type": "code",
   "execution_count": 14,
   "id": "8209587e",
   "metadata": {},
   "outputs": [
    {
     "data": {
      "text/plain": [
       "102.71012266661482"
      ]
     },
     "execution_count": 14,
     "metadata": {},
     "output_type": "execute_result"
    }
   ],
   "source": [
    "np.mean(df_combo_sec_phase['Splitting'])"
   ]
  },
  {
   "cell_type": "markdown",
   "id": "cb9bb968",
   "metadata": {},
   "source": [
    "## Now we calculate the density using the UC Berkeley Densimeter. \n",
    "- If you have your own densimeter, I am happy to add a function for it if you email me (penny_wieser@berkeley.edu)\n",
    "- This particular function propagates the uncertainty on 1) The neon line correction model 2) the peak fits of the diads themselves 3) The densimeter. "
   ]
  },
  {
   "cell_type": "code",
   "execution_count": 15,
   "id": "fe4ba00c",
   "metadata": {
    "tags": []
   },
   "outputs": [
    {
     "name": "stdout",
     "output_type": "stream",
     "text": [
      "9.228880069400702e-06\n"
     ]
    },
    {
     "data": {
      "text/html": [
       "<div>\n",
       "<style scoped>\n",
       "    .dataframe tbody tr th:only-of-type {\n",
       "        vertical-align: middle;\n",
       "    }\n",
       "\n",
       "    .dataframe tbody tr th {\n",
       "        vertical-align: top;\n",
       "    }\n",
       "\n",
       "    .dataframe thead th {\n",
       "        text-align: right;\n",
       "    }\n",
       "</style>\n",
       "<table border=\"1\" class=\"dataframe\">\n",
       "  <thead>\n",
       "    <tr style=\"text-align: right;\">\n",
       "      <th></th>\n",
       "      <th>filename</th>\n",
       "      <th>Density g/cm3</th>\n",
       "      <th>σ Density g/cm3</th>\n",
       "      <th>σ Density g/cm3 (from Ne+peakfit)</th>\n",
       "      <th>σ Density g/cm3 (from densimeter)</th>\n",
       "      <th>Corrected_Splitting</th>\n",
       "      <th>Corrected_Splitting_σ</th>\n",
       "      <th>Corrected_Splitting_σ_Ne</th>\n",
       "      <th>Corrected_Splitting_σ_peak_fit</th>\n",
       "      <th>Preferred D_σ_Ne</th>\n",
       "      <th>...</th>\n",
       "      <th>accumulations</th>\n",
       "      <th>Mag (X)</th>\n",
       "      <th>duration</th>\n",
       "      <th>24hr_time</th>\n",
       "      <th>sec since midnight</th>\n",
       "      <th>Spectral_Center</th>\n",
       "      <th>time</th>\n",
       "      <th>preferred_values</th>\n",
       "      <th>lower_values</th>\n",
       "      <th>upper_values</th>\n",
       "    </tr>\n",
       "  </thead>\n",
       "  <tbody>\n",
       "    <tr>\n",
       "      <th>0</th>\n",
       "      <td>1mol_FIA_r1_nd50</td>\n",
       "      <td>-0.030533</td>\n",
       "      <td>0.0</td>\n",
       "      <td>0.0</td>\n",
       "      <td>0.0</td>\n",
       "      <td>102.673200</td>\n",
       "      <td>0.009263</td>\n",
       "      <td>0.000942</td>\n",
       "      <td>0.009218</td>\n",
       "      <td>0</td>\n",
       "      <td>...</td>\n",
       "      <td>4.0</td>\n",
       "      <td>x100</td>\n",
       "      <td>240.0</td>\n",
       "      <td>15:52:54</td>\n",
       "      <td>57174</td>\n",
       "      <td>NaN</td>\n",
       "      <td>57174</td>\n",
       "      <td>0.999658</td>\n",
       "      <td>0.999649</td>\n",
       "      <td>0.999667</td>\n",
       "    </tr>\n",
       "    <tr>\n",
       "      <th>1</th>\n",
       "      <td>1mol_FIA_r2_nd50</td>\n",
       "      <td>-0.024470</td>\n",
       "      <td>0.0</td>\n",
       "      <td>0.0</td>\n",
       "      <td>0.0</td>\n",
       "      <td>102.688500</td>\n",
       "      <td>0.009129</td>\n",
       "      <td>0.000933</td>\n",
       "      <td>0.009084</td>\n",
       "      <td>0</td>\n",
       "      <td>...</td>\n",
       "      <td>4.0</td>\n",
       "      <td>x100</td>\n",
       "      <td>240.0</td>\n",
       "      <td>15:58:51</td>\n",
       "      <td>57531</td>\n",
       "      <td>NaN</td>\n",
       "      <td>57531</td>\n",
       "      <td>0.999662</td>\n",
       "      <td>0.999653</td>\n",
       "      <td>0.999671</td>\n",
       "    </tr>\n",
       "    <tr>\n",
       "      <th>2</th>\n",
       "      <td>1mol_FIA_r3_nd50</td>\n",
       "      <td>-0.034828</td>\n",
       "      <td>0.0</td>\n",
       "      <td>0.0</td>\n",
       "      <td>0.0</td>\n",
       "      <td>102.662358</td>\n",
       "      <td>0.009511</td>\n",
       "      <td>0.000926</td>\n",
       "      <td>0.009469</td>\n",
       "      <td>0</td>\n",
       "      <td>...</td>\n",
       "      <td>4.0</td>\n",
       "      <td>x100</td>\n",
       "      <td>240.0</td>\n",
       "      <td>16:03:53</td>\n",
       "      <td>57833</td>\n",
       "      <td>NaN</td>\n",
       "      <td>57833</td>\n",
       "      <td>0.999665</td>\n",
       "      <td>0.999656</td>\n",
       "      <td>0.999674</td>\n",
       "    </tr>\n",
       "    <tr>\n",
       "      <th>3</th>\n",
       "      <td>1mol_FIB_r1_nd50</td>\n",
       "      <td>-0.030533</td>\n",
       "      <td>0.0</td>\n",
       "      <td>0.0</td>\n",
       "      <td>0.0</td>\n",
       "      <td>102.673200</td>\n",
       "      <td>0.009263</td>\n",
       "      <td>0.000942</td>\n",
       "      <td>0.009218</td>\n",
       "      <td>0</td>\n",
       "      <td>...</td>\n",
       "      <td>4.0</td>\n",
       "      <td>x100</td>\n",
       "      <td>240.0</td>\n",
       "      <td>15:52:54</td>\n",
       "      <td>57174</td>\n",
       "      <td>NaN</td>\n",
       "      <td>57174</td>\n",
       "      <td>0.999658</td>\n",
       "      <td>0.999649</td>\n",
       "      <td>0.999667</td>\n",
       "    </tr>\n",
       "    <tr>\n",
       "      <th>4</th>\n",
       "      <td>1mol_FIB_r2_nd100</td>\n",
       "      <td>-0.038657</td>\n",
       "      <td>0.0</td>\n",
       "      <td>0.0</td>\n",
       "      <td>0.0</td>\n",
       "      <td>102.652695</td>\n",
       "      <td>0.017854</td>\n",
       "      <td>0.000999</td>\n",
       "      <td>0.017833</td>\n",
       "      <td>0</td>\n",
       "      <td>...</td>\n",
       "      <td>4.0</td>\n",
       "      <td>x100</td>\n",
       "      <td>240.0</td>\n",
       "      <td>15:23:21</td>\n",
       "      <td>55401</td>\n",
       "      <td>NaN</td>\n",
       "      <td>55401</td>\n",
       "      <td>0.999639</td>\n",
       "      <td>0.999630</td>\n",
       "      <td>0.999649</td>\n",
       "    </tr>\n",
       "  </tbody>\n",
       "</table>\n",
       "<p>5 rows × 87 columns</p>\n",
       "</div>"
      ],
      "text/plain": [
       "            filename  Density g/cm3  σ Density g/cm3  \\\n",
       "0   1mol_FIA_r1_nd50      -0.030533              0.0   \n",
       "1   1mol_FIA_r2_nd50      -0.024470              0.0   \n",
       "2   1mol_FIA_r3_nd50      -0.034828              0.0   \n",
       "3   1mol_FIB_r1_nd50      -0.030533              0.0   \n",
       "4  1mol_FIB_r2_nd100      -0.038657              0.0   \n",
       "\n",
       "   σ Density g/cm3 (from Ne+peakfit)  σ Density g/cm3 (from densimeter)  \\\n",
       "0                                0.0                                0.0   \n",
       "1                                0.0                                0.0   \n",
       "2                                0.0                                0.0   \n",
       "3                                0.0                                0.0   \n",
       "4                                0.0                                0.0   \n",
       "\n",
       "   Corrected_Splitting  Corrected_Splitting_σ  Corrected_Splitting_σ_Ne  \\\n",
       "0           102.673200               0.009263                  0.000942   \n",
       "1           102.688500               0.009129                  0.000933   \n",
       "2           102.662358               0.009511                  0.000926   \n",
       "3           102.673200               0.009263                  0.000942   \n",
       "4           102.652695               0.017854                  0.000999   \n",
       "\n",
       "   Corrected_Splitting_σ_peak_fit  Preferred D_σ_Ne  ...  accumulations  \\\n",
       "0                        0.009218                 0  ...            4.0   \n",
       "1                        0.009084                 0  ...            4.0   \n",
       "2                        0.009469                 0  ...            4.0   \n",
       "3                        0.009218                 0  ...            4.0   \n",
       "4                        0.017833                 0  ...            4.0   \n",
       "\n",
       "  Mag (X) duration  24hr_time  sec since midnight  Spectral_Center   time  \\\n",
       "0    x100    240.0   15:52:54               57174              NaN  57174   \n",
       "1    x100    240.0   15:58:51               57531              NaN  57531   \n",
       "2    x100    240.0   16:03:53               57833              NaN  57833   \n",
       "3    x100    240.0   15:52:54               57174              NaN  57174   \n",
       "4    x100    240.0   15:23:21               55401              NaN  55401   \n",
       "\n",
       "   preferred_values  lower_values  upper_values  \n",
       "0          0.999658      0.999649      0.999667  \n",
       "1          0.999662      0.999653      0.999671  \n",
       "2          0.999665      0.999656      0.999674  \n",
       "3          0.999658      0.999649      0.999667  \n",
       "4          0.999639      0.999630      0.999649  \n",
       "\n",
       "[5 rows x 87 columns]"
      ]
     },
     "execution_count": 15,
     "metadata": {},
     "output_type": "execute_result"
    }
   ],
   "source": [
    "df=pf.calculate_density_ucb(df_combo=df_combo_sec_phase,\n",
    "  Ne_pickle_str='Ar_corr_model.pkl',  temp='SupCrit', CI_split=0.67, CI_neon=0.67)\n",
    "df.head()"
   ]
  },
  {
   "cell_type": "code",
   "execution_count": 17,
   "id": "904175da",
   "metadata": {},
   "outputs": [
    {
     "name": "stdout",
     "output_type": "stream",
     "text": [
      "9.228880069400702e-06\n"
     ]
    },
    {
     "data": {
      "text/html": [
       "<div>\n",
       "<style scoped>\n",
       "    .dataframe tbody tr th:only-of-type {\n",
       "        vertical-align: middle;\n",
       "    }\n",
       "\n",
       "    .dataframe tbody tr th {\n",
       "        vertical-align: top;\n",
       "    }\n",
       "\n",
       "    .dataframe thead th {\n",
       "        text-align: right;\n",
       "    }\n",
       "</style>\n",
       "<table border=\"1\" class=\"dataframe\">\n",
       "  <thead>\n",
       "    <tr style=\"text-align: right;\">\n",
       "      <th></th>\n",
       "      <th>filename</th>\n",
       "      <th>Density g/cm3</th>\n",
       "      <th>σ Density g/cm3</th>\n",
       "      <th>σ Density g/cm3 (from Ne+peakfit)</th>\n",
       "      <th>σ Density g/cm3 (from densimeter)</th>\n",
       "      <th>Corrected_Splitting</th>\n",
       "      <th>Corrected_Splitting_σ</th>\n",
       "      <th>Corrected_Splitting_σ_Ne</th>\n",
       "      <th>Corrected_Splitting_σ_peak_fit</th>\n",
       "      <th>Preferred D_σ_Ne</th>\n",
       "      <th>...</th>\n",
       "      <th>accumulations</th>\n",
       "      <th>Mag (X)</th>\n",
       "      <th>duration</th>\n",
       "      <th>24hr_time</th>\n",
       "      <th>sec since midnight</th>\n",
       "      <th>Spectral_Center</th>\n",
       "      <th>time</th>\n",
       "      <th>preferred_values</th>\n",
       "      <th>lower_values</th>\n",
       "      <th>upper_values</th>\n",
       "    </tr>\n",
       "  </thead>\n",
       "  <tbody>\n",
       "    <tr>\n",
       "      <th>0</th>\n",
       "      <td>1mol_FIA_r1_nd50</td>\n",
       "      <td>-0.030533</td>\n",
       "      <td>0.0</td>\n",
       "      <td>0.0</td>\n",
       "      <td>0.0</td>\n",
       "      <td>102.673200</td>\n",
       "      <td>0.009263</td>\n",
       "      <td>0.000942</td>\n",
       "      <td>0.009218</td>\n",
       "      <td>0</td>\n",
       "      <td>...</td>\n",
       "      <td>4.0</td>\n",
       "      <td>x100</td>\n",
       "      <td>240.0</td>\n",
       "      <td>15:52:54</td>\n",
       "      <td>57174</td>\n",
       "      <td>NaN</td>\n",
       "      <td>57174</td>\n",
       "      <td>0.999658</td>\n",
       "      <td>0.999649</td>\n",
       "      <td>0.999667</td>\n",
       "    </tr>\n",
       "    <tr>\n",
       "      <th>1</th>\n",
       "      <td>1mol_FIA_r2_nd50</td>\n",
       "      <td>-0.024470</td>\n",
       "      <td>0.0</td>\n",
       "      <td>0.0</td>\n",
       "      <td>0.0</td>\n",
       "      <td>102.688500</td>\n",
       "      <td>0.009129</td>\n",
       "      <td>0.000933</td>\n",
       "      <td>0.009084</td>\n",
       "      <td>0</td>\n",
       "      <td>...</td>\n",
       "      <td>4.0</td>\n",
       "      <td>x100</td>\n",
       "      <td>240.0</td>\n",
       "      <td>15:58:51</td>\n",
       "      <td>57531</td>\n",
       "      <td>NaN</td>\n",
       "      <td>57531</td>\n",
       "      <td>0.999662</td>\n",
       "      <td>0.999653</td>\n",
       "      <td>0.999671</td>\n",
       "    </tr>\n",
       "    <tr>\n",
       "      <th>2</th>\n",
       "      <td>1mol_FIA_r3_nd50</td>\n",
       "      <td>-0.034828</td>\n",
       "      <td>0.0</td>\n",
       "      <td>0.0</td>\n",
       "      <td>0.0</td>\n",
       "      <td>102.662358</td>\n",
       "      <td>0.009511</td>\n",
       "      <td>0.000926</td>\n",
       "      <td>0.009469</td>\n",
       "      <td>0</td>\n",
       "      <td>...</td>\n",
       "      <td>4.0</td>\n",
       "      <td>x100</td>\n",
       "      <td>240.0</td>\n",
       "      <td>16:03:53</td>\n",
       "      <td>57833</td>\n",
       "      <td>NaN</td>\n",
       "      <td>57833</td>\n",
       "      <td>0.999665</td>\n",
       "      <td>0.999656</td>\n",
       "      <td>0.999674</td>\n",
       "    </tr>\n",
       "    <tr>\n",
       "      <th>3</th>\n",
       "      <td>1mol_FIB_r1_nd50</td>\n",
       "      <td>-0.030533</td>\n",
       "      <td>0.0</td>\n",
       "      <td>0.0</td>\n",
       "      <td>0.0</td>\n",
       "      <td>102.673200</td>\n",
       "      <td>0.009263</td>\n",
       "      <td>0.000942</td>\n",
       "      <td>0.009218</td>\n",
       "      <td>0</td>\n",
       "      <td>...</td>\n",
       "      <td>4.0</td>\n",
       "      <td>x100</td>\n",
       "      <td>240.0</td>\n",
       "      <td>15:52:54</td>\n",
       "      <td>57174</td>\n",
       "      <td>NaN</td>\n",
       "      <td>57174</td>\n",
       "      <td>0.999658</td>\n",
       "      <td>0.999649</td>\n",
       "      <td>0.999667</td>\n",
       "    </tr>\n",
       "    <tr>\n",
       "      <th>4</th>\n",
       "      <td>1mol_FIB_r2_nd100</td>\n",
       "      <td>-0.038657</td>\n",
       "      <td>0.0</td>\n",
       "      <td>0.0</td>\n",
       "      <td>0.0</td>\n",
       "      <td>102.652695</td>\n",
       "      <td>0.017854</td>\n",
       "      <td>0.000999</td>\n",
       "      <td>0.017833</td>\n",
       "      <td>0</td>\n",
       "      <td>...</td>\n",
       "      <td>4.0</td>\n",
       "      <td>x100</td>\n",
       "      <td>240.0</td>\n",
       "      <td>15:23:21</td>\n",
       "      <td>55401</td>\n",
       "      <td>NaN</td>\n",
       "      <td>55401</td>\n",
       "      <td>0.999639</td>\n",
       "      <td>0.999630</td>\n",
       "      <td>0.999649</td>\n",
       "    </tr>\n",
       "  </tbody>\n",
       "</table>\n",
       "<p>5 rows × 87 columns</p>\n",
       "</div>"
      ],
      "text/plain": [
       "            filename  Density g/cm3  σ Density g/cm3  \\\n",
       "0   1mol_FIA_r1_nd50      -0.030533              0.0   \n",
       "1   1mol_FIA_r2_nd50      -0.024470              0.0   \n",
       "2   1mol_FIA_r3_nd50      -0.034828              0.0   \n",
       "3   1mol_FIB_r1_nd50      -0.030533              0.0   \n",
       "4  1mol_FIB_r2_nd100      -0.038657              0.0   \n",
       "\n",
       "   σ Density g/cm3 (from Ne+peakfit)  σ Density g/cm3 (from densimeter)  \\\n",
       "0                                0.0                                0.0   \n",
       "1                                0.0                                0.0   \n",
       "2                                0.0                                0.0   \n",
       "3                                0.0                                0.0   \n",
       "4                                0.0                                0.0   \n",
       "\n",
       "   Corrected_Splitting  Corrected_Splitting_σ  Corrected_Splitting_σ_Ne  \\\n",
       "0           102.673200               0.009263                  0.000942   \n",
       "1           102.688500               0.009129                  0.000933   \n",
       "2           102.662358               0.009511                  0.000926   \n",
       "3           102.673200               0.009263                  0.000942   \n",
       "4           102.652695               0.017854                  0.000999   \n",
       "\n",
       "   Corrected_Splitting_σ_peak_fit  Preferred D_σ_Ne  ...  accumulations  \\\n",
       "0                        0.009218                 0  ...            4.0   \n",
       "1                        0.009084                 0  ...            4.0   \n",
       "2                        0.009469                 0  ...            4.0   \n",
       "3                        0.009218                 0  ...            4.0   \n",
       "4                        0.017833                 0  ...            4.0   \n",
       "\n",
       "  Mag (X) duration  24hr_time  sec since midnight  Spectral_Center   time  \\\n",
       "0    x100    240.0   15:52:54               57174              NaN  57174   \n",
       "1    x100    240.0   15:58:51               57531              NaN  57531   \n",
       "2    x100    240.0   16:03:53               57833              NaN  57833   \n",
       "3    x100    240.0   15:52:54               57174              NaN  57174   \n",
       "4    x100    240.0   15:23:21               55401              NaN  55401   \n",
       "\n",
       "   preferred_values  lower_values  upper_values  \n",
       "0          0.999658      0.999649      0.999667  \n",
       "1          0.999662      0.999653      0.999671  \n",
       "2          0.999665      0.999656      0.999674  \n",
       "3          0.999658      0.999649      0.999667  \n",
       "4          0.999639      0.999630      0.999649  \n",
       "\n",
       "[5 rows x 87 columns]"
      ]
     },
     "execution_count": 17,
     "metadata": {},
     "output_type": "execute_result"
    }
   ],
   "source": [
    "df=pf.calculate_density_ucb(df_combo=df_combo_sec_phase,\n",
    "  Ne_pickle_str='Ar_corr_model.pkl',  temp='SupCrit', CI_split=0.67, CI_neon=0.67)\n",
    "df.head()"
   ]
  },
  {
   "cell_type": "markdown",
   "id": "4fba3346",
   "metadata": {},
   "source": [
    "### This cell saves the merged together dataframe with the folder name and the date you fitted it"
   ]
  },
  {
   "cell_type": "code",
   "execution_count": 18,
   "id": "a290a591",
   "metadata": {
    "tags": []
   },
   "outputs": [
    {
     "name": "stdout",
     "output_type": "stream",
     "text": [
      "Raman_session_03.09.2025_fitted_2025-09-08.xlsx\n"
     ]
    }
   ],
   "source": [
    "\n",
    "from datetime import date\n",
    "today = date.today()\n",
    "today_str = today.strftime(\"%Y-%m-%d\")\n",
    "sorted_df = df.sort_values('sec since midnight')\n",
    "date=meta['date'].iloc[0].replace('\\n', '')\n",
    "name='Raman_session_'+date+'_fitted_'+today_str+'.xlsx'\n",
    "print(name)\n",
    "sorted_df.to_excel(name)"
   ]
  },
  {
   "cell_type": "markdown",
   "id": "b34ba05e",
   "metadata": {},
   "source": [
    "## This helps visualize the errors on each spectra "
   ]
  },
  {
   "cell_type": "code",
   "execution_count": null,
   "id": "8f67ccb8",
   "metadata": {
    "tags": []
   },
   "outputs": [
    {
     "data": {
      "image/png": "[encoded data removed]",
      "text/plain": [
       "<Figure size 1000x800 with 4 Axes>"
      ]
     },
     "metadata": {},
     "output_type": "display_data"
    }
   ],
   "source": [
    "df=sorted_df\n",
    "fig, ((ax1, ax2), (ax3, ax4)) = plt.subplots(2, 2, figsize=(10,8))\n",
    "df=df.loc[df['Density g/cm3']>0]\n",
    "ax1.errorbar(df['Corrected_Splitting'], df['Density g/cm3'],\n",
    "xerr=df['Corrected_Splitting_σ'], yerr=df['σ Density g/cm3'],\n",
    "fmt='o', ecolor='grey', elinewidth=0.8, mfc='red', ms=6, mec='k', capsize=2)\n",
    "ax1.set_xlabel('Corrected Splitting (cm$^{-1}$)')\n",
    "ax1.set_ylabel('Density g/cm3')\n",
    "\n",
    "ax2.plot(df['Corrected_Splitting'], \n",
    "100*df['Corrected_Splitting_σ_Ne']/(df['Corrected_Splitting_σ_Ne']+df['Corrected_Splitting_σ_peak_fit']),\n",
    " 'ok', mfc='orange')\n",
    "ax2.set_ylabel('% of splitting error from Neon Correction')\n",
    "ax2.set_xlabel('Corrected Splitting (cm$^{-1}$)')\n",
    "ax3.plot(df['Density g/cm3'], 100*df['σ Density g/cm3 (from Ne+peakfit)']/df['Density g/cm3'], \n",
    "'ok', mfc='cyan', ms=5, label='Error: Ne + pk fit')\n",
    "\n",
    "\n",
    "ax3.plot(df['Density g/cm3'], 100*df['σ Density g/cm3 (from densimeter)']/df['Density g/cm3'], \n",
    "'ok', mfc='blue', ms=5, label='Error: Densimeter')\n",
    "\n",
    "ax3.plot(df['Density g/cm3'], 100*df['σ Density g/cm3']/df['Density g/cm3'], \n",
    "'ok', mfc='yellow', ms=5, label='Overall Error')\n",
    "ax3.set_ylabel('% error')\n",
    "ax3.set_xlabel('Density g/cm3')\n",
    "ax3.legend()\n",
    "\n",
    "ax4.plot(df['Density g/cm3'], df['σ Density g/cm3 (from densimeter)'], \n",
    "'ok', mfc='blue', ms=5, label='Error: Densimeter')\n",
    "ax4.plot(df['Density g/cm3'], df['σ Density g/cm3 (from Ne+peakfit)'], \n",
    "'ok', mfc='cyan', ms=5, label='Error: Splitting')\n",
    "ax4.plot(df['Density g/cm3'], df['σ Density g/cm3'], \n",
    "'ok', mfc='yellow', ms=5, label='Overall Error')\n",
    "ax4.set_ylabel('error (g/cm3)')\n",
    "ax4.set_xlabel('Density g/cm3')\n",
    "ax4.legend()\n",
    "\n",
    "fig.tight_layout()"
   ]
  },
  {
   "cell_type": "markdown",
   "id": "3f9497d4",
   "metadata": {},
   "source": [
    "## If you were analysing fluid inclusions, lets calculate their pressures\n",
    "- This bit isn't valid for melt inclusion vapour bubbles. "
   ]
  },
  {
   "cell_type": "code",
   "execution_count": null,
   "id": "6954ac35",
   "metadata": {
    "tags": []
   },
   "outputs": [
    {
     "data": {
      "text/plain": [
       "Text(0, 0.5, '# of FI')"
      ]
     },
     "execution_count": 15,
     "metadata": {},
     "output_type": "execute_result"
    },
    {
     "data": {
      "image/png": "[encoded data removed]",
      "text/plain": [
       "<Figure size 1000x500 with 2 Axes>"
      ]
     },
     "metadata": {},
     "output_type": "display_data"
    }
   ],
   "source": [
    "# Calculate pressure with a temperature estimate\n",
    "Temp_C=1150\n",
    "Pressure_SW96=pf.calculate_P_for_rho_T(T_K=Temp_C+273.15,\n",
    "                CO2_dens_gcm3=df['Density g/cm3'],\n",
    "                 EOS='SW96')\n",
    "# Calculate depth from a crustal density assumption\n",
    "Depth=pf.convert_pressure_to_depth(P_kbar=Pressure_SW96['P_kbar'], \n",
    "                crust_dens_kgm3=2300)\n",
    "\n",
    "fig, (ax1, ax2) = plt.subplots(1, 2, figsize=(10,5))\n",
    "ax1.hist(Pressure_SW96['P_kbar'], ec='k', fc='cyan', bins=10)\n",
    "ax1.plot(Pressure_SW96['P_kbar'], Pressure_SW96['P_kbar']*0+5, 'xk')\n",
    "ax2.plot(Depth, Pressure_SW96['P_kbar']*0+5, 'xk')\n",
    "ax2.hist(Depth, ec='k', fc='white', bins=10)\n",
    "ax1.set_xlabel('P kbar')\n",
    "ax2.set_xlabel('Depth (km)')\n",
    "ax1.set_ylabel('# of FI')"
   ]
  },
  {
   "cell_type": "code",
   "execution_count": null,
   "id": "32fcbefc",
   "metadata": {},
   "outputs": [],
   "source": []
  }
 ],
 "metadata": {
  "kernelspec": {
   "display_name": "base",
   "language": "python",
   "name": "python3"
  },
  "language_info": {
   "codemirror_mode": {
    "name": "ipython",
    "version": 3
   },
   "file_extension": ".py",
   "mimetype": "text/x-python",
   "name": "python",
   "nbconvert_exporter": "python",
   "pygments_lexer": "ipython3",
   "version": "3.12.3"
  }
 },
 "nbformat": 4,
 "nbformat_minor": 5
}
