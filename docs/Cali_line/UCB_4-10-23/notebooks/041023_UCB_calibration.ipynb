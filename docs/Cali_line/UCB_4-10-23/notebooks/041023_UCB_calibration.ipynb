{
 "cells": [
  {
   "cell_type": "markdown",
   "id": "5111b2d1-e1aa-4b91-a182-e6e225da78ce",
   "metadata": {},
   "source": [
    "# Calculating Median Pressures of Raman CO2 calibration analyses from ESI-TEC software log \n",
    "- This workbook shows how to extract and calculate median+standard deviation of pressure log data from the ESI-TEC software files corresponding to calibration analyses.\n",
    "- This data is from Devitre et al. (2021), collected from acqusitions on a high pressure optical cell on the Cornell WITec Alpha300R. "
   ]
  },
  {
   "cell_type": "code",
   "execution_count": 9,
   "id": "43e4bef3-2276-4cae-a212-7cf333e40b45",
   "metadata": {},
   "outputs": [],
   "source": [
    "# Import useful python packages\n",
    "import numpy as np\n",
    "import pandas as pd\n",
    "import matplotlib.pyplot as plt\n",
    "import matplotlib.dates as mdates\n",
    "import math\n",
    "import os\n",
    "import datetime"
   ]
  },
  {
   "cell_type": "markdown",
   "id": "9bc957e4-8024-48ff-893a-c461a73b4497",
   "metadata": {},
   "source": [
    "## Downloading DiadFit locally\n",
    "- The easiest way to install diad fit is by removing the #. It will install from PyPI\n",
    "- You only need to do this once on each computer, or run in order to grab an updated version. "
   ]
  },
  {
   "cell_type": "markdown",
   "id": "e992ce7f-96f6-4f75-a597-dee523a57229",
   "metadata": {},
   "source": [
    "### This imports DiadFit, and gives you the version. In all communication with Penny, make sure you say the version!\n"
   ]
  },
  {
   "cell_type": "code",
   "execution_count": 10,
   "id": "a5c4de43-e366-4a2f-a86e-c9a89c0e050e",
   "metadata": {},
   "outputs": [
    {
     "data": {
      "text/plain": [
       "'0.0.58'"
      ]
     },
     "execution_count": 10,
     "metadata": {},
     "output_type": "execute_result"
    }
   ],
   "source": [
    "import DiadFit as pf\n",
    "pf.__version__"
   ]
  },
  {
   "cell_type": "markdown",
   "id": "2b5cf768-bc64-45a1-b785-9324c47ea8e6",
   "metadata": {
    "tags": []
   },
   "source": [
    "## Extracting information from the ESI-TEC report files (.docx)\n",
    "- ESI-Tec software exports a report in word document format, in which the absolute start time of the analysis,serial number of the sensor and other information are stored that we need to access"
   ]
  },
  {
   "cell_type": "markdown",
   "id": "dacc5b4b-1ef8-415e-b14a-1600e7334f05",
   "metadata": {
    "tags": []
   },
   "source": [
    "### First, we identify the report files"
   ]
  },
  {
   "cell_type": "code",
   "execution_count": 11,
   "id": "7784714c-ad04-42ed-8a1f-b0a3eb60ddfc",
   "metadata": {},
   "outputs": [
    {
     "data": {
      "text/plain": [
       "['Report_20230411_065351.docx']"
      ]
     },
     "metadata": {},
     "output_type": "display_data"
    }
   ],
   "source": [
    "path=r\"G:\\My Drive\\Berkeley_NEW\\DiadFit_outer\\docs\\Cali_line\\UCB_4-10-23\"\n",
    "filetype_reports=['.docx']\n",
    "\n",
    "report_files=pf.Psensor.get_files(path=path,filetype=filetype_reports)\n",
    "display(report_files)"
   ]
  },
  {
   "cell_type": "markdown",
   "id": "642f9355-f95f-41b5-9ec3-2232b63267d3",
   "metadata": {},
   "source": [
    "### The, we strip the start time of the analysis and the serial number of the sensor from the file"
   ]
  },
  {
   "cell_type": "code",
   "execution_count": 12,
   "id": "a5937111-fa2c-462c-9e13-da6326f28ca3",
   "metadata": {},
   "outputs": [
    {
     "name": "stdout",
     "output_type": "stream",
     "text": [
      "2023-04-10 11:09:18\n",
      "Serial No. 0132212\n"
     ]
    }
   ],
   "source": [
    "j=0\n",
    "rep=report_files[j]\n",
    "\n",
    "start_time,sn_str=pf.Psensor.report_info(path=path,report=rep)"
   ]
  },
  {
   "cell_type": "markdown",
   "id": "b5bee3c7-6a91-46e3-8c73-60e2f0bdd1c7",
   "metadata": {},
   "source": [
    "## Extracting pressure data from the ESI-TEC pressure log\n",
    "- ESI-TEC software exports the full pressure log to either excel or csv, which we extract here"
   ]
  },
  {
   "cell_type": "markdown",
   "id": "cce71495-98de-4e44-b9ea-a2a745fa3440",
   "metadata": {},
   "source": [
    "### First, we identify the data files \n",
    "- These could be excel or csv, we can load either"
   ]
  },
  {
   "cell_type": "code",
   "execution_count": 13,
   "id": "ecfe3026-c956-4b23-9c0f-53674f0f893b",
   "metadata": {},
   "outputs": [
    {
     "data": {
      "text/plain": [
       "['041023_37Cexperiment_ESITEC_out.xlsx',\n",
       " 'Experiment_37C_4-10-23.xlsx',\n",
       " 'UCB_4-10-23_Calibration_fitting_w_sec_pg.xlsx',\n",
       " 'merged_dataframe.xlsx',\n",
       " '~$Experiment_37C_4-10-23.xlsx',\n",
       " 'PseudoVoigt.xlsx',\n",
       " 'Names_for_notes.xlsx',\n",
       " 'Discarded_df.xlsx',\n",
       " 'Medium_Diads.xlsx',\n",
       " 'Weak_Diads.xlsx',\n",
       " 'Strong_Diads.xlsx',\n",
       " 'FI_fitting.xlsx']"
      ]
     },
     "metadata": {},
     "output_type": "display_data"
    }
   ],
   "source": [
    "filetype=['.csv','.xlsx']\n",
    "\n",
    "pfiles=pf.Psensor.get_files(path=path,filetype=filetype)\n",
    "display(pfiles)"
   ]
  },
  {
   "cell_type": "markdown",
   "id": "5bb4aff2-ef8d-4d64-b4c7-1a3e0bca6f1a",
   "metadata": {},
   "source": [
    "### Now pick a file to start with and read in the data\n",
    "- Here we will obtain a Date and Time column based on the report start time and a Timestamp column (UNIX time)"
   ]
  },
  {
   "cell_type": "code",
   "execution_count": 15,
   "id": "7913db00-7c89-4147-8ec6-4f15a649adbe",
   "metadata": {},
   "outputs": [
    {
     "name": "stdout",
     "output_type": "stream",
     "text": [
      "Experiment_37C_4-10-23.xlsx\n"
     ]
    },
    {
     "data": {
      "text/html": [
       "<div>\n",
       "<style scoped>\n",
       "    .dataframe tbody tr th:only-of-type {\n",
       "        vertical-align: middle;\n",
       "    }\n",
       "\n",
       "    .dataframe tbody tr th {\n",
       "        vertical-align: top;\n",
       "    }\n",
       "\n",
       "    .dataframe thead th {\n",
       "        text-align: right;\n",
       "    }\n",
       "</style>\n",
       "<table border=\"1\" class=\"dataframe\">\n",
       "  <thead>\n",
       "    <tr style=\"text-align: right;\">\n",
       "      <th></th>\n",
       "      <th>Time_sincestart</th>\n",
       "      <th>Pressure / MPa</th>\n",
       "      <th>Temperature / °C</th>\n",
       "      <th>Date and Time</th>\n",
       "      <th>unix_timestamp</th>\n",
       "    </tr>\n",
       "  </thead>\n",
       "  <tbody>\n",
       "    <tr>\n",
       "      <th>0</th>\n",
       "      <td>00:00:00.000000</td>\n",
       "      <td>0.100957</td>\n",
       "      <td>23.078125</td>\n",
       "      <td>2023-04-10 11:09:18.000000</td>\n",
       "      <td>1.681125e+09</td>\n",
       "    </tr>\n",
       "    <tr>\n",
       "      <th>1</th>\n",
       "      <td>00:00:02.999194</td>\n",
       "      <td>0.101022</td>\n",
       "      <td>23.080078</td>\n",
       "      <td>2023-04-10 11:09:20.999194</td>\n",
       "      <td>1.681125e+09</td>\n",
       "    </tr>\n",
       "    <tr>\n",
       "      <th>2</th>\n",
       "      <td>00:00:06.000153</td>\n",
       "      <td>0.101470</td>\n",
       "      <td>23.091797</td>\n",
       "      <td>2023-04-10 11:09:24.000153</td>\n",
       "      <td>1.681125e+09</td>\n",
       "    </tr>\n",
       "    <tr>\n",
       "      <th>3</th>\n",
       "      <td>00:00:08.999278</td>\n",
       "      <td>0.100740</td>\n",
       "      <td>23.080078</td>\n",
       "      <td>2023-04-10 11:09:26.999278</td>\n",
       "      <td>1.681125e+09</td>\n",
       "    </tr>\n",
       "    <tr>\n",
       "      <th>4</th>\n",
       "      <td>00:00:11.999985</td>\n",
       "      <td>0.100636</td>\n",
       "      <td>23.082031</td>\n",
       "      <td>2023-04-10 11:09:29.999985</td>\n",
       "      <td>1.681125e+09</td>\n",
       "    </tr>\n",
       "  </tbody>\n",
       "</table>\n",
       "</div>"
      ],
      "text/plain": [
       "   Time_sincestart  Pressure / MPa  Temperature / °C  \\\n",
       "0  00:00:00.000000        0.100957         23.078125   \n",
       "1  00:00:02.999194        0.101022         23.080078   \n",
       "2  00:00:06.000153        0.101470         23.091797   \n",
       "3  00:00:08.999278        0.100740         23.080078   \n",
       "4  00:00:11.999985        0.100636         23.082031   \n",
       "\n",
       "               Date and Time  unix_timestamp  \n",
       "0 2023-04-10 11:09:18.000000    1.681125e+09  \n",
       "1 2023-04-10 11:09:20.999194    1.681125e+09  \n",
       "2 2023-04-10 11:09:24.000153    1.681125e+09  \n",
       "3 2023-04-10 11:09:26.999278    1.681125e+09  \n",
       "4 2023-04-10 11:09:29.999985    1.681125e+09  "
      ]
     },
     "metadata": {},
     "output_type": "display_data"
    }
   ],
   "source": [
    "i=1 # select filenumber in pfiles\n",
    "print(pfiles[i])\n",
    "\n",
    "pdata=pf.Psensor.read_pfiles(path=path,file='041023_37Cexperiment_ESITEC_out.xlsx',start_time=start_time,sn_name=sn_str)\n",
    "display(pdata.head())"
   ]
  },
  {
   "cell_type": "markdown",
   "id": "a1eaae85-c926-4b8d-b048-99078a32c45f",
   "metadata": {},
   "source": [
    "### We can plot the pressure data with Date and Time "
   ]
  },
  {
   "cell_type": "code",
   "execution_count": 16,
   "id": "0ce90ebe-2759-4c71-b255-87f6eb7c9593",
   "metadata": {},
   "outputs": [
    {
     "data": {
      "image/png": "[encoded data removed]",
      "text/plain": [
       "<Figure size 640x480 with 2 Axes>"
      ]
     },
     "metadata": {},
     "output_type": "display_data"
    }
   ],
   "source": [
    "fig, ax = plt.subplots()\n",
    "\n",
    "ax.plot_date(pdata['Date and Time'],pdata['Pressure / MPa'],'o',markersize=2,color='darkblue',zorder=0)\n",
    "ax2=ax.twinx()\n",
    "ax2.plot_date(pdata['Date and Time'],pdata['Temperature / °C'],'o',markersize=1,color='darkred',zorder=0)\n",
    "\n",
    "ax.set_xlabel(r\"Time (HH:MM:SS)\")\n",
    "ax.set_ylabel(r\"Pressure (MPa)\")\n",
    "ax2.set_ylabel(r\"Sensor Temperature ($^\\circ$C)\")\n",
    "\n",
    "plt.gca().xaxis.set_major_formatter(mdates.DateFormatter('%H:%M:%S'))\n",
    "plt.gcf().autofmt_xdate()"
   ]
  },
  {
   "cell_type": "code",
   "execution_count": 17,
   "id": "66f47521-c94a-4af6-861f-532d7366815a",
   "metadata": {},
   "outputs": [],
   "source": [
    "pdata.to_clipboard(excel=True)"
   ]
  },
  {
   "cell_type": "markdown",
   "id": "b43c558d-f752-4ff2-a5d8-7741c644e735",
   "metadata": {},
   "source": [
    "## Now read in the calibration analysis data \n",
    "- This is output xlsx by \"Stitch_Outputs_Together.pynb\" using DiadFit. \n",
    "- You could also simply use a metadata table, but it must have the correct format as output by DiadFit metadata loop functions."
   ]
  },
  {
   "cell_type": "code",
   "execution_count": null,
   "id": "c99b8028-3baf-4dc3-8cc2-787a0c34738f",
   "metadata": {},
   "outputs": [],
   "source": [
    "sdata_base = pd.read_excel(r\"C:\\Users\\charl\\Documents\\Instruments and calibrations\\OUTPUT\\UCB_4-10-23_Calibration_fitting_w_sec_pg.xlsx\")\n",
    "sdata_base=sdata_base.drop(columns={'Unnamed: 0'}) # drop unnamed column\n",
    "display(sdata_base.head())"
   ]
  },
  {
   "cell_type": "markdown",
   "id": "af9f2fa6-2124-49b5-9182-68d486ed231b",
   "metadata": {},
   "source": [
    "# Calculate the datetime, unix timestamp and duration of each analysis\n",
    "- Here we can specify a time offset between the raman computer and the pressure recording computer\n",
    "- For this dataset, the raman computer was about ~4 minutes ahead of the pressure recording computer. If we specify df=sdata,raman_cpu_offset='ahead',offset_hms=[0,5,0] as arguments of the function, we will immediately at the end that the standard deviations of the pressure medians are much lower. If instead we said raman_cpu_offset='none', we can see at the end that the standard deviations are large for some samples."
   ]
  },
  {
   "cell_type": "code",
   "execution_count": null,
   "id": "b362a0da-5631-4ebe-b712-d7e68007379c",
   "metadata": {},
   "outputs": [],
   "source": [
    "sdata=pf.Psensor.add_datetime_and_duration_cols(df=sdata_base,raman_cpu_offset='ahead',offset_hms=[0,5,44])\n",
    "sdata.head()"
   ]
  },
  {
   "cell_type": "markdown",
   "id": "caece082-5c2a-482b-bf9c-e8daaf9f0faf",
   "metadata": {},
   "source": [
    "# Calculate the median pressure and median absolute deviation for each analysis\n",
    "- This portion calculates the median pressures for each analysis based on the timestamps, and then merges the results back in with the analysis dataset\n",
    "- Make sure that the time on each acquisition computer is the same or if you know the offset correct the time in one of the datasets"
   ]
  },
  {
   "cell_type": "markdown",
   "id": "b449a816-946a-44a2-9306-b5872490befd",
   "metadata": {},
   "source": [
    "## Calculate median pressure and median absolute deviation for each analysis"
   ]
  },
  {
   "cell_type": "code",
   "execution_count": null,
   "id": "c2bddf9d-3b61-401d-976e-3e8ab73feaa9",
   "metadata": {},
   "outputs": [],
   "source": [
    "# Calculate median pressure intra-analysis and 1 median absolute deviation\n",
    "p_medians=pf.Psensor.get_p_medians(pdata=pdata,sdata=sdata)\n",
    "display(p_medians.head())"
   ]
  },
  {
   "cell_type": "markdown",
   "id": "8bdce369-1830-4317-bd43-4ef7602593e2",
   "metadata": {},
   "source": [
    "## Merge results into analysis dataset and plot\n",
    "- Here, check that the standard deviations are small, plot can help ID issues like mismatching computer time\n",
    "- In this dataset, for instance, the CPU time on the computer where the Raman analyses were made and the pressure recording laptop was slightly different (by 4 minutes), in a case like this, you'll want to adjust the time of the analyses, you can go back and do this then recalculate the medians."
   ]
  },
  {
   "cell_type": "code",
   "execution_count": null,
   "id": "bb159fe5-afdc-44c8-a2c7-edf862b15bae",
   "metadata": {},
   "outputs": [],
   "source": [
    "# Merge this into the OG spectal dataframe\n",
    "merged_data=pd.merge(left=sdata,right=p_medians,how='outer',left_on='filename_x',right_on='filename_x')\n",
    "# sort the dataframe by date and time\n",
    "merged_data.sort_values(by='Date and Time',inplace=True)\n",
    "\n",
    "display(merged_data.head())\n",
    "\n",
    "show_temp=False # If you want to show the sensor temperature averages as well, change to True\n",
    "\n",
    "fig, ax = plt.subplots()\n",
    "\n",
    "ax.plot_date(pdata['Date and Time'],pdata['Pressure / MPa'],'o',markersize=2,color='darkblue',zorder=1)\n",
    "\n",
    "ax.plot_date(pdata['Date and Time'],pdata['Pressure / MPa'],'o',markersize=2,color='darkblue',zorder=1)\n",
    "ax.errorbar(merged_data['Date and Time - offset'],merged_data['median_pressure'], yerr=merged_data['mad_pressure'], fmt='d',color='orange',mfc='orange', ecolor='black', capsize=2,barsabove=True,zorder=2)\n",
    "\n",
    "if show_temp==True:\n",
    "    \n",
    "    ax2=ax.twinx()\n",
    "\n",
    "    ax2.plot_date(pdata['Date and Time'],pdata['Temperature / °C'],'o',markersize=1,color='darkred',zorder=-1)\n",
    "    ax2.errorbar(merged_data['Date and Time - offset'],merged_data['median_temp'], yerr=merged_data['mad_temp'], fmt='s',color='orange',mfc='orange', ecolor='black', capsize=2,barsabove=True,zorder=0)\n",
    "    ax2.set_ylabel(r\"Sensor Temperature ($^\\circ$C)\")\n",
    "\n",
    "ax.set_xlabel(r\"Time (HH:MM:SS)\")\n",
    "ax.set_ylabel(r\"Pressure (MPa)\")\n",
    "\n",
    "plt.gca().xaxis.set_major_formatter(mdates.DateFormatter('%H:%M:%S'))\n",
    "plt.gcf().autofmt_xdate()\n",
    "plt.xlim(min(merged_data['Date and Time - offset'])-datetime.timedelta(hours=1),max(merged_data['Date and Time - offset'])+datetime.timedelta(hours=0.5))\n"
   ]
  },
  {
   "cell_type": "markdown",
   "id": "3cfdcf2a-bb0c-42e7-ac8b-7a78e559b0ec",
   "metadata": {},
   "source": [
    "## Export merged data to excel or clipboard"
   ]
  },
  {
   "cell_type": "code",
   "execution_count": null,
   "id": "7c4a59d7-2681-4397-9df0-1b523dad56d0",
   "metadata": {},
   "outputs": [],
   "source": [
    "merged_data['filename_nocrr'] = merged_data['filename_x'].str.split('_', n=1).str[0]\n",
    "#Export the updated dataframe to excel\n",
    "merged_data.to_excel(path+'/'+'merged_dataframe.xlsx')\n",
    "#Export the updated dataframe to clipboard\n",
    "merged_data.to_clipboard(excel=True)"
   ]
  },
  {
   "cell_type": "markdown",
   "id": "0de37f1f-903f-47f9-b96e-64e3b944723f",
   "metadata": {},
   "source": [
    "## FERMI SPLIT vs P"
   ]
  },
  {
   "cell_type": "code",
   "execution_count": null,
   "id": "b108a5fb-9a26-4bca-93bf-0cecc6c748fc",
   "metadata": {},
   "outputs": [],
   "source": [
    "#creates a column with a new column that splits the filename to sample name (FDCA-P1-1 becomes FDCA-P1)\n",
    "df=merged_data.copy()\n",
    "df['filename_split'] = df['filename_x'].str.split('-', n=2).str[:2].str.join('-')\n",
    "df.head()"
   ]
  },
  {
   "cell_type": "code",
   "execution_count": null,
   "id": "9682ad43-2b48-4afa-843a-1be49e85fedd",
   "metadata": {},
   "outputs": [],
   "source": [
    "plt.plot(df"
   ]
  },
  {
   "cell_type": "code",
   "execution_count": 23,
   "id": "70c88baa-97cc-4950-83cb-04faaa869384",
   "metadata": {},
   "outputs": [
    {
     "data": {
      "text/plain": [
       "<ErrorbarContainer object of 3 artists>"
      ]
     },
     "execution_count": 23,
     "metadata": {},
     "output_type": "execute_result"
    },
    {
     "data": {
      "image/png": "[encoded data removed]",
      "text/plain": [
       "<Figure size 640x480 with 1 Axes>"
      ]
     },
     "metadata": {},
     "output_type": "display_data"
    }
   ],
   "source": [
    "plt.errorbar(y=merged_data['median_pressure'],x=merged_data['Corrected_Splitting'], yerr=merged_data['mad_pressure'], fmt='d',color='orange',mfc='orange', ecolor='black', capsize=1,barsabove=True,zorder=2)\n"
   ]
  },
  {
   "cell_type": "code",
   "execution_count": null,
   "id": "300e2ebf-91e5-4fde-814d-6a17fa2ea419",
   "metadata": {},
   "outputs": [],
   "source": []
  }
 ],
 "metadata": {
  "kernelspec": {
   "display_name": "Python 3 (ipykernel)",
   "language": "python",
   "name": "python3"
  },
  "language_info": {
   "codemirror_mode": {
    "name": "ipython",
    "version": 3
   },
   "file_extension": ".py",
   "mimetype": "text/x-python",
   "name": "python",
   "nbconvert_exporter": "python",
   "pygments_lexer": "ipython3",
   "version": "3.9.13"
  }
 },
 "nbformat": 4,
 "nbformat_minor": 5
}
