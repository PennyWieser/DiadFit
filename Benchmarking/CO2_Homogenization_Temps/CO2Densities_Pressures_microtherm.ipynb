{
 "cells": [
  {
   "cell_type": "code",
   "execution_count": 1,
   "id": "b7e6356c-cd40-4447-8211-5e0b20767af4",
   "metadata": {},
   "outputs": [
    {
     "data": {
      "text/plain": [
       "'0.0.47'"
      ]
     },
     "execution_count": 1,
     "metadata": {},
     "output_type": "execute_result"
    }
   ],
   "source": [
    "import pandas as pd\n",
    "import numpy as np\n",
    "import matplotlib.pyplot as plt\n",
    "import DiadFit as pf\n",
    "pf.__version__"
   ]
  },
  {
   "cell_type": "code",
   "execution_count": 2,
   "id": "4842227b-864e-4404-93ae-23bab91ea8b6",
   "metadata": {},
   "outputs": [
    {
     "name": "stdout",
     "output_type": "stream",
     "text": [
      "3.9.13\n"
     ]
    }
   ],
   "source": [
    "from platform import python_version\n",
    "\n",
    "print(python_version())"
   ]
  },
  {
   "cell_type": "code",
   "execution_count": 3,
   "id": "852c0607-0f63-44cc-989a-4566d211156c",
   "metadata": {},
   "outputs": [
    {
     "data": {
      "text/html": [
       "<div>\n",
       "<style scoped>\n",
       "    .dataframe tbody tr th:only-of-type {\n",
       "        vertical-align: middle;\n",
       "    }\n",
       "\n",
       "    .dataframe tbody tr th {\n",
       "        vertical-align: top;\n",
       "    }\n",
       "\n",
       "    .dataframe thead th {\n",
       "        text-align: right;\n",
       "    }\n",
       "</style>\n",
       "<table border=\"1\" class=\"dataframe\">\n",
       "  <thead>\n",
       "    <tr style=\"text-align: right;\">\n",
       "      <th></th>\n",
       "      <th>T_c_Homog</th>\n",
       "      <th>Sample</th>\n",
       "    </tr>\n",
       "  </thead>\n",
       "  <tbody>\n",
       "    <tr>\n",
       "      <th>0</th>\n",
       "      <td>30</td>\n",
       "      <td>Test1</td>\n",
       "    </tr>\n",
       "    <tr>\n",
       "      <th>1</th>\n",
       "      <td>25</td>\n",
       "      <td>Test2</td>\n",
       "    </tr>\n",
       "    <tr>\n",
       "      <th>2</th>\n",
       "      <td>20</td>\n",
       "      <td>Test3</td>\n",
       "    </tr>\n",
       "    <tr>\n",
       "      <th>3</th>\n",
       "      <td>15</td>\n",
       "      <td>Test4</td>\n",
       "    </tr>\n",
       "    <tr>\n",
       "      <th>4</th>\n",
       "      <td>10</td>\n",
       "      <td>Test5</td>\n",
       "    </tr>\n",
       "  </tbody>\n",
       "</table>\n",
       "</div>"
      ],
      "text/plain": [
       "   T_c_Homog Sample\n",
       "0         30  Test1\n",
       "1         25  Test2\n",
       "2         20  Test3\n",
       "3         15  Test4\n",
       "4         10  Test5"
      ]
     },
     "execution_count": 3,
     "metadata": {},
     "output_type": "execute_result"
    }
   ],
   "source": [
    "df=pd.read_excel('Batch_processing_TC.xlsx')\n",
    "df.head()"
   ]
  },
  {
   "cell_type": "code",
   "execution_count": 4,
   "id": "f3446859-f9a6-435b-bf2c-20d30d7905d0",
   "metadata": {},
   "outputs": [
    {
     "data": {
      "text/html": [
       "<div>\n",
       "<style scoped>\n",
       "    .dataframe tbody tr th:only-of-type {\n",
       "        vertical-align: middle;\n",
       "    }\n",
       "\n",
       "    .dataframe tbody tr th {\n",
       "        vertical-align: top;\n",
       "    }\n",
       "\n",
       "    .dataframe thead th {\n",
       "        text-align: right;\n",
       "    }\n",
       "</style>\n",
       "<table border=\"1\" class=\"dataframe\">\n",
       "  <thead>\n",
       "    <tr style=\"text-align: right;\">\n",
       "      <th></th>\n",
       "      <th>Liq_gcm3</th>\n",
       "      <th>Gas_gcm3</th>\n",
       "      <th>T_C</th>\n",
       "    </tr>\n",
       "  </thead>\n",
       "  <tbody>\n",
       "    <tr>\n",
       "      <th>0</th>\n",
       "      <td>0.956209</td>\n",
       "      <td>0.08336</td>\n",
       "      <td>-5</td>\n",
       "    </tr>\n",
       "  </tbody>\n",
       "</table>\n",
       "</div>"
      ],
      "text/plain": [
       "   Liq_gcm3  Gas_gcm3  T_C\n",
       "0  0.956209   0.08336   -5"
      ]
     },
     "execution_count": 4,
     "metadata": {},
     "output_type": "execute_result"
    }
   ],
   "source": [
    "pf.calculate_CO2_density_homog_T(T_C=-5)"
   ]
  },
  {
   "cell_type": "code",
   "execution_count": 5,
   "id": "39238c1e-ee4f-466c-9de0-5d9f1843efe3",
   "metadata": {},
   "outputs": [
    {
     "data": {
      "text/html": [
       "<div>\n",
       "<style scoped>\n",
       "    .dataframe tbody tr th:only-of-type {\n",
       "        vertical-align: middle;\n",
       "    }\n",
       "\n",
       "    .dataframe tbody tr th {\n",
       "        vertical-align: top;\n",
       "    }\n",
       "\n",
       "    .dataframe thead th {\n",
       "        text-align: right;\n",
       "    }\n",
       "</style>\n",
       "<table border=\"1\" class=\"dataframe\">\n",
       "  <thead>\n",
       "    <tr style=\"text-align: right;\">\n",
       "      <th></th>\n",
       "      <th>Liq_gcm3</th>\n",
       "      <th>Gas_gcm3</th>\n",
       "      <th>T_C</th>\n",
       "      <th>Sample_ID</th>\n",
       "    </tr>\n",
       "  </thead>\n",
       "  <tbody>\n",
       "    <tr>\n",
       "      <th>0</th>\n",
       "      <td>0.593279</td>\n",
       "      <td>0.345049</td>\n",
       "      <td>30</td>\n",
       "      <td>Test1</td>\n",
       "    </tr>\n",
       "    <tr>\n",
       "      <th>1</th>\n",
       "      <td>0.710506</td>\n",
       "      <td>0.242742</td>\n",
       "      <td>25</td>\n",
       "      <td>Test2</td>\n",
       "    </tr>\n",
       "    <tr>\n",
       "      <th>2</th>\n",
       "      <td>0.773388</td>\n",
       "      <td>0.194205</td>\n",
       "      <td>20</td>\n",
       "      <td>Test3</td>\n",
       "    </tr>\n",
       "    <tr>\n",
       "      <th>3</th>\n",
       "      <td>0.821206</td>\n",
       "      <td>0.160728</td>\n",
       "      <td>15</td>\n",
       "      <td>Test4</td>\n",
       "    </tr>\n",
       "    <tr>\n",
       "      <th>4</th>\n",
       "      <td>0.861120</td>\n",
       "      <td>0.135155</td>\n",
       "      <td>10</td>\n",
       "      <td>Test5</td>\n",
       "    </tr>\n",
       "    <tr>\n",
       "      <th>5</th>\n",
       "      <td>0.896029</td>\n",
       "      <td>0.114622</td>\n",
       "      <td>5</td>\n",
       "      <td>Test6</td>\n",
       "    </tr>\n",
       "    <tr>\n",
       "      <th>6</th>\n",
       "      <td>0.927432</td>\n",
       "      <td>0.097647</td>\n",
       "      <td>0</td>\n",
       "      <td>Test7</td>\n",
       "    </tr>\n",
       "    <tr>\n",
       "      <th>7</th>\n",
       "      <td>0.956209</td>\n",
       "      <td>0.083360</td>\n",
       "      <td>-5</td>\n",
       "      <td>Test8</td>\n",
       "    </tr>\n",
       "    <tr>\n",
       "      <th>8</th>\n",
       "      <td>0.982928</td>\n",
       "      <td>0.071186</td>\n",
       "      <td>-10</td>\n",
       "      <td>Test9</td>\n",
       "    </tr>\n",
       "    <tr>\n",
       "      <th>9</th>\n",
       "      <td>1.007982</td>\n",
       "      <td>0.060728</td>\n",
       "      <td>-15</td>\n",
       "      <td>Test10</td>\n",
       "    </tr>\n",
       "    <tr>\n",
       "      <th>10</th>\n",
       "      <td>1.031659</td>\n",
       "      <td>0.051698</td>\n",
       "      <td>-20</td>\n",
       "      <td>test11</td>\n",
       "    </tr>\n",
       "    <tr>\n",
       "      <th>11</th>\n",
       "      <td>1.054184</td>\n",
       "      <td>0.043879</td>\n",
       "      <td>-25</td>\n",
       "      <td>hector1</td>\n",
       "    </tr>\n",
       "    <tr>\n",
       "      <th>12</th>\n",
       "      <td>1.075732</td>\n",
       "      <td>0.037097</td>\n",
       "      <td>-30</td>\n",
       "      <td>hectro2</td>\n",
       "    </tr>\n",
       "    <tr>\n",
       "      <th>13</th>\n",
       "      <td>1.096442</td>\n",
       "      <td>0.031216</td>\n",
       "      <td>-35</td>\n",
       "      <td>hector3</td>\n",
       "    </tr>\n",
       "  </tbody>\n",
       "</table>\n",
       "</div>"
      ],
      "text/plain": [
       "    Liq_gcm3  Gas_gcm3  T_C Sample_ID\n",
       "0   0.593279  0.345049   30     Test1\n",
       "1   0.710506  0.242742   25     Test2\n",
       "2   0.773388  0.194205   20     Test3\n",
       "3   0.821206  0.160728   15     Test4\n",
       "4   0.861120  0.135155   10     Test5\n",
       "5   0.896029  0.114622    5     Test6\n",
       "6   0.927432  0.097647    0     Test7\n",
       "7   0.956209  0.083360   -5     Test8\n",
       "8   0.982928  0.071186  -10     Test9\n",
       "9   1.007982  0.060728  -15    Test10\n",
       "10  1.031659  0.051698  -20    test11\n",
       "11  1.054184  0.043879  -25   hector1\n",
       "12  1.075732  0.037097  -30   hectro2\n",
       "13  1.096442  0.031216  -35   hector3"
      ]
     },
     "execution_count": 5,
     "metadata": {},
     "output_type": "execute_result"
    }
   ],
   "source": [
    "pf.calculate_CO2_density_homog_T(T_C=df['T_c_Homog'], Sample_ID=df['Sample'])"
   ]
  },
  {
   "cell_type": "markdown",
   "id": "fd0c178d-f246-40a0-8c1b-a6133f7fa220",
   "metadata": {},
   "source": [
    "## Monte-Carlo simulations"
   ]
  },
  {
   "cell_type": "code",
   "execution_count": 6,
   "id": "cebca2d1-f36c-4f73-9eb9-653b8fb42b75",
   "metadata": {},
   "outputs": [
    {
     "name": "stdout",
     "output_type": "stream",
     "text": [
      "14\n"
     ]
    }
   ],
   "source": [
    "Av_outputs, All_outputs=pf.propagate_microthermometry_uncertainty(T_C=df['T_c_Homog'], \n",
    "        Sample_ID=df['Sample'],\n",
    "        error_T_C=0.3, N_dup=50, \n",
    "        error_dist_T_C='uniform', error_type_T_C='Abs', len_loop=1)"
   ]
  },
  {
   "cell_type": "code",
   "execution_count": 9,
   "id": "7482aea5-db16-42ba-a19d-c4957d5eebfe",
   "metadata": {},
   "outputs": [
    {
     "data": {
      "text/html": [
       "<div>\n",
       "<style scoped>\n",
       "    .dataframe tbody tr th:only-of-type {\n",
       "        vertical-align: middle;\n",
       "    }\n",
       "\n",
       "    .dataframe tbody tr th {\n",
       "        vertical-align: top;\n",
       "    }\n",
       "\n",
       "    .dataframe thead th {\n",
       "        text-align: right;\n",
       "    }\n",
       "</style>\n",
       "<table border=\"1\" class=\"dataframe\">\n",
       "  <thead>\n",
       "    <tr style=\"text-align: right;\">\n",
       "      <th></th>\n",
       "      <th>Sample_ID</th>\n",
       "      <th>Mean_density_Gas_gcm3</th>\n",
       "      <th>Std_density_Gas_gcm3</th>\n",
       "      <th>Mean_density_Liq_gcm3</th>\n",
       "      <th>Std_density_Liq_gcm3</th>\n",
       "      <th>error_T_C</th>\n",
       "    </tr>\n",
       "  </thead>\n",
       "  <tbody>\n",
       "    <tr>\n",
       "      <th>0</th>\n",
       "      <td>Test1</td>\n",
       "      <td>0.346435</td>\n",
       "      <td>0.007995</td>\n",
       "      <td>0.591951</td>\n",
       "      <td>0.008530</td>\n",
       "      <td>0.3</td>\n",
       "    </tr>\n",
       "    <tr>\n",
       "      <th>1</th>\n",
       "      <td>Test2</td>\n",
       "      <td>0.242510</td>\n",
       "      <td>0.002105</td>\n",
       "      <td>0.710780</td>\n",
       "      <td>0.002602</td>\n",
       "      <td>0.3</td>\n",
       "    </tr>\n",
       "    <tr>\n",
       "      <th>2</th>\n",
       "      <td>Test3</td>\n",
       "      <td>0.194615</td>\n",
       "      <td>0.001195</td>\n",
       "      <td>0.772825</td>\n",
       "      <td>0.001633</td>\n",
       "      <td>0.3</td>\n",
       "    </tr>\n",
       "    <tr>\n",
       "      <th>3</th>\n",
       "      <td>Test4</td>\n",
       "      <td>0.160896</td>\n",
       "      <td>0.001026</td>\n",
       "      <td>0.820961</td>\n",
       "      <td>0.001532</td>\n",
       "      <td>0.3</td>\n",
       "    </tr>\n",
       "    <tr>\n",
       "      <th>4</th>\n",
       "      <td>Test5</td>\n",
       "      <td>0.135221</td>\n",
       "      <td>0.000840</td>\n",
       "      <td>0.861014</td>\n",
       "      <td>0.001370</td>\n",
       "      <td>0.3</td>\n",
       "    </tr>\n",
       "  </tbody>\n",
       "</table>\n",
       "</div>"
      ],
      "text/plain": [
       "  Sample_ID  Mean_density_Gas_gcm3  Std_density_Gas_gcm3  \\\n",
       "0     Test1               0.346435              0.007995   \n",
       "1     Test2               0.242510              0.002105   \n",
       "2     Test3               0.194615              0.001195   \n",
       "3     Test4               0.160896              0.001026   \n",
       "4     Test5               0.135221              0.000840   \n",
       "\n",
       "   Mean_density_Liq_gcm3  Std_density_Liq_gcm3  error_T_C  \n",
       "0               0.591951              0.008530        0.3  \n",
       "1               0.710780              0.002602        0.3  \n",
       "2               0.772825              0.001633        0.3  \n",
       "3               0.820961              0.001532        0.3  \n",
       "4               0.861014              0.001370        0.3  "
      ]
     },
     "execution_count": 9,
     "metadata": {},
     "output_type": "execute_result"
    }
   ],
   "source": [
    "Av_outputs.head()"
   ]
  },
  {
   "cell_type": "code",
   "execution_count": 15,
   "id": "6c247684-76d3-4150-a359-46b073d6dc42",
   "metadata": {},
   "outputs": [
    {
     "data": {
      "text/plain": [
       "Text(0, 0.5, '% error, 0.3 C uncertainty')"
      ]
     },
     "execution_count": 15,
     "metadata": {},
     "output_type": "execute_result"
    },
    {
     "data": {
      "image/png": "[encoded data removed]",
      "text/plain": [
       "<Figure size 640x480 with 1 Axes>"
      ]
     },
     "metadata": {},
     "output_type": "display_data"
    }
   ],
   "source": [
    "plt.plot(Av_outputs['Mean_density_Liq_gcm3'], \n",
    "         100*Av_outputs['Std_density_Liq_gcm3']/Av_outputs['Mean_density_Liq_gcm3'],\n",
    "         'ok', label='liq')\n",
    "plt.plot(Av_outputs['Mean_density_Gas_gcm3'], \n",
    "         100*Av_outputs['Std_density_Gas_gcm3']/Av_outputs['Mean_density_Gas_gcm3'],\n",
    "         'or', label='gas')\n",
    "plt.legend()\n",
    "plt.xlabel('CO2 density g/cm3')\n",
    "plt.ylabel('% error, 0.3 C uncertainty')"
   ]
  },
  {
   "cell_type": "code",
   "execution_count": 16,
   "id": "9211ccd8-2632-48e5-8f30-5fc70b54aeb2",
   "metadata": {},
   "outputs": [
    {
     "data": {
      "text/plain": [
       "(array([12.,  1.,  0.,  0.,  0.,  0.,  0.,  0.,  0.,  1.]),\n",
       " array([0.05278771, 0.31683508, 0.58088245, 0.84492982, 1.10897719,\n",
       "        1.37302456, 1.63707193, 1.9011193 , 2.16516667, 2.42921404,\n",
       "        2.69326141]),\n",
       " <BarContainer object of 10 artists>)"
      ]
     },
     "execution_count": 16,
     "metadata": {},
     "output_type": "execute_result"
    },
    {
     "data": {
      "image/png": "[encoded data removed]",
      "text/plain": [
       "<Figure size 640x480 with 1 Axes>"
      ]
     },
     "metadata": {},
     "output_type": "display_data"
    }
   ],
   "source": [
    "plt.hist(100*Av_outputs['Std_density_Liq_gcm3']/Av_outputs['Mean_density_Liq_gcm3'])"
   ]
  },
  {
   "cell_type": "code",
   "execution_count": 17,
   "id": "784055ae-33d3-4514-ab30-9463bf5758cc",
   "metadata": {},
   "outputs": [
    {
     "ename": "NameError",
     "evalue": "name 'propagate_microthermometry_uncertainty' is not defined",
     "output_type": "error",
     "traceback": [
      "\u001b[1;31m---------------------------------------------------------------------------\u001b[0m",
      "\u001b[1;31mNameError\u001b[0m                                 Traceback (most recent call last)",
      "Input \u001b[1;32mIn [17]\u001b[0m, in \u001b[0;36m<cell line: 1>\u001b[1;34m()\u001b[0m\n\u001b[1;32m----> 1\u001b[0m T_MC\u001b[38;5;241m=\u001b[39m\u001b[43mpropagate_microthermometry_uncertainty\u001b[49m(T_C\u001b[38;5;241m=\u001b[39m\u001b[38;5;241m5\u001b[39m)\n\u001b[0;32m      2\u001b[0m plt\u001b[38;5;241m.\u001b[39mhist(T_MC)\n",
      "\u001b[1;31mNameError\u001b[0m: name 'propagate_microthermometry_uncertainty' is not defined"
     ]
    }
   ],
   "source": [
    "T_MC=propagate_microthermometry_uncertainty(T_C=5)\n",
    "plt.hist(T_MC)"
   ]
  },
  {
   "cell_type": "code",
   "execution_count": null,
   "id": "aab96547-adcd-4f9a-b40a-71e876f8291c",
   "metadata": {},
   "outputs": [],
   "source": []
  }
 ],
 "metadata": {
  "kernelspec": {
   "display_name": "Python 3 (ipykernel)",
   "language": "python",
   "name": "python3"
  },
  "language_info": {
   "codemirror_mode": {
    "name": "ipython",
    "version": 3
   },
   "file_extension": ".py",
   "mimetype": "text/x-python",
   "name": "python",
   "nbconvert_exporter": "python",
   "pygments_lexer": "ipython3",
   "version": "3.9.16"
  }
 },
 "nbformat": 4,
 "nbformat_minor": 5
}
