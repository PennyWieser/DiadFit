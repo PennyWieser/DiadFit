{
 "cells": [
  {
   "cell_type": "code",
   "execution_count": 1,
   "id": "93d687c2-86b6-4b12-b363-3b2cdb246871",
   "metadata": {},
   "outputs": [
    {
     "data": {
      "text/plain": [
       "'0.0.55'"
      ]
     },
     "execution_count": 1,
     "metadata": {},
     "output_type": "execute_result"
    }
   ],
   "source": [
    "import pandas as pd\n",
    "import numpy as np\n",
    "import matplotlib.pyplot as plt\n",
    "import DiadFit as pf\n",
    "pf.__version__"
   ]
  },
  {
   "cell_type": "code",
   "execution_count": 2,
   "id": "ff2ab06e-266c-4842-9035-b5eafcb856c6",
   "metadata": {},
   "outputs": [
    {
     "data": {
      "text/html": [
       "<div>\n",
       "<style scoped>\n",
       "    .dataframe tbody tr th:only-of-type {\n",
       "        vertical-align: middle;\n",
       "    }\n",
       "\n",
       "    .dataframe tbody tr th {\n",
       "        vertical-align: top;\n",
       "    }\n",
       "\n",
       "    .dataframe thead th {\n",
       "        text-align: right;\n",
       "    }\n",
       "</style>\n",
       "<table border=\"1\" class=\"dataframe\">\n",
       "  <thead>\n",
       "    <tr style=\"text-align: right;\">\n",
       "      <th></th>\n",
       "      <th>P_kbar</th>\n",
       "      <th>P_MPa</th>\n",
       "      <th>T_K</th>\n",
       "      <th>CO2_dens_gcm3</th>\n",
       "    </tr>\n",
       "  </thead>\n",
       "  <tbody>\n",
       "    <tr>\n",
       "      <th>0</th>\n",
       "      <td>0.91738</td>\n",
       "      <td>91.738012</td>\n",
       "      <td>1300</td>\n",
       "      <td>0.3</td>\n",
       "    </tr>\n",
       "  </tbody>\n",
       "</table>\n",
       "</div>"
      ],
      "text/plain": [
       "    P_kbar      P_MPa   T_K  CO2_dens_gcm3\n",
       "0  0.91738  91.738012  1300            0.3"
      ]
     },
     "execution_count": 2,
     "metadata": {},
     "output_type": "execute_result"
    }
   ],
   "source": [
    "P=pf.calculate_P_for_rho_T(CO2_dens_gcm3=0.3, T_K=1300, EOS='SW96')\n",
    "P"
   ]
  },
  {
   "cell_type": "code",
   "execution_count": 3,
   "id": "d8bf3c60-5f86-4877-97df-0b99a4f96177",
   "metadata": {},
   "outputs": [
    {
     "data": {
      "text/plain": [
       "0    1299.9999999999998\n",
       "dtype: object"
      ]
     },
     "execution_count": 3,
     "metadata": {},
     "output_type": "execute_result"
    }
   ],
   "source": [
    "pf.calculate_T_for_rho_P_SW96(CO2_dens_gcm3=0.3, P_kbar=P['P_kbar'])"
   ]
  },
  {
   "cell_type": "code",
   "execution_count": 4,
   "id": "ccd19be8-7876-43ef-ae62-0ba55e717d5e",
   "metadata": {},
   "outputs": [
    {
     "data": {
      "text/html": [
       "<div>\n",
       "<style scoped>\n",
       "    .dataframe tbody tr th:only-of-type {\n",
       "        vertical-align: middle;\n",
       "    }\n",
       "\n",
       "    .dataframe tbody tr th {\n",
       "        vertical-align: top;\n",
       "    }\n",
       "\n",
       "    .dataframe thead th {\n",
       "        text-align: right;\n",
       "    }\n",
       "</style>\n",
       "<table border=\"1\" class=\"dataframe\">\n",
       "  <thead>\n",
       "    <tr style=\"text-align: right;\">\n",
       "      <th></th>\n",
       "      <th>P_kbar</th>\n",
       "      <th>P_MPa</th>\n",
       "      <th>T_K</th>\n",
       "      <th>CO2_dens_gcm3</th>\n",
       "    </tr>\n",
       "  </thead>\n",
       "  <tbody>\n",
       "    <tr>\n",
       "      <th>0</th>\n",
       "      <td>0.925088</td>\n",
       "      <td>92.508824</td>\n",
       "      <td>1300</td>\n",
       "      <td>0.3</td>\n",
       "    </tr>\n",
       "  </tbody>\n",
       "</table>\n",
       "</div>"
      ],
      "text/plain": [
       "     P_kbar      P_MPa   T_K  CO2_dens_gcm3\n",
       "0  0.925088  92.508824  1300            0.3"
      ]
     },
     "execution_count": 4,
     "metadata": {},
     "output_type": "execute_result"
    }
   ],
   "source": [
    "P=pf.calculate_P_for_rho_T(CO2_dens_gcm3=0.3, T_K=1300, EOS='SP94')\n",
    "P"
   ]
  },
  {
   "cell_type": "code",
   "execution_count": 5,
   "id": "f8451852-845d-4ca8-99f9-e324629b41c2",
   "metadata": {},
   "outputs": [
    {
     "data": {
      "text/plain": [
       "0    1300.0\n",
       "dtype: float64"
      ]
     },
     "execution_count": 5,
     "metadata": {},
     "output_type": "execute_result"
    }
   ],
   "source": [
    "pf.calculate_T_for_rho_P_SP94(CO2_dens_gcm3=0.3, P_kbar=P['P_kbar'])"
   ]
  },
  {
   "cell_type": "code",
   "execution_count": 4,
   "id": "b1a849cf-204d-4e00-a18d-838a275afc7a",
   "metadata": {},
   "outputs": [
    {
     "data": {
      "text/plain": [
       "0    2000.0\n",
       "dtype: float64"
      ]
     },
     "execution_count": 4,
     "metadata": {},
     "output_type": "execute_result"
    }
   ],
   "source": [
    "pf.calculate_T_for_rho_P(CO2_dens_gcm3=0.2, P_kbar=5, EOS='SP94')"
   ]
  }
 ],
 "metadata": {
  "kernelspec": {
   "display_name": "Python 3 (ipykernel)",
   "language": "python",
   "name": "python3"
  },
  "language_info": {
   "codemirror_mode": {
    "name": "ipython",
    "version": 3
   },
   "file_extension": ".py",
   "mimetype": "text/x-python",
   "name": "python",
   "nbconvert_exporter": "python",
   "pygments_lexer": "ipython3",
   "version": "3.9.13"
  }
 },
 "nbformat": 4,
 "nbformat_minor": 5
}
