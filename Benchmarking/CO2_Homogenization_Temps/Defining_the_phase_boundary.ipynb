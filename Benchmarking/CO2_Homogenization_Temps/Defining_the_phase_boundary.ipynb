{
 "cells": [
  {
   "cell_type": "markdown",
   "id": "b63e54c5-4af7-4699-99c8-a0c770a5f4e3",
   "metadata": {},
   "source": [
    "# This notebook uses the NIST webbook to parameterize the L-V curve. \n",
    "- We fit a polynomial, so for any given homogenization T we can get the pressure, and if we know P and T we can get density"
   ]
  },
  {
   "cell_type": "code",
   "execution_count": 7,
   "id": "f9ae735b-4ff8-4ee4-bdd6-67f7b9f5c2e8",
   "metadata": {},
   "outputs": [],
   "source": [
    "import pandas as pd\n",
    "import numpy as np\n",
    "import matplotlib.pyplot as plt\n",
    "import DiadFit as pf"
   ]
  },
  {
   "cell_type": "code",
   "execution_count": 8,
   "id": "2b6057c9-aa40-41e5-a8d4-f501023292fb",
   "metadata": {},
   "outputs": [
    {
     "data": {
      "text/html": [
       "<div>\n",
       "<style scoped>\n",
       "    .dataframe tbody tr th:only-of-type {\n",
       "        vertical-align: middle;\n",
       "    }\n",
       "\n",
       "    .dataframe tbody tr th {\n",
       "        vertical-align: top;\n",
       "    }\n",
       "\n",
       "    .dataframe thead th {\n",
       "        text-align: right;\n",
       "    }\n",
       "</style>\n",
       "<table border=\"1\" class=\"dataframe\">\n",
       "  <thead>\n",
       "    <tr style=\"text-align: right;\">\n",
       "      <th></th>\n",
       "      <th>Temperature (C)</th>\n",
       "      <th>Pressure (MPa)</th>\n",
       "      <th>Quality (l+v)</th>\n",
       "      <th>Internal Energy (l+v, kJ/mol)</th>\n",
       "      <th>Enthalpy (l+v, kJ/mol)</th>\n",
       "      <th>Entropy (l+v, J/mol*K)</th>\n",
       "      <th>Density (l, g/ml)</th>\n",
       "      <th>Volume (l, ml/g)</th>\n",
       "      <th>Internal Energy (l, kJ/mol)</th>\n",
       "      <th>Enthalpy (l, kJ/mol)</th>\n",
       "      <th>...</th>\n",
       "      <th>Volume (v, ml/g)</th>\n",
       "      <th>Internal Energy (v, kJ/mol)</th>\n",
       "      <th>Enthalpy (v, kJ/mol)</th>\n",
       "      <th>Entropy (v, J/mol*K)</th>\n",
       "      <th>Cv (v, J/mol*K)</th>\n",
       "      <th>Cp (v, J/mol*K)</th>\n",
       "      <th>Sound Spd. (v, m/s)</th>\n",
       "      <th>Joule-Thomson (v, K/MPa)</th>\n",
       "      <th>Viscosity (v, uPa*s)</th>\n",
       "      <th>Therm. Cond. (v, W/m*K)</th>\n",
       "    </tr>\n",
       "  </thead>\n",
       "  <tbody>\n",
       "    <tr>\n",
       "      <th>0</th>\n",
       "      <td>-56.558</td>\n",
       "      <td>0.51796</td>\n",
       "      <td>0.017962</td>\n",
       "      <td>3.7506</td>\n",
       "      <td>3.7993</td>\n",
       "      <td>24.222</td>\n",
       "      <td>1.1785</td>\n",
       "      <td>0.84856</td>\n",
       "      <td>3.5030</td>\n",
       "      <td>3.5223</td>\n",
       "      <td>...</td>\n",
       "      <td>72.670</td>\n",
       "      <td>17.286</td>\n",
       "      <td>18.943</td>\n",
       "      <td>94.138</td>\n",
       "      <td>27.691</td>\n",
       "      <td>39.992</td>\n",
       "      <td>222.78</td>\n",
       "      <td>26.174</td>\n",
       "      <td>10.892</td>\n",
       "      <td>0.011116</td>\n",
       "    </tr>\n",
       "    <tr>\n",
       "      <th>1</th>\n",
       "      <td>-56.480</td>\n",
       "      <td>0.51971</td>\n",
       "      <td>0.018017</td>\n",
       "      <td>3.7579</td>\n",
       "      <td>3.8068</td>\n",
       "      <td>24.256</td>\n",
       "      <td>1.1782</td>\n",
       "      <td>0.84876</td>\n",
       "      <td>3.5096</td>\n",
       "      <td>3.5290</td>\n",
       "      <td>...</td>\n",
       "      <td>72.436</td>\n",
       "      <td>17.287</td>\n",
       "      <td>18.944</td>\n",
       "      <td>94.118</td>\n",
       "      <td>27.701</td>\n",
       "      <td>40.013</td>\n",
       "      <td>222.79</td>\n",
       "      <td>26.149</td>\n",
       "      <td>10.896</td>\n",
       "      <td>0.011123</td>\n",
       "    </tr>\n",
       "    <tr>\n",
       "      <th>2</th>\n",
       "      <td>-56.403</td>\n",
       "      <td>0.52147</td>\n",
       "      <td>0.018073</td>\n",
       "      <td>3.7652</td>\n",
       "      <td>3.8142</td>\n",
       "      <td>24.289</td>\n",
       "      <td>1.1779</td>\n",
       "      <td>0.84896</td>\n",
       "      <td>3.5162</td>\n",
       "      <td>3.5357</td>\n",
       "      <td>...</td>\n",
       "      <td>72.204</td>\n",
       "      <td>17.288</td>\n",
       "      <td>18.945</td>\n",
       "      <td>94.098</td>\n",
       "      <td>27.71</td>\n",
       "      <td>40.034</td>\n",
       "      <td>222.8</td>\n",
       "      <td>26.123</td>\n",
       "      <td>10.899</td>\n",
       "      <td>0.01113</td>\n",
       "    </tr>\n",
       "    <tr>\n",
       "      <th>3</th>\n",
       "      <td>-56.325</td>\n",
       "      <td>0.52323</td>\n",
       "      <td>0.018129</td>\n",
       "      <td>3.7724</td>\n",
       "      <td>3.8217</td>\n",
       "      <td>24.323</td>\n",
       "      <td>1.1776</td>\n",
       "      <td>0.84917</td>\n",
       "      <td>3.5229</td>\n",
       "      <td>3.5424</td>\n",
       "      <td>...</td>\n",
       "      <td>71.972</td>\n",
       "      <td>17.289</td>\n",
       "      <td>18.946</td>\n",
       "      <td>94.078</td>\n",
       "      <td>27.72</td>\n",
       "      <td>40.055</td>\n",
       "      <td>222.81</td>\n",
       "      <td>26.097</td>\n",
       "      <td>10.903</td>\n",
       "      <td>0.011137</td>\n",
       "    </tr>\n",
       "    <tr>\n",
       "      <th>4</th>\n",
       "      <td>-56.248</td>\n",
       "      <td>0.52499</td>\n",
       "      <td>0.018186</td>\n",
       "      <td>3.7797</td>\n",
       "      <td>3.8292</td>\n",
       "      <td>24.357</td>\n",
       "      <td>1.1773</td>\n",
       "      <td>0.84937</td>\n",
       "      <td>3.5295</td>\n",
       "      <td>3.5491</td>\n",
       "      <td>...</td>\n",
       "      <td>71.741</td>\n",
       "      <td>17.290</td>\n",
       "      <td>18.948</td>\n",
       "      <td>94.058</td>\n",
       "      <td>27.729</td>\n",
       "      <td>40.076</td>\n",
       "      <td>222.81</td>\n",
       "      <td>26.072</td>\n",
       "      <td>10.907</td>\n",
       "      <td>0.011144</td>\n",
       "    </tr>\n",
       "  </tbody>\n",
       "</table>\n",
       "<p>5 rows × 28 columns</p>\n",
       "</div>"
      ],
      "text/plain": [
       "   Temperature (C)  Pressure (MPa) Quality (l+v)  \\\n",
       "0          -56.558         0.51796      0.017962   \n",
       "1          -56.480         0.51971      0.018017   \n",
       "2          -56.403         0.52147      0.018073   \n",
       "3          -56.325         0.52323      0.018129   \n",
       "4          -56.248         0.52499      0.018186   \n",
       "\n",
       "   Internal Energy (l+v, kJ/mol)  Enthalpy (l+v, kJ/mol)  \\\n",
       "0                         3.7506                  3.7993   \n",
       "1                         3.7579                  3.8068   \n",
       "2                         3.7652                  3.8142   \n",
       "3                         3.7724                  3.8217   \n",
       "4                         3.7797                  3.8292   \n",
       "\n",
       "   Entropy (l+v, J/mol*K)  Density (l, g/ml)  Volume (l, ml/g)  \\\n",
       "0                  24.222             1.1785           0.84856   \n",
       "1                  24.256             1.1782           0.84876   \n",
       "2                  24.289             1.1779           0.84896   \n",
       "3                  24.323             1.1776           0.84917   \n",
       "4                  24.357             1.1773           0.84937   \n",
       "\n",
       "   Internal Energy (l, kJ/mol)  Enthalpy (l, kJ/mol)  ...  Volume (v, ml/g)  \\\n",
       "0                       3.5030                3.5223  ...            72.670   \n",
       "1                       3.5096                3.5290  ...            72.436   \n",
       "2                       3.5162                3.5357  ...            72.204   \n",
       "3                       3.5229                3.5424  ...            71.972   \n",
       "4                       3.5295                3.5491  ...            71.741   \n",
       "\n",
       "  Internal Energy (v, kJ/mol) Enthalpy (v, kJ/mol) Entropy (v, J/mol*K)  \\\n",
       "0                      17.286               18.943               94.138   \n",
       "1                      17.287               18.944               94.118   \n",
       "2                      17.288               18.945               94.098   \n",
       "3                      17.289               18.946               94.078   \n",
       "4                      17.290               18.948               94.058   \n",
       "\n",
       "  Cv (v, J/mol*K)  Cp (v, J/mol*K) Sound Spd. (v, m/s)  \\\n",
       "0          27.691           39.992              222.78   \n",
       "1          27.701           40.013              222.79   \n",
       "2           27.71           40.034               222.8   \n",
       "3           27.72           40.055              222.81   \n",
       "4          27.729           40.076              222.81   \n",
       "\n",
       "   Joule-Thomson (v, K/MPa)  Viscosity (v, uPa*s)  Therm. Cond. (v, W/m*K)  \n",
       "0                    26.174                10.892                 0.011116  \n",
       "1                    26.149                10.896                 0.011123  \n",
       "2                    26.123                10.899                  0.01113  \n",
       "3                    26.097                10.903                 0.011137  \n",
       "4                    26.072                10.907                 0.011144  \n",
       "\n",
       "[5 rows x 28 columns]"
      ]
     },
     "execution_count": 8,
     "metadata": {},
     "output_type": "execute_result"
    }
   ],
   "source": [
    "data=pd.read_excel('NistData_Critical.xlsx')\n",
    "data.head()"
   ]
  },
  {
   "cell_type": "markdown",
   "id": "c0565123-4ed2-443d-bdc4-ae6830fe3a32",
   "metadata": {},
   "source": [
    "## Checking our method matches the NIST webbook"
   ]
  },
  {
   "cell_type": "code",
   "execution_count": 9,
   "id": "16a312da-a15b-471c-9f34-6fa00bd064d0",
   "metadata": {},
   "outputs": [
    {
     "data": {
      "text/html": [
       "<div>\n",
       "<style scoped>\n",
       "    .dataframe tbody tr th:only-of-type {\n",
       "        vertical-align: middle;\n",
       "    }\n",
       "\n",
       "    .dataframe tbody tr th {\n",
       "        vertical-align: top;\n",
       "    }\n",
       "\n",
       "    .dataframe thead th {\n",
       "        text-align: right;\n",
       "    }\n",
       "</style>\n",
       "<table border=\"1\" class=\"dataframe\">\n",
       "  <thead>\n",
       "    <tr style=\"text-align: right;\">\n",
       "      <th></th>\n",
       "      <th>Bulk_gcm3</th>\n",
       "      <th>Liq_gcm3</th>\n",
       "      <th>Gas_gcm3</th>\n",
       "      <th>T_h_C</th>\n",
       "      <th>homog_to</th>\n",
       "    </tr>\n",
       "  </thead>\n",
       "  <tbody>\n",
       "    <tr>\n",
       "      <th>0</th>\n",
       "      <td>NaN</td>\n",
       "      <td>1.178525</td>\n",
       "      <td>0.013761</td>\n",
       "      <td>-56.558</td>\n",
       "      <td>no input</td>\n",
       "    </tr>\n",
       "    <tr>\n",
       "      <th>1</th>\n",
       "      <td>NaN</td>\n",
       "      <td>1.178246</td>\n",
       "      <td>0.013806</td>\n",
       "      <td>-56.480</td>\n",
       "      <td>no input</td>\n",
       "    </tr>\n",
       "    <tr>\n",
       "      <th>2</th>\n",
       "      <td>NaN</td>\n",
       "      <td>1.177970</td>\n",
       "      <td>0.013850</td>\n",
       "      <td>-56.403</td>\n",
       "      <td>no input</td>\n",
       "    </tr>\n",
       "    <tr>\n",
       "      <th>3</th>\n",
       "      <td>NaN</td>\n",
       "      <td>1.177690</td>\n",
       "      <td>0.013895</td>\n",
       "      <td>-56.325</td>\n",
       "      <td>no input</td>\n",
       "    </tr>\n",
       "    <tr>\n",
       "      <th>4</th>\n",
       "      <td>NaN</td>\n",
       "      <td>1.177414</td>\n",
       "      <td>0.013939</td>\n",
       "      <td>-56.248</td>\n",
       "      <td>no input</td>\n",
       "    </tr>\n",
       "    <tr>\n",
       "      <th>...</th>\n",
       "      <td>...</td>\n",
       "      <td>...</td>\n",
       "      <td>...</td>\n",
       "      <td>...</td>\n",
       "      <td>...</td>\n",
       "    </tr>\n",
       "    <tr>\n",
       "      <th>1196</th>\n",
       "      <td>NaN</td>\n",
       "      <td>NaN</td>\n",
       "      <td>NaN</td>\n",
       "      <td>32.713</td>\n",
       "      <td>no input</td>\n",
       "    </tr>\n",
       "    <tr>\n",
       "      <th>1197</th>\n",
       "      <td>NaN</td>\n",
       "      <td>NaN</td>\n",
       "      <td>NaN</td>\n",
       "      <td>32.785</td>\n",
       "      <td>no input</td>\n",
       "    </tr>\n",
       "    <tr>\n",
       "      <th>1198</th>\n",
       "      <td>NaN</td>\n",
       "      <td>NaN</td>\n",
       "      <td>NaN</td>\n",
       "      <td>32.857</td>\n",
       "      <td>no input</td>\n",
       "    </tr>\n",
       "    <tr>\n",
       "      <th>1199</th>\n",
       "      <td>NaN</td>\n",
       "      <td>NaN</td>\n",
       "      <td>NaN</td>\n",
       "      <td>32.928</td>\n",
       "      <td>no input</td>\n",
       "    </tr>\n",
       "    <tr>\n",
       "      <th>1200</th>\n",
       "      <td>NaN</td>\n",
       "      <td>NaN</td>\n",
       "      <td>NaN</td>\n",
       "      <td>33.000</td>\n",
       "      <td>no input</td>\n",
       "    </tr>\n",
       "  </tbody>\n",
       "</table>\n",
       "<p>1201 rows × 5 columns</p>\n",
       "</div>"
      ],
      "text/plain": [
       "      Bulk_gcm3  Liq_gcm3  Gas_gcm3   T_h_C  homog_to\n",
       "0           NaN  1.178525  0.013761 -56.558  no input\n",
       "1           NaN  1.178246  0.013806 -56.480  no input\n",
       "2           NaN  1.177970  0.013850 -56.403  no input\n",
       "3           NaN  1.177690  0.013895 -56.325  no input\n",
       "4           NaN  1.177414  0.013939 -56.248  no input\n",
       "...         ...       ...       ...     ...       ...\n",
       "1196        NaN       NaN       NaN  32.713  no input\n",
       "1197        NaN       NaN       NaN  32.785  no input\n",
       "1198        NaN       NaN       NaN  32.857  no input\n",
       "1199        NaN       NaN       NaN  32.928  no input\n",
       "1200        NaN       NaN       NaN  33.000  no input\n",
       "\n",
       "[1201 rows x 5 columns]"
      ]
     },
     "execution_count": 9,
     "metadata": {},
     "output_type": "execute_result"
    }
   ],
   "source": [
    "df_roomT_SW96=pf.calculate_CO2_density_homog_T_SW19962(T_h_C=data['Temperature (C)'])\n",
    "df_roomT_SW96"
   ]
  },
  {
   "cell_type": "code",
   "execution_count": 22,
   "id": "112a502d-a550-445b-9e58-59ec81b21bb8",
   "metadata": {},
   "outputs": [
    {
     "data": {
      "image/png": "[encoded data removed]",
      "text/plain": [
       "<Figure size 1000x500 with 2 Axes>"
      ]
     },
     "metadata": {},
     "output_type": "display_data"
    }
   ],
   "source": [
    "fig, (ax1, ax2) = plt.subplots(1, 2, figsize=(10,5))\n",
    "ax1.plot(df_roomT_SW96['T_h_C'],\n",
    "         df_roomT_SW96['Liq_gcm3']/data['Density (l, g/ml)'], '.r', label='Liq')\n",
    "ax1.plot(df_roomT_SW96['T_h_C'],\n",
    "         df_roomT_SW96['Gas_gcm3']/data['Density (v, g/ml)'], '.b', label='Gas')\n",
    "ax1.set_xlabel('Homog T')\n",
    "ax1.set_ylabel('% Diff (DiadFit/NIST webbook)')\n",
    "ax1.legend()\n",
    "ax2.plot(df_roomT_SW96['T_h_C'],\n",
    "         df_roomT_SW96['Liq_gcm3']-data['Density (l, g/ml)'], '.r', label='Liq')\n",
    "ax2.plot(df_roomT_SW96['T_h_C'],\n",
    "         df_roomT_SW96['Gas_gcm3']-data['Density (v, g/ml)'], '.b', label='Gas')\n",
    "ax2.set_xlabel('Homog T')\n",
    "ax2.set_ylabel('Abs Diff DiadFit-NIST webbook (g/cm3)')\n",
    "fig.tight_layout()\n",
    "         "
   ]
  },
  {
   "cell_type": "markdown",
   "id": "01364726-d8ac-46da-9b88-41a671052ac6",
   "metadata": {},
   "source": [
    "## Make the regression\n",
    "- lets use a cubic spline"
   ]
  },
  {
   "cell_type": "code",
   "execution_count": 6,
   "id": "51b84470-2a41-4eaa-98a4-dff0b3efda38",
   "metadata": {},
   "outputs": [
    {
     "ename": "NameError",
     "evalue": "name 'Py' is not defined",
     "output_type": "error",
     "traceback": [
      "\u001b[1;31m---------------------------------------------------------------------------\u001b[0m",
      "\u001b[1;31mNameError\u001b[0m                                 Traceback (most recent call last)",
      "\u001b[1;32m~\\AppData\\Local\\Temp\\ipykernel_26076\\1150340433.py\u001b[0m in \u001b[0;36m<module>\u001b[1;34m\u001b[0m\n\u001b[0;32m      6\u001b[0m \u001b[1;33m\u001b[0m\u001b[0m\n\u001b[0;32m      7\u001b[0m \u001b[0mplt\u001b[0m\u001b[1;33m.\u001b[0m\u001b[0mplot\u001b[0m\u001b[1;33m(\u001b[0m\u001b[0mdata\u001b[0m\u001b[1;33m[\u001b[0m\u001b[1;34m'Temperature (C)'\u001b[0m\u001b[1;33m]\u001b[0m\u001b[1;33m,\u001b[0m \u001b[0mdata\u001b[0m\u001b[1;33m[\u001b[0m\u001b[1;34m'Pressure (MPa)'\u001b[0m\u001b[1;33m]\u001b[0m\u001b[1;33m,\u001b[0m \u001b[1;34m'.r'\u001b[0m\u001b[1;33m)\u001b[0m\u001b[1;33m\u001b[0m\u001b[1;33m\u001b[0m\u001b[0m\n\u001b[1;32m----> 8\u001b[1;33m \u001b[0mplt\u001b[0m\u001b[1;33m.\u001b[0m\u001b[0mplot\u001b[0m\u001b[1;33m(\u001b[0m\u001b[0mdata\u001b[0m\u001b[1;33m[\u001b[0m\u001b[1;34m'Temperature (C)'\u001b[0m\u001b[1;33m]\u001b[0m\u001b[1;33m,\u001b[0m \u001b[0mPy\u001b[0m\u001b[1;33m,\u001b[0m \u001b[1;34m'.g'\u001b[0m\u001b[1;33m,\u001b[0m \u001b[0mms\u001b[0m\u001b[1;33m=\u001b[0m\u001b[1;36m1\u001b[0m\u001b[1;33m)\u001b[0m\u001b[1;33m\u001b[0m\u001b[1;33m\u001b[0m\u001b[0m\n\u001b[0m\u001b[0;32m      9\u001b[0m \u001b[0mplt\u001b[0m\u001b[1;33m.\u001b[0m\u001b[0mplot\u001b[0m\u001b[1;33m(\u001b[0m\u001b[0mdata\u001b[0m\u001b[1;33m[\u001b[0m\u001b[1;34m'Temperature (C)'\u001b[0m\u001b[1;33m]\u001b[0m\u001b[1;33m,\u001b[0m \u001b[0mnew_y\u001b[0m\u001b[1;33m,\u001b[0m \u001b[1;34m'.k'\u001b[0m\u001b[1;33m)\u001b[0m\u001b[1;33m\u001b[0m\u001b[1;33m\u001b[0m\u001b[0m\n\u001b[0;32m     10\u001b[0m \u001b[0mplt\u001b[0m\u001b[1;33m.\u001b[0m\u001b[0mxlim\u001b[0m\u001b[1;33m(\u001b[0m\u001b[1;33m[\u001b[0m\u001b[1;36m0\u001b[0m\u001b[1;33m,\u001b[0m \u001b[1;36m5\u001b[0m\u001b[1;33m]\u001b[0m\u001b[1;33m)\u001b[0m\u001b[1;33m\u001b[0m\u001b[1;33m\u001b[0m\u001b[0m\n",
      "\u001b[1;31mNameError\u001b[0m: name 'Py' is not defined"
     ]
    },
    {
     "data": {
      "image/png": "[encoded data removed]",
      "text/plain": [
       "<Figure size 640x480 with 1 Axes>"
      ]
     },
     "metadata": {},
     "output_type": "display_data"
    }
   ],
   "source": [
    "from scipy.interpolate import CubicSpline\n",
    "import pandas as pd\n",
    "spl=CubicSpline(data['Temperature (C)'], data['Pressure (MPa)'])\n",
    "new_y=spl(data['Temperature (C)'])\n",
    "\n",
    "\n",
    "plt.plot(data['Temperature (C)'], data['Pressure (MPa)'], '.r')\n",
    "plt.plot(data['Temperature (C)'], Py, '.g', ms=1)\n",
    "plt.plot(data['Temperature (C)'], new_y, '.k')\n",
    "plt.xlim([0, 5])\n",
    "plt.ylim([3, 4])"
   ]
  },
  {
   "cell_type": "code",
   "execution_count": 10,
   "id": "dc73f469-5bb5-45f5-918b-7eefd93f96f1",
   "metadata": {},
   "outputs": [],
   "source": [
    "import pickle\n",
    "with open('Phase_Boundary.pck', 'wb') as file_handle:\n",
    "    pickle.dump(spl, file_handle)"
   ]
  },
  {
   "cell_type": "code",
   "execution_count": 11,
   "id": "31c83e89-5e21-4b5a-a1f3-fd0c1b2d206c",
   "metadata": {},
   "outputs": [],
   "source": [
    "with open('Phase_Boundary.pck', 'rb') as file_handle:\n",
    "    my_loaded_model = pickle.load(file_handle)"
   ]
  },
  {
   "cell_type": "code",
   "execution_count": 13,
   "id": "ef3cd101-87cd-4eb8-acab-f6bfc8c0ca35",
   "metadata": {},
   "outputs": [
    {
     "data": {
      "text/html": [
       "<div>\n",
       "<style scoped>\n",
       "    .dataframe tbody tr th:only-of-type {\n",
       "        vertical-align: middle;\n",
       "    }\n",
       "\n",
       "    .dataframe tbody tr th {\n",
       "        vertical-align: top;\n",
       "    }\n",
       "\n",
       "    .dataframe thead th {\n",
       "        text-align: right;\n",
       "    }\n",
       "</style>\n",
       "<table border=\"1\" class=\"dataframe\">\n",
       "  <thead>\n",
       "    <tr style=\"text-align: right;\">\n",
       "      <th></th>\n",
       "      <th>Bulk_gcm3</th>\n",
       "      <th>Liq_gcm3</th>\n",
       "      <th>Gas_gcm3</th>\n",
       "      <th>T_h_C</th>\n",
       "      <th>homog_to</th>\n",
       "    </tr>\n",
       "  </thead>\n",
       "  <tbody>\n",
       "    <tr>\n",
       "      <th>0</th>\n",
       "      <td>NaN</td>\n",
       "      <td>1.178525</td>\n",
       "      <td>0.013761</td>\n",
       "      <td>-56.558</td>\n",
       "      <td>no input</td>\n",
       "    </tr>\n",
       "    <tr>\n",
       "      <th>1</th>\n",
       "      <td>NaN</td>\n",
       "      <td>1.178246</td>\n",
       "      <td>0.013806</td>\n",
       "      <td>-56.480</td>\n",
       "      <td>no input</td>\n",
       "    </tr>\n",
       "    <tr>\n",
       "      <th>2</th>\n",
       "      <td>NaN</td>\n",
       "      <td>1.177970</td>\n",
       "      <td>0.013850</td>\n",
       "      <td>-56.403</td>\n",
       "      <td>no input</td>\n",
       "    </tr>\n",
       "    <tr>\n",
       "      <th>3</th>\n",
       "      <td>NaN</td>\n",
       "      <td>1.177690</td>\n",
       "      <td>0.013895</td>\n",
       "      <td>-56.325</td>\n",
       "      <td>no input</td>\n",
       "    </tr>\n",
       "    <tr>\n",
       "      <th>4</th>\n",
       "      <td>NaN</td>\n",
       "      <td>1.177414</td>\n",
       "      <td>0.013939</td>\n",
       "      <td>-56.248</td>\n",
       "      <td>no input</td>\n",
       "    </tr>\n",
       "    <tr>\n",
       "      <th>...</th>\n",
       "      <td>...</td>\n",
       "      <td>...</td>\n",
       "      <td>...</td>\n",
       "      <td>...</td>\n",
       "      <td>...</td>\n",
       "    </tr>\n",
       "    <tr>\n",
       "      <th>1196</th>\n",
       "      <td>NaN</td>\n",
       "      <td>NaN</td>\n",
       "      <td>NaN</td>\n",
       "      <td>32.713</td>\n",
       "      <td>no input</td>\n",
       "    </tr>\n",
       "    <tr>\n",
       "      <th>1197</th>\n",
       "      <td>NaN</td>\n",
       "      <td>NaN</td>\n",
       "      <td>NaN</td>\n",
       "      <td>32.785</td>\n",
       "      <td>no input</td>\n",
       "    </tr>\n",
       "    <tr>\n",
       "      <th>1198</th>\n",
       "      <td>NaN</td>\n",
       "      <td>NaN</td>\n",
       "      <td>NaN</td>\n",
       "      <td>32.857</td>\n",
       "      <td>no input</td>\n",
       "    </tr>\n",
       "    <tr>\n",
       "      <th>1199</th>\n",
       "      <td>NaN</td>\n",
       "      <td>NaN</td>\n",
       "      <td>NaN</td>\n",
       "      <td>32.928</td>\n",
       "      <td>no input</td>\n",
       "    </tr>\n",
       "    <tr>\n",
       "      <th>1200</th>\n",
       "      <td>NaN</td>\n",
       "      <td>NaN</td>\n",
       "      <td>NaN</td>\n",
       "      <td>33.000</td>\n",
       "      <td>no input</td>\n",
       "    </tr>\n",
       "  </tbody>\n",
       "</table>\n",
       "<p>1201 rows × 5 columns</p>\n",
       "</div>"
      ],
      "text/plain": [
       "      Bulk_gcm3  Liq_gcm3  Gas_gcm3   T_h_C  homog_to\n",
       "0           NaN  1.178525  0.013761 -56.558  no input\n",
       "1           NaN  1.178246  0.013806 -56.480  no input\n",
       "2           NaN  1.177970  0.013850 -56.403  no input\n",
       "3           NaN  1.177690  0.013895 -56.325  no input\n",
       "4           NaN  1.177414  0.013939 -56.248  no input\n",
       "...         ...       ...       ...     ...       ...\n",
       "1196        NaN       NaN       NaN  32.713  no input\n",
       "1197        NaN       NaN       NaN  32.785  no input\n",
       "1198        NaN       NaN       NaN  32.857  no input\n",
       "1199        NaN       NaN       NaN  32.928  no input\n",
       "1200        NaN       NaN       NaN  33.000  no input\n",
       "\n",
       "[1201 rows x 5 columns]"
      ]
     },
     "execution_count": 13,
     "metadata": {},
     "output_type": "execute_result"
    }
   ],
   "source": [
    "df_roomT_SP94=pf.calculate_CO2_density_homog_T_SP1994(T_h_C=data['Temperature (C)'])\n",
    "df_roomT_SP94"
   ]
  },
  {
   "cell_type": "markdown",
   "id": "4bc839e7-1811-4789-b3ba-00ce5c95b06e",
   "metadata": {},
   "source": [
    "## How big are the discrepencies"
   ]
  },
  {
   "cell_type": "code",
   "execution_count": 30,
   "id": "29a362b1-5ff5-45fd-a1cf-86768fba59fa",
   "metadata": {},
   "outputs": [
    {
     "data": {
      "text/plain": [
       "Text(0.5, 0, 'Temp (C)')"
      ]
     },
     "execution_count": 30,
     "metadata": {},
     "output_type": "execute_result"
    },
    {
     "data": {
      "image/png": "[encoded data removed]",
      "text/plain": [
       "<Figure size 640x480 with 1 Axes>"
      ]
     },
     "metadata": {},
     "output_type": "display_data"
    }
   ],
   "source": [
    "## Lets calculate it using our new function from eq 3.14 and 3.15\n",
    "\n",
    "df_roomT_SP94=pf.calculate_CO2_density_homog_T_SP1994(T_h_C=data['Temperature (C)'])\n",
    "\n",
    "\n",
    "plt.plot(\n",
    "         data['Temperature (C)'], \n",
    "    Py-data['Pressure (MPa)'], \n",
    "         '.b')\n",
    "plt.plot(\n",
    "         data['Temperature (C)'], \n",
    "    new_y-data['Pressure (MPa)'], \n",
    "         '.r')\n",
    "plt.ylabel('Fitted P - real P')\n",
    "plt.xlabel('Temp (C)')"
   ]
  },
  {
   "cell_type": "code",
   "execution_count": null,
   "id": "4f586e7c-5d8a-47f8-8b55-ebab7a94b62a",
   "metadata": {},
   "outputs": [],
   "source": [
    "plt.plot("
   ]
  },
  {
   "cell_type": "code",
   "execution_count": 31,
   "id": "8211c7eb-1359-456b-8810-97f7ccbb61e9",
   "metadata": {},
   "outputs": [],
   "source": [
    "import CoolProp.CoolProp as cp\n",
    "def calculate_density_homog_T(T_C):\n",
    "    P_MPa=my_loaded_model(T_C)\n",
    "    # Need to check if its greater than PCrit\n",
    "    PCrit=7.3773\n",
    "    TCrit=30.9782\n",
    "    \n",
    "    print('T='+str(T_C))\n",
    "    print('P='+str(P_MPa))\n",
    "    P_Pa=P_MPa*10**6\n",
    "    T_K=T_C+273.15\n",
    "    Phase=cp.PhaseSI('P', P_Pa, 'T', T_K,'CO2')\n",
    "    print('Phase coolprop says='+str(Phase))\n",
    "\n",
    "    if P_MPa<PCrit and T_C<TCrit:\n",
    "        Density_kgm3=cp.PropsSI('D', 'P|liquid', P_Pa, 'T', T_K, 'CO2')\n",
    " \n",
    "    if P_MPa>PCrit and T_C<TCrit:\n",
    "        Density_kgm3=cp.PropsSI('D', 'P|supercritical_liquid', P_Pa, 'T', T_K, 'CO2')\n",
    "    if P_MPa<PCrit and T_C>=TCrit:\n",
    "        Density_kgm3=cp.PropsSI('D', 'P|supercritical_gas', P_Pa, 'T', T_K, 'CO2')\n",
    "    if P_MPa>PCrit and T_C>TCrit:\n",
    "        Density_kgm3=cp.PropsSI('D', 'P|supercritical', P_Pa, 'T', T_K, 'CO2')\n",
    "        \n",
    "    Density_gcm3=Density_kgm3/1000\n",
    "    \n",
    "    return Density_gcm3\n",
    "    "
   ]
  },
  {
   "cell_type": "code",
   "execution_count": 32,
   "id": "22e05731-527f-4905-8aa3-fc1b2e7bfd94",
   "metadata": {},
   "outputs": [],
   "source": [
    "def loop_density_homog_T(T_C):\n",
    "    Density=np.empty(len(T_C), dtype=float)\n",
    "    if isinstance(T_C, pd.Series):\n",
    "        T_C_np=np.array(T_C)\n",
    "    for i in range(0, len(T_C)):\n",
    "        Density[i]=calculate_density_homog_T(T_C[i])\n",
    "    return Density\n",
    "        "
   ]
  },
  {
   "cell_type": "code",
   "execution_count": 33,
   "id": "4fa5eb47-e84a-42cf-89de-df152c1eac91",
   "metadata": {},
   "outputs": [
    {
     "name": "stdout",
     "output_type": "stream",
     "text": [
      "T=27.8\n",
      "P=6.8605136050217865\n",
      "Phase coolprop says=liquid\n"
     ]
    },
    {
     "data": {
      "text/plain": [
       "0.6598213829902363"
      ]
     },
     "execution_count": 33,
     "metadata": {},
     "output_type": "execute_result"
    }
   ],
   "source": [
    "calculate_density_homog_T(T_C=27.8)"
   ]
  },
  {
   "cell_type": "code",
   "execution_count": 22,
   "id": "7838744f-30f4-47ba-8b59-09394751fdec",
   "metadata": {},
   "outputs": [
    {
     "data": {
      "text/plain": [
       "0.9545454545454545"
      ]
     },
     "execution_count": 22,
     "metadata": {},
     "output_type": "execute_result"
    }
   ],
   "source": [
    "0.63/0.66"
   ]
  },
  {
   "cell_type": "code",
   "execution_count": 34,
   "id": "1f2cff5c-8007-48fc-a51e-01ae6e32ee55",
   "metadata": {},
   "outputs": [
    {
     "name": "stdout",
     "output_type": "stream",
     "text": [
      "T=-5.6\n",
      "P=2.996023533572825\n",
      "Phase coolprop says=gas\n"
     ]
    },
    {
     "data": {
      "text/plain": [
       "0.9595149936973022"
      ]
     },
     "execution_count": 34,
     "metadata": {},
     "output_type": "execute_result"
    }
   ],
   "source": [
    "calculate_density_homog_T(T_C=-5.6)"
   ]
  },
  {
   "cell_type": "code",
   "execution_count": 23,
   "id": "e7bb7450-09a0-45f6-9aaf-a8bce6515923",
   "metadata": {},
   "outputs": [
    {
     "data": {
      "text/plain": [
       "1.0330534022394489"
      ]
     },
     "execution_count": 23,
     "metadata": {},
     "output_type": "execute_result"
    }
   ],
   "source": [
    "0.9595/0.9288"
   ]
  },
  {
   "attachments": {
    "df6ee1d2-9c36-4448-9565-e1869c04057b.png": {
     "image/png": "[encoded data removed]"
    }
   },
   "cell_type": "markdown",
   "id": "84aea356-bdc7-4f11-b17f-798e6cf7d46c",
   "metadata": {},
   "source": [
    "## Hectors was -5.6\n",
    "![image.png](attachment:df6ee1d2-9c36-4448-9565-e1869c04057b.png)!"
   ]
  },
  {
   "cell_type": "code",
   "execution_count": 6,
   "id": "de6005d5-5374-403b-bf08-fee2d582ed6b",
   "metadata": {},
   "outputs": [
    {
     "ename": "NameError",
     "evalue": "name 'Pf_H' is not defined",
     "output_type": "error",
     "traceback": [
      "\u001b[1;31m---------------------------------------------------------------------------\u001b[0m",
      "\u001b[1;31mNameError\u001b[0m                                 Traceback (most recent call last)",
      "Input \u001b[1;32mIn [12]\u001b[0m, in \u001b[0;36m<cell line: 2>\u001b[1;34m()\u001b[0m\n\u001b[0;32m      1\u001b[0m \u001b[38;5;28;01mimport\u001b[39;00m \u001b[38;5;21;01mCoolProp\u001b[39;00m\u001b[38;5;21;01m.\u001b[39;00m\u001b[38;5;21;01mCoolProp\u001b[39;00m \u001b[38;5;28;01mas\u001b[39;00m \u001b[38;5;21;01mcp\u001b[39;00m\n\u001b[1;32m----> 2\u001b[0m Pressure_Pa\u001b[38;5;241m=\u001b[39m\u001b[43mPf_H\u001b[49m\u001b[38;5;241m/\u001b[39m\u001b[38;5;241m10\u001b[39m\u001b[38;5;241m*\u001b[39m\u001b[38;5;241m*\u001b[39m\u001b[38;5;241m6\u001b[39m\n\u001b[0;32m      3\u001b[0m Temp_K\u001b[38;5;241m=\u001b[39m\u001b[38;5;241m273.15\u001b[39m\u001b[38;5;241m-\u001b[39m\u001b[38;5;241m5.6\u001b[39m     \n\u001b[0;32m      4\u001b[0m Density_kgm3\u001b[38;5;241m=\u001b[39mcp\u001b[38;5;241m.\u001b[39mPropsSI(\u001b[38;5;124m'\u001b[39m\u001b[38;5;124mD\u001b[39m\u001b[38;5;124m'\u001b[39m, \u001b[38;5;124m'\u001b[39m\u001b[38;5;124mP\u001b[39m\u001b[38;5;124m'\u001b[39m, Pressure_Pa, \u001b[38;5;124m'\u001b[39m\u001b[38;5;124mT\u001b[39m\u001b[38;5;124m'\u001b[39m, Temp_K, \u001b[38;5;124m'\u001b[39m\u001b[38;5;124mCO2\u001b[39m\u001b[38;5;124m'\u001b[39m)\n",
      "\u001b[1;31mNameError\u001b[0m: name 'Pf_H' is not defined"
     ]
    }
   ],
   "source": [
    "#0.63-0.64g/cm3\n",
    "import CoolProp.CoolProp as cp\n",
    "Pressure_Pa=Pf_H/10**6\n",
    "Temp_K=273.15-5.6     \n",
    "Density_kgm3=cp.PropsSI('D', 'P|liquid', Pressure_Pa, 'T', Temp_K, 'CO2')\n",
    "Density_gcm3=Density_kgm3/1000\n",
    "Density_gcm3"
   ]
  },
  {
   "cell_type": "code",
   "execution_count": 10,
   "id": "4406a293-8a63-4b54-918a-37b29e835dda",
   "metadata": {},
   "outputs": [
    {
     "data": {
      "text/plain": [
       "6.86306116880602"
      ]
     },
     "execution_count": 10,
     "metadata": {},
     "output_type": "execute_result"
    }
   ],
   "source": [
    "x_C=27.8\n",
    "Pf_C=Pf(x_C)\n",
    "Pf_C"
   ]
  },
  {
   "cell_type": "code",
   "execution_count": 11,
   "id": "86e59ced-2b4d-4029-b301-69da81a22076",
   "metadata": {},
   "outputs": [
    {
     "ename": "ValueError",
     "evalue": "Inputs in Brent [13491.667283,19487.963853] do not bracket the root.  Function values are [986285673400.996094,2148014658538.309570] : PropsSI(\"D\",\"P|liquid\",6.863061169e-06,\"T\",300.95,\"CO2\")",
     "output_type": "error",
     "traceback": [
      "\u001b[1;31m---------------------------------------------------------------------------\u001b[0m",
      "\u001b[1;31mValueError\u001b[0m                                Traceback (most recent call last)",
      "Input \u001b[1;32mIn [11]\u001b[0m, in \u001b[0;36m<cell line: 3>\u001b[1;34m()\u001b[0m\n\u001b[0;32m      1\u001b[0m Pressure_Pa\u001b[38;5;241m=\u001b[39mPf_C\u001b[38;5;241m/\u001b[39m\u001b[38;5;241m10\u001b[39m\u001b[38;5;241m*\u001b[39m\u001b[38;5;241m*\u001b[39m\u001b[38;5;241m6\u001b[39m\n\u001b[0;32m      2\u001b[0m Temp_K\u001b[38;5;241m=\u001b[39m\u001b[38;5;241m273.15\u001b[39m\u001b[38;5;241m+\u001b[39mx_C   \n\u001b[1;32m----> 3\u001b[0m Density_kgm3\u001b[38;5;241m=\u001b[39m\u001b[43mcp\u001b[49m\u001b[38;5;241;43m.\u001b[39;49m\u001b[43mPropsSI\u001b[49m\u001b[43m(\u001b[49m\u001b[38;5;124;43m'\u001b[39;49m\u001b[38;5;124;43mD\u001b[39;49m\u001b[38;5;124;43m'\u001b[39;49m\u001b[43m,\u001b[49m\u001b[43m \u001b[49m\u001b[38;5;124;43m'\u001b[39;49m\u001b[38;5;124;43mP|liquid\u001b[39;49m\u001b[38;5;124;43m'\u001b[39;49m\u001b[43m,\u001b[49m\u001b[43m \u001b[49m\u001b[43mPressure_Pa\u001b[49m\u001b[43m,\u001b[49m\u001b[43m \u001b[49m\u001b[38;5;124;43m'\u001b[39;49m\u001b[38;5;124;43mT\u001b[39;49m\u001b[38;5;124;43m'\u001b[39;49m\u001b[43m,\u001b[49m\u001b[43m \u001b[49m\u001b[43mTemp_K\u001b[49m\u001b[43m,\u001b[49m\u001b[43m \u001b[49m\u001b[38;5;124;43m'\u001b[39;49m\u001b[38;5;124;43mCO2\u001b[39;49m\u001b[38;5;124;43m'\u001b[39;49m\u001b[43m)\u001b[49m\n\u001b[0;32m      4\u001b[0m Density_gcm3\u001b[38;5;241m=\u001b[39mDensity_kgm3\u001b[38;5;241m/\u001b[39m\u001b[38;5;241m1000\u001b[39m\n\u001b[0;32m      5\u001b[0m Density_gcm3\n",
      "File \u001b[1;32mCoolProp\\CoolProp.pyx:377\u001b[0m, in \u001b[0;36mCoolProp.CoolProp.PropsSI\u001b[1;34m()\u001b[0m\n",
      "File \u001b[1;32mCoolProp\\CoolProp.pyx:457\u001b[0m, in \u001b[0;36mCoolProp.CoolProp.PropsSI\u001b[1;34m()\u001b[0m\n",
      "File \u001b[1;32mCoolProp\\CoolProp.pyx:344\u001b[0m, in \u001b[0;36mCoolProp.CoolProp.__Props_err2\u001b[1;34m()\u001b[0m\n",
      "\u001b[1;31mValueError\u001b[0m: Inputs in Brent [13491.667283,19487.963853] do not bracket the root.  Function values are [986285673400.996094,2148014658538.309570] : PropsSI(\"D\",\"P|liquid\",6.863061169e-06,\"T\",300.95,\"CO2\")"
     ]
    }
   ],
   "source": [
    "Pressure_Pa=Pf_C/10**6\n",
    "Temp_K=273.15+x_C   \n",
    "Density_kgm3=cp.PropsSI('D', 'P|liquid', Pressure_Pa, 'T', Temp_K, 'CO2')\n",
    "Density_gcm3=Density_kgm3/1000\n",
    "Density_gcm3"
   ]
  },
  {
   "cell_type": "code",
   "execution_count": 27,
   "id": "b2312f75-685c-4110-95c8-b6f2c6f57faf",
   "metadata": {},
   "outputs": [
    {
     "data": {
      "text/plain": [
       "0.8824365439750246"
      ]
     },
     "execution_count": 27,
     "metadata": {},
     "output_type": "execute_result"
    }
   ],
   "source": [
    "import CoolProp.CoolProp as cp\n",
    "Pressure_Pa=Pf_H/10**6\n",
    "Temp_K=273.15+0\n",
    "Density_kgm3=cp.PropsSI('D', 'P|liquid', Pressure_Pa, 'T', Temp_K, 'CO2')\n",
    "Density_gcm3=Density_kgm3/1000\n",
    "Density_gcm3"
   ]
  },
  {
   "cell_type": "code",
   "execution_count": 20,
   "id": "031e44af-a6d1-41be-86db-51cc3c8ab6d6",
   "metadata": {},
   "outputs": [
    {
     "data": {
      "text/plain": [
       "5.925500270286429e-11"
      ]
     },
     "execution_count": 20,
     "metadata": {},
     "output_type": "execute_result"
    }
   ],
   "source": [
    "Density"
   ]
  },
  {
   "cell_type": "code",
   "execution_count": null,
   "id": "b6d16f4a-3aec-4948-904e-740123aab99d",
   "metadata": {},
   "outputs": [],
   "source": [
    "Pressure=cp.PropsSI('P', 'D', 0.65*1000  , 'T', Temp_K, 'CO2')"
   ]
  }
 ],
 "metadata": {
  "kernelspec": {
   "display_name": "Python 3 (ipykernel)",
   "language": "python",
   "name": "python3"
  },
  "language_info": {
   "codemirror_mode": {
    "name": "ipython",
    "version": 3
   },
   "file_extension": ".py",
   "mimetype": "text/x-python",
   "name": "python",
   "nbconvert_exporter": "python",
   "pygments_lexer": "ipython3",
   "version": "3.9.16"
  }
 },
 "nbformat": 4,
 "nbformat_minor": 5
}
