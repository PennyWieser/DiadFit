{
 "cells": [
  {
   "cell_type": "code",
   "execution_count": 4,
   "metadata": {},
   "outputs": [],
   "source": [
    "import DiadFit as pf\n",
    "import numpy as np\n",
    "import pandas as pd\n",
    "import matplotlib.pyplot as plt"
   ]
  },
  {
   "cell_type": "markdown",
   "metadata": {},
   "source": [
    "## Load in data from the C code to check"
   ]
  },
  {
   "cell_type": "code",
   "execution_count": 9,
   "metadata": {},
   "outputs": [
    {
     "data": {
      "text/html": [
       "<div>\n",
       "<style scoped>\n",
       "    .dataframe tbody tr th:only-of-type {\n",
       "        vertical-align: middle;\n",
       "    }\n",
       "\n",
       "    .dataframe tbody tr th {\n",
       "        vertical-align: top;\n",
       "    }\n",
       "\n",
       "    .dataframe thead th {\n",
       "        text-align: right;\n",
       "    }\n",
       "</style>\n",
       "<table border=\"1\" class=\"dataframe\">\n",
       "  <thead>\n",
       "    <tr style=\"text-align: right;\">\n",
       "      <th></th>\n",
       "      <th>P (bar)</th>\n",
       "      <th>T (K)</th>\n",
       "      <th>yCO2</th>\n",
       "      <th>Vm (cm3/mol)</th>\n",
       "      <th>Z</th>\n",
       "      <th>fH2O (kbar)</th>\n",
       "      <th>fCO2 (kbar)</th>\n",
       "      <th>aH2O</th>\n",
       "      <th>aCO2</th>\n",
       "    </tr>\n",
       "  </thead>\n",
       "  <tbody>\n",
       "    <tr>\n",
       "      <th>0</th>\n",
       "      <td>500</td>\n",
       "      <td>1200</td>\n",
       "      <td>1.0</td>\n",
       "      <td>225.230282</td>\n",
       "      <td>1.128707</td>\n",
       "      <td>0.000000</td>\n",
       "      <td>0.564603</td>\n",
       "      <td>0.000000</td>\n",
       "      <td>1.000000</td>\n",
       "    </tr>\n",
       "    <tr>\n",
       "      <th>1</th>\n",
       "      <td>500</td>\n",
       "      <td>1200</td>\n",
       "      <td>0.9</td>\n",
       "      <td>222.051424</td>\n",
       "      <td>1.112776</td>\n",
       "      <td>0.046820</td>\n",
       "      <td>0.508090</td>\n",
       "      <td>0.098150</td>\n",
       "      <td>0.899907</td>\n",
       "    </tr>\n",
       "    <tr>\n",
       "      <th>2</th>\n",
       "      <td>500</td>\n",
       "      <td>1200</td>\n",
       "      <td>0.8</td>\n",
       "      <td>218.772703</td>\n",
       "      <td>1.096346</td>\n",
       "      <td>0.093845</td>\n",
       "      <td>0.451459</td>\n",
       "      <td>0.196730</td>\n",
       "      <td>0.799603</td>\n",
       "    </tr>\n",
       "    <tr>\n",
       "      <th>3</th>\n",
       "      <td>500</td>\n",
       "      <td>1200</td>\n",
       "      <td>0.7</td>\n",
       "      <td>215.407313</td>\n",
       "      <td>1.079480</td>\n",
       "      <td>0.141110</td>\n",
       "      <td>0.394703</td>\n",
       "      <td>0.295814</td>\n",
       "      <td>0.699080</td>\n",
       "    </tr>\n",
       "    <tr>\n",
       "      <th>4</th>\n",
       "      <td>500</td>\n",
       "      <td>1200</td>\n",
       "      <td>0.6</td>\n",
       "      <td>211.970560</td>\n",
       "      <td>1.062258</td>\n",
       "      <td>0.188635</td>\n",
       "      <td>0.337842</td>\n",
       "      <td>0.395442</td>\n",
       "      <td>0.598370</td>\n",
       "    </tr>\n",
       "  </tbody>\n",
       "</table>\n",
       "</div>"
      ],
      "text/plain": [
       "   P (bar)  T (K)  yCO2  Vm (cm3/mol)         Z  fH2O (kbar)  fCO2 (kbar)  \\\n",
       "0      500   1200   1.0    225.230282  1.128707     0.000000     0.564603   \n",
       "1      500   1200   0.9    222.051424  1.112776     0.046820     0.508090   \n",
       "2      500   1200   0.8    218.772703  1.096346     0.093845     0.451459   \n",
       "3      500   1200   0.7    215.407313  1.079480     0.141110     0.394703   \n",
       "4      500   1200   0.6    211.970560  1.062258     0.188635     0.337842   \n",
       "\n",
       "       aH2O      aCO2  \n",
       "0  0.000000  1.000000  \n",
       "1  0.098150  0.899907  \n",
       "2  0.196730  0.799603  \n",
       "3  0.295814  0.699080  \n",
       "4  0.395442  0.598370  "
      ]
     },
     "execution_count": 9,
     "metadata": {},
     "output_type": "execute_result"
    }
   ],
   "source": [
    "df_C=pd.read_excel('Duan_Zhang_2006_C_Code.xlsx', sheet_name='Sheet1')\n",
    "df_C.head()"
   ]
  },
  {
   "cell_type": "markdown",
   "metadata": {},
   "source": [
    "### 1. Checking molar volumes for various pressures and XH2O"
   ]
  },
  {
   "cell_type": "code",
   "execution_count": 11,
   "metadata": {},
   "outputs": [
    {
     "data": {
      "text/plain": [
       "Text(0, 0.5, 'residual (Molar Volume C - DiadFit) ')"
      ]
     },
     "execution_count": 11,
     "metadata": {},
     "output_type": "execute_result"
    },
    {
     "data": {
      "image/png": "[encoded data removed]",
      "text/plain": [
       "<Figure size 800x400 with 2 Axes>"
      ]
     },
     "metadata": {},
     "output_type": "display_data"
    }
   ],
   "source": [
    "diadf_mol_vols=pf.calculate_molar_volume_DZ2006(P_kbar=df_C['P (bar)']/1000, T_K=df_C['T (K)'], XH2O=1-df_C['yCO2'])\n",
    "fig, (ax1, ax2) = plt.subplots(1, 2, figsize=(8,4))\n",
    "plt.suptitle('Comparing molar volumes')\n",
    "ax1.plot(df_C['Vm (cm3/mol)'], diadf_mol_vols, '.k')\n",
    "ax1.plot([0, 200], [0, 200], '-r')\n",
    "ax2.plot(df_C['Vm (cm3/mol)'], df_C['Vm (cm3/mol)']-diadf_mol_vols, '.r')\n",
    "ax1.set_xlabel('Molar Volume C Code')\n",
    "ax1.set_ylabel('Molar Volume (DiadFit)')\n",
    "ax2.set_xlabel('Molar Volume C Code')\n",
    "ax2.set_ylabel('residual (Molar Volume C - DiadFit) ')\n",
    " "
   ]
  },
  {
   "cell_type": "code",
   "execution_count": 16,
   "metadata": {},
   "outputs": [
    {
     "data": {
      "text/html": [
       "<div>\n",
       "<style scoped>\n",
       "    .dataframe tbody tr th:only-of-type {\n",
       "        vertical-align: middle;\n",
       "    }\n",
       "\n",
       "    .dataframe tbody tr th {\n",
       "        vertical-align: top;\n",
       "    }\n",
       "\n",
       "    .dataframe thead th {\n",
       "        text-align: right;\n",
       "    }\n",
       "</style>\n",
       "<table border=\"1\" class=\"dataframe\">\n",
       "  <thead>\n",
       "    <tr style=\"text-align: right;\">\n",
       "      <th></th>\n",
       "      <th>Density (g/cm3)</th>\n",
       "      <th>P @ 1150°C (MPa)</th>\n",
       "      <th>P calculated</th>\n",
       "    </tr>\n",
       "  </thead>\n",
       "  <tbody>\n",
       "    <tr>\n",
       "      <th>0</th>\n",
       "      <td>0.10</td>\n",
       "      <td>30.75</td>\n",
       "      <td>28.994450</td>\n",
       "    </tr>\n",
       "    <tr>\n",
       "      <th>1</th>\n",
       "      <td>0.15</td>\n",
       "      <td>47.90</td>\n",
       "      <td>48.308706</td>\n",
       "    </tr>\n",
       "    <tr>\n",
       "      <th>2</th>\n",
       "      <td>0.20</td>\n",
       "      <td>66.90</td>\n",
       "      <td>68.201600</td>\n",
       "    </tr>\n",
       "    <tr>\n",
       "      <th>3</th>\n",
       "      <td>0.25</td>\n",
       "      <td>87.85</td>\n",
       "      <td>89.252094</td>\n",
       "    </tr>\n",
       "    <tr>\n",
       "      <th>4</th>\n",
       "      <td>0.30</td>\n",
       "      <td>110.70</td>\n",
       "      <td>112.039150</td>\n",
       "    </tr>\n",
       "  </tbody>\n",
       "</table>\n",
       "</div>"
      ],
      "text/plain": [
       "   Density (g/cm3)  P @ 1150°C (MPa)  P calculated\n",
       "0             0.10             30.75     28.994450\n",
       "1             0.15             47.90     48.308706\n",
       "2             0.20             66.90     68.201600\n",
       "3             0.25             87.85     89.252094\n",
       "4             0.30            110.70    112.039150"
      ]
     },
     "execution_count": 16,
     "metadata": {},
     "output_type": "execute_result"
    }
   ],
   "source": [
    "## Load in data provided by Klugel\n",
    "df_K=pd.read_excel('KerrickJacobs81_Density-Pressure-Calc.xlsx', sheet_name='0.9 CO2 + 0.1 H2O')\n",
    "df_K.head()"
   ]
  },
  {
   "cell_type": "code",
   "execution_count": 20,
   "metadata": {},
   "outputs": [
    {
     "data": {
      "text/html": [
       "<div>\n",
       "<style scoped>\n",
       "    .dataframe tbody tr th:only-of-type {\n",
       "        vertical-align: middle;\n",
       "    }\n",
       "\n",
       "    .dataframe tbody tr th {\n",
       "        vertical-align: top;\n",
       "    }\n",
       "\n",
       "    .dataframe thead th {\n",
       "        text-align: right;\n",
       "    }\n",
       "</style>\n",
       "<table border=\"1\" class=\"dataframe\">\n",
       "  <thead>\n",
       "    <tr style=\"text-align: right;\">\n",
       "      <th></th>\n",
       "      <th>P_kbar_pureCO2_SW96</th>\n",
       "      <th>P_kbar_pureCO2_SP94</th>\n",
       "      <th>P_kbar_pureCO2_DZ06</th>\n",
       "      <th>P_kbar_mixCO2_DZ06_Hloss</th>\n",
       "      <th>P_kbar_mixCO2_DZ06_no_Hloss</th>\n",
       "      <th>P Mix_Hloss/P Pure DZ06</th>\n",
       "      <th>P Mix_no_Hloss/P Pure DZ06</th>\n",
       "      <th>rho_mix_calc_Hloss</th>\n",
       "      <th>rho_mix_calc_noHloss</th>\n",
       "      <th>CO2_dens_gcm3</th>\n",
       "      <th>T_K</th>\n",
       "      <th>XH2O</th>\n",
       "    </tr>\n",
       "  </thead>\n",
       "  <tbody>\n",
       "    <tr>\n",
       "      <th>0</th>\n",
       "      <td>0.287430</td>\n",
       "      <td>0.286113</td>\n",
       "      <td>0.287121</td>\n",
       "      <td>0.318277</td>\n",
       "      <td>0.317356</td>\n",
       "      <td>1.108513</td>\n",
       "      <td>1.105306</td>\n",
       "      <td>0.104545</td>\n",
       "      <td>0.104263</td>\n",
       "      <td>0.10</td>\n",
       "      <td>1423.15</td>\n",
       "      <td>0.1</td>\n",
       "    </tr>\n",
       "    <tr>\n",
       "      <th>1</th>\n",
       "      <td>0.447203</td>\n",
       "      <td>0.445751</td>\n",
       "      <td>0.446558</td>\n",
       "      <td>0.495825</td>\n",
       "      <td>0.493013</td>\n",
       "      <td>1.110325</td>\n",
       "      <td>1.104029</td>\n",
       "      <td>0.156818</td>\n",
       "      <td>0.156024</td>\n",
       "      <td>0.15</td>\n",
       "      <td>1423.15</td>\n",
       "      <td>0.1</td>\n",
       "    </tr>\n",
       "    <tr>\n",
       "      <th>2</th>\n",
       "      <td>0.620120</td>\n",
       "      <td>0.620522</td>\n",
       "      <td>0.619029</td>\n",
       "      <td>0.689673</td>\n",
       "      <td>0.683653</td>\n",
       "      <td>1.114121</td>\n",
       "      <td>1.104395</td>\n",
       "      <td>0.209091</td>\n",
       "      <td>0.207540</td>\n",
       "      <td>0.20</td>\n",
       "      <td>1423.15</td>\n",
       "      <td>0.1</td>\n",
       "    </tr>\n",
       "    <tr>\n",
       "      <th>3</th>\n",
       "      <td>0.808673</td>\n",
       "      <td>0.813715</td>\n",
       "      <td>0.806939</td>\n",
       "      <td>0.903613</td>\n",
       "      <td>0.892643</td>\n",
       "      <td>1.119804</td>\n",
       "      <td>1.106209</td>\n",
       "      <td>0.261364</td>\n",
       "      <td>0.258813</td>\n",
       "      <td>0.25</td>\n",
       "      <td>1423.15</td>\n",
       "      <td>0.1</td>\n",
       "    </tr>\n",
       "    <tr>\n",
       "      <th>4</th>\n",
       "      <td>1.015873</td>\n",
       "      <td>1.028505</td>\n",
       "      <td>1.013188</td>\n",
       "      <td>1.142082</td>\n",
       "      <td>1.123854</td>\n",
       "      <td>1.127216</td>\n",
       "      <td>1.109226</td>\n",
       "      <td>0.313636</td>\n",
       "      <td>0.309845</td>\n",
       "      <td>0.30</td>\n",
       "      <td>1423.15</td>\n",
       "      <td>0.1</td>\n",
       "    </tr>\n",
       "  </tbody>\n",
       "</table>\n",
       "</div>"
      ],
      "text/plain": [
       "   P_kbar_pureCO2_SW96  P_kbar_pureCO2_SP94  P_kbar_pureCO2_DZ06  \\\n",
       "0             0.287430             0.286113             0.287121   \n",
       "1             0.447203             0.445751             0.446558   \n",
       "2             0.620120             0.620522             0.619029   \n",
       "3             0.808673             0.813715             0.806939   \n",
       "4             1.015873             1.028505             1.013188   \n",
       "\n",
       "   P_kbar_mixCO2_DZ06_Hloss  P_kbar_mixCO2_DZ06_no_Hloss  \\\n",
       "0                  0.318277                     0.317356   \n",
       "1                  0.495825                     0.493013   \n",
       "2                  0.689673                     0.683653   \n",
       "3                  0.903613                     0.892643   \n",
       "4                  1.142082                     1.123854   \n",
       "\n",
       "   P Mix_Hloss/P Pure DZ06  P Mix_no_Hloss/P Pure DZ06  rho_mix_calc_Hloss  \\\n",
       "0                 1.108513                    1.105306            0.104545   \n",
       "1                 1.110325                    1.104029            0.156818   \n",
       "2                 1.114121                    1.104395            0.209091   \n",
       "3                 1.119804                    1.106209            0.261364   \n",
       "4                 1.127216                    1.109226            0.313636   \n",
       "\n",
       "   rho_mix_calc_noHloss  CO2_dens_gcm3      T_K  XH2O  \n",
       "0              0.104263           0.10  1423.15   0.1  \n",
       "1              0.156024           0.15  1423.15   0.1  \n",
       "2              0.207540           0.20  1423.15   0.1  \n",
       "3              0.258813           0.25  1423.15   0.1  \n",
       "4              0.309845           0.30  1423.15   0.1  "
      ]
     },
     "execution_count": 20,
     "metadata": {},
     "output_type": "execute_result"
    }
   ],
   "source": [
    "# Perform calcs at 10% XH2O\n",
    "df_10=pf.calculate_entrapment_P_XH2O(XH2O=0.1, CO2_dens_gcm3=df_K['Density (g/cm3)'], T_K=1150+273.15, T_K_ambient=37+273.15)\n",
    "df_10.head()"
   ]
  },
  {
   "cell_type": "code",
   "execution_count": 26,
   "metadata": {},
   "outputs": [
    {
     "data": {
      "text/plain": [
       "Text(0, 0.5, 'Pressure (MPa)')"
      ]
     },
     "execution_count": 26,
     "metadata": {},
     "output_type": "execute_result"
    },
    {
     "data": {
      "image/png": "[encoded data removed]",
      "text/plain": [
       "<Figure size 640x480 with 1 Axes>"
      ]
     },
     "metadata": {},
     "output_type": "display_data"
    }
   ],
   "source": [
    "\n",
    "plt.plot(df_K['Density (g/cm3)'], df_10['P_kbar_mixCO2_DZ06_Hloss']*100, 'ok', label='DZ06 - Diadfit')\n",
    "plt.plot(df_K['Density (g/cm3)'], df_K['P @ 1150°C (MPa)'], '.r', label='KJ81 - Klugel')\n",
    "plt.xlabel('CO2 density (g/cm3)')\n",
    "plt.ylabel('Pressure (MPa)')"
   ]
  }
 ],
 "metadata": {
  "kernelspec": {
   "display_name": "base",
   "language": "python",
   "name": "python3"
  },
  "language_info": {
   "codemirror_mode": {
    "name": "ipython",
    "version": 3
   },
   "file_extension": ".py",
   "mimetype": "text/x-python",
   "name": "python",
   "nbconvert_exporter": "python",
   "pygments_lexer": "ipython3",
   "version": "3.11.5"
  }
 },
 "nbformat": 4,
 "nbformat_minor": 2
}
