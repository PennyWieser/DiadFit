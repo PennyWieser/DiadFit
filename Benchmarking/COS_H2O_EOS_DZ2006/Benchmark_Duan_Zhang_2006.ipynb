{
 "cells": [
  {
   "cell_type": "code",
   "execution_count": 2,
   "metadata": {},
   "outputs": [],
   "source": [
    "import DiadFit as pf\n",
    "import numpy as np\n",
    "import pandas as pd\n",
    "import matplotlib.pyplot as plt\n",
    "import math"
   ]
  },
  {
   "cell_type": "code",
   "execution_count": 3,
   "metadata": {},
   "outputs": [
    {
     "name": "stdout",
     "output_type": "stream",
     "text": [
      "phi0_pure\n",
      "0.9172418672277634\n",
      "phi1_pure\n",
      "2.3643474053245277\n",
      "lnphi_mix\n",
      "[0.40324910391066937, 0.6240261325021761]\n",
      "Phi mixed\n",
      "1.4966796739906976\n",
      "1.8664274190677694\n",
      "phi_mix\n",
      "[1.4966796739906976, 1.8664274190677694]\n"
     ]
    }
   ],
   "source": [
    "a, b, c, d, e=pf.mix_fugacity_ind(P_kbar=3, T_K=1200, XH2O=0.5, Vmix=53.975)"
   ]
  },
  {
   "cell_type": "code",
   "execution_count": 4,
   "metadata": {},
   "outputs": [
    {
     "ename": "NameError",
     "evalue": "name 'B_HP' is not defined",
     "output_type": "error",
     "traceback": [
      "\u001b[1;31m---------------------------------------------------------------------------\u001b[0m",
      "\u001b[1;31mNameError\u001b[0m                                 Traceback (most recent call last)",
      "\u001b[1;32mc:\\Users\\penny\\Box\\Berkeley_new\\DiadFit_outer\\Benchmarking\\COS_H2O_EOS_DZ2006\\Benchmark_Duan_Zhang_2006.ipynb Cell 3\u001b[0m line \u001b[0;36m2\n\u001b[0;32m     <a href='vscode-notebook-cell:/c%3A/Users/penny/Box/Berkeley_new/DiadFit_outer/Benchmarking/COS_H2O_EOS_DZ2006/Benchmark_Duan_Zhang_2006.ipynb#X54sZmlsZQ%3D%3D?line=22'>23</a>\u001b[0m lnphi_mix[\u001b[39m1\u001b[39m]\u001b[39m=\u001b[39mpf\u001b[39m.\u001b[39mmix_lnphi(\u001b[39m1\u001b[39m,  Zmix, BVc_prm, CVc2_prm, DVc4_prm, EVc5_prm, FVc2_prm, bmix, b_prm, gVc2, gVc2_prm, Vmix)\n\u001b[0;32m     <a href='vscode-notebook-cell:/c%3A/Users/penny/Box/Berkeley_new/DiadFit_outer/Benchmarking/COS_H2O_EOS_DZ2006/Benchmark_Duan_Zhang_2006.ipynb#X54sZmlsZQ%3D%3D?line=25'>26</a>\u001b[0m \u001b[39m## Okay and now lets do high presure\u001b[39;00m\n\u001b[1;32m---> <a href='vscode-notebook-cell:/c%3A/Users/penny/Box/Berkeley_new/DiadFit_outer/Benchmarking/COS_H2O_EOS_DZ2006/Benchmark_Duan_Zhang_2006.ipynb#X54sZmlsZQ%3D%3D?line=26'>27</a>\u001b[0m Bij_HP, Vcij_HP, BVc_prm_HP, BVc_HP, Cijk_HP, Vcijk_HP, CVc2_prm_HP, CVc2_HP, Dijklm_HP, Vcijklm_HP, DVc4_prm_HP, DVc4_HP, Eijklmn_HP, Vcijklmn_HP, EVc5_prm_HP,  EVc5_HP, Fij_HP, FVc2_prm_HP, FVc2_HP, bmix_HP, b_prm_HP, gijk_HP, gVc2_prm_HP, gVc2_HP\u001b[39m=\u001b[39mpf\u001b[39m.\u001b[39mmixing_rules(B_HP, Vc_HP, Y, b_HP, g_HP, k1_temperature_HP, k2_temperature_HP, k3_temperature_HP)\n\u001b[0;32m     <a href='vscode-notebook-cell:/c%3A/Users/penny/Box/Berkeley_new/DiadFit_outer/Benchmarking/COS_H2O_EOS_DZ2006/Benchmark_Duan_Zhang_2006.ipynb#X54sZmlsZQ%3D%3D?line=27'>28</a>\u001b[0m Vmix_HP\u001b[39m=\u001b[39mpf\u001b[39m.\u001b[39mmixvolume(\u001b[39m100\u001b[39m, \u001b[39m2000\u001b[39m, BVc_HP, CVc2_HP, DVc4_HP, EVc5_HP, FVc2_HP, bmix_HP, gVc2_HP, TK)\n\u001b[0;32m     <a href='vscode-notebook-cell:/c%3A/Users/penny/Box/Berkeley_new/DiadFit_outer/Benchmarking/COS_H2O_EOS_DZ2006/Benchmark_Duan_Zhang_2006.ipynb#X54sZmlsZQ%3D%3D?line=28'>29</a>\u001b[0m Zmix_HP\u001b[39m=\u001b[39m(\u001b[39m2000\u001b[39m\u001b[39m*\u001b[39mVmix_HP)\u001b[39m/\u001b[39m(\u001b[39m83.14467\u001b[39m\u001b[39m*\u001b[39mTK)\n",
      "\u001b[1;31mNameError\u001b[0m: name 'B_HP' is not defined"
     ]
    }
   ],
   "source": [
    "P_kbar=3\n",
    "T_K=1200\n",
    "XH2O=0.5\n",
    "P=P_kbar*1000\n",
    "TK=T_K\n",
    "XCO2=1-XH2O\n",
    "Y = [0] * 2\n",
    "Y[0]=XH2O\n",
    "Y[1]=XCO2\n",
    "Vmix=53.975\n",
    "\n",
    "## Mixed parameters\n",
    "\n",
    "\n",
    "# Now we need to do the mixed fugacity part of this\n",
    "#--------------------------------------------------------------------------\n",
    "k1_temperature, k2_temperature, k3_temperature, a1, a2, g, b, Vc, B, C, D, E, F, Vguess=pf.get_EOS_params(P, TK)\n",
    "Bij, Vcij, BVc_prm, BVc, Cijk, Vcijk, CVc2_prm, CVc2, Dijklm, Vcijklm, DVc4_prm, DVc4, Eijklmn, Vcijklmn, EVc5_prm,  EVc5, Fij, FVc2_prm, FVc2, bmix, b_prm, gijk, gVc2_prm, gVc2=pf.mixing_rules(B, Vc, Y, b, g, k1_temperature, k2_temperature, k3_temperature)\n",
    "Zmix=(P*Vmix)/(83.14467*TK)\n",
    "lnphi_mix = [0.0, 0.0]\n",
    "phi_mix = [0.0, 0.0]\n",
    "lnphi_mix[0]=pf.mix_lnphi(0,  Zmix, BVc_prm, CVc2_prm, DVc4_prm, EVc5_prm, FVc2_prm, bmix, b_prm, gVc2, gVc2_prm, Vmix)\n",
    "lnphi_mix[1]=pf.mix_lnphi(1,  Zmix, BVc_prm, CVc2_prm, DVc4_prm, EVc5_prm, FVc2_prm, bmix, b_prm, gVc2, gVc2_prm, Vmix)\n",
    "\n",
    "\n",
    "## Okay and now lets do high presure\n",
    "Bij_HP, Vcij_HP, BVc_prm_HP, BVc_HP, Cijk_HP, Vcijk_HP, CVc2_prm_HP, CVc2_HP, Dijklm_HP, Vcijklm_HP, DVc4_prm_HP, DVc4_HP, Eijklmn_HP, Vcijklmn_HP, EVc5_prm_HP,  EVc5_HP, Fij_HP, FVc2_prm_HP, FVc2_HP, bmix_HP, b_prm_HP, gijk_HP, gVc2_prm_HP, gVc2_HP=pf.mixing_rules(B_HP, Vc_HP, Y, b_HP, g_HP, k1_temperature_HP, k2_temperature_HP, k3_temperature_HP)\n",
    "Vmix_HP=pf.mixvolume(100, 2000, BVc_HP, CVc2_HP, DVc4_HP, EVc5_HP, FVc2_HP, bmix_HP, gVc2_HP, TK)\n",
    "Zmix_HP=(2000*Vmix_HP)/(83.14467*TK)\n",
    "lnphi_mix_HP = [0.0, 0.0]\n",
    "lnphi_mix_HP[0]=pf.mix_lnphi(0,  Zmix_HP, BVc_prm_HP, CVc2_prm_HP, DVc4_prm_HP, EVc5_prm_HP, FVc2_prm_HP, bmix_HP, b_prm_HP, gVc2_HP, gVc2_prm_HP, Vmix_HP)\n",
    "lnphi_mix_HP[1]=pf.mix_lnphi(1,  Zmix_HP, BVc_prm_HP, CVc2_prm_HP, DVc4_prm_HP, EVc5_prm_HP, FVc2_prm_HP, bmix_HP, b_prm_HP, gVc2_HP, gVc2_prm_HP, Vmix_HP)\n",
    "\n",
    "\n"
   ]
  },
  {
   "cell_type": "code",
   "execution_count": 9,
   "metadata": {},
   "outputs": [
    {
     "data": {
      "text/plain": [
       "[-0.05773753754738608, 0.6551266847421117]"
      ]
     },
     "execution_count": 9,
     "metadata": {},
     "output_type": "execute_result"
    }
   ],
   "source": [
    "lnphi_mix"
   ]
  },
  {
   "cell_type": "code",
   "execution_count": 4,
   "metadata": {},
   "outputs": [],
   "source": [
    "def mix_lnphi2(i, Zmix, BVc_prm, CVc2_prm, DVc4_prm, EVc5_prm, FVc2_prm, bmix, b_prm, gVc2, gVc2_prm, Vmix):\n",
    "    lnph = -math.log(Zmix)\n",
    "    lnph += (BVc_prm[i] / Vmix)\n",
    "    lnph += (CVc2_prm[i] / (2.0 * Vmix ** 2))\n",
    "    lnph += (DVc4_prm[i] / (4.0 * Vmix ** 4))\n",
    "    lnph += (EVc5_prm[i] / (5.0 * Vmix ** 5))\n",
    "    lnph += ((FVc2_prm[i] * bmix + b_prm[i] * FVc2) / (2 * gVc2)) * (1.0 - math.exp(-gVc2 / (Vmix ** 2)))\n",
    "    lnph += ((FVc2_prm[i] * gVc2 + gVc2_prm[i] * FVc2 - FVc2 * bmix * (gVc2_prm[i] - gVc2)) / (2.0 * gVc2 ** 2)) * (1.0 - (gVc2 / (Vmix ** 2) + 1.0) * math.exp(-gVc2 / (Vmix ** 2)))\n",
    "    lnph += -(((gVc2_prm[i] - gVc2) * FVc2) / (2 * gVc2 ** 2)) * (2.0 - (((gVc2 ** 2) / (Vmix ** 4)) + (2.0 * gVc2 / (Vmix ** 2)) + 2.0) * math.exp(-gVc2 / (Vmix ** 2)))\n",
    "\n",
    "\n",
    "    return lnph\n"
   ]
  },
  {
   "cell_type": "code",
   "execution_count": 5,
   "metadata": {},
   "outputs": [
    {
     "data": {
      "text/plain": [
       "[-0.05773753754738608, 0.6551266847421117]"
      ]
     },
     "execution_count": 5,
     "metadata": {},
     "output_type": "execute_result"
    }
   ],
   "source": [
    "lnphi_mix[0]=mix_lnphi2(0,  Zmix, BVc_prm, CVc2_prm, DVc4_prm, EVc5_prm, FVc2_prm, bmix, b_prm, gVc2, gVc2_prm, Vmix)\n",
    "lnphi_mix[1]=mix_lnphi2(1,  Zmix, BVc_prm, CVc2_prm, DVc4_prm, EVc5_prm, FVc2_prm, bmix, b_prm, gVc2, gVc2_prm, Vmix)\n",
    "lnphi_mix\n"
   ]
  },
  {
   "cell_type": "code",
   "execution_count": 6,
   "metadata": {},
   "outputs": [
    {
     "data": {
      "text/plain": [
       "0.06769408652809983"
      ]
     },
     "execution_count": 6,
     "metadata": {},
     "output_type": "execute_result"
    }
   ],
   "source": [
    "pf.mix_lnphi(0,  Zmix, BVc_prm, CVc2_prm, DVc4_prm, EVc5_prm, FVc2_prm, bmix, b_prm, gVc2, gVc2_prm, Vmix)\n",
    "\n"
   ]
  },
  {
   "cell_type": "code",
   "execution_count": 7,
   "metadata": {},
   "outputs": [
    {
     "ename": "SyntaxError",
     "evalue": "invalid syntax (2330146167.py, line 2)",
     "output_type": "error",
     "traceback": [
      "\u001b[1;36m  Cell \u001b[1;32mIn[7], line 2\u001b[1;36m\u001b[0m\n\u001b[1;33m    mix_lnphi2(i, Zmix, BVc_prm, CVc2_prm, DVc4_prm, EVc5_prm, FVc2_prm, bmix, b_prm, gVc2, gVc2_prm, Vmix):\u001b[0m\n\u001b[1;37m                                                                                                           ^\u001b[0m\n\u001b[1;31mSyntaxError\u001b[0m\u001b[1;31m:\u001b[0m invalid syntax\n"
     ]
    }
   ],
   "source": [
    "pf.mix_lnphi2(0,  Zmix, BVc_prm, CVc2_prm, DVc4_prm, EVc5_prm, FVc2_prm, bmix, b_prm, gVc2, gVc2_prm, Vmix)\n",
    "mix_lnphi2(i, Zmix, BVc_prm, CVc2_prm, DVc4_prm, EVc5_prm, FVc2_prm, bmix, b_prm, gVc2, gVc2_prm, Vmix):\n"
   ]
  },
  {
   "cell_type": "code",
   "execution_count": null,
   "metadata": {},
   "outputs": [
    {
     "data": {
      "text/plain": [
       "1.622924235552321"
      ]
     },
     "execution_count": 18,
     "metadata": {},
     "output_type": "execute_result"
    }
   ],
   "source": [
    "Zmix"
   ]
  },
  {
   "cell_type": "code",
   "execution_count": null,
   "metadata": {},
   "outputs": [
    {
     "data": {
      "text/plain": [
       "array([-39.35776613, -55.77643689])"
      ]
     },
     "execution_count": 19,
     "metadata": {},
     "output_type": "execute_result"
    }
   ],
   "source": [
    "BVc_prm"
   ]
  },
  {
   "cell_type": "code",
   "execution_count": null,
   "metadata": {},
   "outputs": [
    {
     "data": {
      "text/plain": [
       "array([3812.02203588, 5340.92790465])"
      ]
     },
     "execution_count": 20,
     "metadata": {},
     "output_type": "execute_result"
    }
   ],
   "source": [
    "CVc2_prm"
   ]
  },
  {
   "cell_type": "code",
   "execution_count": null,
   "metadata": {},
   "outputs": [
    {
     "data": {
      "text/plain": [
       "array([-0.31502817, -8.47988634])"
      ]
     },
     "execution_count": 15,
     "metadata": {},
     "output_type": "execute_result"
    }
   ],
   "source": [
    "b_prm"
   ]
  },
  {
   "cell_type": "code",
   "execution_count": null,
   "metadata": {},
   "outputs": [
    {
     "data": {
      "text/plain": [
       "1728.1185295899318"
      ]
     },
     "execution_count": 14,
     "metadata": {},
     "output_type": "execute_result"
    }
   ],
   "source": [
    "gVc2"
   ]
  },
  {
   "cell_type": "code",
   "execution_count": null,
   "metadata": {},
   "outputs": [
    {
     "data": {
      "text/plain": [
       "array([3956.91285715, 6411.79832039])"
      ]
     },
     "execution_count": 17,
     "metadata": {},
     "output_type": "execute_result"
    }
   ],
   "source": [
    "gVc2_prm"
   ]
  },
  {
   "cell_type": "code",
   "execution_count": null,
   "metadata": {},
   "outputs": [],
   "source": [
    "lnphi_mix[0]=pf.mix_lnphi2(0,  Zmix, BVc_prm, CVc2_prm, DVc4_prm, EVc5_prm, FVc2_prm, bmix, b_prm, gVc2, gVc2_prm, Vmix)\n",
    "lnphi_mix[1]=pf.mix_lnphi2(1,  Zmix, BVc_prm, CVc2_prm, DVc4_prm, EVc5_prm, FVc2_prm, bmix, b_prm, gVc2, gVc2_prm, Vmix)\n"
   ]
  },
  {
   "cell_type": "code",
   "execution_count": null,
   "metadata": {},
   "outputs": [
    {
     "data": {
      "text/plain": [
       "[0.06769408652809983, 0.31471910401816533]"
      ]
     },
     "execution_count": 7,
     "metadata": {},
     "output_type": "execute_result"
    }
   ],
   "source": [
    "lnphi_mix"
   ]
  },
  {
   "cell_type": "code",
   "execution_count": null,
   "metadata": {},
   "outputs": [
    {
     "data": {
      "text/plain": [
       "[-0.130168157676548, -0.061840773474427735]"
      ]
     },
     "execution_count": 6,
     "metadata": {},
     "output_type": "execute_result"
    }
   ],
   "source": [
    "lnphi_mix"
   ]
  },
  {
   "cell_type": "code",
   "execution_count": null,
   "metadata": {},
   "outputs": [
    {
     "data": {
      "text/plain": [
       "1728.1185295899318"
      ]
     },
     "execution_count": 33,
     "metadata": {},
     "output_type": "execute_result"
    }
   ],
   "source": [
    "gVc2"
   ]
  },
  {
   "cell_type": "code",
   "execution_count": null,
   "metadata": {},
   "outputs": [
    {
     "data": {
      "text/plain": [
       "[0.06769408652809983, 0.31471910401816533]"
      ]
     },
     "execution_count": 21,
     "metadata": {},
     "output_type": "execute_result"
    }
   ],
   "source": [
    "lnphi_mix"
   ]
  },
  {
   "cell_type": "code",
   "execution_count": null,
   "metadata": {},
   "outputs": [
    {
     "data": {
      "text/plain": [
       "array([3812.02203588, 5340.92790465])"
      ]
     },
     "execution_count": 19,
     "metadata": {},
     "output_type": "execute_result"
    }
   ],
   "source": [
    "CVc2_prm"
   ]
  },
  {
   "cell_type": "code",
   "execution_count": null,
   "metadata": {},
   "outputs": [
    {
     "data": {
      "text/plain": [
       "array([-39.35776613, -55.77643689])"
      ]
     },
     "execution_count": 20,
     "metadata": {},
     "output_type": "execute_result"
    }
   ],
   "source": [
    "BVc_prm"
   ]
  },
  {
   "cell_type": "code",
   "execution_count": null,
   "metadata": {},
   "outputs": [
    {
     "data": {
      "text/plain": [
       "[0.06769408652809983, 0.31471910401816533]"
      ]
     },
     "execution_count": 16,
     "metadata": {},
     "output_type": "execute_result"
    }
   ],
   "source": [
    "lnphi_mix"
   ]
  },
  {
   "cell_type": "code",
   "execution_count": null,
   "metadata": {},
   "outputs": [
    {
     "data": {
      "text/plain": [
       "[0.06769408652809983, 0.31471910401816533]"
      ]
     },
     "execution_count": 13,
     "metadata": {},
     "output_type": "execute_result"
    }
   ],
   "source": [
    "VMix"
   ]
  },
  {
   "cell_type": "code",
   "execution_count": null,
   "metadata": {},
   "outputs": [
    {
     "data": {
      "text/plain": [
       "[0.9172418672277634, 2.3643474053245277]"
      ]
     },
     "execution_count": 3,
     "metadata": {},
     "output_type": "execute_result"
    }
   ],
   "source": [
    "[phi0_pure, phi1_pure]"
   ]
  },
  {
   "cell_type": "code",
   "execution_count": null,
   "metadata": {},
   "outputs": [
    {
     "name": "stdout",
     "output_type": "stream",
     "text": [
      "phi0_pure\n",
      "0.9172418672277634\n",
      "phi1_pure\n",
      "2.3643474053245277\n",
      "Phi mixed\n",
      "1.4966796739906976\n",
      "1.8664274190677694\n",
      "phi_mix\n",
      "[1.4966796739906976, 1.8664274190677694]\n"
     ]
    }
   ],
   "source": [
    "a, b, c, d, e=pf.mix_fugacity_ind(P_kbar=3, T_K=1200, XH2O=0.5, Vmix=53.975)"
   ]
  },
  {
   "cell_type": "code",
   "execution_count": null,
   "metadata": {},
   "outputs": [
    {
     "ename": "NameError",
     "evalue": "name 'stop' is not defined",
     "output_type": "error",
     "traceback": [
      "\u001b[1;31m---------------------------------------------------------------------------\u001b[0m",
      "\u001b[1;31mNameError\u001b[0m                                 Traceback (most recent call last)",
      "\u001b[1;32mc:\\Users\\penny\\Box\\Berkeley_new\\DiadFit_outer\\Benchmarking\\COS_H2O_EOS_DZ2006\\Benchmark_Duan_Zhang_2006.ipynb Cell 5\u001b[0m line \u001b[0;36m1\n\u001b[1;32m----> <a href='vscode-notebook-cell:/c%3A/Users/penny/Box/Berkeley_new/DiadFit_outer/Benchmarking/COS_H2O_EOS_DZ2006/Benchmark_Duan_Zhang_2006.ipynb#X46sZmlsZQ%3D%3D?line=0'>1</a>\u001b[0m stop\n",
      "\u001b[1;31mNameError\u001b[0m: name 'stop' is not defined"
     ]
    }
   ],
   "source": [
    "stop"
   ]
  },
  {
   "cell_type": "code",
   "execution_count": null,
   "metadata": {},
   "outputs": [
    {
     "data": {
      "text/plain": [
       "[0.913619571588939, 1.2980439443343712]"
      ]
     },
     "execution_count": 5,
     "metadata": {},
     "output_type": "execute_result"
    }
   ],
   "source": [
    "phi_mix"
   ]
  },
  {
   "cell_type": "code",
   "execution_count": null,
   "metadata": {},
   "outputs": [
    {
     "name": "stdout",
     "output_type": "stream",
     "text": [
      "phi_mix\n",
      "[0.9150684235337881, 1.3022049919810221]\n"
     ]
    }
   ],
   "source": [
    "a, b, c, d, e=pf.mix_fugacity_ind(P_kbar=1, T_K=1200, XH2O=0.5, Vmix=113.5643)"
   ]
  },
  {
   "cell_type": "code",
   "execution_count": null,
   "metadata": {},
   "outputs": [],
   "source": [
    "df_C=pd.read_excel('Duan_Zhang_2006_C_Code.xlsx', sheet_name='Sheet1')"
   ]
  },
  {
   "cell_type": "code",
   "execution_count": null,
   "metadata": {},
   "outputs": [
    {
     "name": "stdout",
     "output_type": "stream",
     "text": [
      "phi_mix\n",
      "[0.9344281964497142, 1.2919706609951094]\n",
      "phi_mix\n",
      "[0.9280670518989675, 1.2926602464757486]\n",
      "phi_mix\n",
      "[0.9230949759387839, 1.2942663745723368]\n",
      "phi_mix\n",
      "[0.9193652819748636, 1.2965722851564283]\n",
      "phi_mix\n",
      "[0.9167378215342085, 1.2993234106009621]\n",
      "phi_mix\n",
      "[0.9150681173413941, 1.3022044004874214]\n",
      "phi_mix\n",
      "[0.914194402433837, 1.3048082769152152]\n",
      "phi_mix\n",
      "[0.9139205586325142, 1.3065932169929033]\n",
      "phi_mix\n",
      "[0.9139918985521293, 1.306819931103272]\n",
      "phi_mix\n",
      "[0.9140587936119012, 1.304458251832093]\n",
      "phi_mix\n",
      "[0.9136194844785533, 1.2980437547579862]\n",
      "phi_mix\n",
      "[3.1553148052379676, 4.2541709358427555]\n",
      "phi_mix\n",
      "[2.739800582336002, 4.178100002696014]\n",
      "phi_mix\n",
      "[2.43717083943468, 4.147383675527983]\n",
      "phi_mix\n",
      "[2.2031041406610647, 4.154289200642389]\n",
      "phi_mix\n",
      "[2.0140963526415154, 4.198936572518836]\n",
      "phi_mix\n",
      "[1.8565216358547247, 4.288328220571881]\n",
      "phi_mix\n",
      "[1.7220326993949358, 4.438823865111753]\n",
      "phi_mix\n",
      "[1.6054749166658253, 4.684164642001788]\n",
      "phi_mix\n",
      "[1.5040778275436264, 5.098839236309897]\n",
      "phi_mix\n",
      "[1.4179203554127053, 5.882114256055586]\n",
      "phi_mix\n",
      "[1.3550905676363363, 7.847854693726389]\n",
      "phi_mix\n",
      "[53.49880634095232, 0.255936130181375]\n",
      "phi_mix\n",
      "[31.990803162669316, 0.17964093272824214]\n",
      "phi_mix\n",
      "[18.815375602011997, 0.13271529463210527]\n",
      "phi_mix\n",
      "[11.137730487509986, 0.10529330364380311]\n",
      "phi_mix\n",
      "[6.717063472720222, 0.09018022991964612]\n",
      "phi_mix\n",
      "[4.137678842614209, 0.08310560693632173]\n",
      "phi_mix\n",
      "[2.593599630973179, 0.08203506672731217]\n",
      "phi_mix\n",
      "[1.6457317472872945, 0.08706197734044717]\n",
      "phi_mix\n",
      "[1.0684676376350561, 0.10328320347291038]\n",
      "phi_mix\n",
      "[0.7716698992569927, 0.15926132964927342]\n",
      "phi_mix\n",
      "[0.4490777868607212, 0.27036821806451367]\n",
      "phi_mix\n",
      "[2.897735016973605, 6.886082354497366]\n",
      "phi_mix\n",
      "[2.6985703958453504, 6.83289642084217]\n",
      "phi_mix\n",
      "[2.5425961946692572, 6.812090469093575]\n",
      "phi_mix\n",
      "[2.4159706271372228, 6.817630767584148]\n",
      "phi_mix\n",
      "[2.3103706105865673, 6.847272629671757]\n",
      "phi_mix\n",
      "[2.220530358201906, 6.901639378970121]\n",
      "phi_mix\n",
      "[2.143046536968404, 6.98417619598231]\n",
      "phi_mix\n",
      "[2.0757770456424094, 7.101861022010443]\n",
      "phi_mix\n",
      "[2.017566212103188, 7.26710003044524]\n",
      "phi_mix\n",
      "[1.9682216109304487, 7.5027610533400555]\n",
      "phi_mix\n",
      "[1.9289699773401596, 7.8603606748824575]\n"
     ]
    },
    {
     "data": {
      "text/html": [
       "<div>\n",
       "<style scoped>\n",
       "    .dataframe tbody tr th:only-of-type {\n",
       "        vertical-align: middle;\n",
       "    }\n",
       "\n",
       "    .dataframe tbody tr th {\n",
       "        vertical-align: top;\n",
       "    }\n",
       "\n",
       "    .dataframe thead th {\n",
       "        text-align: right;\n",
       "    }\n",
       "</style>\n",
       "<table border=\"1\" class=\"dataframe\">\n",
       "  <thead>\n",
       "    <tr style=\"text-align: right;\">\n",
       "      <th></th>\n",
       "      <th>P_kbar</th>\n",
       "      <th>T_K</th>\n",
       "      <th>XH2O</th>\n",
       "      <th>XCO2</th>\n",
       "      <th>Molar Volume (cm3/mol)</th>\n",
       "      <th>Density (g/cm3)</th>\n",
       "      <th>Compressability_factor</th>\n",
       "      <th>fugacity_H2O</th>\n",
       "      <th>fugacity_CO2</th>\n",
       "      <th>activity_H2O</th>\n",
       "      <th>activity_CO2</th>\n",
       "    </tr>\n",
       "  </thead>\n",
       "  <tbody>\n",
       "    <tr>\n",
       "      <th>0</th>\n",
       "      <td>1.0</td>\n",
       "      <td>1200</td>\n",
       "      <td>0.0</td>\n",
       "      <td>1.0</td>\n",
       "      <td>127.742642</td>\n",
       "      <td>0.344443</td>\n",
       "      <td>1.280325</td>\n",
       "      <td>0.000000</td>\n",
       "      <td>1.291971</td>\n",
       "      <td>0.000000</td>\n",
       "      <td>0.999896</td>\n",
       "    </tr>\n",
       "    <tr>\n",
       "      <th>1</th>\n",
       "      <td>1.0</td>\n",
       "      <td>1200</td>\n",
       "      <td>0.1</td>\n",
       "      <td>0.9</td>\n",
       "      <td>125.333500</td>\n",
       "      <td>0.330319</td>\n",
       "      <td>1.256179</td>\n",
       "      <td>0.092807</td>\n",
       "      <td>1.163394</td>\n",
       "      <td>0.100803</td>\n",
       "      <td>0.900387</td>\n",
       "    </tr>\n",
       "    <tr>\n",
       "      <th>2</th>\n",
       "      <td>1.0</td>\n",
       "      <td>1200</td>\n",
       "      <td>0.2</td>\n",
       "      <td>0.8</td>\n",
       "      <td>122.709086</td>\n",
       "      <td>0.316195</td>\n",
       "      <td>1.229875</td>\n",
       "      <td>0.184619</td>\n",
       "      <td>1.035413</td>\n",
       "      <td>0.200527</td>\n",
       "      <td>0.801338</td>\n",
       "    </tr>\n",
       "    <tr>\n",
       "      <th>3</th>\n",
       "      <td>1.0</td>\n",
       "      <td>1200</td>\n",
       "      <td>0.3</td>\n",
       "      <td>0.7</td>\n",
       "      <td>119.872066</td>\n",
       "      <td>0.301989</td>\n",
       "      <td>1.201441</td>\n",
       "      <td>0.275810</td>\n",
       "      <td>0.907601</td>\n",
       "      <td>0.299575</td>\n",
       "      <td>0.702420</td>\n",
       "    </tr>\n",
       "    <tr>\n",
       "      <th>4</th>\n",
       "      <td>1.0</td>\n",
       "      <td>1200</td>\n",
       "      <td>0.4</td>\n",
       "      <td>0.6</td>\n",
       "      <td>116.823775</td>\n",
       "      <td>0.287613</td>\n",
       "      <td>1.170889</td>\n",
       "      <td>0.366695</td>\n",
       "      <td>0.779594</td>\n",
       "      <td>0.398292</td>\n",
       "      <td>0.603352</td>\n",
       "    </tr>\n",
       "  </tbody>\n",
       "</table>\n",
       "</div>"
      ],
      "text/plain": [
       "   P_kbar   T_K  XH2O  XCO2  Molar Volume (cm3/mol)  Density (g/cm3)  \\\n",
       "0     1.0  1200   0.0   1.0              127.742642         0.344443   \n",
       "1     1.0  1200   0.1   0.9              125.333500         0.330319   \n",
       "2     1.0  1200   0.2   0.8              122.709086         0.316195   \n",
       "3     1.0  1200   0.3   0.7              119.872066         0.301989   \n",
       "4     1.0  1200   0.4   0.6              116.823775         0.287613   \n",
       "\n",
       "   Compressability_factor  fugacity_H2O  fugacity_CO2  activity_H2O  \\\n",
       "0                1.280325      0.000000      1.291971      0.000000   \n",
       "1                1.256179      0.092807      1.163394      0.100803   \n",
       "2                1.229875      0.184619      1.035413      0.200527   \n",
       "3                1.201441      0.275810      0.907601      0.299575   \n",
       "4                1.170889      0.366695      0.779594      0.398292   \n",
       "\n",
       "   activity_CO2  \n",
       "0      0.999896  \n",
       "1      0.900387  \n",
       "2      0.801338  \n",
       "3      0.702420  \n",
       "4      0.603352  "
      ]
     },
     "execution_count": 8,
     "metadata": {},
     "output_type": "execute_result"
    }
   ],
   "source": [
    "df=pf.H2O_CO2_EOS_DZ2006_knownP(P_kbar=df_C['P (bar)']/1000, T_K=df_C['T (K)'], XH2O=1-df_C['yCO2'])\n",
    "df.head()\n"
   ]
  },
  {
   "cell_type": "code",
   "execution_count": null,
   "metadata": {},
   "outputs": [
    {
     "data": {
      "text/plain": [
       "[<matplotlib.lines.Line2D at 0x1c694f4c3d0>]"
      ]
     },
     "execution_count": 9,
     "metadata": {},
     "output_type": "execute_result"
    },
    {
     "data": {
      "image/png": "[encoded data removed]",
      "text/plain": [
       "<Figure size 640x480 with 1 Axes>"
      ]
     },
     "metadata": {},
     "output_type": "display_data"
    }
   ],
   "source": [
    "big_diff=abs(df_C['fH2O (kbar)']-df['fugacity_H2O'])\n",
    "plt.plot(df_C['P (bar)'], big_diff, '.r')"
   ]
  },
  {
   "cell_type": "code",
   "execution_count": null,
   "metadata": {},
   "outputs": [
    {
     "data": {
      "text/plain": [
       "Text(0, 0.5, 'aCO2')"
      ]
     },
     "execution_count": 10,
     "metadata": {},
     "output_type": "execute_result"
    },
    {
     "data": {
      "image/png": "[encoded data removed]",
      "text/plain": [
       "<Figure size 1000x1000 with 4 Axes>"
      ]
     },
     "metadata": {},
     "output_type": "display_data"
    }
   ],
   "source": [
    "fig, ((ax1, ax2), (ax3, ax4)) = plt.subplots(2, 2, figsize=(10,10))\n",
    "P1000=df_C['P (bar)']==1000\n",
    "ax1.plot(df_C['fH2O (kbar)'].loc[P1000], df['fugacity_H2O'].loc[P1000], '.r')\n",
    "ax1.set_ylabel('fH2O')\n",
    "\n",
    "ax2.plot(df_C['fCO2 (kbar)'].loc[P1000], df['fugacity_CO2'].loc[P1000], '.r')\n",
    "ax2.set_ylabel('fCO2')\n",
    "\n",
    "ax3.plot(df_C['aH2O'].loc[P1000], df['activity_H2O'].loc[P1000], '.r')\n",
    "ax3.set_ylabel('aH2O')\n",
    "\n",
    "ax4.plot(df_C['aCO2'].loc[P1000], df['activity_CO2'].loc[P1000], '.r')\n",
    "ax4.set_ylabel('aCO2')\n"
   ]
  },
  {
   "cell_type": "code",
   "execution_count": null,
   "metadata": {},
   "outputs": [
    {
     "data": {
      "text/plain": [
       "Text(0, 0.5, 'Z (python)')"
      ]
     },
     "execution_count": 11,
     "metadata": {},
     "output_type": "execute_result"
    },
    {
     "data": {
      "image/png": "[encoded data removed]",
      "text/plain": [
       "<Figure size 1000x1000 with 4 Axes>"
      ]
     },
     "metadata": {},
     "output_type": "display_data"
    }
   ],
   "source": [
    "fig, ((ax1, ax2), (ax3, ax4)) = plt.subplots(2, 2, figsize=(10,10))\n",
    "ax1.plot([20, 130], [20, 130], '-k')\n",
    "ax1.plot(df_C['Vm (cm3/mol)'], df['Molar Volume (cm3/mol)'], '.r')\n",
    "ax1.set_xlabel('Vm (C Code)')\n",
    "ax1.set_ylabel('Vm (python)')\n",
    "ax2.plot([0.9, 3], [0.9, 3], '-k')\n",
    "ax2.plot(df_C['Z'], df['Compressability_factor'], '.r')\n",
    "ax2.set_xlabel('Z (C Code)')\n",
    "ax2.set_ylabel('Z (python)')"
   ]
  },
  {
   "cell_type": "code",
   "execution_count": null,
   "metadata": {},
   "outputs": [],
   "source": [
    "P=1000\n",
    "TK=1200\n",
    "XH2O=0\n",
    "XCO2=1-XH2O\n",
    "Vmix=127.7426\n",
    "Y = [0] * 2\n",
    "Y[0]=XH2O\n",
    "Y[1]=XCO2\n",
    "k1_temperature, k2_temperature, k3_temperature, a1, a2, g, b, Vc, B, C, D, E, F, Vguess=pf.get_EOS_params(P, TK)\n",
    "# Get mixing rules\n",
    "Bij, Vcij, BVc_prm, BVc, Cijk, Vcijk, CVc2_prm, CVc2, Dijklm, Vcijklm, DVc4_prm, DVc4, Eijklmn, Vcijklmn, EVc5_prm,  EVc5, Fij, FVc2_prm, FVc2, bmix, b_prm, gijk, gVc2_prm, gVc2=pf.mixing_rules(B, Vc, Y, b, g, k1_temperature, k2_temperature, k3_temperature)\n",
    "# \n",
    "Zmix=(P*Vmix)/(83.14467*TK)\n",
    "lnphi_mix = [0.0, 0.0]\n",
    "phi_mix = [0.0, 0.0]\n",
    "\n",
    "lnphi_mix[0]=pf.mix_lnphi(0,  Zmix, BVc_prm, CVc2_prm, DVc4_prm, EVc5_prm, FVc2_prm, bmix, b_prm, gVc2, gVc2_prm, Vmix)\n",
    "lnphi_mix[1]=pf.mix_lnphi(1,  Zmix, BVc_prm, CVc2_prm, DVc4_prm, EVc5_prm, FVc2_prm, bmix, b_prm, gVc2, gVc2_prm, Vmix)\n",
    "import math\n",
    "phi_mix[0]=math.exp(lnphi_mix[0])\n",
    "\n",
    "phi_mix[1]=math.exp(lnphi_mix[1])"
   ]
  },
  {
   "cell_type": "code",
   "execution_count": null,
   "metadata": {},
   "outputs": [
    {
     "data": {
      "text/plain": [
       "1.2803246036897693"
      ]
     },
     "execution_count": 13,
     "metadata": {},
     "output_type": "execute_result"
    }
   ],
   "source": [
    "Zmix"
   ]
  },
  {
   "cell_type": "code",
   "execution_count": null,
   "metadata": {},
   "outputs": [
    {
     "data": {
      "text/plain": [
       "[0.9344286262003697, 1.2919713857921094]"
      ]
     },
     "execution_count": 14,
     "metadata": {},
     "output_type": "execute_result"
    }
   ],
   "source": [
    "phi_mix"
   ]
  },
  {
   "cell_type": "code",
   "execution_count": null,
   "metadata": {},
   "outputs": [
    {
     "name": "stdout",
     "output_type": "stream",
     "text": [
      "phi_mix\n",
      "[0.9344286262003697, 1.2919713857921094]\n"
     ]
    },
    {
     "data": {
      "text/plain": [
       "(0.0, 1.2919713857921094, 0.0, 0.9998968440662208, 1.2803246036897693)"
      ]
     },
     "execution_count": 15,
     "metadata": {},
     "output_type": "execute_result"
    }
   ],
   "source": [
    "pf.mix_fugacity_ind(P_kbar=1, T_K=1200, XH2O=0, Vmix=127.7426)"
   ]
  },
  {
   "cell_type": "code",
   "execution_count": null,
   "metadata": {},
   "outputs": [
    {
     "name": "stdout",
     "output_type": "stream",
     "text": [
      "phi_mix\n",
      "[0.9344281964497142, 1.2919706609951094]\n",
      "phi_mix\n",
      "[0.9280670518989675, 1.2926602464757486]\n",
      "phi_mix\n",
      "[0.9230949759387839, 1.2942663745723368]\n",
      "phi_mix\n",
      "[0.9193652819748636, 1.2965722851564283]\n",
      "phi_mix\n",
      "[0.9167378215342085, 1.2993234106009621]\n",
      "phi_mix\n",
      "[0.9150681173413941, 1.3022044004874214]\n",
      "phi_mix\n",
      "[0.914194402433837, 1.3048082769152152]\n",
      "phi_mix\n",
      "[0.9139205586325142, 1.3065932169929033]\n",
      "phi_mix\n",
      "[0.9139918985521293, 1.306819931103272]\n",
      "phi_mix\n",
      "[0.9140587936119012, 1.304458251832093]\n",
      "phi_mix\n",
      "[0.9136194844785533, 1.2980437547579862]\n",
      "phi_mix\n",
      "[3.1553148052379676, 4.2541709358427555]\n",
      "phi_mix\n",
      "[2.739800582336002, 4.178100002696014]\n",
      "phi_mix\n",
      "[2.43717083943468, 4.147383675527983]\n",
      "phi_mix\n",
      "[2.2031041406610647, 4.154289200642389]\n",
      "phi_mix\n",
      "[2.0140963526415154, 4.198936572518836]\n",
      "phi_mix\n",
      "[1.8565216358547247, 4.288328220571881]\n",
      "phi_mix\n",
      "[1.7220326993949358, 4.438823865111753]\n",
      "phi_mix\n",
      "[1.6054749166658253, 4.684164642001788]\n",
      "phi_mix\n",
      "[1.5040778275436264, 5.098839236309897]\n",
      "phi_mix\n",
      "[1.4179203554127053, 5.882114256055586]\n",
      "phi_mix\n",
      "[1.3550905676363363, 7.847854693726389]\n",
      "phi_mix\n",
      "[53.49880634095232, 0.255936130181375]\n",
      "phi_mix\n",
      "[31.990803162669316, 0.17964093272824214]\n",
      "phi_mix\n",
      "[18.815375602011997, 0.13271529463210527]\n",
      "phi_mix\n",
      "[11.137730487509986, 0.10529330364380311]\n",
      "phi_mix\n",
      "[6.717063472720222, 0.09018022991964612]\n",
      "phi_mix\n",
      "[4.137678842614209, 0.08310560693632173]\n",
      "phi_mix\n",
      "[2.593599630973179, 0.08203506672731217]\n",
      "phi_mix\n",
      "[1.6457317472872945, 0.08706197734044717]\n",
      "phi_mix\n",
      "[1.0684676376350561, 0.10328320347291038]\n",
      "phi_mix\n",
      "[0.7716698992569927, 0.15926132964927342]\n",
      "phi_mix\n",
      "[0.4490777868607212, 0.27036821806451367]\n",
      "phi_mix\n",
      "[2.897735016973605, 6.886082354497366]\n",
      "phi_mix\n",
      "[2.6985703958453504, 6.83289642084217]\n",
      "phi_mix\n",
      "[2.5425961946692572, 6.812090469093575]\n",
      "phi_mix\n",
      "[2.4159706271372228, 6.817630767584148]\n",
      "phi_mix\n",
      "[2.3103706105865673, 6.847272629671757]\n",
      "phi_mix\n",
      "[2.220530358201906, 6.901639378970121]\n",
      "phi_mix\n",
      "[2.143046536968404, 6.98417619598231]\n",
      "phi_mix\n",
      "[2.0757770456424094, 7.101861022010443]\n",
      "phi_mix\n",
      "[2.017566212103188, 7.26710003044524]\n",
      "phi_mix\n",
      "[1.9682216109304487, 7.5027610533400555]\n",
      "phi_mix\n",
      "[1.9289699773401596, 7.8603606748824575]\n"
     ]
    },
    {
     "data": {
      "text/html": [
       "<div>\n",
       "<style scoped>\n",
       "    .dataframe tbody tr th:only-of-type {\n",
       "        vertical-align: middle;\n",
       "    }\n",
       "\n",
       "    .dataframe tbody tr th {\n",
       "        vertical-align: top;\n",
       "    }\n",
       "\n",
       "    .dataframe thead th {\n",
       "        text-align: right;\n",
       "    }\n",
       "</style>\n",
       "<table border=\"1\" class=\"dataframe\">\n",
       "  <thead>\n",
       "    <tr style=\"text-align: right;\">\n",
       "      <th></th>\n",
       "      <th>P_kbar</th>\n",
       "      <th>T_K</th>\n",
       "      <th>XH2O</th>\n",
       "      <th>XCO2</th>\n",
       "      <th>Molar Volume (cm3/mol)</th>\n",
       "      <th>Density (g/cm3)</th>\n",
       "      <th>Compressability_factor</th>\n",
       "      <th>fugacity_H2O</th>\n",
       "      <th>fugacity_CO2</th>\n",
       "      <th>activity_H2O</th>\n",
       "      <th>activity_CO2</th>\n",
       "    </tr>\n",
       "  </thead>\n",
       "  <tbody>\n",
       "    <tr>\n",
       "      <th>0</th>\n",
       "      <td>1.0</td>\n",
       "      <td>1200</td>\n",
       "      <td>0.0</td>\n",
       "      <td>1.0</td>\n",
       "      <td>127.742642</td>\n",
       "      <td>0.344443</td>\n",
       "      <td>1.280325</td>\n",
       "      <td>0.000000</td>\n",
       "      <td>1.291971</td>\n",
       "      <td>0.000000</td>\n",
       "      <td>0.999896</td>\n",
       "    </tr>\n",
       "    <tr>\n",
       "      <th>1</th>\n",
       "      <td>1.0</td>\n",
       "      <td>1200</td>\n",
       "      <td>0.1</td>\n",
       "      <td>0.9</td>\n",
       "      <td>125.333500</td>\n",
       "      <td>0.330319</td>\n",
       "      <td>1.256179</td>\n",
       "      <td>0.092807</td>\n",
       "      <td>1.163394</td>\n",
       "      <td>0.100803</td>\n",
       "      <td>0.900387</td>\n",
       "    </tr>\n",
       "    <tr>\n",
       "      <th>2</th>\n",
       "      <td>1.0</td>\n",
       "      <td>1200</td>\n",
       "      <td>0.2</td>\n",
       "      <td>0.8</td>\n",
       "      <td>122.709086</td>\n",
       "      <td>0.316195</td>\n",
       "      <td>1.229875</td>\n",
       "      <td>0.184619</td>\n",
       "      <td>1.035413</td>\n",
       "      <td>0.200527</td>\n",
       "      <td>0.801338</td>\n",
       "    </tr>\n",
       "    <tr>\n",
       "      <th>3</th>\n",
       "      <td>1.0</td>\n",
       "      <td>1200</td>\n",
       "      <td>0.3</td>\n",
       "      <td>0.7</td>\n",
       "      <td>119.872066</td>\n",
       "      <td>0.301989</td>\n",
       "      <td>1.201441</td>\n",
       "      <td>0.275810</td>\n",
       "      <td>0.907601</td>\n",
       "      <td>0.299575</td>\n",
       "      <td>0.702420</td>\n",
       "    </tr>\n",
       "    <tr>\n",
       "      <th>4</th>\n",
       "      <td>1.0</td>\n",
       "      <td>1200</td>\n",
       "      <td>0.4</td>\n",
       "      <td>0.6</td>\n",
       "      <td>116.823775</td>\n",
       "      <td>0.287613</td>\n",
       "      <td>1.170889</td>\n",
       "      <td>0.366695</td>\n",
       "      <td>0.779594</td>\n",
       "      <td>0.398292</td>\n",
       "      <td>0.603352</td>\n",
       "    </tr>\n",
       "    <tr>\n",
       "      <th>5</th>\n",
       "      <td>1.0</td>\n",
       "      <td>1200</td>\n",
       "      <td>0.5</td>\n",
       "      <td>0.5</td>\n",
       "      <td>113.564332</td>\n",
       "      <td>0.272973</td>\n",
       "      <td>1.138220</td>\n",
       "      <td>0.457534</td>\n",
       "      <td>0.651102</td>\n",
       "      <td>0.496958</td>\n",
       "      <td>0.503908</td>\n",
       "    </tr>\n",
       "    <tr>\n",
       "      <th>6</th>\n",
       "      <td>1.0</td>\n",
       "      <td>1200</td>\n",
       "      <td>0.6</td>\n",
       "      <td>0.4</td>\n",
       "      <td>110.092734</td>\n",
       "      <td>0.257964</td>\n",
       "      <td>1.103425</td>\n",
       "      <td>0.548517</td>\n",
       "      <td>0.521923</td>\n",
       "      <td>0.595780</td>\n",
       "      <td>0.403933</td>\n",
       "    </tr>\n",
       "    <tr>\n",
       "      <th>7</th>\n",
       "      <td>1.0</td>\n",
       "      <td>1200</td>\n",
       "      <td>0.7</td>\n",
       "      <td>0.3</td>\n",
       "      <td>106.406995</td>\n",
       "      <td>0.242465</td>\n",
       "      <td>1.066484</td>\n",
       "      <td>0.639744</td>\n",
       "      <td>0.391978</td>\n",
       "      <td>0.694869</td>\n",
       "      <td>0.303364</td>\n",
       "    </tr>\n",
       "    <tr>\n",
       "      <th>8</th>\n",
       "      <td>1.0</td>\n",
       "      <td>1200</td>\n",
       "      <td>0.8</td>\n",
       "      <td>0.2</td>\n",
       "      <td>102.504402</td>\n",
       "      <td>0.226332</td>\n",
       "      <td>1.027370</td>\n",
       "      <td>0.731194</td>\n",
       "      <td>0.261364</td>\n",
       "      <td>0.794198</td>\n",
       "      <td>0.202278</td>\n",
       "    </tr>\n",
       "    <tr>\n",
       "      <th>9</th>\n",
       "      <td>1.0</td>\n",
       "      <td>1200</td>\n",
       "      <td>0.9</td>\n",
       "      <td>0.1</td>\n",
       "      <td>98.382100</td>\n",
       "      <td>0.209388</td>\n",
       "      <td>0.986053</td>\n",
       "      <td>0.822653</td>\n",
       "      <td>0.130446</td>\n",
       "      <td>0.893538</td>\n",
       "      <td>0.100956</td>\n",
       "    </tr>\n",
       "    <tr>\n",
       "      <th>10</th>\n",
       "      <td>1.0</td>\n",
       "      <td>1200</td>\n",
       "      <td>1.0</td>\n",
       "      <td>0.0</td>\n",
       "      <td>94.038510</td>\n",
       "      <td>0.191411</td>\n",
       "      <td>0.942519</td>\n",
       "      <td>0.913619</td>\n",
       "      <td>0.000000</td>\n",
       "      <td>0.992342</td>\n",
       "      <td>0.000000</td>\n",
       "    </tr>\n",
       "    <tr>\n",
       "      <th>11</th>\n",
       "      <td>6.0</td>\n",
       "      <td>1500</td>\n",
       "      <td>0.0</td>\n",
       "      <td>1.0</td>\n",
       "      <td>51.927782</td>\n",
       "      <td>0.847331</td>\n",
       "      <td>2.498189</td>\n",
       "      <td>0.000000</td>\n",
       "      <td>25.525026</td>\n",
       "      <td>0.000000</td>\n",
       "      <td>1.018694</td>\n",
       "    </tr>\n",
       "    <tr>\n",
       "      <th>12</th>\n",
       "      <td>6.0</td>\n",
       "      <td>1500</td>\n",
       "      <td>0.1</td>\n",
       "      <td>0.9</td>\n",
       "      <td>50.329489</td>\n",
       "      <td>0.822579</td>\n",
       "      <td>2.421297</td>\n",
       "      <td>1.643880</td>\n",
       "      <td>22.561740</td>\n",
       "      <td>0.211076</td>\n",
       "      <td>0.900430</td>\n",
       "    </tr>\n",
       "    <tr>\n",
       "      <th>13</th>\n",
       "      <td>6.0</td>\n",
       "      <td>1500</td>\n",
       "      <td>0.2</td>\n",
       "      <td>0.8</td>\n",
       "      <td>48.670455</td>\n",
       "      <td>0.797198</td>\n",
       "      <td>2.341483</td>\n",
       "      <td>2.924605</td>\n",
       "      <td>19.907442</td>\n",
       "      <td>0.375522</td>\n",
       "      <td>0.794498</td>\n",
       "    </tr>\n",
       "    <tr>\n",
       "      <th>14</th>\n",
       "      <td>6.0</td>\n",
       "      <td>1500</td>\n",
       "      <td>0.3</td>\n",
       "      <td>0.7</td>\n",
       "      <td>46.941705</td>\n",
       "      <td>0.771169</td>\n",
       "      <td>2.258315</td>\n",
       "      <td>3.965587</td>\n",
       "      <td>17.448015</td>\n",
       "      <td>0.509186</td>\n",
       "      <td>0.696343</td>\n",
       "    </tr>\n",
       "    <tr>\n",
       "      <th>15</th>\n",
       "      <td>6.0</td>\n",
       "      <td>1500</td>\n",
       "      <td>0.4</td>\n",
       "      <td>0.6</td>\n",
       "      <td>45.132353</td>\n",
       "      <td>0.744477</td>\n",
       "      <td>2.171269</td>\n",
       "      <td>4.833831</td>\n",
       "      <td>15.116172</td>\n",
       "      <td>0.620669</td>\n",
       "      <td>0.603280</td>\n",
       "    </tr>\n",
       "    <tr>\n",
       "      <th>16</th>\n",
       "      <td>6.0</td>\n",
       "      <td>1500</td>\n",
       "      <td>0.5</td>\n",
       "      <td>0.5</td>\n",
       "      <td>43.228943</td>\n",
       "      <td>0.717112</td>\n",
       "      <td>2.079698</td>\n",
       "      <td>5.569565</td>\n",
       "      <td>12.864985</td>\n",
       "      <td>0.715138</td>\n",
       "      <td>0.513436</td>\n",
       "    </tr>\n",
       "    <tr>\n",
       "      <th>17</th>\n",
       "      <td>6.0</td>\n",
       "      <td>1500</td>\n",
       "      <td>0.6</td>\n",
       "      <td>0.4</td>\n",
       "      <td>41.214520</td>\n",
       "      <td>0.689078</td>\n",
       "      <td>1.982786</td>\n",
       "      <td>6.199318</td>\n",
       "      <td>10.653177</td>\n",
       "      <td>0.795999</td>\n",
       "      <td>0.425164</td>\n",
       "    </tr>\n",
       "    <tr>\n",
       "      <th>18</th>\n",
       "      <td>6.0</td>\n",
       "      <td>1500</td>\n",
       "      <td>0.7</td>\n",
       "      <td>0.3</td>\n",
       "      <td>39.067345</td>\n",
       "      <td>0.660398</td>\n",
       "      <td>1.879488</td>\n",
       "      <td>6.742995</td>\n",
       "      <td>8.431496</td>\n",
       "      <td>0.865807</td>\n",
       "      <td>0.336498</td>\n",
       "    </tr>\n",
       "    <tr>\n",
       "      <th>19</th>\n",
       "      <td>6.0</td>\n",
       "      <td>1500</td>\n",
       "      <td>0.8</td>\n",
       "      <td>0.2</td>\n",
       "      <td>36.759295</td>\n",
       "      <td>0.631133</td>\n",
       "      <td>1.768450</td>\n",
       "      <td>7.219574</td>\n",
       "      <td>6.118607</td>\n",
       "      <td>0.927001</td>\n",
       "      <td>0.244191</td>\n",
       "    </tr>\n",
       "    <tr>\n",
       "      <th>20</th>\n",
       "      <td>6.0</td>\n",
       "      <td>1500</td>\n",
       "      <td>0.9</td>\n",
       "      <td>0.1</td>\n",
       "      <td>34.254681</td>\n",
       "      <td>0.601378</td>\n",
       "      <td>1.647956</td>\n",
       "      <td>7.656770</td>\n",
       "      <td>3.529269</td>\n",
       "      <td>0.983137</td>\n",
       "      <td>0.140852</td>\n",
       "    </tr>\n",
       "    <tr>\n",
       "      <th>21</th>\n",
       "      <td>6.0</td>\n",
       "      <td>1500</td>\n",
       "      <td>1.0</td>\n",
       "      <td>0.0</td>\n",
       "      <td>31.513354</td>\n",
       "      <td>0.571186</td>\n",
       "      <td>1.516073</td>\n",
       "      <td>8.130543</td>\n",
       "      <td>0.000000</td>\n",
       "      <td>1.043970</td>\n",
       "      <td>0.000000</td>\n",
       "    </tr>\n",
       "    <tr>\n",
       "      <th>22</th>\n",
       "      <td>3.0</td>\n",
       "      <td>700</td>\n",
       "      <td>0.0</td>\n",
       "      <td>1.0</td>\n",
       "      <td>47.228783</td>\n",
       "      <td>0.931635</td>\n",
       "      <td>2.434420</td>\n",
       "      <td>0.000000</td>\n",
       "      <td>0.767808</td>\n",
       "      <td>0.000000</td>\n",
       "      <td>2.104822</td>\n",
       "    </tr>\n",
       "    <tr>\n",
       "      <th>23</th>\n",
       "      <td>3.0</td>\n",
       "      <td>700</td>\n",
       "      <td>0.1</td>\n",
       "      <td>0.9</td>\n",
       "      <td>44.807653</td>\n",
       "      <td>0.923949</td>\n",
       "      <td>2.309622</td>\n",
       "      <td>9.597241</td>\n",
       "      <td>0.485031</td>\n",
       "      <td>16.815683</td>\n",
       "      <td>1.329632</td>\n",
       "    </tr>\n",
       "    <tr>\n",
       "      <th>24</th>\n",
       "      <td>3.0</td>\n",
       "      <td>700</td>\n",
       "      <td>0.2</td>\n",
       "      <td>0.8</td>\n",
       "      <td>42.387981</td>\n",
       "      <td>0.915354</td>\n",
       "      <td>2.184900</td>\n",
       "      <td>11.289225</td>\n",
       "      <td>0.318517</td>\n",
       "      <td>19.780272</td>\n",
       "      <td>0.873162</td>\n",
       "    </tr>\n",
       "    <tr>\n",
       "      <th>25</th>\n",
       "      <td>3.0</td>\n",
       "      <td>700</td>\n",
       "      <td>0.3</td>\n",
       "      <td>0.7</td>\n",
       "      <td>39.963843</td>\n",
       "      <td>0.905819</td>\n",
       "      <td>2.059947</td>\n",
       "      <td>10.023957</td>\n",
       "      <td>0.221116</td>\n",
       "      <td>17.563349</td>\n",
       "      <td>0.606153</td>\n",
       "    </tr>\n",
       "    <tr>\n",
       "      <th>26</th>\n",
       "      <td>3.0</td>\n",
       "      <td>700</td>\n",
       "      <td>0.4</td>\n",
       "      <td>0.6</td>\n",
       "      <td>37.525880</td>\n",
       "      <td>0.895382</td>\n",
       "      <td>1.934282</td>\n",
       "      <td>8.060476</td>\n",
       "      <td>0.162324</td>\n",
       "      <td>14.123061</td>\n",
       "      <td>0.444986</td>\n",
       "    </tr>\n",
       "    <tr>\n",
       "      <th>27</th>\n",
       "      <td>3.0</td>\n",
       "      <td>700</td>\n",
       "      <td>0.5</td>\n",
       "      <td>0.5</td>\n",
       "      <td>35.060188</td>\n",
       "      <td>0.884194</td>\n",
       "      <td>1.807187</td>\n",
       "      <td>6.206518</td>\n",
       "      <td>0.124658</td>\n",
       "      <td>10.874672</td>\n",
       "      <td>0.341731</td>\n",
       "    </tr>\n",
       "    <tr>\n",
       "      <th>28</th>\n",
       "      <td>3.0</td>\n",
       "      <td>700</td>\n",
       "      <td>0.6</td>\n",
       "      <td>0.4</td>\n",
       "      <td>32.547714</td>\n",
       "      <td>0.872565</td>\n",
       "      <td>1.677681</td>\n",
       "      <td>4.668479</td>\n",
       "      <td>0.098442</td>\n",
       "      <td>8.179817</td>\n",
       "      <td>0.269863</td>\n",
       "    </tr>\n",
       "    <tr>\n",
       "      <th>29</th>\n",
       "      <td>3.0</td>\n",
       "      <td>700</td>\n",
       "      <td>0.7</td>\n",
       "      <td>0.3</td>\n",
       "      <td>29.965664</td>\n",
       "      <td>0.860985</td>\n",
       "      <td>1.544588</td>\n",
       "      <td>3.456037</td>\n",
       "      <td>0.078356</td>\n",
       "      <td>6.055451</td>\n",
       "      <td>0.214800</td>\n",
       "    </tr>\n",
       "    <tr>\n",
       "      <th>30</th>\n",
       "      <td>3.0</td>\n",
       "      <td>700</td>\n",
       "      <td>0.8</td>\n",
       "      <td>0.2</td>\n",
       "      <td>27.293641</td>\n",
       "      <td>0.850015</td>\n",
       "      <td>1.406858</td>\n",
       "      <td>2.564322</td>\n",
       "      <td>0.061970</td>\n",
       "      <td>4.493045</td>\n",
       "      <td>0.169880</td>\n",
       "    </tr>\n",
       "    <tr>\n",
       "      <th>31</th>\n",
       "      <td>3.0</td>\n",
       "      <td>700</td>\n",
       "      <td>0.9</td>\n",
       "      <td>0.1</td>\n",
       "      <td>24.526623</td>\n",
       "      <td>0.839904</td>\n",
       "      <td>1.264231</td>\n",
       "      <td>2.083509</td>\n",
       "      <td>0.047778</td>\n",
       "      <td>3.650593</td>\n",
       "      <td>0.130977</td>\n",
       "    </tr>\n",
       "    <tr>\n",
       "      <th>32</th>\n",
       "      <td>3.0</td>\n",
       "      <td>700</td>\n",
       "      <td>1.0</td>\n",
       "      <td>0.0</td>\n",
       "      <td>21.688972</td>\n",
       "      <td>0.829915</td>\n",
       "      <td>1.117964</td>\n",
       "      <td>1.347233</td>\n",
       "      <td>0.000000</td>\n",
       "      <td>2.360538</td>\n",
       "      <td>0.000000</td>\n",
       "    </tr>\n",
       "    <tr>\n",
       "      <th>33</th>\n",
       "      <td>10.0</td>\n",
       "      <td>2000</td>\n",
       "      <td>0.0</td>\n",
       "      <td>1.0</td>\n",
       "      <td>47.668268</td>\n",
       "      <td>0.923046</td>\n",
       "      <td>2.866586</td>\n",
       "      <td>0.000000</td>\n",
       "      <td>68.860824</td>\n",
       "      <td>0.000000</td>\n",
       "      <td>1.029763</td>\n",
       "    </tr>\n",
       "    <tr>\n",
       "      <th>34</th>\n",
       "      <td>10.0</td>\n",
       "      <td>2000</td>\n",
       "      <td>0.1</td>\n",
       "      <td>0.9</td>\n",
       "      <td>46.094266</td>\n",
       "      <td>0.898159</td>\n",
       "      <td>2.771931</td>\n",
       "      <td>2.698570</td>\n",
       "      <td>61.496068</td>\n",
       "      <td>0.142896</td>\n",
       "      <td>0.919628</td>\n",
       "    </tr>\n",
       "    <tr>\n",
       "      <th>35</th>\n",
       "      <td>10.0</td>\n",
       "      <td>2000</td>\n",
       "      <td>0.2</td>\n",
       "      <td>0.8</td>\n",
       "      <td>44.487811</td>\n",
       "      <td>0.872149</td>\n",
       "      <td>2.675325</td>\n",
       "      <td>5.085192</td>\n",
       "      <td>54.496724</td>\n",
       "      <td>0.269274</td>\n",
       "      <td>0.814958</td>\n",
       "    </tr>\n",
       "    <tr>\n",
       "      <th>36</th>\n",
       "      <td>10.0</td>\n",
       "      <td>2000</td>\n",
       "      <td>0.3</td>\n",
       "      <td>0.7</td>\n",
       "      <td>42.844666</td>\n",
       "      <td>0.844913</td>\n",
       "      <td>2.576513</td>\n",
       "      <td>7.247912</td>\n",
       "      <td>47.723415</td>\n",
       "      <td>0.383796</td>\n",
       "      <td>0.713668</td>\n",
       "    </tr>\n",
       "    <tr>\n",
       "      <th>37</th>\n",
       "      <td>10.0</td>\n",
       "      <td>2000</td>\n",
       "      <td>0.4</td>\n",
       "      <td>0.6</td>\n",
       "      <td>41.159920</td>\n",
       "      <td>0.816328</td>\n",
       "      <td>2.475199</td>\n",
       "      <td>9.241482</td>\n",
       "      <td>41.083636</td>\n",
       "      <td>0.489360</td>\n",
       "      <td>0.614375</td>\n",
       "    </tr>\n",
       "    <tr>\n",
       "      <th>38</th>\n",
       "      <td>10.0</td>\n",
       "      <td>2000</td>\n",
       "      <td>0.5</td>\n",
       "      <td>0.5</td>\n",
       "      <td>39.427927</td>\n",
       "      <td>0.786245</td>\n",
       "      <td>2.371044</td>\n",
       "      <td>11.102652</td>\n",
       "      <td>34.508197</td>\n",
       "      <td>0.587914</td>\n",
       "      <td>0.516045</td>\n",
       "    </tr>\n",
       "    <tr>\n",
       "      <th>39</th>\n",
       "      <td>10.0</td>\n",
       "      <td>2000</td>\n",
       "      <td>0.6</td>\n",
       "      <td>0.4</td>\n",
       "      <td>37.642345</td>\n",
       "      <td>0.754469</td>\n",
       "      <td>2.263666</td>\n",
       "      <td>12.858279</td>\n",
       "      <td>27.936705</td>\n",
       "      <td>0.680879</td>\n",
       "      <td>0.417773</td>\n",
       "    </tr>\n",
       "    <tr>\n",
       "      <th>40</th>\n",
       "      <td>10.0</td>\n",
       "      <td>2000</td>\n",
       "      <td>0.7</td>\n",
       "      <td>0.3</td>\n",
       "      <td>35.796451</td>\n",
       "      <td>0.720742</td>\n",
       "      <td>2.152661</td>\n",
       "      <td>14.530439</td>\n",
       "      <td>21.305583</td>\n",
       "      <td>0.769424</td>\n",
       "      <td>0.318609</td>\n",
       "    </tr>\n",
       "    <tr>\n",
       "      <th>41</th>\n",
       "      <td>10.0</td>\n",
       "      <td>2000</td>\n",
       "      <td>0.8</td>\n",
       "      <td>0.2</td>\n",
       "      <td>33.884189</td>\n",
       "      <td>0.684685</td>\n",
       "      <td>2.037665</td>\n",
       "      <td>16.140530</td>\n",
       "      <td>14.534200</td>\n",
       "      <td>0.854683</td>\n",
       "      <td>0.217348</td>\n",
       "    </tr>\n",
       "    <tr>\n",
       "      <th>42</th>\n",
       "      <td>10.0</td>\n",
       "      <td>2000</td>\n",
       "      <td>0.9</td>\n",
       "      <td>0.1</td>\n",
       "      <td>31.903068</td>\n",
       "      <td>0.645706</td>\n",
       "      <td>1.918528</td>\n",
       "      <td>17.713994</td>\n",
       "      <td>7.502761</td>\n",
       "      <td>0.938002</td>\n",
       "      <td>0.112198</td>\n",
       "    </tr>\n",
       "    <tr>\n",
       "      <th>43</th>\n",
       "      <td>10.0</td>\n",
       "      <td>2000</td>\n",
       "      <td>1.0</td>\n",
       "      <td>0.0</td>\n",
       "      <td>29.861649</td>\n",
       "      <td>0.602780</td>\n",
       "      <td>1.795764</td>\n",
       "      <td>19.289700</td>\n",
       "      <td>0.000000</td>\n",
       "      <td>1.021440</td>\n",
       "      <td>0.000000</td>\n",
       "    </tr>\n",
       "  </tbody>\n",
       "</table>\n",
       "</div>"
      ],
      "text/plain": [
       "    P_kbar   T_K  XH2O  XCO2  Molar Volume (cm3/mol)  Density (g/cm3)  \\\n",
       "0      1.0  1200   0.0   1.0              127.742642         0.344443   \n",
       "1      1.0  1200   0.1   0.9              125.333500         0.330319   \n",
       "2      1.0  1200   0.2   0.8              122.709086         0.316195   \n",
       "3      1.0  1200   0.3   0.7              119.872066         0.301989   \n",
       "4      1.0  1200   0.4   0.6              116.823775         0.287613   \n",
       "5      1.0  1200   0.5   0.5              113.564332         0.272973   \n",
       "6      1.0  1200   0.6   0.4              110.092734         0.257964   \n",
       "7      1.0  1200   0.7   0.3              106.406995         0.242465   \n",
       "8      1.0  1200   0.8   0.2              102.504402         0.226332   \n",
       "9      1.0  1200   0.9   0.1               98.382100         0.209388   \n",
       "10     1.0  1200   1.0   0.0               94.038510         0.191411   \n",
       "11     6.0  1500   0.0   1.0               51.927782         0.847331   \n",
       "12     6.0  1500   0.1   0.9               50.329489         0.822579   \n",
       "13     6.0  1500   0.2   0.8               48.670455         0.797198   \n",
       "14     6.0  1500   0.3   0.7               46.941705         0.771169   \n",
       "15     6.0  1500   0.4   0.6               45.132353         0.744477   \n",
       "16     6.0  1500   0.5   0.5               43.228943         0.717112   \n",
       "17     6.0  1500   0.6   0.4               41.214520         0.689078   \n",
       "18     6.0  1500   0.7   0.3               39.067345         0.660398   \n",
       "19     6.0  1500   0.8   0.2               36.759295         0.631133   \n",
       "20     6.0  1500   0.9   0.1               34.254681         0.601378   \n",
       "21     6.0  1500   1.0   0.0               31.513354         0.571186   \n",
       "22     3.0   700   0.0   1.0               47.228783         0.931635   \n",
       "23     3.0   700   0.1   0.9               44.807653         0.923949   \n",
       "24     3.0   700   0.2   0.8               42.387981         0.915354   \n",
       "25     3.0   700   0.3   0.7               39.963843         0.905819   \n",
       "26     3.0   700   0.4   0.6               37.525880         0.895382   \n",
       "27     3.0   700   0.5   0.5               35.060188         0.884194   \n",
       "28     3.0   700   0.6   0.4               32.547714         0.872565   \n",
       "29     3.0   700   0.7   0.3               29.965664         0.860985   \n",
       "30     3.0   700   0.8   0.2               27.293641         0.850015   \n",
       "31     3.0   700   0.9   0.1               24.526623         0.839904   \n",
       "32     3.0   700   1.0   0.0               21.688972         0.829915   \n",
       "33    10.0  2000   0.0   1.0               47.668268         0.923046   \n",
       "34    10.0  2000   0.1   0.9               46.094266         0.898159   \n",
       "35    10.0  2000   0.2   0.8               44.487811         0.872149   \n",
       "36    10.0  2000   0.3   0.7               42.844666         0.844913   \n",
       "37    10.0  2000   0.4   0.6               41.159920         0.816328   \n",
       "38    10.0  2000   0.5   0.5               39.427927         0.786245   \n",
       "39    10.0  2000   0.6   0.4               37.642345         0.754469   \n",
       "40    10.0  2000   0.7   0.3               35.796451         0.720742   \n",
       "41    10.0  2000   0.8   0.2               33.884189         0.684685   \n",
       "42    10.0  2000   0.9   0.1               31.903068         0.645706   \n",
       "43    10.0  2000   1.0   0.0               29.861649         0.602780   \n",
       "\n",
       "    Compressability_factor  fugacity_H2O  fugacity_CO2  activity_H2O  \\\n",
       "0                 1.280325      0.000000      1.291971      0.000000   \n",
       "1                 1.256179      0.092807      1.163394      0.100803   \n",
       "2                 1.229875      0.184619      1.035413      0.200527   \n",
       "3                 1.201441      0.275810      0.907601      0.299575   \n",
       "4                 1.170889      0.366695      0.779594      0.398292   \n",
       "5                 1.138220      0.457534      0.651102      0.496958   \n",
       "6                 1.103425      0.548517      0.521923      0.595780   \n",
       "7                 1.066484      0.639744      0.391978      0.694869   \n",
       "8                 1.027370      0.731194      0.261364      0.794198   \n",
       "9                 0.986053      0.822653      0.130446      0.893538   \n",
       "10                0.942519      0.913619      0.000000      0.992342   \n",
       "11                2.498189      0.000000     25.525026      0.000000   \n",
       "12                2.421297      1.643880     22.561740      0.211076   \n",
       "13                2.341483      2.924605     19.907442      0.375522   \n",
       "14                2.258315      3.965587     17.448015      0.509186   \n",
       "15                2.171269      4.833831     15.116172      0.620669   \n",
       "16                2.079698      5.569565     12.864985      0.715138   \n",
       "17                1.982786      6.199318     10.653177      0.795999   \n",
       "18                1.879488      6.742995      8.431496      0.865807   \n",
       "19                1.768450      7.219574      6.118607      0.927001   \n",
       "20                1.647956      7.656770      3.529269      0.983137   \n",
       "21                1.516073      8.130543      0.000000      1.043970   \n",
       "22                2.434420      0.000000      0.767808      0.000000   \n",
       "23                2.309622      9.597241      0.485031     16.815683   \n",
       "24                2.184900     11.289225      0.318517     19.780272   \n",
       "25                2.059947     10.023957      0.221116     17.563349   \n",
       "26                1.934282      8.060476      0.162324     14.123061   \n",
       "27                1.807187      6.206518      0.124658     10.874672   \n",
       "28                1.677681      4.668479      0.098442      8.179817   \n",
       "29                1.544588      3.456037      0.078356      6.055451   \n",
       "30                1.406858      2.564322      0.061970      4.493045   \n",
       "31                1.264231      2.083509      0.047778      3.650593   \n",
       "32                1.117964      1.347233      0.000000      2.360538   \n",
       "33                2.866586      0.000000     68.860824      0.000000   \n",
       "34                2.771931      2.698570     61.496068      0.142896   \n",
       "35                2.675325      5.085192     54.496724      0.269274   \n",
       "36                2.576513      7.247912     47.723415      0.383796   \n",
       "37                2.475199      9.241482     41.083636      0.489360   \n",
       "38                2.371044     11.102652     34.508197      0.587914   \n",
       "39                2.263666     12.858279     27.936705      0.680879   \n",
       "40                2.152661     14.530439     21.305583      0.769424   \n",
       "41                2.037665     16.140530     14.534200      0.854683   \n",
       "42                1.918528     17.713994      7.502761      0.938002   \n",
       "43                1.795764     19.289700      0.000000      1.021440   \n",
       "\n",
       "    activity_CO2  \n",
       "0       0.999896  \n",
       "1       0.900387  \n",
       "2       0.801338  \n",
       "3       0.702420  \n",
       "4       0.603352  \n",
       "5       0.503908  \n",
       "6       0.403933  \n",
       "7       0.303364  \n",
       "8       0.202278  \n",
       "9       0.100956  \n",
       "10      0.000000  \n",
       "11      1.018694  \n",
       "12      0.900430  \n",
       "13      0.794498  \n",
       "14      0.696343  \n",
       "15      0.603280  \n",
       "16      0.513436  \n",
       "17      0.425164  \n",
       "18      0.336498  \n",
       "19      0.244191  \n",
       "20      0.140852  \n",
       "21      0.000000  \n",
       "22      2.104822  \n",
       "23      1.329632  \n",
       "24      0.873162  \n",
       "25      0.606153  \n",
       "26      0.444986  \n",
       "27      0.341731  \n",
       "28      0.269863  \n",
       "29      0.214800  \n",
       "30      0.169880  \n",
       "31      0.130977  \n",
       "32      0.000000  \n",
       "33      1.029763  \n",
       "34      0.919628  \n",
       "35      0.814958  \n",
       "36      0.713668  \n",
       "37      0.614375  \n",
       "38      0.516045  \n",
       "39      0.417773  \n",
       "40      0.318609  \n",
       "41      0.217348  \n",
       "42      0.112198  \n",
       "43      0.000000  "
      ]
     },
     "execution_count": 16,
     "metadata": {},
     "output_type": "execute_result"
    }
   ],
   "source": [
    "df=pf.H2O_CO2_EOS_DZ2006_knownP(P_kbar=df_C['P (bar)']/1000, T_K=df_C['T (K)'], XH2O=1-df_C['yCO2'])\n",
    "df"
   ]
  },
  {
   "cell_type": "code",
   "execution_count": null,
   "metadata": {},
   "outputs": [],
   "source": [
    "          \n",
    "    # 'T_K': T_K,\n",
    "    # 'P_kbar': P_kbar,\n",
    "    # 'XH2O': XH2O,\n",
    "    #\n",
    "    \n"
   ]
  },
  {
   "cell_type": "code",
   "execution_count": null,
   "metadata": {},
   "outputs": [
    {
     "data": {
      "text/plain": [
       "1.2803246036897693"
      ]
     },
     "execution_count": 18,
     "metadata": {},
     "output_type": "execute_result"
    }
   ],
   "source": [
    "Zmix"
   ]
  },
  {
   "cell_type": "code",
   "execution_count": null,
   "metadata": {},
   "outputs": [
    {
     "ename": "NameError",
     "evalue": "name 'f' is not defined",
     "output_type": "error",
     "traceback": [
      "\u001b[1;31m---------------------------------------------------------------------------\u001b[0m",
      "\u001b[1;31mNameError\u001b[0m                                 Traceback (most recent call last)",
      "\u001b[1;32mc:\\Users\\penny\\Box\\Berkeley_new\\DiadFit_outer\\Benchmarking\\COS_H2O_EOS_DZ2006\\Benchmark_Duan_Zhang_2006.ipynb Cell 19\u001b[0m line \u001b[0;36m1\n\u001b[1;32m----> <a href='vscode-notebook-cell:/c%3A/Users/penny/Box/Berkeley_new/DiadFit_outer/Benchmarking/COS_H2O_EOS_DZ2006/Benchmark_Duan_Zhang_2006.ipynb#X14sZmlsZQ%3D%3D?line=0'>1</a>\u001b[0m f[\u001b[39m0\u001b[39m]\n",
      "\u001b[1;31mNameError\u001b[0m: name 'f' is not defined"
     ]
    }
   ],
   "source": [
    "f[0]"
   ]
  },
  {
   "cell_type": "code",
   "execution_count": null,
   "metadata": {},
   "outputs": [
    {
     "data": {
      "text/plain": [
       "1.2919713857921094"
      ]
     },
     "execution_count": 12,
     "metadata": {},
     "output_type": "execute_result"
    }
   ],
   "source": [
    "f[1]"
   ]
  },
  {
   "cell_type": "code",
   "execution_count": null,
   "metadata": {},
   "outputs": [
    {
     "data": {
      "text/plain": [
       "[0.0008619862091303538, 0.0008243032303709376]"
      ]
     },
     "execution_count": 6,
     "metadata": {},
     "output_type": "execute_result"
    }
   ],
   "source": [
    "phi"
   ]
  },
  {
   "cell_type": "code",
   "execution_count": null,
   "metadata": {},
   "outputs": [
    {
     "ename": "NameError",
     "evalue": "name 'df_C' is not defined",
     "output_type": "error",
     "traceback": [
      "\u001b[1;31m---------------------------------------------------------------------------\u001b[0m",
      "\u001b[1;31mNameError\u001b[0m                                 Traceback (most recent call last)",
      "\u001b[1;32mc:\\Users\\penny\\Box\\Berkeley_new\\DiadFit_outer\\Benchmarking\\COS_H2O_EOS_DZ2006\\Benchmark_Duan_Zhang_2006.ipynb Cell 7\u001b[0m line \u001b[0;36m2\n\u001b[0;32m      <a href='vscode-notebook-cell:/c%3A/Users/penny/Box/Berkeley_new/DiadFit_outer/Benchmarking/COS_H2O_EOS_DZ2006/Benchmark_Duan_Zhang_2006.ipynb#X15sZmlsZQ%3D%3D?line=0'>1</a>\u001b[0m \u001b[39m# Calculating molar volume\u001b[39;00m\n\u001b[1;32m----> <a href='vscode-notebook-cell:/c%3A/Users/penny/Box/Berkeley_new/DiadFit_outer/Benchmarking/COS_H2O_EOS_DZ2006/Benchmark_Duan_Zhang_2006.ipynb#X15sZmlsZQ%3D%3D?line=1'>2</a>\u001b[0m mol_vol\u001b[39m=\u001b[39mpf\u001b[39m.\u001b[39mcalculate_molar_volume_DZ2006(P_kbar\u001b[39m=\u001b[39mdf_C[\u001b[39m'\u001b[39m\u001b[39mP (bar)\u001b[39m\u001b[39m'\u001b[39m]\u001b[39m/\u001b[39m\u001b[39m1000\u001b[39m, T_K\u001b[39m=\u001b[39mdf_C[\u001b[39m'\u001b[39m\u001b[39mT (K)\u001b[39m\u001b[39m'\u001b[39m], XH2O\u001b[39m=\u001b[39m\u001b[39m1\u001b[39m\u001b[39m-\u001b[39mdf_C[\u001b[39m'\u001b[39m\u001b[39myCO2\u001b[39m\u001b[39m'\u001b[39m])\n\u001b[0;32m      <a href='vscode-notebook-cell:/c%3A/Users/penny/Box/Berkeley_new/DiadFit_outer/Benchmarking/COS_H2O_EOS_DZ2006/Benchmark_Duan_Zhang_2006.ipynb#X15sZmlsZQ%3D%3D?line=2'>3</a>\u001b[0m \u001b[39m# Calculating activity of CO2 and H2O, fugacity, and \u001b[39;00m\n\u001b[0;32m      <a href='vscode-notebook-cell:/c%3A/Users/penny/Box/Berkeley_new/DiadFit_outer/Benchmarking/COS_H2O_EOS_DZ2006/Benchmark_Duan_Zhang_2006.ipynb#X15sZmlsZQ%3D%3D?line=3'>4</a>\u001b[0m f, activity, phi\u001b[39m=\u001b[39mpf\u001b[39m.\u001b[39mmix_fugacity_ind(P_kbar\u001b[39m=\u001b[39m\u001b[39m1000\u001b[39m, T_K\u001b[39m=\u001b[39m\u001b[39m1200\u001b[39m, XH2O\u001b[39m=\u001b[39m\u001b[39m0\u001b[39m, Vmix\u001b[39m=\u001b[39m\u001b[39m127.7426\u001b[39m)\n",
      "\u001b[1;31mNameError\u001b[0m: name 'df_C' is not defined"
     ]
    }
   ],
   "source": [
    "# Calculating molar volume\n",
    "mol_vol=pf.calculate_molar_volume_DZ2006(P_kbar=df_C['P (bar)']/1000, T_K=df_C['T (K)'], XH2O=1-df_C['yCO2'])\n",
    "# Calculating activity of CO2 and H2O, fugacity, and \n",
    "f, activity, phi=pf.mix_fugacity_ind(P_kbar=1000, T_K=1200, XH2O=0, Vmix=127.7426)\n",
    "activity_CO2=activity[1]\n",
    "activity_H2O=activity[0]\n"
   ]
  },
  {
   "cell_type": "markdown",
   "metadata": {},
   "source": [
    "## Load in data from the C code to check"
   ]
  },
  {
   "cell_type": "code",
   "execution_count": null,
   "metadata": {},
   "outputs": [
    {
     "data": {
      "text/html": [
       "<div>\n",
       "<style scoped>\n",
       "    .dataframe tbody tr th:only-of-type {\n",
       "        vertical-align: middle;\n",
       "    }\n",
       "\n",
       "    .dataframe tbody tr th {\n",
       "        vertical-align: top;\n",
       "    }\n",
       "\n",
       "    .dataframe thead th {\n",
       "        text-align: right;\n",
       "    }\n",
       "</style>\n",
       "<table border=\"1\" class=\"dataframe\">\n",
       "  <thead>\n",
       "    <tr style=\"text-align: right;\">\n",
       "      <th></th>\n",
       "      <th>P (bar)</th>\n",
       "      <th>T (K)</th>\n",
       "      <th>yCO2</th>\n",
       "      <th>Vm (cm3/mol)</th>\n",
       "      <th>Z</th>\n",
       "      <th>fH2O (kbar)</th>\n",
       "      <th>fCO2 (kbar)</th>\n",
       "      <th>aH2O</th>\n",
       "      <th>aCO2</th>\n",
       "    </tr>\n",
       "  </thead>\n",
       "  <tbody>\n",
       "    <tr>\n",
       "      <th>0</th>\n",
       "      <td>1000</td>\n",
       "      <td>1200</td>\n",
       "      <td>1.0</td>\n",
       "      <td>127.7426</td>\n",
       "      <td>1.2803</td>\n",
       "      <td>0.000</td>\n",
       "      <td>1.292</td>\n",
       "      <td>0.0000</td>\n",
       "      <td>1.0000</td>\n",
       "    </tr>\n",
       "    <tr>\n",
       "      <th>1</th>\n",
       "      <td>1000</td>\n",
       "      <td>1200</td>\n",
       "      <td>0.9</td>\n",
       "      <td>125.3335</td>\n",
       "      <td>1.2562</td>\n",
       "      <td>0.093</td>\n",
       "      <td>1.163</td>\n",
       "      <td>0.1010</td>\n",
       "      <td>0.9003</td>\n",
       "    </tr>\n",
       "    <tr>\n",
       "      <th>2</th>\n",
       "      <td>1000</td>\n",
       "      <td>1200</td>\n",
       "      <td>0.8</td>\n",
       "      <td>122.7091</td>\n",
       "      <td>1.2299</td>\n",
       "      <td>0.185</td>\n",
       "      <td>1.035</td>\n",
       "      <td>0.2009</td>\n",
       "      <td>0.8009</td>\n",
       "    </tr>\n",
       "    <tr>\n",
       "      <th>3</th>\n",
       "      <td>1000</td>\n",
       "      <td>1200</td>\n",
       "      <td>0.7</td>\n",
       "      <td>119.8721</td>\n",
       "      <td>1.2014</td>\n",
       "      <td>0.277</td>\n",
       "      <td>0.907</td>\n",
       "      <td>0.3003</td>\n",
       "      <td>0.7016</td>\n",
       "    </tr>\n",
       "    <tr>\n",
       "      <th>4</th>\n",
       "      <td>1000</td>\n",
       "      <td>1200</td>\n",
       "      <td>0.6</td>\n",
       "      <td>116.8238</td>\n",
       "      <td>1.1709</td>\n",
       "      <td>0.368</td>\n",
       "      <td>0.778</td>\n",
       "      <td>0.3995</td>\n",
       "      <td>0.6021</td>\n",
       "    </tr>\n",
       "  </tbody>\n",
       "</table>\n",
       "</div>"
      ],
      "text/plain": [
       "   P (bar)  T (K)  yCO2  Vm (cm3/mol)       Z  fH2O (kbar)  fCO2 (kbar)  \\\n",
       "0     1000   1200   1.0      127.7426  1.2803        0.000        1.292   \n",
       "1     1000   1200   0.9      125.3335  1.2562        0.093        1.163   \n",
       "2     1000   1200   0.8      122.7091  1.2299        0.185        1.035   \n",
       "3     1000   1200   0.7      119.8721  1.2014        0.277        0.907   \n",
       "4     1000   1200   0.6      116.8238  1.1709        0.368        0.778   \n",
       "\n",
       "     aH2O    aCO2  \n",
       "0  0.0000  1.0000  \n",
       "1  0.1010  0.9003  \n",
       "2  0.2009  0.8009  \n",
       "3  0.3003  0.7016  \n",
       "4  0.3995  0.6021  "
      ]
     },
     "execution_count": 3,
     "metadata": {},
     "output_type": "execute_result"
    }
   ],
   "source": [
    "df_C=pd.read_excel('Duan_Zhang_2006_C_Code.xlsx', sheet_name='Sheet1')\n",
    "df_C.head()"
   ]
  },
  {
   "cell_type": "code",
   "execution_count": null,
   "metadata": {},
   "outputs": [],
   "source": [
    "## Now lets calculate fugacity. \n"
   ]
  },
  {
   "cell_type": "markdown",
   "metadata": {},
   "source": [
    "### 1. Checking molar volumes for various pressures and XH2O"
   ]
  },
  {
   "cell_type": "code",
   "execution_count": null,
   "metadata": {},
   "outputs": [
    {
     "data": {
      "text/plain": [
       "Text(0, 0.5, 'residual (Molar Volume C - DiadFit) ')"
      ]
     },
     "execution_count": 5,
     "metadata": {},
     "output_type": "execute_result"
    },
    {
     "data": {
      "image/png": "[encoded data removed]",
      "text/plain": [
       "<Figure size 800x400 with 2 Axes>"
      ]
     },
     "metadata": {},
     "output_type": "display_data"
    }
   ],
   "source": [
    "diadf_mol_vols=pf.calculate_molar_volume_DZ2006(P_kbar=df_C['P (bar)']/1000, T_K=df_C['T (K)'], XH2O=1-df_C['yCO2'])\n",
    "fig, (ax1, ax2) = plt.subplots(1, 2, figsize=(8,4))\n",
    "plt.suptitle('Comparing molar volumes')\n",
    "ax1.plot(df_C['Vm (cm3/mol)'], diadf_mol_vols, '.k')\n",
    "ax1.plot([0, 130], [0, 130], '-r')\n",
    "ax2.plot(df_C['Vm (cm3/mol)'], df_C['Vm (cm3/mol)']-diadf_mol_vols, '.r')\n",
    "ax1.set_xlabel('Molar Volume C Code')\n",
    "ax1.set_ylabel('Molar Volume (DiadFit)')\n",
    "ax2.set_xlabel('Molar Volume C Code')\n",
    "ax2.set_ylabel('residual (Molar Volume C - DiadFit) ')\n",
    " "
   ]
  },
  {
   "cell_type": "markdown",
   "metadata": {},
   "source": [
    "## Calculate molar volume (individual calcs)"
   ]
  },
  {
   "cell_type": "code",
   "execution_count": null,
   "metadata": {},
   "outputs": [
    {
     "ename": "AttributeError",
     "evalue": "module 'DiadFit' has no attribute 'calculate_molar_volume_ind'",
     "output_type": "error",
     "traceback": [
      "\u001b[1;31m---------------------------------------------------------------------------\u001b[0m",
      "\u001b[1;31mAttributeError\u001b[0m                            Traceback (most recent call last)",
      "\u001b[1;32mc:\\Users\\penny\\Box\\Berkeley_new\\DiadFit_outer\\Benchmarking\\COS_H2O_EOS_DZ2006\\Benchmark_Duan_Zhang_2006.ipynb Cell 9\u001b[0m line \u001b[0;36m1\n\u001b[1;32m----> <a href='vscode-notebook-cell:/c%3A/Users/penny/Box/Berkeley_new/DiadFit_outer/Benchmarking/COS_H2O_EOS_DZ2006/Benchmark_Duan_Zhang_2006.ipynb#W2sZmlsZQ%3D%3D?line=0'>1</a>\u001b[0m vol_CO2\u001b[39m=\u001b[39mpf\u001b[39m.\u001b[39mcalculate_molar_volume_ind(P_kbar\u001b[39m=\u001b[39m\u001b[39m1\u001b[39m, T_K\u001b[39m=\u001b[39m\u001b[39m1200\u001b[39m, XH2O\u001b[39m=\u001b[39m\u001b[39m0\u001b[39m)\n\u001b[0;32m      <a href='vscode-notebook-cell:/c%3A/Users/penny/Box/Berkeley_new/DiadFit_outer/Benchmarking/COS_H2O_EOS_DZ2006/Benchmark_Duan_Zhang_2006.ipynb#W2sZmlsZQ%3D%3D?line=1'>2</a>\u001b[0m vol_H2O\u001b[39m=\u001b[39mpf\u001b[39m.\u001b[39mcalculate_molar_volume_ind(P_kbar\u001b[39m=\u001b[39m\u001b[39m1\u001b[39m, T_K\u001b[39m=\u001b[39m\u001b[39m1200\u001b[39m, XH2O\u001b[39m=\u001b[39m\u001b[39m1\u001b[39m)\n\u001b[0;32m      <a href='vscode-notebook-cell:/c%3A/Users/penny/Box/Berkeley_new/DiadFit_outer/Benchmarking/COS_H2O_EOS_DZ2006/Benchmark_Duan_Zhang_2006.ipynb#W2sZmlsZQ%3D%3D?line=2'>3</a>\u001b[0m \u001b[39mprint\u001b[39m(\u001b[39m'\u001b[39m\u001b[39mCO2 Diff between App and my calcs\u001b[39m\u001b[39m'\u001b[39m)\n",
      "\u001b[1;31mAttributeError\u001b[0m: module 'DiadFit' has no attribute 'calculate_molar_volume_ind'"
     ]
    }
   ],
   "source": [
    "vol_CO2=pf.calculate_molar_volume_ind(P_kbar=1, T_K=1200, XH2O=0)\n",
    "vol_H2O=pf.calculate_molar_volume_ind(P_kbar=1, T_K=1200, XH2O=1)\n",
    "print('CO2 Diff between App and my calcs')\n",
    "print(vol_CO2-127.7426)\n",
    "print('H2O Diff')\n",
    "print(vol_H2O-94.0385)"
   ]
  },
  {
   "cell_type": "code",
   "execution_count": null,
   "metadata": {},
   "outputs": [
    {
     "data": {
      "text/plain": [
       "113.56433175387906"
      ]
     },
     "execution_count": 4,
     "metadata": {},
     "output_type": "execute_result"
    }
   ],
   "source": [
    "vol_mix=pf.calculate_molar_volume_ind(P_kbar=1, T_K=1200, XH2O=0.5)\n",
    "vol_mix"
   ]
  }
 ],
 "metadata": {
  "kernelspec": {
   "display_name": "base",
   "language": "python",
   "name": "python3"
  },
  "language_info": {
   "codemirror_mode": {
    "name": "ipython",
    "version": 3
   },
   "file_extension": ".py",
   "mimetype": "text/x-python",
   "name": "python",
   "nbconvert_exporter": "python",
   "pygments_lexer": "ipython3",
   "version": "3.11.5"
  }
 },
 "nbformat": 4,
 "nbformat_minor": 2
}
