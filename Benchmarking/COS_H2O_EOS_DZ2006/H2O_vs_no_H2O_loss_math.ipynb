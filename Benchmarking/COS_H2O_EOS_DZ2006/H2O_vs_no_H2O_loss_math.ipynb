{
 "cells": [
  {
   "cell_type": "markdown",
   "metadata": {},
   "source": [
    "### Math behind CO2-H2O EOS calculations"
   ]
  },
  {
   "cell_type": "code",
   "execution_count": 5,
   "metadata": {},
   "outputs": [
    {
     "data": {
      "text/plain": [
       "'0.0.90'"
      ]
     },
     "execution_count": 5,
     "metadata": {},
     "output_type": "execute_result"
    }
   ],
   "source": [
    "import DiadFit as pf\n",
    "import numpy as np\n",
    "import pandas as pd\n",
    "import matplotlib.pyplot as plt\n",
    "import math\n",
    "pf.__version__"
   ]
  },
  {
   "cell_type": "code",
   "execution_count": 6,
   "metadata": {},
   "outputs": [
    {
     "name": "stdout",
     "output_type": "stream",
     "text": [
      "P_entrap_DZ06_Pure=155.38132159057656\n",
      "P_entrap_SP94_Pure=159.8493703055503\n",
      "P_entrap_SW95_Pure=155.97374302545592\n"
     ]
    }
   ],
   "source": [
    "# Mol proportion of XH2O in the fluid\n",
    "XH2O=0.1\n",
    "# Measured density of CO2 from microthermometry/Raman\n",
    "rho_CO2=0.4\n",
    "# Temperature of entrapment\n",
    "T_entrap=1200+273.15\n",
    "# Entrapment P using Duan and Zhang (2006) pure CO2 EOS\n",
    "P_entrap_DZ06_Pure=pf.calculate_P_for_rho_T(CO2_dens_gcm3=rho_CO2, T_K=T_entrap, EOS='DZ06')\n",
    "print('P_entrap_DZ06_Pure='+str(P_entrap_DZ06_Pure['P_MPa'][0]))\n",
    "# Entrapment P using SP94\n",
    "P_entrap_SP94_Pure=pf.calculate_P_for_rho_T(CO2_dens_gcm3=rho_CO2, T_K=T_entrap, EOS='SP94')\n",
    "print('P_entrap_SP94_Pure='+str(P_entrap_SP94_Pure['P_MPa'][0]))\n",
    "# Entrapment P using SW96\n",
    "P_entrap_SW95_Pure=pf.calculate_P_for_rho_T(CO2_dens_gcm3=rho_CO2, T_K=T_entrap, EOS='SW96')\n",
    "print('P_entrap_SW95_Pure='+str(P_entrap_SW95_Pure['P_MPa'][0]))\n"
   ]
  },
  {
   "cell_type": "code",
   "execution_count": 19,
   "metadata": {},
   "outputs": [
    {
     "name": "stdout",
     "output_type": "stream",
     "text": [
      "alpha=0.11111111111111112\n",
      "rho_bulk = 0.4181818181818182\n",
      "P_DZ06=178.52406258042566\n"
     ]
    }
   ],
   "source": [
    "## Lets do the All H2O loss scenario\n",
    "alpha=(XH2O)/(1-XH2O)\n",
    "print('alpha='+str(alpha))\n",
    "rho_bulk=rho_CO2*(1+alpha*(18/44))\n",
    "print('rho_bulk = ' + str(rho_bulk))\n",
    "## Now lets get pressure\n",
    "P_DZ06=pf.calculate_Pressure_DZ2006(density=rho_bulk, T_K=T_entrap, XH2O=XH2O)/10\n",
    "print('P_DZ06='+str(P_DZ06[0]))"
   ]
  },
  {
   "cell_type": "code",
   "execution_count": 23,
   "metadata": {},
   "outputs": [
    {
     "name": "stdout",
     "output_type": "stream",
     "text": [
      "Press CO2 (MPa) =8.261420808581601\n",
      "PTot=9.179356453979556\n",
      "PH2O (MPa)=0.9179356453979557\n",
      "H2O_dens (g/cm3)=0.9936891524851017\n",
      "XH2O mass=0.04347826086956522\n",
      "Original Density=0.4106677121292326\n"
     ]
    }
   ],
   "source": [
    "## Lets do the no H2O loss scenario\n",
    "T_ambient=37+273.15\n",
    "Press_CO2=pf.calculate_P_for_rho_T_SW96(CO2_dens_gcm3=rho_CO2, T_K=T_ambient)['P_kbar'][0]*100\n",
    "print('Press CO2 (MPa) ='+ str(Press_CO2))\n",
    "# Now lets calculate PTot using the law of partial pressures\n",
    "PTot=Press_CO2/(1-XH2O)\n",
    "print('PTot='+str(PTot))\n",
    "# And now lets calculate PH2O\n",
    "PH2O=PTot*XH2O\n",
    "print('PH2O (MPa)='+str(PH2O))\n",
    "# Using a pure H2O EOS at 37C - convert MPa to kbar by dividing by 100\n",
    "rho_H2O=pf.calculate_rho_for_P_T_H2O(P_kbar=PH2O/100,T_K=T_ambient)\n",
    "print('H2O_dens (g/cm3)='+str(rho_H2O[0]))\n",
    "# Calculate mass ratio of H2O in fluid\n",
    "XH2O_mass=(XH2O*18)/((1-XH2O)*44 +(XH2O*18))\n",
    "print('XH2O mass=' + str(XH2O_mass))\n",
    "# Calculate bulk density\n",
    "rho_orig_no_H_loss=(rho_CO2*rho_H2O)/((1-XH2O_mass)*rho_H2O+XH2O_mass*rho_CO2)\n",
    "print('Original Density=' + str(rho_orig_no_H_loss[0]))"
   ]
  },
  {
   "cell_type": "code",
   "execution_count": 24,
   "metadata": {},
   "outputs": [
    {
     "name": "stdout",
     "output_type": "stream",
     "text": [
      "P no H2O loss=173.71918178467965\n"
     ]
    }
   ],
   "source": [
    "## Now finally we can calculate pressure\n",
    "P_noH2Oloss=pf.calculate_Pressure_DZ2006(density=rho_orig_no_H_loss, T_K=T_entrap, XH2O=XH2O)/10\n",
    "print('P no H2O loss='+str(P_noH2Oloss[0]))"
   ]
  },
  {
   "cell_type": "code",
   "execution_count": 22,
   "metadata": {},
   "outputs": [
    {
     "data": {
      "text/plain": [
       "0.043478260869565216"
      ]
     },
     "execution_count": 22,
     "metadata": {},
     "output_type": "execute_result"
    }
   ],
   "source": [
    "## Conversion of mol fraction to mass fraction. Imagine we have 100 moles, 90 are CO2, 10 are H2O\n",
    "massH2O=10*18\n",
    "massCO2=90*44\n",
    "mass_frac_H2O=massH2O/(massH2O+massCO2)\n",
    "mass_frac_H2O"
   ]
  }
 ],
 "metadata": {
  "kernelspec": {
   "display_name": "base",
   "language": "python",
   "name": "python3"
  },
  "language_info": {
   "codemirror_mode": {
    "name": "ipython",
    "version": 3
   },
   "file_extension": ".py",
   "mimetype": "text/x-python",
   "name": "python",
   "nbconvert_exporter": "python",
   "pygments_lexer": "ipython3",
   "version": "3.11.5"
  }
 },
 "nbformat": 4,
 "nbformat_minor": 2
}
