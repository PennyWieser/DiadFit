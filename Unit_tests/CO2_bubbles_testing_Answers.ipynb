{
 "cells": [
  {
   "cell_type": "code",
   "execution_count": 2,
   "metadata": {},
   "outputs": [],
   "source": [
    "import DiadFit as pf\n",
    "import pandas as pd\n",
    "import numpy as np"
   ]
  },
  {
   "cell_type": "code",
   "execution_count": 12,
   "metadata": {},
   "outputs": [
    {
     "data": {
      "text/html": [
       "<div>\n",
       "<style scoped>\n",
       "    .dataframe tbody tr th:only-of-type {\n",
       "        vertical-align: middle;\n",
       "    }\n",
       "\n",
       "    .dataframe tbody tr th {\n",
       "        vertical-align: top;\n",
       "    }\n",
       "\n",
       "    .dataframe thead th {\n",
       "        text-align: right;\n",
       "    }\n",
       "</style>\n",
       "<table border=\"1\" class=\"dataframe\">\n",
       "  <thead>\n",
       "    <tr style=\"text-align: right;\">\n",
       "      <th></th>\n",
       "      <th>CO2_eq_melt_ppm_MC</th>\n",
       "      <th>CO2_eq_melt_ppm_noMC</th>\n",
       "      <th>vol_perc_bub_with_noise</th>\n",
       "      <th>CO2_bub_dens_gcm3_with_noise</th>\n",
       "      <th>melt_dens_kgm3_with_noise</th>\n",
       "      <th>vol_perc_bub</th>\n",
       "      <th>CO2_bub_dens_gcm3</th>\n",
       "      <th>Absolute_error_Vol</th>\n",
       "      <th>error_type_vol_perc_bub</th>\n",
       "      <th>error_dist_Vol</th>\n",
       "      <th>error_CO2_bub_dens_gcm3</th>\n",
       "      <th>error_type_CO2_bub_dens_gcm3</th>\n",
       "      <th>error_dist_CO2_bub_dens_gcm3</th>\n",
       "    </tr>\n",
       "  </thead>\n",
       "  <tbody>\n",
       "    <tr>\n",
       "      <th>0</th>\n",
       "      <td>3367.800453</td>\n",
       "      <td>1851.851852</td>\n",
       "      <td>8.101532</td>\n",
       "      <td>0.115741</td>\n",
       "      <td>2784.244515</td>\n",
       "      <td>5</td>\n",
       "      <td>0.1</td>\n",
       "      <td>2.5</td>\n",
       "      <td>Perc</td>\n",
       "      <td>normal</td>\n",
       "      <td>0.02</td>\n",
       "      <td>Abs</td>\n",
       "      <td>normal</td>\n",
       "    </tr>\n",
       "  </tbody>\n",
       "</table>\n",
       "</div>"
      ],
      "text/plain": [
       "   CO2_eq_melt_ppm_MC  CO2_eq_melt_ppm_noMC  vol_perc_bub_with_noise  \\\n",
       "0         3367.800453           1851.851852                 8.101532   \n",
       "\n",
       "   CO2_bub_dens_gcm3_with_noise  melt_dens_kgm3_with_noise  vol_perc_bub  \\\n",
       "0                      0.115741                2784.244515             5   \n",
       "\n",
       "   CO2_bub_dens_gcm3  Absolute_error_Vol error_type_vol_perc_bub  \\\n",
       "0                0.1                 2.5                    Perc   \n",
       "\n",
       "  error_dist_Vol  error_CO2_bub_dens_gcm3 error_type_CO2_bub_dens_gcm3  \\\n",
       "0         normal                     0.02                          Abs   \n",
       "\n",
       "  error_dist_CO2_bub_dens_gcm3  \n",
       "0                       normal  "
      ]
     },
     "execution_count": 12,
     "metadata": {},
     "output_type": "execute_result"
    }
   ],
   "source": [
    "bub=pf.propagate_CO2_in_bubble_ind(sample_i=0,  N_dup=1, \n",
    "vol_perc_bub=5,\n",
    "error_vol_perc_bub=50, error_type_vol_perc_bub='Perc',\n",
    "error_dist_vol_perc_bub='normal',\n",
    "CO2_bub_dens_gcm3=0.1, error_CO2_bub_dens_gcm3=0.02, \n",
    "melt_dens_kgm3=2700, error_melt_dens_kgm3=200, \n",
    "len_loop=1, neg_values=True)\n",
    "bub"
   ]
  }
 ],
 "metadata": {
  "kernelspec": {
   "display_name": "base",
   "language": "python",
   "name": "python3"
  },
  "language_info": {
   "codemirror_mode": {
    "name": "ipython",
    "version": 3
   },
   "file_extension": ".py",
   "mimetype": "text/x-python",
   "name": "python",
   "nbconvert_exporter": "python",
   "pygments_lexer": "ipython3",
   "version": "3.11.5"
  }
 },
 "nbformat": 4,
 "nbformat_minor": 2
}
